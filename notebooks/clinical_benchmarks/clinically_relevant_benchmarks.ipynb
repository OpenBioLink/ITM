{
 "cells": [
  {
   "cell_type": "markdown",
   "metadata": {},
   "source": [
    "# Summary statistics of clinically relevant benchmarks (19.05.2021)"
   ]
  },
  {
   "cell_type": "code",
   "execution_count": 127,
   "metadata": {},
   "outputs": [],
   "source": [
    "import pandas as pd\n",
    "import seaborn as sns\n",
    "%matplotlib inline"
   ]
  },
  {
   "cell_type": "code",
   "execution_count": 128,
   "metadata": {},
   "outputs": [],
   "source": [
    "DATASETS = 'overall_unique_datasets_19-05-2021.csv'"
   ]
  },
  {
   "cell_type": "code",
   "execution_count": 129,
   "metadata": {},
   "outputs": [
    {
     "data": {
      "text/html": [
       "<div>\n",
       "<style scoped>\n",
       "    .dataframe tbody tr th:only-of-type {\n",
       "        vertical-align: middle;\n",
       "    }\n",
       "\n",
       "    .dataframe tbody tr th {\n",
       "        vertical-align: top;\n",
       "    }\n",
       "\n",
       "    .dataframe thead th {\n",
       "        text-align: right;\n",
       "    }\n",
       "</style>\n",
       "<table border=\"1\" class=\"dataframe\">\n",
       "  <thead>\n",
       "    <tr style=\"text-align: right;\">\n",
       "      <th></th>\n",
       "      <th>Name (or description if no name available)</th>\n",
       "      <th>Task</th>\n",
       "      <th>Mapped task</th>\n",
       "      <th>Id(s) of mapped task</th>\n",
       "      <th>Data basis</th>\n",
       "      <th>Has evaluation criteria?</th>\n",
       "      <th>Metrics</th>\n",
       "      <th>Data splits</th>\n",
       "      <th>Accessibility</th>\n",
       "      <th>Data license</th>\n",
       "      <th>...</th>\n",
       "      <th>Clinical relevance</th>\n",
       "      <th>Primary target group of task</th>\n",
       "      <th>Link: Source publication(s)</th>\n",
       "      <th>Link: Main reference</th>\n",
       "      <th>Link: Dataset</th>\n",
       "      <th>First time published</th>\n",
       "      <th>Language</th>\n",
       "      <th>Comment</th>\n",
       "      <th>Normalised task</th>\n",
       "      <th>Aliases\\r</th>\n",
       "    </tr>\n",
       "  </thead>\n",
       "  <tbody>\n",
       "    <tr>\n",
       "      <td>0</td>\n",
       "      <td>Heart Disease Data Set</td>\n",
       "      <td>Classification of Coronary Artery Disease</td>\n",
       "      <td>Image classification</td>\n",
       "      <td>https://identifiers.org/ito:ITO_01160</td>\n",
       "      <td>Clinical notes / EHR data</td>\n",
       "      <td>Yes</td>\n",
       "      <td>Not described</td>\n",
       "      <td>No</td>\n",
       "      <td>Public</td>\n",
       "      <td>Not stated</td>\n",
       "      <td>...</td>\n",
       "      <td>NaN</td>\n",
       "      <td>NaN</td>\n",
       "      <td>http://arxiv.org/abs/1812.02828v1</td>\n",
       "      <td>https://archive.ics.uci.edu/ml/datasets/Heart+...</td>\n",
       "      <td>NaN</td>\n",
       "      <td>NaN</td>\n",
       "      <td>English</td>\n",
       "      <td>NaN</td>\n",
       "      <td>NaN</td>\n",
       "      <td>\\r</td>\n",
       "    </tr>\n",
       "    <tr>\n",
       "      <td>1</td>\n",
       "      <td>\"Clinical data set\": contains three corpora: p...</td>\n",
       "      <td>Classifying documents as relevant or irrelevan...</td>\n",
       "      <td>Text Classification</td>\n",
       "      <td>https://identifiers.org/ito:ITO_01150</td>\n",
       "      <td>Biomedical scientfic literature</td>\n",
       "      <td>Yes</td>\n",
       "      <td>Certainty, Uncertainty, AUC,</td>\n",
       "      <td>No</td>\n",
       "      <td>On request</td>\n",
       "      <td>Not stated</td>\n",
       "      <td>...</td>\n",
       "      <td>Not relevant</td>\n",
       "      <td>NaN</td>\n",
       "      <td>https://pubmed.ncbi.nlm.nih.gov/24954015</td>\n",
       "      <td>NaN</td>\n",
       "      <td>NaN</td>\n",
       "      <td>NaN</td>\n",
       "      <td>English</td>\n",
       "      <td>NaN</td>\n",
       "      <td>NaN</td>\n",
       "      <td>\\r</td>\n",
       "    </tr>\n",
       "    <tr>\n",
       "      <td>2</td>\n",
       "      <td>Arizona Disease Corpus (AZDC)</td>\n",
       "      <td>Information extraction</td>\n",
       "      <td>Information Extraction</td>\n",
       "      <td>https://identifiers.org/ito:ITO_00705</td>\n",
       "      <td>Biomedical scientfic literature</td>\n",
       "      <td>Yes</td>\n",
       "      <td>Not described</td>\n",
       "      <td>Not described</td>\n",
       "      <td>Public</td>\n",
       "      <td>Not stated</td>\n",
       "      <td>...</td>\n",
       "      <td>Indirectly</td>\n",
       "      <td>NaN</td>\n",
       "      <td>https://pubmed.ncbi.nlm.nih.gov/25817970</td>\n",
       "      <td>http://diego.asu.edu/index.php?downloads=yes</td>\n",
       "      <td>NaN</td>\n",
       "      <td>2009.0</td>\n",
       "      <td>English</td>\n",
       "      <td>NaN</td>\n",
       "      <td>NaN</td>\n",
       "      <td>\\r</td>\n",
       "    </tr>\n",
       "    <tr>\n",
       "      <td>3</td>\n",
       "      <td>20 disease articles of twitter data</td>\n",
       "      <td>Not applicable</td>\n",
       "      <td>NaN</td>\n",
       "      <td>NaN</td>\n",
       "      <td>Social media data</td>\n",
       "      <td>No</td>\n",
       "      <td>Not applicable</td>\n",
       "      <td>No</td>\n",
       "      <td>Unknown</td>\n",
       "      <td>NaN</td>\n",
       "      <td>...</td>\n",
       "      <td>NaN</td>\n",
       "      <td>NaN</td>\n",
       "      <td>https://arxiv.org/abs/1711.04305</td>\n",
       "      <td>NaN</td>\n",
       "      <td>NaN</td>\n",
       "      <td>NaN</td>\n",
       "      <td>English</td>\n",
       "      <td>NaN</td>\n",
       "      <td>NaN</td>\n",
       "      <td>\\r</td>\n",
       "    </tr>\n",
       "    <tr>\n",
       "      <td>4</td>\n",
       "      <td>2011 MetaMapped Medline Baseline</td>\n",
       "      <td>Not applicable</td>\n",
       "      <td>NaN</td>\n",
       "      <td>NaN</td>\n",
       "      <td>Biomedical scientfic literature</td>\n",
       "      <td>No</td>\n",
       "      <td>Not applicable</td>\n",
       "      <td>No</td>\n",
       "      <td>Unknown</td>\n",
       "      <td>NaN</td>\n",
       "      <td>...</td>\n",
       "      <td>NaN</td>\n",
       "      <td>NaN</td>\n",
       "      <td>https://pubmed.ncbi.nlm.nih.gov/22195220</td>\n",
       "      <td>NaN</td>\n",
       "      <td>NaN</td>\n",
       "      <td>NaN</td>\n",
       "      <td>English</td>\n",
       "      <td>NaN</td>\n",
       "      <td>NaN</td>\n",
       "      <td>\\r</td>\n",
       "    </tr>\n",
       "  </tbody>\n",
       "</table>\n",
       "<p>5 rows × 23 columns</p>\n",
       "</div>"
      ],
      "text/plain": [
       "          Name (or description if no name available)  \\\n",
       "0                             Heart Disease Data Set   \n",
       "1  \"Clinical data set\": contains three corpora: p...   \n",
       "2                      Arizona Disease Corpus (AZDC)   \n",
       "3                20 disease articles of twitter data   \n",
       "4                   2011 MetaMapped Medline Baseline   \n",
       "\n",
       "                                                Task             Mapped task  \\\n",
       "0          Classification of Coronary Artery Disease    Image classification   \n",
       "1  Classifying documents as relevant or irrelevan...     Text Classification   \n",
       "2                             Information extraction  Information Extraction   \n",
       "3                                     Not applicable                     NaN   \n",
       "4                                     Not applicable                     NaN   \n",
       "\n",
       "                    Id(s) of mapped task                       Data basis  \\\n",
       "0  https://identifiers.org/ito:ITO_01160        Clinical notes / EHR data   \n",
       "1  https://identifiers.org/ito:ITO_01150  Biomedical scientfic literature   \n",
       "2  https://identifiers.org/ito:ITO_00705  Biomedical scientfic literature   \n",
       "3                                    NaN                Social media data   \n",
       "4                                    NaN  Biomedical scientfic literature   \n",
       "\n",
       "  Has evaluation criteria?                       Metrics    Data splits  \\\n",
       "0                      Yes                 Not described             No   \n",
       "1                      Yes  Certainty, Uncertainty, AUC,             No   \n",
       "2                      Yes                 Not described  Not described   \n",
       "3                       No                Not applicable             No   \n",
       "4                       No                Not applicable             No   \n",
       "\n",
       "  Accessibility Data license  ... Clinical relevance  \\\n",
       "0        Public   Not stated  ...                NaN   \n",
       "1    On request   Not stated  ...       Not relevant   \n",
       "2        Public   Not stated  ...         Indirectly   \n",
       "3       Unknown          NaN  ...                NaN   \n",
       "4       Unknown          NaN  ...                NaN   \n",
       "\n",
       "  Primary target group of task               Link: Source publication(s)  \\\n",
       "0                          NaN         http://arxiv.org/abs/1812.02828v1   \n",
       "1                          NaN  https://pubmed.ncbi.nlm.nih.gov/24954015   \n",
       "2                          NaN  https://pubmed.ncbi.nlm.nih.gov/25817970   \n",
       "3                          NaN          https://arxiv.org/abs/1711.04305   \n",
       "4                          NaN  https://pubmed.ncbi.nlm.nih.gov/22195220   \n",
       "\n",
       "                                Link: Main reference Link: Dataset  \\\n",
       "0  https://archive.ics.uci.edu/ml/datasets/Heart+...           NaN   \n",
       "1                                                NaN           NaN   \n",
       "2       http://diego.asu.edu/index.php?downloads=yes           NaN   \n",
       "3                                                NaN           NaN   \n",
       "4                                                NaN           NaN   \n",
       "\n",
       "  First time published Language Comment  Normalised task Aliases\\r  \n",
       "0                  NaN  English     NaN              NaN        \\r  \n",
       "1                  NaN  English     NaN              NaN        \\r  \n",
       "2               2009.0  English     NaN              NaN        \\r  \n",
       "3                  NaN  English     NaN              NaN        \\r  \n",
       "4                  NaN  English     NaN              NaN        \\r  \n",
       "\n",
       "[5 rows x 23 columns]"
      ]
     },
     "execution_count": 129,
     "metadata": {},
     "output_type": "execute_result"
    }
   ],
   "source": [
    "datasets_df = pd.read_csv(DATASETS,  lineterminator='\\n')\n",
    "datasets_df.head()"
   ]
  },
  {
   "cell_type": "markdown",
   "metadata": {},
   "source": [
    "### Total number of datasets"
   ]
  },
  {
   "cell_type": "code",
   "execution_count": 130,
   "metadata": {},
   "outputs": [
    {
     "name": "stdout",
     "output_type": "stream",
     "text": [
      "Total number of datasets: 472\n"
     ]
    }
   ],
   "source": [
    "print('Total number of datasets: {0}'.format(datasets_df.shape[0]))"
   ]
  },
  {
   "cell_type": "markdown",
   "metadata": {},
   "source": [
    "### Total clinical relevance"
   ]
  },
  {
   "cell_type": "code",
   "execution_count": 131,
   "metadata": {
    "scrolled": true
   },
   "outputs": [
    {
     "data": {
      "text/plain": [
       "<matplotlib.axes._subplots.AxesSubplot at 0x1df18723320>"
      ]
     },
     "execution_count": 131,
     "metadata": {},
     "output_type": "execute_result"
    },
    {
     "data": {
      "image/png": "[encoded data removed]",
      "text/plain": [
       "<matplotlib.figure.Figure at 0x1df186b5b38>"
      ]
     },
     "metadata": {},
     "output_type": "display_data"
    }
   ],
   "source": [
    "datasets_df['Clinical relevance'].value_counts().plot.barh(title='Clinical relevance', figsize=(4,2))"
   ]
  },
  {
   "cell_type": "markdown",
   "metadata": {},
   "source": [
    "### Only benchmarks (= publicly available and has evaluation criteria)"
   ]
  },
  {
   "cell_type": "code",
   "execution_count": 132,
   "metadata": {},
   "outputs": [],
   "source": [
    "# Filter for evaluation criteria\n",
    "benchmarks_df = datasets_df[datasets_df['Has evaluation criteria?']!='No']\n",
    "# Filter for availabiluity\n",
    "benchmarks_df = benchmarks_df[benchmarks_df['Accessibility']!='Unknown']\n",
    "benchmarks_df = benchmarks_df[benchmarks_df['Accessibility']!='Not available']"
   ]
  },
  {
   "cell_type": "code",
   "execution_count": 133,
   "metadata": {},
   "outputs": [
    {
     "data": {
      "text/plain": [
       "<matplotlib.axes._subplots.AxesSubplot at 0x1df187654e0>"
      ]
     },
     "execution_count": 133,
     "metadata": {},
     "output_type": "execute_result"
    },
    {
     "data": {
      "image/png": "[encoded data removed]",
      "text/plain": [
       "<matplotlib.figure.Figure at 0x1df1857c588>"
      ]
     },
     "metadata": {},
     "output_type": "display_data"
    }
   ],
   "source": [
    "benchmarks_df['Clinical relevance'].value_counts().plot.barh(title='Clinical relevance', figsize=(4,2))"
   ]
  },
  {
   "cell_type": "markdown",
   "metadata": {},
   "source": [
    "### Top 10 tasks of directly relevant benchmarks"
   ]
  },
  {
   "cell_type": "code",
   "execution_count": 142,
   "metadata": {},
   "outputs": [
    {
     "data": {
      "image/png": "[encoded data removed]",
      "text/plain": [
       "<matplotlib.figure.Figure at 0x1df18943208>"
      ]
     },
     "metadata": {},
     "output_type": "display_data"
    }
   ],
   "source": [
    "directly_relevant_df = benchmarks_df.loc[benchmark_df['Clinical relevance'] == 'Directly']\n",
    "tasks_directly_relevant = directly_relevant_df['Mapped task'].value_counts().sort_values()[-10:].plot.barh(figsize=(5,3)) \n",
    "\n",
    "tasks_directly_relevant.figure.savefig('tasks_directly_relevant.png', bbox_inches='tight', dpi=300)"
   ]
  },
  {
   "cell_type": "markdown",
   "metadata": {},
   "source": [
    "### Top 10 tasks of indirectly relevant benchmarks"
   ]
  },
  {
   "cell_type": "code",
   "execution_count": 145,
   "metadata": {},
   "outputs": [
    {
     "data": {
      "image/png": "[encoded data removed]",
      "text/plain": [
       "<matplotlib.figure.Figure at 0x1df18ac9390>"
      ]
     },
     "metadata": {},
     "output_type": "display_data"
    }
   ],
   "source": [
    "indirectly_relevant_df = benchmarks_df.loc[benchmark_df['Clinical relevance'] == 'Indirectly']\n",
    "tasks_indirectly_relevant = indirectly_relevant_df['Mapped task'].value_counts().sort_values()[-10:].plot.barh(figsize=(5,3))\n",
    "\n",
    "tasks_indirectly_relevant.figure.savefig('tasks_indirectly_relevant.png', bbox_inches='tight', dpi=300)"
   ]
  },
  {
   "cell_type": "markdown",
   "metadata": {},
   "source": [
    "### Source data type"
   ]
  },
  {
   "cell_type": "code",
   "execution_count": 136,
   "metadata": {
    "scrolled": true
   },
   "outputs": [
    {
     "data": {
      "image/png": "[encoded data removed]",
      "text/plain": [
       "<matplotlib.figure.Figure at 0x1df18508ac8>"
      ]
     },
     "metadata": {},
     "output_type": "display_data"
    }
   ],
   "source": [
    "benchmarks_df['Data basis'] = benchmarks_df['Data basis'].str.split(';', expand=True)\n",
    "df = pd.get_dummies(benchmarks_df['Data basis']).sum()\n",
    "\n",
    "df = df.sort_values()[-10:]\n",
    "source_data_types_plot = df.plot.barh(width=0.3, figsize=(5,3), title='Top 10 source data types')\n",
    "source_data_types_plot.figure.savefig('source_data_types_plot.jpg', bbox_inches='tight', dpi=300)"
   ]
  },
  {
   "cell_type": "code",
   "execution_count": 137,
   "metadata": {
    "scrolled": false
   },
   "outputs": [
    {
     "data": {
      "text/plain": [
       "Indirectly      108\n",
       "Not relevant     67\n",
       "Directly         12\n",
       "Name: Clinical relevance, dtype: int64"
      ]
     },
     "execution_count": 137,
     "metadata": {},
     "output_type": "execute_result"
    }
   ],
   "source": [
    "datasets_df['Clinical relevance'].value_counts()\n",
    "benchmarks_df['Clinical relevance'].value_counts()"
   ]
  },
  {
   "cell_type": "code",
   "execution_count": 138,
   "metadata": {},
   "outputs": [
    {
     "data": {
      "text/plain": [
       "Indirectly      99\n",
       "Not relevant    27\n",
       "Directly         8\n",
       "Name: Clinical relevance, dtype: int64"
      ]
     },
     "execution_count": 138,
     "metadata": {},
     "output_type": "execute_result"
    }
   ],
   "source": [
    "# Non-benchmarks\n",
    "non_benchmarks_df = datasets_df.loc[(datasets_df['Has evaluation criteria?']=='No') | \n",
    "                       (datasets_df['Accessibility']=='Unknown') |      \n",
    "                        (datasets_df['Accessibility']=='Not available')]\n",
    "non_benchmarks_df['Clinical relevance'].value_counts()\n"
   ]
  },
  {
   "cell_type": "code",
   "execution_count": 139,
   "metadata": {},
   "outputs": [
    {
     "name": "stdout",
     "output_type": "stream",
     "text": [
      "                                Non-benchmark datasets  Benchmarks\n",
      "Indirectly clinically relevant                      99         108\n",
      "Not clinically relevant                             27          67\n",
      "Directly clinically relevant                         8          12\n"
     ]
    },
    {
     "data": {
      "image/png": "[encoded data removed]",
      "text/plain": [
       "<matplotlib.figure.Figure at 0x1df188c60f0>"
      ]
     },
     "metadata": {},
     "output_type": "display_data"
    }
   ],
   "source": [
    "overview_df = pd.concat([non_benchmarks_df['Clinical relevance'].value_counts(), benchmarks_df['Clinical relevance'].value_counts()],  axis=1, keys=['Non-benchmark datasets', 'Benchmarks'])\n",
    "overview_df.index = ['Indirectly clinically relevant', 'Not clinically relevant', 'Directly clinically relevant']\n",
    "print(overview_df)\n",
    "overview_fig = overview_df.plot.barh(stacked=True, figsize=(5,3), color=['#337AB7', '#69a0cf'])\n",
    "overview_fig.figure.savefig('overview_df.png', bbox_inches='tight', dpi=300)"
   ]
  }
 ],
 "metadata": {
  "kernelspec": {
   "display_name": "Python 3",
   "language": "python",
   "name": "python3"
  },
  "language_info": {
   "codemirror_mode": {
    "name": "ipython",
    "version": 3
   },
   "file_extension": ".py",
   "mimetype": "text/x-python",
   "name": "python",
   "nbconvert_exporter": "python",
   "pygments_lexer": "ipython3",
   "version": "3.6.3"
  }
 },
 "nbformat": 4,
 "nbformat_minor": 2
}
