{
 "cells": [
  {
   "cell_type": "markdown",
   "metadata": {
    "id": "IuUifsm9P7ZS"
   },
   "source": [
    "\n",
    "\n",
    "##  Time series clusters identified by SOM across all benchmark datasets\n",
    "\n",
    "This notebook calculates the time seies clustering for the benchmarks of NLP and CVP.\n",
    "\n",
    "It used the elapsed time from the anchor and the normalized length of the time series across datasets.\n",
    "\n",
    "The values ploted refers to the percentage of SOTA for a selected metric (Accuracy)."
   ]
  },
  {
   "cell_type": "code",
   "execution_count": null,
   "metadata": {
    "id": "RFoDjrGljhvx"
   },
   "outputs": [],
   "source": [
    "#Press Control + F9 to run all chunks!"
   ]
  },
  {
   "cell_type": "markdown",
   "metadata": {
    "id": "AsRIhOm78Nci"
   },
   "source": [
    "## Install and load required modules. Download datasets to local environment.\n",
    "(Runtime: 20s)"
   ]
  },
  {
   "cell_type": "code",
   "execution_count": 1,
   "metadata": {
    "colab": {
     "base_uri": "https://localhost:8080/",
     "height": 967
    },
    "id": "xr1qCHgujp7L",
    "outputId": "c97472a8-145b-4470-96a8-340db515d607"
   },
   "outputs": [
    {
     "name": "stdout",
     "output_type": "stream",
     "text": [
      "Collecting gdown\n",
      "  Downloading gdown-4.4.0.tar.gz (14 kB)\n",
      "  Installing build dependencies: started\n",
      "  Installing build dependencies: finished with status 'done'\n",
      "  Getting requirements to build wheel: started\n",
      "  Getting requirements to build wheel: finished with status 'done'\n",
      "  Preparing metadata (pyproject.toml): started\n",
      "  Preparing metadata (pyproject.toml): finished with status 'done'\n",
      "Requirement already satisfied: beautifulsoup4 in c:\\users\\ottsi\\appdata\\local\\programs\\python\\python37\\lib\\site-packages (from gdown) (4.11.1)\n",
      "Requirement already satisfied: six in c:\\users\\ottsi\\appdata\\local\\programs\\python\\python37\\lib\\site-packages (from gdown) (1.15.0)\n",
      "Requirement already satisfied: filelock in c:\\users\\ottsi\\appdata\\local\\programs\\python\\python37\\lib\\site-packages (from gdown) (3.5.0)\n",
      "Requirement already satisfied: tqdm in c:\\users\\ottsi\\appdata\\local\\programs\\python\\python37\\lib\\site-packages (from gdown) (4.63.1)\n",
      "Requirement already satisfied: requests[socks] in c:\\users\\ottsi\\appdata\\local\\programs\\python\\python37\\lib\\site-packages (from gdown) (2.25.1)\n",
      "Requirement already satisfied: soupsieve>1.2 in c:\\users\\ottsi\\appdata\\local\\programs\\python\\python37\\lib\\site-packages (from beautifulsoup4->gdown) (2.3.2.post1)\n",
      "Requirement already satisfied: certifi>=2017.4.17 in c:\\users\\ottsi\\appdata\\local\\programs\\python\\python37\\lib\\site-packages (from requests[socks]->gdown) (2021.5.30)\n",
      "Requirement already satisfied: urllib3<1.27,>=1.21.1 in c:\\users\\ottsi\\appdata\\local\\programs\\python\\python37\\lib\\site-packages (from requests[socks]->gdown) (1.26.5)\n",
      "Requirement already satisfied: idna<3,>=2.5 in c:\\users\\ottsi\\appdata\\local\\programs\\python\\python37\\lib\\site-packages (from requests[socks]->gdown) (2.10)\n",
      "Requirement already satisfied: chardet<5,>=3.0.2 in c:\\users\\ottsi\\appdata\\local\\programs\\python\\python37\\lib\\site-packages (from requests[socks]->gdown) (4.0.0)\n",
      "Collecting PySocks!=1.5.7,>=1.5.6\n",
      "  Downloading PySocks-1.7.1-py3-none-any.whl (16 kB)\n",
      "Requirement already satisfied: colorama in c:\\users\\ottsi\\appdata\\roaming\\python\\python37\\site-packages (from tqdm->gdown) (0.4.4)\n",
      "Building wheels for collected packages: gdown\n",
      "  Building wheel for gdown (pyproject.toml): started\n",
      "  Building wheel for gdown (pyproject.toml): finished with status 'done'\n",
      "  Created wheel for gdown: filename=gdown-4.4.0-py3-none-any.whl size=14759 sha256=8e14f9e10c8a7f5d759b6f597d09f3dda24d85c331cfda26801d4ca8f9263892\n",
      "  Stored in directory: c:\\users\\ottsi\\appdata\\local\\pip\\cache\\wheels\\fb\\c3\\0e\\c4d8ff8bfcb0461afff199471449f642179b74968c15b7a69c\n",
      "Successfully built gdown\n",
      "Installing collected packages: PySocks, gdown\n",
      "Successfully installed PySocks-1.7.1 gdown-4.4.0\n"
     ]
    },
    {
     "name": "stderr",
     "output_type": "stream",
     "text": [
      "WARNING: Ignoring invalid distribution -ywin32 (c:\\users\\ottsi\\appdata\\roaming\\python\\python37\\site-packages)\n",
      "WARNING: Ignoring invalid distribution -ywin32 (c:\\users\\ottsi\\appdata\\roaming\\python\\python37\\site-packages)\n",
      "WARNING: Ignoring invalid distribution -ywin32 (c:\\users\\ottsi\\appdata\\roaming\\python\\python37\\site-packages)\n",
      "WARNING: Ignoring invalid distribution -ywin32 (c:\\users\\ottsi\\appdata\\roaming\\python\\python37\\site-packages)\n",
      "WARNING: Ignoring invalid distribution -ywin32 (c:\\users\\ottsi\\appdata\\roaming\\python\\python37\\site-packages)\n",
      "WARNING: Ignoring invalid distribution -ywin32 (c:\\users\\ottsi\\appdata\\roaming\\python\\python37\\site-packages)\n",
      "WARNING: You are using pip version 22.0.4; however, version 22.1.2 is available.\n",
      "You should consider upgrading via the 'c:\\users\\ottsi\\appdata\\local\\programs\\python\\python37\\python.exe -m pip install --upgrade pip' command.\n"
     ]
    },
    {
     "name": "stdout",
     "output_type": "stream",
     "text": [
      "Requirement already satisfied: pandas in c:\\users\\ottsi\\appdata\\local\\programs\\python\\python37\\lib\\site-packages (1.3.3)\n",
      "Requirement already satisfied: pytz>=2017.3 in c:\\users\\ottsi\\appdata\\local\\programs\\python\\python37\\lib\\site-packages (from pandas) (2021.3)\n",
      "Requirement already satisfied: numpy>=1.17.3 in c:\\users\\ottsi\\appdata\\local\\programs\\python\\python37\\lib\\site-packages (from pandas) (1.21.2)\n",
      "Requirement already satisfied: python-dateutil>=2.7.3 in c:\\users\\ottsi\\appdata\\local\\programs\\python\\python37\\lib\\site-packages (from pandas) (2.8.2)\n",
      "Requirement already satisfied: six>=1.5 in c:\\users\\ottsi\\appdata\\local\\programs\\python\\python37\\lib\\site-packages (from python-dateutil>=2.7.3->pandas) (1.15.0)\n"
     ]
    },
    {
     "name": "stderr",
     "output_type": "stream",
     "text": [
      "WARNING: Ignoring invalid distribution -ywin32 (c:\\users\\ottsi\\appdata\\roaming\\python\\python37\\site-packages)\n",
      "WARNING: Ignoring invalid distribution -ywin32 (c:\\users\\ottsi\\appdata\\roaming\\python\\python37\\site-packages)\n",
      "WARNING: Ignoring invalid distribution -ywin32 (c:\\users\\ottsi\\appdata\\roaming\\python\\python37\\site-packages)\n",
      "WARNING: Ignoring invalid distribution -ywin32 (c:\\users\\ottsi\\appdata\\roaming\\python\\python37\\site-packages)\n",
      "WARNING: Ignoring invalid distribution -ywin32 (c:\\users\\ottsi\\appdata\\roaming\\python\\python37\\site-packages)\n",
      "WARNING: Ignoring invalid distribution -ywin32 (c:\\users\\ottsi\\appdata\\roaming\\python\\python37\\site-packages)\n",
      "WARNING: You are using pip version 22.0.4; however, version 22.1.2 is available.\n",
      "You should consider upgrading via the 'c:\\users\\ottsi\\appdata\\local\\programs\\python\\python37\\python.exe -m pip install --upgrade pip' command.\n"
     ]
    },
    {
     "name": "stdout",
     "output_type": "stream",
     "text": [
      "Requirement already satisfied: numpy in c:\\users\\ottsi\\appdata\\local\\programs\\python\\python37\\lib\\site-packages (1.21.2)\n"
     ]
    },
    {
     "name": "stderr",
     "output_type": "stream",
     "text": [
      "WARNING: Ignoring invalid distribution -ywin32 (c:\\users\\ottsi\\appdata\\roaming\\python\\python37\\site-packages)\n",
      "WARNING: Ignoring invalid distribution -ywin32 (c:\\users\\ottsi\\appdata\\roaming\\python\\python37\\site-packages)\n",
      "WARNING: Ignoring invalid distribution -ywin32 (c:\\users\\ottsi\\appdata\\roaming\\python\\python37\\site-packages)\n",
      "WARNING: Ignoring invalid distribution -ywin32 (c:\\users\\ottsi\\appdata\\roaming\\python\\python37\\site-packages)\n",
      "WARNING: Ignoring invalid distribution -ywin32 (c:\\users\\ottsi\\appdata\\roaming\\python\\python37\\site-packages)\n",
      "WARNING: Ignoring invalid distribution -ywin32 (c:\\users\\ottsi\\appdata\\roaming\\python\\python37\\site-packages)\n",
      "WARNING: You are using pip version 22.0.4; however, version 22.1.2 is available.\n",
      "You should consider upgrading via the 'c:\\users\\ottsi\\appdata\\local\\programs\\python\\python37\\python.exe -m pip install --upgrade pip' command.\n"
     ]
    },
    {
     "name": "stdout",
     "output_type": "stream",
     "text": [
      "Requirement already satisfied: matplotlib in c:\\users\\ottsi\\appdata\\local\\programs\\python\\python37\\lib\\site-packages (3.4.2)\n",
      "Requirement already satisfied: pillow>=6.2.0 in c:\\users\\ottsi\\appdata\\local\\programs\\python\\python37\\lib\\site-packages (from matplotlib) (8.2.0)\n",
      "Requirement already satisfied: cycler>=0.10 in c:\\users\\ottsi\\appdata\\local\\programs\\python\\python37\\lib\\site-packages (from matplotlib) (0.10.0)"
     ]
    },
    {
     "name": "stderr",
     "output_type": "stream",
     "text": [
      "WARNING: Ignoring invalid distribution -ywin32 (c:\\users\\ottsi\\appdata\\roaming\\python\\python37\\site-packages)\n",
      "WARNING: Ignoring invalid distribution -ywin32 (c:\\users\\ottsi\\appdata\\roaming\\python\\python37\\site-packages)\n",
      "WARNING: Ignoring invalid distribution -ywin32 (c:\\users\\ottsi\\appdata\\roaming\\python\\python37\\site-packages)\n",
      "WARNING: Ignoring invalid distribution -ywin32 (c:\\users\\ottsi\\appdata\\roaming\\python\\python37\\site-packages)\n",
      "WARNING: Ignoring invalid distribution -ywin32 (c:\\users\\ottsi\\appdata\\roaming\\python\\python37\\site-packages)\n",
      "WARNING: Ignoring invalid distribution -ywin32 (c:\\users\\ottsi\\appdata\\roaming\\python\\python37\\site-packages)\n",
      "WARNING: You are using pip version 22.0.4; however, version 22.1.2 is available.\n",
      "You should consider upgrading via the 'c:\\users\\ottsi\\appdata\\local\\programs\\python\\python37\\python.exe -m pip install --upgrade pip' command.\n"
     ]
    },
    {
     "name": "stdout",
     "output_type": "stream",
     "text": [
      "\n",
      "Requirement already satisfied: kiwisolver>=1.0.1 in c:\\users\\ottsi\\appdata\\local\\programs\\python\\python37\\lib\\site-packages (from matplotlib) (1.3.1)\n",
      "Requirement already satisfied: numpy>=1.16 in c:\\users\\ottsi\\appdata\\local\\programs\\python\\python37\\lib\\site-packages (from matplotlib) (1.21.2)\n",
      "Requirement already satisfied: pyparsing>=2.2.1 in c:\\users\\ottsi\\appdata\\local\\programs\\python\\python37\\lib\\site-packages (from matplotlib) (2.4.7)\n",
      "Requirement already satisfied: python-dateutil>=2.7 in c:\\users\\ottsi\\appdata\\local\\programs\\python\\python37\\lib\\site-packages (from matplotlib) (2.8.2)\n",
      "Requirement already satisfied: six in c:\\users\\ottsi\\appdata\\local\\programs\\python\\python37\\lib\\site-packages (from cycler>=0.10->matplotlib) (1.15.0)\n",
      "Requirement already satisfied: plotly in c:\\users\\ottsi\\appdata\\local\\programs\\python\\python37\\lib\\site-packages (5.5.0)\n",
      "Requirement already satisfied: tenacity>=6.2.0 in c:\\users\\ottsi\\appdata\\local\\programs\\python\\python37\\lib\\site-packages (from plotly) (8.0.1)\n",
      "Requirement already satisfied: six in c:\\users\\ottsi\\appdata\\local\\programs\\python\\python37\\lib\\site-packages (from plotly) (1.15.0)\n"
     ]
    },
    {
     "name": "stderr",
     "output_type": "stream",
     "text": [
      "WARNING: Ignoring invalid distribution -ywin32 (c:\\users\\ottsi\\appdata\\roaming\\python\\python37\\site-packages)\n",
      "WARNING: Ignoring invalid distribution -ywin32 (c:\\users\\ottsi\\appdata\\roaming\\python\\python37\\site-packages)\n",
      "WARNING: Ignoring invalid distribution -ywin32 (c:\\users\\ottsi\\appdata\\roaming\\python\\python37\\site-packages)\n",
      "WARNING: Ignoring invalid distribution -ywin32 (c:\\users\\ottsi\\appdata\\roaming\\python\\python37\\site-packages)\n",
      "WARNING: Ignoring invalid distribution -ywin32 (c:\\users\\ottsi\\appdata\\roaming\\python\\python37\\site-packages)\n",
      "WARNING: Ignoring invalid distribution -ywin32 (c:\\users\\ottsi\\appdata\\roaming\\python\\python37\\site-packages)\n",
      "WARNING: You are using pip version 22.0.4; however, version 22.1.2 is available.\n",
      "You should consider upgrading via the 'c:\\users\\ottsi\\appdata\\local\\programs\\python\\python37\\python.exe -m pip install --upgrade pip' command.\n",
      "WARNING: Ignoring invalid distribution -ywin32 (c:\\users\\ottsi\\appdata\\roaming\\python\\python37\\site-packages)\n",
      "WARNING: Ignoring invalid distribution -ywin32 (c:\\users\\ottsi\\appdata\\roaming\\python\\python37\\site-packages)\n",
      "WARNING: Ignoring invalid distribution -ywin32 (c:\\users\\ottsi\\appdata\\roaming\\python\\python37\\site-packages)\n",
      "WARNING: Ignoring invalid distribution -ywin32 (c:\\users\\ottsi\\appdata\\roaming\\python\\python37\\site-packages)\n",
      "WARNING: Ignoring invalid distribution -ywin32 (c:\\users\\ottsi\\appdata\\roaming\\python\\python37\\site-packages)\n",
      "WARNING: Ignoring invalid distribution -ywin32 (c:\\users\\ottsi\\appdata\\roaming\\python\\python37\\site-packages)\n",
      "WARNING: You are using pip version 22.0.4; however, version 22.1.2 is available.\n",
      "You should consider upgrading via the 'c:\\users\\ottsi\\appdata\\local\\programs\\python\\python37\\python.exe -m pip install --upgrade pip' command.\n"
     ]
    },
    {
     "name": "stdout",
     "output_type": "stream",
     "text": [
      "Collecting minisom\n",
      "  Downloading MiniSom-2.3.0.tar.gz (8.8 kB)\n",
      "  Preparing metadata (setup.py): started\n",
      "  Preparing metadata (setup.py): finished with status 'done'\n",
      "Building wheels for collected packages: minisom\n",
      "  Building wheel for minisom (setup.py): started\n",
      "  Building wheel for minisom (setup.py): finished with status 'done'\n",
      "  Created wheel for minisom: filename=MiniSom-2.3.0-py3-none-any.whl size=9017 sha256=a42fb3b76b5e31ad4c9071c302965c324c21992a02e34e61df9c0156e9af7e0f\n",
      "  Stored in directory: c:\\users\\ottsi\\appdata\\local\\pip\\cache\\wheels\\d4\\ca\\4a\\488772b0399fec45ff53132ed14c948dec4b30deee3a532f80\n",
      "Successfully built minisom\n",
      "Installing collected packages: minisom\n",
      "Successfully installed minisom-2.3.0\n"
     ]
    },
    {
     "name": "stderr",
     "output_type": "stream",
     "text": [
      "Downloading...\n",
      "From: https://drive.google.com/uc?id=1l_HJTdkXNsVfGYRhoq-HgX5Altgrr5c0\n",
      "To: C:\\Users\\ottsi\\ITO\\notebooks\\barbosa-silva-etal-2022\\get_ratio_df_all_per_global_ITO_00101.csv\n",
      "100%|███████████████████████████████████████████████████████████████████████████████| 714k/714k [00:00<00:00, 7.37MB/s]\n",
      "Downloading...\n",
      "From: https://drive.google.com/uc?id=19uIjeF4ODFAv1RSMbG6uzpZmA6MJEw75\n",
      "To: C:\\Users\\ottsi\\ITO\\notebooks\\barbosa-silva-etal-2022\\get_ratio_df_all_per_global_ITO_00141.csv\n",
      "100%|███████████████████████████████████████████████████████████████████████████████| 252k/252k [00:00<00:00, 4.07MB/s]\n",
      "Downloading...\n",
      "From: https://drive.google.com/uc?id=1hVB6J4mt-RWsP1AJsqi6R30UyjzNtUuN\n",
      "To: C:\\Users\\ottsi\\ITO\\notebooks\\barbosa-silva-etal-2022\\trajectory_grouping_ITO_00101.csv\n",
      "100%|█████████████████████████████████████████████████████████████████████████████| 22.6k/22.6k [00:00<00:00, 2.52MB/s]\n",
      "Downloading...\n",
      "From: https://drive.google.com/uc?id=1KFd4W69i0ck1mrZCWgvjE5klp-v8M2Vm\n",
      "To: C:\\Users\\ottsi\\ITO\\notebooks\\barbosa-silva-etal-2022\\trajectory_grouping_ITO_00141.csv\n",
      "100%|█████████████████████████████████████████████████████████████████████████████████████| 9.37k/9.37k [00:00<?, ?B/s]\n",
      "Downloading...\n",
      "From: https://drive.google.com/uc?id=1A35O8N-Q1-BqxZhJlccIqa45UHjwGE__\n",
      "To: C:\\Users\\ottsi\\ITO\\notebooks\\barbosa-silva-etal-2022\\df_for_traj_clustering.csv\n",
      "100%|███████████████████████████████████████████████████████████████████████████████| 528k/528k [00:00<00:00, 6.27MB/s]\n"
     ]
    },
    {
     "data": {
      "text/plain": [
       "'df_for_traj_clustering.csv'"
      ]
     },
     "execution_count": 1,
     "metadata": {},
     "output_type": "execute_result"
    }
   ],
   "source": [
    "#Install modules\n",
    "!pip install gdown\n",
    "!pip install pandas\n",
    "!pip install numpy\n",
    "!pip install matplotlib\n",
    "!pip install plotly\n",
    "\n",
    "!pip install minisom\n",
    "from minisom import MiniSom\n",
    "\n",
    "\n",
    "#Import modules\n",
    "import os\n",
    "import pandas as pd\n",
    "import numpy as np\n",
    "import matplotlib.pyplot as plt\n",
    "import matplotlib as matplotlib\n",
    "from matplotlib.ticker import ScalarFormatter\n",
    "import plotly.express as px\n",
    "import re\n",
    "import gdown\n",
    "import plotly.graph_objects as go\n",
    "\n",
    "\n",
    "%matplotlib inline\n",
    "\n",
    "#Dowload input files from my Google Drive to local environment.\n",
    "file_id=\"1l_HJTdkXNsVfGYRhoq-HgX5Altgrr5c0\"\n",
    "url = 'https://drive.google.com/uc?id=' + file_id\n",
    "output = 'get_ratio_df_all_per_global_ITO_00101.csv'\n",
    "gdown.download(url, output, quiet=False)\n",
    "#\n",
    "file_id=\"19uIjeF4ODFAv1RSMbG6uzpZmA6MJEw75\"\n",
    "url = 'https://drive.google.com/uc?id=' + file_id\n",
    "output = 'get_ratio_df_all_per_global_ITO_00141.csv'\n",
    "gdown.download(url, output, quiet=False)\n",
    "#\n",
    "file_id=\"1hVB6J4mt-RWsP1AJsqi6R30UyjzNtUuN\"\n",
    "url = 'https://drive.google.com/uc?id=' + file_id\n",
    "output = 'trajectory_grouping_ITO_00101.csv'\n",
    "gdown.download(url, output, quiet=False)\n",
    "#\n",
    "file_id=\"1KFd4W69i0ck1mrZCWgvjE5klp-v8M2Vm\"\n",
    "url = 'https://drive.google.com/uc?id=' + file_id\n",
    "output = 'trajectory_grouping_ITO_00141.csv'\n",
    "gdown.download(url, output, quiet=False)\n",
    "\n",
    "#\n",
    "file_id=\"1A35O8N-Q1-BqxZhJlccIqa45UHjwGE__\"\n",
    "url = 'https://drive.google.com/uc?id=' + file_id\n",
    "output = 'df_for_traj_clustering.csv'\n",
    "gdown.download(url, output, quiet=False)\n",
    "\n"
   ]
  },
  {
   "cell_type": "markdown",
   "metadata": {
    "id": "KXt59vUe79uL"
   },
   "source": [
    "## Prepare data for SOM clustering.\n",
    "(Runtime: 30s)"
   ]
  },
  {
   "cell_type": "code",
   "execution_count": 8,
   "metadata": {
    "colab": {
     "base_uri": "https://localhost:8080/"
    },
    "id": "sZNR6aIGIrD0",
    "outputId": "2546122c-d5ab-41e9-fe51-628f4dc6516a"
   },
   "outputs": [
    {
     "name": "stdout",
     "output_type": "stream",
     "text": [
      "Run next chunk to get the clusters\n"
     ]
    }
   ],
   "source": [
    "pd.set_option('display.max_rows', 10)\n",
    "pd.set_option('display.max_columns',None)\n",
    "pd.set_option('display.max_colwidth', None)\n",
    "\n",
    "get_ratio_df_all_per_global_CVP = pd.read_csv(\"get_ratio_df_all_per_global_ITO_00101.csv\")\n",
    "get_ratio_df_all_per_global_CVP[\"top_class\"] = \"CVP\"\n",
    "\n",
    "get_ratio_df_all_per_global_NLP = pd.read_csv(\"get_ratio_df_all_per_global_ITO_00141.csv\")\n",
    "get_ratio_df_all_per_global_NLP[\"top_class\"] = \"NLP\"\n",
    "\n",
    "get_ratio_df_all_per_global = get_ratio_df_all_per_global_NLP.append(get_ratio_df_all_per_global_CVP)\n",
    "\n",
    "get_ratio_df_all_per_global[\"ds_top_class\"] = get_ratio_df_all_per_global[\"ds\"] + \" - \" + get_ratio_df_all_per_global[\"top_class\"]\n",
    "\n",
    "#get_ratio_df_all_per_global = get_ratio_df_all_per_global[get_ratio_df_all_per_global[\"ratio\"]!=100]\n",
    "\n",
    "\n",
    "get_ratio_df_all_per_global = get_ratio_df_all_per_global[get_ratio_df_all_per_global['merge']==\"Accuracy\"]\n",
    "\n",
    "get_ratio_df_all_per_global[\"date\"]=pd.to_datetime(get_ratio_df_all_per_global[\"date\"])\n",
    "\n",
    "#Check this maximum date in order to make sure all the datsets are used, make it a current date\n",
    "from datetime import date  \n",
    "from datetime import datetime\n",
    "\n",
    "todayDate = date.today().strftime('%Y-%m')\n",
    "\n",
    "headers = pd.date_range('2010-01',todayDate, \n",
    "              freq='MS').strftime(\"%Y-%m\").tolist()\n",
    "\n",
    "#headers = np.arange(0, 100, 0.1)\n",
    "df = pd.DataFrame(columns=headers, index=get_ratio_df_all_per_global[\"ds_top_class\"].unique())\n",
    "\n",
    "elsapsed = [*range(0, 240, 1)]\n",
    "\n",
    "df = pd.DataFrame(columns=elsapsed, index=get_ratio_df_all_per_global[\"ds_top_class\"].unique())\n",
    "#df = pd.DataFrame(columns=headers, index=get_ratio_df_all_per_global[\"ds_top_class\"].unique())\n",
    "\n",
    "#get_ratio_df_all_per_global = get_ratio_df_all_per_global[get_ratio_df_all_per_global[\"ds_top_class\"]==\"MSVD-QA - Visual Question Answering benchmarking - CVP\"]\n",
    "\n",
    "\n",
    "#1 min to run \n",
    "ds_count=0\n",
    "for ds_top_class in get_ratio_df_all_per_global[\"ds_top_class\"].unique():\n",
    "  #print(\"Dataset: \" + str(ds_count) + \": \"+ds_top_class)\n",
    "  #get the timeFrame\n",
    "  timeFrame = max(get_ratio_df_all_per_global[get_ratio_df_all_per_global[\"ds_top_class\"]==ds_top_class][\"date\"]) - min(get_ratio_df_all_per_global[get_ratio_df_all_per_global[\"ds_top_class\"]==ds_top_class][\"date\"])\n",
    "  timeFrame = round(timeFrame/np.timedelta64(1, 'M'),1)\n",
    "  #print(\"timeFrame: \"+ str(timeFrame))\n",
    "  if(timeFrame):\n",
    "    #timeFrame = round(timeFrame/np.timedelta64(1, 'M'),0)\n",
    "\n",
    "    #count how many values have been collected, only ds with more the 3 values are considered\n",
    "    count_values=0\n",
    "    #sets the month anchor\n",
    "    month_anchor=-1\n",
    "    #Number here refers to the value used to plot the curve\n",
    "    number=0\n",
    "    for date in headers:\n",
    "      \n",
    "      #for every date, increase the distance in months rom the anchor\n",
    "      if(month_anchor!=-1): \n",
    "        month_anchor=month_anchor+1\n",
    "        month_anchor_relative=int(round((month_anchor*100)/timeFrame,0))\n",
    "      \n",
    "      #if there is a value to report for a date\n",
    "      if len(get_ratio_df_all_per_global[(get_ratio_df_all_per_global[\"ds_top_class\"]==ds_top_class) & (get_ratio_df_all_per_global[\"date\"]==date)][\"task\"]) > 0:\n",
    "        #sets the month anchor equal to 0 for the first available result\n",
    "        if(month_anchor==-1): \n",
    "          month_anchor=0\n",
    "          #month_anchor_relative=0\n",
    "        \n",
    "        number = get_ratio_df_all_per_global[(get_ratio_df_all_per_global[\"ds_top_class\"]==ds_top_class) & (get_ratio_df_all_per_global[\"date\"]==date)].percent_of_max_sota.iloc[0]\n",
    "        #save the value for the coordinate ds_top_class,month_anchor\n",
    "        #print(date + \" Found, months from anchor: \"+ str(month_anchor) + \" (relative: \"+ str(month_anchor_relative) + \"), Value: \"+str(number))\n",
    "        #df.loc[(ds_top_class,month_anchor)] = number\n",
    "        df.loc[(ds_top_class,month_anchor_relative)] = number\n",
    "        #increment the count_values counter\n",
    "        count_values=count_values+1\n",
    "      #else: df.loc[(ds_top_class,month_anchor)] = number\n",
    "      else: \n",
    "        month_anchor_relative=0\n",
    "        #df.loc[(ds_top_class,month_anchor_relative)] = 0\n",
    "    ds_count=ds_count + 1\n",
    "\n",
    "  #drop cases where only >2 values have been recorded\n",
    "  if(count_values <= 2): df.drop([ds_top_class], inplace = True)  \n",
    "\n",
    "df = df.reindex(sorted(df.columns), axis=1)\n",
    "\n",
    "#drop dates that do not have values collected for\n",
    "df.dropna(axis = 1, how = 'all', inplace = True)\n",
    "\n",
    "#drop datasets that don't have any valid value collected (just in case)\n",
    "df.dropna(axis = 0, how = 'all', inplace = True)\n",
    "\n",
    "#how many datasets\n",
    "#len(df.index.unique())\n",
    "\n",
    "#Fill with the last result\n",
    "\n",
    "import math \n",
    "last_value = 0\n",
    "\n",
    "for ds in df.index:\n",
    "  last_value = 0\n",
    "  #print(ds)\n",
    "  for month in df.columns:\n",
    "    #if the value is a NaN, fill...\n",
    "    if(math.isnan(df.loc[(ds,month)])): df.loc[(ds,month)] = last_value\n",
    "    else: last_value = df.loc[(ds,month)]\n",
    "    #print(str(month) +\" | \"+str(last_value))\n",
    "  \n",
    "print(\"Run next chunk to get the clusters\")"
   ]
  },
  {
   "cell_type": "markdown",
   "metadata": {
    "id": "O0QkoP2mql5X"
   },
   "source": [
    "## Execute Self Organizing Maps clustering\n",
    "Reference: https://www.kaggle.com/izzettunc/introduction-to-time-series-clustering\n",
    "\n",
    "(Runtime: 5s)"
   ]
  },
  {
   "cell_type": "code",
   "execution_count": 9,
   "metadata": {
    "colab": {
     "base_uri": "https://localhost:8080/",
     "height": 660
    },
    "id": "ojHiOseOnruj",
    "outputId": "69b73f6e-2c2d-427a-9e1f-e2039efad7a8"
   },
   "outputs": [
    {
     "data": {
      "image/png": "[encoded data removed]",
      "text/plain": [
       "<Figure size 720x720 with 3 Axes>"
      ]
     },
     "metadata": {
      "needs_background": "light"
     },
     "output_type": "display_data"
    }
   ],
   "source": [
    "mySeries = df.values.tolist()\n",
    "\n",
    "# Little handy function to plot series\n",
    "\n",
    "def plot_som_series_averaged_center(som_x, som_y, win_map):\n",
    "    fig, axs = plt.subplots(som_x,som_y,figsize=(10,10))\n",
    "    fig.suptitle('Time series clustering')      \n",
    "            \n",
    "    for x in range(som_x):\n",
    "      for y in range(som_y):\n",
    "            cluster = (x,y)\n",
    "            if cluster in win_map.keys():\n",
    "                for series in win_map[cluster]:\n",
    "                    axs[x].plot(series,c=\"gray\",alpha=0.5)\n",
    "                    axs[x].set_xticks([])\n",
    "                    axs[x].set_xlabel(\"% of time series\")\n",
    "                    axs[x].set_ylabel(\"% of max. SOTA (Accuracy)\")\n",
    "                    #axs[x].set_ylim(0, 100)\n",
    "\n",
    "                axs[x].plot(np.average(np.vstack(win_map[cluster]),axis=0),c=\"red\")\n",
    "            cluster_number = x*som_y+y+1\n",
    "            axs[x].set_title(f\"Cluster {cluster_number}\")\n",
    "                \n",
    "    plt.show()\n",
    "\n",
    "##\n",
    "\n",
    "som_x = 3\n",
    "som_y = 1 # Define here the sub-figures\n",
    "\n",
    "# Algorithms\n",
    "som = MiniSom(som_x, som_y,len(mySeries[0]), sigma=0.3, learning_rate = 0.1, random_seed=10)\n",
    "\n",
    "\n",
    "som.random_weights_init(mySeries)\n",
    "som.train(mySeries, 50000)\n",
    "\n",
    "\n",
    "win_map = som.win_map(mySeries)\n",
    "# Returns the mapping of the winner nodes and inputs\n",
    "\n",
    "plot_som_series_averaged_center(som_x, som_y, win_map)\n"
   ]
  },
  {
   "cell_type": "markdown",
   "metadata": {
    "id": "J8b6FjN06WRD"
   },
   "source": [
    "## Cluster distribution\n",
    "(Runtime: 1s)"
   ]
  },
  {
   "cell_type": "code",
   "execution_count": 10,
   "metadata": {
    "colab": {
     "base_uri": "https://localhost:8080/",
     "height": 367
    },
    "id": "knJUsJB4xq1m",
    "outputId": "c528aa78-c5ca-407c-9d77-136b9d594191"
   },
   "outputs": [
    {
     "data": {
      "application/vnd.plotly.v1+json": {
       "config": {
        "plotlyServerURL": "https://plot.ly"
       },
       "data": [
        {
         "alignmentgroup": "True",
         "hovertemplate": "Cluster=%{x}<br>Number of datasets=%{text}<extra></extra>",
         "legendgroup": "",
         "marker": {
          "color": "red",
          "pattern": {
           "shape": ""
          }
         },
         "name": "",
         "offsetgroup": "",
         "orientation": "v",
         "showlegend": false,
         "text": [
          23,
          11,
          81
         ],
         "textposition": "outside",
         "texttemplate": "%{text}",
         "type": "bar",
         "x": [
          "Cluster 1",
          "Cluster 2",
          "Cluster 3"
         ],
         "xaxis": "x",
         "y": [
          23,
          11,
          81
         ],
         "yaxis": "y"
        }
       ],
       "layout": {
        "barmode": "relative",
        "font": {
         "size": 20
        },
        "height": 350,
        "legend": {
         "tracegroupgap": 0
        },
        "margin": {
         "t": 60
        },
        "template": {
         "data": {
          "bar": [
           {
            "error_x": {
             "color": "#2a3f5f"
            },
            "error_y": {
             "color": "#2a3f5f"
            },
            "marker": {
             "line": {
              "color": "#E5ECF6",
              "width": 0.5
             },
             "pattern": {
              "fillmode": "overlay",
              "size": 10,
              "solidity": 0.2
             }
            },
            "type": "bar"
           }
          ],
          "barpolar": [
           {
            "marker": {
             "line": {
              "color": "#E5ECF6",
              "width": 0.5
             },
             "pattern": {
              "fillmode": "overlay",
              "size": 10,
              "solidity": 0.2
             }
            },
            "type": "barpolar"
           }
          ],
          "carpet": [
           {
            "aaxis": {
             "endlinecolor": "#2a3f5f",
             "gridcolor": "white",
             "linecolor": "white",
             "minorgridcolor": "white",
             "startlinecolor": "#2a3f5f"
            },
            "baxis": {
             "endlinecolor": "#2a3f5f",
             "gridcolor": "white",
             "linecolor": "white",
             "minorgridcolor": "white",
             "startlinecolor": "#2a3f5f"
            },
            "type": "carpet"
           }
          ],
          "choropleth": [
           {
            "colorbar": {
             "outlinewidth": 0,
             "ticks": ""
            },
            "type": "choropleth"
           }
          ],
          "contour": [
           {
            "colorbar": {
             "outlinewidth": 0,
             "ticks": ""
            },
            "colorscale": [
             [
              0,
              "#0d0887"
             ],
             [
              0.1111111111111111,
              "#46039f"
             ],
             [
              0.2222222222222222,
              "#7201a8"
             ],
             [
              0.3333333333333333,
              "#9c179e"
             ],
             [
              0.4444444444444444,
              "#bd3786"
             ],
             [
              0.5555555555555556,
              "#d8576b"
             ],
             [
              0.6666666666666666,
              "#ed7953"
             ],
             [
              0.7777777777777778,
              "#fb9f3a"
             ],
             [
              0.8888888888888888,
              "#fdca26"
             ],
             [
              1,
              "#f0f921"
             ]
            ],
            "type": "contour"
           }
          ],
          "contourcarpet": [
           {
            "colorbar": {
             "outlinewidth": 0,
             "ticks": ""
            },
            "type": "contourcarpet"
           }
          ],
          "heatmap": [
           {
            "colorbar": {
             "outlinewidth": 0,
             "ticks": ""
            },
            "colorscale": [
             [
              0,
              "#0d0887"
             ],
             [
              0.1111111111111111,
              "#46039f"
             ],
             [
              0.2222222222222222,
              "#7201a8"
             ],
             [
              0.3333333333333333,
              "#9c179e"
             ],
             [
              0.4444444444444444,
              "#bd3786"
             ],
             [
              0.5555555555555556,
              "#d8576b"
             ],
             [
              0.6666666666666666,
              "#ed7953"
             ],
             [
              0.7777777777777778,
              "#fb9f3a"
             ],
             [
              0.8888888888888888,
              "#fdca26"
             ],
             [
              1,
              "#f0f921"
             ]
            ],
            "type": "heatmap"
           }
          ],
          "heatmapgl": [
           {
            "colorbar": {
             "outlinewidth": 0,
             "ticks": ""
            },
            "colorscale": [
             [
              0,
              "#0d0887"
             ],
             [
              0.1111111111111111,
              "#46039f"
             ],
             [
              0.2222222222222222,
              "#7201a8"
             ],
             [
              0.3333333333333333,
              "#9c179e"
             ],
             [
              0.4444444444444444,
              "#bd3786"
             ],
             [
              0.5555555555555556,
              "#d8576b"
             ],
             [
              0.6666666666666666,
              "#ed7953"
             ],
             [
              0.7777777777777778,
              "#fb9f3a"
             ],
             [
              0.8888888888888888,
              "#fdca26"
             ],
             [
              1,
              "#f0f921"
             ]
            ],
            "type": "heatmapgl"
           }
          ],
          "histogram": [
           {
            "marker": {
             "pattern": {
              "fillmode": "overlay",
              "size": 10,
              "solidity": 0.2
             }
            },
            "type": "histogram"
           }
          ],
          "histogram2d": [
           {
            "colorbar": {
             "outlinewidth": 0,
             "ticks": ""
            },
            "colorscale": [
             [
              0,
              "#0d0887"
             ],
             [
              0.1111111111111111,
              "#46039f"
             ],
             [
              0.2222222222222222,
              "#7201a8"
             ],
             [
              0.3333333333333333,
              "#9c179e"
             ],
             [
              0.4444444444444444,
              "#bd3786"
             ],
             [
              0.5555555555555556,
              "#d8576b"
             ],
             [
              0.6666666666666666,
              "#ed7953"
             ],
             [
              0.7777777777777778,
              "#fb9f3a"
             ],
             [
              0.8888888888888888,
              "#fdca26"
             ],
             [
              1,
              "#f0f921"
             ]
            ],
            "type": "histogram2d"
           }
          ],
          "histogram2dcontour": [
           {
            "colorbar": {
             "outlinewidth": 0,
             "ticks": ""
            },
            "colorscale": [
             [
              0,
              "#0d0887"
             ],
             [
              0.1111111111111111,
              "#46039f"
             ],
             [
              0.2222222222222222,
              "#7201a8"
             ],
             [
              0.3333333333333333,
              "#9c179e"
             ],
             [
              0.4444444444444444,
              "#bd3786"
             ],
             [
              0.5555555555555556,
              "#d8576b"
             ],
             [
              0.6666666666666666,
              "#ed7953"
             ],
             [
              0.7777777777777778,
              "#fb9f3a"
             ],
             [
              0.8888888888888888,
              "#fdca26"
             ],
             [
              1,
              "#f0f921"
             ]
            ],
            "type": "histogram2dcontour"
           }
          ],
          "mesh3d": [
           {
            "colorbar": {
             "outlinewidth": 0,
             "ticks": ""
            },
            "type": "mesh3d"
           }
          ],
          "parcoords": [
           {
            "line": {
             "colorbar": {
              "outlinewidth": 0,
              "ticks": ""
             }
            },
            "type": "parcoords"
           }
          ],
          "pie": [
           {
            "automargin": true,
            "type": "pie"
           }
          ],
          "scatter": [
           {
            "marker": {
             "colorbar": {
              "outlinewidth": 0,
              "ticks": ""
             }
            },
            "type": "scatter"
           }
          ],
          "scatter3d": [
           {
            "line": {
             "colorbar": {
              "outlinewidth": 0,
              "ticks": ""
             }
            },
            "marker": {
             "colorbar": {
              "outlinewidth": 0,
              "ticks": ""
             }
            },
            "type": "scatter3d"
           }
          ],
          "scattercarpet": [
           {
            "marker": {
             "colorbar": {
              "outlinewidth": 0,
              "ticks": ""
             }
            },
            "type": "scattercarpet"
           }
          ],
          "scattergeo": [
           {
            "marker": {
             "colorbar": {
              "outlinewidth": 0,
              "ticks": ""
             }
            },
            "type": "scattergeo"
           }
          ],
          "scattergl": [
           {
            "marker": {
             "colorbar": {
              "outlinewidth": 0,
              "ticks": ""
             }
            },
            "type": "scattergl"
           }
          ],
          "scattermapbox": [
           {
            "marker": {
             "colorbar": {
              "outlinewidth": 0,
              "ticks": ""
             }
            },
            "type": "scattermapbox"
           }
          ],
          "scatterpolar": [
           {
            "marker": {
             "colorbar": {
              "outlinewidth": 0,
              "ticks": ""
             }
            },
            "type": "scatterpolar"
           }
          ],
          "scatterpolargl": [
           {
            "marker": {
             "colorbar": {
              "outlinewidth": 0,
              "ticks": ""
             }
            },
            "type": "scatterpolargl"
           }
          ],
          "scatterternary": [
           {
            "marker": {
             "colorbar": {
              "outlinewidth": 0,
              "ticks": ""
             }
            },
            "type": "scatterternary"
           }
          ],
          "surface": [
           {
            "colorbar": {
             "outlinewidth": 0,
             "ticks": ""
            },
            "colorscale": [
             [
              0,
              "#0d0887"
             ],
             [
              0.1111111111111111,
              "#46039f"
             ],
             [
              0.2222222222222222,
              "#7201a8"
             ],
             [
              0.3333333333333333,
              "#9c179e"
             ],
             [
              0.4444444444444444,
              "#bd3786"
             ],
             [
              0.5555555555555556,
              "#d8576b"
             ],
             [
              0.6666666666666666,
              "#ed7953"
             ],
             [
              0.7777777777777778,
              "#fb9f3a"
             ],
             [
              0.8888888888888888,
              "#fdca26"
             ],
             [
              1,
              "#f0f921"
             ]
            ],
            "type": "surface"
           }
          ],
          "table": [
           {
            "cells": {
             "fill": {
              "color": "#EBF0F8"
             },
             "line": {
              "color": "white"
             }
            },
            "header": {
             "fill": {
              "color": "#C8D4E3"
             },
             "line": {
              "color": "white"
             }
            },
            "type": "table"
           }
          ]
         },
         "layout": {
          "annotationdefaults": {
           "arrowcolor": "#2a3f5f",
           "arrowhead": 0,
           "arrowwidth": 1
          },
          "autotypenumbers": "strict",
          "coloraxis": {
           "colorbar": {
            "outlinewidth": 0,
            "ticks": ""
           }
          },
          "colorscale": {
           "diverging": [
            [
             0,
             "#8e0152"
            ],
            [
             0.1,
             "#c51b7d"
            ],
            [
             0.2,
             "#de77ae"
            ],
            [
             0.3,
             "#f1b6da"
            ],
            [
             0.4,
             "#fde0ef"
            ],
            [
             0.5,
             "#f7f7f7"
            ],
            [
             0.6,
             "#e6f5d0"
            ],
            [
             0.7,
             "#b8e186"
            ],
            [
             0.8,
             "#7fbc41"
            ],
            [
             0.9,
             "#4d9221"
            ],
            [
             1,
             "#276419"
            ]
           ],
           "sequential": [
            [
             0,
             "#0d0887"
            ],
            [
             0.1111111111111111,
             "#46039f"
            ],
            [
             0.2222222222222222,
             "#7201a8"
            ],
            [
             0.3333333333333333,
             "#9c179e"
            ],
            [
             0.4444444444444444,
             "#bd3786"
            ],
            [
             0.5555555555555556,
             "#d8576b"
            ],
            [
             0.6666666666666666,
             "#ed7953"
            ],
            [
             0.7777777777777778,
             "#fb9f3a"
            ],
            [
             0.8888888888888888,
             "#fdca26"
            ],
            [
             1,
             "#f0f921"
            ]
           ],
           "sequentialminus": [
            [
             0,
             "#0d0887"
            ],
            [
             0.1111111111111111,
             "#46039f"
            ],
            [
             0.2222222222222222,
             "#7201a8"
            ],
            [
             0.3333333333333333,
             "#9c179e"
            ],
            [
             0.4444444444444444,
             "#bd3786"
            ],
            [
             0.5555555555555556,
             "#d8576b"
            ],
            [
             0.6666666666666666,
             "#ed7953"
            ],
            [
             0.7777777777777778,
             "#fb9f3a"
            ],
            [
             0.8888888888888888,
             "#fdca26"
            ],
            [
             1,
             "#f0f921"
            ]
           ]
          },
          "colorway": [
           "#636efa",
           "#EF553B",
           "#00cc96",
           "#ab63fa",
           "#FFA15A",
           "#19d3f3",
           "#FF6692",
           "#B6E880",
           "#FF97FF",
           "#FECB52"
          ],
          "font": {
           "color": "#2a3f5f"
          },
          "geo": {
           "bgcolor": "white",
           "lakecolor": "white",
           "landcolor": "#E5ECF6",
           "showlakes": true,
           "showland": true,
           "subunitcolor": "white"
          },
          "hoverlabel": {
           "align": "left"
          },
          "hovermode": "closest",
          "mapbox": {
           "style": "light"
          },
          "paper_bgcolor": "white",
          "plot_bgcolor": "#E5ECF6",
          "polar": {
           "angularaxis": {
            "gridcolor": "white",
            "linecolor": "white",
            "ticks": ""
           },
           "bgcolor": "#E5ECF6",
           "radialaxis": {
            "gridcolor": "white",
            "linecolor": "white",
            "ticks": ""
           }
          },
          "scene": {
           "xaxis": {
            "backgroundcolor": "#E5ECF6",
            "gridcolor": "white",
            "gridwidth": 2,
            "linecolor": "white",
            "showbackground": true,
            "ticks": "",
            "zerolinecolor": "white"
           },
           "yaxis": {
            "backgroundcolor": "#E5ECF6",
            "gridcolor": "white",
            "gridwidth": 2,
            "linecolor": "white",
            "showbackground": true,
            "ticks": "",
            "zerolinecolor": "white"
           },
           "zaxis": {
            "backgroundcolor": "#E5ECF6",
            "gridcolor": "white",
            "gridwidth": 2,
            "linecolor": "white",
            "showbackground": true,
            "ticks": "",
            "zerolinecolor": "white"
           }
          },
          "shapedefaults": {
           "line": {
            "color": "#2a3f5f"
           }
          },
          "ternary": {
           "aaxis": {
            "gridcolor": "white",
            "linecolor": "white",
            "ticks": ""
           },
           "baxis": {
            "gridcolor": "white",
            "linecolor": "white",
            "ticks": ""
           },
           "bgcolor": "#E5ECF6",
           "caxis": {
            "gridcolor": "white",
            "linecolor": "white",
            "ticks": ""
           }
          },
          "title": {
           "x": 0.05
          },
          "xaxis": {
           "automargin": true,
           "gridcolor": "white",
           "linecolor": "white",
           "ticks": "",
           "title": {
            "standoff": 15
           },
           "zerolinecolor": "white",
           "zerolinewidth": 2
          },
          "yaxis": {
           "automargin": true,
           "gridcolor": "white",
           "linecolor": "white",
           "ticks": "",
           "title": {
            "standoff": 15
           },
           "zerolinecolor": "white",
           "zerolinewidth": 2
          }
         }
        },
        "width": 1400,
        "xaxis": {
         "anchor": "y",
         "domain": [
          0,
          1
         ],
         "title": {
          "text": "Cluster"
         }
        },
        "yaxis": {
         "anchor": "x",
         "domain": [
          0,
          1
         ],
         "range": [
          0,
          100
         ],
         "title": {
          "text": "Number of datasets"
         }
        }
       }
      },
      "text/html": [
       "<div>                            <div id=\"d8f5492a-a167-478e-a5bd-c767c7bc08dc\" class=\"plotly-graph-div\" style=\"height:350px; width:1400px;\"></div>            <script type=\"text/javascript\">                require([\"plotly\"], function(Plotly) {                    window.PLOTLYENV=window.PLOTLYENV || {};                                    if (document.getElementById(\"d8f5492a-a167-478e-a5bd-c767c7bc08dc\")) {                    Plotly.newPlot(                        \"d8f5492a-a167-478e-a5bd-c767c7bc08dc\",                        [{\"alignmentgroup\":\"True\",\"hovertemplate\":\"Cluster=%{x}<br>Number of datasets=%{text}<extra></extra>\",\"legendgroup\":\"\",\"marker\":{\"color\":\"red\",\"pattern\":{\"shape\":\"\"}},\"name\":\"\",\"offsetgroup\":\"\",\"orientation\":\"v\",\"showlegend\":false,\"text\":[23.0,11.0,81.0],\"textposition\":\"outside\",\"x\":[\"Cluster 1\",\"Cluster 2\",\"Cluster 3\"],\"xaxis\":\"x\",\"y\":[23,11,81],\"yaxis\":\"y\",\"type\":\"bar\",\"texttemplate\":\"%{text}\"}],                        {\"template\":{\"data\":{\"bar\":[{\"error_x\":{\"color\":\"#2a3f5f\"},\"error_y\":{\"color\":\"#2a3f5f\"},\"marker\":{\"line\":{\"color\":\"#E5ECF6\",\"width\":0.5},\"pattern\":{\"fillmode\":\"overlay\",\"size\":10,\"solidity\":0.2}},\"type\":\"bar\"}],\"barpolar\":[{\"marker\":{\"line\":{\"color\":\"#E5ECF6\",\"width\":0.5},\"pattern\":{\"fillmode\":\"overlay\",\"size\":10,\"solidity\":0.2}},\"type\":\"barpolar\"}],\"carpet\":[{\"aaxis\":{\"endlinecolor\":\"#2a3f5f\",\"gridcolor\":\"white\",\"linecolor\":\"white\",\"minorgridcolor\":\"white\",\"startlinecolor\":\"#2a3f5f\"},\"baxis\":{\"endlinecolor\":\"#2a3f5f\",\"gridcolor\":\"white\",\"linecolor\":\"white\",\"minorgridcolor\":\"white\",\"startlinecolor\":\"#2a3f5f\"},\"type\":\"carpet\"}],\"choropleth\":[{\"colorbar\":{\"outlinewidth\":0,\"ticks\":\"\"},\"type\":\"choropleth\"}],\"contour\":[{\"colorbar\":{\"outlinewidth\":0,\"ticks\":\"\"},\"colorscale\":[[0.0,\"#0d0887\"],[0.1111111111111111,\"#46039f\"],[0.2222222222222222,\"#7201a8\"],[0.3333333333333333,\"#9c179e\"],[0.4444444444444444,\"#bd3786\"],[0.5555555555555556,\"#d8576b\"],[0.6666666666666666,\"#ed7953\"],[0.7777777777777778,\"#fb9f3a\"],[0.8888888888888888,\"#fdca26\"],[1.0,\"#f0f921\"]],\"type\":\"contour\"}],\"contourcarpet\":[{\"colorbar\":{\"outlinewidth\":0,\"ticks\":\"\"},\"type\":\"contourcarpet\"}],\"heatmap\":[{\"colorbar\":{\"outlinewidth\":0,\"ticks\":\"\"},\"colorscale\":[[0.0,\"#0d0887\"],[0.1111111111111111,\"#46039f\"],[0.2222222222222222,\"#7201a8\"],[0.3333333333333333,\"#9c179e\"],[0.4444444444444444,\"#bd3786\"],[0.5555555555555556,\"#d8576b\"],[0.6666666666666666,\"#ed7953\"],[0.7777777777777778,\"#fb9f3a\"],[0.8888888888888888,\"#fdca26\"],[1.0,\"#f0f921\"]],\"type\":\"heatmap\"}],\"heatmapgl\":[{\"colorbar\":{\"outlinewidth\":0,\"ticks\":\"\"},\"colorscale\":[[0.0,\"#0d0887\"],[0.1111111111111111,\"#46039f\"],[0.2222222222222222,\"#7201a8\"],[0.3333333333333333,\"#9c179e\"],[0.4444444444444444,\"#bd3786\"],[0.5555555555555556,\"#d8576b\"],[0.6666666666666666,\"#ed7953\"],[0.7777777777777778,\"#fb9f3a\"],[0.8888888888888888,\"#fdca26\"],[1.0,\"#f0f921\"]],\"type\":\"heatmapgl\"}],\"histogram\":[{\"marker\":{\"pattern\":{\"fillmode\":\"overlay\",\"size\":10,\"solidity\":0.2}},\"type\":\"histogram\"}],\"histogram2d\":[{\"colorbar\":{\"outlinewidth\":0,\"ticks\":\"\"},\"colorscale\":[[0.0,\"#0d0887\"],[0.1111111111111111,\"#46039f\"],[0.2222222222222222,\"#7201a8\"],[0.3333333333333333,\"#9c179e\"],[0.4444444444444444,\"#bd3786\"],[0.5555555555555556,\"#d8576b\"],[0.6666666666666666,\"#ed7953\"],[0.7777777777777778,\"#fb9f3a\"],[0.8888888888888888,\"#fdca26\"],[1.0,\"#f0f921\"]],\"type\":\"histogram2d\"}],\"histogram2dcontour\":[{\"colorbar\":{\"outlinewidth\":0,\"ticks\":\"\"},\"colorscale\":[[0.0,\"#0d0887\"],[0.1111111111111111,\"#46039f\"],[0.2222222222222222,\"#7201a8\"],[0.3333333333333333,\"#9c179e\"],[0.4444444444444444,\"#bd3786\"],[0.5555555555555556,\"#d8576b\"],[0.6666666666666666,\"#ed7953\"],[0.7777777777777778,\"#fb9f3a\"],[0.8888888888888888,\"#fdca26\"],[1.0,\"#f0f921\"]],\"type\":\"histogram2dcontour\"}],\"mesh3d\":[{\"colorbar\":{\"outlinewidth\":0,\"ticks\":\"\"},\"type\":\"mesh3d\"}],\"parcoords\":[{\"line\":{\"colorbar\":{\"outlinewidth\":0,\"ticks\":\"\"}},\"type\":\"parcoords\"}],\"pie\":[{\"automargin\":true,\"type\":\"pie\"}],\"scatter\":[{\"marker\":{\"colorbar\":{\"outlinewidth\":0,\"ticks\":\"\"}},\"type\":\"scatter\"}],\"scatter3d\":[{\"line\":{\"colorbar\":{\"outlinewidth\":0,\"ticks\":\"\"}},\"marker\":{\"colorbar\":{\"outlinewidth\":0,\"ticks\":\"\"}},\"type\":\"scatter3d\"}],\"scattercarpet\":[{\"marker\":{\"colorbar\":{\"outlinewidth\":0,\"ticks\":\"\"}},\"type\":\"scattercarpet\"}],\"scattergeo\":[{\"marker\":{\"colorbar\":{\"outlinewidth\":0,\"ticks\":\"\"}},\"type\":\"scattergeo\"}],\"scattergl\":[{\"marker\":{\"colorbar\":{\"outlinewidth\":0,\"ticks\":\"\"}},\"type\":\"scattergl\"}],\"scattermapbox\":[{\"marker\":{\"colorbar\":{\"outlinewidth\":0,\"ticks\":\"\"}},\"type\":\"scattermapbox\"}],\"scatterpolar\":[{\"marker\":{\"colorbar\":{\"outlinewidth\":0,\"ticks\":\"\"}},\"type\":\"scatterpolar\"}],\"scatterpolargl\":[{\"marker\":{\"colorbar\":{\"outlinewidth\":0,\"ticks\":\"\"}},\"type\":\"scatterpolargl\"}],\"scatterternary\":[{\"marker\":{\"colorbar\":{\"outlinewidth\":0,\"ticks\":\"\"}},\"type\":\"scatterternary\"}],\"surface\":[{\"colorbar\":{\"outlinewidth\":0,\"ticks\":\"\"},\"colorscale\":[[0.0,\"#0d0887\"],[0.1111111111111111,\"#46039f\"],[0.2222222222222222,\"#7201a8\"],[0.3333333333333333,\"#9c179e\"],[0.4444444444444444,\"#bd3786\"],[0.5555555555555556,\"#d8576b\"],[0.6666666666666666,\"#ed7953\"],[0.7777777777777778,\"#fb9f3a\"],[0.8888888888888888,\"#fdca26\"],[1.0,\"#f0f921\"]],\"type\":\"surface\"}],\"table\":[{\"cells\":{\"fill\":{\"color\":\"#EBF0F8\"},\"line\":{\"color\":\"white\"}},\"header\":{\"fill\":{\"color\":\"#C8D4E3\"},\"line\":{\"color\":\"white\"}},\"type\":\"table\"}]},\"layout\":{\"annotationdefaults\":{\"arrowcolor\":\"#2a3f5f\",\"arrowhead\":0,\"arrowwidth\":1},\"autotypenumbers\":\"strict\",\"coloraxis\":{\"colorbar\":{\"outlinewidth\":0,\"ticks\":\"\"}},\"colorscale\":{\"diverging\":[[0,\"#8e0152\"],[0.1,\"#c51b7d\"],[0.2,\"#de77ae\"],[0.3,\"#f1b6da\"],[0.4,\"#fde0ef\"],[0.5,\"#f7f7f7\"],[0.6,\"#e6f5d0\"],[0.7,\"#b8e186\"],[0.8,\"#7fbc41\"],[0.9,\"#4d9221\"],[1,\"#276419\"]],\"sequential\":[[0.0,\"#0d0887\"],[0.1111111111111111,\"#46039f\"],[0.2222222222222222,\"#7201a8\"],[0.3333333333333333,\"#9c179e\"],[0.4444444444444444,\"#bd3786\"],[0.5555555555555556,\"#d8576b\"],[0.6666666666666666,\"#ed7953\"],[0.7777777777777778,\"#fb9f3a\"],[0.8888888888888888,\"#fdca26\"],[1.0,\"#f0f921\"]],\"sequentialminus\":[[0.0,\"#0d0887\"],[0.1111111111111111,\"#46039f\"],[0.2222222222222222,\"#7201a8\"],[0.3333333333333333,\"#9c179e\"],[0.4444444444444444,\"#bd3786\"],[0.5555555555555556,\"#d8576b\"],[0.6666666666666666,\"#ed7953\"],[0.7777777777777778,\"#fb9f3a\"],[0.8888888888888888,\"#fdca26\"],[1.0,\"#f0f921\"]]},\"colorway\":[\"#636efa\",\"#EF553B\",\"#00cc96\",\"#ab63fa\",\"#FFA15A\",\"#19d3f3\",\"#FF6692\",\"#B6E880\",\"#FF97FF\",\"#FECB52\"],\"font\":{\"color\":\"#2a3f5f\"},\"geo\":{\"bgcolor\":\"white\",\"lakecolor\":\"white\",\"landcolor\":\"#E5ECF6\",\"showlakes\":true,\"showland\":true,\"subunitcolor\":\"white\"},\"hoverlabel\":{\"align\":\"left\"},\"hovermode\":\"closest\",\"mapbox\":{\"style\":\"light\"},\"paper_bgcolor\":\"white\",\"plot_bgcolor\":\"#E5ECF6\",\"polar\":{\"angularaxis\":{\"gridcolor\":\"white\",\"linecolor\":\"white\",\"ticks\":\"\"},\"bgcolor\":\"#E5ECF6\",\"radialaxis\":{\"gridcolor\":\"white\",\"linecolor\":\"white\",\"ticks\":\"\"}},\"scene\":{\"xaxis\":{\"backgroundcolor\":\"#E5ECF6\",\"gridcolor\":\"white\",\"gridwidth\":2,\"linecolor\":\"white\",\"showbackground\":true,\"ticks\":\"\",\"zerolinecolor\":\"white\"},\"yaxis\":{\"backgroundcolor\":\"#E5ECF6\",\"gridcolor\":\"white\",\"gridwidth\":2,\"linecolor\":\"white\",\"showbackground\":true,\"ticks\":\"\",\"zerolinecolor\":\"white\"},\"zaxis\":{\"backgroundcolor\":\"#E5ECF6\",\"gridcolor\":\"white\",\"gridwidth\":2,\"linecolor\":\"white\",\"showbackground\":true,\"ticks\":\"\",\"zerolinecolor\":\"white\"}},\"shapedefaults\":{\"line\":{\"color\":\"#2a3f5f\"}},\"ternary\":{\"aaxis\":{\"gridcolor\":\"white\",\"linecolor\":\"white\",\"ticks\":\"\"},\"baxis\":{\"gridcolor\":\"white\",\"linecolor\":\"white\",\"ticks\":\"\"},\"bgcolor\":\"#E5ECF6\",\"caxis\":{\"gridcolor\":\"white\",\"linecolor\":\"white\",\"ticks\":\"\"}},\"title\":{\"x\":0.05},\"xaxis\":{\"automargin\":true,\"gridcolor\":\"white\",\"linecolor\":\"white\",\"ticks\":\"\",\"title\":{\"standoff\":15},\"zerolinecolor\":\"white\",\"zerolinewidth\":2},\"yaxis\":{\"automargin\":true,\"gridcolor\":\"white\",\"linecolor\":\"white\",\"ticks\":\"\",\"title\":{\"standoff\":15},\"zerolinecolor\":\"white\",\"zerolinewidth\":2}}},\"xaxis\":{\"anchor\":\"y\",\"domain\":[0.0,1.0],\"title\":{\"text\":\"Cluster\"}},\"yaxis\":{\"anchor\":\"x\",\"domain\":[0.0,1.0],\"title\":{\"text\":\"Number of datasets\"},\"range\":[0,100]},\"legend\":{\"tracegroupgap\":0},\"margin\":{\"t\":60},\"barmode\":\"relative\",\"height\":350,\"width\":1400,\"font\":{\"size\":20}},                        {\"responsive\": true}                    ).then(function(){\n",
       "                            \n",
       "var gd = document.getElementById('d8f5492a-a167-478e-a5bd-c767c7bc08dc');\n",
       "var x = new MutationObserver(function (mutations, observer) {{\n",
       "        var display = window.getComputedStyle(gd).display;\n",
       "        if (!display || display === 'none') {{\n",
       "            console.log([gd, 'removed!']);\n",
       "            Plotly.purge(gd);\n",
       "            observer.disconnect();\n",
       "        }}\n",
       "}});\n",
       "\n",
       "// Listen for the removal of the full notebook cells\n",
       "var notebookContainer = gd.closest('#notebook-container');\n",
       "if (notebookContainer) {{\n",
       "    x.observe(notebookContainer, {childList: true});\n",
       "}}\n",
       "\n",
       "// Listen for the clearing of the current output cell\n",
       "var outputEl = gd.closest('.output');\n",
       "if (outputEl) {{\n",
       "    x.observe(outputEl, {childList: true});\n",
       "}}\n",
       "\n",
       "                        })                };                });            </script>        </div>"
      ]
     },
     "metadata": {},
     "output_type": "display_data"
    }
   ],
   "source": [
    "#Plot cluster distribution\n",
    "cluster_c = []\n",
    "cluster_n = []\n",
    "\n",
    "for x in range(som_x):\n",
    "    for y in range(som_y):\n",
    "        cluster = (x,y)\n",
    "        if cluster in win_map.keys():\n",
    "            cluster_c.append(len(win_map[cluster]))\n",
    "        else:\n",
    "            cluster_c.append(0)\n",
    "        cluster_number = x*som_y+y+1\n",
    "        cluster_n.append(f\"Cluster {cluster_number}\")\n",
    "\n",
    "import plotly.express as px\n",
    "\n",
    "#cluster_c = [round(num,0) for num in cluster_c]\n",
    "\n",
    "data = {'Cluster':cluster_n,\n",
    "        'Number of datasets':cluster_c}\n",
    "  \n",
    "# Create DataFrame\n",
    "data = pd.DataFrame(data)\n",
    "\n",
    "\n",
    "fig = px.bar(data, x='Cluster', y='Number of datasets', text='Number of datasets', height=350, width=1400)\n",
    "fig.update_traces(texttemplate='%{text}', textposition='outside', marker_color='red')\n",
    "fig.update_layout(font_size=20, yaxis_range=[0,100])\n",
    "\n",
    "fig.show()"
   ]
  },
  {
   "cell_type": "markdown",
   "metadata": {
    "id": "PKiMpqvq6TUR"
   },
   "source": [
    "## Cluster mapping\n",
    "(Runtime: 1s)"
   ]
  },
  {
   "cell_type": "code",
   "execution_count": 37,
   "metadata": {},
   "outputs": [],
   "source": [
    "c_map = cluster_map.reset_index()\n",
    "c_map[\"benchmark_label\"] = c_map[\"Series\"].str.replace(\" benchmarking\", \"\")\n",
    "c_map[[\"benchmark_label\", \"superclass\"]] = c_map[\"Series\"].str.split(' benchmarking - ', 1, expand=True)\n",
    "c_map[[\"benchmark_label\", \"task_label\"]] = c_map[\"benchmark_label\"].str.split(' - ', 1, expand=True)\n",
    "c_map = c_map.sort_values(by=[\"superclass\", \"Cluster\", \"task_label\"])\n",
    "c_map[[\"superclass\", \"Cluster\", \"task_label\", \"benchmark_label\"]].to_csv(\"c_map.csv\",index=False, header=True)"
   ]
  },
  {
   "cell_type": "code",
   "execution_count": 12,
   "metadata": {
    "colab": {
     "base_uri": "https://localhost:8080/",
     "height": 1000
    },
    "id": "-V-uI0ocpRVI",
    "outputId": "1fc3735a-e964-4d89-c282-03348be9483a"
   },
   "outputs": [
    {
     "data": {
      "text/html": [
       "<div>\n",
       "<style scoped>\n",
       "    .dataframe tbody tr th:only-of-type {\n",
       "        vertical-align: middle;\n",
       "    }\n",
       "\n",
       "    .dataframe tbody tr th {\n",
       "        vertical-align: top;\n",
       "    }\n",
       "\n",
       "    .dataframe thead th {\n",
       "        text-align: right;\n",
       "    }\n",
       "</style>\n",
       "<table border=\"1\" class=\"dataframe\">\n",
       "  <thead>\n",
       "    <tr style=\"text-align: right;\">\n",
       "      <th></th>\n",
       "      <th>Cluster</th>\n",
       "    </tr>\n",
       "    <tr>\n",
       "      <th>Series</th>\n",
       "      <th></th>\n",
       "    </tr>\n",
       "  </thead>\n",
       "  <tbody>\n",
       "    <tr>\n",
       "      <th>CIFAR-10, 250 Labels - Semi-Supervised Image Classification benchmarking - CVP</th>\n",
       "      <td>Cluster 1</td>\n",
       "    </tr>\n",
       "    <tr>\n",
       "      <th>STL-10 - Image Clustering benchmarking - CVP</th>\n",
       "      <td>Cluster 1</td>\n",
       "    </tr>\n",
       "    <tr>\n",
       "      <th>Office-Home - Unsupervised Domain Adaptation benchmarking - CVP</th>\n",
       "      <td>Cluster 1</td>\n",
       "    </tr>\n",
       "    <tr>\n",
       "      <th>Extended Yale-B - Image Clustering benchmarking - CVP</th>\n",
       "      <td>Cluster 1</td>\n",
       "    </tr>\n",
       "    <tr>\n",
       "      <th>VIVA Hand Gestures Dataset - Hand Gesture Recognition benchmarking - CVP</th>\n",
       "      <td>Cluster 1</td>\n",
       "    </tr>\n",
       "    <tr>\n",
       "      <th>CommonsenseQA - Common Sense Reasoning benchmarking - NLP</th>\n",
       "      <td>Cluster 1</td>\n",
       "    </tr>\n",
       "    <tr>\n",
       "      <th>VisDA2017 - Domain Adaptation benchmarking - CVP</th>\n",
       "      <td>Cluster 1</td>\n",
       "    </tr>\n",
       "    <tr>\n",
       "      <th>USPS - Image Clustering benchmarking - CVP</th>\n",
       "      <td>Cluster 1</td>\n",
       "    </tr>\n",
       "    <tr>\n",
       "      <th>MLDoc Zero-Shot English-to-Spanish - Cross-Lingual Document Classification benchmarking - NLP</th>\n",
       "      <td>Cluster 1</td>\n",
       "    </tr>\n",
       "    <tr>\n",
       "      <th>MLDoc Zero-Shot English-to-French - Cross-Lingual Document Classification benchmarking - NLP</th>\n",
       "      <td>Cluster 1</td>\n",
       "    </tr>\n",
       "    <tr>\n",
       "      <th>Stanford Cars - Image Clustering benchmarking - CVP</th>\n",
       "      <td>Cluster 1</td>\n",
       "    </tr>\n",
       "    <tr>\n",
       "      <th>SVNH-to-MNIST - Domain Adaptation benchmarking - CVP</th>\n",
       "      <td>Cluster 1</td>\n",
       "    </tr>\n",
       "    <tr>\n",
       "      <th>Kinetics-Skeleton dataset - Skeleton Based Action Recognition benchmarking - CVP</th>\n",
       "      <td>Cluster 1</td>\n",
       "    </tr>\n",
       "    <tr>\n",
       "      <th>MLDoc Zero-Shot English-to-Russian - Cross-Lingual Document Classification benchmarking - NLP</th>\n",
       "      <td>Cluster 1</td>\n",
       "    </tr>\n",
       "    <tr>\n",
       "      <th>MegaFace - Face Identification benchmarking - CVP</th>\n",
       "      <td>Cluster 1</td>\n",
       "    </tr>\n",
       "    <tr>\n",
       "      <th>Mini-ImageNet - 1-Shot Learning - Few-Shot Image Classification benchmarking - CVP</th>\n",
       "      <td>Cluster 1</td>\n",
       "    </tr>\n",
       "    <tr>\n",
       "      <th>EV-Action - Multimodal Activity Recognition benchmarking - CVP</th>\n",
       "      <td>Cluster 1</td>\n",
       "    </tr>\n",
       "    <tr>\n",
       "      <th>COCO-Stuff Labels-to-Photos - Image-to-Image Translation benchmarking - CVP</th>\n",
       "      <td>Cluster 1</td>\n",
       "    </tr>\n",
       "    <tr>\n",
       "      <th>Syn2Real-C - Synthetic-to-Real Translation benchmarking - CVP</th>\n",
       "      <td>Cluster 1</td>\n",
       "    </tr>\n",
       "    <tr>\n",
       "      <th>STL-10, 1000 Labels - Semi-Supervised Image Classification benchmarking - CVP</th>\n",
       "      <td>Cluster 1</td>\n",
       "    </tr>\n",
       "    <tr>\n",
       "      <th>TrackingNet - Visual Object Tracking benchmarking - CVP</th>\n",
       "      <td>Cluster 1</td>\n",
       "    </tr>\n",
       "    <tr>\n",
       "      <th>CUB 200 5-way 5-shot - Few-Shot Image Classification benchmarking - CVP</th>\n",
       "      <td>Cluster 1</td>\n",
       "    </tr>\n",
       "    <tr>\n",
       "      <th>CUB 200 5-way 1-shot - Few-Shot Image Classification benchmarking - CVP</th>\n",
       "      <td>Cluster 1</td>\n",
       "    </tr>\n",
       "    <tr>\n",
       "      <th>Trillion Pairs Dataset - Face Verification benchmarking - CVP</th>\n",
       "      <td>Cluster 2</td>\n",
       "    </tr>\n",
       "    <tr>\n",
       "      <th>Tiny-ImageNet - Image Clustering benchmarking - CVP</th>\n",
       "      <td>Cluster 2</td>\n",
       "    </tr>\n",
       "    <tr>\n",
       "      <th>ImageNet-10 - Image Clustering benchmarking - CVP</th>\n",
       "      <td>Cluster 2</td>\n",
       "    </tr>\n",
       "    <tr>\n",
       "      <th>Imagenet-dog-15 - Image Clustering benchmarking - CVP</th>\n",
       "      <td>Cluster 2</td>\n",
       "    </tr>\n",
       "    <tr>\n",
       "      <th>UWA3D - Skeleton Based Action Recognition benchmarking - CVP</th>\n",
       "      <td>Cluster 2</td>\n",
       "    </tr>\n",
       "    <tr>\n",
       "      <th>CIFAR-100 - Image Clustering benchmarking - CVP</th>\n",
       "      <td>Cluster 2</td>\n",
       "    </tr>\n",
       "    <tr>\n",
       "      <th>CIFAR-10 - Image Clustering benchmarking - CVP</th>\n",
       "      <td>Cluster 2</td>\n",
       "    </tr>\n",
       "    <tr>\n",
       "      <th>Stanford Dogs - Image Clustering benchmarking - CVP</th>\n",
       "      <td>Cluster 2</td>\n",
       "    </tr>\n",
       "    <tr>\n",
       "      <th>CUB Birds - Image Clustering benchmarking - CVP</th>\n",
       "      <td>Cluster 2</td>\n",
       "    </tr>\n",
       "    <tr>\n",
       "      <th>Ohsumed - Text Classification benchmarking - NLP</th>\n",
       "      <td>Cluster 2</td>\n",
       "    </tr>\n",
       "    <tr>\n",
       "      <th>Trillion Pairs Dataset - Face Identification benchmarking - CVP</th>\n",
       "      <td>Cluster 2</td>\n",
       "    </tr>\n",
       "    <tr>\n",
       "      <th>OMNIGLOT - 1-Shot, 5-way - Few-Shot Image Classification benchmarking - CVP</th>\n",
       "      <td>Cluster 3</td>\n",
       "    </tr>\n",
       "    <tr>\n",
       "      <th>AVA - Aesthetics Quality Assessment benchmarking - CVP</th>\n",
       "      <td>Cluster 3</td>\n",
       "    </tr>\n",
       "    <tr>\n",
       "      <th>OMNIGLOT - 5-Shot, 20-way - Few-Shot Image Classification benchmarking - CVP</th>\n",
       "      <td>Cluster 3</td>\n",
       "    </tr>\n",
       "    <tr>\n",
       "      <th>OMNIGLOT - 1-Shot, 20-way - Few-Shot Image Classification benchmarking - CVP</th>\n",
       "      <td>Cluster 3</td>\n",
       "    </tr>\n",
       "    <tr>\n",
       "      <th>SVHN, 1000 labels - Semi-Supervised Image Classification benchmarking - CVP</th>\n",
       "      <td>Cluster 3</td>\n",
       "    </tr>\n",
       "    <tr>\n",
       "      <th>CMU-PIE - Image Clustering benchmarking - CVP</th>\n",
       "      <td>Cluster 3</td>\n",
       "    </tr>\n",
       "    <tr>\n",
       "      <th>Stanford Cars - Fine-Grained Image Classification benchmarking - CVP</th>\n",
       "      <td>Cluster 3</td>\n",
       "    </tr>\n",
       "    <tr>\n",
       "      <th>Kuzushiji-MNIST - Image Classification benchmarking - CVP</th>\n",
       "      <td>Cluster 3</td>\n",
       "    </tr>\n",
       "    <tr>\n",
       "      <th>VQA v2 test-dev - Visual Question Answering benchmarking - CVP</th>\n",
       "      <td>Cluster 3</td>\n",
       "    </tr>\n",
       "    <tr>\n",
       "      <th>SST-2 Binary classification - Sentiment Analysis benchmarking - NLP</th>\n",
       "      <td>Cluster 3</td>\n",
       "    </tr>\n",
       "    <tr>\n",
       "      <th>SVHN, 250 Labels - Semi-Supervised Image Classification benchmarking - CVP</th>\n",
       "      <td>Cluster 3</td>\n",
       "    </tr>\n",
       "    <tr>\n",
       "      <th>MNIST-test - Image Clustering benchmarking - CVP</th>\n",
       "      <td>Cluster 3</td>\n",
       "    </tr>\n",
       "    <tr>\n",
       "      <th>Oxford-IIIT Pets - Fine-Grained Image Classification benchmarking - CVP</th>\n",
       "      <td>Cluster 3</td>\n",
       "    </tr>\n",
       "    <tr>\n",
       "      <th>N-UCLA - Skeleton Based Action Recognition benchmarking - CVP</th>\n",
       "      <td>Cluster 3</td>\n",
       "    </tr>\n",
       "    <tr>\n",
       "      <th>TuSimple - Lane Detection benchmarking - CVP</th>\n",
       "      <td>Cluster 3</td>\n",
       "    </tr>\n",
       "    <tr>\n",
       "      <th>ADE20K Labels-to-Photos - Image-to-Image Translation benchmarking - CVP</th>\n",
       "      <td>Cluster 3</td>\n",
       "    </tr>\n",
       "    <tr>\n",
       "      <th>ADE20K-Outdoor Labels-to-Photos - Image-to-Image Translation benchmarking - CVP</th>\n",
       "      <td>Cluster 3</td>\n",
       "    </tr>\n",
       "    <tr>\n",
       "      <th>IEMOCAP - Emotion Recognition in Conversation benchmarking - CVP</th>\n",
       "      <td>Cluster 3</td>\n",
       "    </tr>\n",
       "    <tr>\n",
       "      <th>Oxford 102 Flowers - Fine-Grained Image Classification benchmarking - CVP</th>\n",
       "      <td>Cluster 3</td>\n",
       "    </tr>\n",
       "    <tr>\n",
       "      <th>Stanford Dogs - Fine-Grained Image Classification benchmarking - CVP</th>\n",
       "      <td>Cluster 3</td>\n",
       "    </tr>\n",
       "    <tr>\n",
       "      <th>cifar-100, 10000 Labels - Semi-Supervised Image Classification benchmarking - CVP</th>\n",
       "      <td>Cluster 3</td>\n",
       "    </tr>\n",
       "    <tr>\n",
       "      <th>NABirds - Fine-Grained Image Classification benchmarking - CVP</th>\n",
       "      <td>Cluster 3</td>\n",
       "    </tr>\n",
       "    <tr>\n",
       "      <th>MSVD-QA - Visual Question Answering benchmarking - CVP</th>\n",
       "      <td>Cluster 3</td>\n",
       "    </tr>\n",
       "    <tr>\n",
       "      <th>MSRVTT-QA - Visual Question Answering benchmarking - CVP</th>\n",
       "      <td>Cluster 3</td>\n",
       "    </tr>\n",
       "    <tr>\n",
       "      <th>Volleyball - Group Activity Recognition benchmarking - CVP</th>\n",
       "      <td>Cluster 3</td>\n",
       "    </tr>\n",
       "    <tr>\n",
       "      <th>LineMOD - 6D Pose Estimation using RGB benchmarking - CVP</th>\n",
       "      <td>Cluster 3</td>\n",
       "    </tr>\n",
       "    <tr>\n",
       "      <th>MNIST-to-USPS - Domain Adaptation benchmarking - CVP</th>\n",
       "      <td>Cluster 3</td>\n",
       "    </tr>\n",
       "    <tr>\n",
       "      <th>SVHN-to-MNIST - Domain Adaptation benchmarking - CVP</th>\n",
       "      <td>Cluster 3</td>\n",
       "    </tr>\n",
       "    <tr>\n",
       "      <th>SYSU 3D - Skeleton Based Action Recognition benchmarking - CVP</th>\n",
       "      <td>Cluster 3</td>\n",
       "    </tr>\n",
       "    <tr>\n",
       "      <th>FGVC Aircraft - Fine-Grained Image Classification benchmarking - CVP</th>\n",
       "      <td>Cluster 3</td>\n",
       "    </tr>\n",
       "    <tr>\n",
       "      <th>Collective Activity - Group Activity Recognition benchmarking - CVP</th>\n",
       "      <td>Cluster 3</td>\n",
       "    </tr>\n",
       "    <tr>\n",
       "      <th>EgoGesture - Hand Gesture Recognition benchmarking - CVP</th>\n",
       "      <td>Cluster 3</td>\n",
       "    </tr>\n",
       "    <tr>\n",
       "      <th>MegaFace - Face Verification benchmarking - CVP</th>\n",
       "      <td>Cluster 3</td>\n",
       "    </tr>\n",
       "    <tr>\n",
       "      <th>RVL-CDIP - Document Image Classification benchmarking - CVP</th>\n",
       "      <td>Cluster 3</td>\n",
       "    </tr>\n",
       "    <tr>\n",
       "      <th>VQA v1 test-dev - Visual Question Answering benchmarking - CVP</th>\n",
       "      <td>Cluster 3</td>\n",
       "    </tr>\n",
       "    <tr>\n",
       "      <th>MLDoc Zero-Shot English-to-German - Cross-Lingual Document Classification benchmarking - NLP</th>\n",
       "      <td>Cluster 3</td>\n",
       "    </tr>\n",
       "    <tr>\n",
       "      <th>MPQA - Sentiment Analysis benchmarking - NLP</th>\n",
       "      <td>Cluster 3</td>\n",
       "    </tr>\n",
       "    <tr>\n",
       "      <th>SciTail - Natural Language Inference benchmarking - NLP</th>\n",
       "      <td>Cluster 3</td>\n",
       "    </tr>\n",
       "    <tr>\n",
       "      <th>IEMOCAP - Emotion Recognition in Conversation benchmarking - NLP</th>\n",
       "      <td>Cluster 3</td>\n",
       "    </tr>\n",
       "    <tr>\n",
       "      <th>MSRVTT-QA - Visual Question Answering benchmarking - NLP</th>\n",
       "      <td>Cluster 3</td>\n",
       "    </tr>\n",
       "    <tr>\n",
       "      <th>MSVD-QA - Visual Question Answering benchmarking - NLP</th>\n",
       "      <td>Cluster 3</td>\n",
       "    </tr>\n",
       "    <tr>\n",
       "      <th>Quora Question Pairs - Paraphrase Identification benchmarking - NLP</th>\n",
       "      <td>Cluster 3</td>\n",
       "    </tr>\n",
       "    <tr>\n",
       "      <th>MR - Sentiment Analysis benchmarking - NLP</th>\n",
       "      <td>Cluster 3</td>\n",
       "    </tr>\n",
       "    <tr>\n",
       "      <th>Yahoo! Answers - Text Classification benchmarking - NLP</th>\n",
       "      <td>Cluster 3</td>\n",
       "    </tr>\n",
       "    <tr>\n",
       "      <th>R8 - Text Classification benchmarking - NLP</th>\n",
       "      <td>Cluster 3</td>\n",
       "    </tr>\n",
       "    <tr>\n",
       "      <th>VQA v2 test-dev - Visual Question Answering benchmarking - NLP</th>\n",
       "      <td>Cluster 3</td>\n",
       "    </tr>\n",
       "    <tr>\n",
       "      <th>VQA v1 test-dev - Visual Question Answering benchmarking - NLP</th>\n",
       "      <td>Cluster 3</td>\n",
       "    </tr>\n",
       "    <tr>\n",
       "      <th>VQA v1 test-std - Visual Question Answering benchmarking - NLP</th>\n",
       "      <td>Cluster 3</td>\n",
       "    </tr>\n",
       "    <tr>\n",
       "      <th>IMDb - Sentiment Analysis benchmarking - NLP</th>\n",
       "      <td>Cluster 3</td>\n",
       "    </tr>\n",
       "    <tr>\n",
       "      <th>ATIS - Semantic Parsing benchmarking - NLP</th>\n",
       "      <td>Cluster 3</td>\n",
       "    </tr>\n",
       "    <tr>\n",
       "      <th>Cora - Document Classification benchmarking - NLP</th>\n",
       "      <td>Cluster 3</td>\n",
       "    </tr>\n",
       "    <tr>\n",
       "      <th>Reuters RCV1/RCV2 German-to-English - Cross-Lingual Document Classification benchmarking - NLP</th>\n",
       "      <td>Cluster 3</td>\n",
       "    </tr>\n",
       "    <tr>\n",
       "      <th>Reuters RCV1/RCV2 English-to-German - Cross-Lingual Document Classification benchmarking - NLP</th>\n",
       "      <td>Cluster 3</td>\n",
       "    </tr>\n",
       "    <tr>\n",
       "      <th>SST-5 Fine-grained classification - Sentiment Analysis benchmarking - NLP</th>\n",
       "      <td>Cluster 3</td>\n",
       "    </tr>\n",
       "    <tr>\n",
       "      <th>MRPC - Semantic Textual Similarity benchmarking - NLP</th>\n",
       "      <td>Cluster 3</td>\n",
       "    </tr>\n",
       "    <tr>\n",
       "      <th>Switchboard corpus - Dialog Act Classification benchmarking - NLP</th>\n",
       "      <td>Cluster 3</td>\n",
       "    </tr>\n",
       "    <tr>\n",
       "      <th>CACDVS - Age-Invariant Face Recognition benchmarking - CVP</th>\n",
       "      <td>Cluster 3</td>\n",
       "    </tr>\n",
       "    <tr>\n",
       "      <th>R52 - Text Classification benchmarking - NLP</th>\n",
       "      <td>Cluster 3</td>\n",
       "    </tr>\n",
       "    <tr>\n",
       "      <th>QNLI - Natural Language Inference benchmarking - NLP</th>\n",
       "      <td>Cluster 3</td>\n",
       "    </tr>\n",
       "    <tr>\n",
       "      <th>VQA v1 test-std - Visual Question Answering benchmarking - CVP</th>\n",
       "      <td>Cluster 3</td>\n",
       "    </tr>\n",
       "    <tr>\n",
       "      <th>SAT-4 - Satellite Image Classification benchmarking - CVP</th>\n",
       "      <td>Cluster 3</td>\n",
       "    </tr>\n",
       "    <tr>\n",
       "      <th>CIFAR-10, 4000 Labels - Semi-Supervised Image Classification benchmarking - CVP</th>\n",
       "      <td>Cluster 3</td>\n",
       "    </tr>\n",
       "    <tr>\n",
       "      <th>Office-Home - Domain Adaptation benchmarking - CVP</th>\n",
       "      <td>Cluster 3</td>\n",
       "    </tr>\n",
       "    <tr>\n",
       "      <th>MNIST-to-MNIST-M - Domain Adaptation benchmarking - CVP</th>\n",
       "      <td>Cluster 3</td>\n",
       "    </tr>\n",
       "    <tr>\n",
       "      <th>ImageCLEF-DA - Domain Adaptation benchmarking - CVP</th>\n",
       "      <td>Cluster 3</td>\n",
       "    </tr>\n",
       "    <tr>\n",
       "      <th>Synth Digits-to-SVHN - Domain Adaptation benchmarking - CVP</th>\n",
       "      <td>Cluster 3</td>\n",
       "    </tr>\n",
       "    <tr>\n",
       "      <th>YouTube Faces DB - Face Verification benchmarking - CVP</th>\n",
       "      <td>Cluster 3</td>\n",
       "    </tr>\n",
       "    <tr>\n",
       "      <th>BIT - Human Interaction Recognition benchmarking - CVP</th>\n",
       "      <td>Cluster 3</td>\n",
       "    </tr>\n",
       "    <tr>\n",
       "      <th>CoLA - Linguistic Acceptability Assessment benchmarking - NLP</th>\n",
       "      <td>Cluster 3</td>\n",
       "    </tr>\n",
       "    <tr>\n",
       "      <th>UCF-to-HMDBfull - Domain Adaptation benchmarking - CVP</th>\n",
       "      <td>Cluster 3</td>\n",
       "    </tr>\n",
       "    <tr>\n",
       "      <th>CUB-200-2011 - Fine-Grained Image Classification benchmarking - CVP</th>\n",
       "      <td>Cluster 3</td>\n",
       "    </tr>\n",
       "    <tr>\n",
       "      <th>Florence 3D - Skeleton Based Action Recognition benchmarking - CVP</th>\n",
       "      <td>Cluster 3</td>\n",
       "    </tr>\n",
       "    <tr>\n",
       "      <th>Olympic-to-HMDBsmall - Domain Adaptation benchmarking - CVP</th>\n",
       "      <td>Cluster 3</td>\n",
       "    </tr>\n",
       "    <tr>\n",
       "      <th>HMDBsmall-to-UCF - Domain Adaptation benchmarking - CVP</th>\n",
       "      <td>Cluster 3</td>\n",
       "    </tr>\n",
       "    <tr>\n",
       "      <th>Labeled Faces in the Wild - Face Verification benchmarking - CVP</th>\n",
       "      <td>Cluster 3</td>\n",
       "    </tr>\n",
       "    <tr>\n",
       "      <th>MNIST - Image Classification benchmarking - CVP</th>\n",
       "      <td>Cluster 3</td>\n",
       "    </tr>\n",
       "    <tr>\n",
       "      <th>UT - Human Interaction Recognition benchmarking - CVP</th>\n",
       "      <td>Cluster 3</td>\n",
       "    </tr>\n",
       "    <tr>\n",
       "      <th>ImageNet ReaL - Image Classification benchmarking - CVP</th>\n",
       "      <td>Cluster 3</td>\n",
       "    </tr>\n",
       "    <tr>\n",
       "      <th>RTE - Natural Language Inference benchmarking - NLP</th>\n",
       "      <td>Cluster 3</td>\n",
       "    </tr>\n",
       "    <tr>\n",
       "      <th>DogCentric - Activity Recognition In Videos benchmarking - CVP</th>\n",
       "      <td>Cluster 3</td>\n",
       "    </tr>\n",
       "    <tr>\n",
       "      <th>CFP-FP - Face Verification benchmarking - CVP</th>\n",
       "      <td>Cluster 3</td>\n",
       "    </tr>\n",
       "  </tbody>\n",
       "</table>\n",
       "</div>"
      ],
      "text/plain": [
       "                                                                                                  Cluster\n",
       "Series                                                                                                   \n",
       "CIFAR-10, 250 Labels - Semi-Supervised Image Classification benchmarking - CVP                  Cluster 1\n",
       "STL-10 - Image Clustering benchmarking - CVP                                                    Cluster 1\n",
       "Office-Home - Unsupervised Domain Adaptation benchmarking - CVP                                 Cluster 1\n",
       "Extended Yale-B - Image Clustering benchmarking - CVP                                           Cluster 1\n",
       "VIVA Hand Gestures Dataset - Hand Gesture Recognition benchmarking - CVP                        Cluster 1\n",
       "CommonsenseQA - Common Sense Reasoning benchmarking - NLP                                       Cluster 1\n",
       "VisDA2017 - Domain Adaptation benchmarking - CVP                                                Cluster 1\n",
       "USPS - Image Clustering benchmarking - CVP                                                      Cluster 1\n",
       "MLDoc Zero-Shot English-to-Spanish - Cross-Lingual Document Classification benchmarking - NLP   Cluster 1\n",
       "MLDoc Zero-Shot English-to-French - Cross-Lingual Document Classification benchmarking - NLP    Cluster 1\n",
       "Stanford Cars - Image Clustering benchmarking - CVP                                             Cluster 1\n",
       "SVNH-to-MNIST - Domain Adaptation benchmarking - CVP                                            Cluster 1\n",
       "Kinetics-Skeleton dataset - Skeleton Based Action Recognition benchmarking - CVP                Cluster 1\n",
       "MLDoc Zero-Shot English-to-Russian - Cross-Lingual Document Classification benchmarking - NLP   Cluster 1\n",
       "MegaFace - Face Identification benchmarking - CVP                                               Cluster 1\n",
       "Mini-ImageNet - 1-Shot Learning - Few-Shot Image Classification benchmarking - CVP              Cluster 1\n",
       "EV-Action - Multimodal Activity Recognition benchmarking - CVP                                  Cluster 1\n",
       "COCO-Stuff Labels-to-Photos - Image-to-Image Translation benchmarking - CVP                     Cluster 1\n",
       "Syn2Real-C - Synthetic-to-Real Translation benchmarking - CVP                                   Cluster 1\n",
       "STL-10, 1000 Labels - Semi-Supervised Image Classification benchmarking - CVP                   Cluster 1\n",
       "TrackingNet - Visual Object Tracking benchmarking - CVP                                         Cluster 1\n",
       "CUB 200 5-way 5-shot - Few-Shot Image Classification benchmarking - CVP                         Cluster 1\n",
       "CUB 200 5-way 1-shot - Few-Shot Image Classification benchmarking - CVP                         Cluster 1\n",
       "Trillion Pairs Dataset - Face Verification benchmarking - CVP                                   Cluster 2\n",
       "Tiny-ImageNet - Image Clustering benchmarking - CVP                                             Cluster 2\n",
       "ImageNet-10 - Image Clustering benchmarking - CVP                                               Cluster 2\n",
       "Imagenet-dog-15 - Image Clustering benchmarking - CVP                                           Cluster 2\n",
       "UWA3D - Skeleton Based Action Recognition benchmarking - CVP                                    Cluster 2\n",
       "CIFAR-100 - Image Clustering benchmarking - CVP                                                 Cluster 2\n",
       "CIFAR-10 - Image Clustering benchmarking - CVP                                                  Cluster 2\n",
       "Stanford Dogs - Image Clustering benchmarking - CVP                                             Cluster 2\n",
       "CUB Birds - Image Clustering benchmarking - CVP                                                 Cluster 2\n",
       "Ohsumed - Text Classification benchmarking - NLP                                                Cluster 2\n",
       "Trillion Pairs Dataset - Face Identification benchmarking - CVP                                 Cluster 2\n",
       "OMNIGLOT - 1-Shot, 5-way - Few-Shot Image Classification benchmarking - CVP                     Cluster 3\n",
       "AVA - Aesthetics Quality Assessment benchmarking - CVP                                          Cluster 3\n",
       "OMNIGLOT - 5-Shot, 20-way - Few-Shot Image Classification benchmarking - CVP                    Cluster 3\n",
       "OMNIGLOT - 1-Shot, 20-way - Few-Shot Image Classification benchmarking - CVP                    Cluster 3\n",
       "SVHN, 1000 labels - Semi-Supervised Image Classification benchmarking - CVP                     Cluster 3\n",
       "CMU-PIE - Image Clustering benchmarking - CVP                                                   Cluster 3\n",
       "Stanford Cars - Fine-Grained Image Classification benchmarking - CVP                            Cluster 3\n",
       "Kuzushiji-MNIST - Image Classification benchmarking - CVP                                       Cluster 3\n",
       "VQA v2 test-dev - Visual Question Answering benchmarking - CVP                                  Cluster 3\n",
       "SST-2 Binary classification - Sentiment Analysis benchmarking - NLP                             Cluster 3\n",
       "SVHN, 250 Labels - Semi-Supervised Image Classification benchmarking - CVP                      Cluster 3\n",
       "MNIST-test - Image Clustering benchmarking - CVP                                                Cluster 3\n",
       "Oxford-IIIT Pets - Fine-Grained Image Classification benchmarking - CVP                         Cluster 3\n",
       "N-UCLA - Skeleton Based Action Recognition benchmarking - CVP                                   Cluster 3\n",
       "TuSimple - Lane Detection benchmarking - CVP                                                    Cluster 3\n",
       "ADE20K Labels-to-Photos - Image-to-Image Translation benchmarking - CVP                         Cluster 3\n",
       "ADE20K-Outdoor Labels-to-Photos - Image-to-Image Translation benchmarking - CVP                 Cluster 3\n",
       "IEMOCAP - Emotion Recognition in Conversation benchmarking - CVP                                Cluster 3\n",
       "Oxford 102 Flowers - Fine-Grained Image Classification benchmarking - CVP                       Cluster 3\n",
       "Stanford Dogs - Fine-Grained Image Classification benchmarking - CVP                            Cluster 3\n",
       "cifar-100, 10000 Labels - Semi-Supervised Image Classification benchmarking - CVP               Cluster 3\n",
       "NABirds - Fine-Grained Image Classification benchmarking - CVP                                  Cluster 3\n",
       "MSVD-QA - Visual Question Answering benchmarking - CVP                                          Cluster 3\n",
       "MSRVTT-QA - Visual Question Answering benchmarking - CVP                                        Cluster 3\n",
       "Volleyball - Group Activity Recognition benchmarking - CVP                                      Cluster 3\n",
       "LineMOD - 6D Pose Estimation using RGB benchmarking - CVP                                       Cluster 3\n",
       "MNIST-to-USPS - Domain Adaptation benchmarking - CVP                                            Cluster 3\n",
       "SVHN-to-MNIST - Domain Adaptation benchmarking - CVP                                            Cluster 3\n",
       "SYSU 3D - Skeleton Based Action Recognition benchmarking - CVP                                  Cluster 3\n",
       "FGVC Aircraft - Fine-Grained Image Classification benchmarking - CVP                            Cluster 3\n",
       "Collective Activity - Group Activity Recognition benchmarking - CVP                             Cluster 3\n",
       "EgoGesture - Hand Gesture Recognition benchmarking - CVP                                        Cluster 3\n",
       "MegaFace - Face Verification benchmarking - CVP                                                 Cluster 3\n",
       "RVL-CDIP - Document Image Classification benchmarking - CVP                                     Cluster 3\n",
       "VQA v1 test-dev - Visual Question Answering benchmarking - CVP                                  Cluster 3\n",
       "MLDoc Zero-Shot English-to-German - Cross-Lingual Document Classification benchmarking - NLP    Cluster 3\n",
       "MPQA - Sentiment Analysis benchmarking - NLP                                                    Cluster 3\n",
       "SciTail - Natural Language Inference benchmarking - NLP                                         Cluster 3\n",
       "IEMOCAP - Emotion Recognition in Conversation benchmarking - NLP                                Cluster 3\n",
       "MSRVTT-QA - Visual Question Answering benchmarking - NLP                                        Cluster 3\n",
       "MSVD-QA - Visual Question Answering benchmarking - NLP                                          Cluster 3\n",
       "Quora Question Pairs - Paraphrase Identification benchmarking - NLP                             Cluster 3\n",
       "MR - Sentiment Analysis benchmarking - NLP                                                      Cluster 3\n",
       "Yahoo! Answers - Text Classification benchmarking - NLP                                         Cluster 3\n",
       "R8 - Text Classification benchmarking - NLP                                                     Cluster 3\n",
       "VQA v2 test-dev - Visual Question Answering benchmarking - NLP                                  Cluster 3\n",
       "VQA v1 test-dev - Visual Question Answering benchmarking - NLP                                  Cluster 3\n",
       "VQA v1 test-std - Visual Question Answering benchmarking - NLP                                  Cluster 3\n",
       "IMDb - Sentiment Analysis benchmarking - NLP                                                    Cluster 3\n",
       "ATIS - Semantic Parsing benchmarking - NLP                                                      Cluster 3\n",
       "Cora - Document Classification benchmarking - NLP                                               Cluster 3\n",
       "Reuters RCV1/RCV2 German-to-English - Cross-Lingual Document Classification benchmarking - NLP  Cluster 3\n",
       "Reuters RCV1/RCV2 English-to-German - Cross-Lingual Document Classification benchmarking - NLP  Cluster 3\n",
       "SST-5 Fine-grained classification - Sentiment Analysis benchmarking - NLP                       Cluster 3\n",
       "MRPC - Semantic Textual Similarity benchmarking - NLP                                           Cluster 3\n",
       "Switchboard corpus - Dialog Act Classification benchmarking - NLP                               Cluster 3\n",
       "CACDVS - Age-Invariant Face Recognition benchmarking - CVP                                      Cluster 3\n",
       "R52 - Text Classification benchmarking - NLP                                                    Cluster 3\n",
       "QNLI - Natural Language Inference benchmarking - NLP                                            Cluster 3\n",
       "VQA v1 test-std - Visual Question Answering benchmarking - CVP                                  Cluster 3\n",
       "SAT-4 - Satellite Image Classification benchmarking - CVP                                       Cluster 3\n",
       "CIFAR-10, 4000 Labels - Semi-Supervised Image Classification benchmarking - CVP                 Cluster 3\n",
       "Office-Home - Domain Adaptation benchmarking - CVP                                              Cluster 3\n",
       "MNIST-to-MNIST-M - Domain Adaptation benchmarking - CVP                                         Cluster 3\n",
       "ImageCLEF-DA - Domain Adaptation benchmarking - CVP                                             Cluster 3\n",
       "Synth Digits-to-SVHN - Domain Adaptation benchmarking - CVP                                     Cluster 3\n",
       "YouTube Faces DB - Face Verification benchmarking - CVP                                         Cluster 3\n",
       "BIT - Human Interaction Recognition benchmarking - CVP                                          Cluster 3\n",
       "CoLA - Linguistic Acceptability Assessment benchmarking - NLP                                   Cluster 3\n",
       "UCF-to-HMDBfull - Domain Adaptation benchmarking - CVP                                          Cluster 3\n",
       "CUB-200-2011 - Fine-Grained Image Classification benchmarking - CVP                             Cluster 3\n",
       "Florence 3D - Skeleton Based Action Recognition benchmarking - CVP                              Cluster 3\n",
       "Olympic-to-HMDBsmall - Domain Adaptation benchmarking - CVP                                     Cluster 3\n",
       "HMDBsmall-to-UCF - Domain Adaptation benchmarking - CVP                                         Cluster 3\n",
       "Labeled Faces in the Wild - Face Verification benchmarking - CVP                                Cluster 3\n",
       "MNIST - Image Classification benchmarking - CVP                                                 Cluster 3\n",
       "UT - Human Interaction Recognition benchmarking - CVP                                           Cluster 3\n",
       "ImageNet ReaL - Image Classification benchmarking - CVP                                         Cluster 3\n",
       "RTE - Natural Language Inference benchmarking - NLP                                             Cluster 3\n",
       "DogCentric - Activity Recognition In Videos benchmarking - CVP                                  Cluster 3\n",
       "CFP-FP - Face Verification benchmarking - CVP                                                   Cluster 3"
      ]
     },
     "execution_count": 12,
     "metadata": {},
     "output_type": "execute_result"
    }
   ],
   "source": [
    "#Set namesofMySeries\n",
    "namesofMySeries = df.index\n",
    "\n",
    "pd.set_option('display.max_rows', None)\n",
    "pd.set_option('display.max_columns',None)\n",
    "\n",
    "#Perform Cluster Mapping\n",
    "cluster_map = []\n",
    "for idx in range(len(df.index)):\n",
    "    winner_node = som.winner(mySeries[idx])\n",
    "    cluster_map.append((namesofMySeries[idx],f\"Cluster {winner_node[0]*som_y+winner_node[1]+1}\"))\n",
    "\n",
    "cluster_map=pd.DataFrame(cluster_map,columns=[\"Series\",\"Cluster\"]).sort_values(by=\"Cluster\").set_index(\"Series\")\n",
    "cluster_map.to_csv(\"cluster_map.csv\",index=True, header=True)\n",
    "cluster_map"
   ]
  },
  {
   "cell_type": "code",
   "execution_count": null,
   "metadata": {
    "id": "E7yvjTtoxwkL"
   },
   "outputs": [],
   "source": []
  }
 ],
 "metadata": {
  "colab": {
   "collapsed_sections": [],
   "name": " Time series clusters identified by SOM across all benchmark datasets",
   "provenance": []
  },
  "kernelspec": {
   "display_name": "Python 3",
   "language": "python",
   "name": "python3"
  },
  "language_info": {
   "codemirror_mode": {
    "name": "ipython",
    "version": 3
   },
   "file_extension": ".py",
   "mimetype": "text/x-python",
   "name": "python",
   "nbconvert_exporter": "python",
   "pygments_lexer": "ipython3",
   "version": "3.7.9"
  }
 },
 "nbformat": 4,
 "nbformat_minor": 1
}
