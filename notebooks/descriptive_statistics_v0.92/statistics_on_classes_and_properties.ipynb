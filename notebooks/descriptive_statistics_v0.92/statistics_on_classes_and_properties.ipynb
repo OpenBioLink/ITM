{
 "cells": [
  {
   "cell_type": "markdown",
   "metadata": {},
   "source": [
    "# Descriptive statistics on classes and properties (ITO v0.92)"
   ]
  },
  {
   "cell_type": "code",
   "execution_count": 1,
   "metadata": {
    "colab": {
     "base_uri": "https://localhost:8080/"
    },
    "id": "9ggu5W8336E6",
    "outputId": "8bed5186-5767-4c9d-81ad-6131b779be94"
   },
   "outputs": [
    {
     "name": "stderr",
     "output_type": "stream",
     "text": [
      "* Owlready2 * Warning: optimized Cython parser module 'owlready2_optimized' is not available, defaulting to slower Python implementation\n"
     ]
    }
   ],
   "source": [
    "from owlready2 import *\n",
    "from matplotlib.ticker import ScalarFormatter\n",
    "import rdflib\n",
    "import pandas as pd\n",
    "%matplotlib inline"
   ]
  },
  {
   "cell_type": "code",
   "execution_count": 2,
   "metadata": {
    "id": "VHTHJO9l3-kF"
   },
   "outputs": [],
   "source": [
    "# Paths\n",
    "ONTOLOGY = get_ontology('ITO-23-09-2021.owl')\n",
    "#onto = get_ontology(\"https://github.com/OpenBioLink/ITO/raw/master/ITO.owl\")\n",
    "ONTOLOGY.load()\n",
    "ITO = ONTOLOGY.get_namespace('https://ai-strategies.org/ontology')\n",
    "EDAM = ONTOLOGY.get_namespace('http://edamontology.org')"
   ]
  },
  {
   "cell_type": "code",
   "execution_count": 3,
   "metadata": {
    "colab": {
     "base_uri": "https://localhost:8080/"
    },
    "id": "VJMpKjPW8jdP",
    "outputId": "a06358dc-53bf-46c4-930c-f81b9d4c756c"
   },
   "outputs": [],
   "source": [
    "graph = default_world.as_rdflib_graph()\n",
    "\n",
    "namespaces ={ 'owl': rdflib.OWL,\n",
    "              'rdfs': rdflib.RDFS,\n",
    "              'edam': 'http://edamontology.org/',\n",
    "              'ito': 'https://ai-strategies.org/ontology/'}"
   ]
  },
  {
   "cell_type": "markdown",
   "metadata": {
    "id": "26D6yZRIFJII"
   },
   "source": [
    "## Total number of papers covered by ITO"
   ]
  },
  {
   "cell_type": "code",
   "execution_count": 4,
   "metadata": {
    "colab": {
     "base_uri": "https://localhost:8080/",
     "height": 80
    },
    "id": "8IhFgX9-E7k3",
    "outputId": "332a93b2-4fff-4e79-f6d1-46340e444522"
   },
   "outputs": [
    {
     "name": "stdout",
     "output_type": "stream",
     "text": [
      "paper_count\n"
     ]
    }
   ],
   "source": [
    "result = graph.query(\"\"\"\n",
    "SELECT (COUNT(?paper) as ?paper_count) WHERE {\n",
    "    ?paper a edam:data_0971 .\n",
    "}\n",
    "\"\"\", initNs = namespaces)\n",
    "df = pd.DataFrame.from_dict(result)\n",
    "df\n",
    "\n",
    "for i in result.bindings[0]:\n",
    "    print(i)"
   ]
  },
  {
   "cell_type": "markdown",
   "metadata": {
    "id": "rsAoUSkN6w-Z"
   },
   "source": []
  },
  {
   "cell_type": "markdown",
   "metadata": {
    "id": "NQfkcGlMFRTY"
   },
   "source": [
    "## Time span of publications covered by PWC"
   ]
  },
  {
   "cell_type": "code",
   "execution_count": 5,
   "metadata": {
    "colab": {
     "base_uri": "https://localhost:8080/",
     "height": 419
    },
    "id": "8FcJFrC4asEp",
    "outputId": "ce71e4fc-757f-4275-e001-354fa9d63227"
   },
   "outputs": [
    {
     "data": {
      "text/html": [
       "<div>\n",
       "<style scoped>\n",
       "    .dataframe tbody tr th:only-of-type {\n",
       "        vertical-align: middle;\n",
       "    }\n",
       "\n",
       "    .dataframe tbody tr th {\n",
       "        vertical-align: top;\n",
       "    }\n",
       "\n",
       "    .dataframe thead th {\n",
       "        text-align: right;\n",
       "    }\n",
       "</style>\n",
       "<table border=\"1\" class=\"dataframe\">\n",
       "  <thead>\n",
       "    <tr style=\"text-align: right;\">\n",
       "      <th></th>\n",
       "      <th>paper</th>\n",
       "      <th>date</th>\n",
       "    </tr>\n",
       "  </thead>\n",
       "  <tbody>\n",
       "    <tr>\n",
       "      <td>0</td>\n",
       "      <td>https://identifiers.org/ito:ITO_10000</td>\n",
       "      <td>2000-09-24</td>\n",
       "    </tr>\n",
       "    <tr>\n",
       "      <td>1</td>\n",
       "      <td>https://identifiers.org/ito:ITO_16777</td>\n",
       "      <td>2003-07-18</td>\n",
       "    </tr>\n",
       "    <tr>\n",
       "      <td>2</td>\n",
       "      <td>https://identifiers.org/ito:ITO_30858</td>\n",
       "      <td>2004-07-01</td>\n",
       "    </tr>\n",
       "    <tr>\n",
       "      <td>3</td>\n",
       "      <td>https://identifiers.org/ito:ITO_12116</td>\n",
       "      <td>2005-01-01</td>\n",
       "    </tr>\n",
       "    <tr>\n",
       "      <td>4</td>\n",
       "      <td>https://identifiers.org/ito:ITO_15836</td>\n",
       "      <td>2006-05-12</td>\n",
       "    </tr>\n",
       "    <tr>\n",
       "      <td>...</td>\n",
       "      <td>...</td>\n",
       "      <td>...</td>\n",
       "    </tr>\n",
       "    <tr>\n",
       "      <td>7668</td>\n",
       "      <td>https://identifiers.org/ito:ITO_20168</td>\n",
       "      <td>2021-07-13</td>\n",
       "    </tr>\n",
       "    <tr>\n",
       "      <td>7669</td>\n",
       "      <td>https://identifiers.org/ito:ITO_29574</td>\n",
       "      <td>2021-07-13</td>\n",
       "    </tr>\n",
       "    <tr>\n",
       "      <td>7670</td>\n",
       "      <td>https://identifiers.org/ito:ITO_34147</td>\n",
       "      <td>2021-07-13</td>\n",
       "    </tr>\n",
       "    <tr>\n",
       "      <td>7671</td>\n",
       "      <td>https://identifiers.org/ito:ITO_37637</td>\n",
       "      <td>2021-07-15</td>\n",
       "    </tr>\n",
       "    <tr>\n",
       "      <td>7672</td>\n",
       "      <td>https://identifiers.org/ito:ITO_30511</td>\n",
       "      <td>2021-08-01</td>\n",
       "    </tr>\n",
       "  </tbody>\n",
       "</table>\n",
       "<p>7673 rows × 2 columns</p>\n",
       "</div>"
      ],
      "text/plain": [
       "                                      paper        date\n",
       "0     https://identifiers.org/ito:ITO_10000  2000-09-24\n",
       "1     https://identifiers.org/ito:ITO_16777  2003-07-18\n",
       "2     https://identifiers.org/ito:ITO_30858  2004-07-01\n",
       "3     https://identifiers.org/ito:ITO_12116  2005-01-01\n",
       "4     https://identifiers.org/ito:ITO_15836  2006-05-12\n",
       "...                                     ...         ...\n",
       "7668  https://identifiers.org/ito:ITO_20168  2021-07-13\n",
       "7669  https://identifiers.org/ito:ITO_29574  2021-07-13\n",
       "7670  https://identifiers.org/ito:ITO_34147  2021-07-13\n",
       "7671  https://identifiers.org/ito:ITO_37637  2021-07-15\n",
       "7672  https://identifiers.org/ito:ITO_30511  2021-08-01\n",
       "\n",
       "[7673 rows x 2 columns]"
      ]
     },
     "execution_count": 5,
     "metadata": {},
     "output_type": "execute_result"
    }
   ],
   "source": [
    "result = graph.query(\"\"\"\n",
    "SELECT ?paper ?date WHERE {\n",
    "    ?paper a edam:data_0971 .\n",
    "    ?paper <http://www.geneontology.org/formats/oboInOwl#date> ?date\n",
    "}\n",
    "ORDER BY ?date\n",
    "\"\"\", initNs = namespaces)\n",
    "df = pd.DataFrame.from_dict(result, orient='columns')\n",
    "df.columns = [i for i in result.bindings[0]]\n",
    "df.to_csv('data/time_span_of_publications_covered_by_PWC.csv', index=False)\n",
    "df\n",
    "\n",
    "#for i in result.bindings[0]:\n",
    "#    print(type(i))"
   ]
  },
  {
   "cell_type": "code",
   "execution_count": 6,
   "metadata": {
    "colab": {
     "base_uri": "https://localhost:8080/",
     "height": 476
    },
    "id": "KXIT2MPMAwwT",
    "outputId": "8270ea0b-4224-4e2c-dffa-a41ef263509b"
   },
   "outputs": [
    {
     "data": {
      "image/png": "[encoded data removed]",
      "text/plain": [
       "<matplotlib.figure.Figure at 0x2982d0a6f98>"
      ]
     },
     "metadata": {},
     "output_type": "display_data"
    }
   ],
   "source": [
    "# Plot bar chart\n",
    "\n",
    "time_span_of_publications_covered_by_PWC = pd.read_csv('data/time_span_of_publications_covered_by_PWC.csv')\n",
    "\n",
    "# Convert 'date' column to datetime\n",
    "time_span_of_publications_covered_by_PWC['date'] = pd.to_datetime(time_span_of_publications_covered_by_PWC['date'])\n",
    "\n",
    "# Add extra column for year\n",
    "time_span_of_publications_covered_by_PWC['year'] = time_span_of_publications_covered_by_PWC['date'].apply(lambda x: \"%d\" % (x.year))\n",
    "time_span_of_publications_covered_by_PWC_grouped_by_year = time_span_of_publications_covered_by_PWC.groupby('year').size()\n",
    "\n",
    "\n",
    "ax = time_span_of_publications_covered_by_PWC_grouped_by_year.plot.bar(rot=60, color=['#607996'], \n",
    "                                                                       figsize=(7,4), log=True)\n",
    "\n",
    "ax.set_yscale('log')\n",
    "ax.yaxis.set_major_formatter(ScalarFormatter())\n",
    "ax.xaxis.set_label_text('Year')\n",
    "ax.yaxis.set_label_text('Number of publications')\n",
    "\n",
    "# Save figure\n",
    "ax.figure.savefig('plots/time_span_of_publications.png', format='png')\n"
   ]
  },
  {
   "cell_type": "markdown",
   "metadata": {
    "id": "nVFtBMCQ56Ew"
   },
   "source": [
    "## Total number of distinct benchmarks (datasets)"
   ]
  },
  {
   "cell_type": "code",
   "execution_count": 7,
   "metadata": {
    "colab": {
     "base_uri": "https://localhost:8080/",
     "height": 80
    },
    "id": "RlpaN4xK59De",
    "outputId": "4c594757-dc11-441f-9b1c-e29823adfb33"
   },
   "outputs": [
    {
     "data": {
      "text/html": [
       "<div>\n",
       "<style scoped>\n",
       "    .dataframe tbody tr th:only-of-type {\n",
       "        vertical-align: middle;\n",
       "    }\n",
       "\n",
       "    .dataframe tbody tr th {\n",
       "        vertical-align: top;\n",
       "    }\n",
       "\n",
       "    .dataframe thead th {\n",
       "        text-align: right;\n",
       "    }\n",
       "</style>\n",
       "<table border=\"1\" class=\"dataframe\">\n",
       "  <thead>\n",
       "    <tr style=\"text-align: right;\">\n",
       "      <th></th>\n",
       "      <th>0</th>\n",
       "    </tr>\n",
       "  </thead>\n",
       "  <tbody>\n",
       "    <tr>\n",
       "      <td>0</td>\n",
       "      <td>3633</td>\n",
       "    </tr>\n",
       "  </tbody>\n",
       "</table>\n",
       "</div>"
      ],
      "text/plain": [
       "      0\n",
       "0  3633"
      ]
     },
     "execution_count": 7,
     "metadata": {},
     "output_type": "execute_result"
    }
   ],
   "source": [
    "result = graph.query(\"\"\"\n",
    "SELECT (COUNT(?benchmark) as ?benchmark_count) WHERE {\n",
    "    ?benchmark a <https://identifiers.org/ito:Benchmark_dataset> .\n",
    "}\n",
    "\"\"\", initNs = namespaces)\n",
    "df = df.from_dict(result)\n",
    "df"
   ]
  },
  {
   "cell_type": "markdown",
   "metadata": {
    "id": "Ytl-eaC87RO7"
   },
   "source": [
    "## Total number of benchmark results"
   ]
  },
  {
   "cell_type": "code",
   "execution_count": 8,
   "metadata": {
    "colab": {
     "base_uri": "https://localhost:8080/",
     "height": 80
    },
    "id": "yhg9vyu--j-c",
    "outputId": "12bd420e-031a-446c-b3a3-899bc1b830c5"
   },
   "outputs": [
    {
     "data": {
      "text/html": [
       "<div>\n",
       "<style scoped>\n",
       "    .dataframe tbody tr th:only-of-type {\n",
       "        vertical-align: middle;\n",
       "    }\n",
       "\n",
       "    .dataframe tbody tr th {\n",
       "        vertical-align: top;\n",
       "    }\n",
       "\n",
       "    .dataframe thead th {\n",
       "        text-align: right;\n",
       "    }\n",
       "</style>\n",
       "<table border=\"1\" class=\"dataframe\">\n",
       "  <thead>\n",
       "    <tr style=\"text-align: right;\">\n",
       "      <th></th>\n",
       "      <th>benchmark_count</th>\n",
       "    </tr>\n",
       "  </thead>\n",
       "  <tbody>\n",
       "    <tr>\n",
       "      <td>0</td>\n",
       "      <td>26495</td>\n",
       "    </tr>\n",
       "  </tbody>\n",
       "</table>\n",
       "</div>"
      ],
      "text/plain": [
       "  benchmark_count\n",
       "0           26495"
      ]
     },
     "execution_count": 8,
     "metadata": {},
     "output_type": "execute_result"
    }
   ],
   "source": [
    "result = graph.query(\"\"\"\n",
    "SELECT (COUNT(?benchmark) as ?benchmark_count) \n",
    "WHERE {\n",
    "    ?benchmark rdf:type/rdfs:subClassOf* <https://identifiers.org/ito:Benchmarking> .\n",
    "} \"\"\", initNs = namespaces)\n",
    "\n",
    "df = pd.DataFrame.from_dict(result, orient='columns')\n",
    "df.columns = [i for i in result.bindings[0]]\n",
    "df"
   ]
  },
  {
   "cell_type": "markdown",
   "metadata": {
    "id": "nyOjgfiTJtRI"
   },
   "source": [
    "## Number of benchmarks per high-level process\n"
   ]
  },
  {
   "cell_type": "code",
   "execution_count": 9,
   "metadata": {
    "id": "d1ksZsT3M0ak"
   },
   "outputs": [
    {
     "data": {
      "text/html": [
       "<div>\n",
       "<style scoped>\n",
       "    .dataframe tbody tr th:only-of-type {\n",
       "        vertical-align: middle;\n",
       "    }\n",
       "\n",
       "    .dataframe tbody tr th {\n",
       "        vertical-align: top;\n",
       "    }\n",
       "\n",
       "    .dataframe thead th {\n",
       "        text-align: right;\n",
       "    }\n",
       "</style>\n",
       "<table border=\"1\" class=\"dataframe\">\n",
       "  <thead>\n",
       "    <tr style=\"text-align: right;\">\n",
       "      <th></th>\n",
       "      <th>high_level_process_label</th>\n",
       "      <th>high_level_process</th>\n",
       "      <th>benchmark_count</th>\n",
       "    </tr>\n",
       "  </thead>\n",
       "  <tbody>\n",
       "    <tr>\n",
       "      <td>0</td>\n",
       "      <td>Benchmarking</td>\n",
       "      <td>https://identifiers.org/ito:Benchmarking</td>\n",
       "      <td>4590</td>\n",
       "    </tr>\n",
       "    <tr>\n",
       "      <td>1</td>\n",
       "      <td>Vision process</td>\n",
       "      <td>https://identifiers.org/ito:ITO_00101</td>\n",
       "      <td>2517</td>\n",
       "    </tr>\n",
       "    <tr>\n",
       "      <td>2</td>\n",
       "      <td>Natural language processing</td>\n",
       "      <td>https://identifiers.org/ito:ITO_00141</td>\n",
       "      <td>1127</td>\n",
       "    </tr>\n",
       "    <tr>\n",
       "      <td>3</td>\n",
       "      <td>Fundamental AI process</td>\n",
       "      <td>https://identifiers.org/ito:ITO_00115</td>\n",
       "      <td>694</td>\n",
       "    </tr>\n",
       "    <tr>\n",
       "      <td>4</td>\n",
       "      <td>Graph process</td>\n",
       "      <td>https://identifiers.org/ito:ITO_00137</td>\n",
       "      <td>258</td>\n",
       "    </tr>\n",
       "    <tr>\n",
       "      <td>5</td>\n",
       "      <td>Biomedical AI process</td>\n",
       "      <td>https://identifiers.org/ito:ITO_00126</td>\n",
       "      <td>224</td>\n",
       "    </tr>\n",
       "    <tr>\n",
       "      <td>6</td>\n",
       "      <td>Miscellaneous process</td>\n",
       "      <td>https://identifiers.org/ito:ITO_00113</td>\n",
       "      <td>222</td>\n",
       "    </tr>\n",
       "    <tr>\n",
       "      <td>7</td>\n",
       "      <td>Audio process</td>\n",
       "      <td>https://identifiers.org/ito:ITO_00145</td>\n",
       "      <td>207</td>\n",
       "    </tr>\n",
       "    <tr>\n",
       "      <td>8</td>\n",
       "      <td>Time series process</td>\n",
       "      <td>https://identifiers.org/ito:ITO_00131</td>\n",
       "      <td>175</td>\n",
       "    </tr>\n",
       "    <tr>\n",
       "      <td>9</td>\n",
       "      <td>Playing games</td>\n",
       "      <td>https://identifiers.org/ito:ITO_00873</td>\n",
       "      <td>171</td>\n",
       "    </tr>\n",
       "    <tr>\n",
       "      <td>10</td>\n",
       "      <td>Knowledge base process</td>\n",
       "      <td>https://identifiers.org/ito:ITO_00528</td>\n",
       "      <td>82</td>\n",
       "    </tr>\n",
       "    <tr>\n",
       "      <td>11</td>\n",
       "      <td>Computer code process</td>\n",
       "      <td>https://identifiers.org/ito:ITO_00485</td>\n",
       "      <td>67</td>\n",
       "    </tr>\n",
       "    <tr>\n",
       "      <td>12</td>\n",
       "      <td>Reasoning</td>\n",
       "      <td>https://identifiers.org/ito:ITO_00506x</td>\n",
       "      <td>34</td>\n",
       "    </tr>\n",
       "    <tr>\n",
       "      <td>13</td>\n",
       "      <td>Robotics process</td>\n",
       "      <td>https://identifiers.org/ito:ITO_00600</td>\n",
       "      <td>24</td>\n",
       "    </tr>\n",
       "    <tr>\n",
       "      <td>14</td>\n",
       "      <td>Art-related process</td>\n",
       "      <td>https://identifiers.org/ito:ITO_01532</td>\n",
       "      <td>15</td>\n",
       "    </tr>\n",
       "    <tr>\n",
       "      <td>15</td>\n",
       "      <td>Adversarial process</td>\n",
       "      <td>https://identifiers.org/ito:ITO_00310</td>\n",
       "      <td>11</td>\n",
       "    </tr>\n",
       "  </tbody>\n",
       "</table>\n",
       "</div>"
      ],
      "text/plain": [
       "       high_level_process_label                        high_level_process  \\\n",
       "0                  Benchmarking  https://identifiers.org/ito:Benchmarking   \n",
       "1                Vision process     https://identifiers.org/ito:ITO_00101   \n",
       "2   Natural language processing     https://identifiers.org/ito:ITO_00141   \n",
       "3        Fundamental AI process     https://identifiers.org/ito:ITO_00115   \n",
       "4                 Graph process     https://identifiers.org/ito:ITO_00137   \n",
       "5         Biomedical AI process     https://identifiers.org/ito:ITO_00126   \n",
       "6         Miscellaneous process     https://identifiers.org/ito:ITO_00113   \n",
       "7                 Audio process     https://identifiers.org/ito:ITO_00145   \n",
       "8           Time series process     https://identifiers.org/ito:ITO_00131   \n",
       "9                 Playing games     https://identifiers.org/ito:ITO_00873   \n",
       "10       Knowledge base process     https://identifiers.org/ito:ITO_00528   \n",
       "11        Computer code process     https://identifiers.org/ito:ITO_00485   \n",
       "12                    Reasoning    https://identifiers.org/ito:ITO_00506x   \n",
       "13             Robotics process     https://identifiers.org/ito:ITO_00600   \n",
       "14          Art-related process     https://identifiers.org/ito:ITO_01532   \n",
       "15          Adversarial process     https://identifiers.org/ito:ITO_00310   \n",
       "\n",
       "   benchmark_count  \n",
       "0             4590  \n",
       "1             2517  \n",
       "2             1127  \n",
       "3              694  \n",
       "4              258  \n",
       "5              224  \n",
       "6              222  \n",
       "7              207  \n",
       "8              175  \n",
       "9              171  \n",
       "10              82  \n",
       "11              67  \n",
       "12              34  \n",
       "13              24  \n",
       "14              15  \n",
       "15              11  "
      ]
     },
     "execution_count": 9,
     "metadata": {},
     "output_type": "execute_result"
    }
   ],
   "source": [
    "result = graph.query(\"\"\"\n",
    "SELECT ?high_level_process_label ?high_level_process\n",
    "       (COUNT(?benchmark) AS ?benchmark_count)\n",
    "WHERE {\n",
    "    ?high_level_process rdfs:subClassOf <https://identifiers.org/ito:ITO_01625>;\n",
    "                        rdfs:label ?high_level_process_label . \n",
    "    ?benchmark rdfs:subClassOf <https://identifiers.org/ito:Benchmarking> . \n",
    "\n",
    "    ?benchmark rdfs:subClassOf* ?high_level_process .\n",
    "}\n",
    "GROUP BY ?high_level_process\n",
    "ORDER BY DESC(?benchmark_count)\n",
    "\"\"\", initNs = namespaces)\n",
    "number_of_benchmarks = pd.DataFrame.from_dict(result, orient='columns')\n",
    "number_of_benchmarks.columns = [str(i) for i in result.bindings[0]]\n",
    "number_of_benchmarks "
   ]
  },
  {
   "cell_type": "code",
   "execution_count": 10,
   "metadata": {
    "colab": {
     "base_uri": "https://localhost:8080/",
     "height": 607
    },
    "id": "PVxRrHPwT7Kk",
    "outputId": "fb5abe0d-73b6-4f69-e60b-df95bae55ef8"
   },
   "outputs": [],
   "source": [
    "#number_of_benchmarks = pd.concat([number_of_benchmarks.iloc[:,-1].astype(float), number_of_benchmarks.iloc[:,0]], axis=1)\n",
    "#number_of_benchmarks = number_of_benchmarks.drop(index=[0,12])\n",
    "#number_of_benchmarks "
   ]
  },
  {
   "cell_type": "markdown",
   "metadata": {},
   "source": [
    "## Number of benchmark results per high level process"
   ]
  },
  {
   "cell_type": "code",
   "execution_count": 11,
   "metadata": {},
   "outputs": [],
   "source": [
    "result = graph.query(\"\"\"\n",
    "SELECT ?high_level_process_label ?high_level_process\n",
    "       (COUNT(?benchmark) AS ?benchmark_count)\n",
    "WHERE {\n",
    "    ?high_level_process rdfs:subClassOf <https://identifiers.org/ito:ITO_01625>;\n",
    "                        rdfs:label ?high_level_process_label . \n",
    "    ?benchmark rdf:type/rdfs:subClassOf* <https://identifiers.org/ito:Benchmarking> . \n",
    "    ?benchmark rdf:type/rdfs:subClassOf* ?high_level_process .\n",
    "}\n",
    "GROUP BY ?high_level_process\n",
    "ORDER BY DESC(?benchmark_count)\n",
    "\"\"\", initNs = namespaces)\n",
    "number_of_benchmark_results = pd.DataFrame.from_dict(result, orient='columns')\n",
    "number_of_benchmark_results.columns = [str(i) for i in result.bindings[0]]"
   ]
  },
  {
   "cell_type": "code",
   "execution_count": 12,
   "metadata": {
    "scrolled": true
   },
   "outputs": [],
   "source": [
    "#Fix column names\n",
    "number_of_benchmarks.columns = ['high_level_process_label', 'high_level_process', 'Benchmarks']\n",
    "number_of_benchmark_results.columns = ['high_level_process_label', 'high_level_process', 'Benchmark results']\n",
    "\n",
    "number_of_benchmark_results.columns\n",
    "\n",
    "comparison_df = pd.merge(number_of_benchmarks, number_of_benchmark_results, on=['high_level_process_label', 'high_level_process'])\n",
    "comparison_df.drop(comparison_df.columns[1], axis=1, inplace=True)\n",
    "comparison_df = comparison_df.sort_values(by='Benchmarks')\n",
    "#Drop 'benchmarking' process\n",
    "comparison_df = comparison_df[:-1]"
   ]
  },
  {
   "cell_type": "code",
   "execution_count": 14,
   "metadata": {
    "scrolled": true
   },
   "outputs": [
    {
     "data": {
      "image/png": "[encoded data removed]",
      "text/plain": [
       "<matplotlib.figure.Figure at 0x2982b394400>"
      ]
     },
     "metadata": {},
     "output_type": "display_data"
    }
   ],
   "source": [
    "# Covert to float for plotting\n",
    "comparison_df['Benchmarks'] = comparison_df['Benchmarks'].astype(float)\n",
    "comparison_df['Benchmark results'] = comparison_df['Benchmark results'].astype(float)\n",
    "comparison_df = comparison_df.set_index(comparison_df.iloc[:,0])\n",
    "ax= comparison_df.plot.barh(figsize=(9,9), color=['#a1cbfb', '#607996'], log=True)\n",
    "\n",
    "\n",
    "ax.set_xscale('log')\n",
    "ax.xaxis.set_major_formatter(ScalarFormatter())\n",
    "#ax.xaxis.set_label_text('Year')\n",
    "ax.yaxis.set_label_text('Process')\n",
    "# Save figure\n",
    "ax.figure.savefig('plots/comparison_benchmarks_and_results.png', format='png', bbox_inches='tight')"
   ]
  }
 ],
 "metadata": {
  "colab": {
   "collapsed_sections": [],
   "name": "ITO Statistics on classes and properties",
   "provenance": []
  },
  "kernelspec": {
   "display_name": "Python 3",
   "language": "python",
   "name": "python3"
  },
  "language_info": {
   "codemirror_mode": {
    "name": "ipython",
    "version": 3
   },
   "file_extension": ".py",
   "mimetype": "text/x-python",
   "name": "python",
   "nbconvert_exporter": "python",
   "pygments_lexer": "ipython3",
   "version": "3.6.3"
  }
 },
 "nbformat": 4,
 "nbformat_minor": 1
}
