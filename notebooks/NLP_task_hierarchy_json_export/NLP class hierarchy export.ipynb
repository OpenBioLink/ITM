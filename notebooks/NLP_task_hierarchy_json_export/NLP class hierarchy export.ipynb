{
 "cells": [
  {
   "cell_type": "code",
   "execution_count": null,
   "metadata": {},
   "outputs": [],
   "source": [
    "from owlready2 import *\n",
    "import json\n",
    "\n",
    "onto = owlready2.get_ontology(\"ontology.owl\")\n",
    "onto.load()\n",
    "ITO = onto.get_namespace(\"https://ai-strategies.org/ontology/\")"
   ]
  },
  {
   "cell_type": "code",
   "execution_count": null,
   "metadata": {},
   "outputs": [],
   "source": [
    "def class_to_dict(myclass):\n",
    "    mydict = dict()\n",
    "    if myclass.label[0]:\n",
    "        mydict['name'] = myclass.label[0]\n",
    "    if myclass.hasDefinition:\n",
    "        mydict['description'] = myclass.hasDefinition\n",
    "    if myclass.seeAlso:\n",
    "        mydict['seeAlso'] = myclass.seeAlso\n",
    "    if myclass.comment:\n",
    "        mydict['comment'] = myclass.comment\n",
    "    if myclass.has_input:\n",
    "        mydict['has_input'] = myclass.has_input[0].label\n",
    "    if myclass.has_output:\n",
    "        mydict['has_output'] = myclass.has_output[0].label\n",
    "    if myclass.hasExactSynonym:\n",
    "        mydict['hasExactSynonym'] = myclass.hasExactSynonym\n",
    "    if myclass.hasNarrowSynonym:\n",
    "        mydict['hasNarrowSynonym'] = myclass.hasNarrowSynonym\n",
    "    if myclass.hasBroadSynonym:\n",
    "        mydict['hasBroadSynonym'] = myclass.hasBroadSynonym\n",
    "    if myclass.refactor_comment:\n",
    "        mydict['refactor_comment'] = myclass.refactor_comment\n",
    "    if myclass.papers_with_code_id:\n",
    "        mydict['papers_with_code_id'] = myclass.papers_with_code_id\n",
    "    children = list()\n",
    "    for subclass in myclass.subclasses():\n",
    "        children.append(class_to_dict(subclass))\n",
    "    if len(children) > 0:\n",
    "        mydict['children'] = children\n",
    "    return mydict"
   ]
  },
  {
   "cell_type": "code",
   "execution_count": null,
   "metadata": {},
   "outputs": [],
   "source": [
    "mydict = class_to_dict(ITO.ITO_00141)\n",
    "mydict"
   ]
  },
  {
   "cell_type": "code",
   "execution_count": null,
   "metadata": {},
   "outputs": [],
   "source": [
    "with open('NLP_class_hierarchy_21_12_2020.json', 'w', encoding='utf-8') as f:\n",
    "    json.dump(mydict, f, indent=2)"
   ]
  }
 ],
 "metadata": {
  "kernelspec": {
   "display_name": "Python 3",
   "language": "python",
   "name": "python3"
  },
  "language_info": {
   "codemirror_mode": {
    "name": "ipython",
    "version": 3
   },
   "file_extension": ".py",
   "mimetype": "text/x-python",
   "name": "python",
   "nbconvert_exporter": "python",
   "pygments_lexer": "ipython3",
   "version": "3.6.3"
  }
 },
 "nbformat": 4,
 "nbformat_minor": 2
}
