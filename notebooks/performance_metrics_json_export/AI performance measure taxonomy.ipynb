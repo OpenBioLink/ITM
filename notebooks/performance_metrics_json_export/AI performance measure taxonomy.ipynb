{
 "cells": [
  {
   "cell_type": "code",
   "execution_count": 1,
   "metadata": {},
   "outputs": [],
   "source": [
    "from owlready2 import *\n",
    "\n",
    "onto = owlready2.get_ontology(\"https://github.com/OpenBioLink/ITO/raw/master/ITO.owl\")\n",
    "onto.load()\n",
    "ITO = onto.get_namespace(\"https://ai-strategies.org/ontology/\")"
   ]
  },
  {
   "cell_type": "code",
   "execution_count": 2,
   "metadata": {},
   "outputs": [],
   "source": [
    "def class_to_dict(myclass):\n",
    "    mydict = dict()\n",
    "    try:\n",
    "        mydict['name'] = myclass.label[0].replace('-at-', '@') # in the ontology we replaced @ signs for technical reasons\n",
    "    except IndexError:\n",
    "        mydict['name'] = 'Class'\n",
    "    children = list()\n",
    "    for subclass in myclass.subclasses():\n",
    "        children.append(class_to_dict(subclass))\n",
    "    if len(children) > 0:\n",
    "        mydict['children'] = children\n",
    "    return mydict"
   ]
  },
  {
   "cell_type": "code",
   "execution_count": 3,
   "metadata": {},
   "outputs": [],
   "source": [
    "mydict = class_to_dict(ITO.performance_measure)"
   ]
  },
  {
   "cell_type": "code",
   "execution_count": 4,
   "metadata": {},
   "outputs": [],
   "source": [
    "import json\n",
    "with open('data.json', 'w', encoding='utf-8') as f:\n",
    "    json.dump(mydict, f, indent=2)"
   ]
  }
 ],
 "metadata": {
  "kernelspec": {
   "display_name": "Python 3",
   "language": "python",
   "name": "python3"
  },
  "language_info": {
   "codemirror_mode": {
    "name": "ipython",
    "version": 3
   },
   "file_extension": ".py",
   "mimetype": "text/x-python",
   "name": "python",
   "nbconvert_exporter": "python",
   "pygments_lexer": "ipython3",
   "version": "3.6.7"
  },
  "toc": {
   "nav_menu": {},
   "number_sections": true,
   "sideBar": true,
   "skip_h1_title": false,
   "toc_cell": false,
   "toc_position": {},
   "toc_section_display": "block",
   "toc_window_display": false
  }
 },
 "nbformat": 4,
 "nbformat_minor": 2
}
