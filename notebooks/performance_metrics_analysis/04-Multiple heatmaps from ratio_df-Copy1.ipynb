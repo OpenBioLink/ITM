{
 "cells": [
  {
   "cell_type": "code",
   "execution_count": 1,
   "metadata": {
    "scrolled": true
   },
   "outputs": [],
   "source": [
    "#!pip install SPARQLWrapper\n",
    "#!pip install pandas\n",
    "#!pip install numpy\n",
    "#!pip install matplotlib\n",
    "#!pip install seaborn\n",
    "#!pip install sparqlwrapper\n",
    "#!pip install plotly"
   ]
  },
  {
   "cell_type": "code",
   "execution_count": 2,
   "metadata": {},
   "outputs": [],
   "source": [
    "import os\n",
    "import json\n",
    "import pandas as pd\n",
    "import numpy as np\n",
    "import matplotlib.pyplot as plt\n",
    "from matplotlib.ticker import ScalarFormatter\n",
    "import seaborn as sns\n",
    "from SPARQLWrapper import SPARQLWrapper, N3, JSON\n",
    "from rdflib import Graph\n",
    "import plotly.graph_objects as go\n",
    "\n",
    "import plotly.express as px\n",
    "import re\n",
    "\n",
    "\n",
    "\n",
    "%matplotlib inline"
   ]
  },
  {
   "cell_type": "code",
   "execution_count": 3,
   "metadata": {},
   "outputs": [],
   "source": [
    "#endpoint = \"http://localhost:9999/blazegraph/sparql\" # SPARQL endpoint hosting ITO.owl\n",
    "\n",
    "endpoint = \"http://149.148.106.153:9999/blazegraph/sparql\"\n",
    "prefixes = \"\"\"\n",
    "PREFIX edam: <http://edamontology.org/>\n",
    "PREFIX obo:  <http://purl.obolibrary.org/obo/>\n",
    "PREFIX ito:  <https://identifiers.org/ito#>\n",
    "PREFIX rdfs: <http://www.w3.org/2000/01/rdf-schema#>\n",
    "PREFIX foaf: <http://xmlns.com/foaf/0.1/>\n",
    "\"\"\"\n",
    "\n",
    "def query(service, query, numeric_cols = []):\n",
    "    \"\"\"\n",
    "    Helper function to convert SPARQL results into a Pandas data frame.\n",
    "    \"\"\"\n",
    "    sparql = SPARQLWrapper(service)\n",
    "    sparql.setQuery(query)\n",
    "    sparql.setReturnFormat(JSON)\n",
    "    result = sparql.query()\n",
    "\n",
    "    processed_results = json.load(result.response)\n",
    "    cols = processed_results['head']['vars']\n",
    "\n",
    "    out = []\n",
    "    for row in processed_results['results']['bindings']:\n",
    "        item = []\n",
    "        for c in cols:\n",
    "            item.append(row.get(c, {}).get('value'))\n",
    "        out.append(item)\n",
    "        \n",
    "    df = pd.DataFrame(out, columns=cols)\n",
    "    for col in numeric_cols:\n",
    "        df[col] = pd.to_numeric(df[col])\n",
    "    \n",
    "    return df\n"
   ]
  },
  {
   "cell_type": "code",
   "execution_count": 4,
   "metadata": {},
   "outputs": [
    {
     "name": "stdout",
     "output_type": "stream",
     "text": [
      "Number of metrics:  14\n",
      "|1 in 10 R-at-1|\n",
      "|Accuracy|\n",
      "|Average|\n",
      "|DVD|\n",
      "|Books|\n",
      "|Electronics|\n",
      "|Kitchen|\n",
      "|Error|\n",
      "|F1-score|\n",
      "|F1|\n",
      "|Average Recall|\n",
      "|MSE|\n",
      "|R^2|\n",
      "|F1 score|\n"
     ]
    }
   ],
   "source": [
    "#First select here the metricName that we will use\n",
    "\n",
    "#desired_measure = \"Accuracy\"\n",
    "#desired_measure = \"Hits-at-10\"\n",
    "#desired_measure = \"Hits-at-1\"\n",
    "#desired_measure = \"MRR\"\n",
    "#desired_measure = \"AUC\"\n",
    "\n",
    "query = \"\"\"\n",
    "    PREFIX edam: <http://edamontology.org/>\n",
    "    PREFIX obo:  <http://purl.obolibrary.org/obo/>\n",
    "    PREFIX ito:  <https://identifiers.org/ito:>\n",
    "    PREFIX rdfs: <http://www.w3.org/2000/01/rdf-schema#>\n",
    "    PREFIX foaf: <http://xmlns.com/foaf/0.1/>\n",
    "\n",
    "    SELECT *\n",
    "    WHERE {\n",
    "        ?paper a edam:data_0971 . \n",
    "        ?paper rdfs:label ?paperTitle. \n",
    "        ?paper obo:date ?date. \n",
    "\n",
    "        ?benchmark_process_individual \trdfs:seeAlso ?paper ;\n",
    "                                        rdfs:label ?model_label ;\n",
    "                                        a ?benchmark_process_class . # this will create a place holder for the rdfs:type results that contains the information about the individual\n",
    "        \n",
    "        ?benchmark_process_class rdfs:label ?benchmark_process_class_label ;\n",
    "                                 rdfs:subClassOf* ito:ITO_00141 . # this limits for the NLP class\n",
    "\n",
    "\n",
    "        ?performance_measure rdfs:subPropertyOf* ito:performance_measure .\n",
    "        ?performance_measure rdfs:label ?metricName .\n",
    "\n",
    "\n",
    "\n",
    "        ?performance_measure rdfs:label ?metricName .\n",
    "        ?benchmark_process_individual ?performance_measure ?result .\t\n",
    "\n",
    "\n",
    "        #FILTER regex(?paperTitle, \"Quaternion Knowledge Graph Embeddings\" ). # this searches a specific match\n",
    "        #FILTER regex(?benchmark_process_class_label, \"- Link Prediction benchmarking\" ). # this searches a specific match\n",
    "        \n",
    "        FILTER regex(?benchmark_process_class_label, \" - Sentiment Analysis benchmarking\" ). # this searches a specific match\n",
    "\n",
    "        #WN18RR - Link Prediction benchmarking\n",
    "\n",
    "\n",
    "\n",
    "\n",
    "    } ORDER by ?date\n",
    "\n",
    "\n",
    "\n",
    "    \"\"\"\n",
    "\n",
    "#send query via API\n",
    "sparql = SPARQLWrapper(endpoint)\n",
    "sparql.setQuery(query)\n",
    "sparql.setReturnFormat(JSON)\n",
    "result = sparql.query()\n",
    "\n",
    "#process results as JSON\n",
    "processed_results = json.load(result.response)\n",
    "\n",
    "#Use accessory function to process results\n",
    "cols = processed_results['head']['vars']\n",
    "\n",
    "out = []\n",
    "for row in processed_results['results']['bindings']:\n",
    "    item = []\n",
    "    for c in cols:\n",
    "        item.append(row.get(c, {}).get('value'))\n",
    "\n",
    "        out.append(item)\n",
    "\n",
    "\n",
    "#this is the final df containing the results of the query\n",
    "df2 = pd.DataFrame(out, columns=cols)\n",
    "\n",
    "#get unique benchmark_process_class_label\n",
    "#benchmark_process_class_label = df2[\"benchmark_process_class_label\"].unique()\n",
    "\n",
    "#get unique metricName\n",
    "metricName = df2[\"metricName\"].unique()\n",
    "\n",
    "\n",
    "print(\"Number of metrics: \",len(metricName))\n",
    "\n",
    "for desired_measure in metricName:\n",
    "    print (\"|\"+desired_measure+\"|\")"
   ]
  },
  {
   "cell_type": "code",
   "execution_count": 5,
   "metadata": {},
   "outputs": [],
   "source": [
    "#Query database and get one ratio dataframe per mesure. Example provided.\n",
    "\n",
    "\n",
    "def create_ratio(desired_measure, desired_benchmark, ds_count):\n",
    "    print(\"Creating ratio df for \",desired_measure,\", \",desired_benchmark,\", ds_count=\",ds_count)\n",
    "    query = \"\"\"\n",
    "    PREFIX edam: <http://edamontology.org/>\n",
    "    PREFIX obo:  <http://purl.obolibrary.org/obo/>\n",
    "    PREFIX ito:  <https://identifiers.org/ito:>\n",
    "    PREFIX rdfs: <http://www.w3.org/2000/01/rdf-schema#>\n",
    "    PREFIX foaf: <http://xmlns.com/foaf/0.1/>\n",
    "\n",
    "    SELECT *\n",
    "    WHERE {\n",
    "        ?paper a edam:data_0971 . \n",
    "        ?paper rdfs:label ?paperTitle. \n",
    "        ?paper obo:date ?date. \n",
    "\n",
    "        ?benchmark_process_individual \trdfs:seeAlso ?paper ;\n",
    "                                        rdfs:label ?model_label ;\n",
    "                                        a ?benchmark_process_class . # this will create a place holder for the rdfs:type results that contains the information about the individual\n",
    "        \n",
    "        ?benchmark_process_class rdfs:label ?benchmark_process_class_label ;\n",
    "                                 rdfs:subClassOf* ito:ITO_00141 . # this limits for the NLP class\n",
    "        \n",
    "\n",
    "        ?performance_measure rdfs:subPropertyOf* ito:performance_measure .\n",
    "        ?performance_measure rdfs:label ?metricName .\n",
    "\n",
    "\n",
    "\n",
    "        ?performance_measure rdfs:label ?metricName .\n",
    "        ?benchmark_process_individual ?performance_measure ?result .\t\n",
    "\n",
    "\n",
    "        #FILTER regex(?paperTitle, \"Quaternion Knowledge Graph Embeddings\" ). # this searches a specific match\n",
    "        FILTER regex(?metricName, \"^\"\"\"+ desired_measure +\"\"\"$\" ). # this searches a specific match\n",
    "        FILTER regex(?benchmark_process_class_label, \"^\"\"\"+desired_benchmark+\"\"\"$\" ). # this searches a specific match\n",
    "        #FILTER regex(?benchmark_process_class_label, \"- Link Prediction benchmarking\" ). # this searches a specific match\n",
    "        FILTER regex(?benchmark_process_class_label, \" - Sentiment Analysis benchmarking\" ). # this searches a specific match\n",
    "        #WN18RR - Link Prediction benchmarking\n",
    "\n",
    "\n",
    "\n",
    "\n",
    "    } ORDER by ?date\n",
    "\n",
    "\n",
    "\n",
    "    \"\"\"\n",
    "\n",
    "    #send query via API\n",
    "    sparql = SPARQLWrapper(endpoint)\n",
    "    sparql.setQuery(query)\n",
    "    sparql.setReturnFormat(JSON)\n",
    "    result = sparql.query()\n",
    "\n",
    "    #process results as JSON\n",
    "    processed_results = json.load(result.response)\n",
    "\n",
    "    #Use accessory function to process results\n",
    "    cols = processed_results['head']['vars']\n",
    "\n",
    "    out = []\n",
    "    for row in processed_results['results']['bindings']:\n",
    "        item = []\n",
    "        for c in cols:\n",
    "            item.append(row.get(c, {}).get('value'))\n",
    "\n",
    "        out.append(item)\n",
    "\n",
    "    #this is the final df containing the results of the query\n",
    "    df = pd.DataFrame(out, columns=cols)\n",
    "    \n",
    "    if len(df.index)==0:\n",
    "        return None\n",
    "           \n",
    "    #Set date column to datetime\n",
    "    df['date'] = pd.to_datetime(df['date'])\n",
    "\n",
    "    #Keep only the model name\n",
    "    df.new = df.replace(to_replace =' model in .*$', value = '', regex = True)\n",
    "\n",
    "    df.new[\"result\"] = pd.to_numeric(df.new[\"result\"]) \n",
    "\n",
    "    #Create dataframe to store state of art results\n",
    "    sota = pd.DataFrame(columns = df.new.columns)\n",
    "\n",
    "    best_value = 0\n",
    "    i=0\n",
    "\n",
    "    for result in df.new[\"result\"]:        \n",
    "            if result > best_value:\n",
    "                best_value = result\n",
    "                sota_add = pd.DataFrame(df.new.iloc[i]).transpose()\n",
    "                sota = sota.append(sota_add)            \n",
    "            i = i+1    \n",
    "\n",
    "    #This variable is containing the data points to plot the state of the art line        \n",
    "    #sota\n",
    "\n",
    "    #this is a copy to use as hovertemplate below\n",
    "    y=df.new[\"result\"].astype(str)\n",
    "\n",
    "\n",
    "    #create this data frame to store the ratios\n",
    "    ratio_df = pd.DataFrame(columns = [\"ds_count\", \"ds\", \"date\", \"value\",\"gain\",\"ratio\",\"total\"])\n",
    "\n",
    "\n",
    "    #This block collects the rate of the benchmarkings along the years and saves it\n",
    "    #ratio_df = pd.DataFrame(columns = [\"ds_count\", \"ds\", \"date\", \"value\",\"gain\",\"ratio\",\"total\"])\n",
    "\n",
    "    #len(sota[\"result\"])\n",
    "    max(sota[\"result\"])\n",
    "    min(sota[\"result\"])\n",
    "\n",
    "    i=0\n",
    "    for res in sota[\"result\"]:\n",
    "        if sota.loc[sota.index[i], 'result'] <= max(sota[\"result\"]) :\n",
    "            if(i == 0):\n",
    "                gain = sota.loc[sota.index[i], 'result']\n",
    "            else :\n",
    "                gain = round(sota.loc[sota.index[i], 'result'] - sota.loc[sota.index[i-1], 'result'],1)\n",
    "\n",
    "            total = round( gain / max(sota[\"result\"]) ,2)\n",
    "            #total = round((sota.loc[sota.index[i+1], 'result'] - sota.loc[sota.index[i], 'result'] ),2)\n",
    "            #print(sota[\"result\"][i+1] - sota[\"result\"][i])\n",
    "            #OK print(total.astype(str)+ \" : \" + max(sota[\"result\"]).astype(str) )\n",
    "\n",
    "            #year=sota.loc[sota.index[i], 'date'].strftime('%Y-%m-%d')\n",
    "            year=sota.loc[sota.index[i], 'date'].strftime('%Y-%m')\n",
    "            value=sota.loc[sota.index[i], 'result'].astype(str)\n",
    "\n",
    "            benchmarking=sota.loc[sota.index[i], 'benchmark_process_class_label']\n",
    "            #benchmarking = df.replace(to_replace =' model in .*$', value = '', regex = True)\n",
    "            import re\n",
    "\n",
    "            #reduce the name of the benchmark\n",
    "            #benchmarking = re.sub(r'\\-.*',\"\",benchmarking) \n",
    "            #re.sub(r'\\.\\.\\..*',\"\",test)\n",
    "\n",
    "            new_row = {'ds_count':ds_count, 'ds':benchmarking, 'date':year, 'value':value, 'gain':gain.astype(str), 'ratio':total.astype(str), 'total':max(sota[\"result\"]).astype(str)}\n",
    "            ratio_df = ratio_df.append(new_row, ignore_index=True)\n",
    "\n",
    "            i = i+1\n",
    "    return ratio_df\n",
    "\n",
    "    "
   ]
  },
  {
   "cell_type": "code",
   "execution_count": 6,
   "metadata": {},
   "outputs": [],
   "source": [
    "#return ratio_df_all dataframe per desired measure\n",
    "def get_ratio_df_all_per_measure(desired_measure):\n",
    "\n",
    "    \n",
    "    query = \"\"\"\n",
    "        PREFIX edam: <http://edamontology.org/>\n",
    "        PREFIX obo:  <http://purl.obolibrary.org/obo/>\n",
    "        PREFIX ito:  <https://identifiers.org/ito:>\n",
    "        PREFIX rdfs: <http://www.w3.org/2000/01/rdf-schema#>\n",
    "        PREFIX foaf: <http://xmlns.com/foaf/0.1/>\n",
    "\n",
    "        SELECT *\n",
    "        WHERE {\n",
    "            ?paper a edam:data_0971 . \n",
    "            ?paper rdfs:label ?paperTitle. \n",
    "            ?paper obo:date ?date. \n",
    "\n",
    "            ?benchmark_process_individual \trdfs:seeAlso ?paper ;\n",
    "                                            rdfs:label ?model_label ;\n",
    "                                            a ?benchmark_process_class . # this will create a place holder for the rdfs:type results that contains the information about the individual\n",
    "\n",
    "            ?benchmark_process_class rdfs:label ?benchmark_process_class_label ;\n",
    "                                     rdfs:subClassOf* ito:ITO_00141 . # this limits for the NLP class\n",
    "\n",
    "\n",
    "            ?performance_measure rdfs:subPropertyOf* ito:performance_measure .\n",
    "            ?performance_measure rdfs:label ?metricName .\n",
    "\n",
    "\n",
    "\n",
    "            ?performance_measure rdfs:label ?metricName .\n",
    "            ?benchmark_process_individual ?performance_measure ?result .\t\n",
    "\n",
    "\n",
    "            #FILTER regex(?paperTitle, \"Quaternion Knowledge Graph Embeddings\" ). # this searches a specific match\n",
    "            FILTER regex(?metricName, \"^\"\"\"+ desired_measure +\"\"\"$\" ). # this searches a specific match\n",
    "            #FILTER regex(?benchmark_process_class_label, \" - Link Prediction benchmarking$\" ). # this searches a specific match\n",
    "            \n",
    "            FILTER regex(?benchmark_process_class_label, \" - Sentiment Analysis benchmarking\" ). # this searches a specific match\n",
    "\n",
    "            #WN18RR - Link Prediction benchmarking\n",
    "\n",
    "\n",
    "\n",
    "\n",
    "        } ORDER by ?date\n",
    "\n",
    "\n",
    "\n",
    "        \"\"\"\n",
    "\n",
    "    #send query via API\n",
    "    sparql = SPARQLWrapper(endpoint)\n",
    "    sparql.setQuery(query)\n",
    "    sparql.setReturnFormat(JSON)\n",
    "    result = sparql.query()\n",
    "\n",
    "    #process results as JSON\n",
    "    processed_results = json.load(result.response)\n",
    "\n",
    "    #Use accessory function to process results\n",
    "    cols = processed_results['head']['vars']\n",
    "\n",
    "    out = []\n",
    "    for row in processed_results['results']['bindings']:\n",
    "        item = []\n",
    "        for c in cols:\n",
    "            item.append(row.get(c, {}).get('value'))\n",
    "\n",
    "            out.append(item)\n",
    "\n",
    "\n",
    "    #this is the final df containing the results of the query\n",
    "    df2 = pd.DataFrame(out, columns=cols)\n",
    "\n",
    "    #now get the unique list of benchmark datasets\n",
    "    benchmark_process_class_label = df2[\"benchmark_process_class_label\"].unique()\n",
    "\n",
    "    #start here the ds_count, which is actually the unique combination of 'desired_measure' and 'desired_benchmark'\n",
    "    ds_count = 1\n",
    "    #this place holder will contain the plots to be contatenated in the final plot\n",
    "    plt_data = []\n",
    "\n",
    "    #create final ratio_df_all for all the combinations\n",
    "    ratio_df_all = pd.DataFrame(columns = [\"ds_count\", \"ds\", \"date\", \"value\",\"gain\",\"ratio\",\"total\"])\n",
    "    #fig = go.Figure()\n",
    "\n",
    "    #iterate over the benchmark list to create the ratio_df_all, which will be used to plot later\n",
    "    for desired_benchmark in benchmark_process_class_label:\n",
    "\n",
    "        #print(desired_benchmark)\n",
    "        ratio_df = create_ratio(desired_measure,desired_benchmark,ds_count)\n",
    "        #print(\"ds_count: \",ds_count)\n",
    "        #ratio_df = create_ratio(desired_measure,\"Citeseer\",ds_count)\n",
    "\n",
    "        if ratio_df is None:\n",
    "                print(\"null\")  \n",
    "        elif len(ratio_df.index)>0:\n",
    "            #print(desired_benchmark)  \n",
    "            ratio_df_all = ratio_df_all.append(ratio_df, ignore_index=True)\n",
    "        \n",
    "        #ds_count = ds_count + 1\n",
    "\n",
    "    \n",
    "    if len(ratio_df_all.index) > 0:\n",
    "        \n",
    "        print(len(ratio_df_all.index))\n",
    "        #edit here the column with the benchmark name\n",
    "        ratio_df_all = ratio_df_all.replace(to_replace =' \\- .*', value = '', regex = True)\n",
    "\n",
    "        #add a column representing the percentual of the max obtained value per value\n",
    "        ratio_df_all[\"percent\"] = round(ratio_df_all[\"value\"].astype(float)/max(ratio_df_all[\"total\"].astype(float)),2)*100\n",
    "\n",
    "        #add one extra column wihth the desired measure name in order to condendate the plot\n",
    "        ratio_df_all[\"merge\"]=desired_measure\n",
    "\n",
    "\n",
    "        \n",
    "    return ratio_df_all"
   ]
  },
  {
   "cell_type": "code",
   "execution_count": 7,
   "metadata": {},
   "outputs": [
    {
     "data": {
      "text/html": [
       "<div>\n",
       "<style scoped>\n",
       "    .dataframe tbody tr th:only-of-type {\n",
       "        vertical-align: middle;\n",
       "    }\n",
       "\n",
       "    .dataframe tbody tr th {\n",
       "        vertical-align: top;\n",
       "    }\n",
       "\n",
       "    .dataframe thead th {\n",
       "        text-align: right;\n",
       "    }\n",
       "</style>\n",
       "<table border=\"1\" class=\"dataframe\">\n",
       "  <thead>\n",
       "    <tr style=\"text-align: right;\">\n",
       "      <th></th>\n",
       "      <th>0</th>\n",
       "    </tr>\n",
       "  </thead>\n",
       "  <tbody>\n",
       "    <tr>\n",
       "      <th>0</th>\n",
       "      <td>1 in 10 R-at-1</td>\n",
       "    </tr>\n",
       "    <tr>\n",
       "      <th>1</th>\n",
       "      <td>Accuracy</td>\n",
       "    </tr>\n",
       "    <tr>\n",
       "      <th>2</th>\n",
       "      <td>Average</td>\n",
       "    </tr>\n",
       "    <tr>\n",
       "      <th>3</th>\n",
       "      <td>DVD</td>\n",
       "    </tr>\n",
       "    <tr>\n",
       "      <th>4</th>\n",
       "      <td>Books</td>\n",
       "    </tr>\n",
       "    <tr>\n",
       "      <th>5</th>\n",
       "      <td>Electronics</td>\n",
       "    </tr>\n",
       "    <tr>\n",
       "      <th>6</th>\n",
       "      <td>Kitchen</td>\n",
       "    </tr>\n",
       "    <tr>\n",
       "      <th>7</th>\n",
       "      <td>Error</td>\n",
       "    </tr>\n",
       "    <tr>\n",
       "      <th>8</th>\n",
       "      <td>F1-score</td>\n",
       "    </tr>\n",
       "    <tr>\n",
       "      <th>9</th>\n",
       "      <td>F1</td>\n",
       "    </tr>\n",
       "    <tr>\n",
       "      <th>10</th>\n",
       "      <td>Average Recall</td>\n",
       "    </tr>\n",
       "    <tr>\n",
       "      <th>11</th>\n",
       "      <td>MSE</td>\n",
       "    </tr>\n",
       "    <tr>\n",
       "      <th>12</th>\n",
       "      <td>R^2</td>\n",
       "    </tr>\n",
       "    <tr>\n",
       "      <th>13</th>\n",
       "      <td>F1 score</td>\n",
       "    </tr>\n",
       "  </tbody>\n",
       "</table>\n",
       "</div>"
      ],
      "text/plain": [
       "                 0\n",
       "0   1 in 10 R-at-1\n",
       "1         Accuracy\n",
       "2          Average\n",
       "3              DVD\n",
       "4            Books\n",
       "5      Electronics\n",
       "6          Kitchen\n",
       "7            Error\n",
       "8         F1-score\n",
       "9               F1\n",
       "10  Average Recall\n",
       "11             MSE\n",
       "12             R^2\n",
       "13        F1 score"
      ]
     },
     "execution_count": 7,
     "metadata": {},
     "output_type": "execute_result"
    }
   ],
   "source": [
    "pd.DataFrame(metricName)"
   ]
  },
  {
   "cell_type": "code",
   "execution_count": 8,
   "metadata": {},
   "outputs": [
    {
     "data": {
      "text/plain": [
       "14"
      ]
     },
     "execution_count": 8,
     "metadata": {},
     "output_type": "execute_result"
    }
   ],
   "source": [
    "len(metricName)"
   ]
  },
  {
   "cell_type": "code",
   "execution_count": 9,
   "metadata": {
    "scrolled": true
   },
   "outputs": [
    {
     "name": "stdout",
     "output_type": "stream",
     "text": [
      "1\\\\ in\\\\ 10\\\\ R\\\\-at\\\\-1\n",
      "Creating ratio df for  1\\\\ in\\\\ 10\\\\ R\\\\-at\\\\-1 ,  1B Words - Sentiment Analysis benchmarking , ds_count= 1\n"
     ]
    },
    {
     "name": "stderr",
     "output_type": "stream",
     "text": [
      "<ipython-input-5-5cb8ad4d6ffd>:82: UserWarning: Pandas doesn't allow columns to be created via a new attribute name - see https://pandas.pydata.org/pandas-docs/stable/indexing.html#attribute-access\n",
      "  df.new = df.replace(to_replace =' model in .*$', value = '', regex = True)\n"
     ]
    },
    {
     "name": "stdout",
     "output_type": "stream",
     "text": [
      "1\n",
      "Accuracy\n",
      "Creating ratio df for  Accuracy ,  SST-5 Fine-grained classification - Sentiment Analysis benchmarking , ds_count= 1\n",
      "Creating ratio df for  Accuracy ,  SST-2 Binary classification - Sentiment Analysis benchmarking , ds_count= 1\n",
      "Creating ratio df for  Accuracy ,  IMDb - Sentiment Analysis benchmarking , ds_count= 1\n",
      "Creating ratio df for  Accuracy ,  Amazon Review Full - Sentiment Analysis benchmarking , ds_count= 1\n",
      "Creating ratio df for  Accuracy ,  Amazon Review Polarity - Sentiment Analysis benchmarking , ds_count= 1\n",
      "Creating ratio df for  Accuracy ,  Sogou News - Sentiment Analysis benchmarking , ds_count= 1\n",
      "Creating ratio df for  Accuracy ,  MR - Sentiment Analysis benchmarking , ds_count= 1\n",
      "Creating ratio df for  Accuracy ,  CR - Sentiment Analysis benchmarking , ds_count= 1\n",
      "Creating ratio df for  Accuracy ,  MPQA - Sentiment Analysis benchmarking , ds_count= 1\n",
      "Creating ratio df for  Accuracy ,  Twitter - Sentiment Analysis benchmarking , ds_count= 1\n",
      "Creating ratio df for  Accuracy ,  Financial PhraseBank - Sentiment Analysis benchmarking , ds_count= 1\n",
      "Creating ratio df for  Accuracy ,  DBRD - Sentiment Analysis benchmarking , ds_count= 1\n",
      "Creating ratio df for  Accuracy ,  HARD - Sentiment Analysis benchmarking , ds_count= 1\n",
      "Creating ratio df for  Accuracy ,  LABR (2-class, unbalanced) - Sentiment Analysis benchmarking , ds_count= 1\n",
      "null\n",
      "Creating ratio df for  Accuracy ,  AJGT - Sentiment Analysis benchmarking , ds_count= 1\n",
      "44\n",
      "Average\n",
      "Creating ratio df for  Average ,  Multi-Domain Sentiment Dataset - Sentiment Analysis benchmarking , ds_count= 1\n",
      "5\n",
      "DVD\n",
      "Creating ratio df for  DVD ,  Multi-Domain Sentiment Dataset - Sentiment Analysis benchmarking , ds_count= 1\n",
      "4\n",
      "Books\n",
      "Creating ratio df for  Books ,  Multi-Domain Sentiment Dataset - Sentiment Analysis benchmarking , ds_count= 1\n",
      "4\n",
      "Electronics\n",
      "Creating ratio df for  Electronics ,  Multi-Domain Sentiment Dataset - Sentiment Analysis benchmarking , ds_count= 1\n",
      "3\n",
      "Kitchen\n",
      "Creating ratio df for  Kitchen ,  Multi-Domain Sentiment Dataset - Sentiment Analysis benchmarking , ds_count= 1\n",
      "4\n",
      "Error\n",
      "Creating ratio df for  Error ,  Yelp Binary classification - Sentiment Analysis benchmarking , ds_count= 1\n",
      "Creating ratio df for  Error ,  Yelp Fine-grained classification - Sentiment Analysis benchmarking , ds_count= 1\n",
      "3\n",
      "F1\\\\-score\n",
      "Creating ratio df for  F1\\\\-score ,  SemEval - Sentiment Analysis benchmarking , ds_count= 1\n",
      "1\n",
      "F1\n",
      "Creating ratio df for  F1 ,  ChnSentiCorp Dev - Sentiment Analysis benchmarking , ds_count= 1\n",
      "Creating ratio df for  F1 ,  ChnSentiCorp - Sentiment Analysis benchmarking , ds_count= 1\n",
      "Creating ratio df for  F1 ,  DBRD - Sentiment Analysis benchmarking , ds_count= 1\n",
      "3\n",
      "Average\\\\ Recall\n",
      "Creating ratio df for  Average\\\\ Recall ,  ASTD - Sentiment Analysis benchmarking , ds_count= 1\n",
      "Creating ratio df for  Average\\\\ Recall ,  ArSAS - Sentiment Analysis benchmarking , ds_count= 1\n",
      "Creating ratio df for  Average\\\\ Recall ,  SemEval 2017 Task 4-A - Sentiment Analysis benchmarking , ds_count= 1\n",
      "3\n",
      "MSE\n",
      "Creating ratio df for  MSE ,  FiQA - Sentiment Analysis benchmarking , ds_count= 1\n",
      "1\n",
      "R\\\\^2\n",
      "Creating ratio df for  R\\\\^2 ,  FiQA - Sentiment Analysis benchmarking , ds_count= 1\n",
      "1\n",
      "F1\\\\ score\n",
      "Creating ratio df for  F1\\\\ score ,  Financial PhraseBank - Sentiment Analysis benchmarking , ds_count= 1\n",
      "1\n"
     ]
    }
   ],
   "source": [
    "#this will concatenate all the get_ratio_df_all_per_measure into only one\n",
    "get_ratio_df_all_per_global = pd.DataFrame(columns = [\"ds_count\", \"ds\", \"date\", \"value\",\"gain\",\"ratio\",\"total\"])\n",
    "\n",
    "for desired_measure in metricName:\n",
    "    \n",
    "    #desired_measure = \"Accuracy\"\n",
    "    #this is necessary to query the database correctly, it will be editaded later in the code.\n",
    "    desired_measure = re.escape(desired_measure).replace(\"\\\\\", \"\\\\\\\\\")\n",
    "    print(desired_measure)\n",
    "    \n",
    "    ratio_df_all_per_measure=get_ratio_df_all_per_measure(desired_measure)\n",
    "    \n",
    "    get_ratio_df_all_per_global=get_ratio_df_all_per_global.append(ratio_df_all_per_measure)\n",
    "    "
   ]
  },
  {
   "cell_type": "code",
   "execution_count": 27,
   "metadata": {
    "scrolled": true
   },
   "outputs": [
    {
     "name": "stderr",
     "output_type": "stream",
     "text": [
      "<ipython-input-27-f87be73d4c46>:3: FutureWarning:\n",
      "\n",
      "The default value of regex will change from True to False in a future version. In addition, single character regular expressions will*not* be treated as literal strings when regex=True.\n",
      "\n"
     ]
    },
    {
     "data": {
      "text/plain": [
       "array(['MSE', 'R^2', 'Average Recall', 'F1-score', 'Error', 'Accuracy',\n",
       "       'Books', 'DVD', 'Average', 'Electronics', 'Kitchen', 'F1 score',\n",
       "       '1 in 10 R-at-1', 'F1'], dtype=object)"
      ]
     },
     "execution_count": 27,
     "metadata": {},
     "output_type": "execute_result"
    }
   ],
   "source": [
    "#change the column to name the facets of the plot\n",
    "get_ratio_df_all_per_global = get_ratio_df_all_per_global.rename(columns={'merge': 'metricName'})\n",
    "get_ratio_df_all_per_global['metricName'] = get_ratio_df_all_per_global['metricName'].str.replace('\\\\','')\n",
    "get_ratio_df_all_per_global[\"metricName\"].unique()"
   ]
  },
  {
   "cell_type": "code",
   "execution_count": 11,
   "metadata": {},
   "outputs": [],
   "source": [
    "#check the number of times each measure was obtained for a given ds\n",
    "#get_ratio_df_all_per_global[get_ratio_df_all_per_global[\"ds\"]==\"SQuAD1.1\"]\n"
   ]
  },
  {
   "cell_type": "code",
   "execution_count": 28,
   "metadata": {
    "scrolled": true
   },
   "outputs": [
    {
     "data": {
      "application/vnd.plotly.v1+json": {
       "config": {
        "plotlyServerURL": "https://plot.ly"
       },
       "data": [
        {
         "coloraxis": "coloraxis",
         "hovertemplate": "metricName=MSE<br>date=%{x}<br>percent=%{y}<br>count=%{z}<extra></extra>",
         "name": "",
         "type": "histogram2d",
         "x": [
          "2019-08"
         ],
         "xaxis": "x8",
         "xbingroup": "x",
         "y": [
          100
         ],
         "yaxis": "y8",
         "ybingroup": "y"
        },
        {
         "coloraxis": "coloraxis",
         "hovertemplate": "metricName=R^2<br>date=%{x}<br>percent=%{y}<br>count=%{z}<extra></extra>",
         "name": "",
         "type": "histogram2d",
         "x": [
          "2019-08"
         ],
         "xaxis": "x9",
         "xbingroup": "x",
         "y": [
          100
         ],
         "yaxis": "y9",
         "ybingroup": "y"
        },
        {
         "coloraxis": "coloraxis",
         "hovertemplate": "metricName=Average Recall<br>date=%{x}<br>percent=%{y}<br>count=%{z}<extra></extra>",
         "name": "",
         "type": "histogram2d",
         "x": [
          "2019-08",
          "2019-08",
          "2019-08"
         ],
         "xaxis": "x10",
         "xbingroup": "x",
         "y": [
          68,
          69,
          100
         ],
         "yaxis": "y10",
         "ybingroup": "y"
        },
        {
         "coloraxis": "coloraxis",
         "hovertemplate": "metricName=F1-score<br>date=%{x}<br>percent=%{y}<br>count=%{z}<extra></extra>",
         "name": "",
         "type": "histogram2d",
         "x": [
          "2017-04"
         ],
         "xaxis": "x11",
         "xbingroup": "x",
         "y": [
          100
         ],
         "yaxis": "y11",
         "ybingroup": "y"
        },
        {
         "coloraxis": "coloraxis",
         "hovertemplate": "metricName=Error<br>date=%{x}<br>percent=%{y}<br>count=%{z}<extra></extra>",
         "name": "",
         "type": "histogram2d",
         "x": [
          "2015-09",
          "2015-09",
          "2019-01"
         ],
         "xaxis": "x12",
         "xbingroup": "x",
         "y": [
          81,
          10,
          100
         ],
         "yaxis": "y12",
         "ybingroup": "y"
        },
        {
         "coloraxis": "coloraxis",
         "hovertemplate": "metricName=Accuracy<br>date=%{x}<br>percent=%{y}<br>count=%{z}<extra></extra>",
         "name": "",
         "type": "histogram2d",
         "x": [
          "2013-10",
          "2014-06",
          "2015-02",
          "2017-08",
          "2018-02",
          "2019-10",
          "2016-07",
          "2017-07",
          "2019-04",
          "2019-02",
          "2017-02",
          "2018-02",
          "2013-10",
          "2019-08",
          "2018-05",
          "2014-08",
          "2018-03",
          "2015-06",
          "2018-05",
          "2016-03",
          "2016-07",
          "2019-05",
          "2017-04",
          "2017-12",
          "2014-12",
          "2017-12",
          "2020-02",
          "2016-02",
          "2020-01",
          "2016-07",
          "2017-12",
          "2018-01",
          "2019-01",
          "2019-02",
          "2019-04",
          "2019-06",
          "2020-02",
          "2017-07",
          "2016-07",
          "2019-06",
          "2019-09",
          "2019-04",
          "2019-10",
          "2019-07"
         ],
         "xaxis": "x13",
         "xbingroup": "x",
         "y": [
          47,
          51,
          52,
          55.00000000000001,
          56.00000000000001,
          56.99999999999999,
          62,
          67,
          68,
          77,
          80,
          86,
          88,
          88,
          89,
          90,
          90,
          91,
          91,
          92,
          92,
          92,
          94,
          95,
          95,
          96,
          96,
          97,
          97,
          97,
          98,
          98,
          98,
          98,
          98,
          99,
          99,
          99,
          99,
          100,
          100,
          100,
          100,
          100
         ],
         "yaxis": "y13",
         "ybingroup": "y"
        },
        {
         "coloraxis": "coloraxis",
         "hovertemplate": "metricName=Books<br>date=%{x}<br>percent=%{y}<br>count=%{z}<extra></extra>",
         "name": "",
         "type": "histogram2d",
         "x": [
          "2015-05",
          "2015-11",
          "2018-04",
          "2018-10"
         ],
         "xaxis": "x14",
         "xbingroup": "x",
         "y": [
          88,
          90,
          92,
          100
         ],
         "yaxis": "y14",
         "ybingroup": "y"
        },
        {
         "coloraxis": "coloraxis",
         "hovertemplate": "metricName=DVD<br>date=%{x}<br>percent=%{y}<br>count=%{z}<extra></extra>",
         "name": "",
         "type": "histogram2d",
         "x": [
          "2015-05",
          "2015-11",
          "2018-04",
          "2018-10"
         ],
         "xaxis": "x",
         "xbingroup": "x",
         "y": [
          93,
          95,
          96,
          100
         ],
         "yaxis": "y",
         "ybingroup": "y"
        },
        {
         "coloraxis": "coloraxis",
         "hovertemplate": "metricName=Average<br>date=%{x}<br>percent=%{y}<br>count=%{z}<extra></extra>",
         "name": "",
         "type": "histogram2d",
         "x": [
          "2015-05",
          "2015-11",
          "2017-02",
          "2018-04",
          "2018-10"
         ],
         "xaxis": "x2",
         "xbingroup": "x",
         "y": [
          92,
          94,
          94,
          95,
          100
         ],
         "yaxis": "y2",
         "ybingroup": "y"
        },
        {
         "coloraxis": "coloraxis",
         "hovertemplate": "metricName=Electronics<br>date=%{x}<br>percent=%{y}<br>count=%{z}<extra></extra>",
         "name": "",
         "type": "histogram2d",
         "x": [
          "2015-05",
          "2015-11",
          "2018-04"
         ],
         "xaxis": "x3",
         "xbingroup": "x",
         "y": [
          95,
          99,
          100
         ],
         "yaxis": "y3",
         "ybingroup": "y"
        },
        {
         "coloraxis": "coloraxis",
         "hovertemplate": "metricName=Kitchen<br>date=%{x}<br>percent=%{y}<br>count=%{z}<extra></extra>",
         "name": "",
         "type": "histogram2d",
         "x": [
          "2015-05",
          "2015-11",
          "2017-02",
          "2018-10"
         ],
         "xaxis": "x4",
         "xbingroup": "x",
         "y": [
          94,
          97,
          98,
          100
         ],
         "yaxis": "y4",
         "ybingroup": "y"
        },
        {
         "coloraxis": "coloraxis",
         "hovertemplate": "metricName=F1 score<br>date=%{x}<br>percent=%{y}<br>count=%{z}<extra></extra>",
         "name": "",
         "type": "histogram2d",
         "x": [
          "2019-08"
         ],
         "xaxis": "x5",
         "xbingroup": "x",
         "y": [
          100
         ],
         "yaxis": "y5",
         "ybingroup": "y"
        },
        {
         "coloraxis": "coloraxis",
         "hovertemplate": "metricName=1 in 10 R-at-1<br>date=%{x}<br>percent=%{y}<br>count=%{z}<extra></extra>",
         "name": "",
         "type": "histogram2d",
         "x": [
          "2012-06"
         ],
         "xaxis": "x6",
         "xbingroup": "x",
         "y": [
          100
         ],
         "yaxis": "y6",
         "ybingroup": "y"
        },
        {
         "coloraxis": "coloraxis",
         "hovertemplate": "metricName=F1<br>date=%{x}<br>percent=%{y}<br>count=%{z}<extra></extra>",
         "name": "",
         "type": "histogram2d",
         "x": [
          "2020-01",
          "2019-06",
          "2019-06"
         ],
         "xaxis": "x7",
         "xbingroup": "x",
         "y": [
          99,
          100,
          100
         ],
         "yaxis": "y7",
         "ybingroup": "y"
        }
       ],
       "layout": {
        "annotations": [
         {
          "font": {},
          "showarrow": false,
          "text": "metricName=DVD",
          "x": 0.06667142857142856,
          "xanchor": "center",
          "xref": "paper",
          "y": 0.49,
          "yanchor": "bottom",
          "yref": "paper"
         },
         {
          "font": {},
          "showarrow": false,
          "text": "metricName=Average",
          "x": 0.2111142857142857,
          "xanchor": "center",
          "xref": "paper",
          "y": 0.49,
          "yanchor": "bottom",
          "yref": "paper"
         },
         {
          "font": {},
          "showarrow": false,
          "text": "metricName=Electronics",
          "x": 0.3555571428571428,
          "xanchor": "center",
          "xref": "paper",
          "y": 0.49,
          "yanchor": "bottom",
          "yref": "paper"
         },
         {
          "font": {},
          "showarrow": false,
          "text": "metricName=Kitchen",
          "x": 0.49999999999999994,
          "xanchor": "center",
          "xref": "paper",
          "y": 0.49,
          "yanchor": "bottom",
          "yref": "paper"
         },
         {
          "font": {},
          "showarrow": false,
          "text": "metricName=F1 score",
          "x": 0.6444428571428571,
          "xanchor": "center",
          "xref": "paper",
          "y": 0.49,
          "yanchor": "bottom",
          "yref": "paper"
         },
         {
          "font": {},
          "showarrow": false,
          "text": "metricName=1 in 10 R-at-1",
          "x": 0.7888857142857142,
          "xanchor": "center",
          "xref": "paper",
          "y": 0.49,
          "yanchor": "bottom",
          "yref": "paper"
         },
         {
          "font": {},
          "showarrow": false,
          "text": "metricName=F1",
          "x": 0.9333285714285713,
          "xanchor": "center",
          "xref": "paper",
          "y": 0.49,
          "yanchor": "bottom",
          "yref": "paper"
         },
         {
          "font": {},
          "showarrow": false,
          "text": "metricName=MSE",
          "x": 0.06667142857142856,
          "xanchor": "center",
          "xref": "paper",
          "y": 1,
          "yanchor": "bottom",
          "yref": "paper"
         },
         {
          "font": {},
          "showarrow": false,
          "text": "metricName=R^2",
          "x": 0.2111142857142857,
          "xanchor": "center",
          "xref": "paper",
          "y": 1,
          "yanchor": "bottom",
          "yref": "paper"
         },
         {
          "font": {},
          "showarrow": false,
          "text": "metricName=Average Recall",
          "x": 0.3555571428571428,
          "xanchor": "center",
          "xref": "paper",
          "y": 1,
          "yanchor": "bottom",
          "yref": "paper"
         },
         {
          "font": {},
          "showarrow": false,
          "text": "metricName=F1-score",
          "x": 0.49999999999999994,
          "xanchor": "center",
          "xref": "paper",
          "y": 1,
          "yanchor": "bottom",
          "yref": "paper"
         },
         {
          "font": {},
          "showarrow": false,
          "text": "metricName=Error",
          "x": 0.6444428571428571,
          "xanchor": "center",
          "xref": "paper",
          "y": 1,
          "yanchor": "bottom",
          "yref": "paper"
         },
         {
          "font": {},
          "showarrow": false,
          "text": "metricName=Accuracy",
          "x": 0.7888857142857142,
          "xanchor": "center",
          "xref": "paper",
          "y": 1,
          "yanchor": "bottom",
          "yref": "paper"
         },
         {
          "font": {},
          "showarrow": false,
          "text": "metricName=Books",
          "x": 0.9333285714285713,
          "xanchor": "center",
          "xref": "paper",
          "y": 1,
          "yanchor": "bottom",
          "yref": "paper"
         }
        ],
        "autosize": false,
        "coloraxis": {
         "colorbar": {
          "title": {
           "text": "count"
          }
         },
         "colorscale": [
          [
           0,
           "#fffdc9"
          ],
          [
           1,
           "red"
          ]
         ]
        },
        "height": 1920,
        "legend": {
         "tracegroupgap": 0
        },
        "template": {
         "data": {
          "bar": [
           {
            "error_x": {
             "color": "#2a3f5f"
            },
            "error_y": {
             "color": "#2a3f5f"
            },
            "marker": {
             "line": {
              "color": "#E5ECF6",
              "width": 0.5
             }
            },
            "type": "bar"
           }
          ],
          "barpolar": [
           {
            "marker": {
             "line": {
              "color": "#E5ECF6",
              "width": 0.5
             }
            },
            "type": "barpolar"
           }
          ],
          "carpet": [
           {
            "aaxis": {
             "endlinecolor": "#2a3f5f",
             "gridcolor": "white",
             "linecolor": "white",
             "minorgridcolor": "white",
             "startlinecolor": "#2a3f5f"
            },
            "baxis": {
             "endlinecolor": "#2a3f5f",
             "gridcolor": "white",
             "linecolor": "white",
             "minorgridcolor": "white",
             "startlinecolor": "#2a3f5f"
            },
            "type": "carpet"
           }
          ],
          "choropleth": [
           {
            "colorbar": {
             "outlinewidth": 0,
             "ticks": ""
            },
            "type": "choropleth"
           }
          ],
          "contour": [
           {
            "colorbar": {
             "outlinewidth": 0,
             "ticks": ""
            },
            "colorscale": [
             [
              0,
              "#0d0887"
             ],
             [
              0.1111111111111111,
              "#46039f"
             ],
             [
              0.2222222222222222,
              "#7201a8"
             ],
             [
              0.3333333333333333,
              "#9c179e"
             ],
             [
              0.4444444444444444,
              "#bd3786"
             ],
             [
              0.5555555555555556,
              "#d8576b"
             ],
             [
              0.6666666666666666,
              "#ed7953"
             ],
             [
              0.7777777777777778,
              "#fb9f3a"
             ],
             [
              0.8888888888888888,
              "#fdca26"
             ],
             [
              1,
              "#f0f921"
             ]
            ],
            "type": "contour"
           }
          ],
          "contourcarpet": [
           {
            "colorbar": {
             "outlinewidth": 0,
             "ticks": ""
            },
            "type": "contourcarpet"
           }
          ],
          "heatmap": [
           {
            "colorbar": {
             "outlinewidth": 0,
             "ticks": ""
            },
            "colorscale": [
             [
              0,
              "#0d0887"
             ],
             [
              0.1111111111111111,
              "#46039f"
             ],
             [
              0.2222222222222222,
              "#7201a8"
             ],
             [
              0.3333333333333333,
              "#9c179e"
             ],
             [
              0.4444444444444444,
              "#bd3786"
             ],
             [
              0.5555555555555556,
              "#d8576b"
             ],
             [
              0.6666666666666666,
              "#ed7953"
             ],
             [
              0.7777777777777778,
              "#fb9f3a"
             ],
             [
              0.8888888888888888,
              "#fdca26"
             ],
             [
              1,
              "#f0f921"
             ]
            ],
            "type": "heatmap"
           }
          ],
          "heatmapgl": [
           {
            "colorbar": {
             "outlinewidth": 0,
             "ticks": ""
            },
            "colorscale": [
             [
              0,
              "#0d0887"
             ],
             [
              0.1111111111111111,
              "#46039f"
             ],
             [
              0.2222222222222222,
              "#7201a8"
             ],
             [
              0.3333333333333333,
              "#9c179e"
             ],
             [
              0.4444444444444444,
              "#bd3786"
             ],
             [
              0.5555555555555556,
              "#d8576b"
             ],
             [
              0.6666666666666666,
              "#ed7953"
             ],
             [
              0.7777777777777778,
              "#fb9f3a"
             ],
             [
              0.8888888888888888,
              "#fdca26"
             ],
             [
              1,
              "#f0f921"
             ]
            ],
            "type": "heatmapgl"
           }
          ],
          "histogram": [
           {
            "marker": {
             "colorbar": {
              "outlinewidth": 0,
              "ticks": ""
             }
            },
            "type": "histogram"
           }
          ],
          "histogram2d": [
           {
            "colorbar": {
             "outlinewidth": 0,
             "ticks": ""
            },
            "colorscale": [
             [
              0,
              "#0d0887"
             ],
             [
              0.1111111111111111,
              "#46039f"
             ],
             [
              0.2222222222222222,
              "#7201a8"
             ],
             [
              0.3333333333333333,
              "#9c179e"
             ],
             [
              0.4444444444444444,
              "#bd3786"
             ],
             [
              0.5555555555555556,
              "#d8576b"
             ],
             [
              0.6666666666666666,
              "#ed7953"
             ],
             [
              0.7777777777777778,
              "#fb9f3a"
             ],
             [
              0.8888888888888888,
              "#fdca26"
             ],
             [
              1,
              "#f0f921"
             ]
            ],
            "type": "histogram2d"
           }
          ],
          "histogram2dcontour": [
           {
            "colorbar": {
             "outlinewidth": 0,
             "ticks": ""
            },
            "colorscale": [
             [
              0,
              "#0d0887"
             ],
             [
              0.1111111111111111,
              "#46039f"
             ],
             [
              0.2222222222222222,
              "#7201a8"
             ],
             [
              0.3333333333333333,
              "#9c179e"
             ],
             [
              0.4444444444444444,
              "#bd3786"
             ],
             [
              0.5555555555555556,
              "#d8576b"
             ],
             [
              0.6666666666666666,
              "#ed7953"
             ],
             [
              0.7777777777777778,
              "#fb9f3a"
             ],
             [
              0.8888888888888888,
              "#fdca26"
             ],
             [
              1,
              "#f0f921"
             ]
            ],
            "type": "histogram2dcontour"
           }
          ],
          "mesh3d": [
           {
            "colorbar": {
             "outlinewidth": 0,
             "ticks": ""
            },
            "type": "mesh3d"
           }
          ],
          "parcoords": [
           {
            "line": {
             "colorbar": {
              "outlinewidth": 0,
              "ticks": ""
             }
            },
            "type": "parcoords"
           }
          ],
          "pie": [
           {
            "automargin": true,
            "type": "pie"
           }
          ],
          "scatter": [
           {
            "marker": {
             "colorbar": {
              "outlinewidth": 0,
              "ticks": ""
             }
            },
            "type": "scatter"
           }
          ],
          "scatter3d": [
           {
            "line": {
             "colorbar": {
              "outlinewidth": 0,
              "ticks": ""
             }
            },
            "marker": {
             "colorbar": {
              "outlinewidth": 0,
              "ticks": ""
             }
            },
            "type": "scatter3d"
           }
          ],
          "scattercarpet": [
           {
            "marker": {
             "colorbar": {
              "outlinewidth": 0,
              "ticks": ""
             }
            },
            "type": "scattercarpet"
           }
          ],
          "scattergeo": [
           {
            "marker": {
             "colorbar": {
              "outlinewidth": 0,
              "ticks": ""
             }
            },
            "type": "scattergeo"
           }
          ],
          "scattergl": [
           {
            "marker": {
             "colorbar": {
              "outlinewidth": 0,
              "ticks": ""
             }
            },
            "type": "scattergl"
           }
          ],
          "scattermapbox": [
           {
            "marker": {
             "colorbar": {
              "outlinewidth": 0,
              "ticks": ""
             }
            },
            "type": "scattermapbox"
           }
          ],
          "scatterpolar": [
           {
            "marker": {
             "colorbar": {
              "outlinewidth": 0,
              "ticks": ""
             }
            },
            "type": "scatterpolar"
           }
          ],
          "scatterpolargl": [
           {
            "marker": {
             "colorbar": {
              "outlinewidth": 0,
              "ticks": ""
             }
            },
            "type": "scatterpolargl"
           }
          ],
          "scatterternary": [
           {
            "marker": {
             "colorbar": {
              "outlinewidth": 0,
              "ticks": ""
             }
            },
            "type": "scatterternary"
           }
          ],
          "surface": [
           {
            "colorbar": {
             "outlinewidth": 0,
             "ticks": ""
            },
            "colorscale": [
             [
              0,
              "#0d0887"
             ],
             [
              0.1111111111111111,
              "#46039f"
             ],
             [
              0.2222222222222222,
              "#7201a8"
             ],
             [
              0.3333333333333333,
              "#9c179e"
             ],
             [
              0.4444444444444444,
              "#bd3786"
             ],
             [
              0.5555555555555556,
              "#d8576b"
             ],
             [
              0.6666666666666666,
              "#ed7953"
             ],
             [
              0.7777777777777778,
              "#fb9f3a"
             ],
             [
              0.8888888888888888,
              "#fdca26"
             ],
             [
              1,
              "#f0f921"
             ]
            ],
            "type": "surface"
           }
          ],
          "table": [
           {
            "cells": {
             "fill": {
              "color": "#EBF0F8"
             },
             "line": {
              "color": "white"
             }
            },
            "header": {
             "fill": {
              "color": "#C8D4E3"
             },
             "line": {
              "color": "white"
             }
            },
            "type": "table"
           }
          ]
         },
         "layout": {
          "annotationdefaults": {
           "arrowcolor": "#2a3f5f",
           "arrowhead": 0,
           "arrowwidth": 1
          },
          "autotypenumbers": "strict",
          "coloraxis": {
           "colorbar": {
            "outlinewidth": 0,
            "ticks": ""
           }
          },
          "colorscale": {
           "diverging": [
            [
             0,
             "#8e0152"
            ],
            [
             0.1,
             "#c51b7d"
            ],
            [
             0.2,
             "#de77ae"
            ],
            [
             0.3,
             "#f1b6da"
            ],
            [
             0.4,
             "#fde0ef"
            ],
            [
             0.5,
             "#f7f7f7"
            ],
            [
             0.6,
             "#e6f5d0"
            ],
            [
             0.7,
             "#b8e186"
            ],
            [
             0.8,
             "#7fbc41"
            ],
            [
             0.9,
             "#4d9221"
            ],
            [
             1,
             "#276419"
            ]
           ],
           "sequential": [
            [
             0,
             "#0d0887"
            ],
            [
             0.1111111111111111,
             "#46039f"
            ],
            [
             0.2222222222222222,
             "#7201a8"
            ],
            [
             0.3333333333333333,
             "#9c179e"
            ],
            [
             0.4444444444444444,
             "#bd3786"
            ],
            [
             0.5555555555555556,
             "#d8576b"
            ],
            [
             0.6666666666666666,
             "#ed7953"
            ],
            [
             0.7777777777777778,
             "#fb9f3a"
            ],
            [
             0.8888888888888888,
             "#fdca26"
            ],
            [
             1,
             "#f0f921"
            ]
           ],
           "sequentialminus": [
            [
             0,
             "#0d0887"
            ],
            [
             0.1111111111111111,
             "#46039f"
            ],
            [
             0.2222222222222222,
             "#7201a8"
            ],
            [
             0.3333333333333333,
             "#9c179e"
            ],
            [
             0.4444444444444444,
             "#bd3786"
            ],
            [
             0.5555555555555556,
             "#d8576b"
            ],
            [
             0.6666666666666666,
             "#ed7953"
            ],
            [
             0.7777777777777778,
             "#fb9f3a"
            ],
            [
             0.8888888888888888,
             "#fdca26"
            ],
            [
             1,
             "#f0f921"
            ]
           ]
          },
          "colorway": [
           "#636efa",
           "#EF553B",
           "#00cc96",
           "#ab63fa",
           "#FFA15A",
           "#19d3f3",
           "#FF6692",
           "#B6E880",
           "#FF97FF",
           "#FECB52"
          ],
          "font": {
           "color": "#2a3f5f"
          },
          "geo": {
           "bgcolor": "white",
           "lakecolor": "white",
           "landcolor": "#E5ECF6",
           "showlakes": true,
           "showland": true,
           "subunitcolor": "white"
          },
          "hoverlabel": {
           "align": "left"
          },
          "hovermode": "closest",
          "mapbox": {
           "style": "light"
          },
          "paper_bgcolor": "white",
          "plot_bgcolor": "#E5ECF6",
          "polar": {
           "angularaxis": {
            "gridcolor": "white",
            "linecolor": "white",
            "ticks": ""
           },
           "bgcolor": "#E5ECF6",
           "radialaxis": {
            "gridcolor": "white",
            "linecolor": "white",
            "ticks": ""
           }
          },
          "scene": {
           "xaxis": {
            "backgroundcolor": "#E5ECF6",
            "gridcolor": "white",
            "gridwidth": 2,
            "linecolor": "white",
            "showbackground": true,
            "ticks": "",
            "zerolinecolor": "white"
           },
           "yaxis": {
            "backgroundcolor": "#E5ECF6",
            "gridcolor": "white",
            "gridwidth": 2,
            "linecolor": "white",
            "showbackground": true,
            "ticks": "",
            "zerolinecolor": "white"
           },
           "zaxis": {
            "backgroundcolor": "#E5ECF6",
            "gridcolor": "white",
            "gridwidth": 2,
            "linecolor": "white",
            "showbackground": true,
            "ticks": "",
            "zerolinecolor": "white"
           }
          },
          "shapedefaults": {
           "line": {
            "color": "#2a3f5f"
           }
          },
          "ternary": {
           "aaxis": {
            "gridcolor": "white",
            "linecolor": "white",
            "ticks": ""
           },
           "baxis": {
            "gridcolor": "white",
            "linecolor": "white",
            "ticks": ""
           },
           "bgcolor": "#E5ECF6",
           "caxis": {
            "gridcolor": "white",
            "linecolor": "white",
            "ticks": ""
           }
          },
          "title": {
           "x": 0.05
          },
          "xaxis": {
           "automargin": true,
           "gridcolor": "white",
           "linecolor": "white",
           "ticks": "",
           "title": {
            "standoff": 15
           },
           "zerolinecolor": "white",
           "zerolinewidth": 2
          },
          "yaxis": {
           "automargin": true,
           "gridcolor": "white",
           "linecolor": "white",
           "ticks": "",
           "title": {
            "standoff": 15
           },
           "zerolinecolor": "white",
           "zerolinewidth": 2
          }
         }
        },
        "title": {
         "text": "Density heatmaps for Date and Percent of max score based on metricName"
        },
        "width": 1920,
        "xaxis": {
         "anchor": "y",
         "domain": [
          0,
          0.13334285714285712
         ],
         "title": {
          "text": "date"
         }
        },
        "xaxis10": {
         "anchor": "y10",
         "domain": [
          0.28888571428571425,
          0.4222285714285714
         ],
         "matches": "x",
         "showticklabels": false
        },
        "xaxis11": {
         "anchor": "y11",
         "domain": [
          0.4333285714285714,
          0.5666714285714285
         ],
         "matches": "x",
         "showticklabels": false
        },
        "xaxis12": {
         "anchor": "y12",
         "domain": [
          0.5777714285714285,
          0.7111142857142856
         ],
         "matches": "x",
         "showticklabels": false
        },
        "xaxis13": {
         "anchor": "y13",
         "domain": [
          0.7222142857142856,
          0.8555571428571427
         ],
         "matches": "x",
         "showticklabels": false
        },
        "xaxis14": {
         "anchor": "y14",
         "domain": [
          0.8666571428571427,
          0.9999999999999998
         ],
         "matches": "x",
         "showticklabels": false
        },
        "xaxis2": {
         "anchor": "y2",
         "domain": [
          0.14444285714285712,
          0.27778571428571425
         ],
         "matches": "x",
         "title": {
          "text": "date"
         }
        },
        "xaxis3": {
         "anchor": "y3",
         "domain": [
          0.28888571428571425,
          0.4222285714285714
         ],
         "matches": "x",
         "title": {
          "text": "date"
         }
        },
        "xaxis4": {
         "anchor": "y4",
         "domain": [
          0.4333285714285714,
          0.5666714285714285
         ],
         "matches": "x",
         "title": {
          "text": "date"
         }
        },
        "xaxis5": {
         "anchor": "y5",
         "domain": [
          0.5777714285714285,
          0.7111142857142856
         ],
         "matches": "x",
         "title": {
          "text": "date"
         }
        },
        "xaxis6": {
         "anchor": "y6",
         "domain": [
          0.7222142857142856,
          0.8555571428571427
         ],
         "matches": "x",
         "title": {
          "text": "date"
         }
        },
        "xaxis7": {
         "anchor": "y7",
         "domain": [
          0.8666571428571427,
          0.9999999999999998
         ],
         "matches": "x",
         "title": {
          "text": "date"
         }
        },
        "xaxis8": {
         "anchor": "y8",
         "domain": [
          0,
          0.13334285714285712
         ],
         "matches": "x",
         "showticklabels": false
        },
        "xaxis9": {
         "anchor": "y9",
         "domain": [
          0.14444285714285712,
          0.27778571428571425
         ],
         "matches": "x",
         "showticklabels": false
        },
        "yaxis": {
         "anchor": "x",
         "domain": [
          0,
          0.49
         ],
         "title": {
          "text": "percent"
         }
        },
        "yaxis10": {
         "anchor": "x10",
         "domain": [
          0.51,
          1
         ],
         "matches": "y",
         "showticklabels": false
        },
        "yaxis11": {
         "anchor": "x11",
         "domain": [
          0.51,
          1
         ],
         "matches": "y",
         "showticklabels": false
        },
        "yaxis12": {
         "anchor": "x12",
         "domain": [
          0.51,
          1
         ],
         "matches": "y",
         "showticklabels": false
        },
        "yaxis13": {
         "anchor": "x13",
         "domain": [
          0.51,
          1
         ],
         "matches": "y",
         "showticklabels": false
        },
        "yaxis14": {
         "anchor": "x14",
         "domain": [
          0.51,
          1
         ],
         "matches": "y",
         "showticklabels": false
        },
        "yaxis2": {
         "anchor": "x2",
         "domain": [
          0,
          0.49
         ],
         "matches": "y",
         "showticklabels": false
        },
        "yaxis3": {
         "anchor": "x3",
         "domain": [
          0,
          0.49
         ],
         "matches": "y",
         "showticklabels": false
        },
        "yaxis4": {
         "anchor": "x4",
         "domain": [
          0,
          0.49
         ],
         "matches": "y",
         "showticklabels": false
        },
        "yaxis5": {
         "anchor": "x5",
         "domain": [
          0,
          0.49
         ],
         "matches": "y",
         "showticklabels": false
        },
        "yaxis6": {
         "anchor": "x6",
         "domain": [
          0,
          0.49
         ],
         "matches": "y",
         "showticklabels": false
        },
        "yaxis7": {
         "anchor": "x7",
         "domain": [
          0,
          0.49
         ],
         "matches": "y",
         "showticklabels": false
        },
        "yaxis8": {
         "anchor": "x8",
         "domain": [
          0.51,
          1
         ],
         "matches": "y",
         "title": {
          "text": "percent"
         }
        },
        "yaxis9": {
         "anchor": "x9",
         "domain": [
          0.51,
          1
         ],
         "matches": "y",
         "showticklabels": false
        }
       }
      },
      "text/html": [
       "<div>                            <div id=\"b4f018cd-f75e-4db9-bbef-1bd0ad480b5b\" class=\"plotly-graph-div\" style=\"height:1920px; width:1920px;\"></div>            <script type=\"text/javascript\">                require([\"plotly\"], function(Plotly) {                    window.PLOTLYENV=window.PLOTLYENV || {};                                    if (document.getElementById(\"b4f018cd-f75e-4db9-bbef-1bd0ad480b5b\")) {                    Plotly.newPlot(                        \"b4f018cd-f75e-4db9-bbef-1bd0ad480b5b\",                        [{\"coloraxis\": \"coloraxis\", \"hovertemplate\": \"metricName=MSE<br>date=%{x}<br>percent=%{y}<br>count=%{z}<extra></extra>\", \"name\": \"\", \"type\": \"histogram2d\", \"x\": [\"2019-08\"], \"xaxis\": \"x8\", \"xbingroup\": \"x\", \"y\": [100.0], \"yaxis\": \"y8\", \"ybingroup\": \"y\"}, {\"coloraxis\": \"coloraxis\", \"hovertemplate\": \"metricName=R^2<br>date=%{x}<br>percent=%{y}<br>count=%{z}<extra></extra>\", \"name\": \"\", \"type\": \"histogram2d\", \"x\": [\"2019-08\"], \"xaxis\": \"x9\", \"xbingroup\": \"x\", \"y\": [100.0], \"yaxis\": \"y9\", \"ybingroup\": \"y\"}, {\"coloraxis\": \"coloraxis\", \"hovertemplate\": \"metricName=Average Recall<br>date=%{x}<br>percent=%{y}<br>count=%{z}<extra></extra>\", \"name\": \"\", \"type\": \"histogram2d\", \"x\": [\"2019-08\", \"2019-08\", \"2019-08\"], \"xaxis\": \"x10\", \"xbingroup\": \"x\", \"y\": [68.0, 69.0, 100.0], \"yaxis\": \"y10\", \"ybingroup\": \"y\"}, {\"coloraxis\": \"coloraxis\", \"hovertemplate\": \"metricName=F1-score<br>date=%{x}<br>percent=%{y}<br>count=%{z}<extra></extra>\", \"name\": \"\", \"type\": \"histogram2d\", \"x\": [\"2017-04\"], \"xaxis\": \"x11\", \"xbingroup\": \"x\", \"y\": [100.0], \"yaxis\": \"y11\", \"ybingroup\": \"y\"}, {\"coloraxis\": \"coloraxis\", \"hovertemplate\": \"metricName=Error<br>date=%{x}<br>percent=%{y}<br>count=%{z}<extra></extra>\", \"name\": \"\", \"type\": \"histogram2d\", \"x\": [\"2015-09\", \"2015-09\", \"2019-01\"], \"xaxis\": \"x12\", \"xbingroup\": \"x\", \"y\": [81.0, 10.0, 100.0], \"yaxis\": \"y12\", \"ybingroup\": \"y\"}, {\"coloraxis\": \"coloraxis\", \"hovertemplate\": \"metricName=Accuracy<br>date=%{x}<br>percent=%{y}<br>count=%{z}<extra></extra>\", \"name\": \"\", \"type\": \"histogram2d\", \"x\": [\"2013-10\", \"2014-06\", \"2015-02\", \"2017-08\", \"2018-02\", \"2019-10\", \"2016-07\", \"2017-07\", \"2019-04\", \"2019-02\", \"2017-02\", \"2018-02\", \"2013-10\", \"2019-08\", \"2018-05\", \"2014-08\", \"2018-03\", \"2015-06\", \"2018-05\", \"2016-03\", \"2016-07\", \"2019-05\", \"2017-04\", \"2017-12\", \"2014-12\", \"2017-12\", \"2020-02\", \"2016-02\", \"2020-01\", \"2016-07\", \"2017-12\", \"2018-01\", \"2019-01\", \"2019-02\", \"2019-04\", \"2019-06\", \"2020-02\", \"2017-07\", \"2016-07\", \"2019-06\", \"2019-09\", \"2019-04\", \"2019-10\", \"2019-07\"], \"xaxis\": \"x13\", \"xbingroup\": \"x\", \"y\": [47.0, 51.0, 52.0, 55.00000000000001, 56.00000000000001, 56.99999999999999, 62.0, 67.0, 68.0, 77.0, 80.0, 86.0, 88.0, 88.0, 89.0, 90.0, 90.0, 91.0, 91.0, 92.0, 92.0, 92.0, 94.0, 95.0, 95.0, 96.0, 96.0, 97.0, 97.0, 97.0, 98.0, 98.0, 98.0, 98.0, 98.0, 99.0, 99.0, 99.0, 99.0, 100.0, 100.0, 100.0, 100.0, 100.0], \"yaxis\": \"y13\", \"ybingroup\": \"y\"}, {\"coloraxis\": \"coloraxis\", \"hovertemplate\": \"metricName=Books<br>date=%{x}<br>percent=%{y}<br>count=%{z}<extra></extra>\", \"name\": \"\", \"type\": \"histogram2d\", \"x\": [\"2015-05\", \"2015-11\", \"2018-04\", \"2018-10\"], \"xaxis\": \"x14\", \"xbingroup\": \"x\", \"y\": [88.0, 90.0, 92.0, 100.0], \"yaxis\": \"y14\", \"ybingroup\": \"y\"}, {\"coloraxis\": \"coloraxis\", \"hovertemplate\": \"metricName=DVD<br>date=%{x}<br>percent=%{y}<br>count=%{z}<extra></extra>\", \"name\": \"\", \"type\": \"histogram2d\", \"x\": [\"2015-05\", \"2015-11\", \"2018-04\", \"2018-10\"], \"xaxis\": \"x\", \"xbingroup\": \"x\", \"y\": [93.0, 95.0, 96.0, 100.0], \"yaxis\": \"y\", \"ybingroup\": \"y\"}, {\"coloraxis\": \"coloraxis\", \"hovertemplate\": \"metricName=Average<br>date=%{x}<br>percent=%{y}<br>count=%{z}<extra></extra>\", \"name\": \"\", \"type\": \"histogram2d\", \"x\": [\"2015-05\", \"2015-11\", \"2017-02\", \"2018-04\", \"2018-10\"], \"xaxis\": \"x2\", \"xbingroup\": \"x\", \"y\": [92.0, 94.0, 94.0, 95.0, 100.0], \"yaxis\": \"y2\", \"ybingroup\": \"y\"}, {\"coloraxis\": \"coloraxis\", \"hovertemplate\": \"metricName=Electronics<br>date=%{x}<br>percent=%{y}<br>count=%{z}<extra></extra>\", \"name\": \"\", \"type\": \"histogram2d\", \"x\": [\"2015-05\", \"2015-11\", \"2018-04\"], \"xaxis\": \"x3\", \"xbingroup\": \"x\", \"y\": [95.0, 99.0, 100.0], \"yaxis\": \"y3\", \"ybingroup\": \"y\"}, {\"coloraxis\": \"coloraxis\", \"hovertemplate\": \"metricName=Kitchen<br>date=%{x}<br>percent=%{y}<br>count=%{z}<extra></extra>\", \"name\": \"\", \"type\": \"histogram2d\", \"x\": [\"2015-05\", \"2015-11\", \"2017-02\", \"2018-10\"], \"xaxis\": \"x4\", \"xbingroup\": \"x\", \"y\": [94.0, 97.0, 98.0, 100.0], \"yaxis\": \"y4\", \"ybingroup\": \"y\"}, {\"coloraxis\": \"coloraxis\", \"hovertemplate\": \"metricName=F1 score<br>date=%{x}<br>percent=%{y}<br>count=%{z}<extra></extra>\", \"name\": \"\", \"type\": \"histogram2d\", \"x\": [\"2019-08\"], \"xaxis\": \"x5\", \"xbingroup\": \"x\", \"y\": [100.0], \"yaxis\": \"y5\", \"ybingroup\": \"y\"}, {\"coloraxis\": \"coloraxis\", \"hovertemplate\": \"metricName=1 in 10 R-at-1<br>date=%{x}<br>percent=%{y}<br>count=%{z}<extra></extra>\", \"name\": \"\", \"type\": \"histogram2d\", \"x\": [\"2012-06\"], \"xaxis\": \"x6\", \"xbingroup\": \"x\", \"y\": [100.0], \"yaxis\": \"y6\", \"ybingroup\": \"y\"}, {\"coloraxis\": \"coloraxis\", \"hovertemplate\": \"metricName=F1<br>date=%{x}<br>percent=%{y}<br>count=%{z}<extra></extra>\", \"name\": \"\", \"type\": \"histogram2d\", \"x\": [\"2020-01\", \"2019-06\", \"2019-06\"], \"xaxis\": \"x7\", \"xbingroup\": \"x\", \"y\": [99.0, 100.0, 100.0], \"yaxis\": \"y7\", \"ybingroup\": \"y\"}],                        {\"annotations\": [{\"font\": {}, \"showarrow\": false, \"text\": \"metricName=DVD\", \"x\": 0.06667142857142856, \"xanchor\": \"center\", \"xref\": \"paper\", \"y\": 0.49, \"yanchor\": \"bottom\", \"yref\": \"paper\"}, {\"font\": {}, \"showarrow\": false, \"text\": \"metricName=Average\", \"x\": 0.2111142857142857, \"xanchor\": \"center\", \"xref\": \"paper\", \"y\": 0.49, \"yanchor\": \"bottom\", \"yref\": \"paper\"}, {\"font\": {}, \"showarrow\": false, \"text\": \"metricName=Electronics\", \"x\": 0.3555571428571428, \"xanchor\": \"center\", \"xref\": \"paper\", \"y\": 0.49, \"yanchor\": \"bottom\", \"yref\": \"paper\"}, {\"font\": {}, \"showarrow\": false, \"text\": \"metricName=Kitchen\", \"x\": 0.49999999999999994, \"xanchor\": \"center\", \"xref\": \"paper\", \"y\": 0.49, \"yanchor\": \"bottom\", \"yref\": \"paper\"}, {\"font\": {}, \"showarrow\": false, \"text\": \"metricName=F1 score\", \"x\": 0.6444428571428571, \"xanchor\": \"center\", \"xref\": \"paper\", \"y\": 0.49, \"yanchor\": \"bottom\", \"yref\": \"paper\"}, {\"font\": {}, \"showarrow\": false, \"text\": \"metricName=1 in 10 R-at-1\", \"x\": 0.7888857142857142, \"xanchor\": \"center\", \"xref\": \"paper\", \"y\": 0.49, \"yanchor\": \"bottom\", \"yref\": \"paper\"}, {\"font\": {}, \"showarrow\": false, \"text\": \"metricName=F1\", \"x\": 0.9333285714285713, \"xanchor\": \"center\", \"xref\": \"paper\", \"y\": 0.49, \"yanchor\": \"bottom\", \"yref\": \"paper\"}, {\"font\": {}, \"showarrow\": false, \"text\": \"metricName=MSE\", \"x\": 0.06667142857142856, \"xanchor\": \"center\", \"xref\": \"paper\", \"y\": 1.0, \"yanchor\": \"bottom\", \"yref\": \"paper\"}, {\"font\": {}, \"showarrow\": false, \"text\": \"metricName=R^2\", \"x\": 0.2111142857142857, \"xanchor\": \"center\", \"xref\": \"paper\", \"y\": 1.0, \"yanchor\": \"bottom\", \"yref\": \"paper\"}, {\"font\": {}, \"showarrow\": false, \"text\": \"metricName=Average Recall\", \"x\": 0.3555571428571428, \"xanchor\": \"center\", \"xref\": \"paper\", \"y\": 1.0, \"yanchor\": \"bottom\", \"yref\": \"paper\"}, {\"font\": {}, \"showarrow\": false, \"text\": \"metricName=F1-score\", \"x\": 0.49999999999999994, \"xanchor\": \"center\", \"xref\": \"paper\", \"y\": 1.0, \"yanchor\": \"bottom\", \"yref\": \"paper\"}, {\"font\": {}, \"showarrow\": false, \"text\": \"metricName=Error\", \"x\": 0.6444428571428571, \"xanchor\": \"center\", \"xref\": \"paper\", \"y\": 1.0, \"yanchor\": \"bottom\", \"yref\": \"paper\"}, {\"font\": {}, \"showarrow\": false, \"text\": \"metricName=Accuracy\", \"x\": 0.7888857142857142, \"xanchor\": \"center\", \"xref\": \"paper\", \"y\": 1.0, \"yanchor\": \"bottom\", \"yref\": \"paper\"}, {\"font\": {}, \"showarrow\": false, \"text\": \"metricName=Books\", \"x\": 0.9333285714285713, \"xanchor\": \"center\", \"xref\": \"paper\", \"y\": 1.0, \"yanchor\": \"bottom\", \"yref\": \"paper\"}], \"autosize\": false, \"coloraxis\": {\"colorbar\": {\"title\": {\"text\": \"count\"}}, \"colorscale\": [[0.0, \"#fffdc9\"], [1.0, \"red\"]]}, \"height\": 1920, \"legend\": {\"tracegroupgap\": 0}, \"template\": {\"data\": {\"bar\": [{\"error_x\": {\"color\": \"#2a3f5f\"}, \"error_y\": {\"color\": \"#2a3f5f\"}, \"marker\": {\"line\": {\"color\": \"#E5ECF6\", \"width\": 0.5}}, \"type\": \"bar\"}], \"barpolar\": [{\"marker\": {\"line\": {\"color\": \"#E5ECF6\", \"width\": 0.5}}, \"type\": \"barpolar\"}], \"carpet\": [{\"aaxis\": {\"endlinecolor\": \"#2a3f5f\", \"gridcolor\": \"white\", \"linecolor\": \"white\", \"minorgridcolor\": \"white\", \"startlinecolor\": \"#2a3f5f\"}, \"baxis\": {\"endlinecolor\": \"#2a3f5f\", \"gridcolor\": \"white\", \"linecolor\": \"white\", \"minorgridcolor\": \"white\", \"startlinecolor\": \"#2a3f5f\"}, \"type\": \"carpet\"}], \"choropleth\": [{\"colorbar\": {\"outlinewidth\": 0, \"ticks\": \"\"}, \"type\": \"choropleth\"}], \"contour\": [{\"colorbar\": {\"outlinewidth\": 0, \"ticks\": \"\"}, \"colorscale\": [[0.0, \"#0d0887\"], [0.1111111111111111, \"#46039f\"], [0.2222222222222222, \"#7201a8\"], [0.3333333333333333, \"#9c179e\"], [0.4444444444444444, \"#bd3786\"], [0.5555555555555556, \"#d8576b\"], [0.6666666666666666, \"#ed7953\"], [0.7777777777777778, \"#fb9f3a\"], [0.8888888888888888, \"#fdca26\"], [1.0, \"#f0f921\"]], \"type\": \"contour\"}], \"contourcarpet\": [{\"colorbar\": {\"outlinewidth\": 0, \"ticks\": \"\"}, \"type\": \"contourcarpet\"}], \"heatmap\": [{\"colorbar\": {\"outlinewidth\": 0, \"ticks\": \"\"}, \"colorscale\": [[0.0, \"#0d0887\"], [0.1111111111111111, \"#46039f\"], [0.2222222222222222, \"#7201a8\"], [0.3333333333333333, \"#9c179e\"], [0.4444444444444444, \"#bd3786\"], [0.5555555555555556, \"#d8576b\"], [0.6666666666666666, \"#ed7953\"], [0.7777777777777778, \"#fb9f3a\"], [0.8888888888888888, \"#fdca26\"], [1.0, \"#f0f921\"]], \"type\": \"heatmap\"}], \"heatmapgl\": [{\"colorbar\": {\"outlinewidth\": 0, \"ticks\": \"\"}, \"colorscale\": [[0.0, \"#0d0887\"], [0.1111111111111111, \"#46039f\"], [0.2222222222222222, \"#7201a8\"], [0.3333333333333333, \"#9c179e\"], [0.4444444444444444, \"#bd3786\"], [0.5555555555555556, \"#d8576b\"], [0.6666666666666666, \"#ed7953\"], [0.7777777777777778, \"#fb9f3a\"], [0.8888888888888888, \"#fdca26\"], [1.0, \"#f0f921\"]], \"type\": \"heatmapgl\"}], \"histogram\": [{\"marker\": {\"colorbar\": {\"outlinewidth\": 0, \"ticks\": \"\"}}, \"type\": \"histogram\"}], \"histogram2d\": [{\"colorbar\": {\"outlinewidth\": 0, \"ticks\": \"\"}, \"colorscale\": [[0.0, \"#0d0887\"], [0.1111111111111111, \"#46039f\"], [0.2222222222222222, \"#7201a8\"], [0.3333333333333333, \"#9c179e\"], [0.4444444444444444, \"#bd3786\"], [0.5555555555555556, \"#d8576b\"], [0.6666666666666666, \"#ed7953\"], [0.7777777777777778, \"#fb9f3a\"], [0.8888888888888888, \"#fdca26\"], [1.0, \"#f0f921\"]], \"type\": \"histogram2d\"}], \"histogram2dcontour\": [{\"colorbar\": {\"outlinewidth\": 0, \"ticks\": \"\"}, \"colorscale\": [[0.0, \"#0d0887\"], [0.1111111111111111, \"#46039f\"], [0.2222222222222222, \"#7201a8\"], [0.3333333333333333, \"#9c179e\"], [0.4444444444444444, \"#bd3786\"], [0.5555555555555556, \"#d8576b\"], [0.6666666666666666, \"#ed7953\"], [0.7777777777777778, \"#fb9f3a\"], [0.8888888888888888, \"#fdca26\"], [1.0, \"#f0f921\"]], \"type\": \"histogram2dcontour\"}], \"mesh3d\": [{\"colorbar\": {\"outlinewidth\": 0, \"ticks\": \"\"}, \"type\": \"mesh3d\"}], \"parcoords\": [{\"line\": {\"colorbar\": {\"outlinewidth\": 0, \"ticks\": \"\"}}, \"type\": \"parcoords\"}], \"pie\": [{\"automargin\": true, \"type\": \"pie\"}], \"scatter\": [{\"marker\": {\"colorbar\": {\"outlinewidth\": 0, \"ticks\": \"\"}}, \"type\": \"scatter\"}], \"scatter3d\": [{\"line\": {\"colorbar\": {\"outlinewidth\": 0, \"ticks\": \"\"}}, \"marker\": {\"colorbar\": {\"outlinewidth\": 0, \"ticks\": \"\"}}, \"type\": \"scatter3d\"}], \"scattercarpet\": [{\"marker\": {\"colorbar\": {\"outlinewidth\": 0, \"ticks\": \"\"}}, \"type\": \"scattercarpet\"}], \"scattergeo\": [{\"marker\": {\"colorbar\": {\"outlinewidth\": 0, \"ticks\": \"\"}}, \"type\": \"scattergeo\"}], \"scattergl\": [{\"marker\": {\"colorbar\": {\"outlinewidth\": 0, \"ticks\": \"\"}}, \"type\": \"scattergl\"}], \"scattermapbox\": [{\"marker\": {\"colorbar\": {\"outlinewidth\": 0, \"ticks\": \"\"}}, \"type\": \"scattermapbox\"}], \"scatterpolar\": [{\"marker\": {\"colorbar\": {\"outlinewidth\": 0, \"ticks\": \"\"}}, \"type\": \"scatterpolar\"}], \"scatterpolargl\": [{\"marker\": {\"colorbar\": {\"outlinewidth\": 0, \"ticks\": \"\"}}, \"type\": \"scatterpolargl\"}], \"scatterternary\": [{\"marker\": {\"colorbar\": {\"outlinewidth\": 0, \"ticks\": \"\"}}, \"type\": \"scatterternary\"}], \"surface\": [{\"colorbar\": {\"outlinewidth\": 0, \"ticks\": \"\"}, \"colorscale\": [[0.0, \"#0d0887\"], [0.1111111111111111, \"#46039f\"], [0.2222222222222222, \"#7201a8\"], [0.3333333333333333, \"#9c179e\"], [0.4444444444444444, \"#bd3786\"], [0.5555555555555556, \"#d8576b\"], [0.6666666666666666, \"#ed7953\"], [0.7777777777777778, \"#fb9f3a\"], [0.8888888888888888, \"#fdca26\"], [1.0, \"#f0f921\"]], \"type\": \"surface\"}], \"table\": [{\"cells\": {\"fill\": {\"color\": \"#EBF0F8\"}, \"line\": {\"color\": \"white\"}}, \"header\": {\"fill\": {\"color\": \"#C8D4E3\"}, \"line\": {\"color\": \"white\"}}, \"type\": \"table\"}]}, \"layout\": {\"annotationdefaults\": {\"arrowcolor\": \"#2a3f5f\", \"arrowhead\": 0, \"arrowwidth\": 1}, \"autotypenumbers\": \"strict\", \"coloraxis\": {\"colorbar\": {\"outlinewidth\": 0, \"ticks\": \"\"}}, \"colorscale\": {\"diverging\": [[0, \"#8e0152\"], [0.1, \"#c51b7d\"], [0.2, \"#de77ae\"], [0.3, \"#f1b6da\"], [0.4, \"#fde0ef\"], [0.5, \"#f7f7f7\"], [0.6, \"#e6f5d0\"], [0.7, \"#b8e186\"], [0.8, \"#7fbc41\"], [0.9, \"#4d9221\"], [1, \"#276419\"]], \"sequential\": [[0.0, \"#0d0887\"], [0.1111111111111111, \"#46039f\"], [0.2222222222222222, \"#7201a8\"], [0.3333333333333333, \"#9c179e\"], [0.4444444444444444, \"#bd3786\"], [0.5555555555555556, \"#d8576b\"], [0.6666666666666666, \"#ed7953\"], [0.7777777777777778, \"#fb9f3a\"], [0.8888888888888888, \"#fdca26\"], [1.0, \"#f0f921\"]], \"sequentialminus\": [[0.0, \"#0d0887\"], [0.1111111111111111, \"#46039f\"], [0.2222222222222222, \"#7201a8\"], [0.3333333333333333, \"#9c179e\"], [0.4444444444444444, \"#bd3786\"], [0.5555555555555556, \"#d8576b\"], [0.6666666666666666, \"#ed7953\"], [0.7777777777777778, \"#fb9f3a\"], [0.8888888888888888, \"#fdca26\"], [1.0, \"#f0f921\"]]}, \"colorway\": [\"#636efa\", \"#EF553B\", \"#00cc96\", \"#ab63fa\", \"#FFA15A\", \"#19d3f3\", \"#FF6692\", \"#B6E880\", \"#FF97FF\", \"#FECB52\"], \"font\": {\"color\": \"#2a3f5f\"}, \"geo\": {\"bgcolor\": \"white\", \"lakecolor\": \"white\", \"landcolor\": \"#E5ECF6\", \"showlakes\": true, \"showland\": true, \"subunitcolor\": \"white\"}, \"hoverlabel\": {\"align\": \"left\"}, \"hovermode\": \"closest\", \"mapbox\": {\"style\": \"light\"}, \"paper_bgcolor\": \"white\", \"plot_bgcolor\": \"#E5ECF6\", \"polar\": {\"angularaxis\": {\"gridcolor\": \"white\", \"linecolor\": \"white\", \"ticks\": \"\"}, \"bgcolor\": \"#E5ECF6\", \"radialaxis\": {\"gridcolor\": \"white\", \"linecolor\": \"white\", \"ticks\": \"\"}}, \"scene\": {\"xaxis\": {\"backgroundcolor\": \"#E5ECF6\", \"gridcolor\": \"white\", \"gridwidth\": 2, \"linecolor\": \"white\", \"showbackground\": true, \"ticks\": \"\", \"zerolinecolor\": \"white\"}, \"yaxis\": {\"backgroundcolor\": \"#E5ECF6\", \"gridcolor\": \"white\", \"gridwidth\": 2, \"linecolor\": \"white\", \"showbackground\": true, \"ticks\": \"\", \"zerolinecolor\": \"white\"}, \"zaxis\": {\"backgroundcolor\": \"#E5ECF6\", \"gridcolor\": \"white\", \"gridwidth\": 2, \"linecolor\": \"white\", \"showbackground\": true, \"ticks\": \"\", \"zerolinecolor\": \"white\"}}, \"shapedefaults\": {\"line\": {\"color\": \"#2a3f5f\"}}, \"ternary\": {\"aaxis\": {\"gridcolor\": \"white\", \"linecolor\": \"white\", \"ticks\": \"\"}, \"baxis\": {\"gridcolor\": \"white\", \"linecolor\": \"white\", \"ticks\": \"\"}, \"bgcolor\": \"#E5ECF6\", \"caxis\": {\"gridcolor\": \"white\", \"linecolor\": \"white\", \"ticks\": \"\"}}, \"title\": {\"x\": 0.05}, \"xaxis\": {\"automargin\": true, \"gridcolor\": \"white\", \"linecolor\": \"white\", \"ticks\": \"\", \"title\": {\"standoff\": 15}, \"zerolinecolor\": \"white\", \"zerolinewidth\": 2}, \"yaxis\": {\"automargin\": true, \"gridcolor\": \"white\", \"linecolor\": \"white\", \"ticks\": \"\", \"title\": {\"standoff\": 15}, \"zerolinecolor\": \"white\", \"zerolinewidth\": 2}}}, \"title\": {\"text\": \"Density heatmaps for Date and Percent of max score based on metricName\"}, \"width\": 1920, \"xaxis\": {\"anchor\": \"y\", \"domain\": [0.0, 0.13334285714285712], \"title\": {\"text\": \"date\"}}, \"xaxis10\": {\"anchor\": \"y10\", \"domain\": [0.28888571428571425, 0.4222285714285714], \"matches\": \"x\", \"showticklabels\": false}, \"xaxis11\": {\"anchor\": \"y11\", \"domain\": [0.4333285714285714, 0.5666714285714285], \"matches\": \"x\", \"showticklabels\": false}, \"xaxis12\": {\"anchor\": \"y12\", \"domain\": [0.5777714285714285, 0.7111142857142856], \"matches\": \"x\", \"showticklabels\": false}, \"xaxis13\": {\"anchor\": \"y13\", \"domain\": [0.7222142857142856, 0.8555571428571427], \"matches\": \"x\", \"showticklabels\": false}, \"xaxis14\": {\"anchor\": \"y14\", \"domain\": [0.8666571428571427, 0.9999999999999998], \"matches\": \"x\", \"showticklabels\": false}, \"xaxis2\": {\"anchor\": \"y2\", \"domain\": [0.14444285714285712, 0.27778571428571425], \"matches\": \"x\", \"title\": {\"text\": \"date\"}}, \"xaxis3\": {\"anchor\": \"y3\", \"domain\": [0.28888571428571425, 0.4222285714285714], \"matches\": \"x\", \"title\": {\"text\": \"date\"}}, \"xaxis4\": {\"anchor\": \"y4\", \"domain\": [0.4333285714285714, 0.5666714285714285], \"matches\": \"x\", \"title\": {\"text\": \"date\"}}, \"xaxis5\": {\"anchor\": \"y5\", \"domain\": [0.5777714285714285, 0.7111142857142856], \"matches\": \"x\", \"title\": {\"text\": \"date\"}}, \"xaxis6\": {\"anchor\": \"y6\", \"domain\": [0.7222142857142856, 0.8555571428571427], \"matches\": \"x\", \"title\": {\"text\": \"date\"}}, \"xaxis7\": {\"anchor\": \"y7\", \"domain\": [0.8666571428571427, 0.9999999999999998], \"matches\": \"x\", \"title\": {\"text\": \"date\"}}, \"xaxis8\": {\"anchor\": \"y8\", \"domain\": [0.0, 0.13334285714285712], \"matches\": \"x\", \"showticklabels\": false}, \"xaxis9\": {\"anchor\": \"y9\", \"domain\": [0.14444285714285712, 0.27778571428571425], \"matches\": \"x\", \"showticklabels\": false}, \"yaxis\": {\"anchor\": \"x\", \"domain\": [0.0, 0.49], \"title\": {\"text\": \"percent\"}}, \"yaxis10\": {\"anchor\": \"x10\", \"domain\": [0.51, 1.0], \"matches\": \"y\", \"showticklabels\": false}, \"yaxis11\": {\"anchor\": \"x11\", \"domain\": [0.51, 1.0], \"matches\": \"y\", \"showticklabels\": false}, \"yaxis12\": {\"anchor\": \"x12\", \"domain\": [0.51, 1.0], \"matches\": \"y\", \"showticklabels\": false}, \"yaxis13\": {\"anchor\": \"x13\", \"domain\": [0.51, 1.0], \"matches\": \"y\", \"showticklabels\": false}, \"yaxis14\": {\"anchor\": \"x14\", \"domain\": [0.51, 1.0], \"matches\": \"y\", \"showticklabels\": false}, \"yaxis2\": {\"anchor\": \"x2\", \"domain\": [0.0, 0.49], \"matches\": \"y\", \"showticklabels\": false}, \"yaxis3\": {\"anchor\": \"x3\", \"domain\": [0.0, 0.49], \"matches\": \"y\", \"showticklabels\": false}, \"yaxis4\": {\"anchor\": \"x4\", \"domain\": [0.0, 0.49], \"matches\": \"y\", \"showticklabels\": false}, \"yaxis5\": {\"anchor\": \"x5\", \"domain\": [0.0, 0.49], \"matches\": \"y\", \"showticklabels\": false}, \"yaxis6\": {\"anchor\": \"x6\", \"domain\": [0.0, 0.49], \"matches\": \"y\", \"showticklabels\": false}, \"yaxis7\": {\"anchor\": \"x7\", \"domain\": [0.0, 0.49], \"matches\": \"y\", \"showticklabels\": false}, \"yaxis8\": {\"anchor\": \"x8\", \"domain\": [0.51, 1.0], \"matches\": \"y\", \"title\": {\"text\": \"percent\"}}, \"yaxis9\": {\"anchor\": \"x9\", \"domain\": [0.51, 1.0], \"matches\": \"y\", \"showticklabels\": false}},                        {\"responsive\": true}                    ).then(function(){\n",
       "                            \n",
       "var gd = document.getElementById('b4f018cd-f75e-4db9-bbef-1bd0ad480b5b');\n",
       "var x = new MutationObserver(function (mutations, observer) {{\n",
       "        var display = window.getComputedStyle(gd).display;\n",
       "        if (!display || display === 'none') {{\n",
       "            console.log([gd, 'removed!']);\n",
       "            Plotly.purge(gd);\n",
       "            observer.disconnect();\n",
       "        }}\n",
       "}});\n",
       "\n",
       "// Listen for the removal of the full notebook cells\n",
       "var notebookContainer = gd.closest('#notebook-container');\n",
       "if (notebookContainer) {{\n",
       "    x.observe(notebookContainer, {childList: true});\n",
       "}}\n",
       "\n",
       "// Listen for the clearing of the current output cell\n",
       "var outputEl = gd.closest('.output');\n",
       "if (outputEl) {{\n",
       "    x.observe(outputEl, {childList: true});\n",
       "}}\n",
       "\n",
       "                        })                };                });            </script>        </div>"
      ]
     },
     "metadata": {},
     "output_type": "display_data"
    }
   ],
   "source": [
    "fig = px.density_heatmap(get_ratio_df_all_per_global, x=\"date\", y=\"percent\",\n",
    "       title=\"Density heatmaps for Date and Percent of max score based on metricName\", \n",
    "#      marginal_x=\"histogram\", #too big for image\n",
    "#      marginal_y=\"histogram\",\n",
    "       facet_col=\"metricName\", \n",
    "       facet_col_wrap= 7, \n",
    "       facet_col_spacing=0.0111, \n",
    "       facet_row_spacing= 0.02, \n",
    "       color_continuous_scale=['#fffdc9', 'red'])\n",
    "\n",
    "fig.update_layout(\n",
    "    autosize=False,\n",
    "    width=1920,\n",
    "    height=1920)\n",
    "\n",
    "fig.show()"
   ]
  },
  {
   "cell_type": "code",
   "execution_count": 29,
   "metadata": {},
   "outputs": [
    {
     "data": {
      "text/html": [
       "<div>\n",
       "<style scoped>\n",
       "    .dataframe tbody tr th:only-of-type {\n",
       "        vertical-align: middle;\n",
       "    }\n",
       "\n",
       "    .dataframe tbody tr th {\n",
       "        vertical-align: top;\n",
       "    }\n",
       "\n",
       "    .dataframe thead th {\n",
       "        text-align: right;\n",
       "    }\n",
       "</style>\n",
       "<table border=\"1\" class=\"dataframe\">\n",
       "  <thead>\n",
       "    <tr style=\"text-align: right;\">\n",
       "      <th></th>\n",
       "      <th>ds_count</th>\n",
       "      <th>ds</th>\n",
       "      <th>date</th>\n",
       "      <th>value</th>\n",
       "      <th>gain</th>\n",
       "      <th>ratio</th>\n",
       "      <th>total</th>\n",
       "      <th>percent</th>\n",
       "      <th>metricName</th>\n",
       "    </tr>\n",
       "  </thead>\n",
       "  <tbody>\n",
       "    <tr>\n",
       "      <th>0</th>\n",
       "      <td>1</td>\n",
       "      <td>FiQA</td>\n",
       "      <td>2019-08</td>\n",
       "      <td>0.07</td>\n",
       "      <td>0.07</td>\n",
       "      <td>1.0</td>\n",
       "      <td>0.07</td>\n",
       "      <td>100.0</td>\n",
       "      <td>MSE</td>\n",
       "    </tr>\n",
       "    <tr>\n",
       "      <th>0</th>\n",
       "      <td>1</td>\n",
       "      <td>FiQA</td>\n",
       "      <td>2019-08</td>\n",
       "      <td>0.55</td>\n",
       "      <td>0.55</td>\n",
       "      <td>1.0</td>\n",
       "      <td>0.55</td>\n",
       "      <td>100.0</td>\n",
       "      <td>R^2</td>\n",
       "    </tr>\n",
       "    <tr>\n",
       "      <th>2</th>\n",
       "      <td>1</td>\n",
       "      <td>SemEval 2017 Task 4-A</td>\n",
       "      <td>2019-08</td>\n",
       "      <td>0.61</td>\n",
       "      <td>0.61</td>\n",
       "      <td>1.0</td>\n",
       "      <td>0.61</td>\n",
       "      <td>68.0</td>\n",
       "      <td>Average Recall</td>\n",
       "    </tr>\n",
       "    <tr>\n",
       "      <th>0</th>\n",
       "      <td>1</td>\n",
       "      <td>ASTD</td>\n",
       "      <td>2019-08</td>\n",
       "      <td>0.62</td>\n",
       "      <td>0.62</td>\n",
       "      <td>1.0</td>\n",
       "      <td>0.62</td>\n",
       "      <td>69.0</td>\n",
       "      <td>Average Recall</td>\n",
       "    </tr>\n",
       "    <tr>\n",
       "      <th>0</th>\n",
       "      <td>1</td>\n",
       "      <td>SemEval</td>\n",
       "      <td>2017-04</td>\n",
       "      <td>0.685</td>\n",
       "      <td>0.685</td>\n",
       "      <td>1.0</td>\n",
       "      <td>0.685</td>\n",
       "      <td>100.0</td>\n",
       "      <td>F1-score</td>\n",
       "    </tr>\n",
       "    <tr>\n",
       "      <th>...</th>\n",
       "      <td>...</td>\n",
       "      <td>...</td>\n",
       "      <td>...</td>\n",
       "      <td>...</td>\n",
       "      <td>...</td>\n",
       "      <td>...</td>\n",
       "      <td>...</td>\n",
       "      <td>...</td>\n",
       "      <td>...</td>\n",
       "    </tr>\n",
       "    <tr>\n",
       "      <th>14</th>\n",
       "      <td>1</td>\n",
       "      <td>SST-2 Binary classification</td>\n",
       "      <td>2019-06</td>\n",
       "      <td>97.0</td>\n",
       "      <td>1.4</td>\n",
       "      <td>0.01</td>\n",
       "      <td>97.4</td>\n",
       "      <td>100.0</td>\n",
       "      <td>Accuracy</td>\n",
       "    </tr>\n",
       "    <tr>\n",
       "      <th>15</th>\n",
       "      <td>1</td>\n",
       "      <td>SST-2 Binary classification</td>\n",
       "      <td>2019-09</td>\n",
       "      <td>97.1</td>\n",
       "      <td>0.1</td>\n",
       "      <td>0.0</td>\n",
       "      <td>97.4</td>\n",
       "      <td>100.0</td>\n",
       "      <td>Accuracy</td>\n",
       "    </tr>\n",
       "    <tr>\n",
       "      <th>30</th>\n",
       "      <td>1</td>\n",
       "      <td>Amazon Review Polarity</td>\n",
       "      <td>2019-04</td>\n",
       "      <td>97.37</td>\n",
       "      <td>0.7</td>\n",
       "      <td>0.01</td>\n",
       "      <td>97.37</td>\n",
       "      <td>100.0</td>\n",
       "      <td>Accuracy</td>\n",
       "    </tr>\n",
       "    <tr>\n",
       "      <th>16</th>\n",
       "      <td>1</td>\n",
       "      <td>SST-2 Binary classification</td>\n",
       "      <td>2019-10</td>\n",
       "      <td>97.4</td>\n",
       "      <td>0.3</td>\n",
       "      <td>0.0</td>\n",
       "      <td>97.4</td>\n",
       "      <td>100.0</td>\n",
       "      <td>Accuracy</td>\n",
       "    </tr>\n",
       "    <tr>\n",
       "      <th>24</th>\n",
       "      <td>1</td>\n",
       "      <td>IMDb</td>\n",
       "      <td>2019-07</td>\n",
       "      <td>97.4</td>\n",
       "      <td>1.4</td>\n",
       "      <td>0.01</td>\n",
       "      <td>97.4</td>\n",
       "      <td>100.0</td>\n",
       "      <td>Accuracy</td>\n",
       "    </tr>\n",
       "  </tbody>\n",
       "</table>\n",
       "<p>78 rows × 9 columns</p>\n",
       "</div>"
      ],
      "text/plain": [
       "   ds_count                           ds     date  value   gain ratio  total  \\\n",
       "0         1                         FiQA  2019-08   0.07   0.07   1.0   0.07   \n",
       "0         1                         FiQA  2019-08   0.55   0.55   1.0   0.55   \n",
       "2         1        SemEval 2017 Task 4-A  2019-08   0.61   0.61   1.0   0.61   \n",
       "0         1                         ASTD  2019-08   0.62   0.62   1.0   0.62   \n",
       "0         1                      SemEval  2017-04  0.685  0.685   1.0  0.685   \n",
       "..      ...                          ...      ...    ...    ...   ...    ...   \n",
       "14        1  SST-2 Binary classification  2019-06   97.0    1.4  0.01   97.4   \n",
       "15        1  SST-2 Binary classification  2019-09   97.1    0.1   0.0   97.4   \n",
       "30        1       Amazon Review Polarity  2019-04  97.37    0.7  0.01  97.37   \n",
       "16        1  SST-2 Binary classification  2019-10   97.4    0.3   0.0   97.4   \n",
       "24        1                         IMDb  2019-07   97.4    1.4  0.01   97.4   \n",
       "\n",
       "    percent      metricName  \n",
       "0     100.0             MSE  \n",
       "0     100.0             R^2  \n",
       "2      68.0  Average Recall  \n",
       "0      69.0  Average Recall  \n",
       "0     100.0        F1-score  \n",
       "..      ...             ...  \n",
       "14    100.0        Accuracy  \n",
       "15    100.0        Accuracy  \n",
       "30    100.0        Accuracy  \n",
       "16    100.0        Accuracy  \n",
       "24    100.0        Accuracy  \n",
       "\n",
       "[78 rows x 9 columns]"
      ]
     },
     "execution_count": 29,
     "metadata": {},
     "output_type": "execute_result"
    }
   ],
   "source": [
    "get_ratio_df_all_per_global\n"
   ]
  },
  {
   "cell_type": "code",
   "execution_count": 30,
   "metadata": {},
   "outputs": [
    {
     "data": {
      "text/plain": [
       "array(['FiQA', 'SemEval 2017 Task 4-A', 'ASTD', 'SemEval', 'ArSAS',\n",
       "       'Yelp Fine-grained classification', 'Yelp Binary classification',\n",
       "       'SST-5 Fine-grained classification', 'Amazon Review Full',\n",
       "       'Multi-Domain Sentiment Dataset', 'Twitter', 'MR',\n",
       "       'Financial PhraseBank', 'SST-2 Binary classification', 'MPQA',\n",
       "       'CR', 'IMDb', '1B Words', 'AJGT', 'DBRD', 'Amazon Review Polarity',\n",
       "       'ChnSentiCorp', 'ChnSentiCorp Dev', 'HARD', 'Sogou News'],\n",
       "      dtype=object)"
      ]
     },
     "execution_count": 30,
     "metadata": {},
     "output_type": "execute_result"
    }
   ],
   "source": [
    "get_ratio_df_all_per_global[\"ds\"].unique()"
   ]
  },
  {
   "cell_type": "code",
   "execution_count": 31,
   "metadata": {},
   "outputs": [],
   "source": [
    "#get_ratio_df_all_per_global[get_ratio_df_all_per_global[\"ds\"]==\"ACL-ARC\"]"
   ]
  },
  {
   "cell_type": "code",
   "execution_count": 32,
   "metadata": {
    "scrolled": true
   },
   "outputs": [
    {
     "data": {
      "application/vnd.plotly.v1+json": {
       "config": {
        "plotlyServerURL": "https://plot.ly"
       },
       "data": [
        {
         "coloraxis": "coloraxis",
         "hovertemplate": "metricName=MSE<br>ds=FiQA<br>date=%{x}<br>percent=%{y}<br>count=%{z}<extra></extra>",
         "name": "",
         "type": "histogram2d",
         "x": [
          "2019-08"
         ],
         "xaxis": "x326",
         "xbingroup": "x",
         "y": [
          100
         ],
         "yaxis": "y326",
         "ybingroup": "y"
        },
        {
         "coloraxis": "coloraxis",
         "hovertemplate": "metricName=R^2<br>ds=FiQA<br>date=%{x}<br>percent=%{y}<br>count=%{z}<extra></extra>",
         "name": "",
         "type": "histogram2d",
         "x": [
          "2019-08"
         ],
         "xaxis": "x301",
         "xbingroup": "x",
         "y": [
          100
         ],
         "yaxis": "y301",
         "ybingroup": "y"
        },
        {
         "coloraxis": "coloraxis",
         "hovertemplate": "metricName=Average Recall<br>ds=SemEval 2017 Task 4-A<br>date=%{x}<br>percent=%{y}<br>count=%{z}<extra></extra>",
         "name": "",
         "type": "histogram2d",
         "x": [
          "2019-08"
         ],
         "xaxis": "x277",
         "xbingroup": "x",
         "y": [
          68
         ],
         "yaxis": "y277",
         "ybingroup": "y"
        },
        {
         "coloraxis": "coloraxis",
         "hovertemplate": "metricName=Average Recall<br>ds=ASTD<br>date=%{x}<br>percent=%{y}<br>count=%{z}<extra></extra>",
         "name": "",
         "type": "histogram2d",
         "x": [
          "2019-08"
         ],
         "xaxis": "x278",
         "xbingroup": "x",
         "y": [
          69
         ],
         "yaxis": "y278",
         "ybingroup": "y"
        },
        {
         "coloraxis": "coloraxis",
         "hovertemplate": "metricName=Average Recall<br>ds=ArSAS<br>date=%{x}<br>percent=%{y}<br>count=%{z}<extra></extra>",
         "name": "",
         "type": "histogram2d",
         "x": [
          "2019-08"
         ],
         "xaxis": "x280",
         "xbingroup": "x",
         "y": [
          100
         ],
         "yaxis": "y280",
         "ybingroup": "y"
        },
        {
         "coloraxis": "coloraxis",
         "hovertemplate": "metricName=F1-score<br>ds=SemEval<br>date=%{x}<br>percent=%{y}<br>count=%{z}<extra></extra>",
         "name": "",
         "type": "histogram2d",
         "x": [
          "2017-04"
         ],
         "xaxis": "x254",
         "xbingroup": "x",
         "y": [
          100
         ],
         "yaxis": "y254",
         "ybingroup": "y"
        },
        {
         "coloraxis": "coloraxis",
         "hovertemplate": "metricName=Error<br>ds=Yelp Fine-grained classification<br>date=%{x}<br>percent=%{y}<br>count=%{z}<extra></extra>",
         "name": "",
         "type": "histogram2d",
         "x": [
          "2015-09",
          "2019-01"
         ],
         "xaxis": "x231",
         "xbingroup": "x",
         "y": [
          81,
          100
         ],
         "yaxis": "y231",
         "ybingroup": "y"
        },
        {
         "coloraxis": "coloraxis",
         "hovertemplate": "metricName=Error<br>ds=Yelp Binary classification<br>date=%{x}<br>percent=%{y}<br>count=%{z}<extra></extra>",
         "name": "",
         "type": "histogram2d",
         "x": [
          "2015-09"
         ],
         "xaxis": "x232",
         "xbingroup": "x",
         "y": [
          10
         ],
         "yaxis": "y232",
         "ybingroup": "y"
        },
        {
         "coloraxis": "coloraxis",
         "hovertemplate": "metricName=Accuracy<br>ds=SST-5 Fine-grained classification<br>date=%{x}<br>percent=%{y}<br>count=%{z}<extra></extra>",
         "name": "",
         "type": "histogram2d",
         "x": [
          "2013-10",
          "2014-06",
          "2015-02",
          "2017-08",
          "2018-02",
          "2019-10"
         ],
         "xaxis": "x208",
         "xbingroup": "x",
         "y": [
          47,
          51,
          52,
          55.00000000000001,
          56.00000000000001,
          56.99999999999999
         ],
         "yaxis": "y208",
         "ybingroup": "y"
        },
        {
         "coloraxis": "coloraxis",
         "hovertemplate": "metricName=Accuracy<br>ds=Amazon Review Full<br>date=%{x}<br>percent=%{y}<br>count=%{z}<extra></extra>",
         "name": "",
         "type": "histogram2d",
         "x": [
          "2016-07",
          "2017-07",
          "2019-04"
         ],
         "xaxis": "x209",
         "xbingroup": "x",
         "y": [
          62,
          67,
          68
         ],
         "yaxis": "y209",
         "ybingroup": "y"
        },
        {
         "coloraxis": "coloraxis",
         "hovertemplate": "metricName=Accuracy<br>ds=Twitter<br>date=%{x}<br>percent=%{y}<br>count=%{z}<extra></extra>",
         "name": "",
         "type": "histogram2d",
         "x": [
          "2019-02"
         ],
         "xaxis": "x211",
         "xbingroup": "x",
         "y": [
          77
         ],
         "yaxis": "y211",
         "ybingroup": "y"
        },
        {
         "coloraxis": "coloraxis",
         "hovertemplate": "metricName=Accuracy<br>ds=MR<br>date=%{x}<br>percent=%{y}<br>count=%{z}<extra></extra>",
         "name": "",
         "type": "histogram2d",
         "x": [
          "2017-02",
          "2018-02",
          "2018-05"
         ],
         "xaxis": "x212",
         "xbingroup": "x",
         "y": [
          80,
          86,
          89
         ],
         "yaxis": "y212",
         "ybingroup": "y"
        },
        {
         "coloraxis": "coloraxis",
         "hovertemplate": "metricName=Accuracy<br>ds=Financial PhraseBank<br>date=%{x}<br>percent=%{y}<br>count=%{z}<extra></extra>",
         "name": "",
         "type": "histogram2d",
         "x": [
          "2019-08"
         ],
         "xaxis": "x213",
         "xbingroup": "x",
         "y": [
          88
         ],
         "yaxis": "y213",
         "ybingroup": "y"
        },
        {
         "coloraxis": "coloraxis",
         "hovertemplate": "metricName=Accuracy<br>ds=SST-2 Binary classification<br>date=%{x}<br>percent=%{y}<br>count=%{z}<extra></extra>",
         "name": "",
         "type": "histogram2d",
         "x": [
          "2013-10",
          "2014-08",
          "2015-06",
          "2016-03",
          "2016-07",
          "2017-04",
          "2017-12",
          "2019-01",
          "2019-06",
          "2019-09",
          "2019-10"
         ],
         "xaxis": "x214",
         "xbingroup": "x",
         "y": [
          88,
          90,
          91,
          92,
          92,
          94,
          96,
          98,
          100,
          100,
          100
         ],
         "yaxis": "y214",
         "ybingroup": "y"
        },
        {
         "coloraxis": "coloraxis",
         "hovertemplate": "metricName=Accuracy<br>ds=MPQA<br>date=%{x}<br>percent=%{y}<br>count=%{z}<extra></extra>",
         "name": "",
         "type": "histogram2d",
         "x": [
          "2018-03",
          "2018-05",
          "2019-05"
         ],
         "xaxis": "x215",
         "xbingroup": "x",
         "y": [
          90,
          91,
          92
         ],
         "yaxis": "y215",
         "ybingroup": "y"
        },
        {
         "coloraxis": "coloraxis",
         "hovertemplate": "metricName=Accuracy<br>ds=CR<br>date=%{x}<br>percent=%{y}<br>count=%{z}<extra></extra>",
         "name": "",
         "type": "histogram2d",
         "x": [
          "2017-12"
         ],
         "xaxis": "x216",
         "xbingroup": "x",
         "y": [
          95
         ],
         "yaxis": "y216",
         "ybingroup": "y"
        },
        {
         "coloraxis": "coloraxis",
         "hovertemplate": "metricName=Accuracy<br>ds=IMDb<br>date=%{x}<br>percent=%{y}<br>count=%{z}<extra></extra>",
         "name": "",
         "type": "histogram2d",
         "x": [
          "2014-12",
          "2016-02",
          "2017-12",
          "2018-01",
          "2019-02",
          "2019-04",
          "2019-06",
          "2019-07"
         ],
         "xaxis": "x217",
         "xbingroup": "x",
         "y": [
          95,
          97,
          98,
          98,
          98,
          98,
          99,
          100
         ],
         "yaxis": "y217",
         "ybingroup": "y"
        },
        {
         "coloraxis": "coloraxis",
         "hovertemplate": "metricName=Accuracy<br>ds=AJGT<br>date=%{x}<br>percent=%{y}<br>count=%{z}<extra></extra>",
         "name": "",
         "type": "histogram2d",
         "x": [
          "2020-02"
         ],
         "xaxis": "x219",
         "xbingroup": "x",
         "y": [
          96
         ],
         "yaxis": "y219",
         "ybingroup": "y"
        },
        {
         "coloraxis": "coloraxis",
         "hovertemplate": "metricName=Accuracy<br>ds=DBRD<br>date=%{x}<br>percent=%{y}<br>count=%{z}<extra></extra>",
         "name": "",
         "type": "histogram2d",
         "x": [
          "2020-01"
         ],
         "xaxis": "x220",
         "xbingroup": "x",
         "y": [
          97
         ],
         "yaxis": "y220",
         "ybingroup": "y"
        },
        {
         "coloraxis": "coloraxis",
         "hovertemplate": "metricName=Accuracy<br>ds=Amazon Review Polarity<br>date=%{x}<br>percent=%{y}<br>count=%{z}<extra></extra>",
         "name": "",
         "type": "histogram2d",
         "x": [
          "2016-07",
          "2017-07",
          "2019-04"
         ],
         "xaxis": "x221",
         "xbingroup": "x",
         "y": [
          97,
          99,
          100
         ],
         "yaxis": "y221",
         "ybingroup": "y"
        },
        {
         "coloraxis": "coloraxis",
         "hovertemplate": "metricName=Accuracy<br>ds=HARD<br>date=%{x}<br>percent=%{y}<br>count=%{z}<extra></extra>",
         "name": "",
         "type": "histogram2d",
         "x": [
          "2020-02"
         ],
         "xaxis": "x224",
         "xbingroup": "x",
         "y": [
          99
         ],
         "yaxis": "y224",
         "ybingroup": "y"
        },
        {
         "coloraxis": "coloraxis",
         "hovertemplate": "metricName=Accuracy<br>ds=Sogou News<br>date=%{x}<br>percent=%{y}<br>count=%{z}<extra></extra>",
         "name": "",
         "type": "histogram2d",
         "x": [
          "2016-07"
         ],
         "xaxis": "x225",
         "xbingroup": "x",
         "y": [
          99
         ],
         "yaxis": "y225",
         "ybingroup": "y"
        },
        {
         "coloraxis": "coloraxis",
         "hovertemplate": "metricName=Books<br>ds=Multi-Domain Sentiment Dataset<br>date=%{x}<br>percent=%{y}<br>count=%{z}<extra></extra>",
         "name": "",
         "type": "histogram2d",
         "x": [
          "2015-05",
          "2015-11",
          "2018-04",
          "2018-10"
         ],
         "xaxis": "x185",
         "xbingroup": "x",
         "y": [
          88,
          90,
          92,
          100
         ],
         "yaxis": "y185",
         "ybingroup": "y"
        },
        {
         "coloraxis": "coloraxis",
         "hovertemplate": "metricName=DVD<br>ds=Multi-Domain Sentiment Dataset<br>date=%{x}<br>percent=%{y}<br>count=%{z}<extra></extra>",
         "name": "",
         "type": "histogram2d",
         "x": [
          "2015-05",
          "2015-11",
          "2018-04",
          "2018-10"
         ],
         "xaxis": "x160",
         "xbingroup": "x",
         "y": [
          93,
          95,
          96,
          100
         ],
         "yaxis": "y160",
         "ybingroup": "y"
        },
        {
         "coloraxis": "coloraxis",
         "hovertemplate": "metricName=Average<br>ds=Multi-Domain Sentiment Dataset<br>date=%{x}<br>percent=%{y}<br>count=%{z}<extra></extra>",
         "name": "",
         "type": "histogram2d",
         "x": [
          "2015-05",
          "2015-11",
          "2017-02",
          "2018-04",
          "2018-10"
         ],
         "xaxis": "x135",
         "xbingroup": "x",
         "y": [
          92,
          94,
          94,
          95,
          100
         ],
         "yaxis": "y135",
         "ybingroup": "y"
        },
        {
         "coloraxis": "coloraxis",
         "hovertemplate": "metricName=Electronics<br>ds=Multi-Domain Sentiment Dataset<br>date=%{x}<br>percent=%{y}<br>count=%{z}<extra></extra>",
         "name": "",
         "type": "histogram2d",
         "x": [
          "2015-05",
          "2015-11",
          "2018-04"
         ],
         "xaxis": "x110",
         "xbingroup": "x",
         "y": [
          95,
          99,
          100
         ],
         "yaxis": "y110",
         "ybingroup": "y"
        },
        {
         "coloraxis": "coloraxis",
         "hovertemplate": "metricName=Kitchen<br>ds=Multi-Domain Sentiment Dataset<br>date=%{x}<br>percent=%{y}<br>count=%{z}<extra></extra>",
         "name": "",
         "type": "histogram2d",
         "x": [
          "2015-05",
          "2015-11",
          "2017-02",
          "2018-10"
         ],
         "xaxis": "x85",
         "xbingroup": "x",
         "y": [
          94,
          97,
          98,
          100
         ],
         "yaxis": "y85",
         "ybingroup": "y"
        },
        {
         "coloraxis": "coloraxis",
         "hovertemplate": "metricName=F1 score<br>ds=Financial PhraseBank<br>date=%{x}<br>percent=%{y}<br>count=%{z}<extra></extra>",
         "name": "",
         "type": "histogram2d",
         "x": [
          "2019-08"
         ],
         "xaxis": "x63",
         "xbingroup": "x",
         "y": [
          100
         ],
         "yaxis": "y63",
         "ybingroup": "y"
        },
        {
         "coloraxis": "coloraxis",
         "hovertemplate": "metricName=1 in 10 R-at-1<br>ds=1B Words<br>date=%{x}<br>percent=%{y}<br>count=%{z}<extra></extra>",
         "name": "",
         "type": "histogram2d",
         "x": [
          "2012-06"
         ],
         "xaxis": "x43",
         "xbingroup": "x",
         "y": [
          100
         ],
         "yaxis": "y43",
         "ybingroup": "y"
        },
        {
         "coloraxis": "coloraxis",
         "hovertemplate": "metricName=F1<br>ds=DBRD<br>date=%{x}<br>percent=%{y}<br>count=%{z}<extra></extra>",
         "name": "",
         "type": "histogram2d",
         "x": [
          "2020-01"
         ],
         "xaxis": "x20",
         "xbingroup": "x",
         "y": [
          99
         ],
         "yaxis": "y20",
         "ybingroup": "y"
        },
        {
         "coloraxis": "coloraxis",
         "hovertemplate": "metricName=F1<br>ds=ChnSentiCorp<br>date=%{x}<br>percent=%{y}<br>count=%{z}<extra></extra>",
         "name": "",
         "type": "histogram2d",
         "x": [
          "2019-06"
         ],
         "xaxis": "x22",
         "xbingroup": "x",
         "y": [
          100
         ],
         "yaxis": "y22",
         "ybingroup": "y"
        },
        {
         "coloraxis": "coloraxis",
         "hovertemplate": "metricName=F1<br>ds=ChnSentiCorp Dev<br>date=%{x}<br>percent=%{y}<br>count=%{z}<extra></extra>",
         "name": "",
         "type": "histogram2d",
         "x": [
          "2019-06"
         ],
         "xaxis": "x23",
         "xbingroup": "x",
         "y": [
          100
         ],
         "yaxis": "y23",
         "ybingroup": "y"
        }
       ],
       "layout": {
        "annotations": [
         {
          "font": {},
          "showarrow": false,
          "text": "ds=FiQA",
          "x": 0.0172,
          "xanchor": "center",
          "xref": "paper",
          "y": 1,
          "yanchor": "bottom",
          "yref": "paper"
         },
         {
          "font": {},
          "showarrow": false,
          "text": "ds=SemEval 2017 Task 4-A",
          "x": 0.0566,
          "xanchor": "center",
          "xref": "paper",
          "y": 1,
          "yanchor": "bottom",
          "yref": "paper"
         },
         {
          "font": {},
          "showarrow": false,
          "text": "ds=ASTD",
          "x": 0.096,
          "xanchor": "center",
          "xref": "paper",
          "y": 1,
          "yanchor": "bottom",
          "yref": "paper"
         },
         {
          "font": {},
          "showarrow": false,
          "text": "ds=SemEval",
          "x": 0.13540000000000002,
          "xanchor": "center",
          "xref": "paper",
          "y": 1,
          "yanchor": "bottom",
          "yref": "paper"
         },
         {
          "font": {},
          "showarrow": false,
          "text": "ds=ArSAS",
          "x": 0.1748,
          "xanchor": "center",
          "xref": "paper",
          "y": 1,
          "yanchor": "bottom",
          "yref": "paper"
         },
         {
          "font": {},
          "showarrow": false,
          "text": "ds=Yelp Fine-grained classification",
          "x": 0.2142,
          "xanchor": "center",
          "xref": "paper",
          "y": 1,
          "yanchor": "bottom",
          "yref": "paper"
         },
         {
          "font": {},
          "showarrow": false,
          "text": "ds=Yelp Binary classification",
          "x": 0.2536,
          "xanchor": "center",
          "xref": "paper",
          "y": 1,
          "yanchor": "bottom",
          "yref": "paper"
         },
         {
          "font": {},
          "showarrow": false,
          "text": "ds=SST-5 Fine-grained classification",
          "x": 0.2929999999999999,
          "xanchor": "center",
          "xref": "paper",
          "y": 1,
          "yanchor": "bottom",
          "yref": "paper"
         },
         {
          "font": {},
          "showarrow": false,
          "text": "ds=Amazon Review Full",
          "x": 0.3323999999999999,
          "xanchor": "center",
          "xref": "paper",
          "y": 1,
          "yanchor": "bottom",
          "yref": "paper"
         },
         {
          "font": {},
          "showarrow": false,
          "text": "ds=Multi-Domain Sentiment Dataset",
          "x": 0.3717999999999999,
          "xanchor": "center",
          "xref": "paper",
          "y": 1,
          "yanchor": "bottom",
          "yref": "paper"
         },
         {
          "font": {},
          "showarrow": false,
          "text": "ds=Twitter",
          "x": 0.4111999999999999,
          "xanchor": "center",
          "xref": "paper",
          "y": 1,
          "yanchor": "bottom",
          "yref": "paper"
         },
         {
          "font": {},
          "showarrow": false,
          "text": "ds=MR",
          "x": 0.4505999999999999,
          "xanchor": "center",
          "xref": "paper",
          "y": 1,
          "yanchor": "bottom",
          "yref": "paper"
         },
         {
          "font": {},
          "showarrow": false,
          "text": "ds=Financial PhraseBank",
          "x": 0.4899999999999999,
          "xanchor": "center",
          "xref": "paper",
          "y": 1,
          "yanchor": "bottom",
          "yref": "paper"
         },
         {
          "font": {},
          "showarrow": false,
          "text": "ds=SST-2 Binary classification",
          "x": 0.5293999999999999,
          "xanchor": "center",
          "xref": "paper",
          "y": 1,
          "yanchor": "bottom",
          "yref": "paper"
         },
         {
          "font": {},
          "showarrow": false,
          "text": "ds=MPQA",
          "x": 0.5687999999999999,
          "xanchor": "center",
          "xref": "paper",
          "y": 1,
          "yanchor": "bottom",
          "yref": "paper"
         },
         {
          "font": {},
          "showarrow": false,
          "text": "ds=CR",
          "x": 0.6081999999999999,
          "xanchor": "center",
          "xref": "paper",
          "y": 1,
          "yanchor": "bottom",
          "yref": "paper"
         },
         {
          "font": {},
          "showarrow": false,
          "text": "ds=IMDb",
          "x": 0.6475999999999998,
          "xanchor": "center",
          "xref": "paper",
          "y": 1,
          "yanchor": "bottom",
          "yref": "paper"
         },
         {
          "font": {},
          "showarrow": false,
          "text": "ds=1B Words",
          "x": 0.6869999999999998,
          "xanchor": "center",
          "xref": "paper",
          "y": 1,
          "yanchor": "bottom",
          "yref": "paper"
         },
         {
          "font": {},
          "showarrow": false,
          "text": "ds=AJGT",
          "x": 0.7263999999999998,
          "xanchor": "center",
          "xref": "paper",
          "y": 1,
          "yanchor": "bottom",
          "yref": "paper"
         },
         {
          "font": {},
          "showarrow": false,
          "text": "ds=DBRD",
          "x": 0.7657999999999998,
          "xanchor": "center",
          "xref": "paper",
          "y": 1,
          "yanchor": "bottom",
          "yref": "paper"
         },
         {
          "font": {},
          "showarrow": false,
          "text": "ds=Amazon Review Polarity",
          "x": 0.8051999999999998,
          "xanchor": "center",
          "xref": "paper",
          "y": 1,
          "yanchor": "bottom",
          "yref": "paper"
         },
         {
          "font": {},
          "showarrow": false,
          "text": "ds=ChnSentiCorp",
          "x": 0.8445999999999998,
          "xanchor": "center",
          "xref": "paper",
          "y": 1,
          "yanchor": "bottom",
          "yref": "paper"
         },
         {
          "font": {},
          "showarrow": false,
          "text": "ds=ChnSentiCorp Dev",
          "x": 0.8839999999999998,
          "xanchor": "center",
          "xref": "paper",
          "y": 1,
          "yanchor": "bottom",
          "yref": "paper"
         },
         {
          "font": {},
          "showarrow": false,
          "text": "ds=HARD",
          "x": 0.9233999999999998,
          "xanchor": "center",
          "xref": "paper",
          "y": 1,
          "yanchor": "bottom",
          "yref": "paper"
         },
         {
          "font": {},
          "showarrow": false,
          "text": "ds=Sogou News",
          "x": 0.9627999999999998,
          "xanchor": "center",
          "xref": "paper",
          "y": 1,
          "yanchor": "bottom",
          "yref": "paper"
         },
         {
          "font": {},
          "showarrow": false,
          "text": "metricName=F1",
          "textangle": 90,
          "x": 0.9799999999999998,
          "xanchor": "left",
          "xref": "paper",
          "y": 0.03149392857142857,
          "yanchor": "middle",
          "yref": "paper"
         },
         {
          "font": {},
          "showarrow": false,
          "text": "metricName=1 in 10 R-at-1",
          "textangle": 90,
          "x": 0.9799999999999998,
          "xanchor": "left",
          "xref": "paper",
          "y": 0.10357178571428571,
          "yanchor": "middle",
          "yref": "paper"
         },
         {
          "font": {},
          "showarrow": false,
          "text": "metricName=F1 score",
          "textangle": 90,
          "x": 0.9799999999999998,
          "xanchor": "left",
          "xref": "paper",
          "y": 0.17564964285714285,
          "yanchor": "middle",
          "yref": "paper"
         },
         {
          "font": {},
          "showarrow": false,
          "text": "metricName=Kitchen",
          "textangle": 90,
          "x": 0.9799999999999998,
          "xanchor": "left",
          "xref": "paper",
          "y": 0.2477275,
          "yanchor": "middle",
          "yref": "paper"
         },
         {
          "font": {},
          "showarrow": false,
          "text": "metricName=Electronics",
          "textangle": 90,
          "x": 0.9799999999999998,
          "xanchor": "left",
          "xref": "paper",
          "y": 0.3198053571428571,
          "yanchor": "middle",
          "yref": "paper"
         },
         {
          "font": {},
          "showarrow": false,
          "text": "metricName=Average",
          "textangle": 90,
          "x": 0.9799999999999998,
          "xanchor": "left",
          "xref": "paper",
          "y": 0.39188321428571427,
          "yanchor": "middle",
          "yref": "paper"
         },
         {
          "font": {},
          "showarrow": false,
          "text": "metricName=DVD",
          "textangle": 90,
          "x": 0.9799999999999998,
          "xanchor": "left",
          "xref": "paper",
          "y": 0.4639610714285714,
          "yanchor": "middle",
          "yref": "paper"
         },
         {
          "font": {},
          "showarrow": false,
          "text": "metricName=Books",
          "textangle": 90,
          "x": 0.9799999999999998,
          "xanchor": "left",
          "xref": "paper",
          "y": 0.5360389285714287,
          "yanchor": "middle",
          "yref": "paper"
         },
         {
          "font": {},
          "showarrow": false,
          "text": "metricName=Accuracy",
          "textangle": 90,
          "x": 0.9799999999999998,
          "xanchor": "left",
          "xref": "paper",
          "y": 0.6081167857142857,
          "yanchor": "middle",
          "yref": "paper"
         },
         {
          "font": {},
          "showarrow": false,
          "text": "metricName=Error",
          "textangle": 90,
          "x": 0.9799999999999998,
          "xanchor": "left",
          "xref": "paper",
          "y": 0.6801946428571428,
          "yanchor": "middle",
          "yref": "paper"
         },
         {
          "font": {},
          "showarrow": false,
          "text": "metricName=F1-score",
          "textangle": 90,
          "x": 0.9799999999999998,
          "xanchor": "left",
          "xref": "paper",
          "y": 0.7522724999999999,
          "yanchor": "middle",
          "yref": "paper"
         },
         {
          "font": {},
          "showarrow": false,
          "text": "metricName=Average Recall",
          "textangle": 90,
          "x": 0.9799999999999998,
          "xanchor": "left",
          "xref": "paper",
          "y": 0.8243503571428572,
          "yanchor": "middle",
          "yref": "paper"
         },
         {
          "font": {},
          "showarrow": false,
          "text": "metricName=R^2",
          "textangle": 90,
          "x": 0.9799999999999998,
          "xanchor": "left",
          "xref": "paper",
          "y": 0.8964282142857143,
          "yanchor": "middle",
          "yref": "paper"
         },
         {
          "font": {},
          "showarrow": false,
          "text": "metricName=MSE",
          "textangle": 90,
          "x": 0.9799999999999998,
          "xanchor": "left",
          "xref": "paper",
          "y": 0.9685060714285714,
          "yanchor": "middle",
          "yref": "paper"
         }
        ],
        "autosize": true,
        "coloraxis": {
         "colorbar": {
          "title": {
           "text": "count"
          }
         },
         "colorscale": [
          [
           0,
           "#fffdc9"
          ],
          [
           1,
           "red"
          ]
         ]
        },
        "height": 2800,
        "legend": {
         "tracegroupgap": 0
        },
        "template": {
         "data": {
          "bar": [
           {
            "error_x": {
             "color": "#2a3f5f"
            },
            "error_y": {
             "color": "#2a3f5f"
            },
            "marker": {
             "line": {
              "color": "#E5ECF6",
              "width": 0.5
             }
            },
            "type": "bar"
           }
          ],
          "barpolar": [
           {
            "marker": {
             "line": {
              "color": "#E5ECF6",
              "width": 0.5
             }
            },
            "type": "barpolar"
           }
          ],
          "carpet": [
           {
            "aaxis": {
             "endlinecolor": "#2a3f5f",
             "gridcolor": "white",
             "linecolor": "white",
             "minorgridcolor": "white",
             "startlinecolor": "#2a3f5f"
            },
            "baxis": {
             "endlinecolor": "#2a3f5f",
             "gridcolor": "white",
             "linecolor": "white",
             "minorgridcolor": "white",
             "startlinecolor": "#2a3f5f"
            },
            "type": "carpet"
           }
          ],
          "choropleth": [
           {
            "colorbar": {
             "outlinewidth": 0,
             "ticks": ""
            },
            "type": "choropleth"
           }
          ],
          "contour": [
           {
            "colorbar": {
             "outlinewidth": 0,
             "ticks": ""
            },
            "colorscale": [
             [
              0,
              "#0d0887"
             ],
             [
              0.1111111111111111,
              "#46039f"
             ],
             [
              0.2222222222222222,
              "#7201a8"
             ],
             [
              0.3333333333333333,
              "#9c179e"
             ],
             [
              0.4444444444444444,
              "#bd3786"
             ],
             [
              0.5555555555555556,
              "#d8576b"
             ],
             [
              0.6666666666666666,
              "#ed7953"
             ],
             [
              0.7777777777777778,
              "#fb9f3a"
             ],
             [
              0.8888888888888888,
              "#fdca26"
             ],
             [
              1,
              "#f0f921"
             ]
            ],
            "type": "contour"
           }
          ],
          "contourcarpet": [
           {
            "colorbar": {
             "outlinewidth": 0,
             "ticks": ""
            },
            "type": "contourcarpet"
           }
          ],
          "heatmap": [
           {
            "colorbar": {
             "outlinewidth": 0,
             "ticks": ""
            },
            "colorscale": [
             [
              0,
              "#0d0887"
             ],
             [
              0.1111111111111111,
              "#46039f"
             ],
             [
              0.2222222222222222,
              "#7201a8"
             ],
             [
              0.3333333333333333,
              "#9c179e"
             ],
             [
              0.4444444444444444,
              "#bd3786"
             ],
             [
              0.5555555555555556,
              "#d8576b"
             ],
             [
              0.6666666666666666,
              "#ed7953"
             ],
             [
              0.7777777777777778,
              "#fb9f3a"
             ],
             [
              0.8888888888888888,
              "#fdca26"
             ],
             [
              1,
              "#f0f921"
             ]
            ],
            "type": "heatmap"
           }
          ],
          "heatmapgl": [
           {
            "colorbar": {
             "outlinewidth": 0,
             "ticks": ""
            },
            "colorscale": [
             [
              0,
              "#0d0887"
             ],
             [
              0.1111111111111111,
              "#46039f"
             ],
             [
              0.2222222222222222,
              "#7201a8"
             ],
             [
              0.3333333333333333,
              "#9c179e"
             ],
             [
              0.4444444444444444,
              "#bd3786"
             ],
             [
              0.5555555555555556,
              "#d8576b"
             ],
             [
              0.6666666666666666,
              "#ed7953"
             ],
             [
              0.7777777777777778,
              "#fb9f3a"
             ],
             [
              0.8888888888888888,
              "#fdca26"
             ],
             [
              1,
              "#f0f921"
             ]
            ],
            "type": "heatmapgl"
           }
          ],
          "histogram": [
           {
            "marker": {
             "colorbar": {
              "outlinewidth": 0,
              "ticks": ""
             }
            },
            "type": "histogram"
           }
          ],
          "histogram2d": [
           {
            "colorbar": {
             "outlinewidth": 0,
             "ticks": ""
            },
            "colorscale": [
             [
              0,
              "#0d0887"
             ],
             [
              0.1111111111111111,
              "#46039f"
             ],
             [
              0.2222222222222222,
              "#7201a8"
             ],
             [
              0.3333333333333333,
              "#9c179e"
             ],
             [
              0.4444444444444444,
              "#bd3786"
             ],
             [
              0.5555555555555556,
              "#d8576b"
             ],
             [
              0.6666666666666666,
              "#ed7953"
             ],
             [
              0.7777777777777778,
              "#fb9f3a"
             ],
             [
              0.8888888888888888,
              "#fdca26"
             ],
             [
              1,
              "#f0f921"
             ]
            ],
            "type": "histogram2d"
           }
          ],
          "histogram2dcontour": [
           {
            "colorbar": {
             "outlinewidth": 0,
             "ticks": ""
            },
            "colorscale": [
             [
              0,
              "#0d0887"
             ],
             [
              0.1111111111111111,
              "#46039f"
             ],
             [
              0.2222222222222222,
              "#7201a8"
             ],
             [
              0.3333333333333333,
              "#9c179e"
             ],
             [
              0.4444444444444444,
              "#bd3786"
             ],
             [
              0.5555555555555556,
              "#d8576b"
             ],
             [
              0.6666666666666666,
              "#ed7953"
             ],
             [
              0.7777777777777778,
              "#fb9f3a"
             ],
             [
              0.8888888888888888,
              "#fdca26"
             ],
             [
              1,
              "#f0f921"
             ]
            ],
            "type": "histogram2dcontour"
           }
          ],
          "mesh3d": [
           {
            "colorbar": {
             "outlinewidth": 0,
             "ticks": ""
            },
            "type": "mesh3d"
           }
          ],
          "parcoords": [
           {
            "line": {
             "colorbar": {
              "outlinewidth": 0,
              "ticks": ""
             }
            },
            "type": "parcoords"
           }
          ],
          "pie": [
           {
            "automargin": true,
            "type": "pie"
           }
          ],
          "scatter": [
           {
            "marker": {
             "colorbar": {
              "outlinewidth": 0,
              "ticks": ""
             }
            },
            "type": "scatter"
           }
          ],
          "scatter3d": [
           {
            "line": {
             "colorbar": {
              "outlinewidth": 0,
              "ticks": ""
             }
            },
            "marker": {
             "colorbar": {
              "outlinewidth": 0,
              "ticks": ""
             }
            },
            "type": "scatter3d"
           }
          ],
          "scattercarpet": [
           {
            "marker": {
             "colorbar": {
              "outlinewidth": 0,
              "ticks": ""
             }
            },
            "type": "scattercarpet"
           }
          ],
          "scattergeo": [
           {
            "marker": {
             "colorbar": {
              "outlinewidth": 0,
              "ticks": ""
             }
            },
            "type": "scattergeo"
           }
          ],
          "scattergl": [
           {
            "marker": {
             "colorbar": {
              "outlinewidth": 0,
              "ticks": ""
             }
            },
            "type": "scattergl"
           }
          ],
          "scattermapbox": [
           {
            "marker": {
             "colorbar": {
              "outlinewidth": 0,
              "ticks": ""
             }
            },
            "type": "scattermapbox"
           }
          ],
          "scatterpolar": [
           {
            "marker": {
             "colorbar": {
              "outlinewidth": 0,
              "ticks": ""
             }
            },
            "type": "scatterpolar"
           }
          ],
          "scatterpolargl": [
           {
            "marker": {
             "colorbar": {
              "outlinewidth": 0,
              "ticks": ""
             }
            },
            "type": "scatterpolargl"
           }
          ],
          "scatterternary": [
           {
            "marker": {
             "colorbar": {
              "outlinewidth": 0,
              "ticks": ""
             }
            },
            "type": "scatterternary"
           }
          ],
          "surface": [
           {
            "colorbar": {
             "outlinewidth": 0,
             "ticks": ""
            },
            "colorscale": [
             [
              0,
              "#0d0887"
             ],
             [
              0.1111111111111111,
              "#46039f"
             ],
             [
              0.2222222222222222,
              "#7201a8"
             ],
             [
              0.3333333333333333,
              "#9c179e"
             ],
             [
              0.4444444444444444,
              "#bd3786"
             ],
             [
              0.5555555555555556,
              "#d8576b"
             ],
             [
              0.6666666666666666,
              "#ed7953"
             ],
             [
              0.7777777777777778,
              "#fb9f3a"
             ],
             [
              0.8888888888888888,
              "#fdca26"
             ],
             [
              1,
              "#f0f921"
             ]
            ],
            "type": "surface"
           }
          ],
          "table": [
           {
            "cells": {
             "fill": {
              "color": "#EBF0F8"
             },
             "line": {
              "color": "white"
             }
            },
            "header": {
             "fill": {
              "color": "#C8D4E3"
             },
             "line": {
              "color": "white"
             }
            },
            "type": "table"
           }
          ]
         },
         "layout": {
          "annotationdefaults": {
           "arrowcolor": "#2a3f5f",
           "arrowhead": 0,
           "arrowwidth": 1
          },
          "autotypenumbers": "strict",
          "coloraxis": {
           "colorbar": {
            "outlinewidth": 0,
            "ticks": ""
           }
          },
          "colorscale": {
           "diverging": [
            [
             0,
             "#8e0152"
            ],
            [
             0.1,
             "#c51b7d"
            ],
            [
             0.2,
             "#de77ae"
            ],
            [
             0.3,
             "#f1b6da"
            ],
            [
             0.4,
             "#fde0ef"
            ],
            [
             0.5,
             "#f7f7f7"
            ],
            [
             0.6,
             "#e6f5d0"
            ],
            [
             0.7,
             "#b8e186"
            ],
            [
             0.8,
             "#7fbc41"
            ],
            [
             0.9,
             "#4d9221"
            ],
            [
             1,
             "#276419"
            ]
           ],
           "sequential": [
            [
             0,
             "#0d0887"
            ],
            [
             0.1111111111111111,
             "#46039f"
            ],
            [
             0.2222222222222222,
             "#7201a8"
            ],
            [
             0.3333333333333333,
             "#9c179e"
            ],
            [
             0.4444444444444444,
             "#bd3786"
            ],
            [
             0.5555555555555556,
             "#d8576b"
            ],
            [
             0.6666666666666666,
             "#ed7953"
            ],
            [
             0.7777777777777778,
             "#fb9f3a"
            ],
            [
             0.8888888888888888,
             "#fdca26"
            ],
            [
             1,
             "#f0f921"
            ]
           ],
           "sequentialminus": [
            [
             0,
             "#0d0887"
            ],
            [
             0.1111111111111111,
             "#46039f"
            ],
            [
             0.2222222222222222,
             "#7201a8"
            ],
            [
             0.3333333333333333,
             "#9c179e"
            ],
            [
             0.4444444444444444,
             "#bd3786"
            ],
            [
             0.5555555555555556,
             "#d8576b"
            ],
            [
             0.6666666666666666,
             "#ed7953"
            ],
            [
             0.7777777777777778,
             "#fb9f3a"
            ],
            [
             0.8888888888888888,
             "#fdca26"
            ],
            [
             1,
             "#f0f921"
            ]
           ]
          },
          "colorway": [
           "#636efa",
           "#EF553B",
           "#00cc96",
           "#ab63fa",
           "#FFA15A",
           "#19d3f3",
           "#FF6692",
           "#B6E880",
           "#FF97FF",
           "#FECB52"
          ],
          "font": {
           "color": "#2a3f5f"
          },
          "geo": {
           "bgcolor": "white",
           "lakecolor": "white",
           "landcolor": "#E5ECF6",
           "showlakes": true,
           "showland": true,
           "subunitcolor": "white"
          },
          "hoverlabel": {
           "align": "left"
          },
          "hovermode": "closest",
          "mapbox": {
           "style": "light"
          },
          "paper_bgcolor": "white",
          "plot_bgcolor": "#E5ECF6",
          "polar": {
           "angularaxis": {
            "gridcolor": "white",
            "linecolor": "white",
            "ticks": ""
           },
           "bgcolor": "#E5ECF6",
           "radialaxis": {
            "gridcolor": "white",
            "linecolor": "white",
            "ticks": ""
           }
          },
          "scene": {
           "xaxis": {
            "backgroundcolor": "#E5ECF6",
            "gridcolor": "white",
            "gridwidth": 2,
            "linecolor": "white",
            "showbackground": true,
            "ticks": "",
            "zerolinecolor": "white"
           },
           "yaxis": {
            "backgroundcolor": "#E5ECF6",
            "gridcolor": "white",
            "gridwidth": 2,
            "linecolor": "white",
            "showbackground": true,
            "ticks": "",
            "zerolinecolor": "white"
           },
           "zaxis": {
            "backgroundcolor": "#E5ECF6",
            "gridcolor": "white",
            "gridwidth": 2,
            "linecolor": "white",
            "showbackground": true,
            "ticks": "",
            "zerolinecolor": "white"
           }
          },
          "shapedefaults": {
           "line": {
            "color": "#2a3f5f"
           }
          },
          "ternary": {
           "aaxis": {
            "gridcolor": "white",
            "linecolor": "white",
            "ticks": ""
           },
           "baxis": {
            "gridcolor": "white",
            "linecolor": "white",
            "ticks": ""
           },
           "bgcolor": "#E5ECF6",
           "caxis": {
            "gridcolor": "white",
            "linecolor": "white",
            "ticks": ""
           }
          },
          "title": {
           "x": 0.05
          },
          "xaxis": {
           "automargin": true,
           "gridcolor": "white",
           "linecolor": "white",
           "ticks": "",
           "title": {
            "standoff": 15
           },
           "zerolinecolor": "white",
           "zerolinewidth": 2
          },
          "yaxis": {
           "automargin": true,
           "gridcolor": "white",
           "linecolor": "white",
           "ticks": "",
           "title": {
            "standoff": 15
           },
           "zerolinecolor": "white",
           "zerolinewidth": 2
          }
         }
        },
        "title": {
         "text": "Density heatmaps for Date and Percent of max score based on benchmarking"
        },
        "width": 4200,
        "xaxis": {
         "anchor": "y",
         "domain": [
          0,
          0.0344
         ],
         "gridcolor": "black",
         "gridwidth": 1,
         "linecolor": "black",
         "showgrid": true,
         "showticklabels": true,
         "title": {
          "text": "date"
         }
        },
        "xaxis10": {
         "anchor": "y10",
         "domain": [
          0.3545999999999999,
          0.3889999999999999
         ],
         "gridcolor": "black",
         "gridwidth": 1,
         "linecolor": "black",
         "matches": "x",
         "showgrid": true,
         "showticklabels": true,
         "title": {
          "text": "date"
         }
        },
        "xaxis100": {
         "anchor": "y100",
         "domain": [
          0.9455999999999998,
          0.9799999999999998
         ],
         "gridcolor": "black",
         "gridwidth": 1,
         "linecolor": "black",
         "matches": "x",
         "showgrid": true,
         "showticklabels": true
        },
        "xaxis101": {
         "anchor": "y101",
         "domain": [
          0,
          0.0344
         ],
         "gridcolor": "black",
         "gridwidth": 1,
         "linecolor": "black",
         "matches": "x",
         "showgrid": true,
         "showticklabels": true
        },
        "xaxis102": {
         "anchor": "y102",
         "domain": [
          0.0394,
          0.0738
         ],
         "gridcolor": "black",
         "gridwidth": 1,
         "linecolor": "black",
         "matches": "x",
         "showgrid": true,
         "showticklabels": true
        },
        "xaxis103": {
         "anchor": "y103",
         "domain": [
          0.0788,
          0.1132
         ],
         "gridcolor": "black",
         "gridwidth": 1,
         "linecolor": "black",
         "matches": "x",
         "showgrid": true,
         "showticklabels": true
        },
        "xaxis104": {
         "anchor": "y104",
         "domain": [
          0.1182,
          0.1526
         ],
         "gridcolor": "black",
         "gridwidth": 1,
         "linecolor": "black",
         "matches": "x",
         "showgrid": true,
         "showticklabels": true
        },
        "xaxis105": {
         "anchor": "y105",
         "domain": [
          0.1576,
          0.192
         ],
         "gridcolor": "black",
         "gridwidth": 1,
         "linecolor": "black",
         "matches": "x",
         "showgrid": true,
         "showticklabels": true
        },
        "xaxis106": {
         "anchor": "y106",
         "domain": [
          0.19699999999999998,
          0.2314
         ],
         "gridcolor": "black",
         "gridwidth": 1,
         "linecolor": "black",
         "matches": "x",
         "showgrid": true,
         "showticklabels": true
        },
        "xaxis107": {
         "anchor": "y107",
         "domain": [
          0.23639999999999997,
          0.2708
         ],
         "gridcolor": "black",
         "gridwidth": 1,
         "linecolor": "black",
         "matches": "x",
         "showgrid": true,
         "showticklabels": true
        },
        "xaxis108": {
         "anchor": "y108",
         "domain": [
          0.27579999999999993,
          0.3101999999999999
         ],
         "gridcolor": "black",
         "gridwidth": 1,
         "linecolor": "black",
         "matches": "x",
         "showgrid": true,
         "showticklabels": true
        },
        "xaxis109": {
         "anchor": "y109",
         "domain": [
          0.3151999999999999,
          0.3495999999999999
         ],
         "gridcolor": "black",
         "gridwidth": 1,
         "linecolor": "black",
         "matches": "x",
         "showgrid": true,
         "showticklabels": true
        },
        "xaxis11": {
         "anchor": "y11",
         "domain": [
          0.3939999999999999,
          0.4283999999999999
         ],
         "gridcolor": "black",
         "gridwidth": 1,
         "linecolor": "black",
         "matches": "x",
         "showgrid": true,
         "showticklabels": true,
         "title": {
          "text": "date"
         }
        },
        "xaxis110": {
         "anchor": "y110",
         "domain": [
          0.3545999999999999,
          0.3889999999999999
         ],
         "gridcolor": "black",
         "gridwidth": 1,
         "linecolor": "black",
         "matches": "x",
         "showgrid": true,
         "showticklabels": true
        },
        "xaxis111": {
         "anchor": "y111",
         "domain": [
          0.3939999999999999,
          0.4283999999999999
         ],
         "gridcolor": "black",
         "gridwidth": 1,
         "linecolor": "black",
         "matches": "x",
         "showgrid": true,
         "showticklabels": true
        },
        "xaxis112": {
         "anchor": "y112",
         "domain": [
          0.4333999999999999,
          0.4677999999999999
         ],
         "gridcolor": "black",
         "gridwidth": 1,
         "linecolor": "black",
         "matches": "x",
         "showgrid": true,
         "showticklabels": true
        },
        "xaxis113": {
         "anchor": "y113",
         "domain": [
          0.4727999999999999,
          0.5071999999999999
         ],
         "gridcolor": "black",
         "gridwidth": 1,
         "linecolor": "black",
         "matches": "x",
         "showgrid": true,
         "showticklabels": true
        },
        "xaxis114": {
         "anchor": "y114",
         "domain": [
          0.5121999999999999,
          0.5465999999999999
         ],
         "gridcolor": "black",
         "gridwidth": 1,
         "linecolor": "black",
         "matches": "x",
         "showgrid": true,
         "showticklabels": true
        },
        "xaxis115": {
         "anchor": "y115",
         "domain": [
          0.5515999999999999,
          0.5859999999999999
         ],
         "gridcolor": "black",
         "gridwidth": 1,
         "linecolor": "black",
         "matches": "x",
         "showgrid": true,
         "showticklabels": true
        },
        "xaxis116": {
         "anchor": "y116",
         "domain": [
          0.5909999999999999,
          0.6253999999999998
         ],
         "gridcolor": "black",
         "gridwidth": 1,
         "linecolor": "black",
         "matches": "x",
         "showgrid": true,
         "showticklabels": true
        },
        "xaxis117": {
         "anchor": "y117",
         "domain": [
          0.6303999999999998,
          0.6647999999999998
         ],
         "gridcolor": "black",
         "gridwidth": 1,
         "linecolor": "black",
         "matches": "x",
         "showgrid": true,
         "showticklabels": true
        },
        "xaxis118": {
         "anchor": "y118",
         "domain": [
          0.6697999999999998,
          0.7041999999999998
         ],
         "gridcolor": "black",
         "gridwidth": 1,
         "linecolor": "black",
         "matches": "x",
         "showgrid": true,
         "showticklabels": true
        },
        "xaxis119": {
         "anchor": "y119",
         "domain": [
          0.7091999999999998,
          0.7435999999999998
         ],
         "gridcolor": "black",
         "gridwidth": 1,
         "linecolor": "black",
         "matches": "x",
         "showgrid": true,
         "showticklabels": true
        },
        "xaxis12": {
         "anchor": "y12",
         "domain": [
          0.4333999999999999,
          0.4677999999999999
         ],
         "gridcolor": "black",
         "gridwidth": 1,
         "linecolor": "black",
         "matches": "x",
         "showgrid": true,
         "showticklabels": true,
         "title": {
          "text": "date"
         }
        },
        "xaxis120": {
         "anchor": "y120",
         "domain": [
          0.7485999999999998,
          0.7829999999999998
         ],
         "gridcolor": "black",
         "gridwidth": 1,
         "linecolor": "black",
         "matches": "x",
         "showgrid": true,
         "showticklabels": true
        },
        "xaxis121": {
         "anchor": "y121",
         "domain": [
          0.7879999999999998,
          0.8223999999999998
         ],
         "gridcolor": "black",
         "gridwidth": 1,
         "linecolor": "black",
         "matches": "x",
         "showgrid": true,
         "showticklabels": true
        },
        "xaxis122": {
         "anchor": "y122",
         "domain": [
          0.8273999999999998,
          0.8617999999999998
         ],
         "gridcolor": "black",
         "gridwidth": 1,
         "linecolor": "black",
         "matches": "x",
         "showgrid": true,
         "showticklabels": true
        },
        "xaxis123": {
         "anchor": "y123",
         "domain": [
          0.8667999999999998,
          0.9011999999999998
         ],
         "gridcolor": "black",
         "gridwidth": 1,
         "linecolor": "black",
         "matches": "x",
         "showgrid": true,
         "showticklabels": true
        },
        "xaxis124": {
         "anchor": "y124",
         "domain": [
          0.9061999999999998,
          0.9405999999999998
         ],
         "gridcolor": "black",
         "gridwidth": 1,
         "linecolor": "black",
         "matches": "x",
         "showgrid": true,
         "showticklabels": true
        },
        "xaxis125": {
         "anchor": "y125",
         "domain": [
          0.9455999999999998,
          0.9799999999999998
         ],
         "gridcolor": "black",
         "gridwidth": 1,
         "linecolor": "black",
         "matches": "x",
         "showgrid": true,
         "showticklabels": true
        },
        "xaxis126": {
         "anchor": "y126",
         "domain": [
          0,
          0.0344
         ],
         "gridcolor": "black",
         "gridwidth": 1,
         "linecolor": "black",
         "matches": "x",
         "showgrid": true,
         "showticklabels": true
        },
        "xaxis127": {
         "anchor": "y127",
         "domain": [
          0.0394,
          0.0738
         ],
         "gridcolor": "black",
         "gridwidth": 1,
         "linecolor": "black",
         "matches": "x",
         "showgrid": true,
         "showticklabels": true
        },
        "xaxis128": {
         "anchor": "y128",
         "domain": [
          0.0788,
          0.1132
         ],
         "gridcolor": "black",
         "gridwidth": 1,
         "linecolor": "black",
         "matches": "x",
         "showgrid": true,
         "showticklabels": true
        },
        "xaxis129": {
         "anchor": "y129",
         "domain": [
          0.1182,
          0.1526
         ],
         "gridcolor": "black",
         "gridwidth": 1,
         "linecolor": "black",
         "matches": "x",
         "showgrid": true,
         "showticklabels": true
        },
        "xaxis13": {
         "anchor": "y13",
         "domain": [
          0.4727999999999999,
          0.5071999999999999
         ],
         "gridcolor": "black",
         "gridwidth": 1,
         "linecolor": "black",
         "matches": "x",
         "showgrid": true,
         "showticklabels": true,
         "title": {
          "text": "date"
         }
        },
        "xaxis130": {
         "anchor": "y130",
         "domain": [
          0.1576,
          0.192
         ],
         "gridcolor": "black",
         "gridwidth": 1,
         "linecolor": "black",
         "matches": "x",
         "showgrid": true,
         "showticklabels": true
        },
        "xaxis131": {
         "anchor": "y131",
         "domain": [
          0.19699999999999998,
          0.2314
         ],
         "gridcolor": "black",
         "gridwidth": 1,
         "linecolor": "black",
         "matches": "x",
         "showgrid": true,
         "showticklabels": true
        },
        "xaxis132": {
         "anchor": "y132",
         "domain": [
          0.23639999999999997,
          0.2708
         ],
         "gridcolor": "black",
         "gridwidth": 1,
         "linecolor": "black",
         "matches": "x",
         "showgrid": true,
         "showticklabels": true
        },
        "xaxis133": {
         "anchor": "y133",
         "domain": [
          0.27579999999999993,
          0.3101999999999999
         ],
         "gridcolor": "black",
         "gridwidth": 1,
         "linecolor": "black",
         "matches": "x",
         "showgrid": true,
         "showticklabels": true
        },
        "xaxis134": {
         "anchor": "y134",
         "domain": [
          0.3151999999999999,
          0.3495999999999999
         ],
         "gridcolor": "black",
         "gridwidth": 1,
         "linecolor": "black",
         "matches": "x",
         "showgrid": true,
         "showticklabels": true
        },
        "xaxis135": {
         "anchor": "y135",
         "domain": [
          0.3545999999999999,
          0.3889999999999999
         ],
         "gridcolor": "black",
         "gridwidth": 1,
         "linecolor": "black",
         "matches": "x",
         "showgrid": true,
         "showticklabels": true
        },
        "xaxis136": {
         "anchor": "y136",
         "domain": [
          0.3939999999999999,
          0.4283999999999999
         ],
         "gridcolor": "black",
         "gridwidth": 1,
         "linecolor": "black",
         "matches": "x",
         "showgrid": true,
         "showticklabels": true
        },
        "xaxis137": {
         "anchor": "y137",
         "domain": [
          0.4333999999999999,
          0.4677999999999999
         ],
         "gridcolor": "black",
         "gridwidth": 1,
         "linecolor": "black",
         "matches": "x",
         "showgrid": true,
         "showticklabels": true
        },
        "xaxis138": {
         "anchor": "y138",
         "domain": [
          0.4727999999999999,
          0.5071999999999999
         ],
         "gridcolor": "black",
         "gridwidth": 1,
         "linecolor": "black",
         "matches": "x",
         "showgrid": true,
         "showticklabels": true
        },
        "xaxis139": {
         "anchor": "y139",
         "domain": [
          0.5121999999999999,
          0.5465999999999999
         ],
         "gridcolor": "black",
         "gridwidth": 1,
         "linecolor": "black",
         "matches": "x",
         "showgrid": true,
         "showticklabels": true
        },
        "xaxis14": {
         "anchor": "y14",
         "domain": [
          0.5121999999999999,
          0.5465999999999999
         ],
         "gridcolor": "black",
         "gridwidth": 1,
         "linecolor": "black",
         "matches": "x",
         "showgrid": true,
         "showticklabels": true,
         "title": {
          "text": "date"
         }
        },
        "xaxis140": {
         "anchor": "y140",
         "domain": [
          0.5515999999999999,
          0.5859999999999999
         ],
         "gridcolor": "black",
         "gridwidth": 1,
         "linecolor": "black",
         "matches": "x",
         "showgrid": true,
         "showticklabels": true
        },
        "xaxis141": {
         "anchor": "y141",
         "domain": [
          0.5909999999999999,
          0.6253999999999998
         ],
         "gridcolor": "black",
         "gridwidth": 1,
         "linecolor": "black",
         "matches": "x",
         "showgrid": true,
         "showticklabels": true
        },
        "xaxis142": {
         "anchor": "y142",
         "domain": [
          0.6303999999999998,
          0.6647999999999998
         ],
         "gridcolor": "black",
         "gridwidth": 1,
         "linecolor": "black",
         "matches": "x",
         "showgrid": true,
         "showticklabels": true
        },
        "xaxis143": {
         "anchor": "y143",
         "domain": [
          0.6697999999999998,
          0.7041999999999998
         ],
         "gridcolor": "black",
         "gridwidth": 1,
         "linecolor": "black",
         "matches": "x",
         "showgrid": true,
         "showticklabels": true
        },
        "xaxis144": {
         "anchor": "y144",
         "domain": [
          0.7091999999999998,
          0.7435999999999998
         ],
         "gridcolor": "black",
         "gridwidth": 1,
         "linecolor": "black",
         "matches": "x",
         "showgrid": true,
         "showticklabels": true
        },
        "xaxis145": {
         "anchor": "y145",
         "domain": [
          0.7485999999999998,
          0.7829999999999998
         ],
         "gridcolor": "black",
         "gridwidth": 1,
         "linecolor": "black",
         "matches": "x",
         "showgrid": true,
         "showticklabels": true
        },
        "xaxis146": {
         "anchor": "y146",
         "domain": [
          0.7879999999999998,
          0.8223999999999998
         ],
         "gridcolor": "black",
         "gridwidth": 1,
         "linecolor": "black",
         "matches": "x",
         "showgrid": true,
         "showticklabels": true
        },
        "xaxis147": {
         "anchor": "y147",
         "domain": [
          0.8273999999999998,
          0.8617999999999998
         ],
         "gridcolor": "black",
         "gridwidth": 1,
         "linecolor": "black",
         "matches": "x",
         "showgrid": true,
         "showticklabels": true
        },
        "xaxis148": {
         "anchor": "y148",
         "domain": [
          0.8667999999999998,
          0.9011999999999998
         ],
         "gridcolor": "black",
         "gridwidth": 1,
         "linecolor": "black",
         "matches": "x",
         "showgrid": true,
         "showticklabels": true
        },
        "xaxis149": {
         "anchor": "y149",
         "domain": [
          0.9061999999999998,
          0.9405999999999998
         ],
         "gridcolor": "black",
         "gridwidth": 1,
         "linecolor": "black",
         "matches": "x",
         "showgrid": true,
         "showticklabels": true
        },
        "xaxis15": {
         "anchor": "y15",
         "domain": [
          0.5515999999999999,
          0.5859999999999999
         ],
         "gridcolor": "black",
         "gridwidth": 1,
         "linecolor": "black",
         "matches": "x",
         "showgrid": true,
         "showticklabels": true,
         "title": {
          "text": "date"
         }
        },
        "xaxis150": {
         "anchor": "y150",
         "domain": [
          0.9455999999999998,
          0.9799999999999998
         ],
         "gridcolor": "black",
         "gridwidth": 1,
         "linecolor": "black",
         "matches": "x",
         "showgrid": true,
         "showticklabels": true
        },
        "xaxis151": {
         "anchor": "y151",
         "domain": [
          0,
          0.0344
         ],
         "gridcolor": "black",
         "gridwidth": 1,
         "linecolor": "black",
         "matches": "x",
         "showgrid": true,
         "showticklabels": true
        },
        "xaxis152": {
         "anchor": "y152",
         "domain": [
          0.0394,
          0.0738
         ],
         "gridcolor": "black",
         "gridwidth": 1,
         "linecolor": "black",
         "matches": "x",
         "showgrid": true,
         "showticklabels": true
        },
        "xaxis153": {
         "anchor": "y153",
         "domain": [
          0.0788,
          0.1132
         ],
         "gridcolor": "black",
         "gridwidth": 1,
         "linecolor": "black",
         "matches": "x",
         "showgrid": true,
         "showticklabels": true
        },
        "xaxis154": {
         "anchor": "y154",
         "domain": [
          0.1182,
          0.1526
         ],
         "gridcolor": "black",
         "gridwidth": 1,
         "linecolor": "black",
         "matches": "x",
         "showgrid": true,
         "showticklabels": true
        },
        "xaxis155": {
         "anchor": "y155",
         "domain": [
          0.1576,
          0.192
         ],
         "gridcolor": "black",
         "gridwidth": 1,
         "linecolor": "black",
         "matches": "x",
         "showgrid": true,
         "showticklabels": true
        },
        "xaxis156": {
         "anchor": "y156",
         "domain": [
          0.19699999999999998,
          0.2314
         ],
         "gridcolor": "black",
         "gridwidth": 1,
         "linecolor": "black",
         "matches": "x",
         "showgrid": true,
         "showticklabels": true
        },
        "xaxis157": {
         "anchor": "y157",
         "domain": [
          0.23639999999999997,
          0.2708
         ],
         "gridcolor": "black",
         "gridwidth": 1,
         "linecolor": "black",
         "matches": "x",
         "showgrid": true,
         "showticklabels": true
        },
        "xaxis158": {
         "anchor": "y158",
         "domain": [
          0.27579999999999993,
          0.3101999999999999
         ],
         "gridcolor": "black",
         "gridwidth": 1,
         "linecolor": "black",
         "matches": "x",
         "showgrid": true,
         "showticklabels": true
        },
        "xaxis159": {
         "anchor": "y159",
         "domain": [
          0.3151999999999999,
          0.3495999999999999
         ],
         "gridcolor": "black",
         "gridwidth": 1,
         "linecolor": "black",
         "matches": "x",
         "showgrid": true,
         "showticklabels": true
        },
        "xaxis16": {
         "anchor": "y16",
         "domain": [
          0.5909999999999999,
          0.6253999999999998
         ],
         "gridcolor": "black",
         "gridwidth": 1,
         "linecolor": "black",
         "matches": "x",
         "showgrid": true,
         "showticklabels": true,
         "title": {
          "text": "date"
         }
        },
        "xaxis160": {
         "anchor": "y160",
         "domain": [
          0.3545999999999999,
          0.3889999999999999
         ],
         "gridcolor": "black",
         "gridwidth": 1,
         "linecolor": "black",
         "matches": "x",
         "showgrid": true,
         "showticklabels": true
        },
        "xaxis161": {
         "anchor": "y161",
         "domain": [
          0.3939999999999999,
          0.4283999999999999
         ],
         "gridcolor": "black",
         "gridwidth": 1,
         "linecolor": "black",
         "matches": "x",
         "showgrid": true,
         "showticklabels": true
        },
        "xaxis162": {
         "anchor": "y162",
         "domain": [
          0.4333999999999999,
          0.4677999999999999
         ],
         "gridcolor": "black",
         "gridwidth": 1,
         "linecolor": "black",
         "matches": "x",
         "showgrid": true,
         "showticklabels": true
        },
        "xaxis163": {
         "anchor": "y163",
         "domain": [
          0.4727999999999999,
          0.5071999999999999
         ],
         "gridcolor": "black",
         "gridwidth": 1,
         "linecolor": "black",
         "matches": "x",
         "showgrid": true,
         "showticklabels": true
        },
        "xaxis164": {
         "anchor": "y164",
         "domain": [
          0.5121999999999999,
          0.5465999999999999
         ],
         "gridcolor": "black",
         "gridwidth": 1,
         "linecolor": "black",
         "matches": "x",
         "showgrid": true,
         "showticklabels": true
        },
        "xaxis165": {
         "anchor": "y165",
         "domain": [
          0.5515999999999999,
          0.5859999999999999
         ],
         "gridcolor": "black",
         "gridwidth": 1,
         "linecolor": "black",
         "matches": "x",
         "showgrid": true,
         "showticklabels": true
        },
        "xaxis166": {
         "anchor": "y166",
         "domain": [
          0.5909999999999999,
          0.6253999999999998
         ],
         "gridcolor": "black",
         "gridwidth": 1,
         "linecolor": "black",
         "matches": "x",
         "showgrid": true,
         "showticklabels": true
        },
        "xaxis167": {
         "anchor": "y167",
         "domain": [
          0.6303999999999998,
          0.6647999999999998
         ],
         "gridcolor": "black",
         "gridwidth": 1,
         "linecolor": "black",
         "matches": "x",
         "showgrid": true,
         "showticklabels": true
        },
        "xaxis168": {
         "anchor": "y168",
         "domain": [
          0.6697999999999998,
          0.7041999999999998
         ],
         "gridcolor": "black",
         "gridwidth": 1,
         "linecolor": "black",
         "matches": "x",
         "showgrid": true,
         "showticklabels": true
        },
        "xaxis169": {
         "anchor": "y169",
         "domain": [
          0.7091999999999998,
          0.7435999999999998
         ],
         "gridcolor": "black",
         "gridwidth": 1,
         "linecolor": "black",
         "matches": "x",
         "showgrid": true,
         "showticklabels": true
        },
        "xaxis17": {
         "anchor": "y17",
         "domain": [
          0.6303999999999998,
          0.6647999999999998
         ],
         "gridcolor": "black",
         "gridwidth": 1,
         "linecolor": "black",
         "matches": "x",
         "showgrid": true,
         "showticklabels": true,
         "title": {
          "text": "date"
         }
        },
        "xaxis170": {
         "anchor": "y170",
         "domain": [
          0.7485999999999998,
          0.7829999999999998
         ],
         "gridcolor": "black",
         "gridwidth": 1,
         "linecolor": "black",
         "matches": "x",
         "showgrid": true,
         "showticklabels": true
        },
        "xaxis171": {
         "anchor": "y171",
         "domain": [
          0.7879999999999998,
          0.8223999999999998
         ],
         "gridcolor": "black",
         "gridwidth": 1,
         "linecolor": "black",
         "matches": "x",
         "showgrid": true,
         "showticklabels": true
        },
        "xaxis172": {
         "anchor": "y172",
         "domain": [
          0.8273999999999998,
          0.8617999999999998
         ],
         "gridcolor": "black",
         "gridwidth": 1,
         "linecolor": "black",
         "matches": "x",
         "showgrid": true,
         "showticklabels": true
        },
        "xaxis173": {
         "anchor": "y173",
         "domain": [
          0.8667999999999998,
          0.9011999999999998
         ],
         "gridcolor": "black",
         "gridwidth": 1,
         "linecolor": "black",
         "matches": "x",
         "showgrid": true,
         "showticklabels": true
        },
        "xaxis174": {
         "anchor": "y174",
         "domain": [
          0.9061999999999998,
          0.9405999999999998
         ],
         "gridcolor": "black",
         "gridwidth": 1,
         "linecolor": "black",
         "matches": "x",
         "showgrid": true,
         "showticklabels": true
        },
        "xaxis175": {
         "anchor": "y175",
         "domain": [
          0.9455999999999998,
          0.9799999999999998
         ],
         "gridcolor": "black",
         "gridwidth": 1,
         "linecolor": "black",
         "matches": "x",
         "showgrid": true,
         "showticklabels": true
        },
        "xaxis176": {
         "anchor": "y176",
         "domain": [
          0,
          0.0344
         ],
         "gridcolor": "black",
         "gridwidth": 1,
         "linecolor": "black",
         "matches": "x",
         "showgrid": true,
         "showticklabels": true
        },
        "xaxis177": {
         "anchor": "y177",
         "domain": [
          0.0394,
          0.0738
         ],
         "gridcolor": "black",
         "gridwidth": 1,
         "linecolor": "black",
         "matches": "x",
         "showgrid": true,
         "showticklabels": true
        },
        "xaxis178": {
         "anchor": "y178",
         "domain": [
          0.0788,
          0.1132
         ],
         "gridcolor": "black",
         "gridwidth": 1,
         "linecolor": "black",
         "matches": "x",
         "showgrid": true,
         "showticklabels": true
        },
        "xaxis179": {
         "anchor": "y179",
         "domain": [
          0.1182,
          0.1526
         ],
         "gridcolor": "black",
         "gridwidth": 1,
         "linecolor": "black",
         "matches": "x",
         "showgrid": true,
         "showticklabels": true
        },
        "xaxis18": {
         "anchor": "y18",
         "domain": [
          0.6697999999999998,
          0.7041999999999998
         ],
         "gridcolor": "black",
         "gridwidth": 1,
         "linecolor": "black",
         "matches": "x",
         "showgrid": true,
         "showticklabels": true,
         "title": {
          "text": "date"
         }
        },
        "xaxis180": {
         "anchor": "y180",
         "domain": [
          0.1576,
          0.192
         ],
         "gridcolor": "black",
         "gridwidth": 1,
         "linecolor": "black",
         "matches": "x",
         "showgrid": true,
         "showticklabels": true
        },
        "xaxis181": {
         "anchor": "y181",
         "domain": [
          0.19699999999999998,
          0.2314
         ],
         "gridcolor": "black",
         "gridwidth": 1,
         "linecolor": "black",
         "matches": "x",
         "showgrid": true,
         "showticklabels": true
        },
        "xaxis182": {
         "anchor": "y182",
         "domain": [
          0.23639999999999997,
          0.2708
         ],
         "gridcolor": "black",
         "gridwidth": 1,
         "linecolor": "black",
         "matches": "x",
         "showgrid": true,
         "showticklabels": true
        },
        "xaxis183": {
         "anchor": "y183",
         "domain": [
          0.27579999999999993,
          0.3101999999999999
         ],
         "gridcolor": "black",
         "gridwidth": 1,
         "linecolor": "black",
         "matches": "x",
         "showgrid": true,
         "showticklabels": true
        },
        "xaxis184": {
         "anchor": "y184",
         "domain": [
          0.3151999999999999,
          0.3495999999999999
         ],
         "gridcolor": "black",
         "gridwidth": 1,
         "linecolor": "black",
         "matches": "x",
         "showgrid": true,
         "showticklabels": true
        },
        "xaxis185": {
         "anchor": "y185",
         "domain": [
          0.3545999999999999,
          0.3889999999999999
         ],
         "gridcolor": "black",
         "gridwidth": 1,
         "linecolor": "black",
         "matches": "x",
         "showgrid": true,
         "showticklabels": true
        },
        "xaxis186": {
         "anchor": "y186",
         "domain": [
          0.3939999999999999,
          0.4283999999999999
         ],
         "gridcolor": "black",
         "gridwidth": 1,
         "linecolor": "black",
         "matches": "x",
         "showgrid": true,
         "showticklabels": true
        },
        "xaxis187": {
         "anchor": "y187",
         "domain": [
          0.4333999999999999,
          0.4677999999999999
         ],
         "gridcolor": "black",
         "gridwidth": 1,
         "linecolor": "black",
         "matches": "x",
         "showgrid": true,
         "showticklabels": true
        },
        "xaxis188": {
         "anchor": "y188",
         "domain": [
          0.4727999999999999,
          0.5071999999999999
         ],
         "gridcolor": "black",
         "gridwidth": 1,
         "linecolor": "black",
         "matches": "x",
         "showgrid": true,
         "showticklabels": true
        },
        "xaxis189": {
         "anchor": "y189",
         "domain": [
          0.5121999999999999,
          0.5465999999999999
         ],
         "gridcolor": "black",
         "gridwidth": 1,
         "linecolor": "black",
         "matches": "x",
         "showgrid": true,
         "showticklabels": true
        },
        "xaxis19": {
         "anchor": "y19",
         "domain": [
          0.7091999999999998,
          0.7435999999999998
         ],
         "gridcolor": "black",
         "gridwidth": 1,
         "linecolor": "black",
         "matches": "x",
         "showgrid": true,
         "showticklabels": true,
         "title": {
          "text": "date"
         }
        },
        "xaxis190": {
         "anchor": "y190",
         "domain": [
          0.5515999999999999,
          0.5859999999999999
         ],
         "gridcolor": "black",
         "gridwidth": 1,
         "linecolor": "black",
         "matches": "x",
         "showgrid": true,
         "showticklabels": true
        },
        "xaxis191": {
         "anchor": "y191",
         "domain": [
          0.5909999999999999,
          0.6253999999999998
         ],
         "gridcolor": "black",
         "gridwidth": 1,
         "linecolor": "black",
         "matches": "x",
         "showgrid": true,
         "showticklabels": true
        },
        "xaxis192": {
         "anchor": "y192",
         "domain": [
          0.6303999999999998,
          0.6647999999999998
         ],
         "gridcolor": "black",
         "gridwidth": 1,
         "linecolor": "black",
         "matches": "x",
         "showgrid": true,
         "showticklabels": true
        },
        "xaxis193": {
         "anchor": "y193",
         "domain": [
          0.6697999999999998,
          0.7041999999999998
         ],
         "gridcolor": "black",
         "gridwidth": 1,
         "linecolor": "black",
         "matches": "x",
         "showgrid": true,
         "showticklabels": true
        },
        "xaxis194": {
         "anchor": "y194",
         "domain": [
          0.7091999999999998,
          0.7435999999999998
         ],
         "gridcolor": "black",
         "gridwidth": 1,
         "linecolor": "black",
         "matches": "x",
         "showgrid": true,
         "showticklabels": true
        },
        "xaxis195": {
         "anchor": "y195",
         "domain": [
          0.7485999999999998,
          0.7829999999999998
         ],
         "gridcolor": "black",
         "gridwidth": 1,
         "linecolor": "black",
         "matches": "x",
         "showgrid": true,
         "showticklabels": true
        },
        "xaxis196": {
         "anchor": "y196",
         "domain": [
          0.7879999999999998,
          0.8223999999999998
         ],
         "gridcolor": "black",
         "gridwidth": 1,
         "linecolor": "black",
         "matches": "x",
         "showgrid": true,
         "showticklabels": true
        },
        "xaxis197": {
         "anchor": "y197",
         "domain": [
          0.8273999999999998,
          0.8617999999999998
         ],
         "gridcolor": "black",
         "gridwidth": 1,
         "linecolor": "black",
         "matches": "x",
         "showgrid": true,
         "showticklabels": true
        },
        "xaxis198": {
         "anchor": "y198",
         "domain": [
          0.8667999999999998,
          0.9011999999999998
         ],
         "gridcolor": "black",
         "gridwidth": 1,
         "linecolor": "black",
         "matches": "x",
         "showgrid": true,
         "showticklabels": true
        },
        "xaxis199": {
         "anchor": "y199",
         "domain": [
          0.9061999999999998,
          0.9405999999999998
         ],
         "gridcolor": "black",
         "gridwidth": 1,
         "linecolor": "black",
         "matches": "x",
         "showgrid": true,
         "showticklabels": true
        },
        "xaxis2": {
         "anchor": "y2",
         "domain": [
          0.0394,
          0.0738
         ],
         "gridcolor": "black",
         "gridwidth": 1,
         "linecolor": "black",
         "matches": "x",
         "showgrid": true,
         "showticklabels": true,
         "title": {
          "text": "date"
         }
        },
        "xaxis20": {
         "anchor": "y20",
         "domain": [
          0.7485999999999998,
          0.7829999999999998
         ],
         "gridcolor": "black",
         "gridwidth": 1,
         "linecolor": "black",
         "matches": "x",
         "showgrid": true,
         "showticklabels": true,
         "title": {
          "text": "date"
         }
        },
        "xaxis200": {
         "anchor": "y200",
         "domain": [
          0.9455999999999998,
          0.9799999999999998
         ],
         "gridcolor": "black",
         "gridwidth": 1,
         "linecolor": "black",
         "matches": "x",
         "showgrid": true,
         "showticklabels": true
        },
        "xaxis201": {
         "anchor": "y201",
         "domain": [
          0,
          0.0344
         ],
         "gridcolor": "black",
         "gridwidth": 1,
         "linecolor": "black",
         "matches": "x",
         "showgrid": true,
         "showticklabels": true
        },
        "xaxis202": {
         "anchor": "y202",
         "domain": [
          0.0394,
          0.0738
         ],
         "gridcolor": "black",
         "gridwidth": 1,
         "linecolor": "black",
         "matches": "x",
         "showgrid": true,
         "showticklabels": true
        },
        "xaxis203": {
         "anchor": "y203",
         "domain": [
          0.0788,
          0.1132
         ],
         "gridcolor": "black",
         "gridwidth": 1,
         "linecolor": "black",
         "matches": "x",
         "showgrid": true,
         "showticklabels": true
        },
        "xaxis204": {
         "anchor": "y204",
         "domain": [
          0.1182,
          0.1526
         ],
         "gridcolor": "black",
         "gridwidth": 1,
         "linecolor": "black",
         "matches": "x",
         "showgrid": true,
         "showticklabels": true
        },
        "xaxis205": {
         "anchor": "y205",
         "domain": [
          0.1576,
          0.192
         ],
         "gridcolor": "black",
         "gridwidth": 1,
         "linecolor": "black",
         "matches": "x",
         "showgrid": true,
         "showticklabels": true
        },
        "xaxis206": {
         "anchor": "y206",
         "domain": [
          0.19699999999999998,
          0.2314
         ],
         "gridcolor": "black",
         "gridwidth": 1,
         "linecolor": "black",
         "matches": "x",
         "showgrid": true,
         "showticklabels": true
        },
        "xaxis207": {
         "anchor": "y207",
         "domain": [
          0.23639999999999997,
          0.2708
         ],
         "gridcolor": "black",
         "gridwidth": 1,
         "linecolor": "black",
         "matches": "x",
         "showgrid": true,
         "showticklabels": true
        },
        "xaxis208": {
         "anchor": "y208",
         "domain": [
          0.27579999999999993,
          0.3101999999999999
         ],
         "gridcolor": "black",
         "gridwidth": 1,
         "linecolor": "black",
         "matches": "x",
         "showgrid": true,
         "showticklabels": true
        },
        "xaxis209": {
         "anchor": "y209",
         "domain": [
          0.3151999999999999,
          0.3495999999999999
         ],
         "gridcolor": "black",
         "gridwidth": 1,
         "linecolor": "black",
         "matches": "x",
         "showgrid": true,
         "showticklabels": true
        },
        "xaxis21": {
         "anchor": "y21",
         "domain": [
          0.7879999999999998,
          0.8223999999999998
         ],
         "gridcolor": "black",
         "gridwidth": 1,
         "linecolor": "black",
         "matches": "x",
         "showgrid": true,
         "showticklabels": true,
         "title": {
          "text": "date"
         }
        },
        "xaxis210": {
         "anchor": "y210",
         "domain": [
          0.3545999999999999,
          0.3889999999999999
         ],
         "gridcolor": "black",
         "gridwidth": 1,
         "linecolor": "black",
         "matches": "x",
         "showgrid": true,
         "showticklabels": true
        },
        "xaxis211": {
         "anchor": "y211",
         "domain": [
          0.3939999999999999,
          0.4283999999999999
         ],
         "gridcolor": "black",
         "gridwidth": 1,
         "linecolor": "black",
         "matches": "x",
         "showgrid": true,
         "showticklabels": true
        },
        "xaxis212": {
         "anchor": "y212",
         "domain": [
          0.4333999999999999,
          0.4677999999999999
         ],
         "gridcolor": "black",
         "gridwidth": 1,
         "linecolor": "black",
         "matches": "x",
         "showgrid": true,
         "showticklabels": true
        },
        "xaxis213": {
         "anchor": "y213",
         "domain": [
          0.4727999999999999,
          0.5071999999999999
         ],
         "gridcolor": "black",
         "gridwidth": 1,
         "linecolor": "black",
         "matches": "x",
         "showgrid": true,
         "showticklabels": true
        },
        "xaxis214": {
         "anchor": "y214",
         "domain": [
          0.5121999999999999,
          0.5465999999999999
         ],
         "gridcolor": "black",
         "gridwidth": 1,
         "linecolor": "black",
         "matches": "x",
         "showgrid": true,
         "showticklabels": true
        },
        "xaxis215": {
         "anchor": "y215",
         "domain": [
          0.5515999999999999,
          0.5859999999999999
         ],
         "gridcolor": "black",
         "gridwidth": 1,
         "linecolor": "black",
         "matches": "x",
         "showgrid": true,
         "showticklabels": true
        },
        "xaxis216": {
         "anchor": "y216",
         "domain": [
          0.5909999999999999,
          0.6253999999999998
         ],
         "gridcolor": "black",
         "gridwidth": 1,
         "linecolor": "black",
         "matches": "x",
         "showgrid": true,
         "showticklabels": true
        },
        "xaxis217": {
         "anchor": "y217",
         "domain": [
          0.6303999999999998,
          0.6647999999999998
         ],
         "gridcolor": "black",
         "gridwidth": 1,
         "linecolor": "black",
         "matches": "x",
         "showgrid": true,
         "showticklabels": true
        },
        "xaxis218": {
         "anchor": "y218",
         "domain": [
          0.6697999999999998,
          0.7041999999999998
         ],
         "gridcolor": "black",
         "gridwidth": 1,
         "linecolor": "black",
         "matches": "x",
         "showgrid": true,
         "showticklabels": true
        },
        "xaxis219": {
         "anchor": "y219",
         "domain": [
          0.7091999999999998,
          0.7435999999999998
         ],
         "gridcolor": "black",
         "gridwidth": 1,
         "linecolor": "black",
         "matches": "x",
         "showgrid": true,
         "showticklabels": true
        },
        "xaxis22": {
         "anchor": "y22",
         "domain": [
          0.8273999999999998,
          0.8617999999999998
         ],
         "gridcolor": "black",
         "gridwidth": 1,
         "linecolor": "black",
         "matches": "x",
         "showgrid": true,
         "showticklabels": true,
         "title": {
          "text": "date"
         }
        },
        "xaxis220": {
         "anchor": "y220",
         "domain": [
          0.7485999999999998,
          0.7829999999999998
         ],
         "gridcolor": "black",
         "gridwidth": 1,
         "linecolor": "black",
         "matches": "x",
         "showgrid": true,
         "showticklabels": true
        },
        "xaxis221": {
         "anchor": "y221",
         "domain": [
          0.7879999999999998,
          0.8223999999999998
         ],
         "gridcolor": "black",
         "gridwidth": 1,
         "linecolor": "black",
         "matches": "x",
         "showgrid": true,
         "showticklabels": true
        },
        "xaxis222": {
         "anchor": "y222",
         "domain": [
          0.8273999999999998,
          0.8617999999999998
         ],
         "gridcolor": "black",
         "gridwidth": 1,
         "linecolor": "black",
         "matches": "x",
         "showgrid": true,
         "showticklabels": true
        },
        "xaxis223": {
         "anchor": "y223",
         "domain": [
          0.8667999999999998,
          0.9011999999999998
         ],
         "gridcolor": "black",
         "gridwidth": 1,
         "linecolor": "black",
         "matches": "x",
         "showgrid": true,
         "showticklabels": true
        },
        "xaxis224": {
         "anchor": "y224",
         "domain": [
          0.9061999999999998,
          0.9405999999999998
         ],
         "gridcolor": "black",
         "gridwidth": 1,
         "linecolor": "black",
         "matches": "x",
         "showgrid": true,
         "showticklabels": true
        },
        "xaxis225": {
         "anchor": "y225",
         "domain": [
          0.9455999999999998,
          0.9799999999999998
         ],
         "gridcolor": "black",
         "gridwidth": 1,
         "linecolor": "black",
         "matches": "x",
         "showgrid": true,
         "showticklabels": true
        },
        "xaxis226": {
         "anchor": "y226",
         "domain": [
          0,
          0.0344
         ],
         "gridcolor": "black",
         "gridwidth": 1,
         "linecolor": "black",
         "matches": "x",
         "showgrid": true,
         "showticklabels": true
        },
        "xaxis227": {
         "anchor": "y227",
         "domain": [
          0.0394,
          0.0738
         ],
         "gridcolor": "black",
         "gridwidth": 1,
         "linecolor": "black",
         "matches": "x",
         "showgrid": true,
         "showticklabels": true
        },
        "xaxis228": {
         "anchor": "y228",
         "domain": [
          0.0788,
          0.1132
         ],
         "gridcolor": "black",
         "gridwidth": 1,
         "linecolor": "black",
         "matches": "x",
         "showgrid": true,
         "showticklabels": true
        },
        "xaxis229": {
         "anchor": "y229",
         "domain": [
          0.1182,
          0.1526
         ],
         "gridcolor": "black",
         "gridwidth": 1,
         "linecolor": "black",
         "matches": "x",
         "showgrid": true,
         "showticklabels": true
        },
        "xaxis23": {
         "anchor": "y23",
         "domain": [
          0.8667999999999998,
          0.9011999999999998
         ],
         "gridcolor": "black",
         "gridwidth": 1,
         "linecolor": "black",
         "matches": "x",
         "showgrid": true,
         "showticklabels": true,
         "title": {
          "text": "date"
         }
        },
        "xaxis230": {
         "anchor": "y230",
         "domain": [
          0.1576,
          0.192
         ],
         "gridcolor": "black",
         "gridwidth": 1,
         "linecolor": "black",
         "matches": "x",
         "showgrid": true,
         "showticklabels": true
        },
        "xaxis231": {
         "anchor": "y231",
         "domain": [
          0.19699999999999998,
          0.2314
         ],
         "gridcolor": "black",
         "gridwidth": 1,
         "linecolor": "black",
         "matches": "x",
         "showgrid": true,
         "showticklabels": true
        },
        "xaxis232": {
         "anchor": "y232",
         "domain": [
          0.23639999999999997,
          0.2708
         ],
         "gridcolor": "black",
         "gridwidth": 1,
         "linecolor": "black",
         "matches": "x",
         "showgrid": true,
         "showticklabels": true
        },
        "xaxis233": {
         "anchor": "y233",
         "domain": [
          0.27579999999999993,
          0.3101999999999999
         ],
         "gridcolor": "black",
         "gridwidth": 1,
         "linecolor": "black",
         "matches": "x",
         "showgrid": true,
         "showticklabels": true
        },
        "xaxis234": {
         "anchor": "y234",
         "domain": [
          0.3151999999999999,
          0.3495999999999999
         ],
         "gridcolor": "black",
         "gridwidth": 1,
         "linecolor": "black",
         "matches": "x",
         "showgrid": true,
         "showticklabels": true
        },
        "xaxis235": {
         "anchor": "y235",
         "domain": [
          0.3545999999999999,
          0.3889999999999999
         ],
         "gridcolor": "black",
         "gridwidth": 1,
         "linecolor": "black",
         "matches": "x",
         "showgrid": true,
         "showticklabels": true
        },
        "xaxis236": {
         "anchor": "y236",
         "domain": [
          0.3939999999999999,
          0.4283999999999999
         ],
         "gridcolor": "black",
         "gridwidth": 1,
         "linecolor": "black",
         "matches": "x",
         "showgrid": true,
         "showticklabels": true
        },
        "xaxis237": {
         "anchor": "y237",
         "domain": [
          0.4333999999999999,
          0.4677999999999999
         ],
         "gridcolor": "black",
         "gridwidth": 1,
         "linecolor": "black",
         "matches": "x",
         "showgrid": true,
         "showticklabels": true
        },
        "xaxis238": {
         "anchor": "y238",
         "domain": [
          0.4727999999999999,
          0.5071999999999999
         ],
         "gridcolor": "black",
         "gridwidth": 1,
         "linecolor": "black",
         "matches": "x",
         "showgrid": true,
         "showticklabels": true
        },
        "xaxis239": {
         "anchor": "y239",
         "domain": [
          0.5121999999999999,
          0.5465999999999999
         ],
         "gridcolor": "black",
         "gridwidth": 1,
         "linecolor": "black",
         "matches": "x",
         "showgrid": true,
         "showticklabels": true
        },
        "xaxis24": {
         "anchor": "y24",
         "domain": [
          0.9061999999999998,
          0.9405999999999998
         ],
         "gridcolor": "black",
         "gridwidth": 1,
         "linecolor": "black",
         "matches": "x",
         "showgrid": true,
         "showticklabels": true,
         "title": {
          "text": "date"
         }
        },
        "xaxis240": {
         "anchor": "y240",
         "domain": [
          0.5515999999999999,
          0.5859999999999999
         ],
         "gridcolor": "black",
         "gridwidth": 1,
         "linecolor": "black",
         "matches": "x",
         "showgrid": true,
         "showticklabels": true
        },
        "xaxis241": {
         "anchor": "y241",
         "domain": [
          0.5909999999999999,
          0.6253999999999998
         ],
         "gridcolor": "black",
         "gridwidth": 1,
         "linecolor": "black",
         "matches": "x",
         "showgrid": true,
         "showticklabels": true
        },
        "xaxis242": {
         "anchor": "y242",
         "domain": [
          0.6303999999999998,
          0.6647999999999998
         ],
         "gridcolor": "black",
         "gridwidth": 1,
         "linecolor": "black",
         "matches": "x",
         "showgrid": true,
         "showticklabels": true
        },
        "xaxis243": {
         "anchor": "y243",
         "domain": [
          0.6697999999999998,
          0.7041999999999998
         ],
         "gridcolor": "black",
         "gridwidth": 1,
         "linecolor": "black",
         "matches": "x",
         "showgrid": true,
         "showticklabels": true
        },
        "xaxis244": {
         "anchor": "y244",
         "domain": [
          0.7091999999999998,
          0.7435999999999998
         ],
         "gridcolor": "black",
         "gridwidth": 1,
         "linecolor": "black",
         "matches": "x",
         "showgrid": true,
         "showticklabels": true
        },
        "xaxis245": {
         "anchor": "y245",
         "domain": [
          0.7485999999999998,
          0.7829999999999998
         ],
         "gridcolor": "black",
         "gridwidth": 1,
         "linecolor": "black",
         "matches": "x",
         "showgrid": true,
         "showticklabels": true
        },
        "xaxis246": {
         "anchor": "y246",
         "domain": [
          0.7879999999999998,
          0.8223999999999998
         ],
         "gridcolor": "black",
         "gridwidth": 1,
         "linecolor": "black",
         "matches": "x",
         "showgrid": true,
         "showticklabels": true
        },
        "xaxis247": {
         "anchor": "y247",
         "domain": [
          0.8273999999999998,
          0.8617999999999998
         ],
         "gridcolor": "black",
         "gridwidth": 1,
         "linecolor": "black",
         "matches": "x",
         "showgrid": true,
         "showticklabels": true
        },
        "xaxis248": {
         "anchor": "y248",
         "domain": [
          0.8667999999999998,
          0.9011999999999998
         ],
         "gridcolor": "black",
         "gridwidth": 1,
         "linecolor": "black",
         "matches": "x",
         "showgrid": true,
         "showticklabels": true
        },
        "xaxis249": {
         "anchor": "y249",
         "domain": [
          0.9061999999999998,
          0.9405999999999998
         ],
         "gridcolor": "black",
         "gridwidth": 1,
         "linecolor": "black",
         "matches": "x",
         "showgrid": true,
         "showticklabels": true
        },
        "xaxis25": {
         "anchor": "y25",
         "domain": [
          0.9455999999999998,
          0.9799999999999998
         ],
         "gridcolor": "black",
         "gridwidth": 1,
         "linecolor": "black",
         "matches": "x",
         "showgrid": true,
         "showticklabels": true,
         "title": {
          "text": "date"
         }
        },
        "xaxis250": {
         "anchor": "y250",
         "domain": [
          0.9455999999999998,
          0.9799999999999998
         ],
         "gridcolor": "black",
         "gridwidth": 1,
         "linecolor": "black",
         "matches": "x",
         "showgrid": true,
         "showticklabels": true
        },
        "xaxis251": {
         "anchor": "y251",
         "domain": [
          0,
          0.0344
         ],
         "gridcolor": "black",
         "gridwidth": 1,
         "linecolor": "black",
         "matches": "x",
         "showgrid": true,
         "showticklabels": true
        },
        "xaxis252": {
         "anchor": "y252",
         "domain": [
          0.0394,
          0.0738
         ],
         "gridcolor": "black",
         "gridwidth": 1,
         "linecolor": "black",
         "matches": "x",
         "showgrid": true,
         "showticklabels": true
        },
        "xaxis253": {
         "anchor": "y253",
         "domain": [
          0.0788,
          0.1132
         ],
         "gridcolor": "black",
         "gridwidth": 1,
         "linecolor": "black",
         "matches": "x",
         "showgrid": true,
         "showticklabels": true
        },
        "xaxis254": {
         "anchor": "y254",
         "domain": [
          0.1182,
          0.1526
         ],
         "gridcolor": "black",
         "gridwidth": 1,
         "linecolor": "black",
         "matches": "x",
         "showgrid": true,
         "showticklabels": true
        },
        "xaxis255": {
         "anchor": "y255",
         "domain": [
          0.1576,
          0.192
         ],
         "gridcolor": "black",
         "gridwidth": 1,
         "linecolor": "black",
         "matches": "x",
         "showgrid": true,
         "showticklabels": true
        },
        "xaxis256": {
         "anchor": "y256",
         "domain": [
          0.19699999999999998,
          0.2314
         ],
         "gridcolor": "black",
         "gridwidth": 1,
         "linecolor": "black",
         "matches": "x",
         "showgrid": true,
         "showticklabels": true
        },
        "xaxis257": {
         "anchor": "y257",
         "domain": [
          0.23639999999999997,
          0.2708
         ],
         "gridcolor": "black",
         "gridwidth": 1,
         "linecolor": "black",
         "matches": "x",
         "showgrid": true,
         "showticklabels": true
        },
        "xaxis258": {
         "anchor": "y258",
         "domain": [
          0.27579999999999993,
          0.3101999999999999
         ],
         "gridcolor": "black",
         "gridwidth": 1,
         "linecolor": "black",
         "matches": "x",
         "showgrid": true,
         "showticklabels": true
        },
        "xaxis259": {
         "anchor": "y259",
         "domain": [
          0.3151999999999999,
          0.3495999999999999
         ],
         "gridcolor": "black",
         "gridwidth": 1,
         "linecolor": "black",
         "matches": "x",
         "showgrid": true,
         "showticklabels": true
        },
        "xaxis26": {
         "anchor": "y26",
         "domain": [
          0,
          0.0344
         ],
         "gridcolor": "black",
         "gridwidth": 1,
         "linecolor": "black",
         "matches": "x",
         "showgrid": true,
         "showticklabels": true
        },
        "xaxis260": {
         "anchor": "y260",
         "domain": [
          0.3545999999999999,
          0.3889999999999999
         ],
         "gridcolor": "black",
         "gridwidth": 1,
         "linecolor": "black",
         "matches": "x",
         "showgrid": true,
         "showticklabels": true
        },
        "xaxis261": {
         "anchor": "y261",
         "domain": [
          0.3939999999999999,
          0.4283999999999999
         ],
         "gridcolor": "black",
         "gridwidth": 1,
         "linecolor": "black",
         "matches": "x",
         "showgrid": true,
         "showticklabels": true
        },
        "xaxis262": {
         "anchor": "y262",
         "domain": [
          0.4333999999999999,
          0.4677999999999999
         ],
         "gridcolor": "black",
         "gridwidth": 1,
         "linecolor": "black",
         "matches": "x",
         "showgrid": true,
         "showticklabels": true
        },
        "xaxis263": {
         "anchor": "y263",
         "domain": [
          0.4727999999999999,
          0.5071999999999999
         ],
         "gridcolor": "black",
         "gridwidth": 1,
         "linecolor": "black",
         "matches": "x",
         "showgrid": true,
         "showticklabels": true
        },
        "xaxis264": {
         "anchor": "y264",
         "domain": [
          0.5121999999999999,
          0.5465999999999999
         ],
         "gridcolor": "black",
         "gridwidth": 1,
         "linecolor": "black",
         "matches": "x",
         "showgrid": true,
         "showticklabels": true
        },
        "xaxis265": {
         "anchor": "y265",
         "domain": [
          0.5515999999999999,
          0.5859999999999999
         ],
         "gridcolor": "black",
         "gridwidth": 1,
         "linecolor": "black",
         "matches": "x",
         "showgrid": true,
         "showticklabels": true
        },
        "xaxis266": {
         "anchor": "y266",
         "domain": [
          0.5909999999999999,
          0.6253999999999998
         ],
         "gridcolor": "black",
         "gridwidth": 1,
         "linecolor": "black",
         "matches": "x",
         "showgrid": true,
         "showticklabels": true
        },
        "xaxis267": {
         "anchor": "y267",
         "domain": [
          0.6303999999999998,
          0.6647999999999998
         ],
         "gridcolor": "black",
         "gridwidth": 1,
         "linecolor": "black",
         "matches": "x",
         "showgrid": true,
         "showticklabels": true
        },
        "xaxis268": {
         "anchor": "y268",
         "domain": [
          0.6697999999999998,
          0.7041999999999998
         ],
         "gridcolor": "black",
         "gridwidth": 1,
         "linecolor": "black",
         "matches": "x",
         "showgrid": true,
         "showticklabels": true
        },
        "xaxis269": {
         "anchor": "y269",
         "domain": [
          0.7091999999999998,
          0.7435999999999998
         ],
         "gridcolor": "black",
         "gridwidth": 1,
         "linecolor": "black",
         "matches": "x",
         "showgrid": true,
         "showticklabels": true
        },
        "xaxis27": {
         "anchor": "y27",
         "domain": [
          0.0394,
          0.0738
         ],
         "gridcolor": "black",
         "gridwidth": 1,
         "linecolor": "black",
         "matches": "x",
         "showgrid": true,
         "showticklabels": true
        },
        "xaxis270": {
         "anchor": "y270",
         "domain": [
          0.7485999999999998,
          0.7829999999999998
         ],
         "gridcolor": "black",
         "gridwidth": 1,
         "linecolor": "black",
         "matches": "x",
         "showgrid": true,
         "showticklabels": true
        },
        "xaxis271": {
         "anchor": "y271",
         "domain": [
          0.7879999999999998,
          0.8223999999999998
         ],
         "gridcolor": "black",
         "gridwidth": 1,
         "linecolor": "black",
         "matches": "x",
         "showgrid": true,
         "showticklabels": true
        },
        "xaxis272": {
         "anchor": "y272",
         "domain": [
          0.8273999999999998,
          0.8617999999999998
         ],
         "gridcolor": "black",
         "gridwidth": 1,
         "linecolor": "black",
         "matches": "x",
         "showgrid": true,
         "showticklabels": true
        },
        "xaxis273": {
         "anchor": "y273",
         "domain": [
          0.8667999999999998,
          0.9011999999999998
         ],
         "gridcolor": "black",
         "gridwidth": 1,
         "linecolor": "black",
         "matches": "x",
         "showgrid": true,
         "showticklabels": true
        },
        "xaxis274": {
         "anchor": "y274",
         "domain": [
          0.9061999999999998,
          0.9405999999999998
         ],
         "gridcolor": "black",
         "gridwidth": 1,
         "linecolor": "black",
         "matches": "x",
         "showgrid": true,
         "showticklabels": true
        },
        "xaxis275": {
         "anchor": "y275",
         "domain": [
          0.9455999999999998,
          0.9799999999999998
         ],
         "gridcolor": "black",
         "gridwidth": 1,
         "linecolor": "black",
         "matches": "x",
         "showgrid": true,
         "showticklabels": true
        },
        "xaxis276": {
         "anchor": "y276",
         "domain": [
          0,
          0.0344
         ],
         "gridcolor": "black",
         "gridwidth": 1,
         "linecolor": "black",
         "matches": "x",
         "showgrid": true,
         "showticklabels": true
        },
        "xaxis277": {
         "anchor": "y277",
         "domain": [
          0.0394,
          0.0738
         ],
         "gridcolor": "black",
         "gridwidth": 1,
         "linecolor": "black",
         "matches": "x",
         "showgrid": true,
         "showticklabels": true
        },
        "xaxis278": {
         "anchor": "y278",
         "domain": [
          0.0788,
          0.1132
         ],
         "gridcolor": "black",
         "gridwidth": 1,
         "linecolor": "black",
         "matches": "x",
         "showgrid": true,
         "showticklabels": true
        },
        "xaxis279": {
         "anchor": "y279",
         "domain": [
          0.1182,
          0.1526
         ],
         "gridcolor": "black",
         "gridwidth": 1,
         "linecolor": "black",
         "matches": "x",
         "showgrid": true,
         "showticklabels": true
        },
        "xaxis28": {
         "anchor": "y28",
         "domain": [
          0.0788,
          0.1132
         ],
         "gridcolor": "black",
         "gridwidth": 1,
         "linecolor": "black",
         "matches": "x",
         "showgrid": true,
         "showticklabels": true
        },
        "xaxis280": {
         "anchor": "y280",
         "domain": [
          0.1576,
          0.192
         ],
         "gridcolor": "black",
         "gridwidth": 1,
         "linecolor": "black",
         "matches": "x",
         "showgrid": true,
         "showticklabels": true
        },
        "xaxis281": {
         "anchor": "y281",
         "domain": [
          0.19699999999999998,
          0.2314
         ],
         "gridcolor": "black",
         "gridwidth": 1,
         "linecolor": "black",
         "matches": "x",
         "showgrid": true,
         "showticklabels": true
        },
        "xaxis282": {
         "anchor": "y282",
         "domain": [
          0.23639999999999997,
          0.2708
         ],
         "gridcolor": "black",
         "gridwidth": 1,
         "linecolor": "black",
         "matches": "x",
         "showgrid": true,
         "showticklabels": true
        },
        "xaxis283": {
         "anchor": "y283",
         "domain": [
          0.27579999999999993,
          0.3101999999999999
         ],
         "gridcolor": "black",
         "gridwidth": 1,
         "linecolor": "black",
         "matches": "x",
         "showgrid": true,
         "showticklabels": true
        },
        "xaxis284": {
         "anchor": "y284",
         "domain": [
          0.3151999999999999,
          0.3495999999999999
         ],
         "gridcolor": "black",
         "gridwidth": 1,
         "linecolor": "black",
         "matches": "x",
         "showgrid": true,
         "showticklabels": true
        },
        "xaxis285": {
         "anchor": "y285",
         "domain": [
          0.3545999999999999,
          0.3889999999999999
         ],
         "gridcolor": "black",
         "gridwidth": 1,
         "linecolor": "black",
         "matches": "x",
         "showgrid": true,
         "showticklabels": true
        },
        "xaxis286": {
         "anchor": "y286",
         "domain": [
          0.3939999999999999,
          0.4283999999999999
         ],
         "gridcolor": "black",
         "gridwidth": 1,
         "linecolor": "black",
         "matches": "x",
         "showgrid": true,
         "showticklabels": true
        },
        "xaxis287": {
         "anchor": "y287",
         "domain": [
          0.4333999999999999,
          0.4677999999999999
         ],
         "gridcolor": "black",
         "gridwidth": 1,
         "linecolor": "black",
         "matches": "x",
         "showgrid": true,
         "showticklabels": true
        },
        "xaxis288": {
         "anchor": "y288",
         "domain": [
          0.4727999999999999,
          0.5071999999999999
         ],
         "gridcolor": "black",
         "gridwidth": 1,
         "linecolor": "black",
         "matches": "x",
         "showgrid": true,
         "showticklabels": true
        },
        "xaxis289": {
         "anchor": "y289",
         "domain": [
          0.5121999999999999,
          0.5465999999999999
         ],
         "gridcolor": "black",
         "gridwidth": 1,
         "linecolor": "black",
         "matches": "x",
         "showgrid": true,
         "showticklabels": true
        },
        "xaxis29": {
         "anchor": "y29",
         "domain": [
          0.1182,
          0.1526
         ],
         "gridcolor": "black",
         "gridwidth": 1,
         "linecolor": "black",
         "matches": "x",
         "showgrid": true,
         "showticklabels": true
        },
        "xaxis290": {
         "anchor": "y290",
         "domain": [
          0.5515999999999999,
          0.5859999999999999
         ],
         "gridcolor": "black",
         "gridwidth": 1,
         "linecolor": "black",
         "matches": "x",
         "showgrid": true,
         "showticklabels": true
        },
        "xaxis291": {
         "anchor": "y291",
         "domain": [
          0.5909999999999999,
          0.6253999999999998
         ],
         "gridcolor": "black",
         "gridwidth": 1,
         "linecolor": "black",
         "matches": "x",
         "showgrid": true,
         "showticklabels": true
        },
        "xaxis292": {
         "anchor": "y292",
         "domain": [
          0.6303999999999998,
          0.6647999999999998
         ],
         "gridcolor": "black",
         "gridwidth": 1,
         "linecolor": "black",
         "matches": "x",
         "showgrid": true,
         "showticklabels": true
        },
        "xaxis293": {
         "anchor": "y293",
         "domain": [
          0.6697999999999998,
          0.7041999999999998
         ],
         "gridcolor": "black",
         "gridwidth": 1,
         "linecolor": "black",
         "matches": "x",
         "showgrid": true,
         "showticklabels": true
        },
        "xaxis294": {
         "anchor": "y294",
         "domain": [
          0.7091999999999998,
          0.7435999999999998
         ],
         "gridcolor": "black",
         "gridwidth": 1,
         "linecolor": "black",
         "matches": "x",
         "showgrid": true,
         "showticklabels": true
        },
        "xaxis295": {
         "anchor": "y295",
         "domain": [
          0.7485999999999998,
          0.7829999999999998
         ],
         "gridcolor": "black",
         "gridwidth": 1,
         "linecolor": "black",
         "matches": "x",
         "showgrid": true,
         "showticklabels": true
        },
        "xaxis296": {
         "anchor": "y296",
         "domain": [
          0.7879999999999998,
          0.8223999999999998
         ],
         "gridcolor": "black",
         "gridwidth": 1,
         "linecolor": "black",
         "matches": "x",
         "showgrid": true,
         "showticklabels": true
        },
        "xaxis297": {
         "anchor": "y297",
         "domain": [
          0.8273999999999998,
          0.8617999999999998
         ],
         "gridcolor": "black",
         "gridwidth": 1,
         "linecolor": "black",
         "matches": "x",
         "showgrid": true,
         "showticklabels": true
        },
        "xaxis298": {
         "anchor": "y298",
         "domain": [
          0.8667999999999998,
          0.9011999999999998
         ],
         "gridcolor": "black",
         "gridwidth": 1,
         "linecolor": "black",
         "matches": "x",
         "showgrid": true,
         "showticklabels": true
        },
        "xaxis299": {
         "anchor": "y299",
         "domain": [
          0.9061999999999998,
          0.9405999999999998
         ],
         "gridcolor": "black",
         "gridwidth": 1,
         "linecolor": "black",
         "matches": "x",
         "showgrid": true,
         "showticklabels": true
        },
        "xaxis3": {
         "anchor": "y3",
         "domain": [
          0.0788,
          0.1132
         ],
         "gridcolor": "black",
         "gridwidth": 1,
         "linecolor": "black",
         "matches": "x",
         "showgrid": true,
         "showticklabels": true,
         "title": {
          "text": "date"
         }
        },
        "xaxis30": {
         "anchor": "y30",
         "domain": [
          0.1576,
          0.192
         ],
         "gridcolor": "black",
         "gridwidth": 1,
         "linecolor": "black",
         "matches": "x",
         "showgrid": true,
         "showticklabels": true
        },
        "xaxis300": {
         "anchor": "y300",
         "domain": [
          0.9455999999999998,
          0.9799999999999998
         ],
         "gridcolor": "black",
         "gridwidth": 1,
         "linecolor": "black",
         "matches": "x",
         "showgrid": true,
         "showticklabels": true
        },
        "xaxis301": {
         "anchor": "y301",
         "domain": [
          0,
          0.0344
         ],
         "gridcolor": "black",
         "gridwidth": 1,
         "linecolor": "black",
         "matches": "x",
         "showgrid": true,
         "showticklabels": true
        },
        "xaxis302": {
         "anchor": "y302",
         "domain": [
          0.0394,
          0.0738
         ],
         "gridcolor": "black",
         "gridwidth": 1,
         "linecolor": "black",
         "matches": "x",
         "showgrid": true,
         "showticklabels": true
        },
        "xaxis303": {
         "anchor": "y303",
         "domain": [
          0.0788,
          0.1132
         ],
         "gridcolor": "black",
         "gridwidth": 1,
         "linecolor": "black",
         "matches": "x",
         "showgrid": true,
         "showticklabels": true
        },
        "xaxis304": {
         "anchor": "y304",
         "domain": [
          0.1182,
          0.1526
         ],
         "gridcolor": "black",
         "gridwidth": 1,
         "linecolor": "black",
         "matches": "x",
         "showgrid": true,
         "showticklabels": true
        },
        "xaxis305": {
         "anchor": "y305",
         "domain": [
          0.1576,
          0.192
         ],
         "gridcolor": "black",
         "gridwidth": 1,
         "linecolor": "black",
         "matches": "x",
         "showgrid": true,
         "showticklabels": true
        },
        "xaxis306": {
         "anchor": "y306",
         "domain": [
          0.19699999999999998,
          0.2314
         ],
         "gridcolor": "black",
         "gridwidth": 1,
         "linecolor": "black",
         "matches": "x",
         "showgrid": true,
         "showticklabels": true
        },
        "xaxis307": {
         "anchor": "y307",
         "domain": [
          0.23639999999999997,
          0.2708
         ],
         "gridcolor": "black",
         "gridwidth": 1,
         "linecolor": "black",
         "matches": "x",
         "showgrid": true,
         "showticklabels": true
        },
        "xaxis308": {
         "anchor": "y308",
         "domain": [
          0.27579999999999993,
          0.3101999999999999
         ],
         "gridcolor": "black",
         "gridwidth": 1,
         "linecolor": "black",
         "matches": "x",
         "showgrid": true,
         "showticklabels": true
        },
        "xaxis309": {
         "anchor": "y309",
         "domain": [
          0.3151999999999999,
          0.3495999999999999
         ],
         "gridcolor": "black",
         "gridwidth": 1,
         "linecolor": "black",
         "matches": "x",
         "showgrid": true,
         "showticklabels": true
        },
        "xaxis31": {
         "anchor": "y31",
         "domain": [
          0.19699999999999998,
          0.2314
         ],
         "gridcolor": "black",
         "gridwidth": 1,
         "linecolor": "black",
         "matches": "x",
         "showgrid": true,
         "showticklabels": true
        },
        "xaxis310": {
         "anchor": "y310",
         "domain": [
          0.3545999999999999,
          0.3889999999999999
         ],
         "gridcolor": "black",
         "gridwidth": 1,
         "linecolor": "black",
         "matches": "x",
         "showgrid": true,
         "showticklabels": true
        },
        "xaxis311": {
         "anchor": "y311",
         "domain": [
          0.3939999999999999,
          0.4283999999999999
         ],
         "gridcolor": "black",
         "gridwidth": 1,
         "linecolor": "black",
         "matches": "x",
         "showgrid": true,
         "showticklabels": true
        },
        "xaxis312": {
         "anchor": "y312",
         "domain": [
          0.4333999999999999,
          0.4677999999999999
         ],
         "gridcolor": "black",
         "gridwidth": 1,
         "linecolor": "black",
         "matches": "x",
         "showgrid": true,
         "showticklabels": true
        },
        "xaxis313": {
         "anchor": "y313",
         "domain": [
          0.4727999999999999,
          0.5071999999999999
         ],
         "gridcolor": "black",
         "gridwidth": 1,
         "linecolor": "black",
         "matches": "x",
         "showgrid": true,
         "showticklabels": true
        },
        "xaxis314": {
         "anchor": "y314",
         "domain": [
          0.5121999999999999,
          0.5465999999999999
         ],
         "gridcolor": "black",
         "gridwidth": 1,
         "linecolor": "black",
         "matches": "x",
         "showgrid": true,
         "showticklabels": true
        },
        "xaxis315": {
         "anchor": "y315",
         "domain": [
          0.5515999999999999,
          0.5859999999999999
         ],
         "gridcolor": "black",
         "gridwidth": 1,
         "linecolor": "black",
         "matches": "x",
         "showgrid": true,
         "showticklabels": true
        },
        "xaxis316": {
         "anchor": "y316",
         "domain": [
          0.5909999999999999,
          0.6253999999999998
         ],
         "gridcolor": "black",
         "gridwidth": 1,
         "linecolor": "black",
         "matches": "x",
         "showgrid": true,
         "showticklabels": true
        },
        "xaxis317": {
         "anchor": "y317",
         "domain": [
          0.6303999999999998,
          0.6647999999999998
         ],
         "gridcolor": "black",
         "gridwidth": 1,
         "linecolor": "black",
         "matches": "x",
         "showgrid": true,
         "showticklabels": true
        },
        "xaxis318": {
         "anchor": "y318",
         "domain": [
          0.6697999999999998,
          0.7041999999999998
         ],
         "gridcolor": "black",
         "gridwidth": 1,
         "linecolor": "black",
         "matches": "x",
         "showgrid": true,
         "showticklabels": true
        },
        "xaxis319": {
         "anchor": "y319",
         "domain": [
          0.7091999999999998,
          0.7435999999999998
         ],
         "gridcolor": "black",
         "gridwidth": 1,
         "linecolor": "black",
         "matches": "x",
         "showgrid": true,
         "showticklabels": true
        },
        "xaxis32": {
         "anchor": "y32",
         "domain": [
          0.23639999999999997,
          0.2708
         ],
         "gridcolor": "black",
         "gridwidth": 1,
         "linecolor": "black",
         "matches": "x",
         "showgrid": true,
         "showticklabels": true
        },
        "xaxis320": {
         "anchor": "y320",
         "domain": [
          0.7485999999999998,
          0.7829999999999998
         ],
         "gridcolor": "black",
         "gridwidth": 1,
         "linecolor": "black",
         "matches": "x",
         "showgrid": true,
         "showticklabels": true
        },
        "xaxis321": {
         "anchor": "y321",
         "domain": [
          0.7879999999999998,
          0.8223999999999998
         ],
         "gridcolor": "black",
         "gridwidth": 1,
         "linecolor": "black",
         "matches": "x",
         "showgrid": true,
         "showticklabels": true
        },
        "xaxis322": {
         "anchor": "y322",
         "domain": [
          0.8273999999999998,
          0.8617999999999998
         ],
         "gridcolor": "black",
         "gridwidth": 1,
         "linecolor": "black",
         "matches": "x",
         "showgrid": true,
         "showticklabels": true
        },
        "xaxis323": {
         "anchor": "y323",
         "domain": [
          0.8667999999999998,
          0.9011999999999998
         ],
         "gridcolor": "black",
         "gridwidth": 1,
         "linecolor": "black",
         "matches": "x",
         "showgrid": true,
         "showticklabels": true
        },
        "xaxis324": {
         "anchor": "y324",
         "domain": [
          0.9061999999999998,
          0.9405999999999998
         ],
         "gridcolor": "black",
         "gridwidth": 1,
         "linecolor": "black",
         "matches": "x",
         "showgrid": true,
         "showticklabels": true
        },
        "xaxis325": {
         "anchor": "y325",
         "domain": [
          0.9455999999999998,
          0.9799999999999998
         ],
         "gridcolor": "black",
         "gridwidth": 1,
         "linecolor": "black",
         "matches": "x",
         "showgrid": true,
         "showticklabels": true
        },
        "xaxis326": {
         "anchor": "y326",
         "domain": [
          0,
          0.0344
         ],
         "gridcolor": "black",
         "gridwidth": 1,
         "linecolor": "black",
         "matches": "x",
         "showgrid": true,
         "showticklabels": true
        },
        "xaxis327": {
         "anchor": "y327",
         "domain": [
          0.0394,
          0.0738
         ],
         "gridcolor": "black",
         "gridwidth": 1,
         "linecolor": "black",
         "matches": "x",
         "showgrid": true,
         "showticklabels": true
        },
        "xaxis328": {
         "anchor": "y328",
         "domain": [
          0.0788,
          0.1132
         ],
         "gridcolor": "black",
         "gridwidth": 1,
         "linecolor": "black",
         "matches": "x",
         "showgrid": true,
         "showticklabels": true
        },
        "xaxis329": {
         "anchor": "y329",
         "domain": [
          0.1182,
          0.1526
         ],
         "gridcolor": "black",
         "gridwidth": 1,
         "linecolor": "black",
         "matches": "x",
         "showgrid": true,
         "showticklabels": true
        },
        "xaxis33": {
         "anchor": "y33",
         "domain": [
          0.27579999999999993,
          0.3101999999999999
         ],
         "gridcolor": "black",
         "gridwidth": 1,
         "linecolor": "black",
         "matches": "x",
         "showgrid": true,
         "showticklabels": true
        },
        "xaxis330": {
         "anchor": "y330",
         "domain": [
          0.1576,
          0.192
         ],
         "gridcolor": "black",
         "gridwidth": 1,
         "linecolor": "black",
         "matches": "x",
         "showgrid": true,
         "showticklabels": true
        },
        "xaxis331": {
         "anchor": "y331",
         "domain": [
          0.19699999999999998,
          0.2314
         ],
         "gridcolor": "black",
         "gridwidth": 1,
         "linecolor": "black",
         "matches": "x",
         "showgrid": true,
         "showticklabels": true
        },
        "xaxis332": {
         "anchor": "y332",
         "domain": [
          0.23639999999999997,
          0.2708
         ],
         "gridcolor": "black",
         "gridwidth": 1,
         "linecolor": "black",
         "matches": "x",
         "showgrid": true,
         "showticklabels": true
        },
        "xaxis333": {
         "anchor": "y333",
         "domain": [
          0.27579999999999993,
          0.3101999999999999
         ],
         "gridcolor": "black",
         "gridwidth": 1,
         "linecolor": "black",
         "matches": "x",
         "showgrid": true,
         "showticklabels": true
        },
        "xaxis334": {
         "anchor": "y334",
         "domain": [
          0.3151999999999999,
          0.3495999999999999
         ],
         "gridcolor": "black",
         "gridwidth": 1,
         "linecolor": "black",
         "matches": "x",
         "showgrid": true,
         "showticklabels": true
        },
        "xaxis335": {
         "anchor": "y335",
         "domain": [
          0.3545999999999999,
          0.3889999999999999
         ],
         "gridcolor": "black",
         "gridwidth": 1,
         "linecolor": "black",
         "matches": "x",
         "showgrid": true,
         "showticklabels": true
        },
        "xaxis336": {
         "anchor": "y336",
         "domain": [
          0.3939999999999999,
          0.4283999999999999
         ],
         "gridcolor": "black",
         "gridwidth": 1,
         "linecolor": "black",
         "matches": "x",
         "showgrid": true,
         "showticklabels": true
        },
        "xaxis337": {
         "anchor": "y337",
         "domain": [
          0.4333999999999999,
          0.4677999999999999
         ],
         "gridcolor": "black",
         "gridwidth": 1,
         "linecolor": "black",
         "matches": "x",
         "showgrid": true,
         "showticklabels": true
        },
        "xaxis338": {
         "anchor": "y338",
         "domain": [
          0.4727999999999999,
          0.5071999999999999
         ],
         "gridcolor": "black",
         "gridwidth": 1,
         "linecolor": "black",
         "matches": "x",
         "showgrid": true,
         "showticklabels": true
        },
        "xaxis339": {
         "anchor": "y339",
         "domain": [
          0.5121999999999999,
          0.5465999999999999
         ],
         "gridcolor": "black",
         "gridwidth": 1,
         "linecolor": "black",
         "matches": "x",
         "showgrid": true,
         "showticklabels": true
        },
        "xaxis34": {
         "anchor": "y34",
         "domain": [
          0.3151999999999999,
          0.3495999999999999
         ],
         "gridcolor": "black",
         "gridwidth": 1,
         "linecolor": "black",
         "matches": "x",
         "showgrid": true,
         "showticklabels": true
        },
        "xaxis340": {
         "anchor": "y340",
         "domain": [
          0.5515999999999999,
          0.5859999999999999
         ],
         "gridcolor": "black",
         "gridwidth": 1,
         "linecolor": "black",
         "matches": "x",
         "showgrid": true,
         "showticklabels": true
        },
        "xaxis341": {
         "anchor": "y341",
         "domain": [
          0.5909999999999999,
          0.6253999999999998
         ],
         "gridcolor": "black",
         "gridwidth": 1,
         "linecolor": "black",
         "matches": "x",
         "showgrid": true,
         "showticklabels": true
        },
        "xaxis342": {
         "anchor": "y342",
         "domain": [
          0.6303999999999998,
          0.6647999999999998
         ],
         "gridcolor": "black",
         "gridwidth": 1,
         "linecolor": "black",
         "matches": "x",
         "showgrid": true,
         "showticklabels": true
        },
        "xaxis343": {
         "anchor": "y343",
         "domain": [
          0.6697999999999998,
          0.7041999999999998
         ],
         "gridcolor": "black",
         "gridwidth": 1,
         "linecolor": "black",
         "matches": "x",
         "showgrid": true,
         "showticklabels": true
        },
        "xaxis344": {
         "anchor": "y344",
         "domain": [
          0.7091999999999998,
          0.7435999999999998
         ],
         "gridcolor": "black",
         "gridwidth": 1,
         "linecolor": "black",
         "matches": "x",
         "showgrid": true,
         "showticklabels": true
        },
        "xaxis345": {
         "anchor": "y345",
         "domain": [
          0.7485999999999998,
          0.7829999999999998
         ],
         "gridcolor": "black",
         "gridwidth": 1,
         "linecolor": "black",
         "matches": "x",
         "showgrid": true,
         "showticklabels": true
        },
        "xaxis346": {
         "anchor": "y346",
         "domain": [
          0.7879999999999998,
          0.8223999999999998
         ],
         "gridcolor": "black",
         "gridwidth": 1,
         "linecolor": "black",
         "matches": "x",
         "showgrid": true,
         "showticklabels": true
        },
        "xaxis347": {
         "anchor": "y347",
         "domain": [
          0.8273999999999998,
          0.8617999999999998
         ],
         "gridcolor": "black",
         "gridwidth": 1,
         "linecolor": "black",
         "matches": "x",
         "showgrid": true,
         "showticklabels": true
        },
        "xaxis348": {
         "anchor": "y348",
         "domain": [
          0.8667999999999998,
          0.9011999999999998
         ],
         "gridcolor": "black",
         "gridwidth": 1,
         "linecolor": "black",
         "matches": "x",
         "showgrid": true,
         "showticklabels": true
        },
        "xaxis349": {
         "anchor": "y349",
         "domain": [
          0.9061999999999998,
          0.9405999999999998
         ],
         "gridcolor": "black",
         "gridwidth": 1,
         "linecolor": "black",
         "matches": "x",
         "showgrid": true,
         "showticklabels": true
        },
        "xaxis35": {
         "anchor": "y35",
         "domain": [
          0.3545999999999999,
          0.3889999999999999
         ],
         "gridcolor": "black",
         "gridwidth": 1,
         "linecolor": "black",
         "matches": "x",
         "showgrid": true,
         "showticklabels": true
        },
        "xaxis350": {
         "anchor": "y350",
         "domain": [
          0.9455999999999998,
          0.9799999999999998
         ],
         "gridcolor": "black",
         "gridwidth": 1,
         "linecolor": "black",
         "matches": "x",
         "showgrid": true,
         "showticklabels": true
        },
        "xaxis36": {
         "anchor": "y36",
         "domain": [
          0.3939999999999999,
          0.4283999999999999
         ],
         "gridcolor": "black",
         "gridwidth": 1,
         "linecolor": "black",
         "matches": "x",
         "showgrid": true,
         "showticklabels": true
        },
        "xaxis37": {
         "anchor": "y37",
         "domain": [
          0.4333999999999999,
          0.4677999999999999
         ],
         "gridcolor": "black",
         "gridwidth": 1,
         "linecolor": "black",
         "matches": "x",
         "showgrid": true,
         "showticklabels": true
        },
        "xaxis38": {
         "anchor": "y38",
         "domain": [
          0.4727999999999999,
          0.5071999999999999
         ],
         "gridcolor": "black",
         "gridwidth": 1,
         "linecolor": "black",
         "matches": "x",
         "showgrid": true,
         "showticklabels": true
        },
        "xaxis39": {
         "anchor": "y39",
         "domain": [
          0.5121999999999999,
          0.5465999999999999
         ],
         "gridcolor": "black",
         "gridwidth": 1,
         "linecolor": "black",
         "matches": "x",
         "showgrid": true,
         "showticklabels": true
        },
        "xaxis4": {
         "anchor": "y4",
         "domain": [
          0.1182,
          0.1526
         ],
         "gridcolor": "black",
         "gridwidth": 1,
         "linecolor": "black",
         "matches": "x",
         "showgrid": true,
         "showticklabels": true,
         "title": {
          "text": "date"
         }
        },
        "xaxis40": {
         "anchor": "y40",
         "domain": [
          0.5515999999999999,
          0.5859999999999999
         ],
         "gridcolor": "black",
         "gridwidth": 1,
         "linecolor": "black",
         "matches": "x",
         "showgrid": true,
         "showticklabels": true
        },
        "xaxis41": {
         "anchor": "y41",
         "domain": [
          0.5909999999999999,
          0.6253999999999998
         ],
         "gridcolor": "black",
         "gridwidth": 1,
         "linecolor": "black",
         "matches": "x",
         "showgrid": true,
         "showticklabels": true
        },
        "xaxis42": {
         "anchor": "y42",
         "domain": [
          0.6303999999999998,
          0.6647999999999998
         ],
         "gridcolor": "black",
         "gridwidth": 1,
         "linecolor": "black",
         "matches": "x",
         "showgrid": true,
         "showticklabels": true
        },
        "xaxis43": {
         "anchor": "y43",
         "domain": [
          0.6697999999999998,
          0.7041999999999998
         ],
         "gridcolor": "black",
         "gridwidth": 1,
         "linecolor": "black",
         "matches": "x",
         "showgrid": true,
         "showticklabels": true
        },
        "xaxis44": {
         "anchor": "y44",
         "domain": [
          0.7091999999999998,
          0.7435999999999998
         ],
         "gridcolor": "black",
         "gridwidth": 1,
         "linecolor": "black",
         "matches": "x",
         "showgrid": true,
         "showticklabels": true
        },
        "xaxis45": {
         "anchor": "y45",
         "domain": [
          0.7485999999999998,
          0.7829999999999998
         ],
         "gridcolor": "black",
         "gridwidth": 1,
         "linecolor": "black",
         "matches": "x",
         "showgrid": true,
         "showticklabels": true
        },
        "xaxis46": {
         "anchor": "y46",
         "domain": [
          0.7879999999999998,
          0.8223999999999998
         ],
         "gridcolor": "black",
         "gridwidth": 1,
         "linecolor": "black",
         "matches": "x",
         "showgrid": true,
         "showticklabels": true
        },
        "xaxis47": {
         "anchor": "y47",
         "domain": [
          0.8273999999999998,
          0.8617999999999998
         ],
         "gridcolor": "black",
         "gridwidth": 1,
         "linecolor": "black",
         "matches": "x",
         "showgrid": true,
         "showticklabels": true
        },
        "xaxis48": {
         "anchor": "y48",
         "domain": [
          0.8667999999999998,
          0.9011999999999998
         ],
         "gridcolor": "black",
         "gridwidth": 1,
         "linecolor": "black",
         "matches": "x",
         "showgrid": true,
         "showticklabels": true
        },
        "xaxis49": {
         "anchor": "y49",
         "domain": [
          0.9061999999999998,
          0.9405999999999998
         ],
         "gridcolor": "black",
         "gridwidth": 1,
         "linecolor": "black",
         "matches": "x",
         "showgrid": true,
         "showticklabels": true
        },
        "xaxis5": {
         "anchor": "y5",
         "domain": [
          0.1576,
          0.192
         ],
         "gridcolor": "black",
         "gridwidth": 1,
         "linecolor": "black",
         "matches": "x",
         "showgrid": true,
         "showticklabels": true,
         "title": {
          "text": "date"
         }
        },
        "xaxis50": {
         "anchor": "y50",
         "domain": [
          0.9455999999999998,
          0.9799999999999998
         ],
         "gridcolor": "black",
         "gridwidth": 1,
         "linecolor": "black",
         "matches": "x",
         "showgrid": true,
         "showticklabels": true
        },
        "xaxis51": {
         "anchor": "y51",
         "domain": [
          0,
          0.0344
         ],
         "gridcolor": "black",
         "gridwidth": 1,
         "linecolor": "black",
         "matches": "x",
         "showgrid": true,
         "showticklabels": true
        },
        "xaxis52": {
         "anchor": "y52",
         "domain": [
          0.0394,
          0.0738
         ],
         "gridcolor": "black",
         "gridwidth": 1,
         "linecolor": "black",
         "matches": "x",
         "showgrid": true,
         "showticklabels": true
        },
        "xaxis53": {
         "anchor": "y53",
         "domain": [
          0.0788,
          0.1132
         ],
         "gridcolor": "black",
         "gridwidth": 1,
         "linecolor": "black",
         "matches": "x",
         "showgrid": true,
         "showticklabels": true
        },
        "xaxis54": {
         "anchor": "y54",
         "domain": [
          0.1182,
          0.1526
         ],
         "gridcolor": "black",
         "gridwidth": 1,
         "linecolor": "black",
         "matches": "x",
         "showgrid": true,
         "showticklabels": true
        },
        "xaxis55": {
         "anchor": "y55",
         "domain": [
          0.1576,
          0.192
         ],
         "gridcolor": "black",
         "gridwidth": 1,
         "linecolor": "black",
         "matches": "x",
         "showgrid": true,
         "showticklabels": true
        },
        "xaxis56": {
         "anchor": "y56",
         "domain": [
          0.19699999999999998,
          0.2314
         ],
         "gridcolor": "black",
         "gridwidth": 1,
         "linecolor": "black",
         "matches": "x",
         "showgrid": true,
         "showticklabels": true
        },
        "xaxis57": {
         "anchor": "y57",
         "domain": [
          0.23639999999999997,
          0.2708
         ],
         "gridcolor": "black",
         "gridwidth": 1,
         "linecolor": "black",
         "matches": "x",
         "showgrid": true,
         "showticklabels": true
        },
        "xaxis58": {
         "anchor": "y58",
         "domain": [
          0.27579999999999993,
          0.3101999999999999
         ],
         "gridcolor": "black",
         "gridwidth": 1,
         "linecolor": "black",
         "matches": "x",
         "showgrid": true,
         "showticklabels": true
        },
        "xaxis59": {
         "anchor": "y59",
         "domain": [
          0.3151999999999999,
          0.3495999999999999
         ],
         "gridcolor": "black",
         "gridwidth": 1,
         "linecolor": "black",
         "matches": "x",
         "showgrid": true,
         "showticklabels": true
        },
        "xaxis6": {
         "anchor": "y6",
         "domain": [
          0.19699999999999998,
          0.2314
         ],
         "gridcolor": "black",
         "gridwidth": 1,
         "linecolor": "black",
         "matches": "x",
         "showgrid": true,
         "showticklabels": true,
         "title": {
          "text": "date"
         }
        },
        "xaxis60": {
         "anchor": "y60",
         "domain": [
          0.3545999999999999,
          0.3889999999999999
         ],
         "gridcolor": "black",
         "gridwidth": 1,
         "linecolor": "black",
         "matches": "x",
         "showgrid": true,
         "showticklabels": true
        },
        "xaxis61": {
         "anchor": "y61",
         "domain": [
          0.3939999999999999,
          0.4283999999999999
         ],
         "gridcolor": "black",
         "gridwidth": 1,
         "linecolor": "black",
         "matches": "x",
         "showgrid": true,
         "showticklabels": true
        },
        "xaxis62": {
         "anchor": "y62",
         "domain": [
          0.4333999999999999,
          0.4677999999999999
         ],
         "gridcolor": "black",
         "gridwidth": 1,
         "linecolor": "black",
         "matches": "x",
         "showgrid": true,
         "showticklabels": true
        },
        "xaxis63": {
         "anchor": "y63",
         "domain": [
          0.4727999999999999,
          0.5071999999999999
         ],
         "gridcolor": "black",
         "gridwidth": 1,
         "linecolor": "black",
         "matches": "x",
         "showgrid": true,
         "showticklabels": true
        },
        "xaxis64": {
         "anchor": "y64",
         "domain": [
          0.5121999999999999,
          0.5465999999999999
         ],
         "gridcolor": "black",
         "gridwidth": 1,
         "linecolor": "black",
         "matches": "x",
         "showgrid": true,
         "showticklabels": true
        },
        "xaxis65": {
         "anchor": "y65",
         "domain": [
          0.5515999999999999,
          0.5859999999999999
         ],
         "gridcolor": "black",
         "gridwidth": 1,
         "linecolor": "black",
         "matches": "x",
         "showgrid": true,
         "showticklabels": true
        },
        "xaxis66": {
         "anchor": "y66",
         "domain": [
          0.5909999999999999,
          0.6253999999999998
         ],
         "gridcolor": "black",
         "gridwidth": 1,
         "linecolor": "black",
         "matches": "x",
         "showgrid": true,
         "showticklabels": true
        },
        "xaxis67": {
         "anchor": "y67",
         "domain": [
          0.6303999999999998,
          0.6647999999999998
         ],
         "gridcolor": "black",
         "gridwidth": 1,
         "linecolor": "black",
         "matches": "x",
         "showgrid": true,
         "showticklabels": true
        },
        "xaxis68": {
         "anchor": "y68",
         "domain": [
          0.6697999999999998,
          0.7041999999999998
         ],
         "gridcolor": "black",
         "gridwidth": 1,
         "linecolor": "black",
         "matches": "x",
         "showgrid": true,
         "showticklabels": true
        },
        "xaxis69": {
         "anchor": "y69",
         "domain": [
          0.7091999999999998,
          0.7435999999999998
         ],
         "gridcolor": "black",
         "gridwidth": 1,
         "linecolor": "black",
         "matches": "x",
         "showgrid": true,
         "showticklabels": true
        },
        "xaxis7": {
         "anchor": "y7",
         "domain": [
          0.23639999999999997,
          0.2708
         ],
         "gridcolor": "black",
         "gridwidth": 1,
         "linecolor": "black",
         "matches": "x",
         "showgrid": true,
         "showticklabels": true,
         "title": {
          "text": "date"
         }
        },
        "xaxis70": {
         "anchor": "y70",
         "domain": [
          0.7485999999999998,
          0.7829999999999998
         ],
         "gridcolor": "black",
         "gridwidth": 1,
         "linecolor": "black",
         "matches": "x",
         "showgrid": true,
         "showticklabels": true
        },
        "xaxis71": {
         "anchor": "y71",
         "domain": [
          0.7879999999999998,
          0.8223999999999998
         ],
         "gridcolor": "black",
         "gridwidth": 1,
         "linecolor": "black",
         "matches": "x",
         "showgrid": true,
         "showticklabels": true
        },
        "xaxis72": {
         "anchor": "y72",
         "domain": [
          0.8273999999999998,
          0.8617999999999998
         ],
         "gridcolor": "black",
         "gridwidth": 1,
         "linecolor": "black",
         "matches": "x",
         "showgrid": true,
         "showticklabels": true
        },
        "xaxis73": {
         "anchor": "y73",
         "domain": [
          0.8667999999999998,
          0.9011999999999998
         ],
         "gridcolor": "black",
         "gridwidth": 1,
         "linecolor": "black",
         "matches": "x",
         "showgrid": true,
         "showticklabels": true
        },
        "xaxis74": {
         "anchor": "y74",
         "domain": [
          0.9061999999999998,
          0.9405999999999998
         ],
         "gridcolor": "black",
         "gridwidth": 1,
         "linecolor": "black",
         "matches": "x",
         "showgrid": true,
         "showticklabels": true
        },
        "xaxis75": {
         "anchor": "y75",
         "domain": [
          0.9455999999999998,
          0.9799999999999998
         ],
         "gridcolor": "black",
         "gridwidth": 1,
         "linecolor": "black",
         "matches": "x",
         "showgrid": true,
         "showticklabels": true
        },
        "xaxis76": {
         "anchor": "y76",
         "domain": [
          0,
          0.0344
         ],
         "gridcolor": "black",
         "gridwidth": 1,
         "linecolor": "black",
         "matches": "x",
         "showgrid": true,
         "showticklabels": true
        },
        "xaxis77": {
         "anchor": "y77",
         "domain": [
          0.0394,
          0.0738
         ],
         "gridcolor": "black",
         "gridwidth": 1,
         "linecolor": "black",
         "matches": "x",
         "showgrid": true,
         "showticklabels": true
        },
        "xaxis78": {
         "anchor": "y78",
         "domain": [
          0.0788,
          0.1132
         ],
         "gridcolor": "black",
         "gridwidth": 1,
         "linecolor": "black",
         "matches": "x",
         "showgrid": true,
         "showticklabels": true
        },
        "xaxis79": {
         "anchor": "y79",
         "domain": [
          0.1182,
          0.1526
         ],
         "gridcolor": "black",
         "gridwidth": 1,
         "linecolor": "black",
         "matches": "x",
         "showgrid": true,
         "showticklabels": true
        },
        "xaxis8": {
         "anchor": "y8",
         "domain": [
          0.27579999999999993,
          0.3101999999999999
         ],
         "gridcolor": "black",
         "gridwidth": 1,
         "linecolor": "black",
         "matches": "x",
         "showgrid": true,
         "showticklabels": true,
         "title": {
          "text": "date"
         }
        },
        "xaxis80": {
         "anchor": "y80",
         "domain": [
          0.1576,
          0.192
         ],
         "gridcolor": "black",
         "gridwidth": 1,
         "linecolor": "black",
         "matches": "x",
         "showgrid": true,
         "showticklabels": true
        },
        "xaxis81": {
         "anchor": "y81",
         "domain": [
          0.19699999999999998,
          0.2314
         ],
         "gridcolor": "black",
         "gridwidth": 1,
         "linecolor": "black",
         "matches": "x",
         "showgrid": true,
         "showticklabels": true
        },
        "xaxis82": {
         "anchor": "y82",
         "domain": [
          0.23639999999999997,
          0.2708
         ],
         "gridcolor": "black",
         "gridwidth": 1,
         "linecolor": "black",
         "matches": "x",
         "showgrid": true,
         "showticklabels": true
        },
        "xaxis83": {
         "anchor": "y83",
         "domain": [
          0.27579999999999993,
          0.3101999999999999
         ],
         "gridcolor": "black",
         "gridwidth": 1,
         "linecolor": "black",
         "matches": "x",
         "showgrid": true,
         "showticklabels": true
        },
        "xaxis84": {
         "anchor": "y84",
         "domain": [
          0.3151999999999999,
          0.3495999999999999
         ],
         "gridcolor": "black",
         "gridwidth": 1,
         "linecolor": "black",
         "matches": "x",
         "showgrid": true,
         "showticklabels": true
        },
        "xaxis85": {
         "anchor": "y85",
         "domain": [
          0.3545999999999999,
          0.3889999999999999
         ],
         "gridcolor": "black",
         "gridwidth": 1,
         "linecolor": "black",
         "matches": "x",
         "showgrid": true,
         "showticklabels": true
        },
        "xaxis86": {
         "anchor": "y86",
         "domain": [
          0.3939999999999999,
          0.4283999999999999
         ],
         "gridcolor": "black",
         "gridwidth": 1,
         "linecolor": "black",
         "matches": "x",
         "showgrid": true,
         "showticklabels": true
        },
        "xaxis87": {
         "anchor": "y87",
         "domain": [
          0.4333999999999999,
          0.4677999999999999
         ],
         "gridcolor": "black",
         "gridwidth": 1,
         "linecolor": "black",
         "matches": "x",
         "showgrid": true,
         "showticklabels": true
        },
        "xaxis88": {
         "anchor": "y88",
         "domain": [
          0.4727999999999999,
          0.5071999999999999
         ],
         "gridcolor": "black",
         "gridwidth": 1,
         "linecolor": "black",
         "matches": "x",
         "showgrid": true,
         "showticklabels": true
        },
        "xaxis89": {
         "anchor": "y89",
         "domain": [
          0.5121999999999999,
          0.5465999999999999
         ],
         "gridcolor": "black",
         "gridwidth": 1,
         "linecolor": "black",
         "matches": "x",
         "showgrid": true,
         "showticklabels": true
        },
        "xaxis9": {
         "anchor": "y9",
         "domain": [
          0.3151999999999999,
          0.3495999999999999
         ],
         "gridcolor": "black",
         "gridwidth": 1,
         "linecolor": "black",
         "matches": "x",
         "showgrid": true,
         "showticklabels": true,
         "title": {
          "text": "date"
         }
        },
        "xaxis90": {
         "anchor": "y90",
         "domain": [
          0.5515999999999999,
          0.5859999999999999
         ],
         "gridcolor": "black",
         "gridwidth": 1,
         "linecolor": "black",
         "matches": "x",
         "showgrid": true,
         "showticklabels": true
        },
        "xaxis91": {
         "anchor": "y91",
         "domain": [
          0.5909999999999999,
          0.6253999999999998
         ],
         "gridcolor": "black",
         "gridwidth": 1,
         "linecolor": "black",
         "matches": "x",
         "showgrid": true,
         "showticklabels": true
        },
        "xaxis92": {
         "anchor": "y92",
         "domain": [
          0.6303999999999998,
          0.6647999999999998
         ],
         "gridcolor": "black",
         "gridwidth": 1,
         "linecolor": "black",
         "matches": "x",
         "showgrid": true,
         "showticklabels": true
        },
        "xaxis93": {
         "anchor": "y93",
         "domain": [
          0.6697999999999998,
          0.7041999999999998
         ],
         "gridcolor": "black",
         "gridwidth": 1,
         "linecolor": "black",
         "matches": "x",
         "showgrid": true,
         "showticklabels": true
        },
        "xaxis94": {
         "anchor": "y94",
         "domain": [
          0.7091999999999998,
          0.7435999999999998
         ],
         "gridcolor": "black",
         "gridwidth": 1,
         "linecolor": "black",
         "matches": "x",
         "showgrid": true,
         "showticklabels": true
        },
        "xaxis95": {
         "anchor": "y95",
         "domain": [
          0.7485999999999998,
          0.7829999999999998
         ],
         "gridcolor": "black",
         "gridwidth": 1,
         "linecolor": "black",
         "matches": "x",
         "showgrid": true,
         "showticklabels": true
        },
        "xaxis96": {
         "anchor": "y96",
         "domain": [
          0.7879999999999998,
          0.8223999999999998
         ],
         "gridcolor": "black",
         "gridwidth": 1,
         "linecolor": "black",
         "matches": "x",
         "showgrid": true,
         "showticklabels": true
        },
        "xaxis97": {
         "anchor": "y97",
         "domain": [
          0.8273999999999998,
          0.8617999999999998
         ],
         "gridcolor": "black",
         "gridwidth": 1,
         "linecolor": "black",
         "matches": "x",
         "showgrid": true,
         "showticklabels": true
        },
        "xaxis98": {
         "anchor": "y98",
         "domain": [
          0.8667999999999998,
          0.9011999999999998
         ],
         "gridcolor": "black",
         "gridwidth": 1,
         "linecolor": "black",
         "matches": "x",
         "showgrid": true,
         "showticklabels": true
        },
        "xaxis99": {
         "anchor": "y99",
         "domain": [
          0.9061999999999998,
          0.9405999999999998
         ],
         "gridcolor": "black",
         "gridwidth": 1,
         "linecolor": "black",
         "matches": "x",
         "showgrid": true,
         "showticklabels": true
        },
        "yaxis": {
         "anchor": "x",
         "domain": [
          0,
          0.06298785714285714
         ],
         "gridcolor": "black",
         "gridwidth": 1,
         "linecolor": "black",
         "showgrid": true,
         "showticklabels": true,
         "title": {
          "text": "percent"
         }
        },
        "yaxis10": {
         "anchor": "x10",
         "domain": [
          0,
          0.06298785714285714
         ],
         "gridcolor": "black",
         "gridwidth": 1,
         "linecolor": "black",
         "matches": "y",
         "showgrid": true,
         "showticklabels": true
        },
        "yaxis100": {
         "anchor": "x100",
         "domain": [
          0.21623357142857141,
          0.27922142857142856
         ],
         "gridcolor": "black",
         "gridwidth": 1,
         "linecolor": "black",
         "matches": "y",
         "showgrid": true,
         "showticklabels": true
        },
        "yaxis101": {
         "anchor": "x101",
         "domain": [
          0.28831142857142855,
          0.3512992857142857
         ],
         "gridcolor": "black",
         "gridwidth": 1,
         "linecolor": "black",
         "matches": "y",
         "showgrid": true,
         "showticklabels": true,
         "title": {
          "text": "percent"
         }
        },
        "yaxis102": {
         "anchor": "x102",
         "domain": [
          0.28831142857142855,
          0.3512992857142857
         ],
         "gridcolor": "black",
         "gridwidth": 1,
         "linecolor": "black",
         "matches": "y",
         "showgrid": true,
         "showticklabels": true
        },
        "yaxis103": {
         "anchor": "x103",
         "domain": [
          0.28831142857142855,
          0.3512992857142857
         ],
         "gridcolor": "black",
         "gridwidth": 1,
         "linecolor": "black",
         "matches": "y",
         "showgrid": true,
         "showticklabels": true
        },
        "yaxis104": {
         "anchor": "x104",
         "domain": [
          0.28831142857142855,
          0.3512992857142857
         ],
         "gridcolor": "black",
         "gridwidth": 1,
         "linecolor": "black",
         "matches": "y",
         "showgrid": true,
         "showticklabels": true
        },
        "yaxis105": {
         "anchor": "x105",
         "domain": [
          0.28831142857142855,
          0.3512992857142857
         ],
         "gridcolor": "black",
         "gridwidth": 1,
         "linecolor": "black",
         "matches": "y",
         "showgrid": true,
         "showticklabels": true
        },
        "yaxis106": {
         "anchor": "x106",
         "domain": [
          0.28831142857142855,
          0.3512992857142857
         ],
         "gridcolor": "black",
         "gridwidth": 1,
         "linecolor": "black",
         "matches": "y",
         "showgrid": true,
         "showticklabels": true
        },
        "yaxis107": {
         "anchor": "x107",
         "domain": [
          0.28831142857142855,
          0.3512992857142857
         ],
         "gridcolor": "black",
         "gridwidth": 1,
         "linecolor": "black",
         "matches": "y",
         "showgrid": true,
         "showticklabels": true
        },
        "yaxis108": {
         "anchor": "x108",
         "domain": [
          0.28831142857142855,
          0.3512992857142857
         ],
         "gridcolor": "black",
         "gridwidth": 1,
         "linecolor": "black",
         "matches": "y",
         "showgrid": true,
         "showticklabels": true
        },
        "yaxis109": {
         "anchor": "x109",
         "domain": [
          0.28831142857142855,
          0.3512992857142857
         ],
         "gridcolor": "black",
         "gridwidth": 1,
         "linecolor": "black",
         "matches": "y",
         "showgrid": true,
         "showticklabels": true
        },
        "yaxis11": {
         "anchor": "x11",
         "domain": [
          0,
          0.06298785714285714
         ],
         "gridcolor": "black",
         "gridwidth": 1,
         "linecolor": "black",
         "matches": "y",
         "showgrid": true,
         "showticklabels": true
        },
        "yaxis110": {
         "anchor": "x110",
         "domain": [
          0.28831142857142855,
          0.3512992857142857
         ],
         "gridcolor": "black",
         "gridwidth": 1,
         "linecolor": "black",
         "matches": "y",
         "showgrid": true,
         "showticklabels": true
        },
        "yaxis111": {
         "anchor": "x111",
         "domain": [
          0.28831142857142855,
          0.3512992857142857
         ],
         "gridcolor": "black",
         "gridwidth": 1,
         "linecolor": "black",
         "matches": "y",
         "showgrid": true,
         "showticklabels": true
        },
        "yaxis112": {
         "anchor": "x112",
         "domain": [
          0.28831142857142855,
          0.3512992857142857
         ],
         "gridcolor": "black",
         "gridwidth": 1,
         "linecolor": "black",
         "matches": "y",
         "showgrid": true,
         "showticklabels": true
        },
        "yaxis113": {
         "anchor": "x113",
         "domain": [
          0.28831142857142855,
          0.3512992857142857
         ],
         "gridcolor": "black",
         "gridwidth": 1,
         "linecolor": "black",
         "matches": "y",
         "showgrid": true,
         "showticklabels": true
        },
        "yaxis114": {
         "anchor": "x114",
         "domain": [
          0.28831142857142855,
          0.3512992857142857
         ],
         "gridcolor": "black",
         "gridwidth": 1,
         "linecolor": "black",
         "matches": "y",
         "showgrid": true,
         "showticklabels": true
        },
        "yaxis115": {
         "anchor": "x115",
         "domain": [
          0.28831142857142855,
          0.3512992857142857
         ],
         "gridcolor": "black",
         "gridwidth": 1,
         "linecolor": "black",
         "matches": "y",
         "showgrid": true,
         "showticklabels": true
        },
        "yaxis116": {
         "anchor": "x116",
         "domain": [
          0.28831142857142855,
          0.3512992857142857
         ],
         "gridcolor": "black",
         "gridwidth": 1,
         "linecolor": "black",
         "matches": "y",
         "showgrid": true,
         "showticklabels": true
        },
        "yaxis117": {
         "anchor": "x117",
         "domain": [
          0.28831142857142855,
          0.3512992857142857
         ],
         "gridcolor": "black",
         "gridwidth": 1,
         "linecolor": "black",
         "matches": "y",
         "showgrid": true,
         "showticklabels": true
        },
        "yaxis118": {
         "anchor": "x118",
         "domain": [
          0.28831142857142855,
          0.3512992857142857
         ],
         "gridcolor": "black",
         "gridwidth": 1,
         "linecolor": "black",
         "matches": "y",
         "showgrid": true,
         "showticklabels": true
        },
        "yaxis119": {
         "anchor": "x119",
         "domain": [
          0.28831142857142855,
          0.3512992857142857
         ],
         "gridcolor": "black",
         "gridwidth": 1,
         "linecolor": "black",
         "matches": "y",
         "showgrid": true,
         "showticklabels": true
        },
        "yaxis12": {
         "anchor": "x12",
         "domain": [
          0,
          0.06298785714285714
         ],
         "gridcolor": "black",
         "gridwidth": 1,
         "linecolor": "black",
         "matches": "y",
         "showgrid": true,
         "showticklabels": true
        },
        "yaxis120": {
         "anchor": "x120",
         "domain": [
          0.28831142857142855,
          0.3512992857142857
         ],
         "gridcolor": "black",
         "gridwidth": 1,
         "linecolor": "black",
         "matches": "y",
         "showgrid": true,
         "showticklabels": true
        },
        "yaxis121": {
         "anchor": "x121",
         "domain": [
          0.28831142857142855,
          0.3512992857142857
         ],
         "gridcolor": "black",
         "gridwidth": 1,
         "linecolor": "black",
         "matches": "y",
         "showgrid": true,
         "showticklabels": true
        },
        "yaxis122": {
         "anchor": "x122",
         "domain": [
          0.28831142857142855,
          0.3512992857142857
         ],
         "gridcolor": "black",
         "gridwidth": 1,
         "linecolor": "black",
         "matches": "y",
         "showgrid": true,
         "showticklabels": true
        },
        "yaxis123": {
         "anchor": "x123",
         "domain": [
          0.28831142857142855,
          0.3512992857142857
         ],
         "gridcolor": "black",
         "gridwidth": 1,
         "linecolor": "black",
         "matches": "y",
         "showgrid": true,
         "showticklabels": true
        },
        "yaxis124": {
         "anchor": "x124",
         "domain": [
          0.28831142857142855,
          0.3512992857142857
         ],
         "gridcolor": "black",
         "gridwidth": 1,
         "linecolor": "black",
         "matches": "y",
         "showgrid": true,
         "showticklabels": true
        },
        "yaxis125": {
         "anchor": "x125",
         "domain": [
          0.28831142857142855,
          0.3512992857142857
         ],
         "gridcolor": "black",
         "gridwidth": 1,
         "linecolor": "black",
         "matches": "y",
         "showgrid": true,
         "showticklabels": true
        },
        "yaxis126": {
         "anchor": "x126",
         "domain": [
          0.3603892857142857,
          0.42337714285714284
         ],
         "gridcolor": "black",
         "gridwidth": 1,
         "linecolor": "black",
         "matches": "y",
         "showgrid": true,
         "showticklabels": true,
         "title": {
          "text": "percent"
         }
        },
        "yaxis127": {
         "anchor": "x127",
         "domain": [
          0.3603892857142857,
          0.42337714285714284
         ],
         "gridcolor": "black",
         "gridwidth": 1,
         "linecolor": "black",
         "matches": "y",
         "showgrid": true,
         "showticklabels": true
        },
        "yaxis128": {
         "anchor": "x128",
         "domain": [
          0.3603892857142857,
          0.42337714285714284
         ],
         "gridcolor": "black",
         "gridwidth": 1,
         "linecolor": "black",
         "matches": "y",
         "showgrid": true,
         "showticklabels": true
        },
        "yaxis129": {
         "anchor": "x129",
         "domain": [
          0.3603892857142857,
          0.42337714285714284
         ],
         "gridcolor": "black",
         "gridwidth": 1,
         "linecolor": "black",
         "matches": "y",
         "showgrid": true,
         "showticklabels": true
        },
        "yaxis13": {
         "anchor": "x13",
         "domain": [
          0,
          0.06298785714285714
         ],
         "gridcolor": "black",
         "gridwidth": 1,
         "linecolor": "black",
         "matches": "y",
         "showgrid": true,
         "showticklabels": true
        },
        "yaxis130": {
         "anchor": "x130",
         "domain": [
          0.3603892857142857,
          0.42337714285714284
         ],
         "gridcolor": "black",
         "gridwidth": 1,
         "linecolor": "black",
         "matches": "y",
         "showgrid": true,
         "showticklabels": true
        },
        "yaxis131": {
         "anchor": "x131",
         "domain": [
          0.3603892857142857,
          0.42337714285714284
         ],
         "gridcolor": "black",
         "gridwidth": 1,
         "linecolor": "black",
         "matches": "y",
         "showgrid": true,
         "showticklabels": true
        },
        "yaxis132": {
         "anchor": "x132",
         "domain": [
          0.3603892857142857,
          0.42337714285714284
         ],
         "gridcolor": "black",
         "gridwidth": 1,
         "linecolor": "black",
         "matches": "y",
         "showgrid": true,
         "showticklabels": true
        },
        "yaxis133": {
         "anchor": "x133",
         "domain": [
          0.3603892857142857,
          0.42337714285714284
         ],
         "gridcolor": "black",
         "gridwidth": 1,
         "linecolor": "black",
         "matches": "y",
         "showgrid": true,
         "showticklabels": true
        },
        "yaxis134": {
         "anchor": "x134",
         "domain": [
          0.3603892857142857,
          0.42337714285714284
         ],
         "gridcolor": "black",
         "gridwidth": 1,
         "linecolor": "black",
         "matches": "y",
         "showgrid": true,
         "showticklabels": true
        },
        "yaxis135": {
         "anchor": "x135",
         "domain": [
          0.3603892857142857,
          0.42337714285714284
         ],
         "gridcolor": "black",
         "gridwidth": 1,
         "linecolor": "black",
         "matches": "y",
         "showgrid": true,
         "showticklabels": true
        },
        "yaxis136": {
         "anchor": "x136",
         "domain": [
          0.3603892857142857,
          0.42337714285714284
         ],
         "gridcolor": "black",
         "gridwidth": 1,
         "linecolor": "black",
         "matches": "y",
         "showgrid": true,
         "showticklabels": true
        },
        "yaxis137": {
         "anchor": "x137",
         "domain": [
          0.3603892857142857,
          0.42337714285714284
         ],
         "gridcolor": "black",
         "gridwidth": 1,
         "linecolor": "black",
         "matches": "y",
         "showgrid": true,
         "showticklabels": true
        },
        "yaxis138": {
         "anchor": "x138",
         "domain": [
          0.3603892857142857,
          0.42337714285714284
         ],
         "gridcolor": "black",
         "gridwidth": 1,
         "linecolor": "black",
         "matches": "y",
         "showgrid": true,
         "showticklabels": true
        },
        "yaxis139": {
         "anchor": "x139",
         "domain": [
          0.3603892857142857,
          0.42337714285714284
         ],
         "gridcolor": "black",
         "gridwidth": 1,
         "linecolor": "black",
         "matches": "y",
         "showgrid": true,
         "showticklabels": true
        },
        "yaxis14": {
         "anchor": "x14",
         "domain": [
          0,
          0.06298785714285714
         ],
         "gridcolor": "black",
         "gridwidth": 1,
         "linecolor": "black",
         "matches": "y",
         "showgrid": true,
         "showticklabels": true
        },
        "yaxis140": {
         "anchor": "x140",
         "domain": [
          0.3603892857142857,
          0.42337714285714284
         ],
         "gridcolor": "black",
         "gridwidth": 1,
         "linecolor": "black",
         "matches": "y",
         "showgrid": true,
         "showticklabels": true
        },
        "yaxis141": {
         "anchor": "x141",
         "domain": [
          0.3603892857142857,
          0.42337714285714284
         ],
         "gridcolor": "black",
         "gridwidth": 1,
         "linecolor": "black",
         "matches": "y",
         "showgrid": true,
         "showticklabels": true
        },
        "yaxis142": {
         "anchor": "x142",
         "domain": [
          0.3603892857142857,
          0.42337714285714284
         ],
         "gridcolor": "black",
         "gridwidth": 1,
         "linecolor": "black",
         "matches": "y",
         "showgrid": true,
         "showticklabels": true
        },
        "yaxis143": {
         "anchor": "x143",
         "domain": [
          0.3603892857142857,
          0.42337714285714284
         ],
         "gridcolor": "black",
         "gridwidth": 1,
         "linecolor": "black",
         "matches": "y",
         "showgrid": true,
         "showticklabels": true
        },
        "yaxis144": {
         "anchor": "x144",
         "domain": [
          0.3603892857142857,
          0.42337714285714284
         ],
         "gridcolor": "black",
         "gridwidth": 1,
         "linecolor": "black",
         "matches": "y",
         "showgrid": true,
         "showticklabels": true
        },
        "yaxis145": {
         "anchor": "x145",
         "domain": [
          0.3603892857142857,
          0.42337714285714284
         ],
         "gridcolor": "black",
         "gridwidth": 1,
         "linecolor": "black",
         "matches": "y",
         "showgrid": true,
         "showticklabels": true
        },
        "yaxis146": {
         "anchor": "x146",
         "domain": [
          0.3603892857142857,
          0.42337714285714284
         ],
         "gridcolor": "black",
         "gridwidth": 1,
         "linecolor": "black",
         "matches": "y",
         "showgrid": true,
         "showticklabels": true
        },
        "yaxis147": {
         "anchor": "x147",
         "domain": [
          0.3603892857142857,
          0.42337714285714284
         ],
         "gridcolor": "black",
         "gridwidth": 1,
         "linecolor": "black",
         "matches": "y",
         "showgrid": true,
         "showticklabels": true
        },
        "yaxis148": {
         "anchor": "x148",
         "domain": [
          0.3603892857142857,
          0.42337714285714284
         ],
         "gridcolor": "black",
         "gridwidth": 1,
         "linecolor": "black",
         "matches": "y",
         "showgrid": true,
         "showticklabels": true
        },
        "yaxis149": {
         "anchor": "x149",
         "domain": [
          0.3603892857142857,
          0.42337714285714284
         ],
         "gridcolor": "black",
         "gridwidth": 1,
         "linecolor": "black",
         "matches": "y",
         "showgrid": true,
         "showticklabels": true
        },
        "yaxis15": {
         "anchor": "x15",
         "domain": [
          0,
          0.06298785714285714
         ],
         "gridcolor": "black",
         "gridwidth": 1,
         "linecolor": "black",
         "matches": "y",
         "showgrid": true,
         "showticklabels": true
        },
        "yaxis150": {
         "anchor": "x150",
         "domain": [
          0.3603892857142857,
          0.42337714285714284
         ],
         "gridcolor": "black",
         "gridwidth": 1,
         "linecolor": "black",
         "matches": "y",
         "showgrid": true,
         "showticklabels": true
        },
        "yaxis151": {
         "anchor": "x151",
         "domain": [
          0.43246714285714283,
          0.495455
         ],
         "gridcolor": "black",
         "gridwidth": 1,
         "linecolor": "black",
         "matches": "y",
         "showgrid": true,
         "showticklabels": true,
         "title": {
          "text": "percent"
         }
        },
        "yaxis152": {
         "anchor": "x152",
         "domain": [
          0.43246714285714283,
          0.495455
         ],
         "gridcolor": "black",
         "gridwidth": 1,
         "linecolor": "black",
         "matches": "y",
         "showgrid": true,
         "showticklabels": true
        },
        "yaxis153": {
         "anchor": "x153",
         "domain": [
          0.43246714285714283,
          0.495455
         ],
         "gridcolor": "black",
         "gridwidth": 1,
         "linecolor": "black",
         "matches": "y",
         "showgrid": true,
         "showticklabels": true
        },
        "yaxis154": {
         "anchor": "x154",
         "domain": [
          0.43246714285714283,
          0.495455
         ],
         "gridcolor": "black",
         "gridwidth": 1,
         "linecolor": "black",
         "matches": "y",
         "showgrid": true,
         "showticklabels": true
        },
        "yaxis155": {
         "anchor": "x155",
         "domain": [
          0.43246714285714283,
          0.495455
         ],
         "gridcolor": "black",
         "gridwidth": 1,
         "linecolor": "black",
         "matches": "y",
         "showgrid": true,
         "showticklabels": true
        },
        "yaxis156": {
         "anchor": "x156",
         "domain": [
          0.43246714285714283,
          0.495455
         ],
         "gridcolor": "black",
         "gridwidth": 1,
         "linecolor": "black",
         "matches": "y",
         "showgrid": true,
         "showticklabels": true
        },
        "yaxis157": {
         "anchor": "x157",
         "domain": [
          0.43246714285714283,
          0.495455
         ],
         "gridcolor": "black",
         "gridwidth": 1,
         "linecolor": "black",
         "matches": "y",
         "showgrid": true,
         "showticklabels": true
        },
        "yaxis158": {
         "anchor": "x158",
         "domain": [
          0.43246714285714283,
          0.495455
         ],
         "gridcolor": "black",
         "gridwidth": 1,
         "linecolor": "black",
         "matches": "y",
         "showgrid": true,
         "showticklabels": true
        },
        "yaxis159": {
         "anchor": "x159",
         "domain": [
          0.43246714285714283,
          0.495455
         ],
         "gridcolor": "black",
         "gridwidth": 1,
         "linecolor": "black",
         "matches": "y",
         "showgrid": true,
         "showticklabels": true
        },
        "yaxis16": {
         "anchor": "x16",
         "domain": [
          0,
          0.06298785714285714
         ],
         "gridcolor": "black",
         "gridwidth": 1,
         "linecolor": "black",
         "matches": "y",
         "showgrid": true,
         "showticklabels": true
        },
        "yaxis160": {
         "anchor": "x160",
         "domain": [
          0.43246714285714283,
          0.495455
         ],
         "gridcolor": "black",
         "gridwidth": 1,
         "linecolor": "black",
         "matches": "y",
         "showgrid": true,
         "showticklabels": true
        },
        "yaxis161": {
         "anchor": "x161",
         "domain": [
          0.43246714285714283,
          0.495455
         ],
         "gridcolor": "black",
         "gridwidth": 1,
         "linecolor": "black",
         "matches": "y",
         "showgrid": true,
         "showticklabels": true
        },
        "yaxis162": {
         "anchor": "x162",
         "domain": [
          0.43246714285714283,
          0.495455
         ],
         "gridcolor": "black",
         "gridwidth": 1,
         "linecolor": "black",
         "matches": "y",
         "showgrid": true,
         "showticklabels": true
        },
        "yaxis163": {
         "anchor": "x163",
         "domain": [
          0.43246714285714283,
          0.495455
         ],
         "gridcolor": "black",
         "gridwidth": 1,
         "linecolor": "black",
         "matches": "y",
         "showgrid": true,
         "showticklabels": true
        },
        "yaxis164": {
         "anchor": "x164",
         "domain": [
          0.43246714285714283,
          0.495455
         ],
         "gridcolor": "black",
         "gridwidth": 1,
         "linecolor": "black",
         "matches": "y",
         "showgrid": true,
         "showticklabels": true
        },
        "yaxis165": {
         "anchor": "x165",
         "domain": [
          0.43246714285714283,
          0.495455
         ],
         "gridcolor": "black",
         "gridwidth": 1,
         "linecolor": "black",
         "matches": "y",
         "showgrid": true,
         "showticklabels": true
        },
        "yaxis166": {
         "anchor": "x166",
         "domain": [
          0.43246714285714283,
          0.495455
         ],
         "gridcolor": "black",
         "gridwidth": 1,
         "linecolor": "black",
         "matches": "y",
         "showgrid": true,
         "showticklabels": true
        },
        "yaxis167": {
         "anchor": "x167",
         "domain": [
          0.43246714285714283,
          0.495455
         ],
         "gridcolor": "black",
         "gridwidth": 1,
         "linecolor": "black",
         "matches": "y",
         "showgrid": true,
         "showticklabels": true
        },
        "yaxis168": {
         "anchor": "x168",
         "domain": [
          0.43246714285714283,
          0.495455
         ],
         "gridcolor": "black",
         "gridwidth": 1,
         "linecolor": "black",
         "matches": "y",
         "showgrid": true,
         "showticklabels": true
        },
        "yaxis169": {
         "anchor": "x169",
         "domain": [
          0.43246714285714283,
          0.495455
         ],
         "gridcolor": "black",
         "gridwidth": 1,
         "linecolor": "black",
         "matches": "y",
         "showgrid": true,
         "showticklabels": true
        },
        "yaxis17": {
         "anchor": "x17",
         "domain": [
          0,
          0.06298785714285714
         ],
         "gridcolor": "black",
         "gridwidth": 1,
         "linecolor": "black",
         "matches": "y",
         "showgrid": true,
         "showticklabels": true
        },
        "yaxis170": {
         "anchor": "x170",
         "domain": [
          0.43246714285714283,
          0.495455
         ],
         "gridcolor": "black",
         "gridwidth": 1,
         "linecolor": "black",
         "matches": "y",
         "showgrid": true,
         "showticklabels": true
        },
        "yaxis171": {
         "anchor": "x171",
         "domain": [
          0.43246714285714283,
          0.495455
         ],
         "gridcolor": "black",
         "gridwidth": 1,
         "linecolor": "black",
         "matches": "y",
         "showgrid": true,
         "showticklabels": true
        },
        "yaxis172": {
         "anchor": "x172",
         "domain": [
          0.43246714285714283,
          0.495455
         ],
         "gridcolor": "black",
         "gridwidth": 1,
         "linecolor": "black",
         "matches": "y",
         "showgrid": true,
         "showticklabels": true
        },
        "yaxis173": {
         "anchor": "x173",
         "domain": [
          0.43246714285714283,
          0.495455
         ],
         "gridcolor": "black",
         "gridwidth": 1,
         "linecolor": "black",
         "matches": "y",
         "showgrid": true,
         "showticklabels": true
        },
        "yaxis174": {
         "anchor": "x174",
         "domain": [
          0.43246714285714283,
          0.495455
         ],
         "gridcolor": "black",
         "gridwidth": 1,
         "linecolor": "black",
         "matches": "y",
         "showgrid": true,
         "showticklabels": true
        },
        "yaxis175": {
         "anchor": "x175",
         "domain": [
          0.43246714285714283,
          0.495455
         ],
         "gridcolor": "black",
         "gridwidth": 1,
         "linecolor": "black",
         "matches": "y",
         "showgrid": true,
         "showticklabels": true
        },
        "yaxis176": {
         "anchor": "x176",
         "domain": [
          0.504545,
          0.5675328571428572
         ],
         "gridcolor": "black",
         "gridwidth": 1,
         "linecolor": "black",
         "matches": "y",
         "showgrid": true,
         "showticklabels": true,
         "title": {
          "text": "percent"
         }
        },
        "yaxis177": {
         "anchor": "x177",
         "domain": [
          0.504545,
          0.5675328571428572
         ],
         "gridcolor": "black",
         "gridwidth": 1,
         "linecolor": "black",
         "matches": "y",
         "showgrid": true,
         "showticklabels": true
        },
        "yaxis178": {
         "anchor": "x178",
         "domain": [
          0.504545,
          0.5675328571428572
         ],
         "gridcolor": "black",
         "gridwidth": 1,
         "linecolor": "black",
         "matches": "y",
         "showgrid": true,
         "showticklabels": true
        },
        "yaxis179": {
         "anchor": "x179",
         "domain": [
          0.504545,
          0.5675328571428572
         ],
         "gridcolor": "black",
         "gridwidth": 1,
         "linecolor": "black",
         "matches": "y",
         "showgrid": true,
         "showticklabels": true
        },
        "yaxis18": {
         "anchor": "x18",
         "domain": [
          0,
          0.06298785714285714
         ],
         "gridcolor": "black",
         "gridwidth": 1,
         "linecolor": "black",
         "matches": "y",
         "showgrid": true,
         "showticklabels": true
        },
        "yaxis180": {
         "anchor": "x180",
         "domain": [
          0.504545,
          0.5675328571428572
         ],
         "gridcolor": "black",
         "gridwidth": 1,
         "linecolor": "black",
         "matches": "y",
         "showgrid": true,
         "showticklabels": true
        },
        "yaxis181": {
         "anchor": "x181",
         "domain": [
          0.504545,
          0.5675328571428572
         ],
         "gridcolor": "black",
         "gridwidth": 1,
         "linecolor": "black",
         "matches": "y",
         "showgrid": true,
         "showticklabels": true
        },
        "yaxis182": {
         "anchor": "x182",
         "domain": [
          0.504545,
          0.5675328571428572
         ],
         "gridcolor": "black",
         "gridwidth": 1,
         "linecolor": "black",
         "matches": "y",
         "showgrid": true,
         "showticklabels": true
        },
        "yaxis183": {
         "anchor": "x183",
         "domain": [
          0.504545,
          0.5675328571428572
         ],
         "gridcolor": "black",
         "gridwidth": 1,
         "linecolor": "black",
         "matches": "y",
         "showgrid": true,
         "showticklabels": true
        },
        "yaxis184": {
         "anchor": "x184",
         "domain": [
          0.504545,
          0.5675328571428572
         ],
         "gridcolor": "black",
         "gridwidth": 1,
         "linecolor": "black",
         "matches": "y",
         "showgrid": true,
         "showticklabels": true
        },
        "yaxis185": {
         "anchor": "x185",
         "domain": [
          0.504545,
          0.5675328571428572
         ],
         "gridcolor": "black",
         "gridwidth": 1,
         "linecolor": "black",
         "matches": "y",
         "showgrid": true,
         "showticklabels": true
        },
        "yaxis186": {
         "anchor": "x186",
         "domain": [
          0.504545,
          0.5675328571428572
         ],
         "gridcolor": "black",
         "gridwidth": 1,
         "linecolor": "black",
         "matches": "y",
         "showgrid": true,
         "showticklabels": true
        },
        "yaxis187": {
         "anchor": "x187",
         "domain": [
          0.504545,
          0.5675328571428572
         ],
         "gridcolor": "black",
         "gridwidth": 1,
         "linecolor": "black",
         "matches": "y",
         "showgrid": true,
         "showticklabels": true
        },
        "yaxis188": {
         "anchor": "x188",
         "domain": [
          0.504545,
          0.5675328571428572
         ],
         "gridcolor": "black",
         "gridwidth": 1,
         "linecolor": "black",
         "matches": "y",
         "showgrid": true,
         "showticklabels": true
        },
        "yaxis189": {
         "anchor": "x189",
         "domain": [
          0.504545,
          0.5675328571428572
         ],
         "gridcolor": "black",
         "gridwidth": 1,
         "linecolor": "black",
         "matches": "y",
         "showgrid": true,
         "showticklabels": true
        },
        "yaxis19": {
         "anchor": "x19",
         "domain": [
          0,
          0.06298785714285714
         ],
         "gridcolor": "black",
         "gridwidth": 1,
         "linecolor": "black",
         "matches": "y",
         "showgrid": true,
         "showticklabels": true
        },
        "yaxis190": {
         "anchor": "x190",
         "domain": [
          0.504545,
          0.5675328571428572
         ],
         "gridcolor": "black",
         "gridwidth": 1,
         "linecolor": "black",
         "matches": "y",
         "showgrid": true,
         "showticklabels": true
        },
        "yaxis191": {
         "anchor": "x191",
         "domain": [
          0.504545,
          0.5675328571428572
         ],
         "gridcolor": "black",
         "gridwidth": 1,
         "linecolor": "black",
         "matches": "y",
         "showgrid": true,
         "showticklabels": true
        },
        "yaxis192": {
         "anchor": "x192",
         "domain": [
          0.504545,
          0.5675328571428572
         ],
         "gridcolor": "black",
         "gridwidth": 1,
         "linecolor": "black",
         "matches": "y",
         "showgrid": true,
         "showticklabels": true
        },
        "yaxis193": {
         "anchor": "x193",
         "domain": [
          0.504545,
          0.5675328571428572
         ],
         "gridcolor": "black",
         "gridwidth": 1,
         "linecolor": "black",
         "matches": "y",
         "showgrid": true,
         "showticklabels": true
        },
        "yaxis194": {
         "anchor": "x194",
         "domain": [
          0.504545,
          0.5675328571428572
         ],
         "gridcolor": "black",
         "gridwidth": 1,
         "linecolor": "black",
         "matches": "y",
         "showgrid": true,
         "showticklabels": true
        },
        "yaxis195": {
         "anchor": "x195",
         "domain": [
          0.504545,
          0.5675328571428572
         ],
         "gridcolor": "black",
         "gridwidth": 1,
         "linecolor": "black",
         "matches": "y",
         "showgrid": true,
         "showticklabels": true
        },
        "yaxis196": {
         "anchor": "x196",
         "domain": [
          0.504545,
          0.5675328571428572
         ],
         "gridcolor": "black",
         "gridwidth": 1,
         "linecolor": "black",
         "matches": "y",
         "showgrid": true,
         "showticklabels": true
        },
        "yaxis197": {
         "anchor": "x197",
         "domain": [
          0.504545,
          0.5675328571428572
         ],
         "gridcolor": "black",
         "gridwidth": 1,
         "linecolor": "black",
         "matches": "y",
         "showgrid": true,
         "showticklabels": true
        },
        "yaxis198": {
         "anchor": "x198",
         "domain": [
          0.504545,
          0.5675328571428572
         ],
         "gridcolor": "black",
         "gridwidth": 1,
         "linecolor": "black",
         "matches": "y",
         "showgrid": true,
         "showticklabels": true
        },
        "yaxis199": {
         "anchor": "x199",
         "domain": [
          0.504545,
          0.5675328571428572
         ],
         "gridcolor": "black",
         "gridwidth": 1,
         "linecolor": "black",
         "matches": "y",
         "showgrid": true,
         "showticklabels": true
        },
        "yaxis2": {
         "anchor": "x2",
         "domain": [
          0,
          0.06298785714285714
         ],
         "gridcolor": "black",
         "gridwidth": 1,
         "linecolor": "black",
         "matches": "y",
         "showgrid": true,
         "showticklabels": true
        },
        "yaxis20": {
         "anchor": "x20",
         "domain": [
          0,
          0.06298785714285714
         ],
         "gridcolor": "black",
         "gridwidth": 1,
         "linecolor": "black",
         "matches": "y",
         "showgrid": true,
         "showticklabels": true
        },
        "yaxis200": {
         "anchor": "x200",
         "domain": [
          0.504545,
          0.5675328571428572
         ],
         "gridcolor": "black",
         "gridwidth": 1,
         "linecolor": "black",
         "matches": "y",
         "showgrid": true,
         "showticklabels": true
        },
        "yaxis201": {
         "anchor": "x201",
         "domain": [
          0.5766228571428571,
          0.6396107142857143
         ],
         "gridcolor": "black",
         "gridwidth": 1,
         "linecolor": "black",
         "matches": "y",
         "showgrid": true,
         "showticklabels": true,
         "title": {
          "text": "percent"
         }
        },
        "yaxis202": {
         "anchor": "x202",
         "domain": [
          0.5766228571428571,
          0.6396107142857143
         ],
         "gridcolor": "black",
         "gridwidth": 1,
         "linecolor": "black",
         "matches": "y",
         "showgrid": true,
         "showticklabels": true
        },
        "yaxis203": {
         "anchor": "x203",
         "domain": [
          0.5766228571428571,
          0.6396107142857143
         ],
         "gridcolor": "black",
         "gridwidth": 1,
         "linecolor": "black",
         "matches": "y",
         "showgrid": true,
         "showticklabels": true
        },
        "yaxis204": {
         "anchor": "x204",
         "domain": [
          0.5766228571428571,
          0.6396107142857143
         ],
         "gridcolor": "black",
         "gridwidth": 1,
         "linecolor": "black",
         "matches": "y",
         "showgrid": true,
         "showticklabels": true
        },
        "yaxis205": {
         "anchor": "x205",
         "domain": [
          0.5766228571428571,
          0.6396107142857143
         ],
         "gridcolor": "black",
         "gridwidth": 1,
         "linecolor": "black",
         "matches": "y",
         "showgrid": true,
         "showticklabels": true
        },
        "yaxis206": {
         "anchor": "x206",
         "domain": [
          0.5766228571428571,
          0.6396107142857143
         ],
         "gridcolor": "black",
         "gridwidth": 1,
         "linecolor": "black",
         "matches": "y",
         "showgrid": true,
         "showticklabels": true
        },
        "yaxis207": {
         "anchor": "x207",
         "domain": [
          0.5766228571428571,
          0.6396107142857143
         ],
         "gridcolor": "black",
         "gridwidth": 1,
         "linecolor": "black",
         "matches": "y",
         "showgrid": true,
         "showticklabels": true
        },
        "yaxis208": {
         "anchor": "x208",
         "domain": [
          0.5766228571428571,
          0.6396107142857143
         ],
         "gridcolor": "black",
         "gridwidth": 1,
         "linecolor": "black",
         "matches": "y",
         "showgrid": true,
         "showticklabels": true
        },
        "yaxis209": {
         "anchor": "x209",
         "domain": [
          0.5766228571428571,
          0.6396107142857143
         ],
         "gridcolor": "black",
         "gridwidth": 1,
         "linecolor": "black",
         "matches": "y",
         "showgrid": true,
         "showticklabels": true
        },
        "yaxis21": {
         "anchor": "x21",
         "domain": [
          0,
          0.06298785714285714
         ],
         "gridcolor": "black",
         "gridwidth": 1,
         "linecolor": "black",
         "matches": "y",
         "showgrid": true,
         "showticklabels": true
        },
        "yaxis210": {
         "anchor": "x210",
         "domain": [
          0.5766228571428571,
          0.6396107142857143
         ],
         "gridcolor": "black",
         "gridwidth": 1,
         "linecolor": "black",
         "matches": "y",
         "showgrid": true,
         "showticklabels": true
        },
        "yaxis211": {
         "anchor": "x211",
         "domain": [
          0.5766228571428571,
          0.6396107142857143
         ],
         "gridcolor": "black",
         "gridwidth": 1,
         "linecolor": "black",
         "matches": "y",
         "showgrid": true,
         "showticklabels": true
        },
        "yaxis212": {
         "anchor": "x212",
         "domain": [
          0.5766228571428571,
          0.6396107142857143
         ],
         "gridcolor": "black",
         "gridwidth": 1,
         "linecolor": "black",
         "matches": "y",
         "showgrid": true,
         "showticklabels": true
        },
        "yaxis213": {
         "anchor": "x213",
         "domain": [
          0.5766228571428571,
          0.6396107142857143
         ],
         "gridcolor": "black",
         "gridwidth": 1,
         "linecolor": "black",
         "matches": "y",
         "showgrid": true,
         "showticklabels": true
        },
        "yaxis214": {
         "anchor": "x214",
         "domain": [
          0.5766228571428571,
          0.6396107142857143
         ],
         "gridcolor": "black",
         "gridwidth": 1,
         "linecolor": "black",
         "matches": "y",
         "showgrid": true,
         "showticklabels": true
        },
        "yaxis215": {
         "anchor": "x215",
         "domain": [
          0.5766228571428571,
          0.6396107142857143
         ],
         "gridcolor": "black",
         "gridwidth": 1,
         "linecolor": "black",
         "matches": "y",
         "showgrid": true,
         "showticklabels": true
        },
        "yaxis216": {
         "anchor": "x216",
         "domain": [
          0.5766228571428571,
          0.6396107142857143
         ],
         "gridcolor": "black",
         "gridwidth": 1,
         "linecolor": "black",
         "matches": "y",
         "showgrid": true,
         "showticklabels": true
        },
        "yaxis217": {
         "anchor": "x217",
         "domain": [
          0.5766228571428571,
          0.6396107142857143
         ],
         "gridcolor": "black",
         "gridwidth": 1,
         "linecolor": "black",
         "matches": "y",
         "showgrid": true,
         "showticklabels": true
        },
        "yaxis218": {
         "anchor": "x218",
         "domain": [
          0.5766228571428571,
          0.6396107142857143
         ],
         "gridcolor": "black",
         "gridwidth": 1,
         "linecolor": "black",
         "matches": "y",
         "showgrid": true,
         "showticklabels": true
        },
        "yaxis219": {
         "anchor": "x219",
         "domain": [
          0.5766228571428571,
          0.6396107142857143
         ],
         "gridcolor": "black",
         "gridwidth": 1,
         "linecolor": "black",
         "matches": "y",
         "showgrid": true,
         "showticklabels": true
        },
        "yaxis22": {
         "anchor": "x22",
         "domain": [
          0,
          0.06298785714285714
         ],
         "gridcolor": "black",
         "gridwidth": 1,
         "linecolor": "black",
         "matches": "y",
         "showgrid": true,
         "showticklabels": true
        },
        "yaxis220": {
         "anchor": "x220",
         "domain": [
          0.5766228571428571,
          0.6396107142857143
         ],
         "gridcolor": "black",
         "gridwidth": 1,
         "linecolor": "black",
         "matches": "y",
         "showgrid": true,
         "showticklabels": true
        },
        "yaxis221": {
         "anchor": "x221",
         "domain": [
          0.5766228571428571,
          0.6396107142857143
         ],
         "gridcolor": "black",
         "gridwidth": 1,
         "linecolor": "black",
         "matches": "y",
         "showgrid": true,
         "showticklabels": true
        },
        "yaxis222": {
         "anchor": "x222",
         "domain": [
          0.5766228571428571,
          0.6396107142857143
         ],
         "gridcolor": "black",
         "gridwidth": 1,
         "linecolor": "black",
         "matches": "y",
         "showgrid": true,
         "showticklabels": true
        },
        "yaxis223": {
         "anchor": "x223",
         "domain": [
          0.5766228571428571,
          0.6396107142857143
         ],
         "gridcolor": "black",
         "gridwidth": 1,
         "linecolor": "black",
         "matches": "y",
         "showgrid": true,
         "showticklabels": true
        },
        "yaxis224": {
         "anchor": "x224",
         "domain": [
          0.5766228571428571,
          0.6396107142857143
         ],
         "gridcolor": "black",
         "gridwidth": 1,
         "linecolor": "black",
         "matches": "y",
         "showgrid": true,
         "showticklabels": true
        },
        "yaxis225": {
         "anchor": "x225",
         "domain": [
          0.5766228571428571,
          0.6396107142857143
         ],
         "gridcolor": "black",
         "gridwidth": 1,
         "linecolor": "black",
         "matches": "y",
         "showgrid": true,
         "showticklabels": true
        },
        "yaxis226": {
         "anchor": "x226",
         "domain": [
          0.6487007142857143,
          0.7116885714285714
         ],
         "gridcolor": "black",
         "gridwidth": 1,
         "linecolor": "black",
         "matches": "y",
         "showgrid": true,
         "showticklabels": true,
         "title": {
          "text": "percent"
         }
        },
        "yaxis227": {
         "anchor": "x227",
         "domain": [
          0.6487007142857143,
          0.7116885714285714
         ],
         "gridcolor": "black",
         "gridwidth": 1,
         "linecolor": "black",
         "matches": "y",
         "showgrid": true,
         "showticklabels": true
        },
        "yaxis228": {
         "anchor": "x228",
         "domain": [
          0.6487007142857143,
          0.7116885714285714
         ],
         "gridcolor": "black",
         "gridwidth": 1,
         "linecolor": "black",
         "matches": "y",
         "showgrid": true,
         "showticklabels": true
        },
        "yaxis229": {
         "anchor": "x229",
         "domain": [
          0.6487007142857143,
          0.7116885714285714
         ],
         "gridcolor": "black",
         "gridwidth": 1,
         "linecolor": "black",
         "matches": "y",
         "showgrid": true,
         "showticklabels": true
        },
        "yaxis23": {
         "anchor": "x23",
         "domain": [
          0,
          0.06298785714285714
         ],
         "gridcolor": "black",
         "gridwidth": 1,
         "linecolor": "black",
         "matches": "y",
         "showgrid": true,
         "showticklabels": true
        },
        "yaxis230": {
         "anchor": "x230",
         "domain": [
          0.6487007142857143,
          0.7116885714285714
         ],
         "gridcolor": "black",
         "gridwidth": 1,
         "linecolor": "black",
         "matches": "y",
         "showgrid": true,
         "showticklabels": true
        },
        "yaxis231": {
         "anchor": "x231",
         "domain": [
          0.6487007142857143,
          0.7116885714285714
         ],
         "gridcolor": "black",
         "gridwidth": 1,
         "linecolor": "black",
         "matches": "y",
         "showgrid": true,
         "showticklabels": true
        },
        "yaxis232": {
         "anchor": "x232",
         "domain": [
          0.6487007142857143,
          0.7116885714285714
         ],
         "gridcolor": "black",
         "gridwidth": 1,
         "linecolor": "black",
         "matches": "y",
         "showgrid": true,
         "showticklabels": true
        },
        "yaxis233": {
         "anchor": "x233",
         "domain": [
          0.6487007142857143,
          0.7116885714285714
         ],
         "gridcolor": "black",
         "gridwidth": 1,
         "linecolor": "black",
         "matches": "y",
         "showgrid": true,
         "showticklabels": true
        },
        "yaxis234": {
         "anchor": "x234",
         "domain": [
          0.6487007142857143,
          0.7116885714285714
         ],
         "gridcolor": "black",
         "gridwidth": 1,
         "linecolor": "black",
         "matches": "y",
         "showgrid": true,
         "showticklabels": true
        },
        "yaxis235": {
         "anchor": "x235",
         "domain": [
          0.6487007142857143,
          0.7116885714285714
         ],
         "gridcolor": "black",
         "gridwidth": 1,
         "linecolor": "black",
         "matches": "y",
         "showgrid": true,
         "showticklabels": true
        },
        "yaxis236": {
         "anchor": "x236",
         "domain": [
          0.6487007142857143,
          0.7116885714285714
         ],
         "gridcolor": "black",
         "gridwidth": 1,
         "linecolor": "black",
         "matches": "y",
         "showgrid": true,
         "showticklabels": true
        },
        "yaxis237": {
         "anchor": "x237",
         "domain": [
          0.6487007142857143,
          0.7116885714285714
         ],
         "gridcolor": "black",
         "gridwidth": 1,
         "linecolor": "black",
         "matches": "y",
         "showgrid": true,
         "showticklabels": true
        },
        "yaxis238": {
         "anchor": "x238",
         "domain": [
          0.6487007142857143,
          0.7116885714285714
         ],
         "gridcolor": "black",
         "gridwidth": 1,
         "linecolor": "black",
         "matches": "y",
         "showgrid": true,
         "showticklabels": true
        },
        "yaxis239": {
         "anchor": "x239",
         "domain": [
          0.6487007142857143,
          0.7116885714285714
         ],
         "gridcolor": "black",
         "gridwidth": 1,
         "linecolor": "black",
         "matches": "y",
         "showgrid": true,
         "showticklabels": true
        },
        "yaxis24": {
         "anchor": "x24",
         "domain": [
          0,
          0.06298785714285714
         ],
         "gridcolor": "black",
         "gridwidth": 1,
         "linecolor": "black",
         "matches": "y",
         "showgrid": true,
         "showticklabels": true
        },
        "yaxis240": {
         "anchor": "x240",
         "domain": [
          0.6487007142857143,
          0.7116885714285714
         ],
         "gridcolor": "black",
         "gridwidth": 1,
         "linecolor": "black",
         "matches": "y",
         "showgrid": true,
         "showticklabels": true
        },
        "yaxis241": {
         "anchor": "x241",
         "domain": [
          0.6487007142857143,
          0.7116885714285714
         ],
         "gridcolor": "black",
         "gridwidth": 1,
         "linecolor": "black",
         "matches": "y",
         "showgrid": true,
         "showticklabels": true
        },
        "yaxis242": {
         "anchor": "x242",
         "domain": [
          0.6487007142857143,
          0.7116885714285714
         ],
         "gridcolor": "black",
         "gridwidth": 1,
         "linecolor": "black",
         "matches": "y",
         "showgrid": true,
         "showticklabels": true
        },
        "yaxis243": {
         "anchor": "x243",
         "domain": [
          0.6487007142857143,
          0.7116885714285714
         ],
         "gridcolor": "black",
         "gridwidth": 1,
         "linecolor": "black",
         "matches": "y",
         "showgrid": true,
         "showticklabels": true
        },
        "yaxis244": {
         "anchor": "x244",
         "domain": [
          0.6487007142857143,
          0.7116885714285714
         ],
         "gridcolor": "black",
         "gridwidth": 1,
         "linecolor": "black",
         "matches": "y",
         "showgrid": true,
         "showticklabels": true
        },
        "yaxis245": {
         "anchor": "x245",
         "domain": [
          0.6487007142857143,
          0.7116885714285714
         ],
         "gridcolor": "black",
         "gridwidth": 1,
         "linecolor": "black",
         "matches": "y",
         "showgrid": true,
         "showticklabels": true
        },
        "yaxis246": {
         "anchor": "x246",
         "domain": [
          0.6487007142857143,
          0.7116885714285714
         ],
         "gridcolor": "black",
         "gridwidth": 1,
         "linecolor": "black",
         "matches": "y",
         "showgrid": true,
         "showticklabels": true
        },
        "yaxis247": {
         "anchor": "x247",
         "domain": [
          0.6487007142857143,
          0.7116885714285714
         ],
         "gridcolor": "black",
         "gridwidth": 1,
         "linecolor": "black",
         "matches": "y",
         "showgrid": true,
         "showticklabels": true
        },
        "yaxis248": {
         "anchor": "x248",
         "domain": [
          0.6487007142857143,
          0.7116885714285714
         ],
         "gridcolor": "black",
         "gridwidth": 1,
         "linecolor": "black",
         "matches": "y",
         "showgrid": true,
         "showticklabels": true
        },
        "yaxis249": {
         "anchor": "x249",
         "domain": [
          0.6487007142857143,
          0.7116885714285714
         ],
         "gridcolor": "black",
         "gridwidth": 1,
         "linecolor": "black",
         "matches": "y",
         "showgrid": true,
         "showticklabels": true
        },
        "yaxis25": {
         "anchor": "x25",
         "domain": [
          0,
          0.06298785714285714
         ],
         "gridcolor": "black",
         "gridwidth": 1,
         "linecolor": "black",
         "matches": "y",
         "showgrid": true,
         "showticklabels": true
        },
        "yaxis250": {
         "anchor": "x250",
         "domain": [
          0.6487007142857143,
          0.7116885714285714
         ],
         "gridcolor": "black",
         "gridwidth": 1,
         "linecolor": "black",
         "matches": "y",
         "showgrid": true,
         "showticklabels": true
        },
        "yaxis251": {
         "anchor": "x251",
         "domain": [
          0.7207785714285714,
          0.7837664285714285
         ],
         "gridcolor": "black",
         "gridwidth": 1,
         "linecolor": "black",
         "matches": "y",
         "showgrid": true,
         "showticklabels": true,
         "title": {
          "text": "percent"
         }
        },
        "yaxis252": {
         "anchor": "x252",
         "domain": [
          0.7207785714285714,
          0.7837664285714285
         ],
         "gridcolor": "black",
         "gridwidth": 1,
         "linecolor": "black",
         "matches": "y",
         "showgrid": true,
         "showticklabels": true
        },
        "yaxis253": {
         "anchor": "x253",
         "domain": [
          0.7207785714285714,
          0.7837664285714285
         ],
         "gridcolor": "black",
         "gridwidth": 1,
         "linecolor": "black",
         "matches": "y",
         "showgrid": true,
         "showticklabels": true
        },
        "yaxis254": {
         "anchor": "x254",
         "domain": [
          0.7207785714285714,
          0.7837664285714285
         ],
         "gridcolor": "black",
         "gridwidth": 1,
         "linecolor": "black",
         "matches": "y",
         "showgrid": true,
         "showticklabels": true
        },
        "yaxis255": {
         "anchor": "x255",
         "domain": [
          0.7207785714285714,
          0.7837664285714285
         ],
         "gridcolor": "black",
         "gridwidth": 1,
         "linecolor": "black",
         "matches": "y",
         "showgrid": true,
         "showticklabels": true
        },
        "yaxis256": {
         "anchor": "x256",
         "domain": [
          0.7207785714285714,
          0.7837664285714285
         ],
         "gridcolor": "black",
         "gridwidth": 1,
         "linecolor": "black",
         "matches": "y",
         "showgrid": true,
         "showticklabels": true
        },
        "yaxis257": {
         "anchor": "x257",
         "domain": [
          0.7207785714285714,
          0.7837664285714285
         ],
         "gridcolor": "black",
         "gridwidth": 1,
         "linecolor": "black",
         "matches": "y",
         "showgrid": true,
         "showticklabels": true
        },
        "yaxis258": {
         "anchor": "x258",
         "domain": [
          0.7207785714285714,
          0.7837664285714285
         ],
         "gridcolor": "black",
         "gridwidth": 1,
         "linecolor": "black",
         "matches": "y",
         "showgrid": true,
         "showticklabels": true
        },
        "yaxis259": {
         "anchor": "x259",
         "domain": [
          0.7207785714285714,
          0.7837664285714285
         ],
         "gridcolor": "black",
         "gridwidth": 1,
         "linecolor": "black",
         "matches": "y",
         "showgrid": true,
         "showticklabels": true
        },
        "yaxis26": {
         "anchor": "x26",
         "domain": [
          0.07207785714285714,
          0.1350657142857143
         ],
         "gridcolor": "black",
         "gridwidth": 1,
         "linecolor": "black",
         "matches": "y",
         "showgrid": true,
         "showticklabels": true,
         "title": {
          "text": "percent"
         }
        },
        "yaxis260": {
         "anchor": "x260",
         "domain": [
          0.7207785714285714,
          0.7837664285714285
         ],
         "gridcolor": "black",
         "gridwidth": 1,
         "linecolor": "black",
         "matches": "y",
         "showgrid": true,
         "showticklabels": true
        },
        "yaxis261": {
         "anchor": "x261",
         "domain": [
          0.7207785714285714,
          0.7837664285714285
         ],
         "gridcolor": "black",
         "gridwidth": 1,
         "linecolor": "black",
         "matches": "y",
         "showgrid": true,
         "showticklabels": true
        },
        "yaxis262": {
         "anchor": "x262",
         "domain": [
          0.7207785714285714,
          0.7837664285714285
         ],
         "gridcolor": "black",
         "gridwidth": 1,
         "linecolor": "black",
         "matches": "y",
         "showgrid": true,
         "showticklabels": true
        },
        "yaxis263": {
         "anchor": "x263",
         "domain": [
          0.7207785714285714,
          0.7837664285714285
         ],
         "gridcolor": "black",
         "gridwidth": 1,
         "linecolor": "black",
         "matches": "y",
         "showgrid": true,
         "showticklabels": true
        },
        "yaxis264": {
         "anchor": "x264",
         "domain": [
          0.7207785714285714,
          0.7837664285714285
         ],
         "gridcolor": "black",
         "gridwidth": 1,
         "linecolor": "black",
         "matches": "y",
         "showgrid": true,
         "showticklabels": true
        },
        "yaxis265": {
         "anchor": "x265",
         "domain": [
          0.7207785714285714,
          0.7837664285714285
         ],
         "gridcolor": "black",
         "gridwidth": 1,
         "linecolor": "black",
         "matches": "y",
         "showgrid": true,
         "showticklabels": true
        },
        "yaxis266": {
         "anchor": "x266",
         "domain": [
          0.7207785714285714,
          0.7837664285714285
         ],
         "gridcolor": "black",
         "gridwidth": 1,
         "linecolor": "black",
         "matches": "y",
         "showgrid": true,
         "showticklabels": true
        },
        "yaxis267": {
         "anchor": "x267",
         "domain": [
          0.7207785714285714,
          0.7837664285714285
         ],
         "gridcolor": "black",
         "gridwidth": 1,
         "linecolor": "black",
         "matches": "y",
         "showgrid": true,
         "showticklabels": true
        },
        "yaxis268": {
         "anchor": "x268",
         "domain": [
          0.7207785714285714,
          0.7837664285714285
         ],
         "gridcolor": "black",
         "gridwidth": 1,
         "linecolor": "black",
         "matches": "y",
         "showgrid": true,
         "showticklabels": true
        },
        "yaxis269": {
         "anchor": "x269",
         "domain": [
          0.7207785714285714,
          0.7837664285714285
         ],
         "gridcolor": "black",
         "gridwidth": 1,
         "linecolor": "black",
         "matches": "y",
         "showgrid": true,
         "showticklabels": true
        },
        "yaxis27": {
         "anchor": "x27",
         "domain": [
          0.07207785714285714,
          0.1350657142857143
         ],
         "gridcolor": "black",
         "gridwidth": 1,
         "linecolor": "black",
         "matches": "y",
         "showgrid": true,
         "showticklabels": true
        },
        "yaxis270": {
         "anchor": "x270",
         "domain": [
          0.7207785714285714,
          0.7837664285714285
         ],
         "gridcolor": "black",
         "gridwidth": 1,
         "linecolor": "black",
         "matches": "y",
         "showgrid": true,
         "showticklabels": true
        },
        "yaxis271": {
         "anchor": "x271",
         "domain": [
          0.7207785714285714,
          0.7837664285714285
         ],
         "gridcolor": "black",
         "gridwidth": 1,
         "linecolor": "black",
         "matches": "y",
         "showgrid": true,
         "showticklabels": true
        },
        "yaxis272": {
         "anchor": "x272",
         "domain": [
          0.7207785714285714,
          0.7837664285714285
         ],
         "gridcolor": "black",
         "gridwidth": 1,
         "linecolor": "black",
         "matches": "y",
         "showgrid": true,
         "showticklabels": true
        },
        "yaxis273": {
         "anchor": "x273",
         "domain": [
          0.7207785714285714,
          0.7837664285714285
         ],
         "gridcolor": "black",
         "gridwidth": 1,
         "linecolor": "black",
         "matches": "y",
         "showgrid": true,
         "showticklabels": true
        },
        "yaxis274": {
         "anchor": "x274",
         "domain": [
          0.7207785714285714,
          0.7837664285714285
         ],
         "gridcolor": "black",
         "gridwidth": 1,
         "linecolor": "black",
         "matches": "y",
         "showgrid": true,
         "showticklabels": true
        },
        "yaxis275": {
         "anchor": "x275",
         "domain": [
          0.7207785714285714,
          0.7837664285714285
         ],
         "gridcolor": "black",
         "gridwidth": 1,
         "linecolor": "black",
         "matches": "y",
         "showgrid": true,
         "showticklabels": true
        },
        "yaxis276": {
         "anchor": "x276",
         "domain": [
          0.7928564285714286,
          0.8558442857142857
         ],
         "gridcolor": "black",
         "gridwidth": 1,
         "linecolor": "black",
         "matches": "y",
         "showgrid": true,
         "showticklabels": true,
         "title": {
          "text": "percent"
         }
        },
        "yaxis277": {
         "anchor": "x277",
         "domain": [
          0.7928564285714286,
          0.8558442857142857
         ],
         "gridcolor": "black",
         "gridwidth": 1,
         "linecolor": "black",
         "matches": "y",
         "showgrid": true,
         "showticklabels": true
        },
        "yaxis278": {
         "anchor": "x278",
         "domain": [
          0.7928564285714286,
          0.8558442857142857
         ],
         "gridcolor": "black",
         "gridwidth": 1,
         "linecolor": "black",
         "matches": "y",
         "showgrid": true,
         "showticklabels": true
        },
        "yaxis279": {
         "anchor": "x279",
         "domain": [
          0.7928564285714286,
          0.8558442857142857
         ],
         "gridcolor": "black",
         "gridwidth": 1,
         "linecolor": "black",
         "matches": "y",
         "showgrid": true,
         "showticklabels": true
        },
        "yaxis28": {
         "anchor": "x28",
         "domain": [
          0.07207785714285714,
          0.1350657142857143
         ],
         "gridcolor": "black",
         "gridwidth": 1,
         "linecolor": "black",
         "matches": "y",
         "showgrid": true,
         "showticklabels": true
        },
        "yaxis280": {
         "anchor": "x280",
         "domain": [
          0.7928564285714286,
          0.8558442857142857
         ],
         "gridcolor": "black",
         "gridwidth": 1,
         "linecolor": "black",
         "matches": "y",
         "showgrid": true,
         "showticklabels": true
        },
        "yaxis281": {
         "anchor": "x281",
         "domain": [
          0.7928564285714286,
          0.8558442857142857
         ],
         "gridcolor": "black",
         "gridwidth": 1,
         "linecolor": "black",
         "matches": "y",
         "showgrid": true,
         "showticklabels": true
        },
        "yaxis282": {
         "anchor": "x282",
         "domain": [
          0.7928564285714286,
          0.8558442857142857
         ],
         "gridcolor": "black",
         "gridwidth": 1,
         "linecolor": "black",
         "matches": "y",
         "showgrid": true,
         "showticklabels": true
        },
        "yaxis283": {
         "anchor": "x283",
         "domain": [
          0.7928564285714286,
          0.8558442857142857
         ],
         "gridcolor": "black",
         "gridwidth": 1,
         "linecolor": "black",
         "matches": "y",
         "showgrid": true,
         "showticklabels": true
        },
        "yaxis284": {
         "anchor": "x284",
         "domain": [
          0.7928564285714286,
          0.8558442857142857
         ],
         "gridcolor": "black",
         "gridwidth": 1,
         "linecolor": "black",
         "matches": "y",
         "showgrid": true,
         "showticklabels": true
        },
        "yaxis285": {
         "anchor": "x285",
         "domain": [
          0.7928564285714286,
          0.8558442857142857
         ],
         "gridcolor": "black",
         "gridwidth": 1,
         "linecolor": "black",
         "matches": "y",
         "showgrid": true,
         "showticklabels": true
        },
        "yaxis286": {
         "anchor": "x286",
         "domain": [
          0.7928564285714286,
          0.8558442857142857
         ],
         "gridcolor": "black",
         "gridwidth": 1,
         "linecolor": "black",
         "matches": "y",
         "showgrid": true,
         "showticklabels": true
        },
        "yaxis287": {
         "anchor": "x287",
         "domain": [
          0.7928564285714286,
          0.8558442857142857
         ],
         "gridcolor": "black",
         "gridwidth": 1,
         "linecolor": "black",
         "matches": "y",
         "showgrid": true,
         "showticklabels": true
        },
        "yaxis288": {
         "anchor": "x288",
         "domain": [
          0.7928564285714286,
          0.8558442857142857
         ],
         "gridcolor": "black",
         "gridwidth": 1,
         "linecolor": "black",
         "matches": "y",
         "showgrid": true,
         "showticklabels": true
        },
        "yaxis289": {
         "anchor": "x289",
         "domain": [
          0.7928564285714286,
          0.8558442857142857
         ],
         "gridcolor": "black",
         "gridwidth": 1,
         "linecolor": "black",
         "matches": "y",
         "showgrid": true,
         "showticklabels": true
        },
        "yaxis29": {
         "anchor": "x29",
         "domain": [
          0.07207785714285714,
          0.1350657142857143
         ],
         "gridcolor": "black",
         "gridwidth": 1,
         "linecolor": "black",
         "matches": "y",
         "showgrid": true,
         "showticklabels": true
        },
        "yaxis290": {
         "anchor": "x290",
         "domain": [
          0.7928564285714286,
          0.8558442857142857
         ],
         "gridcolor": "black",
         "gridwidth": 1,
         "linecolor": "black",
         "matches": "y",
         "showgrid": true,
         "showticklabels": true
        },
        "yaxis291": {
         "anchor": "x291",
         "domain": [
          0.7928564285714286,
          0.8558442857142857
         ],
         "gridcolor": "black",
         "gridwidth": 1,
         "linecolor": "black",
         "matches": "y",
         "showgrid": true,
         "showticklabels": true
        },
        "yaxis292": {
         "anchor": "x292",
         "domain": [
          0.7928564285714286,
          0.8558442857142857
         ],
         "gridcolor": "black",
         "gridwidth": 1,
         "linecolor": "black",
         "matches": "y",
         "showgrid": true,
         "showticklabels": true
        },
        "yaxis293": {
         "anchor": "x293",
         "domain": [
          0.7928564285714286,
          0.8558442857142857
         ],
         "gridcolor": "black",
         "gridwidth": 1,
         "linecolor": "black",
         "matches": "y",
         "showgrid": true,
         "showticklabels": true
        },
        "yaxis294": {
         "anchor": "x294",
         "domain": [
          0.7928564285714286,
          0.8558442857142857
         ],
         "gridcolor": "black",
         "gridwidth": 1,
         "linecolor": "black",
         "matches": "y",
         "showgrid": true,
         "showticklabels": true
        },
        "yaxis295": {
         "anchor": "x295",
         "domain": [
          0.7928564285714286,
          0.8558442857142857
         ],
         "gridcolor": "black",
         "gridwidth": 1,
         "linecolor": "black",
         "matches": "y",
         "showgrid": true,
         "showticklabels": true
        },
        "yaxis296": {
         "anchor": "x296",
         "domain": [
          0.7928564285714286,
          0.8558442857142857
         ],
         "gridcolor": "black",
         "gridwidth": 1,
         "linecolor": "black",
         "matches": "y",
         "showgrid": true,
         "showticklabels": true
        },
        "yaxis297": {
         "anchor": "x297",
         "domain": [
          0.7928564285714286,
          0.8558442857142857
         ],
         "gridcolor": "black",
         "gridwidth": 1,
         "linecolor": "black",
         "matches": "y",
         "showgrid": true,
         "showticklabels": true
        },
        "yaxis298": {
         "anchor": "x298",
         "domain": [
          0.7928564285714286,
          0.8558442857142857
         ],
         "gridcolor": "black",
         "gridwidth": 1,
         "linecolor": "black",
         "matches": "y",
         "showgrid": true,
         "showticklabels": true
        },
        "yaxis299": {
         "anchor": "x299",
         "domain": [
          0.7928564285714286,
          0.8558442857142857
         ],
         "gridcolor": "black",
         "gridwidth": 1,
         "linecolor": "black",
         "matches": "y",
         "showgrid": true,
         "showticklabels": true
        },
        "yaxis3": {
         "anchor": "x3",
         "domain": [
          0,
          0.06298785714285714
         ],
         "gridcolor": "black",
         "gridwidth": 1,
         "linecolor": "black",
         "matches": "y",
         "showgrid": true,
         "showticklabels": true
        },
        "yaxis30": {
         "anchor": "x30",
         "domain": [
          0.07207785714285714,
          0.1350657142857143
         ],
         "gridcolor": "black",
         "gridwidth": 1,
         "linecolor": "black",
         "matches": "y",
         "showgrid": true,
         "showticklabels": true
        },
        "yaxis300": {
         "anchor": "x300",
         "domain": [
          0.7928564285714286,
          0.8558442857142857
         ],
         "gridcolor": "black",
         "gridwidth": 1,
         "linecolor": "black",
         "matches": "y",
         "showgrid": true,
         "showticklabels": true
        },
        "yaxis301": {
         "anchor": "x301",
         "domain": [
          0.8649342857142857,
          0.9279221428571428
         ],
         "gridcolor": "black",
         "gridwidth": 1,
         "linecolor": "black",
         "matches": "y",
         "showgrid": true,
         "showticklabels": true,
         "title": {
          "text": "percent"
         }
        },
        "yaxis302": {
         "anchor": "x302",
         "domain": [
          0.8649342857142857,
          0.9279221428571428
         ],
         "gridcolor": "black",
         "gridwidth": 1,
         "linecolor": "black",
         "matches": "y",
         "showgrid": true,
         "showticklabels": true
        },
        "yaxis303": {
         "anchor": "x303",
         "domain": [
          0.8649342857142857,
          0.9279221428571428
         ],
         "gridcolor": "black",
         "gridwidth": 1,
         "linecolor": "black",
         "matches": "y",
         "showgrid": true,
         "showticklabels": true
        },
        "yaxis304": {
         "anchor": "x304",
         "domain": [
          0.8649342857142857,
          0.9279221428571428
         ],
         "gridcolor": "black",
         "gridwidth": 1,
         "linecolor": "black",
         "matches": "y",
         "showgrid": true,
         "showticklabels": true
        },
        "yaxis305": {
         "anchor": "x305",
         "domain": [
          0.8649342857142857,
          0.9279221428571428
         ],
         "gridcolor": "black",
         "gridwidth": 1,
         "linecolor": "black",
         "matches": "y",
         "showgrid": true,
         "showticklabels": true
        },
        "yaxis306": {
         "anchor": "x306",
         "domain": [
          0.8649342857142857,
          0.9279221428571428
         ],
         "gridcolor": "black",
         "gridwidth": 1,
         "linecolor": "black",
         "matches": "y",
         "showgrid": true,
         "showticklabels": true
        },
        "yaxis307": {
         "anchor": "x307",
         "domain": [
          0.8649342857142857,
          0.9279221428571428
         ],
         "gridcolor": "black",
         "gridwidth": 1,
         "linecolor": "black",
         "matches": "y",
         "showgrid": true,
         "showticklabels": true
        },
        "yaxis308": {
         "anchor": "x308",
         "domain": [
          0.8649342857142857,
          0.9279221428571428
         ],
         "gridcolor": "black",
         "gridwidth": 1,
         "linecolor": "black",
         "matches": "y",
         "showgrid": true,
         "showticklabels": true
        },
        "yaxis309": {
         "anchor": "x309",
         "domain": [
          0.8649342857142857,
          0.9279221428571428
         ],
         "gridcolor": "black",
         "gridwidth": 1,
         "linecolor": "black",
         "matches": "y",
         "showgrid": true,
         "showticklabels": true
        },
        "yaxis31": {
         "anchor": "x31",
         "domain": [
          0.07207785714285714,
          0.1350657142857143
         ],
         "gridcolor": "black",
         "gridwidth": 1,
         "linecolor": "black",
         "matches": "y",
         "showgrid": true,
         "showticklabels": true
        },
        "yaxis310": {
         "anchor": "x310",
         "domain": [
          0.8649342857142857,
          0.9279221428571428
         ],
         "gridcolor": "black",
         "gridwidth": 1,
         "linecolor": "black",
         "matches": "y",
         "showgrid": true,
         "showticklabels": true
        },
        "yaxis311": {
         "anchor": "x311",
         "domain": [
          0.8649342857142857,
          0.9279221428571428
         ],
         "gridcolor": "black",
         "gridwidth": 1,
         "linecolor": "black",
         "matches": "y",
         "showgrid": true,
         "showticklabels": true
        },
        "yaxis312": {
         "anchor": "x312",
         "domain": [
          0.8649342857142857,
          0.9279221428571428
         ],
         "gridcolor": "black",
         "gridwidth": 1,
         "linecolor": "black",
         "matches": "y",
         "showgrid": true,
         "showticklabels": true
        },
        "yaxis313": {
         "anchor": "x313",
         "domain": [
          0.8649342857142857,
          0.9279221428571428
         ],
         "gridcolor": "black",
         "gridwidth": 1,
         "linecolor": "black",
         "matches": "y",
         "showgrid": true,
         "showticklabels": true
        },
        "yaxis314": {
         "anchor": "x314",
         "domain": [
          0.8649342857142857,
          0.9279221428571428
         ],
         "gridcolor": "black",
         "gridwidth": 1,
         "linecolor": "black",
         "matches": "y",
         "showgrid": true,
         "showticklabels": true
        },
        "yaxis315": {
         "anchor": "x315",
         "domain": [
          0.8649342857142857,
          0.9279221428571428
         ],
         "gridcolor": "black",
         "gridwidth": 1,
         "linecolor": "black",
         "matches": "y",
         "showgrid": true,
         "showticklabels": true
        },
        "yaxis316": {
         "anchor": "x316",
         "domain": [
          0.8649342857142857,
          0.9279221428571428
         ],
         "gridcolor": "black",
         "gridwidth": 1,
         "linecolor": "black",
         "matches": "y",
         "showgrid": true,
         "showticklabels": true
        },
        "yaxis317": {
         "anchor": "x317",
         "domain": [
          0.8649342857142857,
          0.9279221428571428
         ],
         "gridcolor": "black",
         "gridwidth": 1,
         "linecolor": "black",
         "matches": "y",
         "showgrid": true,
         "showticklabels": true
        },
        "yaxis318": {
         "anchor": "x318",
         "domain": [
          0.8649342857142857,
          0.9279221428571428
         ],
         "gridcolor": "black",
         "gridwidth": 1,
         "linecolor": "black",
         "matches": "y",
         "showgrid": true,
         "showticklabels": true
        },
        "yaxis319": {
         "anchor": "x319",
         "domain": [
          0.8649342857142857,
          0.9279221428571428
         ],
         "gridcolor": "black",
         "gridwidth": 1,
         "linecolor": "black",
         "matches": "y",
         "showgrid": true,
         "showticklabels": true
        },
        "yaxis32": {
         "anchor": "x32",
         "domain": [
          0.07207785714285714,
          0.1350657142857143
         ],
         "gridcolor": "black",
         "gridwidth": 1,
         "linecolor": "black",
         "matches": "y",
         "showgrid": true,
         "showticklabels": true
        },
        "yaxis320": {
         "anchor": "x320",
         "domain": [
          0.8649342857142857,
          0.9279221428571428
         ],
         "gridcolor": "black",
         "gridwidth": 1,
         "linecolor": "black",
         "matches": "y",
         "showgrid": true,
         "showticklabels": true
        },
        "yaxis321": {
         "anchor": "x321",
         "domain": [
          0.8649342857142857,
          0.9279221428571428
         ],
         "gridcolor": "black",
         "gridwidth": 1,
         "linecolor": "black",
         "matches": "y",
         "showgrid": true,
         "showticklabels": true
        },
        "yaxis322": {
         "anchor": "x322",
         "domain": [
          0.8649342857142857,
          0.9279221428571428
         ],
         "gridcolor": "black",
         "gridwidth": 1,
         "linecolor": "black",
         "matches": "y",
         "showgrid": true,
         "showticklabels": true
        },
        "yaxis323": {
         "anchor": "x323",
         "domain": [
          0.8649342857142857,
          0.9279221428571428
         ],
         "gridcolor": "black",
         "gridwidth": 1,
         "linecolor": "black",
         "matches": "y",
         "showgrid": true,
         "showticklabels": true
        },
        "yaxis324": {
         "anchor": "x324",
         "domain": [
          0.8649342857142857,
          0.9279221428571428
         ],
         "gridcolor": "black",
         "gridwidth": 1,
         "linecolor": "black",
         "matches": "y",
         "showgrid": true,
         "showticklabels": true
        },
        "yaxis325": {
         "anchor": "x325",
         "domain": [
          0.8649342857142857,
          0.9279221428571428
         ],
         "gridcolor": "black",
         "gridwidth": 1,
         "linecolor": "black",
         "matches": "y",
         "showgrid": true,
         "showticklabels": true
        },
        "yaxis326": {
         "anchor": "x326",
         "domain": [
          0.9370121428571428,
          1
         ],
         "gridcolor": "black",
         "gridwidth": 1,
         "linecolor": "black",
         "matches": "y",
         "showgrid": true,
         "showticklabels": true,
         "title": {
          "text": "percent"
         }
        },
        "yaxis327": {
         "anchor": "x327",
         "domain": [
          0.9370121428571428,
          1
         ],
         "gridcolor": "black",
         "gridwidth": 1,
         "linecolor": "black",
         "matches": "y",
         "showgrid": true,
         "showticklabels": true
        },
        "yaxis328": {
         "anchor": "x328",
         "domain": [
          0.9370121428571428,
          1
         ],
         "gridcolor": "black",
         "gridwidth": 1,
         "linecolor": "black",
         "matches": "y",
         "showgrid": true,
         "showticklabels": true
        },
        "yaxis329": {
         "anchor": "x329",
         "domain": [
          0.9370121428571428,
          1
         ],
         "gridcolor": "black",
         "gridwidth": 1,
         "linecolor": "black",
         "matches": "y",
         "showgrid": true,
         "showticklabels": true
        },
        "yaxis33": {
         "anchor": "x33",
         "domain": [
          0.07207785714285714,
          0.1350657142857143
         ],
         "gridcolor": "black",
         "gridwidth": 1,
         "linecolor": "black",
         "matches": "y",
         "showgrid": true,
         "showticklabels": true
        },
        "yaxis330": {
         "anchor": "x330",
         "domain": [
          0.9370121428571428,
          1
         ],
         "gridcolor": "black",
         "gridwidth": 1,
         "linecolor": "black",
         "matches": "y",
         "showgrid": true,
         "showticklabels": true
        },
        "yaxis331": {
         "anchor": "x331",
         "domain": [
          0.9370121428571428,
          1
         ],
         "gridcolor": "black",
         "gridwidth": 1,
         "linecolor": "black",
         "matches": "y",
         "showgrid": true,
         "showticklabels": true
        },
        "yaxis332": {
         "anchor": "x332",
         "domain": [
          0.9370121428571428,
          1
         ],
         "gridcolor": "black",
         "gridwidth": 1,
         "linecolor": "black",
         "matches": "y",
         "showgrid": true,
         "showticklabels": true
        },
        "yaxis333": {
         "anchor": "x333",
         "domain": [
          0.9370121428571428,
          1
         ],
         "gridcolor": "black",
         "gridwidth": 1,
         "linecolor": "black",
         "matches": "y",
         "showgrid": true,
         "showticklabels": true
        },
        "yaxis334": {
         "anchor": "x334",
         "domain": [
          0.9370121428571428,
          1
         ],
         "gridcolor": "black",
         "gridwidth": 1,
         "linecolor": "black",
         "matches": "y",
         "showgrid": true,
         "showticklabels": true
        },
        "yaxis335": {
         "anchor": "x335",
         "domain": [
          0.9370121428571428,
          1
         ],
         "gridcolor": "black",
         "gridwidth": 1,
         "linecolor": "black",
         "matches": "y",
         "showgrid": true,
         "showticklabels": true
        },
        "yaxis336": {
         "anchor": "x336",
         "domain": [
          0.9370121428571428,
          1
         ],
         "gridcolor": "black",
         "gridwidth": 1,
         "linecolor": "black",
         "matches": "y",
         "showgrid": true,
         "showticklabels": true
        },
        "yaxis337": {
         "anchor": "x337",
         "domain": [
          0.9370121428571428,
          1
         ],
         "gridcolor": "black",
         "gridwidth": 1,
         "linecolor": "black",
         "matches": "y",
         "showgrid": true,
         "showticklabels": true
        },
        "yaxis338": {
         "anchor": "x338",
         "domain": [
          0.9370121428571428,
          1
         ],
         "gridcolor": "black",
         "gridwidth": 1,
         "linecolor": "black",
         "matches": "y",
         "showgrid": true,
         "showticklabels": true
        },
        "yaxis339": {
         "anchor": "x339",
         "domain": [
          0.9370121428571428,
          1
         ],
         "gridcolor": "black",
         "gridwidth": 1,
         "linecolor": "black",
         "matches": "y",
         "showgrid": true,
         "showticklabels": true
        },
        "yaxis34": {
         "anchor": "x34",
         "domain": [
          0.07207785714285714,
          0.1350657142857143
         ],
         "gridcolor": "black",
         "gridwidth": 1,
         "linecolor": "black",
         "matches": "y",
         "showgrid": true,
         "showticklabels": true
        },
        "yaxis340": {
         "anchor": "x340",
         "domain": [
          0.9370121428571428,
          1
         ],
         "gridcolor": "black",
         "gridwidth": 1,
         "linecolor": "black",
         "matches": "y",
         "showgrid": true,
         "showticklabels": true
        },
        "yaxis341": {
         "anchor": "x341",
         "domain": [
          0.9370121428571428,
          1
         ],
         "gridcolor": "black",
         "gridwidth": 1,
         "linecolor": "black",
         "matches": "y",
         "showgrid": true,
         "showticklabels": true
        },
        "yaxis342": {
         "anchor": "x342",
         "domain": [
          0.9370121428571428,
          1
         ],
         "gridcolor": "black",
         "gridwidth": 1,
         "linecolor": "black",
         "matches": "y",
         "showgrid": true,
         "showticklabels": true
        },
        "yaxis343": {
         "anchor": "x343",
         "domain": [
          0.9370121428571428,
          1
         ],
         "gridcolor": "black",
         "gridwidth": 1,
         "linecolor": "black",
         "matches": "y",
         "showgrid": true,
         "showticklabels": true
        },
        "yaxis344": {
         "anchor": "x344",
         "domain": [
          0.9370121428571428,
          1
         ],
         "gridcolor": "black",
         "gridwidth": 1,
         "linecolor": "black",
         "matches": "y",
         "showgrid": true,
         "showticklabels": true
        },
        "yaxis345": {
         "anchor": "x345",
         "domain": [
          0.9370121428571428,
          1
         ],
         "gridcolor": "black",
         "gridwidth": 1,
         "linecolor": "black",
         "matches": "y",
         "showgrid": true,
         "showticklabels": true
        },
        "yaxis346": {
         "anchor": "x346",
         "domain": [
          0.9370121428571428,
          1
         ],
         "gridcolor": "black",
         "gridwidth": 1,
         "linecolor": "black",
         "matches": "y",
         "showgrid": true,
         "showticklabels": true
        },
        "yaxis347": {
         "anchor": "x347",
         "domain": [
          0.9370121428571428,
          1
         ],
         "gridcolor": "black",
         "gridwidth": 1,
         "linecolor": "black",
         "matches": "y",
         "showgrid": true,
         "showticklabels": true
        },
        "yaxis348": {
         "anchor": "x348",
         "domain": [
          0.9370121428571428,
          1
         ],
         "gridcolor": "black",
         "gridwidth": 1,
         "linecolor": "black",
         "matches": "y",
         "showgrid": true,
         "showticklabels": true
        },
        "yaxis349": {
         "anchor": "x349",
         "domain": [
          0.9370121428571428,
          1
         ],
         "gridcolor": "black",
         "gridwidth": 1,
         "linecolor": "black",
         "matches": "y",
         "showgrid": true,
         "showticklabels": true
        },
        "yaxis35": {
         "anchor": "x35",
         "domain": [
          0.07207785714285714,
          0.1350657142857143
         ],
         "gridcolor": "black",
         "gridwidth": 1,
         "linecolor": "black",
         "matches": "y",
         "showgrid": true,
         "showticklabels": true
        },
        "yaxis350": {
         "anchor": "x350",
         "domain": [
          0.9370121428571428,
          1
         ],
         "gridcolor": "black",
         "gridwidth": 1,
         "linecolor": "black",
         "matches": "y",
         "showgrid": true,
         "showticklabels": true
        },
        "yaxis36": {
         "anchor": "x36",
         "domain": [
          0.07207785714285714,
          0.1350657142857143
         ],
         "gridcolor": "black",
         "gridwidth": 1,
         "linecolor": "black",
         "matches": "y",
         "showgrid": true,
         "showticklabels": true
        },
        "yaxis37": {
         "anchor": "x37",
         "domain": [
          0.07207785714285714,
          0.1350657142857143
         ],
         "gridcolor": "black",
         "gridwidth": 1,
         "linecolor": "black",
         "matches": "y",
         "showgrid": true,
         "showticklabels": true
        },
        "yaxis38": {
         "anchor": "x38",
         "domain": [
          0.07207785714285714,
          0.1350657142857143
         ],
         "gridcolor": "black",
         "gridwidth": 1,
         "linecolor": "black",
         "matches": "y",
         "showgrid": true,
         "showticklabels": true
        },
        "yaxis39": {
         "anchor": "x39",
         "domain": [
          0.07207785714285714,
          0.1350657142857143
         ],
         "gridcolor": "black",
         "gridwidth": 1,
         "linecolor": "black",
         "matches": "y",
         "showgrid": true,
         "showticklabels": true
        },
        "yaxis4": {
         "anchor": "x4",
         "domain": [
          0,
          0.06298785714285714
         ],
         "gridcolor": "black",
         "gridwidth": 1,
         "linecolor": "black",
         "matches": "y",
         "showgrid": true,
         "showticklabels": true
        },
        "yaxis40": {
         "anchor": "x40",
         "domain": [
          0.07207785714285714,
          0.1350657142857143
         ],
         "gridcolor": "black",
         "gridwidth": 1,
         "linecolor": "black",
         "matches": "y",
         "showgrid": true,
         "showticklabels": true
        },
        "yaxis41": {
         "anchor": "x41",
         "domain": [
          0.07207785714285714,
          0.1350657142857143
         ],
         "gridcolor": "black",
         "gridwidth": 1,
         "linecolor": "black",
         "matches": "y",
         "showgrid": true,
         "showticklabels": true
        },
        "yaxis42": {
         "anchor": "x42",
         "domain": [
          0.07207785714285714,
          0.1350657142857143
         ],
         "gridcolor": "black",
         "gridwidth": 1,
         "linecolor": "black",
         "matches": "y",
         "showgrid": true,
         "showticklabels": true
        },
        "yaxis43": {
         "anchor": "x43",
         "domain": [
          0.07207785714285714,
          0.1350657142857143
         ],
         "gridcolor": "black",
         "gridwidth": 1,
         "linecolor": "black",
         "matches": "y",
         "showgrid": true,
         "showticklabels": true
        },
        "yaxis44": {
         "anchor": "x44",
         "domain": [
          0.07207785714285714,
          0.1350657142857143
         ],
         "gridcolor": "black",
         "gridwidth": 1,
         "linecolor": "black",
         "matches": "y",
         "showgrid": true,
         "showticklabels": true
        },
        "yaxis45": {
         "anchor": "x45",
         "domain": [
          0.07207785714285714,
          0.1350657142857143
         ],
         "gridcolor": "black",
         "gridwidth": 1,
         "linecolor": "black",
         "matches": "y",
         "showgrid": true,
         "showticklabels": true
        },
        "yaxis46": {
         "anchor": "x46",
         "domain": [
          0.07207785714285714,
          0.1350657142857143
         ],
         "gridcolor": "black",
         "gridwidth": 1,
         "linecolor": "black",
         "matches": "y",
         "showgrid": true,
         "showticklabels": true
        },
        "yaxis47": {
         "anchor": "x47",
         "domain": [
          0.07207785714285714,
          0.1350657142857143
         ],
         "gridcolor": "black",
         "gridwidth": 1,
         "linecolor": "black",
         "matches": "y",
         "showgrid": true,
         "showticklabels": true
        },
        "yaxis48": {
         "anchor": "x48",
         "domain": [
          0.07207785714285714,
          0.1350657142857143
         ],
         "gridcolor": "black",
         "gridwidth": 1,
         "linecolor": "black",
         "matches": "y",
         "showgrid": true,
         "showticklabels": true
        },
        "yaxis49": {
         "anchor": "x49",
         "domain": [
          0.07207785714285714,
          0.1350657142857143
         ],
         "gridcolor": "black",
         "gridwidth": 1,
         "linecolor": "black",
         "matches": "y",
         "showgrid": true,
         "showticklabels": true
        },
        "yaxis5": {
         "anchor": "x5",
         "domain": [
          0,
          0.06298785714285714
         ],
         "gridcolor": "black",
         "gridwidth": 1,
         "linecolor": "black",
         "matches": "y",
         "showgrid": true,
         "showticklabels": true
        },
        "yaxis50": {
         "anchor": "x50",
         "domain": [
          0.07207785714285714,
          0.1350657142857143
         ],
         "gridcolor": "black",
         "gridwidth": 1,
         "linecolor": "black",
         "matches": "y",
         "showgrid": true,
         "showticklabels": true
        },
        "yaxis51": {
         "anchor": "x51",
         "domain": [
          0.14415571428571428,
          0.20714357142857143
         ],
         "gridcolor": "black",
         "gridwidth": 1,
         "linecolor": "black",
         "matches": "y",
         "showgrid": true,
         "showticklabels": true,
         "title": {
          "text": "percent"
         }
        },
        "yaxis52": {
         "anchor": "x52",
         "domain": [
          0.14415571428571428,
          0.20714357142857143
         ],
         "gridcolor": "black",
         "gridwidth": 1,
         "linecolor": "black",
         "matches": "y",
         "showgrid": true,
         "showticklabels": true
        },
        "yaxis53": {
         "anchor": "x53",
         "domain": [
          0.14415571428571428,
          0.20714357142857143
         ],
         "gridcolor": "black",
         "gridwidth": 1,
         "linecolor": "black",
         "matches": "y",
         "showgrid": true,
         "showticklabels": true
        },
        "yaxis54": {
         "anchor": "x54",
         "domain": [
          0.14415571428571428,
          0.20714357142857143
         ],
         "gridcolor": "black",
         "gridwidth": 1,
         "linecolor": "black",
         "matches": "y",
         "showgrid": true,
         "showticklabels": true
        },
        "yaxis55": {
         "anchor": "x55",
         "domain": [
          0.14415571428571428,
          0.20714357142857143
         ],
         "gridcolor": "black",
         "gridwidth": 1,
         "linecolor": "black",
         "matches": "y",
         "showgrid": true,
         "showticklabels": true
        },
        "yaxis56": {
         "anchor": "x56",
         "domain": [
          0.14415571428571428,
          0.20714357142857143
         ],
         "gridcolor": "black",
         "gridwidth": 1,
         "linecolor": "black",
         "matches": "y",
         "showgrid": true,
         "showticklabels": true
        },
        "yaxis57": {
         "anchor": "x57",
         "domain": [
          0.14415571428571428,
          0.20714357142857143
         ],
         "gridcolor": "black",
         "gridwidth": 1,
         "linecolor": "black",
         "matches": "y",
         "showgrid": true,
         "showticklabels": true
        },
        "yaxis58": {
         "anchor": "x58",
         "domain": [
          0.14415571428571428,
          0.20714357142857143
         ],
         "gridcolor": "black",
         "gridwidth": 1,
         "linecolor": "black",
         "matches": "y",
         "showgrid": true,
         "showticklabels": true
        },
        "yaxis59": {
         "anchor": "x59",
         "domain": [
          0.14415571428571428,
          0.20714357142857143
         ],
         "gridcolor": "black",
         "gridwidth": 1,
         "linecolor": "black",
         "matches": "y",
         "showgrid": true,
         "showticklabels": true
        },
        "yaxis6": {
         "anchor": "x6",
         "domain": [
          0,
          0.06298785714285714
         ],
         "gridcolor": "black",
         "gridwidth": 1,
         "linecolor": "black",
         "matches": "y",
         "showgrid": true,
         "showticklabels": true
        },
        "yaxis60": {
         "anchor": "x60",
         "domain": [
          0.14415571428571428,
          0.20714357142857143
         ],
         "gridcolor": "black",
         "gridwidth": 1,
         "linecolor": "black",
         "matches": "y",
         "showgrid": true,
         "showticklabels": true
        },
        "yaxis61": {
         "anchor": "x61",
         "domain": [
          0.14415571428571428,
          0.20714357142857143
         ],
         "gridcolor": "black",
         "gridwidth": 1,
         "linecolor": "black",
         "matches": "y",
         "showgrid": true,
         "showticklabels": true
        },
        "yaxis62": {
         "anchor": "x62",
         "domain": [
          0.14415571428571428,
          0.20714357142857143
         ],
         "gridcolor": "black",
         "gridwidth": 1,
         "linecolor": "black",
         "matches": "y",
         "showgrid": true,
         "showticklabels": true
        },
        "yaxis63": {
         "anchor": "x63",
         "domain": [
          0.14415571428571428,
          0.20714357142857143
         ],
         "gridcolor": "black",
         "gridwidth": 1,
         "linecolor": "black",
         "matches": "y",
         "showgrid": true,
         "showticklabels": true
        },
        "yaxis64": {
         "anchor": "x64",
         "domain": [
          0.14415571428571428,
          0.20714357142857143
         ],
         "gridcolor": "black",
         "gridwidth": 1,
         "linecolor": "black",
         "matches": "y",
         "showgrid": true,
         "showticklabels": true
        },
        "yaxis65": {
         "anchor": "x65",
         "domain": [
          0.14415571428571428,
          0.20714357142857143
         ],
         "gridcolor": "black",
         "gridwidth": 1,
         "linecolor": "black",
         "matches": "y",
         "showgrid": true,
         "showticklabels": true
        },
        "yaxis66": {
         "anchor": "x66",
         "domain": [
          0.14415571428571428,
          0.20714357142857143
         ],
         "gridcolor": "black",
         "gridwidth": 1,
         "linecolor": "black",
         "matches": "y",
         "showgrid": true,
         "showticklabels": true
        },
        "yaxis67": {
         "anchor": "x67",
         "domain": [
          0.14415571428571428,
          0.20714357142857143
         ],
         "gridcolor": "black",
         "gridwidth": 1,
         "linecolor": "black",
         "matches": "y",
         "showgrid": true,
         "showticklabels": true
        },
        "yaxis68": {
         "anchor": "x68",
         "domain": [
          0.14415571428571428,
          0.20714357142857143
         ],
         "gridcolor": "black",
         "gridwidth": 1,
         "linecolor": "black",
         "matches": "y",
         "showgrid": true,
         "showticklabels": true
        },
        "yaxis69": {
         "anchor": "x69",
         "domain": [
          0.14415571428571428,
          0.20714357142857143
         ],
         "gridcolor": "black",
         "gridwidth": 1,
         "linecolor": "black",
         "matches": "y",
         "showgrid": true,
         "showticklabels": true
        },
        "yaxis7": {
         "anchor": "x7",
         "domain": [
          0,
          0.06298785714285714
         ],
         "gridcolor": "black",
         "gridwidth": 1,
         "linecolor": "black",
         "matches": "y",
         "showgrid": true,
         "showticklabels": true
        },
        "yaxis70": {
         "anchor": "x70",
         "domain": [
          0.14415571428571428,
          0.20714357142857143
         ],
         "gridcolor": "black",
         "gridwidth": 1,
         "linecolor": "black",
         "matches": "y",
         "showgrid": true,
         "showticklabels": true
        },
        "yaxis71": {
         "anchor": "x71",
         "domain": [
          0.14415571428571428,
          0.20714357142857143
         ],
         "gridcolor": "black",
         "gridwidth": 1,
         "linecolor": "black",
         "matches": "y",
         "showgrid": true,
         "showticklabels": true
        },
        "yaxis72": {
         "anchor": "x72",
         "domain": [
          0.14415571428571428,
          0.20714357142857143
         ],
         "gridcolor": "black",
         "gridwidth": 1,
         "linecolor": "black",
         "matches": "y",
         "showgrid": true,
         "showticklabels": true
        },
        "yaxis73": {
         "anchor": "x73",
         "domain": [
          0.14415571428571428,
          0.20714357142857143
         ],
         "gridcolor": "black",
         "gridwidth": 1,
         "linecolor": "black",
         "matches": "y",
         "showgrid": true,
         "showticklabels": true
        },
        "yaxis74": {
         "anchor": "x74",
         "domain": [
          0.14415571428571428,
          0.20714357142857143
         ],
         "gridcolor": "black",
         "gridwidth": 1,
         "linecolor": "black",
         "matches": "y",
         "showgrid": true,
         "showticklabels": true
        },
        "yaxis75": {
         "anchor": "x75",
         "domain": [
          0.14415571428571428,
          0.20714357142857143
         ],
         "gridcolor": "black",
         "gridwidth": 1,
         "linecolor": "black",
         "matches": "y",
         "showgrid": true,
         "showticklabels": true
        },
        "yaxis76": {
         "anchor": "x76",
         "domain": [
          0.21623357142857141,
          0.27922142857142856
         ],
         "gridcolor": "black",
         "gridwidth": 1,
         "linecolor": "black",
         "matches": "y",
         "showgrid": true,
         "showticklabels": true,
         "title": {
          "text": "percent"
         }
        },
        "yaxis77": {
         "anchor": "x77",
         "domain": [
          0.21623357142857141,
          0.27922142857142856
         ],
         "gridcolor": "black",
         "gridwidth": 1,
         "linecolor": "black",
         "matches": "y",
         "showgrid": true,
         "showticklabels": true
        },
        "yaxis78": {
         "anchor": "x78",
         "domain": [
          0.21623357142857141,
          0.27922142857142856
         ],
         "gridcolor": "black",
         "gridwidth": 1,
         "linecolor": "black",
         "matches": "y",
         "showgrid": true,
         "showticklabels": true
        },
        "yaxis79": {
         "anchor": "x79",
         "domain": [
          0.21623357142857141,
          0.27922142857142856
         ],
         "gridcolor": "black",
         "gridwidth": 1,
         "linecolor": "black",
         "matches": "y",
         "showgrid": true,
         "showticklabels": true
        },
        "yaxis8": {
         "anchor": "x8",
         "domain": [
          0,
          0.06298785714285714
         ],
         "gridcolor": "black",
         "gridwidth": 1,
         "linecolor": "black",
         "matches": "y",
         "showgrid": true,
         "showticklabels": true
        },
        "yaxis80": {
         "anchor": "x80",
         "domain": [
          0.21623357142857141,
          0.27922142857142856
         ],
         "gridcolor": "black",
         "gridwidth": 1,
         "linecolor": "black",
         "matches": "y",
         "showgrid": true,
         "showticklabels": true
        },
        "yaxis81": {
         "anchor": "x81",
         "domain": [
          0.21623357142857141,
          0.27922142857142856
         ],
         "gridcolor": "black",
         "gridwidth": 1,
         "linecolor": "black",
         "matches": "y",
         "showgrid": true,
         "showticklabels": true
        },
        "yaxis82": {
         "anchor": "x82",
         "domain": [
          0.21623357142857141,
          0.27922142857142856
         ],
         "gridcolor": "black",
         "gridwidth": 1,
         "linecolor": "black",
         "matches": "y",
         "showgrid": true,
         "showticklabels": true
        },
        "yaxis83": {
         "anchor": "x83",
         "domain": [
          0.21623357142857141,
          0.27922142857142856
         ],
         "gridcolor": "black",
         "gridwidth": 1,
         "linecolor": "black",
         "matches": "y",
         "showgrid": true,
         "showticklabels": true
        },
        "yaxis84": {
         "anchor": "x84",
         "domain": [
          0.21623357142857141,
          0.27922142857142856
         ],
         "gridcolor": "black",
         "gridwidth": 1,
         "linecolor": "black",
         "matches": "y",
         "showgrid": true,
         "showticklabels": true
        },
        "yaxis85": {
         "anchor": "x85",
         "domain": [
          0.21623357142857141,
          0.27922142857142856
         ],
         "gridcolor": "black",
         "gridwidth": 1,
         "linecolor": "black",
         "matches": "y",
         "showgrid": true,
         "showticklabels": true
        },
        "yaxis86": {
         "anchor": "x86",
         "domain": [
          0.21623357142857141,
          0.27922142857142856
         ],
         "gridcolor": "black",
         "gridwidth": 1,
         "linecolor": "black",
         "matches": "y",
         "showgrid": true,
         "showticklabels": true
        },
        "yaxis87": {
         "anchor": "x87",
         "domain": [
          0.21623357142857141,
          0.27922142857142856
         ],
         "gridcolor": "black",
         "gridwidth": 1,
         "linecolor": "black",
         "matches": "y",
         "showgrid": true,
         "showticklabels": true
        },
        "yaxis88": {
         "anchor": "x88",
         "domain": [
          0.21623357142857141,
          0.27922142857142856
         ],
         "gridcolor": "black",
         "gridwidth": 1,
         "linecolor": "black",
         "matches": "y",
         "showgrid": true,
         "showticklabels": true
        },
        "yaxis89": {
         "anchor": "x89",
         "domain": [
          0.21623357142857141,
          0.27922142857142856
         ],
         "gridcolor": "black",
         "gridwidth": 1,
         "linecolor": "black",
         "matches": "y",
         "showgrid": true,
         "showticklabels": true
        },
        "yaxis9": {
         "anchor": "x9",
         "domain": [
          0,
          0.06298785714285714
         ],
         "gridcolor": "black",
         "gridwidth": 1,
         "linecolor": "black",
         "matches": "y",
         "showgrid": true,
         "showticklabels": true
        },
        "yaxis90": {
         "anchor": "x90",
         "domain": [
          0.21623357142857141,
          0.27922142857142856
         ],
         "gridcolor": "black",
         "gridwidth": 1,
         "linecolor": "black",
         "matches": "y",
         "showgrid": true,
         "showticklabels": true
        },
        "yaxis91": {
         "anchor": "x91",
         "domain": [
          0.21623357142857141,
          0.27922142857142856
         ],
         "gridcolor": "black",
         "gridwidth": 1,
         "linecolor": "black",
         "matches": "y",
         "showgrid": true,
         "showticklabels": true
        },
        "yaxis92": {
         "anchor": "x92",
         "domain": [
          0.21623357142857141,
          0.27922142857142856
         ],
         "gridcolor": "black",
         "gridwidth": 1,
         "linecolor": "black",
         "matches": "y",
         "showgrid": true,
         "showticklabels": true
        },
        "yaxis93": {
         "anchor": "x93",
         "domain": [
          0.21623357142857141,
          0.27922142857142856
         ],
         "gridcolor": "black",
         "gridwidth": 1,
         "linecolor": "black",
         "matches": "y",
         "showgrid": true,
         "showticklabels": true
        },
        "yaxis94": {
         "anchor": "x94",
         "domain": [
          0.21623357142857141,
          0.27922142857142856
         ],
         "gridcolor": "black",
         "gridwidth": 1,
         "linecolor": "black",
         "matches": "y",
         "showgrid": true,
         "showticklabels": true
        },
        "yaxis95": {
         "anchor": "x95",
         "domain": [
          0.21623357142857141,
          0.27922142857142856
         ],
         "gridcolor": "black",
         "gridwidth": 1,
         "linecolor": "black",
         "matches": "y",
         "showgrid": true,
         "showticklabels": true
        },
        "yaxis96": {
         "anchor": "x96",
         "domain": [
          0.21623357142857141,
          0.27922142857142856
         ],
         "gridcolor": "black",
         "gridwidth": 1,
         "linecolor": "black",
         "matches": "y",
         "showgrid": true,
         "showticklabels": true
        },
        "yaxis97": {
         "anchor": "x97",
         "domain": [
          0.21623357142857141,
          0.27922142857142856
         ],
         "gridcolor": "black",
         "gridwidth": 1,
         "linecolor": "black",
         "matches": "y",
         "showgrid": true,
         "showticklabels": true
        },
        "yaxis98": {
         "anchor": "x98",
         "domain": [
          0.21623357142857141,
          0.27922142857142856
         ],
         "gridcolor": "black",
         "gridwidth": 1,
         "linecolor": "black",
         "matches": "y",
         "showgrid": true,
         "showticklabels": true
        },
        "yaxis99": {
         "anchor": "x99",
         "domain": [
          0.21623357142857141,
          0.27922142857142856
         ],
         "gridcolor": "black",
         "gridwidth": 1,
         "linecolor": "black",
         "matches": "y",
         "showgrid": true,
         "showticklabels": true
        }
       }
      },
      "text/html": [
       "<div>                            <div id=\"d8c18705-89de-4f9a-8b16-a2b39af43bce\" class=\"plotly-graph-div\" style=\"height:2800px; width:4200px;\"></div>            <script type=\"text/javascript\">                require([\"plotly\"], function(Plotly) {                    window.PLOTLYENV=window.PLOTLYENV || {};                                    if (document.getElementById(\"d8c18705-89de-4f9a-8b16-a2b39af43bce\")) {                    Plotly.newPlot(                        \"d8c18705-89de-4f9a-8b16-a2b39af43bce\",                        [{\"coloraxis\": \"coloraxis\", \"hovertemplate\": \"metricName=MSE<br>ds=FiQA<br>date=%{x}<br>percent=%{y}<br>count=%{z}<extra></extra>\", \"name\": \"\", \"type\": \"histogram2d\", \"x\": [\"2019-08\"], \"xaxis\": \"x326\", \"xbingroup\": \"x\", \"y\": [100.0], \"yaxis\": \"y326\", \"ybingroup\": \"y\"}, {\"coloraxis\": \"coloraxis\", \"hovertemplate\": \"metricName=R^2<br>ds=FiQA<br>date=%{x}<br>percent=%{y}<br>count=%{z}<extra></extra>\", \"name\": \"\", \"type\": \"histogram2d\", \"x\": [\"2019-08\"], \"xaxis\": \"x301\", \"xbingroup\": \"x\", \"y\": [100.0], \"yaxis\": \"y301\", \"ybingroup\": \"y\"}, {\"coloraxis\": \"coloraxis\", \"hovertemplate\": \"metricName=Average Recall<br>ds=SemEval 2017 Task 4-A<br>date=%{x}<br>percent=%{y}<br>count=%{z}<extra></extra>\", \"name\": \"\", \"type\": \"histogram2d\", \"x\": [\"2019-08\"], \"xaxis\": \"x277\", \"xbingroup\": \"x\", \"y\": [68.0], \"yaxis\": \"y277\", \"ybingroup\": \"y\"}, {\"coloraxis\": \"coloraxis\", \"hovertemplate\": \"metricName=Average Recall<br>ds=ASTD<br>date=%{x}<br>percent=%{y}<br>count=%{z}<extra></extra>\", \"name\": \"\", \"type\": \"histogram2d\", \"x\": [\"2019-08\"], \"xaxis\": \"x278\", \"xbingroup\": \"x\", \"y\": [69.0], \"yaxis\": \"y278\", \"ybingroup\": \"y\"}, {\"coloraxis\": \"coloraxis\", \"hovertemplate\": \"metricName=Average Recall<br>ds=ArSAS<br>date=%{x}<br>percent=%{y}<br>count=%{z}<extra></extra>\", \"name\": \"\", \"type\": \"histogram2d\", \"x\": [\"2019-08\"], \"xaxis\": \"x280\", \"xbingroup\": \"x\", \"y\": [100.0], \"yaxis\": \"y280\", \"ybingroup\": \"y\"}, {\"coloraxis\": \"coloraxis\", \"hovertemplate\": \"metricName=F1-score<br>ds=SemEval<br>date=%{x}<br>percent=%{y}<br>count=%{z}<extra></extra>\", \"name\": \"\", \"type\": \"histogram2d\", \"x\": [\"2017-04\"], \"xaxis\": \"x254\", \"xbingroup\": \"x\", \"y\": [100.0], \"yaxis\": \"y254\", \"ybingroup\": \"y\"}, {\"coloraxis\": \"coloraxis\", \"hovertemplate\": \"metricName=Error<br>ds=Yelp Fine-grained classification<br>date=%{x}<br>percent=%{y}<br>count=%{z}<extra></extra>\", \"name\": \"\", \"type\": \"histogram2d\", \"x\": [\"2015-09\", \"2019-01\"], \"xaxis\": \"x231\", \"xbingroup\": \"x\", \"y\": [81.0, 100.0], \"yaxis\": \"y231\", \"ybingroup\": \"y\"}, {\"coloraxis\": \"coloraxis\", \"hovertemplate\": \"metricName=Error<br>ds=Yelp Binary classification<br>date=%{x}<br>percent=%{y}<br>count=%{z}<extra></extra>\", \"name\": \"\", \"type\": \"histogram2d\", \"x\": [\"2015-09\"], \"xaxis\": \"x232\", \"xbingroup\": \"x\", \"y\": [10.0], \"yaxis\": \"y232\", \"ybingroup\": \"y\"}, {\"coloraxis\": \"coloraxis\", \"hovertemplate\": \"metricName=Accuracy<br>ds=SST-5 Fine-grained classification<br>date=%{x}<br>percent=%{y}<br>count=%{z}<extra></extra>\", \"name\": \"\", \"type\": \"histogram2d\", \"x\": [\"2013-10\", \"2014-06\", \"2015-02\", \"2017-08\", \"2018-02\", \"2019-10\"], \"xaxis\": \"x208\", \"xbingroup\": \"x\", \"y\": [47.0, 51.0, 52.0, 55.00000000000001, 56.00000000000001, 56.99999999999999], \"yaxis\": \"y208\", \"ybingroup\": \"y\"}, {\"coloraxis\": \"coloraxis\", \"hovertemplate\": \"metricName=Accuracy<br>ds=Amazon Review Full<br>date=%{x}<br>percent=%{y}<br>count=%{z}<extra></extra>\", \"name\": \"\", \"type\": \"histogram2d\", \"x\": [\"2016-07\", \"2017-07\", \"2019-04\"], \"xaxis\": \"x209\", \"xbingroup\": \"x\", \"y\": [62.0, 67.0, 68.0], \"yaxis\": \"y209\", \"ybingroup\": \"y\"}, {\"coloraxis\": \"coloraxis\", \"hovertemplate\": \"metricName=Accuracy<br>ds=Twitter<br>date=%{x}<br>percent=%{y}<br>count=%{z}<extra></extra>\", \"name\": \"\", \"type\": \"histogram2d\", \"x\": [\"2019-02\"], \"xaxis\": \"x211\", \"xbingroup\": \"x\", \"y\": [77.0], \"yaxis\": \"y211\", \"ybingroup\": \"y\"}, {\"coloraxis\": \"coloraxis\", \"hovertemplate\": \"metricName=Accuracy<br>ds=MR<br>date=%{x}<br>percent=%{y}<br>count=%{z}<extra></extra>\", \"name\": \"\", \"type\": \"histogram2d\", \"x\": [\"2017-02\", \"2018-02\", \"2018-05\"], \"xaxis\": \"x212\", \"xbingroup\": \"x\", \"y\": [80.0, 86.0, 89.0], \"yaxis\": \"y212\", \"ybingroup\": \"y\"}, {\"coloraxis\": \"coloraxis\", \"hovertemplate\": \"metricName=Accuracy<br>ds=Financial PhraseBank<br>date=%{x}<br>percent=%{y}<br>count=%{z}<extra></extra>\", \"name\": \"\", \"type\": \"histogram2d\", \"x\": [\"2019-08\"], \"xaxis\": \"x213\", \"xbingroup\": \"x\", \"y\": [88.0], \"yaxis\": \"y213\", \"ybingroup\": \"y\"}, {\"coloraxis\": \"coloraxis\", \"hovertemplate\": \"metricName=Accuracy<br>ds=SST-2 Binary classification<br>date=%{x}<br>percent=%{y}<br>count=%{z}<extra></extra>\", \"name\": \"\", \"type\": \"histogram2d\", \"x\": [\"2013-10\", \"2014-08\", \"2015-06\", \"2016-03\", \"2016-07\", \"2017-04\", \"2017-12\", \"2019-01\", \"2019-06\", \"2019-09\", \"2019-10\"], \"xaxis\": \"x214\", \"xbingroup\": \"x\", \"y\": [88.0, 90.0, 91.0, 92.0, 92.0, 94.0, 96.0, 98.0, 100.0, 100.0, 100.0], \"yaxis\": \"y214\", \"ybingroup\": \"y\"}, {\"coloraxis\": \"coloraxis\", \"hovertemplate\": \"metricName=Accuracy<br>ds=MPQA<br>date=%{x}<br>percent=%{y}<br>count=%{z}<extra></extra>\", \"name\": \"\", \"type\": \"histogram2d\", \"x\": [\"2018-03\", \"2018-05\", \"2019-05\"], \"xaxis\": \"x215\", \"xbingroup\": \"x\", \"y\": [90.0, 91.0, 92.0], \"yaxis\": \"y215\", \"ybingroup\": \"y\"}, {\"coloraxis\": \"coloraxis\", \"hovertemplate\": \"metricName=Accuracy<br>ds=CR<br>date=%{x}<br>percent=%{y}<br>count=%{z}<extra></extra>\", \"name\": \"\", \"type\": \"histogram2d\", \"x\": [\"2017-12\"], \"xaxis\": \"x216\", \"xbingroup\": \"x\", \"y\": [95.0], \"yaxis\": \"y216\", \"ybingroup\": \"y\"}, {\"coloraxis\": \"coloraxis\", \"hovertemplate\": \"metricName=Accuracy<br>ds=IMDb<br>date=%{x}<br>percent=%{y}<br>count=%{z}<extra></extra>\", \"name\": \"\", \"type\": \"histogram2d\", \"x\": [\"2014-12\", \"2016-02\", \"2017-12\", \"2018-01\", \"2019-02\", \"2019-04\", \"2019-06\", \"2019-07\"], \"xaxis\": \"x217\", \"xbingroup\": \"x\", \"y\": [95.0, 97.0, 98.0, 98.0, 98.0, 98.0, 99.0, 100.0], \"yaxis\": \"y217\", \"ybingroup\": \"y\"}, {\"coloraxis\": \"coloraxis\", \"hovertemplate\": \"metricName=Accuracy<br>ds=AJGT<br>date=%{x}<br>percent=%{y}<br>count=%{z}<extra></extra>\", \"name\": \"\", \"type\": \"histogram2d\", \"x\": [\"2020-02\"], \"xaxis\": \"x219\", \"xbingroup\": \"x\", \"y\": [96.0], \"yaxis\": \"y219\", \"ybingroup\": \"y\"}, {\"coloraxis\": \"coloraxis\", \"hovertemplate\": \"metricName=Accuracy<br>ds=DBRD<br>date=%{x}<br>percent=%{y}<br>count=%{z}<extra></extra>\", \"name\": \"\", \"type\": \"histogram2d\", \"x\": [\"2020-01\"], \"xaxis\": \"x220\", \"xbingroup\": \"x\", \"y\": [97.0], \"yaxis\": \"y220\", \"ybingroup\": \"y\"}, {\"coloraxis\": \"coloraxis\", \"hovertemplate\": \"metricName=Accuracy<br>ds=Amazon Review Polarity<br>date=%{x}<br>percent=%{y}<br>count=%{z}<extra></extra>\", \"name\": \"\", \"type\": \"histogram2d\", \"x\": [\"2016-07\", \"2017-07\", \"2019-04\"], \"xaxis\": \"x221\", \"xbingroup\": \"x\", \"y\": [97.0, 99.0, 100.0], \"yaxis\": \"y221\", \"ybingroup\": \"y\"}, {\"coloraxis\": \"coloraxis\", \"hovertemplate\": \"metricName=Accuracy<br>ds=HARD<br>date=%{x}<br>percent=%{y}<br>count=%{z}<extra></extra>\", \"name\": \"\", \"type\": \"histogram2d\", \"x\": [\"2020-02\"], \"xaxis\": \"x224\", \"xbingroup\": \"x\", \"y\": [99.0], \"yaxis\": \"y224\", \"ybingroup\": \"y\"}, {\"coloraxis\": \"coloraxis\", \"hovertemplate\": \"metricName=Accuracy<br>ds=Sogou News<br>date=%{x}<br>percent=%{y}<br>count=%{z}<extra></extra>\", \"name\": \"\", \"type\": \"histogram2d\", \"x\": [\"2016-07\"], \"xaxis\": \"x225\", \"xbingroup\": \"x\", \"y\": [99.0], \"yaxis\": \"y225\", \"ybingroup\": \"y\"}, {\"coloraxis\": \"coloraxis\", \"hovertemplate\": \"metricName=Books<br>ds=Multi-Domain Sentiment Dataset<br>date=%{x}<br>percent=%{y}<br>count=%{z}<extra></extra>\", \"name\": \"\", \"type\": \"histogram2d\", \"x\": [\"2015-05\", \"2015-11\", \"2018-04\", \"2018-10\"], \"xaxis\": \"x185\", \"xbingroup\": \"x\", \"y\": [88.0, 90.0, 92.0, 100.0], \"yaxis\": \"y185\", \"ybingroup\": \"y\"}, {\"coloraxis\": \"coloraxis\", \"hovertemplate\": \"metricName=DVD<br>ds=Multi-Domain Sentiment Dataset<br>date=%{x}<br>percent=%{y}<br>count=%{z}<extra></extra>\", \"name\": \"\", \"type\": \"histogram2d\", \"x\": [\"2015-05\", \"2015-11\", \"2018-04\", \"2018-10\"], \"xaxis\": \"x160\", \"xbingroup\": \"x\", \"y\": [93.0, 95.0, 96.0, 100.0], \"yaxis\": \"y160\", \"ybingroup\": \"y\"}, {\"coloraxis\": \"coloraxis\", \"hovertemplate\": \"metricName=Average<br>ds=Multi-Domain Sentiment Dataset<br>date=%{x}<br>percent=%{y}<br>count=%{z}<extra></extra>\", \"name\": \"\", \"type\": \"histogram2d\", \"x\": [\"2015-05\", \"2015-11\", \"2017-02\", \"2018-04\", \"2018-10\"], \"xaxis\": \"x135\", \"xbingroup\": \"x\", \"y\": [92.0, 94.0, 94.0, 95.0, 100.0], \"yaxis\": \"y135\", \"ybingroup\": \"y\"}, {\"coloraxis\": \"coloraxis\", \"hovertemplate\": \"metricName=Electronics<br>ds=Multi-Domain Sentiment Dataset<br>date=%{x}<br>percent=%{y}<br>count=%{z}<extra></extra>\", \"name\": \"\", \"type\": \"histogram2d\", \"x\": [\"2015-05\", \"2015-11\", \"2018-04\"], \"xaxis\": \"x110\", \"xbingroup\": \"x\", \"y\": [95.0, 99.0, 100.0], \"yaxis\": \"y110\", \"ybingroup\": \"y\"}, {\"coloraxis\": \"coloraxis\", \"hovertemplate\": \"metricName=Kitchen<br>ds=Multi-Domain Sentiment Dataset<br>date=%{x}<br>percent=%{y}<br>count=%{z}<extra></extra>\", \"name\": \"\", \"type\": \"histogram2d\", \"x\": [\"2015-05\", \"2015-11\", \"2017-02\", \"2018-10\"], \"xaxis\": \"x85\", \"xbingroup\": \"x\", \"y\": [94.0, 97.0, 98.0, 100.0], \"yaxis\": \"y85\", \"ybingroup\": \"y\"}, {\"coloraxis\": \"coloraxis\", \"hovertemplate\": \"metricName=F1 score<br>ds=Financial PhraseBank<br>date=%{x}<br>percent=%{y}<br>count=%{z}<extra></extra>\", \"name\": \"\", \"type\": \"histogram2d\", \"x\": [\"2019-08\"], \"xaxis\": \"x63\", \"xbingroup\": \"x\", \"y\": [100.0], \"yaxis\": \"y63\", \"ybingroup\": \"y\"}, {\"coloraxis\": \"coloraxis\", \"hovertemplate\": \"metricName=1 in 10 R-at-1<br>ds=1B Words<br>date=%{x}<br>percent=%{y}<br>count=%{z}<extra></extra>\", \"name\": \"\", \"type\": \"histogram2d\", \"x\": [\"2012-06\"], \"xaxis\": \"x43\", \"xbingroup\": \"x\", \"y\": [100.0], \"yaxis\": \"y43\", \"ybingroup\": \"y\"}, {\"coloraxis\": \"coloraxis\", \"hovertemplate\": \"metricName=F1<br>ds=DBRD<br>date=%{x}<br>percent=%{y}<br>count=%{z}<extra></extra>\", \"name\": \"\", \"type\": \"histogram2d\", \"x\": [\"2020-01\"], \"xaxis\": \"x20\", \"xbingroup\": \"x\", \"y\": [99.0], \"yaxis\": \"y20\", \"ybingroup\": \"y\"}, {\"coloraxis\": \"coloraxis\", \"hovertemplate\": \"metricName=F1<br>ds=ChnSentiCorp<br>date=%{x}<br>percent=%{y}<br>count=%{z}<extra></extra>\", \"name\": \"\", \"type\": \"histogram2d\", \"x\": [\"2019-06\"], \"xaxis\": \"x22\", \"xbingroup\": \"x\", \"y\": [100.0], \"yaxis\": \"y22\", \"ybingroup\": \"y\"}, {\"coloraxis\": \"coloraxis\", \"hovertemplate\": \"metricName=F1<br>ds=ChnSentiCorp Dev<br>date=%{x}<br>percent=%{y}<br>count=%{z}<extra></extra>\", \"name\": \"\", \"type\": \"histogram2d\", \"x\": [\"2019-06\"], \"xaxis\": \"x23\", \"xbingroup\": \"x\", \"y\": [100.0], \"yaxis\": \"y23\", \"ybingroup\": \"y\"}],                        {\"annotations\": [{\"font\": {}, \"showarrow\": false, \"text\": \"ds=FiQA\", \"x\": 0.0172, \"xanchor\": \"center\", \"xref\": \"paper\", \"y\": 1.0, \"yanchor\": \"bottom\", \"yref\": \"paper\"}, {\"font\": {}, \"showarrow\": false, \"text\": \"ds=SemEval 2017 Task 4-A\", \"x\": 0.0566, \"xanchor\": \"center\", \"xref\": \"paper\", \"y\": 1.0, \"yanchor\": \"bottom\", \"yref\": \"paper\"}, {\"font\": {}, \"showarrow\": false, \"text\": \"ds=ASTD\", \"x\": 0.096, \"xanchor\": \"center\", \"xref\": \"paper\", \"y\": 1.0, \"yanchor\": \"bottom\", \"yref\": \"paper\"}, {\"font\": {}, \"showarrow\": false, \"text\": \"ds=SemEval\", \"x\": 0.13540000000000002, \"xanchor\": \"center\", \"xref\": \"paper\", \"y\": 1.0, \"yanchor\": \"bottom\", \"yref\": \"paper\"}, {\"font\": {}, \"showarrow\": false, \"text\": \"ds=ArSAS\", \"x\": 0.1748, \"xanchor\": \"center\", \"xref\": \"paper\", \"y\": 1.0, \"yanchor\": \"bottom\", \"yref\": \"paper\"}, {\"font\": {}, \"showarrow\": false, \"text\": \"ds=Yelp Fine-grained classification\", \"x\": 0.2142, \"xanchor\": \"center\", \"xref\": \"paper\", \"y\": 1.0, \"yanchor\": \"bottom\", \"yref\": \"paper\"}, {\"font\": {}, \"showarrow\": false, \"text\": \"ds=Yelp Binary classification\", \"x\": 0.2536, \"xanchor\": \"center\", \"xref\": \"paper\", \"y\": 1.0, \"yanchor\": \"bottom\", \"yref\": \"paper\"}, {\"font\": {}, \"showarrow\": false, \"text\": \"ds=SST-5 Fine-grained classification\", \"x\": 0.2929999999999999, \"xanchor\": \"center\", \"xref\": \"paper\", \"y\": 1.0, \"yanchor\": \"bottom\", \"yref\": \"paper\"}, {\"font\": {}, \"showarrow\": false, \"text\": \"ds=Amazon Review Full\", \"x\": 0.3323999999999999, \"xanchor\": \"center\", \"xref\": \"paper\", \"y\": 1.0, \"yanchor\": \"bottom\", \"yref\": \"paper\"}, {\"font\": {}, \"showarrow\": false, \"text\": \"ds=Multi-Domain Sentiment Dataset\", \"x\": 0.3717999999999999, \"xanchor\": \"center\", \"xref\": \"paper\", \"y\": 1.0, \"yanchor\": \"bottom\", \"yref\": \"paper\"}, {\"font\": {}, \"showarrow\": false, \"text\": \"ds=Twitter\", \"x\": 0.4111999999999999, \"xanchor\": \"center\", \"xref\": \"paper\", \"y\": 1.0, \"yanchor\": \"bottom\", \"yref\": \"paper\"}, {\"font\": {}, \"showarrow\": false, \"text\": \"ds=MR\", \"x\": 0.4505999999999999, \"xanchor\": \"center\", \"xref\": \"paper\", \"y\": 1.0, \"yanchor\": \"bottom\", \"yref\": \"paper\"}, {\"font\": {}, \"showarrow\": false, \"text\": \"ds=Financial PhraseBank\", \"x\": 0.4899999999999999, \"xanchor\": \"center\", \"xref\": \"paper\", \"y\": 1.0, \"yanchor\": \"bottom\", \"yref\": \"paper\"}, {\"font\": {}, \"showarrow\": false, \"text\": \"ds=SST-2 Binary classification\", \"x\": 0.5293999999999999, \"xanchor\": \"center\", \"xref\": \"paper\", \"y\": 1.0, \"yanchor\": \"bottom\", \"yref\": \"paper\"}, {\"font\": {}, \"showarrow\": false, \"text\": \"ds=MPQA\", \"x\": 0.5687999999999999, \"xanchor\": \"center\", \"xref\": \"paper\", \"y\": 1.0, \"yanchor\": \"bottom\", \"yref\": \"paper\"}, {\"font\": {}, \"showarrow\": false, \"text\": \"ds=CR\", \"x\": 0.6081999999999999, \"xanchor\": \"center\", \"xref\": \"paper\", \"y\": 1.0, \"yanchor\": \"bottom\", \"yref\": \"paper\"}, {\"font\": {}, \"showarrow\": false, \"text\": \"ds=IMDb\", \"x\": 0.6475999999999998, \"xanchor\": \"center\", \"xref\": \"paper\", \"y\": 1.0, \"yanchor\": \"bottom\", \"yref\": \"paper\"}, {\"font\": {}, \"showarrow\": false, \"text\": \"ds=1B Words\", \"x\": 0.6869999999999998, \"xanchor\": \"center\", \"xref\": \"paper\", \"y\": 1.0, \"yanchor\": \"bottom\", \"yref\": \"paper\"}, {\"font\": {}, \"showarrow\": false, \"text\": \"ds=AJGT\", \"x\": 0.7263999999999998, \"xanchor\": \"center\", \"xref\": \"paper\", \"y\": 1.0, \"yanchor\": \"bottom\", \"yref\": \"paper\"}, {\"font\": {}, \"showarrow\": false, \"text\": \"ds=DBRD\", \"x\": 0.7657999999999998, \"xanchor\": \"center\", \"xref\": \"paper\", \"y\": 1.0, \"yanchor\": \"bottom\", \"yref\": \"paper\"}, {\"font\": {}, \"showarrow\": false, \"text\": \"ds=Amazon Review Polarity\", \"x\": 0.8051999999999998, \"xanchor\": \"center\", \"xref\": \"paper\", \"y\": 1.0, \"yanchor\": \"bottom\", \"yref\": \"paper\"}, {\"font\": {}, \"showarrow\": false, \"text\": \"ds=ChnSentiCorp\", \"x\": 0.8445999999999998, \"xanchor\": \"center\", \"xref\": \"paper\", \"y\": 1.0, \"yanchor\": \"bottom\", \"yref\": \"paper\"}, {\"font\": {}, \"showarrow\": false, \"text\": \"ds=ChnSentiCorp Dev\", \"x\": 0.8839999999999998, \"xanchor\": \"center\", \"xref\": \"paper\", \"y\": 1.0, \"yanchor\": \"bottom\", \"yref\": \"paper\"}, {\"font\": {}, \"showarrow\": false, \"text\": \"ds=HARD\", \"x\": 0.9233999999999998, \"xanchor\": \"center\", \"xref\": \"paper\", \"y\": 1.0, \"yanchor\": \"bottom\", \"yref\": \"paper\"}, {\"font\": {}, \"showarrow\": false, \"text\": \"ds=Sogou News\", \"x\": 0.9627999999999998, \"xanchor\": \"center\", \"xref\": \"paper\", \"y\": 1.0, \"yanchor\": \"bottom\", \"yref\": \"paper\"}, {\"font\": {}, \"showarrow\": false, \"text\": \"metricName=F1\", \"textangle\": 90, \"x\": 0.9799999999999998, \"xanchor\": \"left\", \"xref\": \"paper\", \"y\": 0.03149392857142857, \"yanchor\": \"middle\", \"yref\": \"paper\"}, {\"font\": {}, \"showarrow\": false, \"text\": \"metricName=1 in 10 R-at-1\", \"textangle\": 90, \"x\": 0.9799999999999998, \"xanchor\": \"left\", \"xref\": \"paper\", \"y\": 0.10357178571428571, \"yanchor\": \"middle\", \"yref\": \"paper\"}, {\"font\": {}, \"showarrow\": false, \"text\": \"metricName=F1 score\", \"textangle\": 90, \"x\": 0.9799999999999998, \"xanchor\": \"left\", \"xref\": \"paper\", \"y\": 0.17564964285714285, \"yanchor\": \"middle\", \"yref\": \"paper\"}, {\"font\": {}, \"showarrow\": false, \"text\": \"metricName=Kitchen\", \"textangle\": 90, \"x\": 0.9799999999999998, \"xanchor\": \"left\", \"xref\": \"paper\", \"y\": 0.2477275, \"yanchor\": \"middle\", \"yref\": \"paper\"}, {\"font\": {}, \"showarrow\": false, \"text\": \"metricName=Electronics\", \"textangle\": 90, \"x\": 0.9799999999999998, \"xanchor\": \"left\", \"xref\": \"paper\", \"y\": 0.3198053571428571, \"yanchor\": \"middle\", \"yref\": \"paper\"}, {\"font\": {}, \"showarrow\": false, \"text\": \"metricName=Average\", \"textangle\": 90, \"x\": 0.9799999999999998, \"xanchor\": \"left\", \"xref\": \"paper\", \"y\": 0.39188321428571427, \"yanchor\": \"middle\", \"yref\": \"paper\"}, {\"font\": {}, \"showarrow\": false, \"text\": \"metricName=DVD\", \"textangle\": 90, \"x\": 0.9799999999999998, \"xanchor\": \"left\", \"xref\": \"paper\", \"y\": 0.4639610714285714, \"yanchor\": \"middle\", \"yref\": \"paper\"}, {\"font\": {}, \"showarrow\": false, \"text\": \"metricName=Books\", \"textangle\": 90, \"x\": 0.9799999999999998, \"xanchor\": \"left\", \"xref\": \"paper\", \"y\": 0.5360389285714287, \"yanchor\": \"middle\", \"yref\": \"paper\"}, {\"font\": {}, \"showarrow\": false, \"text\": \"metricName=Accuracy\", \"textangle\": 90, \"x\": 0.9799999999999998, \"xanchor\": \"left\", \"xref\": \"paper\", \"y\": 0.6081167857142857, \"yanchor\": \"middle\", \"yref\": \"paper\"}, {\"font\": {}, \"showarrow\": false, \"text\": \"metricName=Error\", \"textangle\": 90, \"x\": 0.9799999999999998, \"xanchor\": \"left\", \"xref\": \"paper\", \"y\": 0.6801946428571428, \"yanchor\": \"middle\", \"yref\": \"paper\"}, {\"font\": {}, \"showarrow\": false, \"text\": \"metricName=F1-score\", \"textangle\": 90, \"x\": 0.9799999999999998, \"xanchor\": \"left\", \"xref\": \"paper\", \"y\": 0.7522724999999999, \"yanchor\": \"middle\", \"yref\": \"paper\"}, {\"font\": {}, \"showarrow\": false, \"text\": \"metricName=Average Recall\", \"textangle\": 90, \"x\": 0.9799999999999998, \"xanchor\": \"left\", \"xref\": \"paper\", \"y\": 0.8243503571428572, \"yanchor\": \"middle\", \"yref\": \"paper\"}, {\"font\": {}, \"showarrow\": false, \"text\": \"metricName=R^2\", \"textangle\": 90, \"x\": 0.9799999999999998, \"xanchor\": \"left\", \"xref\": \"paper\", \"y\": 0.8964282142857143, \"yanchor\": \"middle\", \"yref\": \"paper\"}, {\"font\": {}, \"showarrow\": false, \"text\": \"metricName=MSE\", \"textangle\": 90, \"x\": 0.9799999999999998, \"xanchor\": \"left\", \"xref\": \"paper\", \"y\": 0.9685060714285714, \"yanchor\": \"middle\", \"yref\": \"paper\"}], \"autosize\": true, \"coloraxis\": {\"colorbar\": {\"title\": {\"text\": \"count\"}}, \"colorscale\": [[0.0, \"#fffdc9\"], [1.0, \"red\"]]}, \"height\": 2800, \"legend\": {\"tracegroupgap\": 0}, \"template\": {\"data\": {\"bar\": [{\"error_x\": {\"color\": \"#2a3f5f\"}, \"error_y\": {\"color\": \"#2a3f5f\"}, \"marker\": {\"line\": {\"color\": \"#E5ECF6\", \"width\": 0.5}}, \"type\": \"bar\"}], \"barpolar\": [{\"marker\": {\"line\": {\"color\": \"#E5ECF6\", \"width\": 0.5}}, \"type\": \"barpolar\"}], \"carpet\": [{\"aaxis\": {\"endlinecolor\": \"#2a3f5f\", \"gridcolor\": \"white\", \"linecolor\": \"white\", \"minorgridcolor\": \"white\", \"startlinecolor\": \"#2a3f5f\"}, \"baxis\": {\"endlinecolor\": \"#2a3f5f\", \"gridcolor\": \"white\", \"linecolor\": \"white\", \"minorgridcolor\": \"white\", \"startlinecolor\": \"#2a3f5f\"}, \"type\": \"carpet\"}], \"choropleth\": [{\"colorbar\": {\"outlinewidth\": 0, \"ticks\": \"\"}, \"type\": \"choropleth\"}], \"contour\": [{\"colorbar\": {\"outlinewidth\": 0, \"ticks\": \"\"}, \"colorscale\": [[0.0, \"#0d0887\"], [0.1111111111111111, \"#46039f\"], [0.2222222222222222, \"#7201a8\"], [0.3333333333333333, \"#9c179e\"], [0.4444444444444444, \"#bd3786\"], [0.5555555555555556, \"#d8576b\"], [0.6666666666666666, \"#ed7953\"], [0.7777777777777778, \"#fb9f3a\"], [0.8888888888888888, \"#fdca26\"], [1.0, \"#f0f921\"]], \"type\": \"contour\"}], \"contourcarpet\": [{\"colorbar\": {\"outlinewidth\": 0, \"ticks\": \"\"}, \"type\": \"contourcarpet\"}], \"heatmap\": [{\"colorbar\": {\"outlinewidth\": 0, \"ticks\": \"\"}, \"colorscale\": [[0.0, \"#0d0887\"], [0.1111111111111111, \"#46039f\"], [0.2222222222222222, \"#7201a8\"], [0.3333333333333333, \"#9c179e\"], [0.4444444444444444, \"#bd3786\"], [0.5555555555555556, \"#d8576b\"], [0.6666666666666666, \"#ed7953\"], [0.7777777777777778, \"#fb9f3a\"], [0.8888888888888888, \"#fdca26\"], [1.0, \"#f0f921\"]], \"type\": \"heatmap\"}], \"heatmapgl\": [{\"colorbar\": {\"outlinewidth\": 0, \"ticks\": \"\"}, \"colorscale\": [[0.0, \"#0d0887\"], [0.1111111111111111, \"#46039f\"], [0.2222222222222222, \"#7201a8\"], [0.3333333333333333, \"#9c179e\"], [0.4444444444444444, \"#bd3786\"], [0.5555555555555556, \"#d8576b\"], [0.6666666666666666, \"#ed7953\"], [0.7777777777777778, \"#fb9f3a\"], [0.8888888888888888, \"#fdca26\"], [1.0, \"#f0f921\"]], \"type\": \"heatmapgl\"}], \"histogram\": [{\"marker\": {\"colorbar\": {\"outlinewidth\": 0, \"ticks\": \"\"}}, \"type\": \"histogram\"}], \"histogram2d\": [{\"colorbar\": {\"outlinewidth\": 0, \"ticks\": \"\"}, \"colorscale\": [[0.0, \"#0d0887\"], [0.1111111111111111, \"#46039f\"], [0.2222222222222222, \"#7201a8\"], [0.3333333333333333, \"#9c179e\"], [0.4444444444444444, \"#bd3786\"], [0.5555555555555556, \"#d8576b\"], [0.6666666666666666, \"#ed7953\"], [0.7777777777777778, \"#fb9f3a\"], [0.8888888888888888, \"#fdca26\"], [1.0, \"#f0f921\"]], \"type\": \"histogram2d\"}], \"histogram2dcontour\": [{\"colorbar\": {\"outlinewidth\": 0, \"ticks\": \"\"}, \"colorscale\": [[0.0, \"#0d0887\"], [0.1111111111111111, \"#46039f\"], [0.2222222222222222, \"#7201a8\"], [0.3333333333333333, \"#9c179e\"], [0.4444444444444444, \"#bd3786\"], [0.5555555555555556, \"#d8576b\"], [0.6666666666666666, \"#ed7953\"], [0.7777777777777778, \"#fb9f3a\"], [0.8888888888888888, \"#fdca26\"], [1.0, \"#f0f921\"]], \"type\": \"histogram2dcontour\"}], \"mesh3d\": [{\"colorbar\": {\"outlinewidth\": 0, \"ticks\": \"\"}, \"type\": \"mesh3d\"}], \"parcoords\": [{\"line\": {\"colorbar\": {\"outlinewidth\": 0, \"ticks\": \"\"}}, \"type\": \"parcoords\"}], \"pie\": [{\"automargin\": true, \"type\": \"pie\"}], \"scatter\": [{\"marker\": {\"colorbar\": {\"outlinewidth\": 0, \"ticks\": \"\"}}, \"type\": \"scatter\"}], \"scatter3d\": [{\"line\": {\"colorbar\": {\"outlinewidth\": 0, \"ticks\": \"\"}}, \"marker\": {\"colorbar\": {\"outlinewidth\": 0, \"ticks\": \"\"}}, \"type\": \"scatter3d\"}], \"scattercarpet\": [{\"marker\": {\"colorbar\": {\"outlinewidth\": 0, \"ticks\": \"\"}}, \"type\": \"scattercarpet\"}], \"scattergeo\": [{\"marker\": {\"colorbar\": {\"outlinewidth\": 0, \"ticks\": \"\"}}, \"type\": \"scattergeo\"}], \"scattergl\": [{\"marker\": {\"colorbar\": {\"outlinewidth\": 0, \"ticks\": \"\"}}, \"type\": \"scattergl\"}], \"scattermapbox\": [{\"marker\": {\"colorbar\": {\"outlinewidth\": 0, \"ticks\": \"\"}}, \"type\": \"scattermapbox\"}], \"scatterpolar\": [{\"marker\": {\"colorbar\": {\"outlinewidth\": 0, \"ticks\": \"\"}}, \"type\": \"scatterpolar\"}], \"scatterpolargl\": [{\"marker\": {\"colorbar\": {\"outlinewidth\": 0, \"ticks\": \"\"}}, \"type\": \"scatterpolargl\"}], \"scatterternary\": [{\"marker\": {\"colorbar\": {\"outlinewidth\": 0, \"ticks\": \"\"}}, \"type\": \"scatterternary\"}], \"surface\": [{\"colorbar\": {\"outlinewidth\": 0, \"ticks\": \"\"}, \"colorscale\": [[0.0, \"#0d0887\"], [0.1111111111111111, \"#46039f\"], [0.2222222222222222, \"#7201a8\"], [0.3333333333333333, \"#9c179e\"], [0.4444444444444444, \"#bd3786\"], [0.5555555555555556, \"#d8576b\"], [0.6666666666666666, \"#ed7953\"], [0.7777777777777778, \"#fb9f3a\"], [0.8888888888888888, \"#fdca26\"], [1.0, \"#f0f921\"]], \"type\": \"surface\"}], \"table\": [{\"cells\": {\"fill\": {\"color\": \"#EBF0F8\"}, \"line\": {\"color\": \"white\"}}, \"header\": {\"fill\": {\"color\": \"#C8D4E3\"}, \"line\": {\"color\": \"white\"}}, \"type\": \"table\"}]}, \"layout\": {\"annotationdefaults\": {\"arrowcolor\": \"#2a3f5f\", \"arrowhead\": 0, \"arrowwidth\": 1}, \"autotypenumbers\": \"strict\", \"coloraxis\": {\"colorbar\": {\"outlinewidth\": 0, \"ticks\": \"\"}}, \"colorscale\": {\"diverging\": [[0, \"#8e0152\"], [0.1, \"#c51b7d\"], [0.2, \"#de77ae\"], [0.3, \"#f1b6da\"], [0.4, \"#fde0ef\"], [0.5, \"#f7f7f7\"], [0.6, \"#e6f5d0\"], [0.7, \"#b8e186\"], [0.8, \"#7fbc41\"], [0.9, \"#4d9221\"], [1, \"#276419\"]], \"sequential\": [[0.0, \"#0d0887\"], [0.1111111111111111, \"#46039f\"], [0.2222222222222222, \"#7201a8\"], [0.3333333333333333, \"#9c179e\"], [0.4444444444444444, \"#bd3786\"], [0.5555555555555556, \"#d8576b\"], [0.6666666666666666, \"#ed7953\"], [0.7777777777777778, \"#fb9f3a\"], [0.8888888888888888, \"#fdca26\"], [1.0, \"#f0f921\"]], \"sequentialminus\": [[0.0, \"#0d0887\"], [0.1111111111111111, \"#46039f\"], [0.2222222222222222, \"#7201a8\"], [0.3333333333333333, \"#9c179e\"], [0.4444444444444444, \"#bd3786\"], [0.5555555555555556, \"#d8576b\"], [0.6666666666666666, \"#ed7953\"], [0.7777777777777778, \"#fb9f3a\"], [0.8888888888888888, \"#fdca26\"], [1.0, \"#f0f921\"]]}, \"colorway\": [\"#636efa\", \"#EF553B\", \"#00cc96\", \"#ab63fa\", \"#FFA15A\", \"#19d3f3\", \"#FF6692\", \"#B6E880\", \"#FF97FF\", \"#FECB52\"], \"font\": {\"color\": \"#2a3f5f\"}, \"geo\": {\"bgcolor\": \"white\", \"lakecolor\": \"white\", \"landcolor\": \"#E5ECF6\", \"showlakes\": true, \"showland\": true, \"subunitcolor\": \"white\"}, \"hoverlabel\": {\"align\": \"left\"}, \"hovermode\": \"closest\", \"mapbox\": {\"style\": \"light\"}, \"paper_bgcolor\": \"white\", \"plot_bgcolor\": \"#E5ECF6\", \"polar\": {\"angularaxis\": {\"gridcolor\": \"white\", \"linecolor\": \"white\", \"ticks\": \"\"}, \"bgcolor\": \"#E5ECF6\", \"radialaxis\": {\"gridcolor\": \"white\", \"linecolor\": \"white\", \"ticks\": \"\"}}, \"scene\": {\"xaxis\": {\"backgroundcolor\": \"#E5ECF6\", \"gridcolor\": \"white\", \"gridwidth\": 2, \"linecolor\": \"white\", \"showbackground\": true, \"ticks\": \"\", \"zerolinecolor\": \"white\"}, \"yaxis\": {\"backgroundcolor\": \"#E5ECF6\", \"gridcolor\": \"white\", \"gridwidth\": 2, \"linecolor\": \"white\", \"showbackground\": true, \"ticks\": \"\", \"zerolinecolor\": \"white\"}, \"zaxis\": {\"backgroundcolor\": \"#E5ECF6\", \"gridcolor\": \"white\", \"gridwidth\": 2, \"linecolor\": \"white\", \"showbackground\": true, \"ticks\": \"\", \"zerolinecolor\": \"white\"}}, \"shapedefaults\": {\"line\": {\"color\": \"#2a3f5f\"}}, \"ternary\": {\"aaxis\": {\"gridcolor\": \"white\", \"linecolor\": \"white\", \"ticks\": \"\"}, \"baxis\": {\"gridcolor\": \"white\", \"linecolor\": \"white\", \"ticks\": \"\"}, \"bgcolor\": \"#E5ECF6\", \"caxis\": {\"gridcolor\": \"white\", \"linecolor\": \"white\", \"ticks\": \"\"}}, \"title\": {\"x\": 0.05}, \"xaxis\": {\"automargin\": true, \"gridcolor\": \"white\", \"linecolor\": \"white\", \"ticks\": \"\", \"title\": {\"standoff\": 15}, \"zerolinecolor\": \"white\", \"zerolinewidth\": 2}, \"yaxis\": {\"automargin\": true, \"gridcolor\": \"white\", \"linecolor\": \"white\", \"ticks\": \"\", \"title\": {\"standoff\": 15}, \"zerolinecolor\": \"white\", \"zerolinewidth\": 2}}}, \"title\": {\"text\": \"Density heatmaps for Date and Percent of max score based on benchmarking\"}, \"width\": 4200, \"xaxis\": {\"anchor\": \"y\", \"domain\": [0.0, 0.0344], \"gridcolor\": \"black\", \"gridwidth\": 1, \"linecolor\": \"black\", \"showgrid\": true, \"showticklabels\": true, \"title\": {\"text\": \"date\"}}, \"xaxis10\": {\"anchor\": \"y10\", \"domain\": [0.3545999999999999, 0.3889999999999999], \"gridcolor\": \"black\", \"gridwidth\": 1, \"linecolor\": \"black\", \"matches\": \"x\", \"showgrid\": true, \"showticklabels\": true, \"title\": {\"text\": \"date\"}}, \"xaxis100\": {\"anchor\": \"y100\", \"domain\": [0.9455999999999998, 0.9799999999999998], \"gridcolor\": \"black\", \"gridwidth\": 1, \"linecolor\": \"black\", \"matches\": \"x\", \"showgrid\": true, \"showticklabels\": true}, \"xaxis101\": {\"anchor\": \"y101\", \"domain\": [0.0, 0.0344], \"gridcolor\": \"black\", \"gridwidth\": 1, \"linecolor\": \"black\", \"matches\": \"x\", \"showgrid\": true, \"showticklabels\": true}, \"xaxis102\": {\"anchor\": \"y102\", \"domain\": [0.0394, 0.0738], \"gridcolor\": \"black\", \"gridwidth\": 1, \"linecolor\": \"black\", \"matches\": \"x\", \"showgrid\": true, \"showticklabels\": true}, \"xaxis103\": {\"anchor\": \"y103\", \"domain\": [0.0788, 0.1132], \"gridcolor\": \"black\", \"gridwidth\": 1, \"linecolor\": \"black\", \"matches\": \"x\", \"showgrid\": true, \"showticklabels\": true}, \"xaxis104\": {\"anchor\": \"y104\", \"domain\": [0.1182, 0.1526], \"gridcolor\": \"black\", \"gridwidth\": 1, \"linecolor\": \"black\", \"matches\": \"x\", \"showgrid\": true, \"showticklabels\": true}, \"xaxis105\": {\"anchor\": \"y105\", \"domain\": [0.1576, 0.192], \"gridcolor\": \"black\", \"gridwidth\": 1, \"linecolor\": \"black\", \"matches\": \"x\", \"showgrid\": true, \"showticklabels\": true}, \"xaxis106\": {\"anchor\": \"y106\", \"domain\": [0.19699999999999998, 0.2314], \"gridcolor\": \"black\", \"gridwidth\": 1, \"linecolor\": \"black\", \"matches\": \"x\", \"showgrid\": true, \"showticklabels\": true}, \"xaxis107\": {\"anchor\": \"y107\", \"domain\": [0.23639999999999997, 0.2708], \"gridcolor\": \"black\", \"gridwidth\": 1, \"linecolor\": \"black\", \"matches\": \"x\", \"showgrid\": true, \"showticklabels\": true}, \"xaxis108\": {\"anchor\": \"y108\", \"domain\": [0.27579999999999993, 0.3101999999999999], \"gridcolor\": \"black\", \"gridwidth\": 1, \"linecolor\": \"black\", \"matches\": \"x\", \"showgrid\": true, \"showticklabels\": true}, \"xaxis109\": {\"anchor\": \"y109\", \"domain\": [0.3151999999999999, 0.3495999999999999], \"gridcolor\": \"black\", \"gridwidth\": 1, \"linecolor\": \"black\", \"matches\": \"x\", \"showgrid\": true, \"showticklabels\": true}, \"xaxis11\": {\"anchor\": \"y11\", \"domain\": [0.3939999999999999, 0.4283999999999999], \"gridcolor\": \"black\", \"gridwidth\": 1, \"linecolor\": \"black\", \"matches\": \"x\", \"showgrid\": true, \"showticklabels\": true, \"title\": {\"text\": \"date\"}}, \"xaxis110\": {\"anchor\": \"y110\", \"domain\": [0.3545999999999999, 0.3889999999999999], \"gridcolor\": \"black\", \"gridwidth\": 1, \"linecolor\": \"black\", \"matches\": \"x\", \"showgrid\": true, \"showticklabels\": true}, \"xaxis111\": {\"anchor\": \"y111\", \"domain\": [0.3939999999999999, 0.4283999999999999], \"gridcolor\": \"black\", \"gridwidth\": 1, \"linecolor\": \"black\", \"matches\": \"x\", \"showgrid\": true, \"showticklabels\": true}, \"xaxis112\": {\"anchor\": \"y112\", \"domain\": [0.4333999999999999, 0.4677999999999999], \"gridcolor\": \"black\", \"gridwidth\": 1, \"linecolor\": \"black\", \"matches\": \"x\", \"showgrid\": true, \"showticklabels\": true}, \"xaxis113\": {\"anchor\": \"y113\", \"domain\": [0.4727999999999999, 0.5071999999999999], \"gridcolor\": \"black\", \"gridwidth\": 1, \"linecolor\": \"black\", \"matches\": \"x\", \"showgrid\": true, \"showticklabels\": true}, \"xaxis114\": {\"anchor\": \"y114\", \"domain\": [0.5121999999999999, 0.5465999999999999], \"gridcolor\": \"black\", \"gridwidth\": 1, \"linecolor\": \"black\", \"matches\": \"x\", \"showgrid\": true, \"showticklabels\": true}, \"xaxis115\": {\"anchor\": \"y115\", \"domain\": [0.5515999999999999, 0.5859999999999999], \"gridcolor\": \"black\", \"gridwidth\": 1, \"linecolor\": \"black\", \"matches\": \"x\", \"showgrid\": true, \"showticklabels\": true}, \"xaxis116\": {\"anchor\": \"y116\", \"domain\": [0.5909999999999999, 0.6253999999999998], \"gridcolor\": \"black\", \"gridwidth\": 1, \"linecolor\": \"black\", \"matches\": \"x\", \"showgrid\": true, \"showticklabels\": true}, \"xaxis117\": {\"anchor\": \"y117\", \"domain\": [0.6303999999999998, 0.6647999999999998], \"gridcolor\": \"black\", \"gridwidth\": 1, \"linecolor\": \"black\", \"matches\": \"x\", \"showgrid\": true, \"showticklabels\": true}, \"xaxis118\": {\"anchor\": \"y118\", \"domain\": [0.6697999999999998, 0.7041999999999998], \"gridcolor\": \"black\", \"gridwidth\": 1, \"linecolor\": \"black\", \"matches\": \"x\", \"showgrid\": true, \"showticklabels\": true}, \"xaxis119\": {\"anchor\": \"y119\", \"domain\": [0.7091999999999998, 0.7435999999999998], \"gridcolor\": \"black\", \"gridwidth\": 1, \"linecolor\": \"black\", \"matches\": \"x\", \"showgrid\": true, \"showticklabels\": true}, \"xaxis12\": {\"anchor\": \"y12\", \"domain\": [0.4333999999999999, 0.4677999999999999], \"gridcolor\": \"black\", \"gridwidth\": 1, \"linecolor\": \"black\", \"matches\": \"x\", \"showgrid\": true, \"showticklabels\": true, \"title\": {\"text\": \"date\"}}, \"xaxis120\": {\"anchor\": \"y120\", \"domain\": [0.7485999999999998, 0.7829999999999998], \"gridcolor\": \"black\", \"gridwidth\": 1, \"linecolor\": \"black\", \"matches\": \"x\", \"showgrid\": true, \"showticklabels\": true}, \"xaxis121\": {\"anchor\": \"y121\", \"domain\": [0.7879999999999998, 0.8223999999999998], \"gridcolor\": \"black\", \"gridwidth\": 1, \"linecolor\": \"black\", \"matches\": \"x\", \"showgrid\": true, \"showticklabels\": true}, \"xaxis122\": {\"anchor\": \"y122\", \"domain\": [0.8273999999999998, 0.8617999999999998], \"gridcolor\": \"black\", \"gridwidth\": 1, \"linecolor\": \"black\", \"matches\": \"x\", \"showgrid\": true, \"showticklabels\": true}, \"xaxis123\": {\"anchor\": \"y123\", \"domain\": [0.8667999999999998, 0.9011999999999998], \"gridcolor\": \"black\", \"gridwidth\": 1, \"linecolor\": \"black\", \"matches\": \"x\", \"showgrid\": true, \"showticklabels\": true}, \"xaxis124\": {\"anchor\": \"y124\", \"domain\": [0.9061999999999998, 0.9405999999999998], \"gridcolor\": \"black\", \"gridwidth\": 1, \"linecolor\": \"black\", \"matches\": \"x\", \"showgrid\": true, \"showticklabels\": true}, \"xaxis125\": {\"anchor\": \"y125\", \"domain\": [0.9455999999999998, 0.9799999999999998], \"gridcolor\": \"black\", \"gridwidth\": 1, \"linecolor\": \"black\", \"matches\": \"x\", \"showgrid\": true, \"showticklabels\": true}, \"xaxis126\": {\"anchor\": \"y126\", \"domain\": [0.0, 0.0344], \"gridcolor\": \"black\", \"gridwidth\": 1, \"linecolor\": \"black\", \"matches\": \"x\", \"showgrid\": true, \"showticklabels\": true}, \"xaxis127\": {\"anchor\": \"y127\", \"domain\": [0.0394, 0.0738], \"gridcolor\": \"black\", \"gridwidth\": 1, \"linecolor\": \"black\", \"matches\": \"x\", \"showgrid\": true, \"showticklabels\": true}, \"xaxis128\": {\"anchor\": \"y128\", \"domain\": [0.0788, 0.1132], \"gridcolor\": \"black\", \"gridwidth\": 1, \"linecolor\": \"black\", \"matches\": \"x\", \"showgrid\": true, \"showticklabels\": true}, \"xaxis129\": {\"anchor\": \"y129\", \"domain\": [0.1182, 0.1526], \"gridcolor\": \"black\", \"gridwidth\": 1, \"linecolor\": \"black\", \"matches\": \"x\", \"showgrid\": true, \"showticklabels\": true}, \"xaxis13\": {\"anchor\": \"y13\", \"domain\": [0.4727999999999999, 0.5071999999999999], \"gridcolor\": \"black\", \"gridwidth\": 1, \"linecolor\": \"black\", \"matches\": \"x\", \"showgrid\": true, \"showticklabels\": true, \"title\": {\"text\": \"date\"}}, \"xaxis130\": {\"anchor\": \"y130\", \"domain\": [0.1576, 0.192], \"gridcolor\": \"black\", \"gridwidth\": 1, \"linecolor\": \"black\", \"matches\": \"x\", \"showgrid\": true, \"showticklabels\": true}, \"xaxis131\": {\"anchor\": \"y131\", \"domain\": [0.19699999999999998, 0.2314], \"gridcolor\": \"black\", \"gridwidth\": 1, \"linecolor\": \"black\", \"matches\": \"x\", \"showgrid\": true, \"showticklabels\": true}, \"xaxis132\": {\"anchor\": \"y132\", \"domain\": [0.23639999999999997, 0.2708], \"gridcolor\": \"black\", \"gridwidth\": 1, \"linecolor\": \"black\", \"matches\": \"x\", \"showgrid\": true, \"showticklabels\": true}, \"xaxis133\": {\"anchor\": \"y133\", \"domain\": [0.27579999999999993, 0.3101999999999999], \"gridcolor\": \"black\", \"gridwidth\": 1, \"linecolor\": \"black\", \"matches\": \"x\", \"showgrid\": true, \"showticklabels\": true}, \"xaxis134\": {\"anchor\": \"y134\", \"domain\": [0.3151999999999999, 0.3495999999999999], \"gridcolor\": \"black\", \"gridwidth\": 1, \"linecolor\": \"black\", \"matches\": \"x\", \"showgrid\": true, \"showticklabels\": true}, \"xaxis135\": {\"anchor\": \"y135\", \"domain\": [0.3545999999999999, 0.3889999999999999], \"gridcolor\": \"black\", \"gridwidth\": 1, \"linecolor\": \"black\", \"matches\": \"x\", \"showgrid\": true, \"showticklabels\": true}, \"xaxis136\": {\"anchor\": \"y136\", \"domain\": [0.3939999999999999, 0.4283999999999999], \"gridcolor\": \"black\", \"gridwidth\": 1, \"linecolor\": \"black\", \"matches\": \"x\", \"showgrid\": true, \"showticklabels\": true}, \"xaxis137\": {\"anchor\": \"y137\", \"domain\": [0.4333999999999999, 0.4677999999999999], \"gridcolor\": \"black\", \"gridwidth\": 1, \"linecolor\": \"black\", \"matches\": \"x\", \"showgrid\": true, \"showticklabels\": true}, \"xaxis138\": {\"anchor\": \"y138\", \"domain\": [0.4727999999999999, 0.5071999999999999], \"gridcolor\": \"black\", \"gridwidth\": 1, \"linecolor\": \"black\", \"matches\": \"x\", \"showgrid\": true, \"showticklabels\": true}, \"xaxis139\": {\"anchor\": \"y139\", \"domain\": [0.5121999999999999, 0.5465999999999999], \"gridcolor\": \"black\", \"gridwidth\": 1, \"linecolor\": \"black\", \"matches\": \"x\", \"showgrid\": true, \"showticklabels\": true}, \"xaxis14\": {\"anchor\": \"y14\", \"domain\": [0.5121999999999999, 0.5465999999999999], \"gridcolor\": \"black\", \"gridwidth\": 1, \"linecolor\": \"black\", \"matches\": \"x\", \"showgrid\": true, \"showticklabels\": true, \"title\": {\"text\": \"date\"}}, \"xaxis140\": {\"anchor\": \"y140\", \"domain\": [0.5515999999999999, 0.5859999999999999], \"gridcolor\": \"black\", \"gridwidth\": 1, \"linecolor\": \"black\", \"matches\": \"x\", \"showgrid\": true, \"showticklabels\": true}, \"xaxis141\": {\"anchor\": \"y141\", \"domain\": [0.5909999999999999, 0.6253999999999998], \"gridcolor\": \"black\", \"gridwidth\": 1, \"linecolor\": \"black\", \"matches\": \"x\", \"showgrid\": true, \"showticklabels\": true}, \"xaxis142\": {\"anchor\": \"y142\", \"domain\": [0.6303999999999998, 0.6647999999999998], \"gridcolor\": \"black\", \"gridwidth\": 1, \"linecolor\": \"black\", \"matches\": \"x\", \"showgrid\": true, \"showticklabels\": true}, \"xaxis143\": {\"anchor\": \"y143\", \"domain\": [0.6697999999999998, 0.7041999999999998], \"gridcolor\": \"black\", \"gridwidth\": 1, \"linecolor\": \"black\", \"matches\": \"x\", \"showgrid\": true, \"showticklabels\": true}, \"xaxis144\": {\"anchor\": \"y144\", \"domain\": [0.7091999999999998, 0.7435999999999998], \"gridcolor\": \"black\", \"gridwidth\": 1, \"linecolor\": \"black\", \"matches\": \"x\", \"showgrid\": true, \"showticklabels\": true}, \"xaxis145\": {\"anchor\": \"y145\", \"domain\": [0.7485999999999998, 0.7829999999999998], \"gridcolor\": \"black\", \"gridwidth\": 1, \"linecolor\": \"black\", \"matches\": \"x\", \"showgrid\": true, \"showticklabels\": true}, \"xaxis146\": {\"anchor\": \"y146\", \"domain\": [0.7879999999999998, 0.8223999999999998], \"gridcolor\": \"black\", \"gridwidth\": 1, \"linecolor\": \"black\", \"matches\": \"x\", \"showgrid\": true, \"showticklabels\": true}, \"xaxis147\": {\"anchor\": \"y147\", \"domain\": [0.8273999999999998, 0.8617999999999998], \"gridcolor\": \"black\", \"gridwidth\": 1, \"linecolor\": \"black\", \"matches\": \"x\", \"showgrid\": true, \"showticklabels\": true}, \"xaxis148\": {\"anchor\": \"y148\", \"domain\": [0.8667999999999998, 0.9011999999999998], \"gridcolor\": \"black\", \"gridwidth\": 1, \"linecolor\": \"black\", \"matches\": \"x\", \"showgrid\": true, \"showticklabels\": true}, \"xaxis149\": {\"anchor\": \"y149\", \"domain\": [0.9061999999999998, 0.9405999999999998], \"gridcolor\": \"black\", \"gridwidth\": 1, \"linecolor\": \"black\", \"matches\": \"x\", \"showgrid\": true, \"showticklabels\": true}, \"xaxis15\": {\"anchor\": \"y15\", \"domain\": [0.5515999999999999, 0.5859999999999999], \"gridcolor\": \"black\", \"gridwidth\": 1, \"linecolor\": \"black\", \"matches\": \"x\", \"showgrid\": true, \"showticklabels\": true, \"title\": {\"text\": \"date\"}}, \"xaxis150\": {\"anchor\": \"y150\", \"domain\": [0.9455999999999998, 0.9799999999999998], \"gridcolor\": \"black\", \"gridwidth\": 1, \"linecolor\": \"black\", \"matches\": \"x\", \"showgrid\": true, \"showticklabels\": true}, \"xaxis151\": {\"anchor\": \"y151\", \"domain\": [0.0, 0.0344], \"gridcolor\": \"black\", \"gridwidth\": 1, \"linecolor\": \"black\", \"matches\": \"x\", \"showgrid\": true, \"showticklabels\": true}, \"xaxis152\": {\"anchor\": \"y152\", \"domain\": [0.0394, 0.0738], \"gridcolor\": \"black\", \"gridwidth\": 1, \"linecolor\": \"black\", \"matches\": \"x\", \"showgrid\": true, \"showticklabels\": true}, \"xaxis153\": {\"anchor\": \"y153\", \"domain\": [0.0788, 0.1132], \"gridcolor\": \"black\", \"gridwidth\": 1, \"linecolor\": \"black\", \"matches\": \"x\", \"showgrid\": true, \"showticklabels\": true}, \"xaxis154\": {\"anchor\": \"y154\", \"domain\": [0.1182, 0.1526], \"gridcolor\": \"black\", \"gridwidth\": 1, \"linecolor\": \"black\", \"matches\": \"x\", \"showgrid\": true, \"showticklabels\": true}, \"xaxis155\": {\"anchor\": \"y155\", \"domain\": [0.1576, 0.192], \"gridcolor\": \"black\", \"gridwidth\": 1, \"linecolor\": \"black\", \"matches\": \"x\", \"showgrid\": true, \"showticklabels\": true}, \"xaxis156\": {\"anchor\": \"y156\", \"domain\": [0.19699999999999998, 0.2314], \"gridcolor\": \"black\", \"gridwidth\": 1, \"linecolor\": \"black\", \"matches\": \"x\", \"showgrid\": true, \"showticklabels\": true}, \"xaxis157\": {\"anchor\": \"y157\", \"domain\": [0.23639999999999997, 0.2708], \"gridcolor\": \"black\", \"gridwidth\": 1, \"linecolor\": \"black\", \"matches\": \"x\", \"showgrid\": true, \"showticklabels\": true}, \"xaxis158\": {\"anchor\": \"y158\", \"domain\": [0.27579999999999993, 0.3101999999999999], \"gridcolor\": \"black\", \"gridwidth\": 1, \"linecolor\": \"black\", \"matches\": \"x\", \"showgrid\": true, \"showticklabels\": true}, \"xaxis159\": {\"anchor\": \"y159\", \"domain\": [0.3151999999999999, 0.3495999999999999], \"gridcolor\": \"black\", \"gridwidth\": 1, \"linecolor\": \"black\", \"matches\": \"x\", \"showgrid\": true, \"showticklabels\": true}, \"xaxis16\": {\"anchor\": \"y16\", \"domain\": [0.5909999999999999, 0.6253999999999998], \"gridcolor\": \"black\", \"gridwidth\": 1, \"linecolor\": \"black\", \"matches\": \"x\", \"showgrid\": true, \"showticklabels\": true, \"title\": {\"text\": \"date\"}}, \"xaxis160\": {\"anchor\": \"y160\", \"domain\": [0.3545999999999999, 0.3889999999999999], \"gridcolor\": \"black\", \"gridwidth\": 1, \"linecolor\": \"black\", \"matches\": \"x\", \"showgrid\": true, \"showticklabels\": true}, \"xaxis161\": {\"anchor\": \"y161\", \"domain\": [0.3939999999999999, 0.4283999999999999], \"gridcolor\": \"black\", \"gridwidth\": 1, \"linecolor\": \"black\", \"matches\": \"x\", \"showgrid\": true, \"showticklabels\": true}, \"xaxis162\": {\"anchor\": \"y162\", \"domain\": [0.4333999999999999, 0.4677999999999999], \"gridcolor\": \"black\", \"gridwidth\": 1, \"linecolor\": \"black\", \"matches\": \"x\", \"showgrid\": true, \"showticklabels\": true}, \"xaxis163\": {\"anchor\": \"y163\", \"domain\": [0.4727999999999999, 0.5071999999999999], \"gridcolor\": \"black\", \"gridwidth\": 1, \"linecolor\": \"black\", \"matches\": \"x\", \"showgrid\": true, \"showticklabels\": true}, \"xaxis164\": {\"anchor\": \"y164\", \"domain\": [0.5121999999999999, 0.5465999999999999], \"gridcolor\": \"black\", \"gridwidth\": 1, \"linecolor\": \"black\", \"matches\": \"x\", \"showgrid\": true, \"showticklabels\": true}, \"xaxis165\": {\"anchor\": \"y165\", \"domain\": [0.5515999999999999, 0.5859999999999999], \"gridcolor\": \"black\", \"gridwidth\": 1, \"linecolor\": \"black\", \"matches\": \"x\", \"showgrid\": true, \"showticklabels\": true}, \"xaxis166\": {\"anchor\": \"y166\", \"domain\": [0.5909999999999999, 0.6253999999999998], \"gridcolor\": \"black\", \"gridwidth\": 1, \"linecolor\": \"black\", \"matches\": \"x\", \"showgrid\": true, \"showticklabels\": true}, \"xaxis167\": {\"anchor\": \"y167\", \"domain\": [0.6303999999999998, 0.6647999999999998], \"gridcolor\": \"black\", \"gridwidth\": 1, \"linecolor\": \"black\", \"matches\": \"x\", \"showgrid\": true, \"showticklabels\": true}, \"xaxis168\": {\"anchor\": \"y168\", \"domain\": [0.6697999999999998, 0.7041999999999998], \"gridcolor\": \"black\", \"gridwidth\": 1, \"linecolor\": \"black\", \"matches\": \"x\", \"showgrid\": true, \"showticklabels\": true}, \"xaxis169\": {\"anchor\": \"y169\", \"domain\": [0.7091999999999998, 0.7435999999999998], \"gridcolor\": \"black\", \"gridwidth\": 1, \"linecolor\": \"black\", \"matches\": \"x\", \"showgrid\": true, \"showticklabels\": true}, \"xaxis17\": {\"anchor\": \"y17\", \"domain\": [0.6303999999999998, 0.6647999999999998], \"gridcolor\": \"black\", \"gridwidth\": 1, \"linecolor\": \"black\", \"matches\": \"x\", \"showgrid\": true, \"showticklabels\": true, \"title\": {\"text\": \"date\"}}, \"xaxis170\": {\"anchor\": \"y170\", \"domain\": [0.7485999999999998, 0.7829999999999998], \"gridcolor\": \"black\", \"gridwidth\": 1, \"linecolor\": \"black\", \"matches\": \"x\", \"showgrid\": true, \"showticklabels\": true}, \"xaxis171\": {\"anchor\": \"y171\", \"domain\": [0.7879999999999998, 0.8223999999999998], \"gridcolor\": \"black\", \"gridwidth\": 1, \"linecolor\": \"black\", \"matches\": \"x\", \"showgrid\": true, \"showticklabels\": true}, \"xaxis172\": {\"anchor\": \"y172\", \"domain\": [0.8273999999999998, 0.8617999999999998], \"gridcolor\": \"black\", \"gridwidth\": 1, \"linecolor\": \"black\", \"matches\": \"x\", \"showgrid\": true, \"showticklabels\": true}, \"xaxis173\": {\"anchor\": \"y173\", \"domain\": [0.8667999999999998, 0.9011999999999998], \"gridcolor\": \"black\", \"gridwidth\": 1, \"linecolor\": \"black\", \"matches\": \"x\", \"showgrid\": true, \"showticklabels\": true}, \"xaxis174\": {\"anchor\": \"y174\", \"domain\": [0.9061999999999998, 0.9405999999999998], \"gridcolor\": \"black\", \"gridwidth\": 1, \"linecolor\": \"black\", \"matches\": \"x\", \"showgrid\": true, \"showticklabels\": true}, \"xaxis175\": {\"anchor\": \"y175\", \"domain\": [0.9455999999999998, 0.9799999999999998], \"gridcolor\": \"black\", \"gridwidth\": 1, \"linecolor\": \"black\", \"matches\": \"x\", \"showgrid\": true, \"showticklabels\": true}, \"xaxis176\": {\"anchor\": \"y176\", \"domain\": [0.0, 0.0344], \"gridcolor\": \"black\", \"gridwidth\": 1, \"linecolor\": \"black\", \"matches\": \"x\", \"showgrid\": true, \"showticklabels\": true}, \"xaxis177\": {\"anchor\": \"y177\", \"domain\": [0.0394, 0.0738], \"gridcolor\": \"black\", \"gridwidth\": 1, \"linecolor\": \"black\", \"matches\": \"x\", \"showgrid\": true, \"showticklabels\": true}, \"xaxis178\": {\"anchor\": \"y178\", \"domain\": [0.0788, 0.1132], \"gridcolor\": \"black\", \"gridwidth\": 1, \"linecolor\": \"black\", \"matches\": \"x\", \"showgrid\": true, \"showticklabels\": true}, \"xaxis179\": {\"anchor\": \"y179\", \"domain\": [0.1182, 0.1526], \"gridcolor\": \"black\", \"gridwidth\": 1, \"linecolor\": \"black\", \"matches\": \"x\", \"showgrid\": true, \"showticklabels\": true}, \"xaxis18\": {\"anchor\": \"y18\", \"domain\": [0.6697999999999998, 0.7041999999999998], \"gridcolor\": \"black\", \"gridwidth\": 1, \"linecolor\": \"black\", \"matches\": \"x\", \"showgrid\": true, \"showticklabels\": true, \"title\": {\"text\": \"date\"}}, \"xaxis180\": {\"anchor\": \"y180\", \"domain\": [0.1576, 0.192], \"gridcolor\": \"black\", \"gridwidth\": 1, \"linecolor\": \"black\", \"matches\": \"x\", \"showgrid\": true, \"showticklabels\": true}, \"xaxis181\": {\"anchor\": \"y181\", \"domain\": [0.19699999999999998, 0.2314], \"gridcolor\": \"black\", \"gridwidth\": 1, \"linecolor\": \"black\", \"matches\": \"x\", \"showgrid\": true, \"showticklabels\": true}, \"xaxis182\": {\"anchor\": \"y182\", \"domain\": [0.23639999999999997, 0.2708], \"gridcolor\": \"black\", \"gridwidth\": 1, \"linecolor\": \"black\", \"matches\": \"x\", \"showgrid\": true, \"showticklabels\": true}, \"xaxis183\": {\"anchor\": \"y183\", \"domain\": [0.27579999999999993, 0.3101999999999999], \"gridcolor\": \"black\", \"gridwidth\": 1, \"linecolor\": \"black\", \"matches\": \"x\", \"showgrid\": true, \"showticklabels\": true}, \"xaxis184\": {\"anchor\": \"y184\", \"domain\": [0.3151999999999999, 0.3495999999999999], \"gridcolor\": \"black\", \"gridwidth\": 1, \"linecolor\": \"black\", \"matches\": \"x\", \"showgrid\": true, \"showticklabels\": true}, \"xaxis185\": {\"anchor\": \"y185\", \"domain\": [0.3545999999999999, 0.3889999999999999], \"gridcolor\": \"black\", \"gridwidth\": 1, \"linecolor\": \"black\", \"matches\": \"x\", \"showgrid\": true, \"showticklabels\": true}, \"xaxis186\": {\"anchor\": \"y186\", \"domain\": [0.3939999999999999, 0.4283999999999999], \"gridcolor\": \"black\", \"gridwidth\": 1, \"linecolor\": \"black\", \"matches\": \"x\", \"showgrid\": true, \"showticklabels\": true}, \"xaxis187\": {\"anchor\": \"y187\", \"domain\": [0.4333999999999999, 0.4677999999999999], \"gridcolor\": \"black\", \"gridwidth\": 1, \"linecolor\": \"black\", \"matches\": \"x\", \"showgrid\": true, \"showticklabels\": true}, \"xaxis188\": {\"anchor\": \"y188\", \"domain\": [0.4727999999999999, 0.5071999999999999], \"gridcolor\": \"black\", \"gridwidth\": 1, \"linecolor\": \"black\", \"matches\": \"x\", \"showgrid\": true, \"showticklabels\": true}, \"xaxis189\": {\"anchor\": \"y189\", \"domain\": [0.5121999999999999, 0.5465999999999999], \"gridcolor\": \"black\", \"gridwidth\": 1, \"linecolor\": \"black\", \"matches\": \"x\", \"showgrid\": true, \"showticklabels\": true}, \"xaxis19\": {\"anchor\": \"y19\", \"domain\": [0.7091999999999998, 0.7435999999999998], \"gridcolor\": \"black\", \"gridwidth\": 1, \"linecolor\": \"black\", \"matches\": \"x\", \"showgrid\": true, \"showticklabels\": true, \"title\": {\"text\": \"date\"}}, \"xaxis190\": {\"anchor\": \"y190\", \"domain\": [0.5515999999999999, 0.5859999999999999], \"gridcolor\": \"black\", \"gridwidth\": 1, \"linecolor\": \"black\", \"matches\": \"x\", \"showgrid\": true, \"showticklabels\": true}, \"xaxis191\": {\"anchor\": \"y191\", \"domain\": [0.5909999999999999, 0.6253999999999998], \"gridcolor\": \"black\", \"gridwidth\": 1, \"linecolor\": \"black\", \"matches\": \"x\", \"showgrid\": true, \"showticklabels\": true}, \"xaxis192\": {\"anchor\": \"y192\", \"domain\": [0.6303999999999998, 0.6647999999999998], \"gridcolor\": \"black\", \"gridwidth\": 1, \"linecolor\": \"black\", \"matches\": \"x\", \"showgrid\": true, \"showticklabels\": true}, \"xaxis193\": {\"anchor\": \"y193\", \"domain\": [0.6697999999999998, 0.7041999999999998], \"gridcolor\": \"black\", \"gridwidth\": 1, \"linecolor\": \"black\", \"matches\": \"x\", \"showgrid\": true, \"showticklabels\": true}, \"xaxis194\": {\"anchor\": \"y194\", \"domain\": [0.7091999999999998, 0.7435999999999998], \"gridcolor\": \"black\", \"gridwidth\": 1, \"linecolor\": \"black\", \"matches\": \"x\", \"showgrid\": true, \"showticklabels\": true}, \"xaxis195\": {\"anchor\": \"y195\", \"domain\": [0.7485999999999998, 0.7829999999999998], \"gridcolor\": \"black\", \"gridwidth\": 1, \"linecolor\": \"black\", \"matches\": \"x\", \"showgrid\": true, \"showticklabels\": true}, \"xaxis196\": {\"anchor\": \"y196\", \"domain\": [0.7879999999999998, 0.8223999999999998], \"gridcolor\": \"black\", \"gridwidth\": 1, \"linecolor\": \"black\", \"matches\": \"x\", \"showgrid\": true, \"showticklabels\": true}, \"xaxis197\": {\"anchor\": \"y197\", \"domain\": [0.8273999999999998, 0.8617999999999998], \"gridcolor\": \"black\", \"gridwidth\": 1, \"linecolor\": \"black\", \"matches\": \"x\", \"showgrid\": true, \"showticklabels\": true}, \"xaxis198\": {\"anchor\": \"y198\", \"domain\": [0.8667999999999998, 0.9011999999999998], \"gridcolor\": \"black\", \"gridwidth\": 1, \"linecolor\": \"black\", \"matches\": \"x\", \"showgrid\": true, \"showticklabels\": true}, \"xaxis199\": {\"anchor\": \"y199\", \"domain\": [0.9061999999999998, 0.9405999999999998], \"gridcolor\": \"black\", \"gridwidth\": 1, \"linecolor\": \"black\", \"matches\": \"x\", \"showgrid\": true, \"showticklabels\": true}, \"xaxis2\": {\"anchor\": \"y2\", \"domain\": [0.0394, 0.0738], \"gridcolor\": \"black\", \"gridwidth\": 1, \"linecolor\": \"black\", \"matches\": \"x\", \"showgrid\": true, \"showticklabels\": true, \"title\": {\"text\": \"date\"}}, \"xaxis20\": {\"anchor\": \"y20\", \"domain\": [0.7485999999999998, 0.7829999999999998], \"gridcolor\": \"black\", \"gridwidth\": 1, \"linecolor\": \"black\", \"matches\": \"x\", \"showgrid\": true, \"showticklabels\": true, \"title\": {\"text\": \"date\"}}, \"xaxis200\": {\"anchor\": \"y200\", \"domain\": [0.9455999999999998, 0.9799999999999998], \"gridcolor\": \"black\", \"gridwidth\": 1, \"linecolor\": \"black\", \"matches\": \"x\", \"showgrid\": true, \"showticklabels\": true}, \"xaxis201\": {\"anchor\": \"y201\", \"domain\": [0.0, 0.0344], \"gridcolor\": \"black\", \"gridwidth\": 1, \"linecolor\": \"black\", \"matches\": \"x\", \"showgrid\": true, \"showticklabels\": true}, \"xaxis202\": {\"anchor\": \"y202\", \"domain\": [0.0394, 0.0738], \"gridcolor\": \"black\", \"gridwidth\": 1, \"linecolor\": \"black\", \"matches\": \"x\", \"showgrid\": true, \"showticklabels\": true}, \"xaxis203\": {\"anchor\": \"y203\", \"domain\": [0.0788, 0.1132], \"gridcolor\": \"black\", \"gridwidth\": 1, \"linecolor\": \"black\", \"matches\": \"x\", \"showgrid\": true, \"showticklabels\": true}, \"xaxis204\": {\"anchor\": \"y204\", \"domain\": [0.1182, 0.1526], \"gridcolor\": \"black\", \"gridwidth\": 1, \"linecolor\": \"black\", \"matches\": \"x\", \"showgrid\": true, \"showticklabels\": true}, \"xaxis205\": {\"anchor\": \"y205\", \"domain\": [0.1576, 0.192], \"gridcolor\": \"black\", \"gridwidth\": 1, \"linecolor\": \"black\", \"matches\": \"x\", \"showgrid\": true, \"showticklabels\": true}, \"xaxis206\": {\"anchor\": \"y206\", \"domain\": [0.19699999999999998, 0.2314], \"gridcolor\": \"black\", \"gridwidth\": 1, \"linecolor\": \"black\", \"matches\": \"x\", \"showgrid\": true, \"showticklabels\": true}, \"xaxis207\": {\"anchor\": \"y207\", \"domain\": [0.23639999999999997, 0.2708], \"gridcolor\": \"black\", \"gridwidth\": 1, \"linecolor\": \"black\", \"matches\": \"x\", \"showgrid\": true, \"showticklabels\": true}, \"xaxis208\": {\"anchor\": \"y208\", \"domain\": [0.27579999999999993, 0.3101999999999999], \"gridcolor\": \"black\", \"gridwidth\": 1, \"linecolor\": \"black\", \"matches\": \"x\", \"showgrid\": true, \"showticklabels\": true}, \"xaxis209\": {\"anchor\": \"y209\", \"domain\": [0.3151999999999999, 0.3495999999999999], \"gridcolor\": \"black\", \"gridwidth\": 1, \"linecolor\": \"black\", \"matches\": \"x\", \"showgrid\": true, \"showticklabels\": true}, \"xaxis21\": {\"anchor\": \"y21\", \"domain\": [0.7879999999999998, 0.8223999999999998], \"gridcolor\": \"black\", \"gridwidth\": 1, \"linecolor\": \"black\", \"matches\": \"x\", \"showgrid\": true, \"showticklabels\": true, \"title\": {\"text\": \"date\"}}, \"xaxis210\": {\"anchor\": \"y210\", \"domain\": [0.3545999999999999, 0.3889999999999999], \"gridcolor\": \"black\", \"gridwidth\": 1, \"linecolor\": \"black\", \"matches\": \"x\", \"showgrid\": true, \"showticklabels\": true}, \"xaxis211\": {\"anchor\": \"y211\", \"domain\": [0.3939999999999999, 0.4283999999999999], \"gridcolor\": \"black\", \"gridwidth\": 1, \"linecolor\": \"black\", \"matches\": \"x\", \"showgrid\": true, \"showticklabels\": true}, \"xaxis212\": {\"anchor\": \"y212\", \"domain\": [0.4333999999999999, 0.4677999999999999], \"gridcolor\": \"black\", \"gridwidth\": 1, \"linecolor\": \"black\", \"matches\": \"x\", \"showgrid\": true, \"showticklabels\": true}, \"xaxis213\": {\"anchor\": \"y213\", \"domain\": [0.4727999999999999, 0.5071999999999999], \"gridcolor\": \"black\", \"gridwidth\": 1, \"linecolor\": \"black\", \"matches\": \"x\", \"showgrid\": true, \"showticklabels\": true}, \"xaxis214\": {\"anchor\": \"y214\", \"domain\": [0.5121999999999999, 0.5465999999999999], \"gridcolor\": \"black\", \"gridwidth\": 1, \"linecolor\": \"black\", \"matches\": \"x\", \"showgrid\": true, \"showticklabels\": true}, \"xaxis215\": {\"anchor\": \"y215\", \"domain\": [0.5515999999999999, 0.5859999999999999], \"gridcolor\": \"black\", \"gridwidth\": 1, \"linecolor\": \"black\", \"matches\": \"x\", \"showgrid\": true, \"showticklabels\": true}, \"xaxis216\": {\"anchor\": \"y216\", \"domain\": [0.5909999999999999, 0.6253999999999998], \"gridcolor\": \"black\", \"gridwidth\": 1, \"linecolor\": \"black\", \"matches\": \"x\", \"showgrid\": true, \"showticklabels\": true}, \"xaxis217\": {\"anchor\": \"y217\", \"domain\": [0.6303999999999998, 0.6647999999999998], \"gridcolor\": \"black\", \"gridwidth\": 1, \"linecolor\": \"black\", \"matches\": \"x\", \"showgrid\": true, \"showticklabels\": true}, \"xaxis218\": {\"anchor\": \"y218\", \"domain\": [0.6697999999999998, 0.7041999999999998], \"gridcolor\": \"black\", \"gridwidth\": 1, \"linecolor\": \"black\", \"matches\": \"x\", \"showgrid\": true, \"showticklabels\": true}, \"xaxis219\": {\"anchor\": \"y219\", \"domain\": [0.7091999999999998, 0.7435999999999998], \"gridcolor\": \"black\", \"gridwidth\": 1, \"linecolor\": \"black\", \"matches\": \"x\", \"showgrid\": true, \"showticklabels\": true}, \"xaxis22\": {\"anchor\": \"y22\", \"domain\": [0.8273999999999998, 0.8617999999999998], \"gridcolor\": \"black\", \"gridwidth\": 1, \"linecolor\": \"black\", \"matches\": \"x\", \"showgrid\": true, \"showticklabels\": true, \"title\": {\"text\": \"date\"}}, \"xaxis220\": {\"anchor\": \"y220\", \"domain\": [0.7485999999999998, 0.7829999999999998], \"gridcolor\": \"black\", \"gridwidth\": 1, \"linecolor\": \"black\", \"matches\": \"x\", \"showgrid\": true, \"showticklabels\": true}, \"xaxis221\": {\"anchor\": \"y221\", \"domain\": [0.7879999999999998, 0.8223999999999998], \"gridcolor\": \"black\", \"gridwidth\": 1, \"linecolor\": \"black\", \"matches\": \"x\", \"showgrid\": true, \"showticklabels\": true}, \"xaxis222\": {\"anchor\": \"y222\", \"domain\": [0.8273999999999998, 0.8617999999999998], \"gridcolor\": \"black\", \"gridwidth\": 1, \"linecolor\": \"black\", \"matches\": \"x\", \"showgrid\": true, \"showticklabels\": true}, \"xaxis223\": {\"anchor\": \"y223\", \"domain\": [0.8667999999999998, 0.9011999999999998], \"gridcolor\": \"black\", \"gridwidth\": 1, \"linecolor\": \"black\", \"matches\": \"x\", \"showgrid\": true, \"showticklabels\": true}, \"xaxis224\": {\"anchor\": \"y224\", \"domain\": [0.9061999999999998, 0.9405999999999998], \"gridcolor\": \"black\", \"gridwidth\": 1, \"linecolor\": \"black\", \"matches\": \"x\", \"showgrid\": true, \"showticklabels\": true}, \"xaxis225\": {\"anchor\": \"y225\", \"domain\": [0.9455999999999998, 0.9799999999999998], \"gridcolor\": \"black\", \"gridwidth\": 1, \"linecolor\": \"black\", \"matches\": \"x\", \"showgrid\": true, \"showticklabels\": true}, \"xaxis226\": {\"anchor\": \"y226\", \"domain\": [0.0, 0.0344], \"gridcolor\": \"black\", \"gridwidth\": 1, \"linecolor\": \"black\", \"matches\": \"x\", \"showgrid\": true, \"showticklabels\": true}, \"xaxis227\": {\"anchor\": \"y227\", \"domain\": [0.0394, 0.0738], \"gridcolor\": \"black\", \"gridwidth\": 1, \"linecolor\": \"black\", \"matches\": \"x\", \"showgrid\": true, \"showticklabels\": true}, \"xaxis228\": {\"anchor\": \"y228\", \"domain\": [0.0788, 0.1132], \"gridcolor\": \"black\", \"gridwidth\": 1, \"linecolor\": \"black\", \"matches\": \"x\", \"showgrid\": true, \"showticklabels\": true}, \"xaxis229\": {\"anchor\": \"y229\", \"domain\": [0.1182, 0.1526], \"gridcolor\": \"black\", \"gridwidth\": 1, \"linecolor\": \"black\", \"matches\": \"x\", \"showgrid\": true, \"showticklabels\": true}, \"xaxis23\": {\"anchor\": \"y23\", \"domain\": [0.8667999999999998, 0.9011999999999998], \"gridcolor\": \"black\", \"gridwidth\": 1, \"linecolor\": \"black\", \"matches\": \"x\", \"showgrid\": true, \"showticklabels\": true, \"title\": {\"text\": \"date\"}}, \"xaxis230\": {\"anchor\": \"y230\", \"domain\": [0.1576, 0.192], \"gridcolor\": \"black\", \"gridwidth\": 1, \"linecolor\": \"black\", \"matches\": \"x\", \"showgrid\": true, \"showticklabels\": true}, \"xaxis231\": {\"anchor\": \"y231\", \"domain\": [0.19699999999999998, 0.2314], \"gridcolor\": \"black\", \"gridwidth\": 1, \"linecolor\": \"black\", \"matches\": \"x\", \"showgrid\": true, \"showticklabels\": true}, \"xaxis232\": {\"anchor\": \"y232\", \"domain\": [0.23639999999999997, 0.2708], \"gridcolor\": \"black\", \"gridwidth\": 1, \"linecolor\": \"black\", \"matches\": \"x\", \"showgrid\": true, \"showticklabels\": true}, \"xaxis233\": {\"anchor\": \"y233\", \"domain\": [0.27579999999999993, 0.3101999999999999], \"gridcolor\": \"black\", \"gridwidth\": 1, \"linecolor\": \"black\", \"matches\": \"x\", \"showgrid\": true, \"showticklabels\": true}, \"xaxis234\": {\"anchor\": \"y234\", \"domain\": [0.3151999999999999, 0.3495999999999999], \"gridcolor\": \"black\", \"gridwidth\": 1, \"linecolor\": \"black\", \"matches\": \"x\", \"showgrid\": true, \"showticklabels\": true}, \"xaxis235\": {\"anchor\": \"y235\", \"domain\": [0.3545999999999999, 0.3889999999999999], \"gridcolor\": \"black\", \"gridwidth\": 1, \"linecolor\": \"black\", \"matches\": \"x\", \"showgrid\": true, \"showticklabels\": true}, \"xaxis236\": {\"anchor\": \"y236\", \"domain\": [0.3939999999999999, 0.4283999999999999], \"gridcolor\": \"black\", \"gridwidth\": 1, \"linecolor\": \"black\", \"matches\": \"x\", \"showgrid\": true, \"showticklabels\": true}, \"xaxis237\": {\"anchor\": \"y237\", \"domain\": [0.4333999999999999, 0.4677999999999999], \"gridcolor\": \"black\", \"gridwidth\": 1, \"linecolor\": \"black\", \"matches\": \"x\", \"showgrid\": true, \"showticklabels\": true}, \"xaxis238\": {\"anchor\": \"y238\", \"domain\": [0.4727999999999999, 0.5071999999999999], \"gridcolor\": \"black\", \"gridwidth\": 1, \"linecolor\": \"black\", \"matches\": \"x\", \"showgrid\": true, \"showticklabels\": true}, \"xaxis239\": {\"anchor\": \"y239\", \"domain\": [0.5121999999999999, 0.5465999999999999], \"gridcolor\": \"black\", \"gridwidth\": 1, \"linecolor\": \"black\", \"matches\": \"x\", \"showgrid\": true, \"showticklabels\": true}, \"xaxis24\": {\"anchor\": \"y24\", \"domain\": [0.9061999999999998, 0.9405999999999998], \"gridcolor\": \"black\", \"gridwidth\": 1, \"linecolor\": \"black\", \"matches\": \"x\", \"showgrid\": true, \"showticklabels\": true, \"title\": {\"text\": \"date\"}}, \"xaxis240\": {\"anchor\": \"y240\", \"domain\": [0.5515999999999999, 0.5859999999999999], \"gridcolor\": \"black\", \"gridwidth\": 1, \"linecolor\": \"black\", \"matches\": \"x\", \"showgrid\": true, \"showticklabels\": true}, \"xaxis241\": {\"anchor\": \"y241\", \"domain\": [0.5909999999999999, 0.6253999999999998], \"gridcolor\": \"black\", \"gridwidth\": 1, \"linecolor\": \"black\", \"matches\": \"x\", \"showgrid\": true, \"showticklabels\": true}, \"xaxis242\": {\"anchor\": \"y242\", \"domain\": [0.6303999999999998, 0.6647999999999998], \"gridcolor\": \"black\", \"gridwidth\": 1, \"linecolor\": \"black\", \"matches\": \"x\", \"showgrid\": true, \"showticklabels\": true}, \"xaxis243\": {\"anchor\": \"y243\", \"domain\": [0.6697999999999998, 0.7041999999999998], \"gridcolor\": \"black\", \"gridwidth\": 1, \"linecolor\": \"black\", \"matches\": \"x\", \"showgrid\": true, \"showticklabels\": true}, \"xaxis244\": {\"anchor\": \"y244\", \"domain\": [0.7091999999999998, 0.7435999999999998], \"gridcolor\": \"black\", \"gridwidth\": 1, \"linecolor\": \"black\", \"matches\": \"x\", \"showgrid\": true, \"showticklabels\": true}, \"xaxis245\": {\"anchor\": \"y245\", \"domain\": [0.7485999999999998, 0.7829999999999998], \"gridcolor\": \"black\", \"gridwidth\": 1, \"linecolor\": \"black\", \"matches\": \"x\", \"showgrid\": true, \"showticklabels\": true}, \"xaxis246\": {\"anchor\": \"y246\", \"domain\": [0.7879999999999998, 0.8223999999999998], \"gridcolor\": \"black\", \"gridwidth\": 1, \"linecolor\": \"black\", \"matches\": \"x\", \"showgrid\": true, \"showticklabels\": true}, \"xaxis247\": {\"anchor\": \"y247\", \"domain\": [0.8273999999999998, 0.8617999999999998], \"gridcolor\": \"black\", \"gridwidth\": 1, \"linecolor\": \"black\", \"matches\": \"x\", \"showgrid\": true, \"showticklabels\": true}, \"xaxis248\": {\"anchor\": \"y248\", \"domain\": [0.8667999999999998, 0.9011999999999998], \"gridcolor\": \"black\", \"gridwidth\": 1, \"linecolor\": \"black\", \"matches\": \"x\", \"showgrid\": true, \"showticklabels\": true}, \"xaxis249\": {\"anchor\": \"y249\", \"domain\": [0.9061999999999998, 0.9405999999999998], \"gridcolor\": \"black\", \"gridwidth\": 1, \"linecolor\": \"black\", \"matches\": \"x\", \"showgrid\": true, \"showticklabels\": true}, \"xaxis25\": {\"anchor\": \"y25\", \"domain\": [0.9455999999999998, 0.9799999999999998], \"gridcolor\": \"black\", \"gridwidth\": 1, \"linecolor\": \"black\", \"matches\": \"x\", \"showgrid\": true, \"showticklabels\": true, \"title\": {\"text\": \"date\"}}, \"xaxis250\": {\"anchor\": \"y250\", \"domain\": [0.9455999999999998, 0.9799999999999998], \"gridcolor\": \"black\", \"gridwidth\": 1, \"linecolor\": \"black\", \"matches\": \"x\", \"showgrid\": true, \"showticklabels\": true}, \"xaxis251\": {\"anchor\": \"y251\", \"domain\": [0.0, 0.0344], \"gridcolor\": \"black\", \"gridwidth\": 1, \"linecolor\": \"black\", \"matches\": \"x\", \"showgrid\": true, \"showticklabels\": true}, \"xaxis252\": {\"anchor\": \"y252\", \"domain\": [0.0394, 0.0738], \"gridcolor\": \"black\", \"gridwidth\": 1, \"linecolor\": \"black\", \"matches\": \"x\", \"showgrid\": true, \"showticklabels\": true}, \"xaxis253\": {\"anchor\": \"y253\", \"domain\": [0.0788, 0.1132], \"gridcolor\": \"black\", \"gridwidth\": 1, \"linecolor\": \"black\", \"matches\": \"x\", \"showgrid\": true, \"showticklabels\": true}, \"xaxis254\": {\"anchor\": \"y254\", \"domain\": [0.1182, 0.1526], \"gridcolor\": \"black\", \"gridwidth\": 1, \"linecolor\": \"black\", \"matches\": \"x\", \"showgrid\": true, \"showticklabels\": true}, \"xaxis255\": {\"anchor\": \"y255\", \"domain\": [0.1576, 0.192], \"gridcolor\": \"black\", \"gridwidth\": 1, \"linecolor\": \"black\", \"matches\": \"x\", \"showgrid\": true, \"showticklabels\": true}, \"xaxis256\": {\"anchor\": \"y256\", \"domain\": [0.19699999999999998, 0.2314], \"gridcolor\": \"black\", \"gridwidth\": 1, \"linecolor\": \"black\", \"matches\": \"x\", \"showgrid\": true, \"showticklabels\": true}, \"xaxis257\": {\"anchor\": \"y257\", \"domain\": [0.23639999999999997, 0.2708], \"gridcolor\": \"black\", \"gridwidth\": 1, \"linecolor\": \"black\", \"matches\": \"x\", \"showgrid\": true, \"showticklabels\": true}, \"xaxis258\": {\"anchor\": \"y258\", \"domain\": [0.27579999999999993, 0.3101999999999999], \"gridcolor\": \"black\", \"gridwidth\": 1, \"linecolor\": \"black\", \"matches\": \"x\", \"showgrid\": true, \"showticklabels\": true}, \"xaxis259\": {\"anchor\": \"y259\", \"domain\": [0.3151999999999999, 0.3495999999999999], \"gridcolor\": \"black\", \"gridwidth\": 1, \"linecolor\": \"black\", \"matches\": \"x\", \"showgrid\": true, \"showticklabels\": true}, \"xaxis26\": {\"anchor\": \"y26\", \"domain\": [0.0, 0.0344], \"gridcolor\": \"black\", \"gridwidth\": 1, \"linecolor\": \"black\", \"matches\": \"x\", \"showgrid\": true, \"showticklabels\": true}, \"xaxis260\": {\"anchor\": \"y260\", \"domain\": [0.3545999999999999, 0.3889999999999999], \"gridcolor\": \"black\", \"gridwidth\": 1, \"linecolor\": \"black\", \"matches\": \"x\", \"showgrid\": true, \"showticklabels\": true}, \"xaxis261\": {\"anchor\": \"y261\", \"domain\": [0.3939999999999999, 0.4283999999999999], \"gridcolor\": \"black\", \"gridwidth\": 1, \"linecolor\": \"black\", \"matches\": \"x\", \"showgrid\": true, \"showticklabels\": true}, \"xaxis262\": {\"anchor\": \"y262\", \"domain\": [0.4333999999999999, 0.4677999999999999], \"gridcolor\": \"black\", \"gridwidth\": 1, \"linecolor\": \"black\", \"matches\": \"x\", \"showgrid\": true, \"showticklabels\": true}, \"xaxis263\": {\"anchor\": \"y263\", \"domain\": [0.4727999999999999, 0.5071999999999999], \"gridcolor\": \"black\", \"gridwidth\": 1, \"linecolor\": \"black\", \"matches\": \"x\", \"showgrid\": true, \"showticklabels\": true}, \"xaxis264\": {\"anchor\": \"y264\", \"domain\": [0.5121999999999999, 0.5465999999999999], \"gridcolor\": \"black\", \"gridwidth\": 1, \"linecolor\": \"black\", \"matches\": \"x\", \"showgrid\": true, \"showticklabels\": true}, \"xaxis265\": {\"anchor\": \"y265\", \"domain\": [0.5515999999999999, 0.5859999999999999], \"gridcolor\": \"black\", \"gridwidth\": 1, \"linecolor\": \"black\", \"matches\": \"x\", \"showgrid\": true, \"showticklabels\": true}, \"xaxis266\": {\"anchor\": \"y266\", \"domain\": [0.5909999999999999, 0.6253999999999998], \"gridcolor\": \"black\", \"gridwidth\": 1, \"linecolor\": \"black\", \"matches\": \"x\", \"showgrid\": true, \"showticklabels\": true}, \"xaxis267\": {\"anchor\": \"y267\", \"domain\": [0.6303999999999998, 0.6647999999999998], \"gridcolor\": \"black\", \"gridwidth\": 1, \"linecolor\": \"black\", \"matches\": \"x\", \"showgrid\": true, \"showticklabels\": true}, \"xaxis268\": {\"anchor\": \"y268\", \"domain\": [0.6697999999999998, 0.7041999999999998], \"gridcolor\": \"black\", \"gridwidth\": 1, \"linecolor\": \"black\", \"matches\": \"x\", \"showgrid\": true, \"showticklabels\": true}, \"xaxis269\": {\"anchor\": \"y269\", \"domain\": [0.7091999999999998, 0.7435999999999998], \"gridcolor\": \"black\", \"gridwidth\": 1, \"linecolor\": \"black\", \"matches\": \"x\", \"showgrid\": true, \"showticklabels\": true}, \"xaxis27\": {\"anchor\": \"y27\", \"domain\": [0.0394, 0.0738], \"gridcolor\": \"black\", \"gridwidth\": 1, \"linecolor\": \"black\", \"matches\": \"x\", \"showgrid\": true, \"showticklabels\": true}, \"xaxis270\": {\"anchor\": \"y270\", \"domain\": [0.7485999999999998, 0.7829999999999998], \"gridcolor\": \"black\", \"gridwidth\": 1, \"linecolor\": \"black\", \"matches\": \"x\", \"showgrid\": true, \"showticklabels\": true}, \"xaxis271\": {\"anchor\": \"y271\", \"domain\": [0.7879999999999998, 0.8223999999999998], \"gridcolor\": \"black\", \"gridwidth\": 1, \"linecolor\": \"black\", \"matches\": \"x\", \"showgrid\": true, \"showticklabels\": true}, \"xaxis272\": {\"anchor\": \"y272\", \"domain\": [0.8273999999999998, 0.8617999999999998], \"gridcolor\": \"black\", \"gridwidth\": 1, \"linecolor\": \"black\", \"matches\": \"x\", \"showgrid\": true, \"showticklabels\": true}, \"xaxis273\": {\"anchor\": \"y273\", \"domain\": [0.8667999999999998, 0.9011999999999998], \"gridcolor\": \"black\", \"gridwidth\": 1, \"linecolor\": \"black\", \"matches\": \"x\", \"showgrid\": true, \"showticklabels\": true}, \"xaxis274\": {\"anchor\": \"y274\", \"domain\": [0.9061999999999998, 0.9405999999999998], \"gridcolor\": \"black\", \"gridwidth\": 1, \"linecolor\": \"black\", \"matches\": \"x\", \"showgrid\": true, \"showticklabels\": true}, \"xaxis275\": {\"anchor\": \"y275\", \"domain\": [0.9455999999999998, 0.9799999999999998], \"gridcolor\": \"black\", \"gridwidth\": 1, \"linecolor\": \"black\", \"matches\": \"x\", \"showgrid\": true, \"showticklabels\": true}, \"xaxis276\": {\"anchor\": \"y276\", \"domain\": [0.0, 0.0344], \"gridcolor\": \"black\", \"gridwidth\": 1, \"linecolor\": \"black\", \"matches\": \"x\", \"showgrid\": true, \"showticklabels\": true}, \"xaxis277\": {\"anchor\": \"y277\", \"domain\": [0.0394, 0.0738], \"gridcolor\": \"black\", \"gridwidth\": 1, \"linecolor\": \"black\", \"matches\": \"x\", \"showgrid\": true, \"showticklabels\": true}, \"xaxis278\": {\"anchor\": \"y278\", \"domain\": [0.0788, 0.1132], \"gridcolor\": \"black\", \"gridwidth\": 1, \"linecolor\": \"black\", \"matches\": \"x\", \"showgrid\": true, \"showticklabels\": true}, \"xaxis279\": {\"anchor\": \"y279\", \"domain\": [0.1182, 0.1526], \"gridcolor\": \"black\", \"gridwidth\": 1, \"linecolor\": \"black\", \"matches\": \"x\", \"showgrid\": true, \"showticklabels\": true}, \"xaxis28\": {\"anchor\": \"y28\", \"domain\": [0.0788, 0.1132], \"gridcolor\": \"black\", \"gridwidth\": 1, \"linecolor\": \"black\", \"matches\": \"x\", \"showgrid\": true, \"showticklabels\": true}, \"xaxis280\": {\"anchor\": \"y280\", \"domain\": [0.1576, 0.192], \"gridcolor\": \"black\", \"gridwidth\": 1, \"linecolor\": \"black\", \"matches\": \"x\", \"showgrid\": true, \"showticklabels\": true}, \"xaxis281\": {\"anchor\": \"y281\", \"domain\": [0.19699999999999998, 0.2314], \"gridcolor\": \"black\", \"gridwidth\": 1, \"linecolor\": \"black\", \"matches\": \"x\", \"showgrid\": true, \"showticklabels\": true}, \"xaxis282\": {\"anchor\": \"y282\", \"domain\": [0.23639999999999997, 0.2708], \"gridcolor\": \"black\", \"gridwidth\": 1, \"linecolor\": \"black\", \"matches\": \"x\", \"showgrid\": true, \"showticklabels\": true}, \"xaxis283\": {\"anchor\": \"y283\", \"domain\": [0.27579999999999993, 0.3101999999999999], \"gridcolor\": \"black\", \"gridwidth\": 1, \"linecolor\": \"black\", \"matches\": \"x\", \"showgrid\": true, \"showticklabels\": true}, \"xaxis284\": {\"anchor\": \"y284\", \"domain\": [0.3151999999999999, 0.3495999999999999], \"gridcolor\": \"black\", \"gridwidth\": 1, \"linecolor\": \"black\", \"matches\": \"x\", \"showgrid\": true, \"showticklabels\": true}, \"xaxis285\": {\"anchor\": \"y285\", \"domain\": [0.3545999999999999, 0.3889999999999999], \"gridcolor\": \"black\", \"gridwidth\": 1, \"linecolor\": \"black\", \"matches\": \"x\", \"showgrid\": true, \"showticklabels\": true}, \"xaxis286\": {\"anchor\": \"y286\", \"domain\": [0.3939999999999999, 0.4283999999999999], \"gridcolor\": \"black\", \"gridwidth\": 1, \"linecolor\": \"black\", \"matches\": \"x\", \"showgrid\": true, \"showticklabels\": true}, \"xaxis287\": {\"anchor\": \"y287\", \"domain\": [0.4333999999999999, 0.4677999999999999], \"gridcolor\": \"black\", \"gridwidth\": 1, \"linecolor\": \"black\", \"matches\": \"x\", \"showgrid\": true, \"showticklabels\": true}, \"xaxis288\": {\"anchor\": \"y288\", \"domain\": [0.4727999999999999, 0.5071999999999999], \"gridcolor\": \"black\", \"gridwidth\": 1, \"linecolor\": \"black\", \"matches\": \"x\", \"showgrid\": true, \"showticklabels\": true}, \"xaxis289\": {\"anchor\": \"y289\", \"domain\": [0.5121999999999999, 0.5465999999999999], \"gridcolor\": \"black\", \"gridwidth\": 1, \"linecolor\": \"black\", \"matches\": \"x\", \"showgrid\": true, \"showticklabels\": true}, \"xaxis29\": {\"anchor\": \"y29\", \"domain\": [0.1182, 0.1526], \"gridcolor\": \"black\", \"gridwidth\": 1, \"linecolor\": \"black\", \"matches\": \"x\", \"showgrid\": true, \"showticklabels\": true}, \"xaxis290\": {\"anchor\": \"y290\", \"domain\": [0.5515999999999999, 0.5859999999999999], \"gridcolor\": \"black\", \"gridwidth\": 1, \"linecolor\": \"black\", \"matches\": \"x\", \"showgrid\": true, \"showticklabels\": true}, \"xaxis291\": {\"anchor\": \"y291\", \"domain\": [0.5909999999999999, 0.6253999999999998], \"gridcolor\": \"black\", \"gridwidth\": 1, \"linecolor\": \"black\", \"matches\": \"x\", \"showgrid\": true, \"showticklabels\": true}, \"xaxis292\": {\"anchor\": \"y292\", \"domain\": [0.6303999999999998, 0.6647999999999998], \"gridcolor\": \"black\", \"gridwidth\": 1, \"linecolor\": \"black\", \"matches\": \"x\", \"showgrid\": true, \"showticklabels\": true}, \"xaxis293\": {\"anchor\": \"y293\", \"domain\": [0.6697999999999998, 0.7041999999999998], \"gridcolor\": \"black\", \"gridwidth\": 1, \"linecolor\": \"black\", \"matches\": \"x\", \"showgrid\": true, \"showticklabels\": true}, \"xaxis294\": {\"anchor\": \"y294\", \"domain\": [0.7091999999999998, 0.7435999999999998], \"gridcolor\": \"black\", \"gridwidth\": 1, \"linecolor\": \"black\", \"matches\": \"x\", \"showgrid\": true, \"showticklabels\": true}, \"xaxis295\": {\"anchor\": \"y295\", \"domain\": [0.7485999999999998, 0.7829999999999998], \"gridcolor\": \"black\", \"gridwidth\": 1, \"linecolor\": \"black\", \"matches\": \"x\", \"showgrid\": true, \"showticklabels\": true}, \"xaxis296\": {\"anchor\": \"y296\", \"domain\": [0.7879999999999998, 0.8223999999999998], \"gridcolor\": \"black\", \"gridwidth\": 1, \"linecolor\": \"black\", \"matches\": \"x\", \"showgrid\": true, \"showticklabels\": true}, \"xaxis297\": {\"anchor\": \"y297\", \"domain\": [0.8273999999999998, 0.8617999999999998], \"gridcolor\": \"black\", \"gridwidth\": 1, \"linecolor\": \"black\", \"matches\": \"x\", \"showgrid\": true, \"showticklabels\": true}, \"xaxis298\": {\"anchor\": \"y298\", \"domain\": [0.8667999999999998, 0.9011999999999998], \"gridcolor\": \"black\", \"gridwidth\": 1, \"linecolor\": \"black\", \"matches\": \"x\", \"showgrid\": true, \"showticklabels\": true}, \"xaxis299\": {\"anchor\": \"y299\", \"domain\": [0.9061999999999998, 0.9405999999999998], \"gridcolor\": \"black\", \"gridwidth\": 1, \"linecolor\": \"black\", \"matches\": \"x\", \"showgrid\": true, \"showticklabels\": true}, \"xaxis3\": {\"anchor\": \"y3\", \"domain\": [0.0788, 0.1132], \"gridcolor\": \"black\", \"gridwidth\": 1, \"linecolor\": \"black\", \"matches\": \"x\", \"showgrid\": true, \"showticklabels\": true, \"title\": {\"text\": \"date\"}}, \"xaxis30\": {\"anchor\": \"y30\", \"domain\": [0.1576, 0.192], \"gridcolor\": \"black\", \"gridwidth\": 1, \"linecolor\": \"black\", \"matches\": \"x\", \"showgrid\": true, \"showticklabels\": true}, \"xaxis300\": {\"anchor\": \"y300\", \"domain\": [0.9455999999999998, 0.9799999999999998], \"gridcolor\": \"black\", \"gridwidth\": 1, \"linecolor\": \"black\", \"matches\": \"x\", \"showgrid\": true, \"showticklabels\": true}, \"xaxis301\": {\"anchor\": \"y301\", \"domain\": [0.0, 0.0344], \"gridcolor\": \"black\", \"gridwidth\": 1, \"linecolor\": \"black\", \"matches\": \"x\", \"showgrid\": true, \"showticklabels\": true}, \"xaxis302\": {\"anchor\": \"y302\", \"domain\": [0.0394, 0.0738], \"gridcolor\": \"black\", \"gridwidth\": 1, \"linecolor\": \"black\", \"matches\": \"x\", \"showgrid\": true, \"showticklabels\": true}, \"xaxis303\": {\"anchor\": \"y303\", \"domain\": [0.0788, 0.1132], \"gridcolor\": \"black\", \"gridwidth\": 1, \"linecolor\": \"black\", \"matches\": \"x\", \"showgrid\": true, \"showticklabels\": true}, \"xaxis304\": {\"anchor\": \"y304\", \"domain\": [0.1182, 0.1526], \"gridcolor\": \"black\", \"gridwidth\": 1, \"linecolor\": \"black\", \"matches\": \"x\", \"showgrid\": true, \"showticklabels\": true}, \"xaxis305\": {\"anchor\": \"y305\", \"domain\": [0.1576, 0.192], \"gridcolor\": \"black\", \"gridwidth\": 1, \"linecolor\": \"black\", \"matches\": \"x\", \"showgrid\": true, \"showticklabels\": true}, \"xaxis306\": {\"anchor\": \"y306\", \"domain\": [0.19699999999999998, 0.2314], \"gridcolor\": \"black\", \"gridwidth\": 1, \"linecolor\": \"black\", \"matches\": \"x\", \"showgrid\": true, \"showticklabels\": true}, \"xaxis307\": {\"anchor\": \"y307\", \"domain\": [0.23639999999999997, 0.2708], \"gridcolor\": \"black\", \"gridwidth\": 1, \"linecolor\": \"black\", \"matches\": \"x\", \"showgrid\": true, \"showticklabels\": true}, \"xaxis308\": {\"anchor\": \"y308\", \"domain\": [0.27579999999999993, 0.3101999999999999], \"gridcolor\": \"black\", \"gridwidth\": 1, \"linecolor\": \"black\", \"matches\": \"x\", \"showgrid\": true, \"showticklabels\": true}, \"xaxis309\": {\"anchor\": \"y309\", \"domain\": [0.3151999999999999, 0.3495999999999999], \"gridcolor\": \"black\", \"gridwidth\": 1, \"linecolor\": \"black\", \"matches\": \"x\", \"showgrid\": true, \"showticklabels\": true}, \"xaxis31\": {\"anchor\": \"y31\", \"domain\": [0.19699999999999998, 0.2314], \"gridcolor\": \"black\", \"gridwidth\": 1, \"linecolor\": \"black\", \"matches\": \"x\", \"showgrid\": true, \"showticklabels\": true}, \"xaxis310\": {\"anchor\": \"y310\", \"domain\": [0.3545999999999999, 0.3889999999999999], \"gridcolor\": \"black\", \"gridwidth\": 1, \"linecolor\": \"black\", \"matches\": \"x\", \"showgrid\": true, \"showticklabels\": true}, \"xaxis311\": {\"anchor\": \"y311\", \"domain\": [0.3939999999999999, 0.4283999999999999], \"gridcolor\": \"black\", \"gridwidth\": 1, \"linecolor\": \"black\", \"matches\": \"x\", \"showgrid\": true, \"showticklabels\": true}, \"xaxis312\": {\"anchor\": \"y312\", \"domain\": [0.4333999999999999, 0.4677999999999999], \"gridcolor\": \"black\", \"gridwidth\": 1, \"linecolor\": \"black\", \"matches\": \"x\", \"showgrid\": true, \"showticklabels\": true}, \"xaxis313\": {\"anchor\": \"y313\", \"domain\": [0.4727999999999999, 0.5071999999999999], \"gridcolor\": \"black\", \"gridwidth\": 1, \"linecolor\": \"black\", \"matches\": \"x\", \"showgrid\": true, \"showticklabels\": true}, \"xaxis314\": {\"anchor\": \"y314\", \"domain\": [0.5121999999999999, 0.5465999999999999], \"gridcolor\": \"black\", \"gridwidth\": 1, \"linecolor\": \"black\", \"matches\": \"x\", \"showgrid\": true, \"showticklabels\": true}, \"xaxis315\": {\"anchor\": \"y315\", \"domain\": [0.5515999999999999, 0.5859999999999999], \"gridcolor\": \"black\", \"gridwidth\": 1, \"linecolor\": \"black\", \"matches\": \"x\", \"showgrid\": true, \"showticklabels\": true}, \"xaxis316\": {\"anchor\": \"y316\", \"domain\": [0.5909999999999999, 0.6253999999999998], \"gridcolor\": \"black\", \"gridwidth\": 1, \"linecolor\": \"black\", \"matches\": \"x\", \"showgrid\": true, \"showticklabels\": true}, \"xaxis317\": {\"anchor\": \"y317\", \"domain\": [0.6303999999999998, 0.6647999999999998], \"gridcolor\": \"black\", \"gridwidth\": 1, \"linecolor\": \"black\", \"matches\": \"x\", \"showgrid\": true, \"showticklabels\": true}, \"xaxis318\": {\"anchor\": \"y318\", \"domain\": [0.6697999999999998, 0.7041999999999998], \"gridcolor\": \"black\", \"gridwidth\": 1, \"linecolor\": \"black\", \"matches\": \"x\", \"showgrid\": true, \"showticklabels\": true}, \"xaxis319\": {\"anchor\": \"y319\", \"domain\": [0.7091999999999998, 0.7435999999999998], \"gridcolor\": \"black\", \"gridwidth\": 1, \"linecolor\": \"black\", \"matches\": \"x\", \"showgrid\": true, \"showticklabels\": true}, \"xaxis32\": {\"anchor\": \"y32\", \"domain\": [0.23639999999999997, 0.2708], \"gridcolor\": \"black\", \"gridwidth\": 1, \"linecolor\": \"black\", \"matches\": \"x\", \"showgrid\": true, \"showticklabels\": true}, \"xaxis320\": {\"anchor\": \"y320\", \"domain\": [0.7485999999999998, 0.7829999999999998], \"gridcolor\": \"black\", \"gridwidth\": 1, \"linecolor\": \"black\", \"matches\": \"x\", \"showgrid\": true, \"showticklabels\": true}, \"xaxis321\": {\"anchor\": \"y321\", \"domain\": [0.7879999999999998, 0.8223999999999998], \"gridcolor\": \"black\", \"gridwidth\": 1, \"linecolor\": \"black\", \"matches\": \"x\", \"showgrid\": true, \"showticklabels\": true}, \"xaxis322\": {\"anchor\": \"y322\", \"domain\": [0.8273999999999998, 0.8617999999999998], \"gridcolor\": \"black\", \"gridwidth\": 1, \"linecolor\": \"black\", \"matches\": \"x\", \"showgrid\": true, \"showticklabels\": true}, \"xaxis323\": {\"anchor\": \"y323\", \"domain\": [0.8667999999999998, 0.9011999999999998], \"gridcolor\": \"black\", \"gridwidth\": 1, \"linecolor\": \"black\", \"matches\": \"x\", \"showgrid\": true, \"showticklabels\": true}, \"xaxis324\": {\"anchor\": \"y324\", \"domain\": [0.9061999999999998, 0.9405999999999998], \"gridcolor\": \"black\", \"gridwidth\": 1, \"linecolor\": \"black\", \"matches\": \"x\", \"showgrid\": true, \"showticklabels\": true}, \"xaxis325\": {\"anchor\": \"y325\", \"domain\": [0.9455999999999998, 0.9799999999999998], \"gridcolor\": \"black\", \"gridwidth\": 1, \"linecolor\": \"black\", \"matches\": \"x\", \"showgrid\": true, \"showticklabels\": true}, \"xaxis326\": {\"anchor\": \"y326\", \"domain\": [0.0, 0.0344], \"gridcolor\": \"black\", \"gridwidth\": 1, \"linecolor\": \"black\", \"matches\": \"x\", \"showgrid\": true, \"showticklabels\": true}, \"xaxis327\": {\"anchor\": \"y327\", \"domain\": [0.0394, 0.0738], \"gridcolor\": \"black\", \"gridwidth\": 1, \"linecolor\": \"black\", \"matches\": \"x\", \"showgrid\": true, \"showticklabels\": true}, \"xaxis328\": {\"anchor\": \"y328\", \"domain\": [0.0788, 0.1132], \"gridcolor\": \"black\", \"gridwidth\": 1, \"linecolor\": \"black\", \"matches\": \"x\", \"showgrid\": true, \"showticklabels\": true}, \"xaxis329\": {\"anchor\": \"y329\", \"domain\": [0.1182, 0.1526], \"gridcolor\": \"black\", \"gridwidth\": 1, \"linecolor\": \"black\", \"matches\": \"x\", \"showgrid\": true, \"showticklabels\": true}, \"xaxis33\": {\"anchor\": \"y33\", \"domain\": [0.27579999999999993, 0.3101999999999999], \"gridcolor\": \"black\", \"gridwidth\": 1, \"linecolor\": \"black\", \"matches\": \"x\", \"showgrid\": true, \"showticklabels\": true}, \"xaxis330\": {\"anchor\": \"y330\", \"domain\": [0.1576, 0.192], \"gridcolor\": \"black\", \"gridwidth\": 1, \"linecolor\": \"black\", \"matches\": \"x\", \"showgrid\": true, \"showticklabels\": true}, \"xaxis331\": {\"anchor\": \"y331\", \"domain\": [0.19699999999999998, 0.2314], \"gridcolor\": \"black\", \"gridwidth\": 1, \"linecolor\": \"black\", \"matches\": \"x\", \"showgrid\": true, \"showticklabels\": true}, \"xaxis332\": {\"anchor\": \"y332\", \"domain\": [0.23639999999999997, 0.2708], \"gridcolor\": \"black\", \"gridwidth\": 1, \"linecolor\": \"black\", \"matches\": \"x\", \"showgrid\": true, \"showticklabels\": true}, \"xaxis333\": {\"anchor\": \"y333\", \"domain\": [0.27579999999999993, 0.3101999999999999], \"gridcolor\": \"black\", \"gridwidth\": 1, \"linecolor\": \"black\", \"matches\": \"x\", \"showgrid\": true, \"showticklabels\": true}, \"xaxis334\": {\"anchor\": \"y334\", \"domain\": [0.3151999999999999, 0.3495999999999999], \"gridcolor\": \"black\", \"gridwidth\": 1, \"linecolor\": \"black\", \"matches\": \"x\", \"showgrid\": true, \"showticklabels\": true}, \"xaxis335\": {\"anchor\": \"y335\", \"domain\": [0.3545999999999999, 0.3889999999999999], \"gridcolor\": \"black\", \"gridwidth\": 1, \"linecolor\": \"black\", \"matches\": \"x\", \"showgrid\": true, \"showticklabels\": true}, \"xaxis336\": {\"anchor\": \"y336\", \"domain\": [0.3939999999999999, 0.4283999999999999], \"gridcolor\": \"black\", \"gridwidth\": 1, \"linecolor\": \"black\", \"matches\": \"x\", \"showgrid\": true, \"showticklabels\": true}, \"xaxis337\": {\"anchor\": \"y337\", \"domain\": [0.4333999999999999, 0.4677999999999999], \"gridcolor\": \"black\", \"gridwidth\": 1, \"linecolor\": \"black\", \"matches\": \"x\", \"showgrid\": true, \"showticklabels\": true}, \"xaxis338\": {\"anchor\": \"y338\", \"domain\": [0.4727999999999999, 0.5071999999999999], \"gridcolor\": \"black\", \"gridwidth\": 1, \"linecolor\": \"black\", \"matches\": \"x\", \"showgrid\": true, \"showticklabels\": true}, \"xaxis339\": {\"anchor\": \"y339\", \"domain\": [0.5121999999999999, 0.5465999999999999], \"gridcolor\": \"black\", \"gridwidth\": 1, \"linecolor\": \"black\", \"matches\": \"x\", \"showgrid\": true, \"showticklabels\": true}, \"xaxis34\": {\"anchor\": \"y34\", \"domain\": [0.3151999999999999, 0.3495999999999999], \"gridcolor\": \"black\", \"gridwidth\": 1, \"linecolor\": \"black\", \"matches\": \"x\", \"showgrid\": true, \"showticklabels\": true}, \"xaxis340\": {\"anchor\": \"y340\", \"domain\": [0.5515999999999999, 0.5859999999999999], \"gridcolor\": \"black\", \"gridwidth\": 1, \"linecolor\": \"black\", \"matches\": \"x\", \"showgrid\": true, \"showticklabels\": true}, \"xaxis341\": {\"anchor\": \"y341\", \"domain\": [0.5909999999999999, 0.6253999999999998], \"gridcolor\": \"black\", \"gridwidth\": 1, \"linecolor\": \"black\", \"matches\": \"x\", \"showgrid\": true, \"showticklabels\": true}, \"xaxis342\": {\"anchor\": \"y342\", \"domain\": [0.6303999999999998, 0.6647999999999998], \"gridcolor\": \"black\", \"gridwidth\": 1, \"linecolor\": \"black\", \"matches\": \"x\", \"showgrid\": true, \"showticklabels\": true}, \"xaxis343\": {\"anchor\": \"y343\", \"domain\": [0.6697999999999998, 0.7041999999999998], \"gridcolor\": \"black\", \"gridwidth\": 1, \"linecolor\": \"black\", \"matches\": \"x\", \"showgrid\": true, \"showticklabels\": true}, \"xaxis344\": {\"anchor\": \"y344\", \"domain\": [0.7091999999999998, 0.7435999999999998], \"gridcolor\": \"black\", \"gridwidth\": 1, \"linecolor\": \"black\", \"matches\": \"x\", \"showgrid\": true, \"showticklabels\": true}, \"xaxis345\": {\"anchor\": \"y345\", \"domain\": [0.7485999999999998, 0.7829999999999998], \"gridcolor\": \"black\", \"gridwidth\": 1, \"linecolor\": \"black\", \"matches\": \"x\", \"showgrid\": true, \"showticklabels\": true}, \"xaxis346\": {\"anchor\": \"y346\", \"domain\": [0.7879999999999998, 0.8223999999999998], \"gridcolor\": \"black\", \"gridwidth\": 1, \"linecolor\": \"black\", \"matches\": \"x\", \"showgrid\": true, \"showticklabels\": true}, \"xaxis347\": {\"anchor\": \"y347\", \"domain\": [0.8273999999999998, 0.8617999999999998], \"gridcolor\": \"black\", \"gridwidth\": 1, \"linecolor\": \"black\", \"matches\": \"x\", \"showgrid\": true, \"showticklabels\": true}, \"xaxis348\": {\"anchor\": \"y348\", \"domain\": [0.8667999999999998, 0.9011999999999998], \"gridcolor\": \"black\", \"gridwidth\": 1, \"linecolor\": \"black\", \"matches\": \"x\", \"showgrid\": true, \"showticklabels\": true}, \"xaxis349\": {\"anchor\": \"y349\", \"domain\": [0.9061999999999998, 0.9405999999999998], \"gridcolor\": \"black\", \"gridwidth\": 1, \"linecolor\": \"black\", \"matches\": \"x\", \"showgrid\": true, \"showticklabels\": true}, \"xaxis35\": {\"anchor\": \"y35\", \"domain\": [0.3545999999999999, 0.3889999999999999], \"gridcolor\": \"black\", \"gridwidth\": 1, \"linecolor\": \"black\", \"matches\": \"x\", \"showgrid\": true, \"showticklabels\": true}, \"xaxis350\": {\"anchor\": \"y350\", \"domain\": [0.9455999999999998, 0.9799999999999998], \"gridcolor\": \"black\", \"gridwidth\": 1, \"linecolor\": \"black\", \"matches\": \"x\", \"showgrid\": true, \"showticklabels\": true}, \"xaxis36\": {\"anchor\": \"y36\", \"domain\": [0.3939999999999999, 0.4283999999999999], \"gridcolor\": \"black\", \"gridwidth\": 1, \"linecolor\": \"black\", \"matches\": \"x\", \"showgrid\": true, \"showticklabels\": true}, \"xaxis37\": {\"anchor\": \"y37\", \"domain\": [0.4333999999999999, 0.4677999999999999], \"gridcolor\": \"black\", \"gridwidth\": 1, \"linecolor\": \"black\", \"matches\": \"x\", \"showgrid\": true, \"showticklabels\": true}, \"xaxis38\": {\"anchor\": \"y38\", \"domain\": [0.4727999999999999, 0.5071999999999999], \"gridcolor\": \"black\", \"gridwidth\": 1, \"linecolor\": \"black\", \"matches\": \"x\", \"showgrid\": true, \"showticklabels\": true}, \"xaxis39\": {\"anchor\": \"y39\", \"domain\": [0.5121999999999999, 0.5465999999999999], \"gridcolor\": \"black\", \"gridwidth\": 1, \"linecolor\": \"black\", \"matches\": \"x\", \"showgrid\": true, \"showticklabels\": true}, \"xaxis4\": {\"anchor\": \"y4\", \"domain\": [0.1182, 0.1526], \"gridcolor\": \"black\", \"gridwidth\": 1, \"linecolor\": \"black\", \"matches\": \"x\", \"showgrid\": true, \"showticklabels\": true, \"title\": {\"text\": \"date\"}}, \"xaxis40\": {\"anchor\": \"y40\", \"domain\": [0.5515999999999999, 0.5859999999999999], \"gridcolor\": \"black\", \"gridwidth\": 1, \"linecolor\": \"black\", \"matches\": \"x\", \"showgrid\": true, \"showticklabels\": true}, \"xaxis41\": {\"anchor\": \"y41\", \"domain\": [0.5909999999999999, 0.6253999999999998], \"gridcolor\": \"black\", \"gridwidth\": 1, \"linecolor\": \"black\", \"matches\": \"x\", \"showgrid\": true, \"showticklabels\": true}, \"xaxis42\": {\"anchor\": \"y42\", \"domain\": [0.6303999999999998, 0.6647999999999998], \"gridcolor\": \"black\", \"gridwidth\": 1, \"linecolor\": \"black\", \"matches\": \"x\", \"showgrid\": true, \"showticklabels\": true}, \"xaxis43\": {\"anchor\": \"y43\", \"domain\": [0.6697999999999998, 0.7041999999999998], \"gridcolor\": \"black\", \"gridwidth\": 1, \"linecolor\": \"black\", \"matches\": \"x\", \"showgrid\": true, \"showticklabels\": true}, \"xaxis44\": {\"anchor\": \"y44\", \"domain\": [0.7091999999999998, 0.7435999999999998], \"gridcolor\": \"black\", \"gridwidth\": 1, \"linecolor\": \"black\", \"matches\": \"x\", \"showgrid\": true, \"showticklabels\": true}, \"xaxis45\": {\"anchor\": \"y45\", \"domain\": [0.7485999999999998, 0.7829999999999998], \"gridcolor\": \"black\", \"gridwidth\": 1, \"linecolor\": \"black\", \"matches\": \"x\", \"showgrid\": true, \"showticklabels\": true}, \"xaxis46\": {\"anchor\": \"y46\", \"domain\": [0.7879999999999998, 0.8223999999999998], \"gridcolor\": \"black\", \"gridwidth\": 1, \"linecolor\": \"black\", \"matches\": \"x\", \"showgrid\": true, \"showticklabels\": true}, \"xaxis47\": {\"anchor\": \"y47\", \"domain\": [0.8273999999999998, 0.8617999999999998], \"gridcolor\": \"black\", \"gridwidth\": 1, \"linecolor\": \"black\", \"matches\": \"x\", \"showgrid\": true, \"showticklabels\": true}, \"xaxis48\": {\"anchor\": \"y48\", \"domain\": [0.8667999999999998, 0.9011999999999998], \"gridcolor\": \"black\", \"gridwidth\": 1, \"linecolor\": \"black\", \"matches\": \"x\", \"showgrid\": true, \"showticklabels\": true}, \"xaxis49\": {\"anchor\": \"y49\", \"domain\": [0.9061999999999998, 0.9405999999999998], \"gridcolor\": \"black\", \"gridwidth\": 1, \"linecolor\": \"black\", \"matches\": \"x\", \"showgrid\": true, \"showticklabels\": true}, \"xaxis5\": {\"anchor\": \"y5\", \"domain\": [0.1576, 0.192], \"gridcolor\": \"black\", \"gridwidth\": 1, \"linecolor\": \"black\", \"matches\": \"x\", \"showgrid\": true, \"showticklabels\": true, \"title\": {\"text\": \"date\"}}, \"xaxis50\": {\"anchor\": \"y50\", \"domain\": [0.9455999999999998, 0.9799999999999998], \"gridcolor\": \"black\", \"gridwidth\": 1, \"linecolor\": \"black\", \"matches\": \"x\", \"showgrid\": true, \"showticklabels\": true}, \"xaxis51\": {\"anchor\": \"y51\", \"domain\": [0.0, 0.0344], \"gridcolor\": \"black\", \"gridwidth\": 1, \"linecolor\": \"black\", \"matches\": \"x\", \"showgrid\": true, \"showticklabels\": true}, \"xaxis52\": {\"anchor\": \"y52\", \"domain\": [0.0394, 0.0738], \"gridcolor\": \"black\", \"gridwidth\": 1, \"linecolor\": \"black\", \"matches\": \"x\", \"showgrid\": true, \"showticklabels\": true}, \"xaxis53\": {\"anchor\": \"y53\", \"domain\": [0.0788, 0.1132], \"gridcolor\": \"black\", \"gridwidth\": 1, \"linecolor\": \"black\", \"matches\": \"x\", \"showgrid\": true, \"showticklabels\": true}, \"xaxis54\": {\"anchor\": \"y54\", \"domain\": [0.1182, 0.1526], \"gridcolor\": \"black\", \"gridwidth\": 1, \"linecolor\": \"black\", \"matches\": \"x\", \"showgrid\": true, \"showticklabels\": true}, \"xaxis55\": {\"anchor\": \"y55\", \"domain\": [0.1576, 0.192], \"gridcolor\": \"black\", \"gridwidth\": 1, \"linecolor\": \"black\", \"matches\": \"x\", \"showgrid\": true, \"showticklabels\": true}, \"xaxis56\": {\"anchor\": \"y56\", \"domain\": [0.19699999999999998, 0.2314], \"gridcolor\": \"black\", \"gridwidth\": 1, \"linecolor\": \"black\", \"matches\": \"x\", \"showgrid\": true, \"showticklabels\": true}, \"xaxis57\": {\"anchor\": \"y57\", \"domain\": [0.23639999999999997, 0.2708], \"gridcolor\": \"black\", \"gridwidth\": 1, \"linecolor\": \"black\", \"matches\": \"x\", \"showgrid\": true, \"showticklabels\": true}, \"xaxis58\": {\"anchor\": \"y58\", \"domain\": [0.27579999999999993, 0.3101999999999999], \"gridcolor\": \"black\", \"gridwidth\": 1, \"linecolor\": \"black\", \"matches\": \"x\", \"showgrid\": true, \"showticklabels\": true}, \"xaxis59\": {\"anchor\": \"y59\", \"domain\": [0.3151999999999999, 0.3495999999999999], \"gridcolor\": \"black\", \"gridwidth\": 1, \"linecolor\": \"black\", \"matches\": \"x\", \"showgrid\": true, \"showticklabels\": true}, \"xaxis6\": {\"anchor\": \"y6\", \"domain\": [0.19699999999999998, 0.2314], \"gridcolor\": \"black\", \"gridwidth\": 1, \"linecolor\": \"black\", \"matches\": \"x\", \"showgrid\": true, \"showticklabels\": true, \"title\": {\"text\": \"date\"}}, \"xaxis60\": {\"anchor\": \"y60\", \"domain\": [0.3545999999999999, 0.3889999999999999], \"gridcolor\": \"black\", \"gridwidth\": 1, \"linecolor\": \"black\", \"matches\": \"x\", \"showgrid\": true, \"showticklabels\": true}, \"xaxis61\": {\"anchor\": \"y61\", \"domain\": [0.3939999999999999, 0.4283999999999999], \"gridcolor\": \"black\", \"gridwidth\": 1, \"linecolor\": \"black\", \"matches\": \"x\", \"showgrid\": true, \"showticklabels\": true}, \"xaxis62\": {\"anchor\": \"y62\", \"domain\": [0.4333999999999999, 0.4677999999999999], \"gridcolor\": \"black\", \"gridwidth\": 1, \"linecolor\": \"black\", \"matches\": \"x\", \"showgrid\": true, \"showticklabels\": true}, \"xaxis63\": {\"anchor\": \"y63\", \"domain\": [0.4727999999999999, 0.5071999999999999], \"gridcolor\": \"black\", \"gridwidth\": 1, \"linecolor\": \"black\", \"matches\": \"x\", \"showgrid\": true, \"showticklabels\": true}, \"xaxis64\": {\"anchor\": \"y64\", \"domain\": [0.5121999999999999, 0.5465999999999999], \"gridcolor\": \"black\", \"gridwidth\": 1, \"linecolor\": \"black\", \"matches\": \"x\", \"showgrid\": true, \"showticklabels\": true}, \"xaxis65\": {\"anchor\": \"y65\", \"domain\": [0.5515999999999999, 0.5859999999999999], \"gridcolor\": \"black\", \"gridwidth\": 1, \"linecolor\": \"black\", \"matches\": \"x\", \"showgrid\": true, \"showticklabels\": true}, \"xaxis66\": {\"anchor\": \"y66\", \"domain\": [0.5909999999999999, 0.6253999999999998], \"gridcolor\": \"black\", \"gridwidth\": 1, \"linecolor\": \"black\", \"matches\": \"x\", \"showgrid\": true, \"showticklabels\": true}, \"xaxis67\": {\"anchor\": \"y67\", \"domain\": [0.6303999999999998, 0.6647999999999998], \"gridcolor\": \"black\", \"gridwidth\": 1, \"linecolor\": \"black\", \"matches\": \"x\", \"showgrid\": true, \"showticklabels\": true}, \"xaxis68\": {\"anchor\": \"y68\", \"domain\": [0.6697999999999998, 0.7041999999999998], \"gridcolor\": \"black\", \"gridwidth\": 1, \"linecolor\": \"black\", \"matches\": \"x\", \"showgrid\": true, \"showticklabels\": true}, \"xaxis69\": {\"anchor\": \"y69\", \"domain\": [0.7091999999999998, 0.7435999999999998], \"gridcolor\": \"black\", \"gridwidth\": 1, \"linecolor\": \"black\", \"matches\": \"x\", \"showgrid\": true, \"showticklabels\": true}, \"xaxis7\": {\"anchor\": \"y7\", \"domain\": [0.23639999999999997, 0.2708], \"gridcolor\": \"black\", \"gridwidth\": 1, \"linecolor\": \"black\", \"matches\": \"x\", \"showgrid\": true, \"showticklabels\": true, \"title\": {\"text\": \"date\"}}, \"xaxis70\": {\"anchor\": \"y70\", \"domain\": [0.7485999999999998, 0.7829999999999998], \"gridcolor\": \"black\", \"gridwidth\": 1, \"linecolor\": \"black\", \"matches\": \"x\", \"showgrid\": true, \"showticklabels\": true}, \"xaxis71\": {\"anchor\": \"y71\", \"domain\": [0.7879999999999998, 0.8223999999999998], \"gridcolor\": \"black\", \"gridwidth\": 1, \"linecolor\": \"black\", \"matches\": \"x\", \"showgrid\": true, \"showticklabels\": true}, \"xaxis72\": {\"anchor\": \"y72\", \"domain\": [0.8273999999999998, 0.8617999999999998], \"gridcolor\": \"black\", \"gridwidth\": 1, \"linecolor\": \"black\", \"matches\": \"x\", \"showgrid\": true, \"showticklabels\": true}, \"xaxis73\": {\"anchor\": \"y73\", \"domain\": [0.8667999999999998, 0.9011999999999998], \"gridcolor\": \"black\", \"gridwidth\": 1, \"linecolor\": \"black\", \"matches\": \"x\", \"showgrid\": true, \"showticklabels\": true}, \"xaxis74\": {\"anchor\": \"y74\", \"domain\": [0.9061999999999998, 0.9405999999999998], \"gridcolor\": \"black\", \"gridwidth\": 1, \"linecolor\": \"black\", \"matches\": \"x\", \"showgrid\": true, \"showticklabels\": true}, \"xaxis75\": {\"anchor\": \"y75\", \"domain\": [0.9455999999999998, 0.9799999999999998], \"gridcolor\": \"black\", \"gridwidth\": 1, \"linecolor\": \"black\", \"matches\": \"x\", \"showgrid\": true, \"showticklabels\": true}, \"xaxis76\": {\"anchor\": \"y76\", \"domain\": [0.0, 0.0344], \"gridcolor\": \"black\", \"gridwidth\": 1, \"linecolor\": \"black\", \"matches\": \"x\", \"showgrid\": true, \"showticklabels\": true}, \"xaxis77\": {\"anchor\": \"y77\", \"domain\": [0.0394, 0.0738], \"gridcolor\": \"black\", \"gridwidth\": 1, \"linecolor\": \"black\", \"matches\": \"x\", \"showgrid\": true, \"showticklabels\": true}, \"xaxis78\": {\"anchor\": \"y78\", \"domain\": [0.0788, 0.1132], \"gridcolor\": \"black\", \"gridwidth\": 1, \"linecolor\": \"black\", \"matches\": \"x\", \"showgrid\": true, \"showticklabels\": true}, \"xaxis79\": {\"anchor\": \"y79\", \"domain\": [0.1182, 0.1526], \"gridcolor\": \"black\", \"gridwidth\": 1, \"linecolor\": \"black\", \"matches\": \"x\", \"showgrid\": true, \"showticklabels\": true}, \"xaxis8\": {\"anchor\": \"y8\", \"domain\": [0.27579999999999993, 0.3101999999999999], \"gridcolor\": \"black\", \"gridwidth\": 1, \"linecolor\": \"black\", \"matches\": \"x\", \"showgrid\": true, \"showticklabels\": true, \"title\": {\"text\": \"date\"}}, \"xaxis80\": {\"anchor\": \"y80\", \"domain\": [0.1576, 0.192], \"gridcolor\": \"black\", \"gridwidth\": 1, \"linecolor\": \"black\", \"matches\": \"x\", \"showgrid\": true, \"showticklabels\": true}, \"xaxis81\": {\"anchor\": \"y81\", \"domain\": [0.19699999999999998, 0.2314], \"gridcolor\": \"black\", \"gridwidth\": 1, \"linecolor\": \"black\", \"matches\": \"x\", \"showgrid\": true, \"showticklabels\": true}, \"xaxis82\": {\"anchor\": \"y82\", \"domain\": [0.23639999999999997, 0.2708], \"gridcolor\": \"black\", \"gridwidth\": 1, \"linecolor\": \"black\", \"matches\": \"x\", \"showgrid\": true, \"showticklabels\": true}, \"xaxis83\": {\"anchor\": \"y83\", \"domain\": [0.27579999999999993, 0.3101999999999999], \"gridcolor\": \"black\", \"gridwidth\": 1, \"linecolor\": \"black\", \"matches\": \"x\", \"showgrid\": true, \"showticklabels\": true}, \"xaxis84\": {\"anchor\": \"y84\", \"domain\": [0.3151999999999999, 0.3495999999999999], \"gridcolor\": \"black\", \"gridwidth\": 1, \"linecolor\": \"black\", \"matches\": \"x\", \"showgrid\": true, \"showticklabels\": true}, \"xaxis85\": {\"anchor\": \"y85\", \"domain\": [0.3545999999999999, 0.3889999999999999], \"gridcolor\": \"black\", \"gridwidth\": 1, \"linecolor\": \"black\", \"matches\": \"x\", \"showgrid\": true, \"showticklabels\": true}, \"xaxis86\": {\"anchor\": \"y86\", \"domain\": [0.3939999999999999, 0.4283999999999999], \"gridcolor\": \"black\", \"gridwidth\": 1, \"linecolor\": \"black\", \"matches\": \"x\", \"showgrid\": true, \"showticklabels\": true}, \"xaxis87\": {\"anchor\": \"y87\", \"domain\": [0.4333999999999999, 0.4677999999999999], \"gridcolor\": \"black\", \"gridwidth\": 1, \"linecolor\": \"black\", \"matches\": \"x\", \"showgrid\": true, \"showticklabels\": true}, \"xaxis88\": {\"anchor\": \"y88\", \"domain\": [0.4727999999999999, 0.5071999999999999], \"gridcolor\": \"black\", \"gridwidth\": 1, \"linecolor\": \"black\", \"matches\": \"x\", \"showgrid\": true, \"showticklabels\": true}, \"xaxis89\": {\"anchor\": \"y89\", \"domain\": [0.5121999999999999, 0.5465999999999999], \"gridcolor\": \"black\", \"gridwidth\": 1, \"linecolor\": \"black\", \"matches\": \"x\", \"showgrid\": true, \"showticklabels\": true}, \"xaxis9\": {\"anchor\": \"y9\", \"domain\": [0.3151999999999999, 0.3495999999999999], \"gridcolor\": \"black\", \"gridwidth\": 1, \"linecolor\": \"black\", \"matches\": \"x\", \"showgrid\": true, \"showticklabels\": true, \"title\": {\"text\": \"date\"}}, \"xaxis90\": {\"anchor\": \"y90\", \"domain\": [0.5515999999999999, 0.5859999999999999], \"gridcolor\": \"black\", \"gridwidth\": 1, \"linecolor\": \"black\", \"matches\": \"x\", \"showgrid\": true, \"showticklabels\": true}, \"xaxis91\": {\"anchor\": \"y91\", \"domain\": [0.5909999999999999, 0.6253999999999998], \"gridcolor\": \"black\", \"gridwidth\": 1, \"linecolor\": \"black\", \"matches\": \"x\", \"showgrid\": true, \"showticklabels\": true}, \"xaxis92\": {\"anchor\": \"y92\", \"domain\": [0.6303999999999998, 0.6647999999999998], \"gridcolor\": \"black\", \"gridwidth\": 1, \"linecolor\": \"black\", \"matches\": \"x\", \"showgrid\": true, \"showticklabels\": true}, \"xaxis93\": {\"anchor\": \"y93\", \"domain\": [0.6697999999999998, 0.7041999999999998], \"gridcolor\": \"black\", \"gridwidth\": 1, \"linecolor\": \"black\", \"matches\": \"x\", \"showgrid\": true, \"showticklabels\": true}, \"xaxis94\": {\"anchor\": \"y94\", \"domain\": [0.7091999999999998, 0.7435999999999998], \"gridcolor\": \"black\", \"gridwidth\": 1, \"linecolor\": \"black\", \"matches\": \"x\", \"showgrid\": true, \"showticklabels\": true}, \"xaxis95\": {\"anchor\": \"y95\", \"domain\": [0.7485999999999998, 0.7829999999999998], \"gridcolor\": \"black\", \"gridwidth\": 1, \"linecolor\": \"black\", \"matches\": \"x\", \"showgrid\": true, \"showticklabels\": true}, \"xaxis96\": {\"anchor\": \"y96\", \"domain\": [0.7879999999999998, 0.8223999999999998], \"gridcolor\": \"black\", \"gridwidth\": 1, \"linecolor\": \"black\", \"matches\": \"x\", \"showgrid\": true, \"showticklabels\": true}, \"xaxis97\": {\"anchor\": \"y97\", \"domain\": [0.8273999999999998, 0.8617999999999998], \"gridcolor\": \"black\", \"gridwidth\": 1, \"linecolor\": \"black\", \"matches\": \"x\", \"showgrid\": true, \"showticklabels\": true}, \"xaxis98\": {\"anchor\": \"y98\", \"domain\": [0.8667999999999998, 0.9011999999999998], \"gridcolor\": \"black\", \"gridwidth\": 1, \"linecolor\": \"black\", \"matches\": \"x\", \"showgrid\": true, \"showticklabels\": true}, \"xaxis99\": {\"anchor\": \"y99\", \"domain\": [0.9061999999999998, 0.9405999999999998], \"gridcolor\": \"black\", \"gridwidth\": 1, \"linecolor\": \"black\", \"matches\": \"x\", \"showgrid\": true, \"showticklabels\": true}, \"yaxis\": {\"anchor\": \"x\", \"domain\": [0.0, 0.06298785714285714], \"gridcolor\": \"black\", \"gridwidth\": 1, \"linecolor\": \"black\", \"showgrid\": true, \"showticklabels\": true, \"title\": {\"text\": \"percent\"}}, \"yaxis10\": {\"anchor\": \"x10\", \"domain\": [0.0, 0.06298785714285714], \"gridcolor\": \"black\", \"gridwidth\": 1, \"linecolor\": \"black\", \"matches\": \"y\", \"showgrid\": true, \"showticklabels\": true}, \"yaxis100\": {\"anchor\": \"x100\", \"domain\": [0.21623357142857141, 0.27922142857142856], \"gridcolor\": \"black\", \"gridwidth\": 1, \"linecolor\": \"black\", \"matches\": \"y\", \"showgrid\": true, \"showticklabels\": true}, \"yaxis101\": {\"anchor\": \"x101\", \"domain\": [0.28831142857142855, 0.3512992857142857], \"gridcolor\": \"black\", \"gridwidth\": 1, \"linecolor\": \"black\", \"matches\": \"y\", \"showgrid\": true, \"showticklabels\": true, \"title\": {\"text\": \"percent\"}}, \"yaxis102\": {\"anchor\": \"x102\", \"domain\": [0.28831142857142855, 0.3512992857142857], \"gridcolor\": \"black\", \"gridwidth\": 1, \"linecolor\": \"black\", \"matches\": \"y\", \"showgrid\": true, \"showticklabels\": true}, \"yaxis103\": {\"anchor\": \"x103\", \"domain\": [0.28831142857142855, 0.3512992857142857], \"gridcolor\": \"black\", \"gridwidth\": 1, \"linecolor\": \"black\", \"matches\": \"y\", \"showgrid\": true, \"showticklabels\": true}, \"yaxis104\": {\"anchor\": \"x104\", \"domain\": [0.28831142857142855, 0.3512992857142857], \"gridcolor\": \"black\", \"gridwidth\": 1, \"linecolor\": \"black\", \"matches\": \"y\", \"showgrid\": true, \"showticklabels\": true}, \"yaxis105\": {\"anchor\": \"x105\", \"domain\": [0.28831142857142855, 0.3512992857142857], \"gridcolor\": \"black\", \"gridwidth\": 1, \"linecolor\": \"black\", \"matches\": \"y\", \"showgrid\": true, \"showticklabels\": true}, \"yaxis106\": {\"anchor\": \"x106\", \"domain\": [0.28831142857142855, 0.3512992857142857], \"gridcolor\": \"black\", \"gridwidth\": 1, \"linecolor\": \"black\", \"matches\": \"y\", \"showgrid\": true, \"showticklabels\": true}, \"yaxis107\": {\"anchor\": \"x107\", \"domain\": [0.28831142857142855, 0.3512992857142857], \"gridcolor\": \"black\", \"gridwidth\": 1, \"linecolor\": \"black\", \"matches\": \"y\", \"showgrid\": true, \"showticklabels\": true}, \"yaxis108\": {\"anchor\": \"x108\", \"domain\": [0.28831142857142855, 0.3512992857142857], \"gridcolor\": \"black\", \"gridwidth\": 1, \"linecolor\": \"black\", \"matches\": \"y\", \"showgrid\": true, \"showticklabels\": true}, \"yaxis109\": {\"anchor\": \"x109\", \"domain\": [0.28831142857142855, 0.3512992857142857], \"gridcolor\": \"black\", \"gridwidth\": 1, \"linecolor\": \"black\", \"matches\": \"y\", \"showgrid\": true, \"showticklabels\": true}, \"yaxis11\": {\"anchor\": \"x11\", \"domain\": [0.0, 0.06298785714285714], \"gridcolor\": \"black\", \"gridwidth\": 1, \"linecolor\": \"black\", \"matches\": \"y\", \"showgrid\": true, \"showticklabels\": true}, \"yaxis110\": {\"anchor\": \"x110\", \"domain\": [0.28831142857142855, 0.3512992857142857], \"gridcolor\": \"black\", \"gridwidth\": 1, \"linecolor\": \"black\", \"matches\": \"y\", \"showgrid\": true, \"showticklabels\": true}, \"yaxis111\": {\"anchor\": \"x111\", \"domain\": [0.28831142857142855, 0.3512992857142857], \"gridcolor\": \"black\", \"gridwidth\": 1, \"linecolor\": \"black\", \"matches\": \"y\", \"showgrid\": true, \"showticklabels\": true}, \"yaxis112\": {\"anchor\": \"x112\", \"domain\": [0.28831142857142855, 0.3512992857142857], \"gridcolor\": \"black\", \"gridwidth\": 1, \"linecolor\": \"black\", \"matches\": \"y\", \"showgrid\": true, \"showticklabels\": true}, \"yaxis113\": {\"anchor\": \"x113\", \"domain\": [0.28831142857142855, 0.3512992857142857], \"gridcolor\": \"black\", \"gridwidth\": 1, \"linecolor\": \"black\", \"matches\": \"y\", \"showgrid\": true, \"showticklabels\": true}, \"yaxis114\": {\"anchor\": \"x114\", \"domain\": [0.28831142857142855, 0.3512992857142857], \"gridcolor\": \"black\", \"gridwidth\": 1, \"linecolor\": \"black\", \"matches\": \"y\", \"showgrid\": true, \"showticklabels\": true}, \"yaxis115\": {\"anchor\": \"x115\", \"domain\": [0.28831142857142855, 0.3512992857142857], \"gridcolor\": \"black\", \"gridwidth\": 1, \"linecolor\": \"black\", \"matches\": \"y\", \"showgrid\": true, \"showticklabels\": true}, \"yaxis116\": {\"anchor\": \"x116\", \"domain\": [0.28831142857142855, 0.3512992857142857], \"gridcolor\": \"black\", \"gridwidth\": 1, \"linecolor\": \"black\", \"matches\": \"y\", \"showgrid\": true, \"showticklabels\": true}, \"yaxis117\": {\"anchor\": \"x117\", \"domain\": [0.28831142857142855, 0.3512992857142857], \"gridcolor\": \"black\", \"gridwidth\": 1, \"linecolor\": \"black\", \"matches\": \"y\", \"showgrid\": true, \"showticklabels\": true}, \"yaxis118\": {\"anchor\": \"x118\", \"domain\": [0.28831142857142855, 0.3512992857142857], \"gridcolor\": \"black\", \"gridwidth\": 1, \"linecolor\": \"black\", \"matches\": \"y\", \"showgrid\": true, \"showticklabels\": true}, \"yaxis119\": {\"anchor\": \"x119\", \"domain\": [0.28831142857142855, 0.3512992857142857], \"gridcolor\": \"black\", \"gridwidth\": 1, \"linecolor\": \"black\", \"matches\": \"y\", \"showgrid\": true, \"showticklabels\": true}, \"yaxis12\": {\"anchor\": \"x12\", \"domain\": [0.0, 0.06298785714285714], \"gridcolor\": \"black\", \"gridwidth\": 1, \"linecolor\": \"black\", \"matches\": \"y\", \"showgrid\": true, \"showticklabels\": true}, \"yaxis120\": {\"anchor\": \"x120\", \"domain\": [0.28831142857142855, 0.3512992857142857], \"gridcolor\": \"black\", \"gridwidth\": 1, \"linecolor\": \"black\", \"matches\": \"y\", \"showgrid\": true, \"showticklabels\": true}, \"yaxis121\": {\"anchor\": \"x121\", \"domain\": [0.28831142857142855, 0.3512992857142857], \"gridcolor\": \"black\", \"gridwidth\": 1, \"linecolor\": \"black\", \"matches\": \"y\", \"showgrid\": true, \"showticklabels\": true}, \"yaxis122\": {\"anchor\": \"x122\", \"domain\": [0.28831142857142855, 0.3512992857142857], \"gridcolor\": \"black\", \"gridwidth\": 1, \"linecolor\": \"black\", \"matches\": \"y\", \"showgrid\": true, \"showticklabels\": true}, \"yaxis123\": {\"anchor\": \"x123\", \"domain\": [0.28831142857142855, 0.3512992857142857], \"gridcolor\": \"black\", \"gridwidth\": 1, \"linecolor\": \"black\", \"matches\": \"y\", \"showgrid\": true, \"showticklabels\": true}, \"yaxis124\": {\"anchor\": \"x124\", \"domain\": [0.28831142857142855, 0.3512992857142857], \"gridcolor\": \"black\", \"gridwidth\": 1, \"linecolor\": \"black\", \"matches\": \"y\", \"showgrid\": true, \"showticklabels\": true}, \"yaxis125\": {\"anchor\": \"x125\", \"domain\": [0.28831142857142855, 0.3512992857142857], \"gridcolor\": \"black\", \"gridwidth\": 1, \"linecolor\": \"black\", \"matches\": \"y\", \"showgrid\": true, \"showticklabels\": true}, \"yaxis126\": {\"anchor\": \"x126\", \"domain\": [0.3603892857142857, 0.42337714285714284], \"gridcolor\": \"black\", \"gridwidth\": 1, \"linecolor\": \"black\", \"matches\": \"y\", \"showgrid\": true, \"showticklabels\": true, \"title\": {\"text\": \"percent\"}}, \"yaxis127\": {\"anchor\": \"x127\", \"domain\": [0.3603892857142857, 0.42337714285714284], \"gridcolor\": \"black\", \"gridwidth\": 1, \"linecolor\": \"black\", \"matches\": \"y\", \"showgrid\": true, \"showticklabels\": true}, \"yaxis128\": {\"anchor\": \"x128\", \"domain\": [0.3603892857142857, 0.42337714285714284], \"gridcolor\": \"black\", \"gridwidth\": 1, \"linecolor\": \"black\", \"matches\": \"y\", \"showgrid\": true, \"showticklabels\": true}, \"yaxis129\": {\"anchor\": \"x129\", \"domain\": [0.3603892857142857, 0.42337714285714284], \"gridcolor\": \"black\", \"gridwidth\": 1, \"linecolor\": \"black\", \"matches\": \"y\", \"showgrid\": true, \"showticklabels\": true}, \"yaxis13\": {\"anchor\": \"x13\", \"domain\": [0.0, 0.06298785714285714], \"gridcolor\": \"black\", \"gridwidth\": 1, \"linecolor\": \"black\", \"matches\": \"y\", \"showgrid\": true, \"showticklabels\": true}, \"yaxis130\": {\"anchor\": \"x130\", \"domain\": [0.3603892857142857, 0.42337714285714284], \"gridcolor\": \"black\", \"gridwidth\": 1, \"linecolor\": \"black\", \"matches\": \"y\", \"showgrid\": true, \"showticklabels\": true}, \"yaxis131\": {\"anchor\": \"x131\", \"domain\": [0.3603892857142857, 0.42337714285714284], \"gridcolor\": \"black\", \"gridwidth\": 1, \"linecolor\": \"black\", \"matches\": \"y\", \"showgrid\": true, \"showticklabels\": true}, \"yaxis132\": {\"anchor\": \"x132\", \"domain\": [0.3603892857142857, 0.42337714285714284], \"gridcolor\": \"black\", \"gridwidth\": 1, \"linecolor\": \"black\", \"matches\": \"y\", \"showgrid\": true, \"showticklabels\": true}, \"yaxis133\": {\"anchor\": \"x133\", \"domain\": [0.3603892857142857, 0.42337714285714284], \"gridcolor\": \"black\", \"gridwidth\": 1, \"linecolor\": \"black\", \"matches\": \"y\", \"showgrid\": true, \"showticklabels\": true}, \"yaxis134\": {\"anchor\": \"x134\", \"domain\": [0.3603892857142857, 0.42337714285714284], \"gridcolor\": \"black\", \"gridwidth\": 1, \"linecolor\": \"black\", \"matches\": \"y\", \"showgrid\": true, \"showticklabels\": true}, \"yaxis135\": {\"anchor\": \"x135\", \"domain\": [0.3603892857142857, 0.42337714285714284], \"gridcolor\": \"black\", \"gridwidth\": 1, \"linecolor\": \"black\", \"matches\": \"y\", \"showgrid\": true, \"showticklabels\": true}, \"yaxis136\": {\"anchor\": \"x136\", \"domain\": [0.3603892857142857, 0.42337714285714284], \"gridcolor\": \"black\", \"gridwidth\": 1, \"linecolor\": \"black\", \"matches\": \"y\", \"showgrid\": true, \"showticklabels\": true}, \"yaxis137\": {\"anchor\": \"x137\", \"domain\": [0.3603892857142857, 0.42337714285714284], \"gridcolor\": \"black\", \"gridwidth\": 1, \"linecolor\": \"black\", \"matches\": \"y\", \"showgrid\": true, \"showticklabels\": true}, \"yaxis138\": {\"anchor\": \"x138\", \"domain\": [0.3603892857142857, 0.42337714285714284], \"gridcolor\": \"black\", \"gridwidth\": 1, \"linecolor\": \"black\", \"matches\": \"y\", \"showgrid\": true, \"showticklabels\": true}, \"yaxis139\": {\"anchor\": \"x139\", \"domain\": [0.3603892857142857, 0.42337714285714284], \"gridcolor\": \"black\", \"gridwidth\": 1, \"linecolor\": \"black\", \"matches\": \"y\", \"showgrid\": true, \"showticklabels\": true}, \"yaxis14\": {\"anchor\": \"x14\", \"domain\": [0.0, 0.06298785714285714], \"gridcolor\": \"black\", \"gridwidth\": 1, \"linecolor\": \"black\", \"matches\": \"y\", \"showgrid\": true, \"showticklabels\": true}, \"yaxis140\": {\"anchor\": \"x140\", \"domain\": [0.3603892857142857, 0.42337714285714284], \"gridcolor\": \"black\", \"gridwidth\": 1, \"linecolor\": \"black\", \"matches\": \"y\", \"showgrid\": true, \"showticklabels\": true}, \"yaxis141\": {\"anchor\": \"x141\", \"domain\": [0.3603892857142857, 0.42337714285714284], \"gridcolor\": \"black\", \"gridwidth\": 1, \"linecolor\": \"black\", \"matches\": \"y\", \"showgrid\": true, \"showticklabels\": true}, \"yaxis142\": {\"anchor\": \"x142\", \"domain\": [0.3603892857142857, 0.42337714285714284], \"gridcolor\": \"black\", \"gridwidth\": 1, \"linecolor\": \"black\", \"matches\": \"y\", \"showgrid\": true, \"showticklabels\": true}, \"yaxis143\": {\"anchor\": \"x143\", \"domain\": [0.3603892857142857, 0.42337714285714284], \"gridcolor\": \"black\", \"gridwidth\": 1, \"linecolor\": \"black\", \"matches\": \"y\", \"showgrid\": true, \"showticklabels\": true}, \"yaxis144\": {\"anchor\": \"x144\", \"domain\": [0.3603892857142857, 0.42337714285714284], \"gridcolor\": \"black\", \"gridwidth\": 1, \"linecolor\": \"black\", \"matches\": \"y\", \"showgrid\": true, \"showticklabels\": true}, \"yaxis145\": {\"anchor\": \"x145\", \"domain\": [0.3603892857142857, 0.42337714285714284], \"gridcolor\": \"black\", \"gridwidth\": 1, \"linecolor\": \"black\", \"matches\": \"y\", \"showgrid\": true, \"showticklabels\": true}, \"yaxis146\": {\"anchor\": \"x146\", \"domain\": [0.3603892857142857, 0.42337714285714284], \"gridcolor\": \"black\", \"gridwidth\": 1, \"linecolor\": \"black\", \"matches\": \"y\", \"showgrid\": true, \"showticklabels\": true}, \"yaxis147\": {\"anchor\": \"x147\", \"domain\": [0.3603892857142857, 0.42337714285714284], \"gridcolor\": \"black\", \"gridwidth\": 1, \"linecolor\": \"black\", \"matches\": \"y\", \"showgrid\": true, \"showticklabels\": true}, \"yaxis148\": {\"anchor\": \"x148\", \"domain\": [0.3603892857142857, 0.42337714285714284], \"gridcolor\": \"black\", \"gridwidth\": 1, \"linecolor\": \"black\", \"matches\": \"y\", \"showgrid\": true, \"showticklabels\": true}, \"yaxis149\": {\"anchor\": \"x149\", \"domain\": [0.3603892857142857, 0.42337714285714284], \"gridcolor\": \"black\", \"gridwidth\": 1, \"linecolor\": \"black\", \"matches\": \"y\", \"showgrid\": true, \"showticklabels\": true}, \"yaxis15\": {\"anchor\": \"x15\", \"domain\": [0.0, 0.06298785714285714], \"gridcolor\": \"black\", \"gridwidth\": 1, \"linecolor\": \"black\", \"matches\": \"y\", \"showgrid\": true, \"showticklabels\": true}, \"yaxis150\": {\"anchor\": \"x150\", \"domain\": [0.3603892857142857, 0.42337714285714284], \"gridcolor\": \"black\", \"gridwidth\": 1, \"linecolor\": \"black\", \"matches\": \"y\", \"showgrid\": true, \"showticklabels\": true}, \"yaxis151\": {\"anchor\": \"x151\", \"domain\": [0.43246714285714283, 0.495455], \"gridcolor\": \"black\", \"gridwidth\": 1, \"linecolor\": \"black\", \"matches\": \"y\", \"showgrid\": true, \"showticklabels\": true, \"title\": {\"text\": \"percent\"}}, \"yaxis152\": {\"anchor\": \"x152\", \"domain\": [0.43246714285714283, 0.495455], \"gridcolor\": \"black\", \"gridwidth\": 1, \"linecolor\": \"black\", \"matches\": \"y\", \"showgrid\": true, \"showticklabels\": true}, \"yaxis153\": {\"anchor\": \"x153\", \"domain\": [0.43246714285714283, 0.495455], \"gridcolor\": \"black\", \"gridwidth\": 1, \"linecolor\": \"black\", \"matches\": \"y\", \"showgrid\": true, \"showticklabels\": true}, \"yaxis154\": {\"anchor\": \"x154\", \"domain\": [0.43246714285714283, 0.495455], \"gridcolor\": \"black\", \"gridwidth\": 1, \"linecolor\": \"black\", \"matches\": \"y\", \"showgrid\": true, \"showticklabels\": true}, \"yaxis155\": {\"anchor\": \"x155\", \"domain\": [0.43246714285714283, 0.495455], \"gridcolor\": \"black\", \"gridwidth\": 1, \"linecolor\": \"black\", \"matches\": \"y\", \"showgrid\": true, \"showticklabels\": true}, \"yaxis156\": {\"anchor\": \"x156\", \"domain\": [0.43246714285714283, 0.495455], \"gridcolor\": \"black\", \"gridwidth\": 1, \"linecolor\": \"black\", \"matches\": \"y\", \"showgrid\": true, \"showticklabels\": true}, \"yaxis157\": {\"anchor\": \"x157\", \"domain\": [0.43246714285714283, 0.495455], \"gridcolor\": \"black\", \"gridwidth\": 1, \"linecolor\": \"black\", \"matches\": \"y\", \"showgrid\": true, \"showticklabels\": true}, \"yaxis158\": {\"anchor\": \"x158\", \"domain\": [0.43246714285714283, 0.495455], \"gridcolor\": \"black\", \"gridwidth\": 1, \"linecolor\": \"black\", \"matches\": \"y\", \"showgrid\": true, \"showticklabels\": true}, \"yaxis159\": {\"anchor\": \"x159\", \"domain\": [0.43246714285714283, 0.495455], \"gridcolor\": \"black\", \"gridwidth\": 1, \"linecolor\": \"black\", \"matches\": \"y\", \"showgrid\": true, \"showticklabels\": true}, \"yaxis16\": {\"anchor\": \"x16\", \"domain\": [0.0, 0.06298785714285714], \"gridcolor\": \"black\", \"gridwidth\": 1, \"linecolor\": \"black\", \"matches\": \"y\", \"showgrid\": true, \"showticklabels\": true}, \"yaxis160\": {\"anchor\": \"x160\", \"domain\": [0.43246714285714283, 0.495455], \"gridcolor\": \"black\", \"gridwidth\": 1, \"linecolor\": \"black\", \"matches\": \"y\", \"showgrid\": true, \"showticklabels\": true}, \"yaxis161\": {\"anchor\": \"x161\", \"domain\": [0.43246714285714283, 0.495455], \"gridcolor\": \"black\", \"gridwidth\": 1, \"linecolor\": \"black\", \"matches\": \"y\", \"showgrid\": true, \"showticklabels\": true}, \"yaxis162\": {\"anchor\": \"x162\", \"domain\": [0.43246714285714283, 0.495455], \"gridcolor\": \"black\", \"gridwidth\": 1, \"linecolor\": \"black\", \"matches\": \"y\", \"showgrid\": true, \"showticklabels\": true}, \"yaxis163\": {\"anchor\": \"x163\", \"domain\": [0.43246714285714283, 0.495455], \"gridcolor\": \"black\", \"gridwidth\": 1, \"linecolor\": \"black\", \"matches\": \"y\", \"showgrid\": true, \"showticklabels\": true}, \"yaxis164\": {\"anchor\": \"x164\", \"domain\": [0.43246714285714283, 0.495455], \"gridcolor\": \"black\", \"gridwidth\": 1, \"linecolor\": \"black\", \"matches\": \"y\", \"showgrid\": true, \"showticklabels\": true}, \"yaxis165\": {\"anchor\": \"x165\", \"domain\": [0.43246714285714283, 0.495455], \"gridcolor\": \"black\", \"gridwidth\": 1, \"linecolor\": \"black\", \"matches\": \"y\", \"showgrid\": true, \"showticklabels\": true}, \"yaxis166\": {\"anchor\": \"x166\", \"domain\": [0.43246714285714283, 0.495455], \"gridcolor\": \"black\", \"gridwidth\": 1, \"linecolor\": \"black\", \"matches\": \"y\", \"showgrid\": true, \"showticklabels\": true}, \"yaxis167\": {\"anchor\": \"x167\", \"domain\": [0.43246714285714283, 0.495455], \"gridcolor\": \"black\", \"gridwidth\": 1, \"linecolor\": \"black\", \"matches\": \"y\", \"showgrid\": true, \"showticklabels\": true}, \"yaxis168\": {\"anchor\": \"x168\", \"domain\": [0.43246714285714283, 0.495455], \"gridcolor\": \"black\", \"gridwidth\": 1, \"linecolor\": \"black\", \"matches\": \"y\", \"showgrid\": true, \"showticklabels\": true}, \"yaxis169\": {\"anchor\": \"x169\", \"domain\": [0.43246714285714283, 0.495455], \"gridcolor\": \"black\", \"gridwidth\": 1, \"linecolor\": \"black\", \"matches\": \"y\", \"showgrid\": true, \"showticklabels\": true}, \"yaxis17\": {\"anchor\": \"x17\", \"domain\": [0.0, 0.06298785714285714], \"gridcolor\": \"black\", \"gridwidth\": 1, \"linecolor\": \"black\", \"matches\": \"y\", \"showgrid\": true, \"showticklabels\": true}, \"yaxis170\": {\"anchor\": \"x170\", \"domain\": [0.43246714285714283, 0.495455], \"gridcolor\": \"black\", \"gridwidth\": 1, \"linecolor\": \"black\", \"matches\": \"y\", \"showgrid\": true, \"showticklabels\": true}, \"yaxis171\": {\"anchor\": \"x171\", \"domain\": [0.43246714285714283, 0.495455], \"gridcolor\": \"black\", \"gridwidth\": 1, \"linecolor\": \"black\", \"matches\": \"y\", \"showgrid\": true, \"showticklabels\": true}, \"yaxis172\": {\"anchor\": \"x172\", \"domain\": [0.43246714285714283, 0.495455], \"gridcolor\": \"black\", \"gridwidth\": 1, \"linecolor\": \"black\", \"matches\": \"y\", \"showgrid\": true, \"showticklabels\": true}, \"yaxis173\": {\"anchor\": \"x173\", \"domain\": [0.43246714285714283, 0.495455], \"gridcolor\": \"black\", \"gridwidth\": 1, \"linecolor\": \"black\", \"matches\": \"y\", \"showgrid\": true, \"showticklabels\": true}, \"yaxis174\": {\"anchor\": \"x174\", \"domain\": [0.43246714285714283, 0.495455], \"gridcolor\": \"black\", \"gridwidth\": 1, \"linecolor\": \"black\", \"matches\": \"y\", \"showgrid\": true, \"showticklabels\": true}, \"yaxis175\": {\"anchor\": \"x175\", \"domain\": [0.43246714285714283, 0.495455], \"gridcolor\": \"black\", \"gridwidth\": 1, \"linecolor\": \"black\", \"matches\": \"y\", \"showgrid\": true, \"showticklabels\": true}, \"yaxis176\": {\"anchor\": \"x176\", \"domain\": [0.504545, 0.5675328571428572], \"gridcolor\": \"black\", \"gridwidth\": 1, \"linecolor\": \"black\", \"matches\": \"y\", \"showgrid\": true, \"showticklabels\": true, \"title\": {\"text\": \"percent\"}}, \"yaxis177\": {\"anchor\": \"x177\", \"domain\": [0.504545, 0.5675328571428572], \"gridcolor\": \"black\", \"gridwidth\": 1, \"linecolor\": \"black\", \"matches\": \"y\", \"showgrid\": true, \"showticklabels\": true}, \"yaxis178\": {\"anchor\": \"x178\", \"domain\": [0.504545, 0.5675328571428572], \"gridcolor\": \"black\", \"gridwidth\": 1, \"linecolor\": \"black\", \"matches\": \"y\", \"showgrid\": true, \"showticklabels\": true}, \"yaxis179\": {\"anchor\": \"x179\", \"domain\": [0.504545, 0.5675328571428572], \"gridcolor\": \"black\", \"gridwidth\": 1, \"linecolor\": \"black\", \"matches\": \"y\", \"showgrid\": true, \"showticklabels\": true}, \"yaxis18\": {\"anchor\": \"x18\", \"domain\": [0.0, 0.06298785714285714], \"gridcolor\": \"black\", \"gridwidth\": 1, \"linecolor\": \"black\", \"matches\": \"y\", \"showgrid\": true, \"showticklabels\": true}, \"yaxis180\": {\"anchor\": \"x180\", \"domain\": [0.504545, 0.5675328571428572], \"gridcolor\": \"black\", \"gridwidth\": 1, \"linecolor\": \"black\", \"matches\": \"y\", \"showgrid\": true, \"showticklabels\": true}, \"yaxis181\": {\"anchor\": \"x181\", \"domain\": [0.504545, 0.5675328571428572], \"gridcolor\": \"black\", \"gridwidth\": 1, \"linecolor\": \"black\", \"matches\": \"y\", \"showgrid\": true, \"showticklabels\": true}, \"yaxis182\": {\"anchor\": \"x182\", \"domain\": [0.504545, 0.5675328571428572], \"gridcolor\": \"black\", \"gridwidth\": 1, \"linecolor\": \"black\", \"matches\": \"y\", \"showgrid\": true, \"showticklabels\": true}, \"yaxis183\": {\"anchor\": \"x183\", \"domain\": [0.504545, 0.5675328571428572], \"gridcolor\": \"black\", \"gridwidth\": 1, \"linecolor\": \"black\", \"matches\": \"y\", \"showgrid\": true, \"showticklabels\": true}, \"yaxis184\": {\"anchor\": \"x184\", \"domain\": [0.504545, 0.5675328571428572], \"gridcolor\": \"black\", \"gridwidth\": 1, \"linecolor\": \"black\", \"matches\": \"y\", \"showgrid\": true, \"showticklabels\": true}, \"yaxis185\": {\"anchor\": \"x185\", \"domain\": [0.504545, 0.5675328571428572], \"gridcolor\": \"black\", \"gridwidth\": 1, \"linecolor\": \"black\", \"matches\": \"y\", \"showgrid\": true, \"showticklabels\": true}, \"yaxis186\": {\"anchor\": \"x186\", \"domain\": [0.504545, 0.5675328571428572], \"gridcolor\": \"black\", \"gridwidth\": 1, \"linecolor\": \"black\", \"matches\": \"y\", \"showgrid\": true, \"showticklabels\": true}, \"yaxis187\": {\"anchor\": \"x187\", \"domain\": [0.504545, 0.5675328571428572], \"gridcolor\": \"black\", \"gridwidth\": 1, \"linecolor\": \"black\", \"matches\": \"y\", \"showgrid\": true, \"showticklabels\": true}, \"yaxis188\": {\"anchor\": \"x188\", \"domain\": [0.504545, 0.5675328571428572], \"gridcolor\": \"black\", \"gridwidth\": 1, \"linecolor\": \"black\", \"matches\": \"y\", \"showgrid\": true, \"showticklabels\": true}, \"yaxis189\": {\"anchor\": \"x189\", \"domain\": [0.504545, 0.5675328571428572], \"gridcolor\": \"black\", \"gridwidth\": 1, \"linecolor\": \"black\", \"matches\": \"y\", \"showgrid\": true, \"showticklabels\": true}, \"yaxis19\": {\"anchor\": \"x19\", \"domain\": [0.0, 0.06298785714285714], \"gridcolor\": \"black\", \"gridwidth\": 1, \"linecolor\": \"black\", \"matches\": \"y\", \"showgrid\": true, \"showticklabels\": true}, \"yaxis190\": {\"anchor\": \"x190\", \"domain\": [0.504545, 0.5675328571428572], \"gridcolor\": \"black\", \"gridwidth\": 1, \"linecolor\": \"black\", \"matches\": \"y\", \"showgrid\": true, \"showticklabels\": true}, \"yaxis191\": {\"anchor\": \"x191\", \"domain\": [0.504545, 0.5675328571428572], \"gridcolor\": \"black\", \"gridwidth\": 1, \"linecolor\": \"black\", \"matches\": \"y\", \"showgrid\": true, \"showticklabels\": true}, \"yaxis192\": {\"anchor\": \"x192\", \"domain\": [0.504545, 0.5675328571428572], \"gridcolor\": \"black\", \"gridwidth\": 1, \"linecolor\": \"black\", \"matches\": \"y\", \"showgrid\": true, \"showticklabels\": true}, \"yaxis193\": {\"anchor\": \"x193\", \"domain\": [0.504545, 0.5675328571428572], \"gridcolor\": \"black\", \"gridwidth\": 1, \"linecolor\": \"black\", \"matches\": \"y\", \"showgrid\": true, \"showticklabels\": true}, \"yaxis194\": {\"anchor\": \"x194\", \"domain\": [0.504545, 0.5675328571428572], \"gridcolor\": \"black\", \"gridwidth\": 1, \"linecolor\": \"black\", \"matches\": \"y\", \"showgrid\": true, \"showticklabels\": true}, \"yaxis195\": {\"anchor\": \"x195\", \"domain\": [0.504545, 0.5675328571428572], \"gridcolor\": \"black\", \"gridwidth\": 1, \"linecolor\": \"black\", \"matches\": \"y\", \"showgrid\": true, \"showticklabels\": true}, \"yaxis196\": {\"anchor\": \"x196\", \"domain\": [0.504545, 0.5675328571428572], \"gridcolor\": \"black\", \"gridwidth\": 1, \"linecolor\": \"black\", \"matches\": \"y\", \"showgrid\": true, \"showticklabels\": true}, \"yaxis197\": {\"anchor\": \"x197\", \"domain\": [0.504545, 0.5675328571428572], \"gridcolor\": \"black\", \"gridwidth\": 1, \"linecolor\": \"black\", \"matches\": \"y\", \"showgrid\": true, \"showticklabels\": true}, \"yaxis198\": {\"anchor\": \"x198\", \"domain\": [0.504545, 0.5675328571428572], \"gridcolor\": \"black\", \"gridwidth\": 1, \"linecolor\": \"black\", \"matches\": \"y\", \"showgrid\": true, \"showticklabels\": true}, \"yaxis199\": {\"anchor\": \"x199\", \"domain\": [0.504545, 0.5675328571428572], \"gridcolor\": \"black\", \"gridwidth\": 1, \"linecolor\": \"black\", \"matches\": \"y\", \"showgrid\": true, \"showticklabels\": true}, \"yaxis2\": {\"anchor\": \"x2\", \"domain\": [0.0, 0.06298785714285714], \"gridcolor\": \"black\", \"gridwidth\": 1, \"linecolor\": \"black\", \"matches\": \"y\", \"showgrid\": true, \"showticklabels\": true}, \"yaxis20\": {\"anchor\": \"x20\", \"domain\": [0.0, 0.06298785714285714], \"gridcolor\": \"black\", \"gridwidth\": 1, \"linecolor\": \"black\", \"matches\": \"y\", \"showgrid\": true, \"showticklabels\": true}, \"yaxis200\": {\"anchor\": \"x200\", \"domain\": [0.504545, 0.5675328571428572], \"gridcolor\": \"black\", \"gridwidth\": 1, \"linecolor\": \"black\", \"matches\": \"y\", \"showgrid\": true, \"showticklabels\": true}, \"yaxis201\": {\"anchor\": \"x201\", \"domain\": [0.5766228571428571, 0.6396107142857143], \"gridcolor\": \"black\", \"gridwidth\": 1, \"linecolor\": \"black\", \"matches\": \"y\", \"showgrid\": true, \"showticklabels\": true, \"title\": {\"text\": \"percent\"}}, \"yaxis202\": {\"anchor\": \"x202\", \"domain\": [0.5766228571428571, 0.6396107142857143], \"gridcolor\": \"black\", \"gridwidth\": 1, \"linecolor\": \"black\", \"matches\": \"y\", \"showgrid\": true, \"showticklabels\": true}, \"yaxis203\": {\"anchor\": \"x203\", \"domain\": [0.5766228571428571, 0.6396107142857143], \"gridcolor\": \"black\", \"gridwidth\": 1, \"linecolor\": \"black\", \"matches\": \"y\", \"showgrid\": true, \"showticklabels\": true}, \"yaxis204\": {\"anchor\": \"x204\", \"domain\": [0.5766228571428571, 0.6396107142857143], \"gridcolor\": \"black\", \"gridwidth\": 1, \"linecolor\": \"black\", \"matches\": \"y\", \"showgrid\": true, \"showticklabels\": true}, \"yaxis205\": {\"anchor\": \"x205\", \"domain\": [0.5766228571428571, 0.6396107142857143], \"gridcolor\": \"black\", \"gridwidth\": 1, \"linecolor\": \"black\", \"matches\": \"y\", \"showgrid\": true, \"showticklabels\": true}, \"yaxis206\": {\"anchor\": \"x206\", \"domain\": [0.5766228571428571, 0.6396107142857143], \"gridcolor\": \"black\", \"gridwidth\": 1, \"linecolor\": \"black\", \"matches\": \"y\", \"showgrid\": true, \"showticklabels\": true}, \"yaxis207\": {\"anchor\": \"x207\", \"domain\": [0.5766228571428571, 0.6396107142857143], \"gridcolor\": \"black\", \"gridwidth\": 1, \"linecolor\": \"black\", \"matches\": \"y\", \"showgrid\": true, \"showticklabels\": true}, \"yaxis208\": {\"anchor\": \"x208\", \"domain\": [0.5766228571428571, 0.6396107142857143], \"gridcolor\": \"black\", \"gridwidth\": 1, \"linecolor\": \"black\", \"matches\": \"y\", \"showgrid\": true, \"showticklabels\": true}, \"yaxis209\": {\"anchor\": \"x209\", \"domain\": [0.5766228571428571, 0.6396107142857143], \"gridcolor\": \"black\", \"gridwidth\": 1, \"linecolor\": \"black\", \"matches\": \"y\", \"showgrid\": true, \"showticklabels\": true}, \"yaxis21\": {\"anchor\": \"x21\", \"domain\": [0.0, 0.06298785714285714], \"gridcolor\": \"black\", \"gridwidth\": 1, \"linecolor\": \"black\", \"matches\": \"y\", \"showgrid\": true, \"showticklabels\": true}, \"yaxis210\": {\"anchor\": \"x210\", \"domain\": [0.5766228571428571, 0.6396107142857143], \"gridcolor\": \"black\", \"gridwidth\": 1, \"linecolor\": \"black\", \"matches\": \"y\", \"showgrid\": true, \"showticklabels\": true}, \"yaxis211\": {\"anchor\": \"x211\", \"domain\": [0.5766228571428571, 0.6396107142857143], \"gridcolor\": \"black\", \"gridwidth\": 1, \"linecolor\": \"black\", \"matches\": \"y\", \"showgrid\": true, \"showticklabels\": true}, \"yaxis212\": {\"anchor\": \"x212\", \"domain\": [0.5766228571428571, 0.6396107142857143], \"gridcolor\": \"black\", \"gridwidth\": 1, \"linecolor\": \"black\", \"matches\": \"y\", \"showgrid\": true, \"showticklabels\": true}, \"yaxis213\": {\"anchor\": \"x213\", \"domain\": [0.5766228571428571, 0.6396107142857143], \"gridcolor\": \"black\", \"gridwidth\": 1, \"linecolor\": \"black\", \"matches\": \"y\", \"showgrid\": true, \"showticklabels\": true}, \"yaxis214\": {\"anchor\": \"x214\", \"domain\": [0.5766228571428571, 0.6396107142857143], \"gridcolor\": \"black\", \"gridwidth\": 1, \"linecolor\": \"black\", \"matches\": \"y\", \"showgrid\": true, \"showticklabels\": true}, \"yaxis215\": {\"anchor\": \"x215\", \"domain\": [0.5766228571428571, 0.6396107142857143], \"gridcolor\": \"black\", \"gridwidth\": 1, \"linecolor\": \"black\", \"matches\": \"y\", \"showgrid\": true, \"showticklabels\": true}, \"yaxis216\": {\"anchor\": \"x216\", \"domain\": [0.5766228571428571, 0.6396107142857143], \"gridcolor\": \"black\", \"gridwidth\": 1, \"linecolor\": \"black\", \"matches\": \"y\", \"showgrid\": true, \"showticklabels\": true}, \"yaxis217\": {\"anchor\": \"x217\", \"domain\": [0.5766228571428571, 0.6396107142857143], \"gridcolor\": \"black\", \"gridwidth\": 1, \"linecolor\": \"black\", \"matches\": \"y\", \"showgrid\": true, \"showticklabels\": true}, \"yaxis218\": {\"anchor\": \"x218\", \"domain\": [0.5766228571428571, 0.6396107142857143], \"gridcolor\": \"black\", \"gridwidth\": 1, \"linecolor\": \"black\", \"matches\": \"y\", \"showgrid\": true, \"showticklabels\": true}, \"yaxis219\": {\"anchor\": \"x219\", \"domain\": [0.5766228571428571, 0.6396107142857143], \"gridcolor\": \"black\", \"gridwidth\": 1, \"linecolor\": \"black\", \"matches\": \"y\", \"showgrid\": true, \"showticklabels\": true}, \"yaxis22\": {\"anchor\": \"x22\", \"domain\": [0.0, 0.06298785714285714], \"gridcolor\": \"black\", \"gridwidth\": 1, \"linecolor\": \"black\", \"matches\": \"y\", \"showgrid\": true, \"showticklabels\": true}, \"yaxis220\": {\"anchor\": \"x220\", \"domain\": [0.5766228571428571, 0.6396107142857143], \"gridcolor\": \"black\", \"gridwidth\": 1, \"linecolor\": \"black\", \"matches\": \"y\", \"showgrid\": true, \"showticklabels\": true}, \"yaxis221\": {\"anchor\": \"x221\", \"domain\": [0.5766228571428571, 0.6396107142857143], \"gridcolor\": \"black\", \"gridwidth\": 1, \"linecolor\": \"black\", \"matches\": \"y\", \"showgrid\": true, \"showticklabels\": true}, \"yaxis222\": {\"anchor\": \"x222\", \"domain\": [0.5766228571428571, 0.6396107142857143], \"gridcolor\": \"black\", \"gridwidth\": 1, \"linecolor\": \"black\", \"matches\": \"y\", \"showgrid\": true, \"showticklabels\": true}, \"yaxis223\": {\"anchor\": \"x223\", \"domain\": [0.5766228571428571, 0.6396107142857143], \"gridcolor\": \"black\", \"gridwidth\": 1, \"linecolor\": \"black\", \"matches\": \"y\", \"showgrid\": true, \"showticklabels\": true}, \"yaxis224\": {\"anchor\": \"x224\", \"domain\": [0.5766228571428571, 0.6396107142857143], \"gridcolor\": \"black\", \"gridwidth\": 1, \"linecolor\": \"black\", \"matches\": \"y\", \"showgrid\": true, \"showticklabels\": true}, \"yaxis225\": {\"anchor\": \"x225\", \"domain\": [0.5766228571428571, 0.6396107142857143], \"gridcolor\": \"black\", \"gridwidth\": 1, \"linecolor\": \"black\", \"matches\": \"y\", \"showgrid\": true, \"showticklabels\": true}, \"yaxis226\": {\"anchor\": \"x226\", \"domain\": [0.6487007142857143, 0.7116885714285714], \"gridcolor\": \"black\", \"gridwidth\": 1, \"linecolor\": \"black\", \"matches\": \"y\", \"showgrid\": true, \"showticklabels\": true, \"title\": {\"text\": \"percent\"}}, \"yaxis227\": {\"anchor\": \"x227\", \"domain\": [0.6487007142857143, 0.7116885714285714], \"gridcolor\": \"black\", \"gridwidth\": 1, \"linecolor\": \"black\", \"matches\": \"y\", \"showgrid\": true, \"showticklabels\": true}, \"yaxis228\": {\"anchor\": \"x228\", \"domain\": [0.6487007142857143, 0.7116885714285714], \"gridcolor\": \"black\", \"gridwidth\": 1, \"linecolor\": \"black\", \"matches\": \"y\", \"showgrid\": true, \"showticklabels\": true}, \"yaxis229\": {\"anchor\": \"x229\", \"domain\": [0.6487007142857143, 0.7116885714285714], \"gridcolor\": \"black\", \"gridwidth\": 1, \"linecolor\": \"black\", \"matches\": \"y\", \"showgrid\": true, \"showticklabels\": true}, \"yaxis23\": {\"anchor\": \"x23\", \"domain\": [0.0, 0.06298785714285714], \"gridcolor\": \"black\", \"gridwidth\": 1, \"linecolor\": \"black\", \"matches\": \"y\", \"showgrid\": true, \"showticklabels\": true}, \"yaxis230\": {\"anchor\": \"x230\", \"domain\": [0.6487007142857143, 0.7116885714285714], \"gridcolor\": \"black\", \"gridwidth\": 1, \"linecolor\": \"black\", \"matches\": \"y\", \"showgrid\": true, \"showticklabels\": true}, \"yaxis231\": {\"anchor\": \"x231\", \"domain\": [0.6487007142857143, 0.7116885714285714], \"gridcolor\": \"black\", \"gridwidth\": 1, \"linecolor\": \"black\", \"matches\": \"y\", \"showgrid\": true, \"showticklabels\": true}, \"yaxis232\": {\"anchor\": \"x232\", \"domain\": [0.6487007142857143, 0.7116885714285714], \"gridcolor\": \"black\", \"gridwidth\": 1, \"linecolor\": \"black\", \"matches\": \"y\", \"showgrid\": true, \"showticklabels\": true}, \"yaxis233\": {\"anchor\": \"x233\", \"domain\": [0.6487007142857143, 0.7116885714285714], \"gridcolor\": \"black\", \"gridwidth\": 1, \"linecolor\": \"black\", \"matches\": \"y\", \"showgrid\": true, \"showticklabels\": true}, \"yaxis234\": {\"anchor\": \"x234\", \"domain\": [0.6487007142857143, 0.7116885714285714], \"gridcolor\": \"black\", \"gridwidth\": 1, \"linecolor\": \"black\", \"matches\": \"y\", \"showgrid\": true, \"showticklabels\": true}, \"yaxis235\": {\"anchor\": \"x235\", \"domain\": [0.6487007142857143, 0.7116885714285714], \"gridcolor\": \"black\", \"gridwidth\": 1, \"linecolor\": \"black\", \"matches\": \"y\", \"showgrid\": true, \"showticklabels\": true}, \"yaxis236\": {\"anchor\": \"x236\", \"domain\": [0.6487007142857143, 0.7116885714285714], \"gridcolor\": \"black\", \"gridwidth\": 1, \"linecolor\": \"black\", \"matches\": \"y\", \"showgrid\": true, \"showticklabels\": true}, \"yaxis237\": {\"anchor\": \"x237\", \"domain\": [0.6487007142857143, 0.7116885714285714], \"gridcolor\": \"black\", \"gridwidth\": 1, \"linecolor\": \"black\", \"matches\": \"y\", \"showgrid\": true, \"showticklabels\": true}, \"yaxis238\": {\"anchor\": \"x238\", \"domain\": [0.6487007142857143, 0.7116885714285714], \"gridcolor\": \"black\", \"gridwidth\": 1, \"linecolor\": \"black\", \"matches\": \"y\", \"showgrid\": true, \"showticklabels\": true}, \"yaxis239\": {\"anchor\": \"x239\", \"domain\": [0.6487007142857143, 0.7116885714285714], \"gridcolor\": \"black\", \"gridwidth\": 1, \"linecolor\": \"black\", \"matches\": \"y\", \"showgrid\": true, \"showticklabels\": true}, \"yaxis24\": {\"anchor\": \"x24\", \"domain\": [0.0, 0.06298785714285714], \"gridcolor\": \"black\", \"gridwidth\": 1, \"linecolor\": \"black\", \"matches\": \"y\", \"showgrid\": true, \"showticklabels\": true}, \"yaxis240\": {\"anchor\": \"x240\", \"domain\": [0.6487007142857143, 0.7116885714285714], \"gridcolor\": \"black\", \"gridwidth\": 1, \"linecolor\": \"black\", \"matches\": \"y\", \"showgrid\": true, \"showticklabels\": true}, \"yaxis241\": {\"anchor\": \"x241\", \"domain\": [0.6487007142857143, 0.7116885714285714], \"gridcolor\": \"black\", \"gridwidth\": 1, \"linecolor\": \"black\", \"matches\": \"y\", \"showgrid\": true, \"showticklabels\": true}, \"yaxis242\": {\"anchor\": \"x242\", \"domain\": [0.6487007142857143, 0.7116885714285714], \"gridcolor\": \"black\", \"gridwidth\": 1, \"linecolor\": \"black\", \"matches\": \"y\", \"showgrid\": true, \"showticklabels\": true}, \"yaxis243\": {\"anchor\": \"x243\", \"domain\": [0.6487007142857143, 0.7116885714285714], \"gridcolor\": \"black\", \"gridwidth\": 1, \"linecolor\": \"black\", \"matches\": \"y\", \"showgrid\": true, \"showticklabels\": true}, \"yaxis244\": {\"anchor\": \"x244\", \"domain\": [0.6487007142857143, 0.7116885714285714], \"gridcolor\": \"black\", \"gridwidth\": 1, \"linecolor\": \"black\", \"matches\": \"y\", \"showgrid\": true, \"showticklabels\": true}, \"yaxis245\": {\"anchor\": \"x245\", \"domain\": [0.6487007142857143, 0.7116885714285714], \"gridcolor\": \"black\", \"gridwidth\": 1, \"linecolor\": \"black\", \"matches\": \"y\", \"showgrid\": true, \"showticklabels\": true}, \"yaxis246\": {\"anchor\": \"x246\", \"domain\": [0.6487007142857143, 0.7116885714285714], \"gridcolor\": \"black\", \"gridwidth\": 1, \"linecolor\": \"black\", \"matches\": \"y\", \"showgrid\": true, \"showticklabels\": true}, \"yaxis247\": {\"anchor\": \"x247\", \"domain\": [0.6487007142857143, 0.7116885714285714], \"gridcolor\": \"black\", \"gridwidth\": 1, \"linecolor\": \"black\", \"matches\": \"y\", \"showgrid\": true, \"showticklabels\": true}, \"yaxis248\": {\"anchor\": \"x248\", \"domain\": [0.6487007142857143, 0.7116885714285714], \"gridcolor\": \"black\", \"gridwidth\": 1, \"linecolor\": \"black\", \"matches\": \"y\", \"showgrid\": true, \"showticklabels\": true}, \"yaxis249\": {\"anchor\": \"x249\", \"domain\": [0.6487007142857143, 0.7116885714285714], \"gridcolor\": \"black\", \"gridwidth\": 1, \"linecolor\": \"black\", \"matches\": \"y\", \"showgrid\": true, \"showticklabels\": true}, \"yaxis25\": {\"anchor\": \"x25\", \"domain\": [0.0, 0.06298785714285714], \"gridcolor\": \"black\", \"gridwidth\": 1, \"linecolor\": \"black\", \"matches\": \"y\", \"showgrid\": true, \"showticklabels\": true}, \"yaxis250\": {\"anchor\": \"x250\", \"domain\": [0.6487007142857143, 0.7116885714285714], \"gridcolor\": \"black\", \"gridwidth\": 1, \"linecolor\": \"black\", \"matches\": \"y\", \"showgrid\": true, \"showticklabels\": true}, \"yaxis251\": {\"anchor\": \"x251\", \"domain\": [0.7207785714285714, 0.7837664285714285], \"gridcolor\": \"black\", \"gridwidth\": 1, \"linecolor\": \"black\", \"matches\": \"y\", \"showgrid\": true, \"showticklabels\": true, \"title\": {\"text\": \"percent\"}}, \"yaxis252\": {\"anchor\": \"x252\", \"domain\": [0.7207785714285714, 0.7837664285714285], \"gridcolor\": \"black\", \"gridwidth\": 1, \"linecolor\": \"black\", \"matches\": \"y\", \"showgrid\": true, \"showticklabels\": true}, \"yaxis253\": {\"anchor\": \"x253\", \"domain\": [0.7207785714285714, 0.7837664285714285], \"gridcolor\": \"black\", \"gridwidth\": 1, \"linecolor\": \"black\", \"matches\": \"y\", \"showgrid\": true, \"showticklabels\": true}, \"yaxis254\": {\"anchor\": \"x254\", \"domain\": [0.7207785714285714, 0.7837664285714285], \"gridcolor\": \"black\", \"gridwidth\": 1, \"linecolor\": \"black\", \"matches\": \"y\", \"showgrid\": true, \"showticklabels\": true}, \"yaxis255\": {\"anchor\": \"x255\", \"domain\": [0.7207785714285714, 0.7837664285714285], \"gridcolor\": \"black\", \"gridwidth\": 1, \"linecolor\": \"black\", \"matches\": \"y\", \"showgrid\": true, \"showticklabels\": true}, \"yaxis256\": {\"anchor\": \"x256\", \"domain\": [0.7207785714285714, 0.7837664285714285], \"gridcolor\": \"black\", \"gridwidth\": 1, \"linecolor\": \"black\", \"matches\": \"y\", \"showgrid\": true, \"showticklabels\": true}, \"yaxis257\": {\"anchor\": \"x257\", \"domain\": [0.7207785714285714, 0.7837664285714285], \"gridcolor\": \"black\", \"gridwidth\": 1, \"linecolor\": \"black\", \"matches\": \"y\", \"showgrid\": true, \"showticklabels\": true}, \"yaxis258\": {\"anchor\": \"x258\", \"domain\": [0.7207785714285714, 0.7837664285714285], \"gridcolor\": \"black\", \"gridwidth\": 1, \"linecolor\": \"black\", \"matches\": \"y\", \"showgrid\": true, \"showticklabels\": true}, \"yaxis259\": {\"anchor\": \"x259\", \"domain\": [0.7207785714285714, 0.7837664285714285], \"gridcolor\": \"black\", \"gridwidth\": 1, \"linecolor\": \"black\", \"matches\": \"y\", \"showgrid\": true, \"showticklabels\": true}, \"yaxis26\": {\"anchor\": \"x26\", \"domain\": [0.07207785714285714, 0.1350657142857143], \"gridcolor\": \"black\", \"gridwidth\": 1, \"linecolor\": \"black\", \"matches\": \"y\", \"showgrid\": true, \"showticklabels\": true, \"title\": {\"text\": \"percent\"}}, \"yaxis260\": {\"anchor\": \"x260\", \"domain\": [0.7207785714285714, 0.7837664285714285], \"gridcolor\": \"black\", \"gridwidth\": 1, \"linecolor\": \"black\", \"matches\": \"y\", \"showgrid\": true, \"showticklabels\": true}, \"yaxis261\": {\"anchor\": \"x261\", \"domain\": [0.7207785714285714, 0.7837664285714285], \"gridcolor\": \"black\", \"gridwidth\": 1, \"linecolor\": \"black\", \"matches\": \"y\", \"showgrid\": true, \"showticklabels\": true}, \"yaxis262\": {\"anchor\": \"x262\", \"domain\": [0.7207785714285714, 0.7837664285714285], \"gridcolor\": \"black\", \"gridwidth\": 1, \"linecolor\": \"black\", \"matches\": \"y\", \"showgrid\": true, \"showticklabels\": true}, \"yaxis263\": {\"anchor\": \"x263\", \"domain\": [0.7207785714285714, 0.7837664285714285], \"gridcolor\": \"black\", \"gridwidth\": 1, \"linecolor\": \"black\", \"matches\": \"y\", \"showgrid\": true, \"showticklabels\": true}, \"yaxis264\": {\"anchor\": \"x264\", \"domain\": [0.7207785714285714, 0.7837664285714285], \"gridcolor\": \"black\", \"gridwidth\": 1, \"linecolor\": \"black\", \"matches\": \"y\", \"showgrid\": true, \"showticklabels\": true}, \"yaxis265\": {\"anchor\": \"x265\", \"domain\": [0.7207785714285714, 0.7837664285714285], \"gridcolor\": \"black\", \"gridwidth\": 1, \"linecolor\": \"black\", \"matches\": \"y\", \"showgrid\": true, \"showticklabels\": true}, \"yaxis266\": {\"anchor\": \"x266\", \"domain\": [0.7207785714285714, 0.7837664285714285], \"gridcolor\": \"black\", \"gridwidth\": 1, \"linecolor\": \"black\", \"matches\": \"y\", \"showgrid\": true, \"showticklabels\": true}, \"yaxis267\": {\"anchor\": \"x267\", \"domain\": [0.7207785714285714, 0.7837664285714285], \"gridcolor\": \"black\", \"gridwidth\": 1, \"linecolor\": \"black\", \"matches\": \"y\", \"showgrid\": true, \"showticklabels\": true}, \"yaxis268\": {\"anchor\": \"x268\", \"domain\": [0.7207785714285714, 0.7837664285714285], \"gridcolor\": \"black\", \"gridwidth\": 1, \"linecolor\": \"black\", \"matches\": \"y\", \"showgrid\": true, \"showticklabels\": true}, \"yaxis269\": {\"anchor\": \"x269\", \"domain\": [0.7207785714285714, 0.7837664285714285], \"gridcolor\": \"black\", \"gridwidth\": 1, \"linecolor\": \"black\", \"matches\": \"y\", \"showgrid\": true, \"showticklabels\": true}, \"yaxis27\": {\"anchor\": \"x27\", \"domain\": [0.07207785714285714, 0.1350657142857143], \"gridcolor\": \"black\", \"gridwidth\": 1, \"linecolor\": \"black\", \"matches\": \"y\", \"showgrid\": true, \"showticklabels\": true}, \"yaxis270\": {\"anchor\": \"x270\", \"domain\": [0.7207785714285714, 0.7837664285714285], \"gridcolor\": \"black\", \"gridwidth\": 1, \"linecolor\": \"black\", \"matches\": \"y\", \"showgrid\": true, \"showticklabels\": true}, \"yaxis271\": {\"anchor\": \"x271\", \"domain\": [0.7207785714285714, 0.7837664285714285], \"gridcolor\": \"black\", \"gridwidth\": 1, \"linecolor\": \"black\", \"matches\": \"y\", \"showgrid\": true, \"showticklabels\": true}, \"yaxis272\": {\"anchor\": \"x272\", \"domain\": [0.7207785714285714, 0.7837664285714285], \"gridcolor\": \"black\", \"gridwidth\": 1, \"linecolor\": \"black\", \"matches\": \"y\", \"showgrid\": true, \"showticklabels\": true}, \"yaxis273\": {\"anchor\": \"x273\", \"domain\": [0.7207785714285714, 0.7837664285714285], \"gridcolor\": \"black\", \"gridwidth\": 1, \"linecolor\": \"black\", \"matches\": \"y\", \"showgrid\": true, \"showticklabels\": true}, \"yaxis274\": {\"anchor\": \"x274\", \"domain\": [0.7207785714285714, 0.7837664285714285], \"gridcolor\": \"black\", \"gridwidth\": 1, \"linecolor\": \"black\", \"matches\": \"y\", \"showgrid\": true, \"showticklabels\": true}, \"yaxis275\": {\"anchor\": \"x275\", \"domain\": [0.7207785714285714, 0.7837664285714285], \"gridcolor\": \"black\", \"gridwidth\": 1, \"linecolor\": \"black\", \"matches\": \"y\", \"showgrid\": true, \"showticklabels\": true}, \"yaxis276\": {\"anchor\": \"x276\", \"domain\": [0.7928564285714286, 0.8558442857142857], \"gridcolor\": \"black\", \"gridwidth\": 1, \"linecolor\": \"black\", \"matches\": \"y\", \"showgrid\": true, \"showticklabels\": true, \"title\": {\"text\": \"percent\"}}, \"yaxis277\": {\"anchor\": \"x277\", \"domain\": [0.7928564285714286, 0.8558442857142857], \"gridcolor\": \"black\", \"gridwidth\": 1, \"linecolor\": \"black\", \"matches\": \"y\", \"showgrid\": true, \"showticklabels\": true}, \"yaxis278\": {\"anchor\": \"x278\", \"domain\": [0.7928564285714286, 0.8558442857142857], \"gridcolor\": \"black\", \"gridwidth\": 1, \"linecolor\": \"black\", \"matches\": \"y\", \"showgrid\": true, \"showticklabels\": true}, \"yaxis279\": {\"anchor\": \"x279\", \"domain\": [0.7928564285714286, 0.8558442857142857], \"gridcolor\": \"black\", \"gridwidth\": 1, \"linecolor\": \"black\", \"matches\": \"y\", \"showgrid\": true, \"showticklabels\": true}, \"yaxis28\": {\"anchor\": \"x28\", \"domain\": [0.07207785714285714, 0.1350657142857143], \"gridcolor\": \"black\", \"gridwidth\": 1, \"linecolor\": \"black\", \"matches\": \"y\", \"showgrid\": true, \"showticklabels\": true}, \"yaxis280\": {\"anchor\": \"x280\", \"domain\": [0.7928564285714286, 0.8558442857142857], \"gridcolor\": \"black\", \"gridwidth\": 1, \"linecolor\": \"black\", \"matches\": \"y\", \"showgrid\": true, \"showticklabels\": true}, \"yaxis281\": {\"anchor\": \"x281\", \"domain\": [0.7928564285714286, 0.8558442857142857], \"gridcolor\": \"black\", \"gridwidth\": 1, \"linecolor\": \"black\", \"matches\": \"y\", \"showgrid\": true, \"showticklabels\": true}, \"yaxis282\": {\"anchor\": \"x282\", \"domain\": [0.7928564285714286, 0.8558442857142857], \"gridcolor\": \"black\", \"gridwidth\": 1, \"linecolor\": \"black\", \"matches\": \"y\", \"showgrid\": true, \"showticklabels\": true}, \"yaxis283\": {\"anchor\": \"x283\", \"domain\": [0.7928564285714286, 0.8558442857142857], \"gridcolor\": \"black\", \"gridwidth\": 1, \"linecolor\": \"black\", \"matches\": \"y\", \"showgrid\": true, \"showticklabels\": true}, \"yaxis284\": {\"anchor\": \"x284\", \"domain\": [0.7928564285714286, 0.8558442857142857], \"gridcolor\": \"black\", \"gridwidth\": 1, \"linecolor\": \"black\", \"matches\": \"y\", \"showgrid\": true, \"showticklabels\": true}, \"yaxis285\": {\"anchor\": \"x285\", \"domain\": [0.7928564285714286, 0.8558442857142857], \"gridcolor\": \"black\", \"gridwidth\": 1, \"linecolor\": \"black\", \"matches\": \"y\", \"showgrid\": true, \"showticklabels\": true}, \"yaxis286\": {\"anchor\": \"x286\", \"domain\": [0.7928564285714286, 0.8558442857142857], \"gridcolor\": \"black\", \"gridwidth\": 1, \"linecolor\": \"black\", \"matches\": \"y\", \"showgrid\": true, \"showticklabels\": true}, \"yaxis287\": {\"anchor\": \"x287\", \"domain\": [0.7928564285714286, 0.8558442857142857], \"gridcolor\": \"black\", \"gridwidth\": 1, \"linecolor\": \"black\", \"matches\": \"y\", \"showgrid\": true, \"showticklabels\": true}, \"yaxis288\": {\"anchor\": \"x288\", \"domain\": [0.7928564285714286, 0.8558442857142857], \"gridcolor\": \"black\", \"gridwidth\": 1, \"linecolor\": \"black\", \"matches\": \"y\", \"showgrid\": true, \"showticklabels\": true}, \"yaxis289\": {\"anchor\": \"x289\", \"domain\": [0.7928564285714286, 0.8558442857142857], \"gridcolor\": \"black\", \"gridwidth\": 1, \"linecolor\": \"black\", \"matches\": \"y\", \"showgrid\": true, \"showticklabels\": true}, \"yaxis29\": {\"anchor\": \"x29\", \"domain\": [0.07207785714285714, 0.1350657142857143], \"gridcolor\": \"black\", \"gridwidth\": 1, \"linecolor\": \"black\", \"matches\": \"y\", \"showgrid\": true, \"showticklabels\": true}, \"yaxis290\": {\"anchor\": \"x290\", \"domain\": [0.7928564285714286, 0.8558442857142857], \"gridcolor\": \"black\", \"gridwidth\": 1, \"linecolor\": \"black\", \"matches\": \"y\", \"showgrid\": true, \"showticklabels\": true}, \"yaxis291\": {\"anchor\": \"x291\", \"domain\": [0.7928564285714286, 0.8558442857142857], \"gridcolor\": \"black\", \"gridwidth\": 1, \"linecolor\": \"black\", \"matches\": \"y\", \"showgrid\": true, \"showticklabels\": true}, \"yaxis292\": {\"anchor\": \"x292\", \"domain\": [0.7928564285714286, 0.8558442857142857], \"gridcolor\": \"black\", \"gridwidth\": 1, \"linecolor\": \"black\", \"matches\": \"y\", \"showgrid\": true, \"showticklabels\": true}, \"yaxis293\": {\"anchor\": \"x293\", \"domain\": [0.7928564285714286, 0.8558442857142857], \"gridcolor\": \"black\", \"gridwidth\": 1, \"linecolor\": \"black\", \"matches\": \"y\", \"showgrid\": true, \"showticklabels\": true}, \"yaxis294\": {\"anchor\": \"x294\", \"domain\": [0.7928564285714286, 0.8558442857142857], \"gridcolor\": \"black\", \"gridwidth\": 1, \"linecolor\": \"black\", \"matches\": \"y\", \"showgrid\": true, \"showticklabels\": true}, \"yaxis295\": {\"anchor\": \"x295\", \"domain\": [0.7928564285714286, 0.8558442857142857], \"gridcolor\": \"black\", \"gridwidth\": 1, \"linecolor\": \"black\", \"matches\": \"y\", \"showgrid\": true, \"showticklabels\": true}, \"yaxis296\": {\"anchor\": \"x296\", \"domain\": [0.7928564285714286, 0.8558442857142857], \"gridcolor\": \"black\", \"gridwidth\": 1, \"linecolor\": \"black\", \"matches\": \"y\", \"showgrid\": true, \"showticklabels\": true}, \"yaxis297\": {\"anchor\": \"x297\", \"domain\": [0.7928564285714286, 0.8558442857142857], \"gridcolor\": \"black\", \"gridwidth\": 1, \"linecolor\": \"black\", \"matches\": \"y\", \"showgrid\": true, \"showticklabels\": true}, \"yaxis298\": {\"anchor\": \"x298\", \"domain\": [0.7928564285714286, 0.8558442857142857], \"gridcolor\": \"black\", \"gridwidth\": 1, \"linecolor\": \"black\", \"matches\": \"y\", \"showgrid\": true, \"showticklabels\": true}, \"yaxis299\": {\"anchor\": \"x299\", \"domain\": [0.7928564285714286, 0.8558442857142857], \"gridcolor\": \"black\", \"gridwidth\": 1, \"linecolor\": \"black\", \"matches\": \"y\", \"showgrid\": true, \"showticklabels\": true}, \"yaxis3\": {\"anchor\": \"x3\", \"domain\": [0.0, 0.06298785714285714], \"gridcolor\": \"black\", \"gridwidth\": 1, \"linecolor\": \"black\", \"matches\": \"y\", \"showgrid\": true, \"showticklabels\": true}, \"yaxis30\": {\"anchor\": \"x30\", \"domain\": [0.07207785714285714, 0.1350657142857143], \"gridcolor\": \"black\", \"gridwidth\": 1, \"linecolor\": \"black\", \"matches\": \"y\", \"showgrid\": true, \"showticklabels\": true}, \"yaxis300\": {\"anchor\": \"x300\", \"domain\": [0.7928564285714286, 0.8558442857142857], \"gridcolor\": \"black\", \"gridwidth\": 1, \"linecolor\": \"black\", \"matches\": \"y\", \"showgrid\": true, \"showticklabels\": true}, \"yaxis301\": {\"anchor\": \"x301\", \"domain\": [0.8649342857142857, 0.9279221428571428], \"gridcolor\": \"black\", \"gridwidth\": 1, \"linecolor\": \"black\", \"matches\": \"y\", \"showgrid\": true, \"showticklabels\": true, \"title\": {\"text\": \"percent\"}}, \"yaxis302\": {\"anchor\": \"x302\", \"domain\": [0.8649342857142857, 0.9279221428571428], \"gridcolor\": \"black\", \"gridwidth\": 1, \"linecolor\": \"black\", \"matches\": \"y\", \"showgrid\": true, \"showticklabels\": true}, \"yaxis303\": {\"anchor\": \"x303\", \"domain\": [0.8649342857142857, 0.9279221428571428], \"gridcolor\": \"black\", \"gridwidth\": 1, \"linecolor\": \"black\", \"matches\": \"y\", \"showgrid\": true, \"showticklabels\": true}, \"yaxis304\": {\"anchor\": \"x304\", \"domain\": [0.8649342857142857, 0.9279221428571428], \"gridcolor\": \"black\", \"gridwidth\": 1, \"linecolor\": \"black\", \"matches\": \"y\", \"showgrid\": true, \"showticklabels\": true}, \"yaxis305\": {\"anchor\": \"x305\", \"domain\": [0.8649342857142857, 0.9279221428571428], \"gridcolor\": \"black\", \"gridwidth\": 1, \"linecolor\": \"black\", \"matches\": \"y\", \"showgrid\": true, \"showticklabels\": true}, \"yaxis306\": {\"anchor\": \"x306\", \"domain\": [0.8649342857142857, 0.9279221428571428], \"gridcolor\": \"black\", \"gridwidth\": 1, \"linecolor\": \"black\", \"matches\": \"y\", \"showgrid\": true, \"showticklabels\": true}, \"yaxis307\": {\"anchor\": \"x307\", \"domain\": [0.8649342857142857, 0.9279221428571428], \"gridcolor\": \"black\", \"gridwidth\": 1, \"linecolor\": \"black\", \"matches\": \"y\", \"showgrid\": true, \"showticklabels\": true}, \"yaxis308\": {\"anchor\": \"x308\", \"domain\": [0.8649342857142857, 0.9279221428571428], \"gridcolor\": \"black\", \"gridwidth\": 1, \"linecolor\": \"black\", \"matches\": \"y\", \"showgrid\": true, \"showticklabels\": true}, \"yaxis309\": {\"anchor\": \"x309\", \"domain\": [0.8649342857142857, 0.9279221428571428], \"gridcolor\": \"black\", \"gridwidth\": 1, \"linecolor\": \"black\", \"matches\": \"y\", \"showgrid\": true, \"showticklabels\": true}, \"yaxis31\": {\"anchor\": \"x31\", \"domain\": [0.07207785714285714, 0.1350657142857143], \"gridcolor\": \"black\", \"gridwidth\": 1, \"linecolor\": \"black\", \"matches\": \"y\", \"showgrid\": true, \"showticklabels\": true}, \"yaxis310\": {\"anchor\": \"x310\", \"domain\": [0.8649342857142857, 0.9279221428571428], \"gridcolor\": \"black\", \"gridwidth\": 1, \"linecolor\": \"black\", \"matches\": \"y\", \"showgrid\": true, \"showticklabels\": true}, \"yaxis311\": {\"anchor\": \"x311\", \"domain\": [0.8649342857142857, 0.9279221428571428], \"gridcolor\": \"black\", \"gridwidth\": 1, \"linecolor\": \"black\", \"matches\": \"y\", \"showgrid\": true, \"showticklabels\": true}, \"yaxis312\": {\"anchor\": \"x312\", \"domain\": [0.8649342857142857, 0.9279221428571428], \"gridcolor\": \"black\", \"gridwidth\": 1, \"linecolor\": \"black\", \"matches\": \"y\", \"showgrid\": true, \"showticklabels\": true}, \"yaxis313\": {\"anchor\": \"x313\", \"domain\": [0.8649342857142857, 0.9279221428571428], \"gridcolor\": \"black\", \"gridwidth\": 1, \"linecolor\": \"black\", \"matches\": \"y\", \"showgrid\": true, \"showticklabels\": true}, \"yaxis314\": {\"anchor\": \"x314\", \"domain\": [0.8649342857142857, 0.9279221428571428], \"gridcolor\": \"black\", \"gridwidth\": 1, \"linecolor\": \"black\", \"matches\": \"y\", \"showgrid\": true, \"showticklabels\": true}, \"yaxis315\": {\"anchor\": \"x315\", \"domain\": [0.8649342857142857, 0.9279221428571428], \"gridcolor\": \"black\", \"gridwidth\": 1, \"linecolor\": \"black\", \"matches\": \"y\", \"showgrid\": true, \"showticklabels\": true}, \"yaxis316\": {\"anchor\": \"x316\", \"domain\": [0.8649342857142857, 0.9279221428571428], \"gridcolor\": \"black\", \"gridwidth\": 1, \"linecolor\": \"black\", \"matches\": \"y\", \"showgrid\": true, \"showticklabels\": true}, \"yaxis317\": {\"anchor\": \"x317\", \"domain\": [0.8649342857142857, 0.9279221428571428], \"gridcolor\": \"black\", \"gridwidth\": 1, \"linecolor\": \"black\", \"matches\": \"y\", \"showgrid\": true, \"showticklabels\": true}, \"yaxis318\": {\"anchor\": \"x318\", \"domain\": [0.8649342857142857, 0.9279221428571428], \"gridcolor\": \"black\", \"gridwidth\": 1, \"linecolor\": \"black\", \"matches\": \"y\", \"showgrid\": true, \"showticklabels\": true}, \"yaxis319\": {\"anchor\": \"x319\", \"domain\": [0.8649342857142857, 0.9279221428571428], \"gridcolor\": \"black\", \"gridwidth\": 1, \"linecolor\": \"black\", \"matches\": \"y\", \"showgrid\": true, \"showticklabels\": true}, \"yaxis32\": {\"anchor\": \"x32\", \"domain\": [0.07207785714285714, 0.1350657142857143], \"gridcolor\": \"black\", \"gridwidth\": 1, \"linecolor\": \"black\", \"matches\": \"y\", \"showgrid\": true, \"showticklabels\": true}, \"yaxis320\": {\"anchor\": \"x320\", \"domain\": [0.8649342857142857, 0.9279221428571428], \"gridcolor\": \"black\", \"gridwidth\": 1, \"linecolor\": \"black\", \"matches\": \"y\", \"showgrid\": true, \"showticklabels\": true}, \"yaxis321\": {\"anchor\": \"x321\", \"domain\": [0.8649342857142857, 0.9279221428571428], \"gridcolor\": \"black\", \"gridwidth\": 1, \"linecolor\": \"black\", \"matches\": \"y\", \"showgrid\": true, \"showticklabels\": true}, \"yaxis322\": {\"anchor\": \"x322\", \"domain\": [0.8649342857142857, 0.9279221428571428], \"gridcolor\": \"black\", \"gridwidth\": 1, \"linecolor\": \"black\", \"matches\": \"y\", \"showgrid\": true, \"showticklabels\": true}, \"yaxis323\": {\"anchor\": \"x323\", \"domain\": [0.8649342857142857, 0.9279221428571428], \"gridcolor\": \"black\", \"gridwidth\": 1, \"linecolor\": \"black\", \"matches\": \"y\", \"showgrid\": true, \"showticklabels\": true}, \"yaxis324\": {\"anchor\": \"x324\", \"domain\": [0.8649342857142857, 0.9279221428571428], \"gridcolor\": \"black\", \"gridwidth\": 1, \"linecolor\": \"black\", \"matches\": \"y\", \"showgrid\": true, \"showticklabels\": true}, \"yaxis325\": {\"anchor\": \"x325\", \"domain\": [0.8649342857142857, 0.9279221428571428], \"gridcolor\": \"black\", \"gridwidth\": 1, \"linecolor\": \"black\", \"matches\": \"y\", \"showgrid\": true, \"showticklabels\": true}, \"yaxis326\": {\"anchor\": \"x326\", \"domain\": [0.9370121428571428, 1.0], \"gridcolor\": \"black\", \"gridwidth\": 1, \"linecolor\": \"black\", \"matches\": \"y\", \"showgrid\": true, \"showticklabels\": true, \"title\": {\"text\": \"percent\"}}, \"yaxis327\": {\"anchor\": \"x327\", \"domain\": [0.9370121428571428, 1.0], \"gridcolor\": \"black\", \"gridwidth\": 1, \"linecolor\": \"black\", \"matches\": \"y\", \"showgrid\": true, \"showticklabels\": true}, \"yaxis328\": {\"anchor\": \"x328\", \"domain\": [0.9370121428571428, 1.0], \"gridcolor\": \"black\", \"gridwidth\": 1, \"linecolor\": \"black\", \"matches\": \"y\", \"showgrid\": true, \"showticklabels\": true}, \"yaxis329\": {\"anchor\": \"x329\", \"domain\": [0.9370121428571428, 1.0], \"gridcolor\": \"black\", \"gridwidth\": 1, \"linecolor\": \"black\", \"matches\": \"y\", \"showgrid\": true, \"showticklabels\": true}, \"yaxis33\": {\"anchor\": \"x33\", \"domain\": [0.07207785714285714, 0.1350657142857143], \"gridcolor\": \"black\", \"gridwidth\": 1, \"linecolor\": \"black\", \"matches\": \"y\", \"showgrid\": true, \"showticklabels\": true}, \"yaxis330\": {\"anchor\": \"x330\", \"domain\": [0.9370121428571428, 1.0], \"gridcolor\": \"black\", \"gridwidth\": 1, \"linecolor\": \"black\", \"matches\": \"y\", \"showgrid\": true, \"showticklabels\": true}, \"yaxis331\": {\"anchor\": \"x331\", \"domain\": [0.9370121428571428, 1.0], \"gridcolor\": \"black\", \"gridwidth\": 1, \"linecolor\": \"black\", \"matches\": \"y\", \"showgrid\": true, \"showticklabels\": true}, \"yaxis332\": {\"anchor\": \"x332\", \"domain\": [0.9370121428571428, 1.0], \"gridcolor\": \"black\", \"gridwidth\": 1, \"linecolor\": \"black\", \"matches\": \"y\", \"showgrid\": true, \"showticklabels\": true}, \"yaxis333\": {\"anchor\": \"x333\", \"domain\": [0.9370121428571428, 1.0], \"gridcolor\": \"black\", \"gridwidth\": 1, \"linecolor\": \"black\", \"matches\": \"y\", \"showgrid\": true, \"showticklabels\": true}, \"yaxis334\": {\"anchor\": \"x334\", \"domain\": [0.9370121428571428, 1.0], \"gridcolor\": \"black\", \"gridwidth\": 1, \"linecolor\": \"black\", \"matches\": \"y\", \"showgrid\": true, \"showticklabels\": true}, \"yaxis335\": {\"anchor\": \"x335\", \"domain\": [0.9370121428571428, 1.0], \"gridcolor\": \"black\", \"gridwidth\": 1, \"linecolor\": \"black\", \"matches\": \"y\", \"showgrid\": true, \"showticklabels\": true}, \"yaxis336\": {\"anchor\": \"x336\", \"domain\": [0.9370121428571428, 1.0], \"gridcolor\": \"black\", \"gridwidth\": 1, \"linecolor\": \"black\", \"matches\": \"y\", \"showgrid\": true, \"showticklabels\": true}, \"yaxis337\": {\"anchor\": \"x337\", \"domain\": [0.9370121428571428, 1.0], \"gridcolor\": \"black\", \"gridwidth\": 1, \"linecolor\": \"black\", \"matches\": \"y\", \"showgrid\": true, \"showticklabels\": true}, \"yaxis338\": {\"anchor\": \"x338\", \"domain\": [0.9370121428571428, 1.0], \"gridcolor\": \"black\", \"gridwidth\": 1, \"linecolor\": \"black\", \"matches\": \"y\", \"showgrid\": true, \"showticklabels\": true}, \"yaxis339\": {\"anchor\": \"x339\", \"domain\": [0.9370121428571428, 1.0], \"gridcolor\": \"black\", \"gridwidth\": 1, \"linecolor\": \"black\", \"matches\": \"y\", \"showgrid\": true, \"showticklabels\": true}, \"yaxis34\": {\"anchor\": \"x34\", \"domain\": [0.07207785714285714, 0.1350657142857143], \"gridcolor\": \"black\", \"gridwidth\": 1, \"linecolor\": \"black\", \"matches\": \"y\", \"showgrid\": true, \"showticklabels\": true}, \"yaxis340\": {\"anchor\": \"x340\", \"domain\": [0.9370121428571428, 1.0], \"gridcolor\": \"black\", \"gridwidth\": 1, \"linecolor\": \"black\", \"matches\": \"y\", \"showgrid\": true, \"showticklabels\": true}, \"yaxis341\": {\"anchor\": \"x341\", \"domain\": [0.9370121428571428, 1.0], \"gridcolor\": \"black\", \"gridwidth\": 1, \"linecolor\": \"black\", \"matches\": \"y\", \"showgrid\": true, \"showticklabels\": true}, \"yaxis342\": {\"anchor\": \"x342\", \"domain\": [0.9370121428571428, 1.0], \"gridcolor\": \"black\", \"gridwidth\": 1, \"linecolor\": \"black\", \"matches\": \"y\", \"showgrid\": true, \"showticklabels\": true}, \"yaxis343\": {\"anchor\": \"x343\", \"domain\": [0.9370121428571428, 1.0], \"gridcolor\": \"black\", \"gridwidth\": 1, \"linecolor\": \"black\", \"matches\": \"y\", \"showgrid\": true, \"showticklabels\": true}, \"yaxis344\": {\"anchor\": \"x344\", \"domain\": [0.9370121428571428, 1.0], \"gridcolor\": \"black\", \"gridwidth\": 1, \"linecolor\": \"black\", \"matches\": \"y\", \"showgrid\": true, \"showticklabels\": true}, \"yaxis345\": {\"anchor\": \"x345\", \"domain\": [0.9370121428571428, 1.0], \"gridcolor\": \"black\", \"gridwidth\": 1, \"linecolor\": \"black\", \"matches\": \"y\", \"showgrid\": true, \"showticklabels\": true}, \"yaxis346\": {\"anchor\": \"x346\", \"domain\": [0.9370121428571428, 1.0], \"gridcolor\": \"black\", \"gridwidth\": 1, \"linecolor\": \"black\", \"matches\": \"y\", \"showgrid\": true, \"showticklabels\": true}, \"yaxis347\": {\"anchor\": \"x347\", \"domain\": [0.9370121428571428, 1.0], \"gridcolor\": \"black\", \"gridwidth\": 1, \"linecolor\": \"black\", \"matches\": \"y\", \"showgrid\": true, \"showticklabels\": true}, \"yaxis348\": {\"anchor\": \"x348\", \"domain\": [0.9370121428571428, 1.0], \"gridcolor\": \"black\", \"gridwidth\": 1, \"linecolor\": \"black\", \"matches\": \"y\", \"showgrid\": true, \"showticklabels\": true}, \"yaxis349\": {\"anchor\": \"x349\", \"domain\": [0.9370121428571428, 1.0], \"gridcolor\": \"black\", \"gridwidth\": 1, \"linecolor\": \"black\", \"matches\": \"y\", \"showgrid\": true, \"showticklabels\": true}, \"yaxis35\": {\"anchor\": \"x35\", \"domain\": [0.07207785714285714, 0.1350657142857143], \"gridcolor\": \"black\", \"gridwidth\": 1, \"linecolor\": \"black\", \"matches\": \"y\", \"showgrid\": true, \"showticklabels\": true}, \"yaxis350\": {\"anchor\": \"x350\", \"domain\": [0.9370121428571428, 1.0], \"gridcolor\": \"black\", \"gridwidth\": 1, \"linecolor\": \"black\", \"matches\": \"y\", \"showgrid\": true, \"showticklabels\": true}, \"yaxis36\": {\"anchor\": \"x36\", \"domain\": [0.07207785714285714, 0.1350657142857143], \"gridcolor\": \"black\", \"gridwidth\": 1, \"linecolor\": \"black\", \"matches\": \"y\", \"showgrid\": true, \"showticklabels\": true}, \"yaxis37\": {\"anchor\": \"x37\", \"domain\": [0.07207785714285714, 0.1350657142857143], \"gridcolor\": \"black\", \"gridwidth\": 1, \"linecolor\": \"black\", \"matches\": \"y\", \"showgrid\": true, \"showticklabels\": true}, \"yaxis38\": {\"anchor\": \"x38\", \"domain\": [0.07207785714285714, 0.1350657142857143], \"gridcolor\": \"black\", \"gridwidth\": 1, \"linecolor\": \"black\", \"matches\": \"y\", \"showgrid\": true, \"showticklabels\": true}, \"yaxis39\": {\"anchor\": \"x39\", \"domain\": [0.07207785714285714, 0.1350657142857143], \"gridcolor\": \"black\", \"gridwidth\": 1, \"linecolor\": \"black\", \"matches\": \"y\", \"showgrid\": true, \"showticklabels\": true}, \"yaxis4\": {\"anchor\": \"x4\", \"domain\": [0.0, 0.06298785714285714], \"gridcolor\": \"black\", \"gridwidth\": 1, \"linecolor\": \"black\", \"matches\": \"y\", \"showgrid\": true, \"showticklabels\": true}, \"yaxis40\": {\"anchor\": \"x40\", \"domain\": [0.07207785714285714, 0.1350657142857143], \"gridcolor\": \"black\", \"gridwidth\": 1, \"linecolor\": \"black\", \"matches\": \"y\", \"showgrid\": true, \"showticklabels\": true}, \"yaxis41\": {\"anchor\": \"x41\", \"domain\": [0.07207785714285714, 0.1350657142857143], \"gridcolor\": \"black\", \"gridwidth\": 1, \"linecolor\": \"black\", \"matches\": \"y\", \"showgrid\": true, \"showticklabels\": true}, \"yaxis42\": {\"anchor\": \"x42\", \"domain\": [0.07207785714285714, 0.1350657142857143], \"gridcolor\": \"black\", \"gridwidth\": 1, \"linecolor\": \"black\", \"matches\": \"y\", \"showgrid\": true, \"showticklabels\": true}, \"yaxis43\": {\"anchor\": \"x43\", \"domain\": [0.07207785714285714, 0.1350657142857143], \"gridcolor\": \"black\", \"gridwidth\": 1, \"linecolor\": \"black\", \"matches\": \"y\", \"showgrid\": true, \"showticklabels\": true}, \"yaxis44\": {\"anchor\": \"x44\", \"domain\": [0.07207785714285714, 0.1350657142857143], \"gridcolor\": \"black\", \"gridwidth\": 1, \"linecolor\": \"black\", \"matches\": \"y\", \"showgrid\": true, \"showticklabels\": true}, \"yaxis45\": {\"anchor\": \"x45\", \"domain\": [0.07207785714285714, 0.1350657142857143], \"gridcolor\": \"black\", \"gridwidth\": 1, \"linecolor\": \"black\", \"matches\": \"y\", \"showgrid\": true, \"showticklabels\": true}, \"yaxis46\": {\"anchor\": \"x46\", \"domain\": [0.07207785714285714, 0.1350657142857143], \"gridcolor\": \"black\", \"gridwidth\": 1, \"linecolor\": \"black\", \"matches\": \"y\", \"showgrid\": true, \"showticklabels\": true}, \"yaxis47\": {\"anchor\": \"x47\", \"domain\": [0.07207785714285714, 0.1350657142857143], \"gridcolor\": \"black\", \"gridwidth\": 1, \"linecolor\": \"black\", \"matches\": \"y\", \"showgrid\": true, \"showticklabels\": true}, \"yaxis48\": {\"anchor\": \"x48\", \"domain\": [0.07207785714285714, 0.1350657142857143], \"gridcolor\": \"black\", \"gridwidth\": 1, \"linecolor\": \"black\", \"matches\": \"y\", \"showgrid\": true, \"showticklabels\": true}, \"yaxis49\": {\"anchor\": \"x49\", \"domain\": [0.07207785714285714, 0.1350657142857143], \"gridcolor\": \"black\", \"gridwidth\": 1, \"linecolor\": \"black\", \"matches\": \"y\", \"showgrid\": true, \"showticklabels\": true}, \"yaxis5\": {\"anchor\": \"x5\", \"domain\": [0.0, 0.06298785714285714], \"gridcolor\": \"black\", \"gridwidth\": 1, \"linecolor\": \"black\", \"matches\": \"y\", \"showgrid\": true, \"showticklabels\": true}, \"yaxis50\": {\"anchor\": \"x50\", \"domain\": [0.07207785714285714, 0.1350657142857143], \"gridcolor\": \"black\", \"gridwidth\": 1, \"linecolor\": \"black\", \"matches\": \"y\", \"showgrid\": true, \"showticklabels\": true}, \"yaxis51\": {\"anchor\": \"x51\", \"domain\": [0.14415571428571428, 0.20714357142857143], \"gridcolor\": \"black\", \"gridwidth\": 1, \"linecolor\": \"black\", \"matches\": \"y\", \"showgrid\": true, \"showticklabels\": true, \"title\": {\"text\": \"percent\"}}, \"yaxis52\": {\"anchor\": \"x52\", \"domain\": [0.14415571428571428, 0.20714357142857143], \"gridcolor\": \"black\", \"gridwidth\": 1, \"linecolor\": \"black\", \"matches\": \"y\", \"showgrid\": true, \"showticklabels\": true}, \"yaxis53\": {\"anchor\": \"x53\", \"domain\": [0.14415571428571428, 0.20714357142857143], \"gridcolor\": \"black\", \"gridwidth\": 1, \"linecolor\": \"black\", \"matches\": \"y\", \"showgrid\": true, \"showticklabels\": true}, \"yaxis54\": {\"anchor\": \"x54\", \"domain\": [0.14415571428571428, 0.20714357142857143], \"gridcolor\": \"black\", \"gridwidth\": 1, \"linecolor\": \"black\", \"matches\": \"y\", \"showgrid\": true, \"showticklabels\": true}, \"yaxis55\": {\"anchor\": \"x55\", \"domain\": [0.14415571428571428, 0.20714357142857143], \"gridcolor\": \"black\", \"gridwidth\": 1, \"linecolor\": \"black\", \"matches\": \"y\", \"showgrid\": true, \"showticklabels\": true}, \"yaxis56\": {\"anchor\": \"x56\", \"domain\": [0.14415571428571428, 0.20714357142857143], \"gridcolor\": \"black\", \"gridwidth\": 1, \"linecolor\": \"black\", \"matches\": \"y\", \"showgrid\": true, \"showticklabels\": true}, \"yaxis57\": {\"anchor\": \"x57\", \"domain\": [0.14415571428571428, 0.20714357142857143], \"gridcolor\": \"black\", \"gridwidth\": 1, \"linecolor\": \"black\", \"matches\": \"y\", \"showgrid\": true, \"showticklabels\": true}, \"yaxis58\": {\"anchor\": \"x58\", \"domain\": [0.14415571428571428, 0.20714357142857143], \"gridcolor\": \"black\", \"gridwidth\": 1, \"linecolor\": \"black\", \"matches\": \"y\", \"showgrid\": true, \"showticklabels\": true}, \"yaxis59\": {\"anchor\": \"x59\", \"domain\": [0.14415571428571428, 0.20714357142857143], \"gridcolor\": \"black\", \"gridwidth\": 1, \"linecolor\": \"black\", \"matches\": \"y\", \"showgrid\": true, \"showticklabels\": true}, \"yaxis6\": {\"anchor\": \"x6\", \"domain\": [0.0, 0.06298785714285714], \"gridcolor\": \"black\", \"gridwidth\": 1, \"linecolor\": \"black\", \"matches\": \"y\", \"showgrid\": true, \"showticklabels\": true}, \"yaxis60\": {\"anchor\": \"x60\", \"domain\": [0.14415571428571428, 0.20714357142857143], \"gridcolor\": \"black\", \"gridwidth\": 1, \"linecolor\": \"black\", \"matches\": \"y\", \"showgrid\": true, \"showticklabels\": true}, \"yaxis61\": {\"anchor\": \"x61\", \"domain\": [0.14415571428571428, 0.20714357142857143], \"gridcolor\": \"black\", \"gridwidth\": 1, \"linecolor\": \"black\", \"matches\": \"y\", \"showgrid\": true, \"showticklabels\": true}, \"yaxis62\": {\"anchor\": \"x62\", \"domain\": [0.14415571428571428, 0.20714357142857143], \"gridcolor\": \"black\", \"gridwidth\": 1, \"linecolor\": \"black\", \"matches\": \"y\", \"showgrid\": true, \"showticklabels\": true}, \"yaxis63\": {\"anchor\": \"x63\", \"domain\": [0.14415571428571428, 0.20714357142857143], \"gridcolor\": \"black\", \"gridwidth\": 1, \"linecolor\": \"black\", \"matches\": \"y\", \"showgrid\": true, \"showticklabels\": true}, \"yaxis64\": {\"anchor\": \"x64\", \"domain\": [0.14415571428571428, 0.20714357142857143], \"gridcolor\": \"black\", \"gridwidth\": 1, \"linecolor\": \"black\", \"matches\": \"y\", \"showgrid\": true, \"showticklabels\": true}, \"yaxis65\": {\"anchor\": \"x65\", \"domain\": [0.14415571428571428, 0.20714357142857143], \"gridcolor\": \"black\", \"gridwidth\": 1, \"linecolor\": \"black\", \"matches\": \"y\", \"showgrid\": true, \"showticklabels\": true}, \"yaxis66\": {\"anchor\": \"x66\", \"domain\": [0.14415571428571428, 0.20714357142857143], \"gridcolor\": \"black\", \"gridwidth\": 1, \"linecolor\": \"black\", \"matches\": \"y\", \"showgrid\": true, \"showticklabels\": true}, \"yaxis67\": {\"anchor\": \"x67\", \"domain\": [0.14415571428571428, 0.20714357142857143], \"gridcolor\": \"black\", \"gridwidth\": 1, \"linecolor\": \"black\", \"matches\": \"y\", \"showgrid\": true, \"showticklabels\": true}, \"yaxis68\": {\"anchor\": \"x68\", \"domain\": [0.14415571428571428, 0.20714357142857143], \"gridcolor\": \"black\", \"gridwidth\": 1, \"linecolor\": \"black\", \"matches\": \"y\", \"showgrid\": true, \"showticklabels\": true}, \"yaxis69\": {\"anchor\": \"x69\", \"domain\": [0.14415571428571428, 0.20714357142857143], \"gridcolor\": \"black\", \"gridwidth\": 1, \"linecolor\": \"black\", \"matches\": \"y\", \"showgrid\": true, \"showticklabels\": true}, \"yaxis7\": {\"anchor\": \"x7\", \"domain\": [0.0, 0.06298785714285714], \"gridcolor\": \"black\", \"gridwidth\": 1, \"linecolor\": \"black\", \"matches\": \"y\", \"showgrid\": true, \"showticklabels\": true}, \"yaxis70\": {\"anchor\": \"x70\", \"domain\": [0.14415571428571428, 0.20714357142857143], \"gridcolor\": \"black\", \"gridwidth\": 1, \"linecolor\": \"black\", \"matches\": \"y\", \"showgrid\": true, \"showticklabels\": true}, \"yaxis71\": {\"anchor\": \"x71\", \"domain\": [0.14415571428571428, 0.20714357142857143], \"gridcolor\": \"black\", \"gridwidth\": 1, \"linecolor\": \"black\", \"matches\": \"y\", \"showgrid\": true, \"showticklabels\": true}, \"yaxis72\": {\"anchor\": \"x72\", \"domain\": [0.14415571428571428, 0.20714357142857143], \"gridcolor\": \"black\", \"gridwidth\": 1, \"linecolor\": \"black\", \"matches\": \"y\", \"showgrid\": true, \"showticklabels\": true}, \"yaxis73\": {\"anchor\": \"x73\", \"domain\": [0.14415571428571428, 0.20714357142857143], \"gridcolor\": \"black\", \"gridwidth\": 1, \"linecolor\": \"black\", \"matches\": \"y\", \"showgrid\": true, \"showticklabels\": true}, \"yaxis74\": {\"anchor\": \"x74\", \"domain\": [0.14415571428571428, 0.20714357142857143], \"gridcolor\": \"black\", \"gridwidth\": 1, \"linecolor\": \"black\", \"matches\": \"y\", \"showgrid\": true, \"showticklabels\": true}, \"yaxis75\": {\"anchor\": \"x75\", \"domain\": [0.14415571428571428, 0.20714357142857143], \"gridcolor\": \"black\", \"gridwidth\": 1, \"linecolor\": \"black\", \"matches\": \"y\", \"showgrid\": true, \"showticklabels\": true}, \"yaxis76\": {\"anchor\": \"x76\", \"domain\": [0.21623357142857141, 0.27922142857142856], \"gridcolor\": \"black\", \"gridwidth\": 1, \"linecolor\": \"black\", \"matches\": \"y\", \"showgrid\": true, \"showticklabels\": true, \"title\": {\"text\": \"percent\"}}, \"yaxis77\": {\"anchor\": \"x77\", \"domain\": [0.21623357142857141, 0.27922142857142856], \"gridcolor\": \"black\", \"gridwidth\": 1, \"linecolor\": \"black\", \"matches\": \"y\", \"showgrid\": true, \"showticklabels\": true}, \"yaxis78\": {\"anchor\": \"x78\", \"domain\": [0.21623357142857141, 0.27922142857142856], \"gridcolor\": \"black\", \"gridwidth\": 1, \"linecolor\": \"black\", \"matches\": \"y\", \"showgrid\": true, \"showticklabels\": true}, \"yaxis79\": {\"anchor\": \"x79\", \"domain\": [0.21623357142857141, 0.27922142857142856], \"gridcolor\": \"black\", \"gridwidth\": 1, \"linecolor\": \"black\", \"matches\": \"y\", \"showgrid\": true, \"showticklabels\": true}, \"yaxis8\": {\"anchor\": \"x8\", \"domain\": [0.0, 0.06298785714285714], \"gridcolor\": \"black\", \"gridwidth\": 1, \"linecolor\": \"black\", \"matches\": \"y\", \"showgrid\": true, \"showticklabels\": true}, \"yaxis80\": {\"anchor\": \"x80\", \"domain\": [0.21623357142857141, 0.27922142857142856], \"gridcolor\": \"black\", \"gridwidth\": 1, \"linecolor\": \"black\", \"matches\": \"y\", \"showgrid\": true, \"showticklabels\": true}, \"yaxis81\": {\"anchor\": \"x81\", \"domain\": [0.21623357142857141, 0.27922142857142856], \"gridcolor\": \"black\", \"gridwidth\": 1, \"linecolor\": \"black\", \"matches\": \"y\", \"showgrid\": true, \"showticklabels\": true}, \"yaxis82\": {\"anchor\": \"x82\", \"domain\": [0.21623357142857141, 0.27922142857142856], \"gridcolor\": \"black\", \"gridwidth\": 1, \"linecolor\": \"black\", \"matches\": \"y\", \"showgrid\": true, \"showticklabels\": true}, \"yaxis83\": {\"anchor\": \"x83\", \"domain\": [0.21623357142857141, 0.27922142857142856], \"gridcolor\": \"black\", \"gridwidth\": 1, \"linecolor\": \"black\", \"matches\": \"y\", \"showgrid\": true, \"showticklabels\": true}, \"yaxis84\": {\"anchor\": \"x84\", \"domain\": [0.21623357142857141, 0.27922142857142856], \"gridcolor\": \"black\", \"gridwidth\": 1, \"linecolor\": \"black\", \"matches\": \"y\", \"showgrid\": true, \"showticklabels\": true}, \"yaxis85\": {\"anchor\": \"x85\", \"domain\": [0.21623357142857141, 0.27922142857142856], \"gridcolor\": \"black\", \"gridwidth\": 1, \"linecolor\": \"black\", \"matches\": \"y\", \"showgrid\": true, \"showticklabels\": true}, \"yaxis86\": {\"anchor\": \"x86\", \"domain\": [0.21623357142857141, 0.27922142857142856], \"gridcolor\": \"black\", \"gridwidth\": 1, \"linecolor\": \"black\", \"matches\": \"y\", \"showgrid\": true, \"showticklabels\": true}, \"yaxis87\": {\"anchor\": \"x87\", \"domain\": [0.21623357142857141, 0.27922142857142856], \"gridcolor\": \"black\", \"gridwidth\": 1, \"linecolor\": \"black\", \"matches\": \"y\", \"showgrid\": true, \"showticklabels\": true}, \"yaxis88\": {\"anchor\": \"x88\", \"domain\": [0.21623357142857141, 0.27922142857142856], \"gridcolor\": \"black\", \"gridwidth\": 1, \"linecolor\": \"black\", \"matches\": \"y\", \"showgrid\": true, \"showticklabels\": true}, \"yaxis89\": {\"anchor\": \"x89\", \"domain\": [0.21623357142857141, 0.27922142857142856], \"gridcolor\": \"black\", \"gridwidth\": 1, \"linecolor\": \"black\", \"matches\": \"y\", \"showgrid\": true, \"showticklabels\": true}, \"yaxis9\": {\"anchor\": \"x9\", \"domain\": [0.0, 0.06298785714285714], \"gridcolor\": \"black\", \"gridwidth\": 1, \"linecolor\": \"black\", \"matches\": \"y\", \"showgrid\": true, \"showticklabels\": true}, \"yaxis90\": {\"anchor\": \"x90\", \"domain\": [0.21623357142857141, 0.27922142857142856], \"gridcolor\": \"black\", \"gridwidth\": 1, \"linecolor\": \"black\", \"matches\": \"y\", \"showgrid\": true, \"showticklabels\": true}, \"yaxis91\": {\"anchor\": \"x91\", \"domain\": [0.21623357142857141, 0.27922142857142856], \"gridcolor\": \"black\", \"gridwidth\": 1, \"linecolor\": \"black\", \"matches\": \"y\", \"showgrid\": true, \"showticklabels\": true}, \"yaxis92\": {\"anchor\": \"x92\", \"domain\": [0.21623357142857141, 0.27922142857142856], \"gridcolor\": \"black\", \"gridwidth\": 1, \"linecolor\": \"black\", \"matches\": \"y\", \"showgrid\": true, \"showticklabels\": true}, \"yaxis93\": {\"anchor\": \"x93\", \"domain\": [0.21623357142857141, 0.27922142857142856], \"gridcolor\": \"black\", \"gridwidth\": 1, \"linecolor\": \"black\", \"matches\": \"y\", \"showgrid\": true, \"showticklabels\": true}, \"yaxis94\": {\"anchor\": \"x94\", \"domain\": [0.21623357142857141, 0.27922142857142856], \"gridcolor\": \"black\", \"gridwidth\": 1, \"linecolor\": \"black\", \"matches\": \"y\", \"showgrid\": true, \"showticklabels\": true}, \"yaxis95\": {\"anchor\": \"x95\", \"domain\": [0.21623357142857141, 0.27922142857142856], \"gridcolor\": \"black\", \"gridwidth\": 1, \"linecolor\": \"black\", \"matches\": \"y\", \"showgrid\": true, \"showticklabels\": true}, \"yaxis96\": {\"anchor\": \"x96\", \"domain\": [0.21623357142857141, 0.27922142857142856], \"gridcolor\": \"black\", \"gridwidth\": 1, \"linecolor\": \"black\", \"matches\": \"y\", \"showgrid\": true, \"showticklabels\": true}, \"yaxis97\": {\"anchor\": \"x97\", \"domain\": [0.21623357142857141, 0.27922142857142856], \"gridcolor\": \"black\", \"gridwidth\": 1, \"linecolor\": \"black\", \"matches\": \"y\", \"showgrid\": true, \"showticklabels\": true}, \"yaxis98\": {\"anchor\": \"x98\", \"domain\": [0.21623357142857141, 0.27922142857142856], \"gridcolor\": \"black\", \"gridwidth\": 1, \"linecolor\": \"black\", \"matches\": \"y\", \"showgrid\": true, \"showticklabels\": true}, \"yaxis99\": {\"anchor\": \"x99\", \"domain\": [0.21623357142857141, 0.27922142857142856], \"gridcolor\": \"black\", \"gridwidth\": 1, \"linecolor\": \"black\", \"matches\": \"y\", \"showgrid\": true, \"showticklabels\": true}},                        {\"responsive\": true}                    ).then(function(){\n",
       "                            \n",
       "var gd = document.getElementById('d8c18705-89de-4f9a-8b16-a2b39af43bce');\n",
       "var x = new MutationObserver(function (mutations, observer) {{\n",
       "        var display = window.getComputedStyle(gd).display;\n",
       "        if (!display || display === 'none') {{\n",
       "            console.log([gd, 'removed!']);\n",
       "            Plotly.purge(gd);\n",
       "            observer.disconnect();\n",
       "        }}\n",
       "}});\n",
       "\n",
       "// Listen for the removal of the full notebook cells\n",
       "var notebookContainer = gd.closest('#notebook-container');\n",
       "if (notebookContainer) {{\n",
       "    x.observe(notebookContainer, {childList: true});\n",
       "}}\n",
       "\n",
       "// Listen for the clearing of the current output cell\n",
       "var outputEl = gd.closest('.output');\n",
       "if (outputEl) {{\n",
       "    x.observe(outputEl, {childList: true});\n",
       "}}\n",
       "\n",
       "                        })                };                });            </script>        </div>"
      ]
     },
     "metadata": {},
     "output_type": "display_data"
    }
   ],
   "source": [
    "#plot the heatmaps considering the percentual of total value per year for each dataset\n",
    "fig = px.density_heatmap(get_ratio_df_all_per_global, x=\"date\", y=\"percent\",\n",
    "       title=\"Density heatmaps for Date and Percent of max score based on benchmarking\",\n",
    "       facet_col=\"ds\",facet_row=\"metricName\", color_continuous_scale=['#fffdc9', 'red'],\n",
    "                        facet_col_spacing=0.0050, facet_row_spacing=0.009090)\n",
    "\n",
    "fig.update_layout(\n",
    "    autosize=True,\n",
    "    height=len(get_ratio_df_all_per_global[\"metricName\"].unique())*200,\n",
    "    width=len(get_ratio_df_all_per_global[\"metricName\"].unique())*300\n",
    ")\n",
    "\n",
    "fig.update_yaxes(showticklabels=True, linecolor=\"black\", showgrid=True, gridcolor=\"black\", gridwidth=1 )\n",
    "fig.update_xaxes(showticklabels=True, linecolor=\"black\", showgrid=True, gridcolor=\"black\", gridwidth=1 )\n",
    "\n",
    "\n",
    "fig.show()"
   ]
  },
  {
   "cell_type": "code",
   "execution_count": 33,
   "metadata": {},
   "outputs": [
    {
     "name": "stdout",
     "output_type": "stream",
     "text": [
      "2012-06\n",
      "2020-02\n"
     ]
    }
   ],
   "source": [
    "print(min(get_ratio_df_all_per_global[\"date\"]))\n",
    "print(max(get_ratio_df_all_per_global[\"date\"]))"
   ]
  },
  {
   "cell_type": "code",
   "execution_count": 34,
   "metadata": {},
   "outputs": [
    {
     "data": {
      "text/html": [
       "<div>\n",
       "<style scoped>\n",
       "    .dataframe tbody tr th:only-of-type {\n",
       "        vertical-align: middle;\n",
       "    }\n",
       "\n",
       "    .dataframe tbody tr th {\n",
       "        vertical-align: top;\n",
       "    }\n",
       "\n",
       "    .dataframe thead th {\n",
       "        text-align: right;\n",
       "    }\n",
       "</style>\n",
       "<table border=\"1\" class=\"dataframe\">\n",
       "  <thead>\n",
       "    <tr style=\"text-align: right;\">\n",
       "      <th></th>\n",
       "      <th>ds_count</th>\n",
       "      <th>ds</th>\n",
       "      <th>date</th>\n",
       "      <th>value</th>\n",
       "      <th>gain</th>\n",
       "      <th>ratio</th>\n",
       "      <th>total</th>\n",
       "      <th>percent</th>\n",
       "      <th>metricName</th>\n",
       "    </tr>\n",
       "  </thead>\n",
       "  <tbody>\n",
       "    <tr>\n",
       "      <th>0</th>\n",
       "      <td>1</td>\n",
       "      <td>FiQA</td>\n",
       "      <td>2019-08</td>\n",
       "      <td>0.07</td>\n",
       "      <td>0.07</td>\n",
       "      <td>1.0</td>\n",
       "      <td>0.07</td>\n",
       "      <td>100.0</td>\n",
       "      <td>MSE</td>\n",
       "    </tr>\n",
       "    <tr>\n",
       "      <th>0</th>\n",
       "      <td>1</td>\n",
       "      <td>FiQA</td>\n",
       "      <td>2019-08</td>\n",
       "      <td>0.55</td>\n",
       "      <td>0.55</td>\n",
       "      <td>1.0</td>\n",
       "      <td>0.55</td>\n",
       "      <td>100.0</td>\n",
       "      <td>R^2</td>\n",
       "    </tr>\n",
       "    <tr>\n",
       "      <th>2</th>\n",
       "      <td>1</td>\n",
       "      <td>SemEval 2017 Task 4-A</td>\n",
       "      <td>2019-08</td>\n",
       "      <td>0.61</td>\n",
       "      <td>0.61</td>\n",
       "      <td>1.0</td>\n",
       "      <td>0.61</td>\n",
       "      <td>68.0</td>\n",
       "      <td>Average Recall</td>\n",
       "    </tr>\n",
       "    <tr>\n",
       "      <th>0</th>\n",
       "      <td>1</td>\n",
       "      <td>ASTD</td>\n",
       "      <td>2019-08</td>\n",
       "      <td>0.62</td>\n",
       "      <td>0.62</td>\n",
       "      <td>1.0</td>\n",
       "      <td>0.62</td>\n",
       "      <td>69.0</td>\n",
       "      <td>Average Recall</td>\n",
       "    </tr>\n",
       "    <tr>\n",
       "      <th>0</th>\n",
       "      <td>1</td>\n",
       "      <td>SemEval</td>\n",
       "      <td>2017-04</td>\n",
       "      <td>0.685</td>\n",
       "      <td>0.685</td>\n",
       "      <td>1.0</td>\n",
       "      <td>0.685</td>\n",
       "      <td>100.0</td>\n",
       "      <td>F1-score</td>\n",
       "    </tr>\n",
       "    <tr>\n",
       "      <th>...</th>\n",
       "      <td>...</td>\n",
       "      <td>...</td>\n",
       "      <td>...</td>\n",
       "      <td>...</td>\n",
       "      <td>...</td>\n",
       "      <td>...</td>\n",
       "      <td>...</td>\n",
       "      <td>...</td>\n",
       "      <td>...</td>\n",
       "    </tr>\n",
       "    <tr>\n",
       "      <th>14</th>\n",
       "      <td>1</td>\n",
       "      <td>SST-2 Binary classification</td>\n",
       "      <td>2019-06</td>\n",
       "      <td>97.0</td>\n",
       "      <td>1.4</td>\n",
       "      <td>0.01</td>\n",
       "      <td>97.4</td>\n",
       "      <td>100.0</td>\n",
       "      <td>Accuracy</td>\n",
       "    </tr>\n",
       "    <tr>\n",
       "      <th>15</th>\n",
       "      <td>1</td>\n",
       "      <td>SST-2 Binary classification</td>\n",
       "      <td>2019-09</td>\n",
       "      <td>97.1</td>\n",
       "      <td>0.1</td>\n",
       "      <td>0.0</td>\n",
       "      <td>97.4</td>\n",
       "      <td>100.0</td>\n",
       "      <td>Accuracy</td>\n",
       "    </tr>\n",
       "    <tr>\n",
       "      <th>30</th>\n",
       "      <td>1</td>\n",
       "      <td>Amazon Review Polarity</td>\n",
       "      <td>2019-04</td>\n",
       "      <td>97.37</td>\n",
       "      <td>0.7</td>\n",
       "      <td>0.01</td>\n",
       "      <td>97.37</td>\n",
       "      <td>100.0</td>\n",
       "      <td>Accuracy</td>\n",
       "    </tr>\n",
       "    <tr>\n",
       "      <th>16</th>\n",
       "      <td>1</td>\n",
       "      <td>SST-2 Binary classification</td>\n",
       "      <td>2019-10</td>\n",
       "      <td>97.4</td>\n",
       "      <td>0.3</td>\n",
       "      <td>0.0</td>\n",
       "      <td>97.4</td>\n",
       "      <td>100.0</td>\n",
       "      <td>Accuracy</td>\n",
       "    </tr>\n",
       "    <tr>\n",
       "      <th>24</th>\n",
       "      <td>1</td>\n",
       "      <td>IMDb</td>\n",
       "      <td>2019-07</td>\n",
       "      <td>97.4</td>\n",
       "      <td>1.4</td>\n",
       "      <td>0.01</td>\n",
       "      <td>97.4</td>\n",
       "      <td>100.0</td>\n",
       "      <td>Accuracy</td>\n",
       "    </tr>\n",
       "  </tbody>\n",
       "</table>\n",
       "<p>78 rows × 9 columns</p>\n",
       "</div>"
      ],
      "text/plain": [
       "   ds_count                           ds     date  value   gain ratio  total  \\\n",
       "0         1                         FiQA  2019-08   0.07   0.07   1.0   0.07   \n",
       "0         1                         FiQA  2019-08   0.55   0.55   1.0   0.55   \n",
       "2         1        SemEval 2017 Task 4-A  2019-08   0.61   0.61   1.0   0.61   \n",
       "0         1                         ASTD  2019-08   0.62   0.62   1.0   0.62   \n",
       "0         1                      SemEval  2017-04  0.685  0.685   1.0  0.685   \n",
       "..      ...                          ...      ...    ...    ...   ...    ...   \n",
       "14        1  SST-2 Binary classification  2019-06   97.0    1.4  0.01   97.4   \n",
       "15        1  SST-2 Binary classification  2019-09   97.1    0.1   0.0   97.4   \n",
       "30        1       Amazon Review Polarity  2019-04  97.37    0.7  0.01  97.37   \n",
       "16        1  SST-2 Binary classification  2019-10   97.4    0.3   0.0   97.4   \n",
       "24        1                         IMDb  2019-07   97.4    1.4  0.01   97.4   \n",
       "\n",
       "    percent      metricName  \n",
       "0     100.0             MSE  \n",
       "0     100.0             R^2  \n",
       "2      68.0  Average Recall  \n",
       "0      69.0  Average Recall  \n",
       "0     100.0        F1-score  \n",
       "..      ...             ...  \n",
       "14    100.0        Accuracy  \n",
       "15    100.0        Accuracy  \n",
       "30    100.0        Accuracy  \n",
       "16    100.0        Accuracy  \n",
       "24    100.0        Accuracy  \n",
       "\n",
       "[78 rows x 9 columns]"
      ]
     },
     "execution_count": 34,
     "metadata": {},
     "output_type": "execute_result"
    }
   ],
   "source": [
    "get_ratio_df_all_per_global"
   ]
  },
  {
   "cell_type": "code",
   "execution_count": 35,
   "metadata": {},
   "outputs": [
    {
     "data": {
      "text/html": [
       "<div>\n",
       "<style scoped>\n",
       "    .dataframe tbody tr th:only-of-type {\n",
       "        vertical-align: middle;\n",
       "    }\n",
       "\n",
       "    .dataframe tbody tr th {\n",
       "        vertical-align: top;\n",
       "    }\n",
       "\n",
       "    .dataframe thead th {\n",
       "        text-align: right;\n",
       "    }\n",
       "</style>\n",
       "<table border=\"1\" class=\"dataframe\">\n",
       "  <thead>\n",
       "    <tr style=\"text-align: right;\">\n",
       "      <th></th>\n",
       "      <th>ds_count</th>\n",
       "      <th>ds</th>\n",
       "      <th>date</th>\n",
       "      <th>value</th>\n",
       "      <th>gain</th>\n",
       "      <th>ratio</th>\n",
       "      <th>total</th>\n",
       "      <th>percent</th>\n",
       "      <th>metricName</th>\n",
       "    </tr>\n",
       "  </thead>\n",
       "  <tbody>\n",
       "    <tr>\n",
       "      <th>17</th>\n",
       "      <td>1</td>\n",
       "      <td>IMDb</td>\n",
       "      <td>2014-12</td>\n",
       "      <td>92.33</td>\n",
       "      <td>92.33</td>\n",
       "      <td>0.95</td>\n",
       "      <td>97.4</td>\n",
       "      <td>95.0</td>\n",
       "      <td>Accuracy</td>\n",
       "    </tr>\n",
       "    <tr>\n",
       "      <th>18</th>\n",
       "      <td>1</td>\n",
       "      <td>IMDb</td>\n",
       "      <td>2016-02</td>\n",
       "      <td>94.1</td>\n",
       "      <td>1.8</td>\n",
       "      <td>0.02</td>\n",
       "      <td>97.4</td>\n",
       "      <td>97.0</td>\n",
       "      <td>Accuracy</td>\n",
       "    </tr>\n",
       "    <tr>\n",
       "      <th>19</th>\n",
       "      <td>1</td>\n",
       "      <td>IMDb</td>\n",
       "      <td>2017-12</td>\n",
       "      <td>94.99</td>\n",
       "      <td>0.9</td>\n",
       "      <td>0.01</td>\n",
       "      <td>97.4</td>\n",
       "      <td>98.0</td>\n",
       "      <td>Accuracy</td>\n",
       "    </tr>\n",
       "    <tr>\n",
       "      <th>20</th>\n",
       "      <td>1</td>\n",
       "      <td>IMDb</td>\n",
       "      <td>2018-01</td>\n",
       "      <td>95.4</td>\n",
       "      <td>0.4</td>\n",
       "      <td>0.0</td>\n",
       "      <td>97.4</td>\n",
       "      <td>98.0</td>\n",
       "      <td>Accuracy</td>\n",
       "    </tr>\n",
       "    <tr>\n",
       "      <th>21</th>\n",
       "      <td>1</td>\n",
       "      <td>IMDb</td>\n",
       "      <td>2019-02</td>\n",
       "      <td>95.68</td>\n",
       "      <td>0.3</td>\n",
       "      <td>0.0</td>\n",
       "      <td>97.4</td>\n",
       "      <td>98.0</td>\n",
       "      <td>Accuracy</td>\n",
       "    </tr>\n",
       "    <tr>\n",
       "      <th>22</th>\n",
       "      <td>1</td>\n",
       "      <td>IMDb</td>\n",
       "      <td>2019-04</td>\n",
       "      <td>95.8</td>\n",
       "      <td>0.1</td>\n",
       "      <td>0.0</td>\n",
       "      <td>97.4</td>\n",
       "      <td>98.0</td>\n",
       "      <td>Accuracy</td>\n",
       "    </tr>\n",
       "    <tr>\n",
       "      <th>23</th>\n",
       "      <td>1</td>\n",
       "      <td>IMDb</td>\n",
       "      <td>2019-06</td>\n",
       "      <td>96.0</td>\n",
       "      <td>0.2</td>\n",
       "      <td>0.0</td>\n",
       "      <td>97.4</td>\n",
       "      <td>99.0</td>\n",
       "      <td>Accuracy</td>\n",
       "    </tr>\n",
       "    <tr>\n",
       "      <th>24</th>\n",
       "      <td>1</td>\n",
       "      <td>IMDb</td>\n",
       "      <td>2019-07</td>\n",
       "      <td>97.4</td>\n",
       "      <td>1.4</td>\n",
       "      <td>0.01</td>\n",
       "      <td>97.4</td>\n",
       "      <td>100.0</td>\n",
       "      <td>Accuracy</td>\n",
       "    </tr>\n",
       "  </tbody>\n",
       "</table>\n",
       "</div>"
      ],
      "text/plain": [
       "   ds_count    ds     date  value   gain ratio total  percent metricName\n",
       "17        1  IMDb  2014-12  92.33  92.33  0.95  97.4     95.0   Accuracy\n",
       "18        1  IMDb  2016-02   94.1    1.8  0.02  97.4     97.0   Accuracy\n",
       "19        1  IMDb  2017-12  94.99    0.9  0.01  97.4     98.0   Accuracy\n",
       "20        1  IMDb  2018-01   95.4    0.4   0.0  97.4     98.0   Accuracy\n",
       "21        1  IMDb  2019-02  95.68    0.3   0.0  97.4     98.0   Accuracy\n",
       "22        1  IMDb  2019-04   95.8    0.1   0.0  97.4     98.0   Accuracy\n",
       "23        1  IMDb  2019-06   96.0    0.2   0.0  97.4     99.0   Accuracy\n",
       "24        1  IMDb  2019-07   97.4    1.4  0.01  97.4    100.0   Accuracy"
      ]
     },
     "execution_count": 35,
     "metadata": {},
     "output_type": "execute_result"
    }
   ],
   "source": [
    "#The above graph will display in each cell, how many metrics achieved the performance in \n",
    "#in the data range for a given benchmarking (ds). These metrics can be the same or different ones\n",
    "#which represents two experiments in the save date range for the same dataset.\n",
    "\n",
    "#for example for MRPC, 2 metrics Accuracy and F1 obtained between 70 and 89 percent of \n",
    "#their respective maximum values in this cell in 2013.\n",
    "\n",
    "\n",
    "get_ratio_df_all_per_global[get_ratio_df_all_per_global[\"ds\"]==\"IMDb\"]\n"
   ]
  },
  {
   "cell_type": "code",
   "execution_count": 36,
   "metadata": {},
   "outputs": [],
   "source": [
    "get_ratio_df_all_per_global = get_ratio_df_all_per_global.sort_values(by=['value'], ascending=True)"
   ]
  },
  {
   "cell_type": "code",
   "execution_count": 38,
   "metadata": {},
   "outputs": [
    {
     "data": {
      "text/html": [
       "<div>\n",
       "<style scoped>\n",
       "    .dataframe tbody tr th:only-of-type {\n",
       "        vertical-align: middle;\n",
       "    }\n",
       "\n",
       "    .dataframe tbody tr th {\n",
       "        vertical-align: top;\n",
       "    }\n",
       "\n",
       "    .dataframe thead th {\n",
       "        text-align: right;\n",
       "    }\n",
       "</style>\n",
       "<table border=\"1\" class=\"dataframe\">\n",
       "  <thead>\n",
       "    <tr style=\"text-align: right;\">\n",
       "      <th></th>\n",
       "      <th>ds_count</th>\n",
       "      <th>ds</th>\n",
       "      <th>date</th>\n",
       "      <th>value</th>\n",
       "      <th>gain</th>\n",
       "      <th>ratio</th>\n",
       "      <th>total</th>\n",
       "      <th>percent</th>\n",
       "      <th>metricName</th>\n",
       "    </tr>\n",
       "  </thead>\n",
       "  <tbody>\n",
       "    <tr>\n",
       "      <th>0</th>\n",
       "      <td>1</td>\n",
       "      <td>FiQA</td>\n",
       "      <td>2019-08</td>\n",
       "      <td>0.07</td>\n",
       "      <td>0.07</td>\n",
       "      <td>1.0</td>\n",
       "      <td>0.07</td>\n",
       "      <td>100.0</td>\n",
       "      <td>MSE</td>\n",
       "    </tr>\n",
       "    <tr>\n",
       "      <th>0</th>\n",
       "      <td>1</td>\n",
       "      <td>FiQA</td>\n",
       "      <td>2019-08</td>\n",
       "      <td>0.55</td>\n",
       "      <td>0.55</td>\n",
       "      <td>1.0</td>\n",
       "      <td>0.55</td>\n",
       "      <td>100.0</td>\n",
       "      <td>R^2</td>\n",
       "    </tr>\n",
       "    <tr>\n",
       "      <th>2</th>\n",
       "      <td>1</td>\n",
       "      <td>SemEval 2017 Task 4-A</td>\n",
       "      <td>2019-08</td>\n",
       "      <td>0.61</td>\n",
       "      <td>0.61</td>\n",
       "      <td>1.0</td>\n",
       "      <td>0.61</td>\n",
       "      <td>68.0</td>\n",
       "      <td>Average Recall</td>\n",
       "    </tr>\n",
       "    <tr>\n",
       "      <th>0</th>\n",
       "      <td>1</td>\n",
       "      <td>ASTD</td>\n",
       "      <td>2019-08</td>\n",
       "      <td>0.62</td>\n",
       "      <td>0.62</td>\n",
       "      <td>1.0</td>\n",
       "      <td>0.62</td>\n",
       "      <td>69.0</td>\n",
       "      <td>Average Recall</td>\n",
       "    </tr>\n",
       "    <tr>\n",
       "      <th>0</th>\n",
       "      <td>1</td>\n",
       "      <td>SemEval</td>\n",
       "      <td>2017-04</td>\n",
       "      <td>0.685</td>\n",
       "      <td>0.685</td>\n",
       "      <td>1.0</td>\n",
       "      <td>0.685</td>\n",
       "      <td>100.0</td>\n",
       "      <td>F1-score</td>\n",
       "    </tr>\n",
       "    <tr>\n",
       "      <th>...</th>\n",
       "      <td>...</td>\n",
       "      <td>...</td>\n",
       "      <td>...</td>\n",
       "      <td>...</td>\n",
       "      <td>...</td>\n",
       "      <td>...</td>\n",
       "      <td>...</td>\n",
       "      <td>...</td>\n",
       "      <td>...</td>\n",
       "    </tr>\n",
       "    <tr>\n",
       "      <th>14</th>\n",
       "      <td>1</td>\n",
       "      <td>SST-2 Binary classification</td>\n",
       "      <td>2019-06</td>\n",
       "      <td>97.0</td>\n",
       "      <td>1.4</td>\n",
       "      <td>0.01</td>\n",
       "      <td>97.4</td>\n",
       "      <td>100.0</td>\n",
       "      <td>Accuracy</td>\n",
       "    </tr>\n",
       "    <tr>\n",
       "      <th>15</th>\n",
       "      <td>1</td>\n",
       "      <td>SST-2 Binary classification</td>\n",
       "      <td>2019-09</td>\n",
       "      <td>97.1</td>\n",
       "      <td>0.1</td>\n",
       "      <td>0.0</td>\n",
       "      <td>97.4</td>\n",
       "      <td>100.0</td>\n",
       "      <td>Accuracy</td>\n",
       "    </tr>\n",
       "    <tr>\n",
       "      <th>30</th>\n",
       "      <td>1</td>\n",
       "      <td>Amazon Review Polarity</td>\n",
       "      <td>2019-04</td>\n",
       "      <td>97.37</td>\n",
       "      <td>0.7</td>\n",
       "      <td>0.01</td>\n",
       "      <td>97.37</td>\n",
       "      <td>100.0</td>\n",
       "      <td>Accuracy</td>\n",
       "    </tr>\n",
       "    <tr>\n",
       "      <th>16</th>\n",
       "      <td>1</td>\n",
       "      <td>SST-2 Binary classification</td>\n",
       "      <td>2019-10</td>\n",
       "      <td>97.4</td>\n",
       "      <td>0.3</td>\n",
       "      <td>0.0</td>\n",
       "      <td>97.4</td>\n",
       "      <td>100.0</td>\n",
       "      <td>Accuracy</td>\n",
       "    </tr>\n",
       "    <tr>\n",
       "      <th>24</th>\n",
       "      <td>1</td>\n",
       "      <td>IMDb</td>\n",
       "      <td>2019-07</td>\n",
       "      <td>97.4</td>\n",
       "      <td>1.4</td>\n",
       "      <td>0.01</td>\n",
       "      <td>97.4</td>\n",
       "      <td>100.0</td>\n",
       "      <td>Accuracy</td>\n",
       "    </tr>\n",
       "  </tbody>\n",
       "</table>\n",
       "<p>78 rows × 9 columns</p>\n",
       "</div>"
      ],
      "text/plain": [
       "   ds_count                           ds     date  value   gain ratio  total  \\\n",
       "0         1                         FiQA  2019-08   0.07   0.07   1.0   0.07   \n",
       "0         1                         FiQA  2019-08   0.55   0.55   1.0   0.55   \n",
       "2         1        SemEval 2017 Task 4-A  2019-08   0.61   0.61   1.0   0.61   \n",
       "0         1                         ASTD  2019-08   0.62   0.62   1.0   0.62   \n",
       "0         1                      SemEval  2017-04  0.685  0.685   1.0  0.685   \n",
       "..      ...                          ...      ...    ...    ...   ...    ...   \n",
       "14        1  SST-2 Binary classification  2019-06   97.0    1.4  0.01   97.4   \n",
       "15        1  SST-2 Binary classification  2019-09   97.1    0.1   0.0   97.4   \n",
       "30        1       Amazon Review Polarity  2019-04  97.37    0.7  0.01  97.37   \n",
       "16        1  SST-2 Binary classification  2019-10   97.4    0.3   0.0   97.4   \n",
       "24        1                         IMDb  2019-07   97.4    1.4  0.01   97.4   \n",
       "\n",
       "    percent      metricName  \n",
       "0     100.0             MSE  \n",
       "0     100.0             R^2  \n",
       "2      68.0  Average Recall  \n",
       "0      69.0  Average Recall  \n",
       "0     100.0        F1-score  \n",
       "..      ...             ...  \n",
       "14    100.0        Accuracy  \n",
       "15    100.0        Accuracy  \n",
       "30    100.0        Accuracy  \n",
       "16    100.0        Accuracy  \n",
       "24    100.0        Accuracy  \n",
       "\n",
       "[78 rows x 9 columns]"
      ]
     },
     "execution_count": 38,
     "metadata": {},
     "output_type": "execute_result"
    }
   ],
   "source": [
    "get_ratio_df_all_per_global"
   ]
  },
  {
   "cell_type": "code",
   "execution_count": 39,
   "metadata": {},
   "outputs": [
    {
     "data": {
      "text/html": [
       "<div>\n",
       "<style scoped>\n",
       "    .dataframe tbody tr th:only-of-type {\n",
       "        vertical-align: middle;\n",
       "    }\n",
       "\n",
       "    .dataframe tbody tr th {\n",
       "        vertical-align: top;\n",
       "    }\n",
       "\n",
       "    .dataframe thead th {\n",
       "        text-align: right;\n",
       "    }\n",
       "</style>\n",
       "<table border=\"1\" class=\"dataframe\">\n",
       "  <thead>\n",
       "    <tr style=\"text-align: right;\">\n",
       "      <th></th>\n",
       "      <th>index</th>\n",
       "      <th>ds_count</th>\n",
       "      <th>ds</th>\n",
       "      <th>date</th>\n",
       "      <th>value</th>\n",
       "      <th>gain</th>\n",
       "      <th>ratio</th>\n",
       "      <th>total</th>\n",
       "      <th>percent</th>\n",
       "      <th>metricName</th>\n",
       "      <th>unique_ds</th>\n",
       "    </tr>\n",
       "  </thead>\n",
       "  <tbody>\n",
       "    <tr>\n",
       "      <th>0</th>\n",
       "      <td>0</td>\n",
       "      <td>1</td>\n",
       "      <td>FiQA</td>\n",
       "      <td>2019-08-01</td>\n",
       "      <td>0.07</td>\n",
       "      <td>0.07</td>\n",
       "      <td>1.0</td>\n",
       "      <td>0.07</td>\n",
       "      <td>0.07</td>\n",
       "      <td>MSE</td>\n",
       "      <td>FiQA, MSE</td>\n",
       "    </tr>\n",
       "    <tr>\n",
       "      <th>1</th>\n",
       "      <td>0</td>\n",
       "      <td>1</td>\n",
       "      <td>FiQA</td>\n",
       "      <td>2019-08-01</td>\n",
       "      <td>0.55</td>\n",
       "      <td>0.55</td>\n",
       "      <td>1.0</td>\n",
       "      <td>0.55</td>\n",
       "      <td>0.55</td>\n",
       "      <td>R^2</td>\n",
       "      <td>FiQA, R^2</td>\n",
       "    </tr>\n",
       "    <tr>\n",
       "      <th>2</th>\n",
       "      <td>2</td>\n",
       "      <td>1</td>\n",
       "      <td>SemEval 2017 Task 4-A</td>\n",
       "      <td>2019-08-01</td>\n",
       "      <td>0.61</td>\n",
       "      <td>0.61</td>\n",
       "      <td>1.0</td>\n",
       "      <td>0.61</td>\n",
       "      <td>0.61</td>\n",
       "      <td>Average Recall</td>\n",
       "      <td>SemEval 2017 Task 4-A, Average Recall</td>\n",
       "    </tr>\n",
       "    <tr>\n",
       "      <th>3</th>\n",
       "      <td>0</td>\n",
       "      <td>1</td>\n",
       "      <td>ASTD</td>\n",
       "      <td>2019-08-01</td>\n",
       "      <td>0.62</td>\n",
       "      <td>0.62</td>\n",
       "      <td>1.0</td>\n",
       "      <td>0.62</td>\n",
       "      <td>0.62</td>\n",
       "      <td>Average Recall</td>\n",
       "      <td>ASTD, Average Recall</td>\n",
       "    </tr>\n",
       "    <tr>\n",
       "      <th>4</th>\n",
       "      <td>0</td>\n",
       "      <td>1</td>\n",
       "      <td>SemEval</td>\n",
       "      <td>2017-04-01</td>\n",
       "      <td>0.685</td>\n",
       "      <td>0.685</td>\n",
       "      <td>1.0</td>\n",
       "      <td>0.685</td>\n",
       "      <td>0.68</td>\n",
       "      <td>F1-score</td>\n",
       "      <td>SemEval, F1-score</td>\n",
       "    </tr>\n",
       "    <tr>\n",
       "      <th>...</th>\n",
       "      <td>...</td>\n",
       "      <td>...</td>\n",
       "      <td>...</td>\n",
       "      <td>...</td>\n",
       "      <td>...</td>\n",
       "      <td>...</td>\n",
       "      <td>...</td>\n",
       "      <td>...</td>\n",
       "      <td>...</td>\n",
       "      <td>...</td>\n",
       "      <td>...</td>\n",
       "    </tr>\n",
       "    <tr>\n",
       "      <th>73</th>\n",
       "      <td>14</td>\n",
       "      <td>1</td>\n",
       "      <td>SST-2 Binary classification</td>\n",
       "      <td>2019-06-01</td>\n",
       "      <td>97.0</td>\n",
       "      <td>1.4</td>\n",
       "      <td>0.01</td>\n",
       "      <td>97.4</td>\n",
       "      <td>97.00</td>\n",
       "      <td>Accuracy</td>\n",
       "      <td>SST-2 Binary classification, Accuracy</td>\n",
       "    </tr>\n",
       "    <tr>\n",
       "      <th>74</th>\n",
       "      <td>15</td>\n",
       "      <td>1</td>\n",
       "      <td>SST-2 Binary classification</td>\n",
       "      <td>2019-09-01</td>\n",
       "      <td>97.1</td>\n",
       "      <td>0.1</td>\n",
       "      <td>0.0</td>\n",
       "      <td>97.4</td>\n",
       "      <td>97.10</td>\n",
       "      <td>Accuracy</td>\n",
       "      <td>SST-2 Binary classification, Accuracy</td>\n",
       "    </tr>\n",
       "    <tr>\n",
       "      <th>75</th>\n",
       "      <td>30</td>\n",
       "      <td>1</td>\n",
       "      <td>Amazon Review Polarity</td>\n",
       "      <td>2019-04-01</td>\n",
       "      <td>97.37</td>\n",
       "      <td>0.7</td>\n",
       "      <td>0.01</td>\n",
       "      <td>97.37</td>\n",
       "      <td>97.37</td>\n",
       "      <td>Accuracy</td>\n",
       "      <td>Amazon Review Polarity, Accuracy</td>\n",
       "    </tr>\n",
       "    <tr>\n",
       "      <th>76</th>\n",
       "      <td>16</td>\n",
       "      <td>1</td>\n",
       "      <td>SST-2 Binary classification</td>\n",
       "      <td>2019-10-01</td>\n",
       "      <td>97.4</td>\n",
       "      <td>0.3</td>\n",
       "      <td>0.0</td>\n",
       "      <td>97.4</td>\n",
       "      <td>97.40</td>\n",
       "      <td>Accuracy</td>\n",
       "      <td>SST-2 Binary classification, Accuracy</td>\n",
       "    </tr>\n",
       "    <tr>\n",
       "      <th>77</th>\n",
       "      <td>24</td>\n",
       "      <td>1</td>\n",
       "      <td>IMDb</td>\n",
       "      <td>2019-07-01</td>\n",
       "      <td>97.4</td>\n",
       "      <td>1.4</td>\n",
       "      <td>0.01</td>\n",
       "      <td>97.4</td>\n",
       "      <td>97.40</td>\n",
       "      <td>Accuracy</td>\n",
       "      <td>IMDb, Accuracy</td>\n",
       "    </tr>\n",
       "  </tbody>\n",
       "</table>\n",
       "<p>78 rows × 11 columns</p>\n",
       "</div>"
      ],
      "text/plain": [
       "    index ds_count                           ds       date  value   gain  \\\n",
       "0       0        1                         FiQA 2019-08-01   0.07   0.07   \n",
       "1       0        1                         FiQA 2019-08-01   0.55   0.55   \n",
       "2       2        1        SemEval 2017 Task 4-A 2019-08-01   0.61   0.61   \n",
       "3       0        1                         ASTD 2019-08-01   0.62   0.62   \n",
       "4       0        1                      SemEval 2017-04-01  0.685  0.685   \n",
       "..    ...      ...                          ...        ...    ...    ...   \n",
       "73     14        1  SST-2 Binary classification 2019-06-01   97.0    1.4   \n",
       "74     15        1  SST-2 Binary classification 2019-09-01   97.1    0.1   \n",
       "75     30        1       Amazon Review Polarity 2019-04-01  97.37    0.7   \n",
       "76     16        1  SST-2 Binary classification 2019-10-01   97.4    0.3   \n",
       "77     24        1                         IMDb 2019-07-01   97.4    1.4   \n",
       "\n",
       "   ratio  total  percent      metricName  \\\n",
       "0    1.0   0.07     0.07             MSE   \n",
       "1    1.0   0.55     0.55             R^2   \n",
       "2    1.0   0.61     0.61  Average Recall   \n",
       "3    1.0   0.62     0.62  Average Recall   \n",
       "4    1.0  0.685     0.68        F1-score   \n",
       "..   ...    ...      ...             ...   \n",
       "73  0.01   97.4    97.00        Accuracy   \n",
       "74   0.0   97.4    97.10        Accuracy   \n",
       "75  0.01  97.37    97.37        Accuracy   \n",
       "76   0.0   97.4    97.40        Accuracy   \n",
       "77  0.01   97.4    97.40        Accuracy   \n",
       "\n",
       "                                unique_ds  \n",
       "0                               FiQA, MSE  \n",
       "1                               FiQA, R^2  \n",
       "2   SemEval 2017 Task 4-A, Average Recall  \n",
       "3                    ASTD, Average Recall  \n",
       "4                       SemEval, F1-score  \n",
       "..                                    ...  \n",
       "73  SST-2 Binary classification, Accuracy  \n",
       "74  SST-2 Binary classification, Accuracy  \n",
       "75       Amazon Review Polarity, Accuracy  \n",
       "76  SST-2 Binary classification, Accuracy  \n",
       "77                         IMDb, Accuracy  \n",
       "\n",
       "[78 rows x 11 columns]"
      ]
     },
     "execution_count": 39,
     "metadata": {},
     "output_type": "execute_result"
    }
   ],
   "source": [
    "#copy the global data frame to facilitate reuse the plots below from the other notebooks\n",
    "ratio_df = get_ratio_df_all_per_global.copy()\n",
    "\n",
    "ratio_df['unique_ds']=ratio_df['ds'].astype(str)+', '+ratio_df['metricName']\n",
    "\n",
    "\n",
    "\n",
    "#ratio_df = ratio_df[ratio_df[\"metricName\"]==\"Accuracy\"]\n",
    "\n",
    "ratio_df[\"percent\"]=round((ratio_df[\"value\"].astype(float)/max(ratio_df[\"percent\"].astype(float)))*100,2)\n",
    "\n",
    "ratio_df = ratio_df.reset_index()\n",
    "\n",
    "ratio_df[\"date\"]=pd.to_datetime(ratio_df['date'])\n",
    "\n",
    "\n",
    "#ratio_df[\"date\"]=ratio_df[\"date\"].strftime('%Y-%m')\n",
    "\n",
    "ratio_df"
   ]
  },
  {
   "cell_type": "code",
   "execution_count": 40,
   "metadata": {
    "scrolled": true
   },
   "outputs": [
    {
     "name": "stdout",
     "output_type": "stream",
     "text": [
      "2019-08-01 00:00:00\n",
      "2019-08-01 00:00:00\n",
      "2019-08-01 00:00:00\n",
      "2019-08-01 00:00:00\n",
      "2017-04-01 00:00:00\n",
      "2019-08-01 00:00:00\n",
      "2015-09-01 00:00:00\n",
      "2015-09-01 00:00:00\n",
      "2013-10-01 00:00:00\n",
      "2019-01-01 00:00:00\n",
      "2014-06-01 00:00:00\n",
      "2015-02-01 00:00:00\n",
      "2017-08-01 00:00:00\n",
      "2018-02-01 00:00:00\n",
      "2019-10-01 00:00:00\n",
      "2016-07-01 00:00:00\n",
      "2017-07-01 00:00:00\n",
      "2019-04-01 00:00:00\n",
      "2015-05-01 00:00:00\n",
      "2015-11-01 00:00:00\n",
      "2019-02-01 00:00:00\n",
      "2018-04-01 00:00:00\n",
      "2015-05-01 00:00:00\n",
      "2015-05-01 00:00:00\n",
      "2015-11-01 00:00:00\n",
      "2015-05-01 00:00:00\n",
      "2018-04-01 00:00:00\n",
      "2017-02-01 00:00:00\n",
      "2015-11-01 00:00:00\n",
      "2017-02-01 00:00:00\n",
      "2018-04-01 00:00:00\n",
      "2015-11-01 00:00:00\n",
      "2015-05-01 00:00:00\n",
      "2018-10-01 00:00:00\n",
      "2018-10-01 00:00:00\n",
      "2018-04-01 00:00:00\n",
      "2015-11-01 00:00:00\n",
      "2018-10-01 00:00:00\n",
      "2018-02-01 00:00:00\n",
      "2017-02-01 00:00:00\n",
      "2019-08-01 00:00:00\n",
      "2013-10-01 00:00:00\n",
      "2018-10-01 00:00:00\n",
      "2019-08-01 00:00:00\n",
      "2018-05-01 00:00:00\n",
      "2014-08-01 00:00:00\n",
      "2018-03-01 00:00:00\n",
      "2015-06-01 00:00:00\n",
      "2018-05-01 00:00:00\n",
      "2016-03-01 00:00:00\n",
      "2016-07-01 00:00:00\n",
      "2019-05-01 00:00:00\n",
      "2017-04-01 00:00:00\n",
      "2017-12-01 00:00:00\n",
      "2014-12-01 00:00:00\n",
      "2012-06-01 00:00:00\n",
      "2017-12-01 00:00:00\n",
      "2020-02-01 00:00:00\n",
      "2016-02-01 00:00:00\n",
      "2020-01-01 00:00:00\n",
      "2020-01-01 00:00:00\n",
      "2016-07-01 00:00:00\n",
      "2017-12-01 00:00:00\n",
      "2018-01-01 00:00:00\n",
      "2019-01-01 00:00:00\n",
      "2019-02-01 00:00:00\n",
      "2019-06-01 00:00:00\n",
      "2019-04-01 00:00:00\n",
      "2019-06-01 00:00:00\n",
      "2019-06-01 00:00:00\n",
      "2020-02-01 00:00:00\n",
      "2017-07-01 00:00:00\n",
      "2016-07-01 00:00:00\n",
      "2019-06-01 00:00:00\n",
      "2019-09-01 00:00:00\n",
      "2019-04-01 00:00:00\n",
      "2019-10-01 00:00:00\n",
      "2019-07-01 00:00:00\n"
     ]
    },
    {
     "name": "stderr",
     "output_type": "stream",
     "text": [
      "<ipython-input-40-f94d0525c35c>:4: SettingWithCopyWarning:\n",
      "\n",
      "\n",
      "A value is trying to be set on a copy of a slice from a DataFrame\n",
      "\n",
      "See the caveats in the documentation: https://pandas.pydata.org/pandas-docs/stable/user_guide/indexing.html#returning-a-view-versus-a-copy\n",
      "\n"
     ]
    }
   ],
   "source": [
    "n=0\n",
    "for i in ratio_df[\"date\"]: \n",
    "    i2=i.strftime('%Y-%m')\n",
    "    ratio_df[\"date\"][n] = i2\n",
    "    print(ratio_df[\"date\"][n])\n",
    "    n=n+1"
   ]
  },
  {
   "cell_type": "code",
   "execution_count": 41,
   "metadata": {},
   "outputs": [],
   "source": [
    "ratio_df = ratio_df.sort_values(by=['value'], ascending=True)"
   ]
  },
  {
   "cell_type": "code",
   "execution_count": 63,
   "metadata": {},
   "outputs": [
    {
     "data": {
      "application/vnd.plotly.v1+json": {
       "config": {
        "plotlyServerURL": "https://plot.ly"
       },
       "data": [
        {
         "hovertemplate": "unique_ds=%{y}<br>date=%{x}<br>value=%{text}<extra></extra>",
         "legendgroup": "FiQA, MSE",
         "marker": {
          "color": "#636efa",
          "symbol": "circle"
         },
         "mode": "markers+text",
         "name": "FiQA, MSE",
         "orientation": "v",
         "showlegend": true,
         "text": [
          "0.07"
         ],
         "textposition": "top center",
         "type": "scatter",
         "x": [
          "2019-08-01T00:00:00"
         ],
         "xaxis": "x",
         "y": [
          "FiQA, MSE"
         ],
         "yaxis": "y"
        },
        {
         "hovertemplate": "unique_ds=%{y}<br>date=%{x}<br>value=%{text}<extra></extra>",
         "legendgroup": "FiQA, R^2",
         "marker": {
          "color": "#EF553B",
          "symbol": "circle"
         },
         "mode": "markers+text",
         "name": "FiQA, R^2",
         "orientation": "v",
         "showlegend": true,
         "text": [
          "0.55"
         ],
         "textposition": "top center",
         "type": "scatter",
         "x": [
          "2019-08-01T00:00:00"
         ],
         "xaxis": "x",
         "y": [
          "FiQA, R^2"
         ],
         "yaxis": "y"
        },
        {
         "hovertemplate": "unique_ds=%{y}<br>date=%{x}<br>value=%{text}<extra></extra>",
         "legendgroup": "SemEval 2017 Task 4-A, Average Recall",
         "marker": {
          "color": "#00cc96",
          "symbol": "circle"
         },
         "mode": "markers+text",
         "name": "SemEval 2017 Task 4-A, Average Recall",
         "orientation": "v",
         "showlegend": true,
         "text": [
          "0.61"
         ],
         "textposition": "top center",
         "type": "scatter",
         "x": [
          "2019-08-01T00:00:00"
         ],
         "xaxis": "x",
         "y": [
          "SemEval 2017 Task 4-A, Average Recall"
         ],
         "yaxis": "y"
        },
        {
         "hovertemplate": "unique_ds=%{y}<br>date=%{x}<br>value=%{text}<extra></extra>",
         "legendgroup": "ASTD, Average Recall",
         "marker": {
          "color": "#ab63fa",
          "symbol": "circle"
         },
         "mode": "markers+text",
         "name": "ASTD, Average Recall",
         "orientation": "v",
         "showlegend": true,
         "text": [
          "0.62"
         ],
         "textposition": "top center",
         "type": "scatter",
         "x": [
          "2019-08-01T00:00:00"
         ],
         "xaxis": "x",
         "y": [
          "ASTD, Average Recall"
         ],
         "yaxis": "y"
        },
        {
         "hovertemplate": "unique_ds=%{y}<br>date=%{x}<br>value=%{text}<extra></extra>",
         "legendgroup": "SemEval, F1-score",
         "marker": {
          "color": "#FFA15A",
          "symbol": "circle"
         },
         "mode": "markers+text",
         "name": "SemEval, F1-score",
         "orientation": "v",
         "showlegend": true,
         "text": [
          "0.685"
         ],
         "textposition": "top center",
         "type": "scatter",
         "x": [
          "2017-04-01T00:00:00"
         ],
         "xaxis": "x",
         "y": [
          "SemEval, F1-score"
         ],
         "yaxis": "y"
        },
        {
         "hovertemplate": "unique_ds=%{y}<br>date=%{x}<br>value=%{text}<extra></extra>",
         "legendgroup": "ArSAS, Average Recall",
         "marker": {
          "color": "#19d3f3",
          "symbol": "circle"
         },
         "mode": "markers+text",
         "name": "ArSAS, Average Recall",
         "orientation": "v",
         "showlegend": true,
         "text": [
          "0.9"
         ],
         "textposition": "top center",
         "type": "scatter",
         "x": [
          "2019-08-01T00:00:00"
         ],
         "xaxis": "x",
         "y": [
          "ArSAS, Average Recall"
         ],
         "yaxis": "y"
        },
        {
         "hovertemplate": "unique_ds=%{y}<br>date=%{x}<br>value=%{text}<extra></extra>",
         "legendgroup": "Yelp Fine-grained classification, Error",
         "marker": {
          "color": "#FF6692",
          "symbol": "circle"
         },
         "mode": "markers+text",
         "name": "Yelp Fine-grained classification, Error",
         "orientation": "v",
         "showlegend": true,
         "text": [
          "37.95",
          "46.8"
         ],
         "textposition": "top center",
         "type": "scatter",
         "x": [
          "2015-09-01T00:00:00",
          "2019-01-01T00:00:00"
         ],
         "xaxis": "x",
         "y": [
          "Yelp Fine-grained classification, Error",
          "Yelp Fine-grained classification, Error"
         ],
         "yaxis": "y"
        },
        {
         "hovertemplate": "unique_ds=%{y}<br>date=%{x}<br>value=%{text}<extra></extra>",
         "legendgroup": "Yelp Binary classification, Error",
         "marker": {
          "color": "#B6E880",
          "symbol": "circle"
         },
         "mode": "markers+text",
         "name": "Yelp Binary classification, Error",
         "orientation": "v",
         "showlegend": true,
         "text": [
          "4.88"
         ],
         "textposition": "top center",
         "type": "scatter",
         "x": [
          "2015-09-01T00:00:00"
         ],
         "xaxis": "x",
         "y": [
          "Yelp Binary classification, Error"
         ],
         "yaxis": "y"
        },
        {
         "hovertemplate": "unique_ds=%{y}<br>date=%{x}<br>value=%{text}<extra></extra>",
         "legendgroup": "SST-5 Fine-grained classification, Accuracy",
         "marker": {
          "color": "#FF97FF",
          "symbol": "circle"
         },
         "mode": "markers+text",
         "name": "SST-5 Fine-grained classification, Accuracy",
         "orientation": "v",
         "showlegend": true,
         "text": [
          "45.7",
          "49.6",
          "51.0",
          "53.7",
          "54.7",
          "55.5"
         ],
         "textposition": "top center",
         "type": "scatter",
         "x": [
          "2013-10-01T00:00:00",
          "2014-06-01T00:00:00",
          "2015-02-01T00:00:00",
          "2017-08-01T00:00:00",
          "2018-02-01T00:00:00",
          "2019-10-01T00:00:00"
         ],
         "xaxis": "x",
         "y": [
          "SST-5 Fine-grained classification, Accuracy",
          "SST-5 Fine-grained classification, Accuracy",
          "SST-5 Fine-grained classification, Accuracy",
          "SST-5 Fine-grained classification, Accuracy",
          "SST-5 Fine-grained classification, Accuracy",
          "SST-5 Fine-grained classification, Accuracy"
         ],
         "yaxis": "y"
        },
        {
         "hovertemplate": "unique_ds=%{y}<br>date=%{x}<br>value=%{text}<extra></extra>",
         "legendgroup": "Amazon Review Full, Accuracy",
         "marker": {
          "color": "#FECB52",
          "symbol": "circle"
         },
         "mode": "markers+text",
         "name": "Amazon Review Full, Accuracy",
         "orientation": "v",
         "showlegend": true,
         "text": [
          "60.2",
          "65.19",
          "65.83"
         ],
         "textposition": "top center",
         "type": "scatter",
         "x": [
          "2016-07-01T00:00:00",
          "2017-07-01T00:00:00",
          "2019-04-01T00:00:00"
         ],
         "xaxis": "x",
         "y": [
          "Amazon Review Full, Accuracy",
          "Amazon Review Full, Accuracy",
          "Amazon Review Full, Accuracy"
         ],
         "yaxis": "y"
        },
        {
         "hovertemplate": "unique_ds=%{y}<br>date=%{x}<br>value=%{text}<extra></extra>",
         "legendgroup": "Multi-Domain Sentiment Dataset, Books",
         "marker": {
          "color": "#636efa",
          "symbol": "circle"
         },
         "mode": "markers+text",
         "name": "Multi-Domain Sentiment Dataset, Books",
         "orientation": "v",
         "showlegend": true,
         "text": [
          "71.43",
          "73.4",
          "74.86",
          "81.4"
         ],
         "textposition": "top center",
         "type": "scatter",
         "x": [
          "2015-05-01T00:00:00",
          "2015-11-01T00:00:00",
          "2018-04-01T00:00:00",
          "2018-10-01T00:00:00"
         ],
         "xaxis": "x",
         "y": [
          "Multi-Domain Sentiment Dataset, Books",
          "Multi-Domain Sentiment Dataset, Books",
          "Multi-Domain Sentiment Dataset, Books",
          "Multi-Domain Sentiment Dataset, Books"
         ],
         "yaxis": "y"
        },
        {
         "hovertemplate": "unique_ds=%{y}<br>date=%{x}<br>value=%{text}<extra></extra>",
         "legendgroup": "Twitter, Accuracy",
         "marker": {
          "color": "#EF553B",
          "symbol": "circle"
         },
         "mode": "markers+text",
         "name": "Twitter, Accuracy",
         "orientation": "v",
         "showlegend": true,
         "text": [
          "74.71"
         ],
         "textposition": "top center",
         "type": "scatter",
         "x": [
          "2019-02-01T00:00:00"
         ],
         "xaxis": "x",
         "y": [
          "Twitter, Accuracy"
         ],
         "yaxis": "y"
        },
        {
         "hovertemplate": "unique_ds=%{y}<br>date=%{x}<br>value=%{text}<extra></extra>",
         "legendgroup": "Multi-Domain Sentiment Dataset, DVD",
         "marker": {
          "color": "#00cc96",
          "symbol": "circle"
         },
         "mode": "markers+text",
         "name": "Multi-Domain Sentiment Dataset, DVD",
         "orientation": "v",
         "showlegend": true,
         "text": [
          "75.4",
          "76.57",
          "78.14",
          "81.0"
         ],
         "textposition": "top center",
         "type": "scatter",
         "x": [
          "2015-05-01T00:00:00",
          "2015-11-01T00:00:00",
          "2018-04-01T00:00:00",
          "2018-10-01T00:00:00"
         ],
         "xaxis": "x",
         "y": [
          "Multi-Domain Sentiment Dataset, DVD",
          "Multi-Domain Sentiment Dataset, DVD",
          "Multi-Domain Sentiment Dataset, DVD",
          "Multi-Domain Sentiment Dataset, DVD"
         ],
         "yaxis": "y"
        },
        {
         "hovertemplate": "unique_ds=%{y}<br>date=%{x}<br>value=%{text}<extra></extra>",
         "legendgroup": "Multi-Domain Sentiment Dataset, Average",
         "marker": {
          "color": "#ab63fa",
          "symbol": "circle"
         },
         "mode": "markers+text",
         "name": "Multi-Domain Sentiment Dataset, Average",
         "orientation": "v",
         "showlegend": true,
         "text": [
          "76.26",
          "78.36",
          "78.39",
          "79.15",
          "83.3"
         ],
         "textposition": "top center",
         "type": "scatter",
         "x": [
          "2015-05-01T00:00:00",
          "2015-11-01T00:00:00",
          "2017-02-01T00:00:00",
          "2018-04-01T00:00:00",
          "2018-10-01T00:00:00"
         ],
         "xaxis": "x",
         "y": [
          "Multi-Domain Sentiment Dataset, Average",
          "Multi-Domain Sentiment Dataset, Average",
          "Multi-Domain Sentiment Dataset, Average",
          "Multi-Domain Sentiment Dataset, Average",
          "Multi-Domain Sentiment Dataset, Average"
         ],
         "yaxis": "y"
        },
        {
         "hovertemplate": "unique_ds=%{y}<br>date=%{x}<br>value=%{text}<extra></extra>",
         "legendgroup": "Multi-Domain Sentiment Dataset, Electronics",
         "marker": {
          "color": "#FFA15A",
          "symbol": "circle"
         },
         "mode": "markers+text",
         "name": "Multi-Domain Sentiment Dataset, Electronics",
         "orientation": "v",
         "showlegend": true,
         "text": [
          "77.67",
          "80.53",
          "81.45"
         ],
         "textposition": "top center",
         "type": "scatter",
         "x": [
          "2015-05-01T00:00:00",
          "2015-11-01T00:00:00",
          "2018-04-01T00:00:00"
         ],
         "xaxis": "x",
         "y": [
          "Multi-Domain Sentiment Dataset, Electronics",
          "Multi-Domain Sentiment Dataset, Electronics",
          "Multi-Domain Sentiment Dataset, Electronics"
         ],
         "yaxis": "y"
        },
        {
         "hovertemplate": "unique_ds=%{y}<br>date=%{x}<br>value=%{text}<extra></extra>",
         "legendgroup": "MR, Accuracy",
         "marker": {
          "color": "#19d3f3",
          "symbol": "circle"
         },
         "mode": "markers+text",
         "name": "MR, Accuracy",
         "orientation": "v",
         "showlegend": true,
         "text": [
          "78.26",
          "83.8",
          "86.8"
         ],
         "textposition": "top center",
         "type": "scatter",
         "x": [
          "2017-02-01T00:00:00",
          "2018-02-01T00:00:00",
          "2018-05-01T00:00:00"
         ],
         "xaxis": "x",
         "y": [
          "MR, Accuracy",
          "MR, Accuracy",
          "MR, Accuracy"
         ],
         "yaxis": "y"
        },
        {
         "hovertemplate": "unique_ds=%{y}<br>date=%{x}<br>value=%{text}<extra></extra>",
         "legendgroup": "Multi-Domain Sentiment Dataset, Kitchen",
         "marker": {
          "color": "#FF6692",
          "symbol": "circle"
         },
         "mode": "markers+text",
         "name": "Multi-Domain Sentiment Dataset, Kitchen",
         "orientation": "v",
         "showlegend": true,
         "text": [
          "80.53",
          "82.93",
          "83.97",
          "85.9"
         ],
         "textposition": "top center",
         "type": "scatter",
         "x": [
          "2015-05-01T00:00:00",
          "2015-11-01T00:00:00",
          "2017-02-01T00:00:00",
          "2018-10-01T00:00:00"
         ],
         "xaxis": "x",
         "y": [
          "Multi-Domain Sentiment Dataset, Kitchen",
          "Multi-Domain Sentiment Dataset, Kitchen",
          "Multi-Domain Sentiment Dataset, Kitchen",
          "Multi-Domain Sentiment Dataset, Kitchen"
         ],
         "yaxis": "y"
        },
        {
         "hovertemplate": "unique_ds=%{y}<br>date=%{x}<br>value=%{text}<extra></extra>",
         "legendgroup": "Financial PhraseBank, F1 score",
         "marker": {
          "color": "#B6E880",
          "symbol": "circle"
         },
         "mode": "markers+text",
         "name": "Financial PhraseBank, F1 score",
         "orientation": "v",
         "showlegend": true,
         "text": [
          "84"
         ],
         "textposition": "top center",
         "type": "scatter",
         "x": [
          "2019-08-01T00:00:00"
         ],
         "xaxis": "x",
         "y": [
          "Financial PhraseBank, F1 score"
         ],
         "yaxis": "y"
        },
        {
         "hovertemplate": "unique_ds=%{y}<br>date=%{x}<br>value=%{text}<extra></extra>",
         "legendgroup": "SST-2 Binary classification, Accuracy",
         "marker": {
          "color": "#FF97FF",
          "symbol": "circle"
         },
         "mode": "markers+text",
         "name": "SST-2 Binary classification, Accuracy",
         "orientation": "v",
         "showlegend": true,
         "text": [
          "85.4",
          "88.1",
          "88.6",
          "89.3",
          "89.7",
          "91.8",
          "93.2",
          "95.6",
          "97.0",
          "97.1",
          "97.4"
         ],
         "textposition": "top center",
         "type": "scatter",
         "x": [
          "2013-10-01T00:00:00",
          "2014-08-01T00:00:00",
          "2015-06-01T00:00:00",
          "2016-03-01T00:00:00",
          "2016-07-01T00:00:00",
          "2017-04-01T00:00:00",
          "2017-12-01T00:00:00",
          "2019-01-01T00:00:00",
          "2019-06-01T00:00:00",
          "2019-09-01T00:00:00",
          "2019-10-01T00:00:00"
         ],
         "xaxis": "x",
         "y": [
          "SST-2 Binary classification, Accuracy",
          "SST-2 Binary classification, Accuracy",
          "SST-2 Binary classification, Accuracy",
          "SST-2 Binary classification, Accuracy",
          "SST-2 Binary classification, Accuracy",
          "SST-2 Binary classification, Accuracy",
          "SST-2 Binary classification, Accuracy",
          "SST-2 Binary classification, Accuracy",
          "SST-2 Binary classification, Accuracy",
          "SST-2 Binary classification, Accuracy",
          "SST-2 Binary classification, Accuracy"
         ],
         "yaxis": "y"
        },
        {
         "hovertemplate": "unique_ds=%{y}<br>date=%{x}<br>value=%{text}<extra></extra>",
         "legendgroup": "Financial PhraseBank, Accuracy",
         "marker": {
          "color": "#FECB52",
          "symbol": "circle"
         },
         "mode": "markers+text",
         "name": "Financial PhraseBank, Accuracy",
         "orientation": "v",
         "showlegend": true,
         "text": [
          "86"
         ],
         "textposition": "top center",
         "type": "scatter",
         "x": [
          "2019-08-01T00:00:00"
         ],
         "xaxis": "x",
         "y": [
          "Financial PhraseBank, Accuracy"
         ],
         "yaxis": "y"
        },
        {
         "hovertemplate": "unique_ds=%{y}<br>date=%{x}<br>value=%{text}<extra></extra>",
         "legendgroup": "MPQA, Accuracy",
         "marker": {
          "color": "#636efa",
          "symbol": "circle"
         },
         "mode": "markers+text",
         "name": "MPQA, Accuracy",
         "orientation": "v",
         "showlegend": true,
         "text": [
          "88.14",
          "88.8",
          "89.83"
         ],
         "textposition": "top center",
         "type": "scatter",
         "x": [
          "2018-03-01T00:00:00",
          "2018-05-01T00:00:00",
          "2019-05-01T00:00:00"
         ],
         "xaxis": "x",
         "y": [
          "MPQA, Accuracy",
          "MPQA, Accuracy",
          "MPQA, Accuracy"
         ],
         "yaxis": "y"
        },
        {
         "hovertemplate": "unique_ds=%{y}<br>date=%{x}<br>value=%{text}<extra></extra>",
         "legendgroup": "CR, Accuracy",
         "marker": {
          "color": "#EF553B",
          "symbol": "circle"
         },
         "mode": "markers+text",
         "name": "CR, Accuracy",
         "orientation": "v",
         "showlegend": true,
         "text": [
          "92.2"
         ],
         "textposition": "top center",
         "type": "scatter",
         "x": [
          "2017-12-01T00:00:00"
         ],
         "xaxis": "x",
         "y": [
          "CR, Accuracy"
         ],
         "yaxis": "y"
        },
        {
         "hovertemplate": "unique_ds=%{y}<br>date=%{x}<br>value=%{text}<extra></extra>",
         "legendgroup": "IMDb, Accuracy",
         "marker": {
          "color": "#00cc96",
          "symbol": "circle"
         },
         "mode": "markers+text",
         "name": "IMDb, Accuracy",
         "orientation": "v",
         "showlegend": true,
         "text": [
          "92.33",
          "94.1",
          "94.99",
          "95.4",
          "95.68",
          "95.8",
          "96.0",
          "97.4"
         ],
         "textposition": "top center",
         "type": "scatter",
         "x": [
          "2014-12-01T00:00:00",
          "2016-02-01T00:00:00",
          "2017-12-01T00:00:00",
          "2018-01-01T00:00:00",
          "2019-02-01T00:00:00",
          "2019-04-01T00:00:00",
          "2019-06-01T00:00:00",
          "2019-07-01T00:00:00"
         ],
         "xaxis": "x",
         "y": [
          "IMDb, Accuracy",
          "IMDb, Accuracy",
          "IMDb, Accuracy",
          "IMDb, Accuracy",
          "IMDb, Accuracy",
          "IMDb, Accuracy",
          "IMDb, Accuracy",
          "IMDb, Accuracy"
         ],
         "yaxis": "y"
        },
        {
         "hovertemplate": "unique_ds=%{y}<br>date=%{x}<br>value=%{text}<extra></extra>",
         "legendgroup": "1B Words, 1 in 10 R-at-1",
         "marker": {
          "color": "#ab63fa",
          "symbol": "circle"
         },
         "mode": "markers+text",
         "name": "1B Words, 1 in 10 R-at-1",
         "orientation": "v",
         "showlegend": true,
         "text": [
          "93"
         ],
         "textposition": "top center",
         "type": "scatter",
         "x": [
          "2012-06-01T00:00:00"
         ],
         "xaxis": "x",
         "y": [
          "1B Words, 1 in 10 R-at-1"
         ],
         "yaxis": "y"
        },
        {
         "hovertemplate": "unique_ds=%{y}<br>date=%{x}<br>value=%{text}<extra></extra>",
         "legendgroup": "AJGT, Accuracy",
         "marker": {
          "color": "#FFA15A",
          "symbol": "circle"
         },
         "mode": "markers+text",
         "name": "AJGT, Accuracy",
         "orientation": "v",
         "showlegend": true,
         "text": [
          "93.8"
         ],
         "textposition": "top center",
         "type": "scatter",
         "x": [
          "2020-02-01T00:00:00"
         ],
         "xaxis": "x",
         "y": [
          "AJGT, Accuracy"
         ],
         "yaxis": "y"
        },
        {
         "hovertemplate": "unique_ds=%{y}<br>date=%{x}<br>value=%{text}<extra></extra>",
         "legendgroup": "DBRD, Accuracy",
         "marker": {
          "color": "#19d3f3",
          "symbol": "circle"
         },
         "mode": "markers+text",
         "name": "DBRD, Accuracy",
         "orientation": "v",
         "showlegend": true,
         "text": [
          "94.422"
         ],
         "textposition": "top center",
         "type": "scatter",
         "x": [
          "2020-01-01T00:00:00"
         ],
         "xaxis": "x",
         "y": [
          "DBRD, Accuracy"
         ],
         "yaxis": "y"
        },
        {
         "hovertemplate": "unique_ds=%{y}<br>date=%{x}<br>value=%{text}<extra></extra>",
         "legendgroup": "DBRD, F1",
         "marker": {
          "color": "#FF6692",
          "symbol": "circle"
         },
         "mode": "markers+text",
         "name": "DBRD, F1",
         "orientation": "v",
         "showlegend": true,
         "text": [
          "94.422"
         ],
         "textposition": "top center",
         "type": "scatter",
         "x": [
          "2020-01-01T00:00:00"
         ],
         "xaxis": "x",
         "y": [
          "DBRD, F1"
         ],
         "yaxis": "y"
        },
        {
         "hovertemplate": "unique_ds=%{y}<br>date=%{x}<br>value=%{text}<extra></extra>",
         "legendgroup": "Amazon Review Polarity, Accuracy",
         "marker": {
          "color": "#B6E880",
          "symbol": "circle"
         },
         "mode": "markers+text",
         "name": "Amazon Review Polarity, Accuracy",
         "orientation": "v",
         "showlegend": true,
         "text": [
          "94.6",
          "96.68",
          "97.37"
         ],
         "textposition": "top center",
         "type": "scatter",
         "x": [
          "2016-07-01T00:00:00",
          "2017-07-01T00:00:00",
          "2019-04-01T00:00:00"
         ],
         "xaxis": "x",
         "y": [
          "Amazon Review Polarity, Accuracy",
          "Amazon Review Polarity, Accuracy",
          "Amazon Review Polarity, Accuracy"
         ],
         "yaxis": "y"
        },
        {
         "hovertemplate": "unique_ds=%{y}<br>date=%{x}<br>value=%{text}<extra></extra>",
         "legendgroup": "ChnSentiCorp, F1",
         "marker": {
          "color": "#FF97FF",
          "symbol": "circle"
         },
         "mode": "markers+text",
         "name": "ChnSentiCorp, F1",
         "orientation": "v",
         "showlegend": true,
         "text": [
          "95.8"
         ],
         "textposition": "top center",
         "type": "scatter",
         "x": [
          "2019-06-01T00:00:00"
         ],
         "xaxis": "x",
         "y": [
          "ChnSentiCorp, F1"
         ],
         "yaxis": "y"
        },
        {
         "hovertemplate": "unique_ds=%{y}<br>date=%{x}<br>value=%{text}<extra></extra>",
         "legendgroup": "ChnSentiCorp Dev, F1",
         "marker": {
          "color": "#FECB52",
          "symbol": "circle"
         },
         "mode": "markers+text",
         "name": "ChnSentiCorp Dev, F1",
         "orientation": "v",
         "showlegend": true,
         "text": [
          "95.8"
         ],
         "textposition": "top center",
         "type": "scatter",
         "x": [
          "2019-06-01T00:00:00"
         ],
         "xaxis": "x",
         "y": [
          "ChnSentiCorp Dev, F1"
         ],
         "yaxis": "y"
        },
        {
         "hovertemplate": "unique_ds=%{y}<br>date=%{x}<br>value=%{text}<extra></extra>",
         "legendgroup": "HARD, Accuracy",
         "marker": {
          "color": "#636efa",
          "symbol": "circle"
         },
         "mode": "markers+text",
         "name": "HARD, Accuracy",
         "orientation": "v",
         "showlegend": true,
         "text": [
          "96.1"
         ],
         "textposition": "top center",
         "type": "scatter",
         "x": [
          "2020-02-01T00:00:00"
         ],
         "xaxis": "x",
         "y": [
          "HARD, Accuracy"
         ],
         "yaxis": "y"
        },
        {
         "hovertemplate": "unique_ds=%{y}<br>date=%{x}<br>value=%{text}<extra></extra>",
         "legendgroup": "Sogou News, Accuracy",
         "marker": {
          "color": "#EF553B",
          "symbol": "circle"
         },
         "mode": "markers+text",
         "name": "Sogou News, Accuracy",
         "orientation": "v",
         "showlegend": true,
         "text": [
          "96.8"
         ],
         "textposition": "top center",
         "type": "scatter",
         "x": [
          "2016-07-01T00:00:00"
         ],
         "xaxis": "x",
         "y": [
          "Sogou News, Accuracy"
         ],
         "yaxis": "y"
        },
        {
         "hovertemplate": "unique_ds=%{y}<br>date=%{x}<extra></extra>",
         "legendgroup": "FiQA, MSE",
         "line": {
          "color": "#636efa",
          "dash": "solid"
         },
         "mode": "lines",
         "name": "FiQA, MSE",
         "orientation": "v",
         "showlegend": true,
         "textposition": "top center",
         "type": "scatter",
         "x": [
          "2019-08-01T00:00:00"
         ],
         "xaxis": "x",
         "y": [
          "FiQA, MSE"
         ],
         "yaxis": "y"
        },
        {
         "hovertemplate": "unique_ds=%{y}<br>date=%{x}<extra></extra>",
         "legendgroup": "FiQA, R^2",
         "line": {
          "color": "#EF553B",
          "dash": "solid"
         },
         "mode": "lines",
         "name": "FiQA, R^2",
         "orientation": "v",
         "showlegend": true,
         "textposition": "top center",
         "type": "scatter",
         "x": [
          "2019-08-01T00:00:00"
         ],
         "xaxis": "x",
         "y": [
          "FiQA, R^2"
         ],
         "yaxis": "y"
        },
        {
         "hovertemplate": "unique_ds=%{y}<br>date=%{x}<extra></extra>",
         "legendgroup": "SemEval 2017 Task 4-A, Average Recall",
         "line": {
          "color": "#00cc96",
          "dash": "solid"
         },
         "mode": "lines",
         "name": "SemEval 2017 Task 4-A, Average Recall",
         "orientation": "v",
         "showlegend": true,
         "textposition": "top center",
         "type": "scatter",
         "x": [
          "2019-08-01T00:00:00"
         ],
         "xaxis": "x",
         "y": [
          "SemEval 2017 Task 4-A, Average Recall"
         ],
         "yaxis": "y"
        },
        {
         "hovertemplate": "unique_ds=%{y}<br>date=%{x}<extra></extra>",
         "legendgroup": "ASTD, Average Recall",
         "line": {
          "color": "#ab63fa",
          "dash": "solid"
         },
         "mode": "lines",
         "name": "ASTD, Average Recall",
         "orientation": "v",
         "showlegend": true,
         "textposition": "top center",
         "type": "scatter",
         "x": [
          "2019-08-01T00:00:00"
         ],
         "xaxis": "x",
         "y": [
          "ASTD, Average Recall"
         ],
         "yaxis": "y"
        },
        {
         "hovertemplate": "unique_ds=%{y}<br>date=%{x}<extra></extra>",
         "legendgroup": "SemEval, F1-score",
         "line": {
          "color": "#FFA15A",
          "dash": "solid"
         },
         "mode": "lines",
         "name": "SemEval, F1-score",
         "orientation": "v",
         "showlegend": true,
         "textposition": "top center",
         "type": "scatter",
         "x": [
          "2017-04-01T00:00:00"
         ],
         "xaxis": "x",
         "y": [
          "SemEval, F1-score"
         ],
         "yaxis": "y"
        },
        {
         "hovertemplate": "unique_ds=%{y}<br>date=%{x}<extra></extra>",
         "legendgroup": "ArSAS, Average Recall",
         "line": {
          "color": "#19d3f3",
          "dash": "solid"
         },
         "mode": "lines",
         "name": "ArSAS, Average Recall",
         "orientation": "v",
         "showlegend": true,
         "textposition": "top center",
         "type": "scatter",
         "x": [
          "2019-08-01T00:00:00"
         ],
         "xaxis": "x",
         "y": [
          "ArSAS, Average Recall"
         ],
         "yaxis": "y"
        },
        {
         "hovertemplate": "unique_ds=%{y}<br>date=%{x}<extra></extra>",
         "legendgroup": "Yelp Fine-grained classification, Error",
         "line": {
          "color": "#FF6692",
          "dash": "solid"
         },
         "mode": "lines",
         "name": "Yelp Fine-grained classification, Error",
         "orientation": "v",
         "showlegend": true,
         "textposition": "top center",
         "type": "scatter",
         "x": [
          "2015-09-01T00:00:00",
          "2019-01-01T00:00:00"
         ],
         "xaxis": "x",
         "y": [
          "Yelp Fine-grained classification, Error",
          "Yelp Fine-grained classification, Error"
         ],
         "yaxis": "y"
        },
        {
         "hovertemplate": "unique_ds=%{y}<br>date=%{x}<extra></extra>",
         "legendgroup": "Yelp Binary classification, Error",
         "line": {
          "color": "#B6E880",
          "dash": "solid"
         },
         "mode": "lines",
         "name": "Yelp Binary classification, Error",
         "orientation": "v",
         "showlegend": true,
         "textposition": "top center",
         "type": "scatter",
         "x": [
          "2015-09-01T00:00:00"
         ],
         "xaxis": "x",
         "y": [
          "Yelp Binary classification, Error"
         ],
         "yaxis": "y"
        },
        {
         "hovertemplate": "unique_ds=%{y}<br>date=%{x}<extra></extra>",
         "legendgroup": "SST-5 Fine-grained classification, Accuracy",
         "line": {
          "color": "#FF97FF",
          "dash": "solid"
         },
         "mode": "lines",
         "name": "SST-5 Fine-grained classification, Accuracy",
         "orientation": "v",
         "showlegend": true,
         "textposition": "top center",
         "type": "scatter",
         "x": [
          "2013-10-01T00:00:00",
          "2014-06-01T00:00:00",
          "2015-02-01T00:00:00",
          "2017-08-01T00:00:00",
          "2018-02-01T00:00:00",
          "2019-10-01T00:00:00"
         ],
         "xaxis": "x",
         "y": [
          "SST-5 Fine-grained classification, Accuracy",
          "SST-5 Fine-grained classification, Accuracy",
          "SST-5 Fine-grained classification, Accuracy",
          "SST-5 Fine-grained classification, Accuracy",
          "SST-5 Fine-grained classification, Accuracy",
          "SST-5 Fine-grained classification, Accuracy"
         ],
         "yaxis": "y"
        },
        {
         "hovertemplate": "unique_ds=%{y}<br>date=%{x}<extra></extra>",
         "legendgroup": "Amazon Review Full, Accuracy",
         "line": {
          "color": "#FECB52",
          "dash": "solid"
         },
         "mode": "lines",
         "name": "Amazon Review Full, Accuracy",
         "orientation": "v",
         "showlegend": true,
         "textposition": "top center",
         "type": "scatter",
         "x": [
          "2016-07-01T00:00:00",
          "2017-07-01T00:00:00",
          "2019-04-01T00:00:00"
         ],
         "xaxis": "x",
         "y": [
          "Amazon Review Full, Accuracy",
          "Amazon Review Full, Accuracy",
          "Amazon Review Full, Accuracy"
         ],
         "yaxis": "y"
        },
        {
         "hovertemplate": "unique_ds=%{y}<br>date=%{x}<extra></extra>",
         "legendgroup": "Multi-Domain Sentiment Dataset, Books",
         "line": {
          "color": "#636efa",
          "dash": "solid"
         },
         "mode": "lines",
         "name": "Multi-Domain Sentiment Dataset, Books",
         "orientation": "v",
         "showlegend": true,
         "textposition": "top center",
         "type": "scatter",
         "x": [
          "2015-05-01T00:00:00",
          "2015-11-01T00:00:00",
          "2018-04-01T00:00:00",
          "2018-10-01T00:00:00"
         ],
         "xaxis": "x",
         "y": [
          "Multi-Domain Sentiment Dataset, Books",
          "Multi-Domain Sentiment Dataset, Books",
          "Multi-Domain Sentiment Dataset, Books",
          "Multi-Domain Sentiment Dataset, Books"
         ],
         "yaxis": "y"
        },
        {
         "hovertemplate": "unique_ds=%{y}<br>date=%{x}<extra></extra>",
         "legendgroup": "Twitter, Accuracy",
         "line": {
          "color": "#EF553B",
          "dash": "solid"
         },
         "mode": "lines",
         "name": "Twitter, Accuracy",
         "orientation": "v",
         "showlegend": true,
         "textposition": "top center",
         "type": "scatter",
         "x": [
          "2019-02-01T00:00:00"
         ],
         "xaxis": "x",
         "y": [
          "Twitter, Accuracy"
         ],
         "yaxis": "y"
        },
        {
         "hovertemplate": "unique_ds=%{y}<br>date=%{x}<extra></extra>",
         "legendgroup": "Multi-Domain Sentiment Dataset, DVD",
         "line": {
          "color": "#00cc96",
          "dash": "solid"
         },
         "mode": "lines",
         "name": "Multi-Domain Sentiment Dataset, DVD",
         "orientation": "v",
         "showlegend": true,
         "textposition": "top center",
         "type": "scatter",
         "x": [
          "2015-05-01T00:00:00",
          "2015-11-01T00:00:00",
          "2018-04-01T00:00:00",
          "2018-10-01T00:00:00"
         ],
         "xaxis": "x",
         "y": [
          "Multi-Domain Sentiment Dataset, DVD",
          "Multi-Domain Sentiment Dataset, DVD",
          "Multi-Domain Sentiment Dataset, DVD",
          "Multi-Domain Sentiment Dataset, DVD"
         ],
         "yaxis": "y"
        },
        {
         "hovertemplate": "unique_ds=%{y}<br>date=%{x}<extra></extra>",
         "legendgroup": "Multi-Domain Sentiment Dataset, Average",
         "line": {
          "color": "#ab63fa",
          "dash": "solid"
         },
         "mode": "lines",
         "name": "Multi-Domain Sentiment Dataset, Average",
         "orientation": "v",
         "showlegend": true,
         "textposition": "top center",
         "type": "scatter",
         "x": [
          "2015-05-01T00:00:00",
          "2015-11-01T00:00:00",
          "2017-02-01T00:00:00",
          "2018-04-01T00:00:00",
          "2018-10-01T00:00:00"
         ],
         "xaxis": "x",
         "y": [
          "Multi-Domain Sentiment Dataset, Average",
          "Multi-Domain Sentiment Dataset, Average",
          "Multi-Domain Sentiment Dataset, Average",
          "Multi-Domain Sentiment Dataset, Average",
          "Multi-Domain Sentiment Dataset, Average"
         ],
         "yaxis": "y"
        },
        {
         "hovertemplate": "unique_ds=%{y}<br>date=%{x}<extra></extra>",
         "legendgroup": "Multi-Domain Sentiment Dataset, Electronics",
         "line": {
          "color": "#FFA15A",
          "dash": "solid"
         },
         "mode": "lines",
         "name": "Multi-Domain Sentiment Dataset, Electronics",
         "orientation": "v",
         "showlegend": true,
         "textposition": "top center",
         "type": "scatter",
         "x": [
          "2015-05-01T00:00:00",
          "2015-11-01T00:00:00",
          "2018-04-01T00:00:00"
         ],
         "xaxis": "x",
         "y": [
          "Multi-Domain Sentiment Dataset, Electronics",
          "Multi-Domain Sentiment Dataset, Electronics",
          "Multi-Domain Sentiment Dataset, Electronics"
         ],
         "yaxis": "y"
        },
        {
         "hovertemplate": "unique_ds=%{y}<br>date=%{x}<extra></extra>",
         "legendgroup": "MR, Accuracy",
         "line": {
          "color": "#19d3f3",
          "dash": "solid"
         },
         "mode": "lines",
         "name": "MR, Accuracy",
         "orientation": "v",
         "showlegend": true,
         "textposition": "top center",
         "type": "scatter",
         "x": [
          "2017-02-01T00:00:00",
          "2018-02-01T00:00:00",
          "2018-05-01T00:00:00"
         ],
         "xaxis": "x",
         "y": [
          "MR, Accuracy",
          "MR, Accuracy",
          "MR, Accuracy"
         ],
         "yaxis": "y"
        },
        {
         "hovertemplate": "unique_ds=%{y}<br>date=%{x}<extra></extra>",
         "legendgroup": "Multi-Domain Sentiment Dataset, Kitchen",
         "line": {
          "color": "#FF6692",
          "dash": "solid"
         },
         "mode": "lines",
         "name": "Multi-Domain Sentiment Dataset, Kitchen",
         "orientation": "v",
         "showlegend": true,
         "textposition": "top center",
         "type": "scatter",
         "x": [
          "2015-05-01T00:00:00",
          "2015-11-01T00:00:00",
          "2017-02-01T00:00:00",
          "2018-10-01T00:00:00"
         ],
         "xaxis": "x",
         "y": [
          "Multi-Domain Sentiment Dataset, Kitchen",
          "Multi-Domain Sentiment Dataset, Kitchen",
          "Multi-Domain Sentiment Dataset, Kitchen",
          "Multi-Domain Sentiment Dataset, Kitchen"
         ],
         "yaxis": "y"
        },
        {
         "hovertemplate": "unique_ds=%{y}<br>date=%{x}<extra></extra>",
         "legendgroup": "Financial PhraseBank, F1 score",
         "line": {
          "color": "#B6E880",
          "dash": "solid"
         },
         "mode": "lines",
         "name": "Financial PhraseBank, F1 score",
         "orientation": "v",
         "showlegend": true,
         "textposition": "top center",
         "type": "scatter",
         "x": [
          "2019-08-01T00:00:00"
         ],
         "xaxis": "x",
         "y": [
          "Financial PhraseBank, F1 score"
         ],
         "yaxis": "y"
        },
        {
         "hovertemplate": "unique_ds=%{y}<br>date=%{x}<extra></extra>",
         "legendgroup": "SST-2 Binary classification, Accuracy",
         "line": {
          "color": "#FF97FF",
          "dash": "solid"
         },
         "mode": "lines",
         "name": "SST-2 Binary classification, Accuracy",
         "orientation": "v",
         "showlegend": true,
         "textposition": "top center",
         "type": "scatter",
         "x": [
          "2013-10-01T00:00:00",
          "2014-08-01T00:00:00",
          "2015-06-01T00:00:00",
          "2016-03-01T00:00:00",
          "2016-07-01T00:00:00",
          "2017-04-01T00:00:00",
          "2017-12-01T00:00:00",
          "2019-01-01T00:00:00",
          "2019-06-01T00:00:00",
          "2019-09-01T00:00:00",
          "2019-10-01T00:00:00"
         ],
         "xaxis": "x",
         "y": [
          "SST-2 Binary classification, Accuracy",
          "SST-2 Binary classification, Accuracy",
          "SST-2 Binary classification, Accuracy",
          "SST-2 Binary classification, Accuracy",
          "SST-2 Binary classification, Accuracy",
          "SST-2 Binary classification, Accuracy",
          "SST-2 Binary classification, Accuracy",
          "SST-2 Binary classification, Accuracy",
          "SST-2 Binary classification, Accuracy",
          "SST-2 Binary classification, Accuracy",
          "SST-2 Binary classification, Accuracy"
         ],
         "yaxis": "y"
        },
        {
         "hovertemplate": "unique_ds=%{y}<br>date=%{x}<extra></extra>",
         "legendgroup": "Financial PhraseBank, Accuracy",
         "line": {
          "color": "#FECB52",
          "dash": "solid"
         },
         "mode": "lines",
         "name": "Financial PhraseBank, Accuracy",
         "orientation": "v",
         "showlegend": true,
         "textposition": "top center",
         "type": "scatter",
         "x": [
          "2019-08-01T00:00:00"
         ],
         "xaxis": "x",
         "y": [
          "Financial PhraseBank, Accuracy"
         ],
         "yaxis": "y"
        },
        {
         "hovertemplate": "unique_ds=%{y}<br>date=%{x}<extra></extra>",
         "legendgroup": "MPQA, Accuracy",
         "line": {
          "color": "#636efa",
          "dash": "solid"
         },
         "mode": "lines",
         "name": "MPQA, Accuracy",
         "orientation": "v",
         "showlegend": true,
         "textposition": "top center",
         "type": "scatter",
         "x": [
          "2018-03-01T00:00:00",
          "2018-05-01T00:00:00",
          "2019-05-01T00:00:00"
         ],
         "xaxis": "x",
         "y": [
          "MPQA, Accuracy",
          "MPQA, Accuracy",
          "MPQA, Accuracy"
         ],
         "yaxis": "y"
        },
        {
         "hovertemplate": "unique_ds=%{y}<br>date=%{x}<extra></extra>",
         "legendgroup": "CR, Accuracy",
         "line": {
          "color": "#EF553B",
          "dash": "solid"
         },
         "mode": "lines",
         "name": "CR, Accuracy",
         "orientation": "v",
         "showlegend": true,
         "textposition": "top center",
         "type": "scatter",
         "x": [
          "2017-12-01T00:00:00"
         ],
         "xaxis": "x",
         "y": [
          "CR, Accuracy"
         ],
         "yaxis": "y"
        },
        {
         "hovertemplate": "unique_ds=%{y}<br>date=%{x}<extra></extra>",
         "legendgroup": "IMDb, Accuracy",
         "line": {
          "color": "#00cc96",
          "dash": "solid"
         },
         "mode": "lines",
         "name": "IMDb, Accuracy",
         "orientation": "v",
         "showlegend": true,
         "textposition": "top center",
         "type": "scatter",
         "x": [
          "2014-12-01T00:00:00",
          "2016-02-01T00:00:00",
          "2017-12-01T00:00:00",
          "2018-01-01T00:00:00",
          "2019-02-01T00:00:00",
          "2019-04-01T00:00:00",
          "2019-06-01T00:00:00",
          "2019-07-01T00:00:00"
         ],
         "xaxis": "x",
         "y": [
          "IMDb, Accuracy",
          "IMDb, Accuracy",
          "IMDb, Accuracy",
          "IMDb, Accuracy",
          "IMDb, Accuracy",
          "IMDb, Accuracy",
          "IMDb, Accuracy",
          "IMDb, Accuracy"
         ],
         "yaxis": "y"
        },
        {
         "hovertemplate": "unique_ds=%{y}<br>date=%{x}<extra></extra>",
         "legendgroup": "1B Words, 1 in 10 R-at-1",
         "line": {
          "color": "#ab63fa",
          "dash": "solid"
         },
         "mode": "lines",
         "name": "1B Words, 1 in 10 R-at-1",
         "orientation": "v",
         "showlegend": true,
         "textposition": "top center",
         "type": "scatter",
         "x": [
          "2012-06-01T00:00:00"
         ],
         "xaxis": "x",
         "y": [
          "1B Words, 1 in 10 R-at-1"
         ],
         "yaxis": "y"
        },
        {
         "hovertemplate": "unique_ds=%{y}<br>date=%{x}<extra></extra>",
         "legendgroup": "AJGT, Accuracy",
         "line": {
          "color": "#FFA15A",
          "dash": "solid"
         },
         "mode": "lines",
         "name": "AJGT, Accuracy",
         "orientation": "v",
         "showlegend": true,
         "textposition": "top center",
         "type": "scatter",
         "x": [
          "2020-02-01T00:00:00"
         ],
         "xaxis": "x",
         "y": [
          "AJGT, Accuracy"
         ],
         "yaxis": "y"
        },
        {
         "hovertemplate": "unique_ds=%{y}<br>date=%{x}<extra></extra>",
         "legendgroup": "DBRD, Accuracy",
         "line": {
          "color": "#19d3f3",
          "dash": "solid"
         },
         "mode": "lines",
         "name": "DBRD, Accuracy",
         "orientation": "v",
         "showlegend": true,
         "textposition": "top center",
         "type": "scatter",
         "x": [
          "2020-01-01T00:00:00"
         ],
         "xaxis": "x",
         "y": [
          "DBRD, Accuracy"
         ],
         "yaxis": "y"
        },
        {
         "hovertemplate": "unique_ds=%{y}<br>date=%{x}<extra></extra>",
         "legendgroup": "DBRD, F1",
         "line": {
          "color": "#FF6692",
          "dash": "solid"
         },
         "mode": "lines",
         "name": "DBRD, F1",
         "orientation": "v",
         "showlegend": true,
         "textposition": "top center",
         "type": "scatter",
         "x": [
          "2020-01-01T00:00:00"
         ],
         "xaxis": "x",
         "y": [
          "DBRD, F1"
         ],
         "yaxis": "y"
        },
        {
         "hovertemplate": "unique_ds=%{y}<br>date=%{x}<extra></extra>",
         "legendgroup": "Amazon Review Polarity, Accuracy",
         "line": {
          "color": "#B6E880",
          "dash": "solid"
         },
         "mode": "lines",
         "name": "Amazon Review Polarity, Accuracy",
         "orientation": "v",
         "showlegend": true,
         "textposition": "top center",
         "type": "scatter",
         "x": [
          "2016-07-01T00:00:00",
          "2017-07-01T00:00:00",
          "2019-04-01T00:00:00"
         ],
         "xaxis": "x",
         "y": [
          "Amazon Review Polarity, Accuracy",
          "Amazon Review Polarity, Accuracy",
          "Amazon Review Polarity, Accuracy"
         ],
         "yaxis": "y"
        },
        {
         "hovertemplate": "unique_ds=%{y}<br>date=%{x}<extra></extra>",
         "legendgroup": "ChnSentiCorp, F1",
         "line": {
          "color": "#FF97FF",
          "dash": "solid"
         },
         "mode": "lines",
         "name": "ChnSentiCorp, F1",
         "orientation": "v",
         "showlegend": true,
         "textposition": "top center",
         "type": "scatter",
         "x": [
          "2019-06-01T00:00:00"
         ],
         "xaxis": "x",
         "y": [
          "ChnSentiCorp, F1"
         ],
         "yaxis": "y"
        },
        {
         "hovertemplate": "unique_ds=%{y}<br>date=%{x}<extra></extra>",
         "legendgroup": "ChnSentiCorp Dev, F1",
         "line": {
          "color": "#FECB52",
          "dash": "solid"
         },
         "mode": "lines",
         "name": "ChnSentiCorp Dev, F1",
         "orientation": "v",
         "showlegend": true,
         "textposition": "top center",
         "type": "scatter",
         "x": [
          "2019-06-01T00:00:00"
         ],
         "xaxis": "x",
         "y": [
          "ChnSentiCorp Dev, F1"
         ],
         "yaxis": "y"
        },
        {
         "hovertemplate": "unique_ds=%{y}<br>date=%{x}<extra></extra>",
         "legendgroup": "HARD, Accuracy",
         "line": {
          "color": "#636efa",
          "dash": "solid"
         },
         "mode": "lines",
         "name": "HARD, Accuracy",
         "orientation": "v",
         "showlegend": true,
         "textposition": "top center",
         "type": "scatter",
         "x": [
          "2020-02-01T00:00:00"
         ],
         "xaxis": "x",
         "y": [
          "HARD, Accuracy"
         ],
         "yaxis": "y"
        },
        {
         "hovertemplate": "unique_ds=%{y}<br>date=%{x}<extra></extra>",
         "legendgroup": "Sogou News, Accuracy",
         "line": {
          "color": "#EF553B",
          "dash": "solid"
         },
         "mode": "lines",
         "name": "Sogou News, Accuracy",
         "orientation": "v",
         "showlegend": true,
         "textposition": "top center",
         "type": "scatter",
         "x": [
          "2016-07-01T00:00:00"
         ],
         "xaxis": "x",
         "y": [
          "Sogou News, Accuracy"
         ],
         "yaxis": "y"
        }
       ],
       "layout": {
        "autosize": true,
        "height": 1040,
        "template": {
         "data": {
          "bar": [
           {
            "error_x": {
             "color": "#2a3f5f"
            },
            "error_y": {
             "color": "#2a3f5f"
            },
            "marker": {
             "line": {
              "color": "#E5ECF6",
              "width": 0.5
             }
            },
            "type": "bar"
           }
          ],
          "barpolar": [
           {
            "marker": {
             "line": {
              "color": "#E5ECF6",
              "width": 0.5
             }
            },
            "type": "barpolar"
           }
          ],
          "carpet": [
           {
            "aaxis": {
             "endlinecolor": "#2a3f5f",
             "gridcolor": "white",
             "linecolor": "white",
             "minorgridcolor": "white",
             "startlinecolor": "#2a3f5f"
            },
            "baxis": {
             "endlinecolor": "#2a3f5f",
             "gridcolor": "white",
             "linecolor": "white",
             "minorgridcolor": "white",
             "startlinecolor": "#2a3f5f"
            },
            "type": "carpet"
           }
          ],
          "choropleth": [
           {
            "colorbar": {
             "outlinewidth": 0,
             "ticks": ""
            },
            "type": "choropleth"
           }
          ],
          "contour": [
           {
            "colorbar": {
             "outlinewidth": 0,
             "ticks": ""
            },
            "colorscale": [
             [
              0,
              "#0d0887"
             ],
             [
              0.1111111111111111,
              "#46039f"
             ],
             [
              0.2222222222222222,
              "#7201a8"
             ],
             [
              0.3333333333333333,
              "#9c179e"
             ],
             [
              0.4444444444444444,
              "#bd3786"
             ],
             [
              0.5555555555555556,
              "#d8576b"
             ],
             [
              0.6666666666666666,
              "#ed7953"
             ],
             [
              0.7777777777777778,
              "#fb9f3a"
             ],
             [
              0.8888888888888888,
              "#fdca26"
             ],
             [
              1,
              "#f0f921"
             ]
            ],
            "type": "contour"
           }
          ],
          "contourcarpet": [
           {
            "colorbar": {
             "outlinewidth": 0,
             "ticks": ""
            },
            "type": "contourcarpet"
           }
          ],
          "heatmap": [
           {
            "colorbar": {
             "outlinewidth": 0,
             "ticks": ""
            },
            "colorscale": [
             [
              0,
              "#0d0887"
             ],
             [
              0.1111111111111111,
              "#46039f"
             ],
             [
              0.2222222222222222,
              "#7201a8"
             ],
             [
              0.3333333333333333,
              "#9c179e"
             ],
             [
              0.4444444444444444,
              "#bd3786"
             ],
             [
              0.5555555555555556,
              "#d8576b"
             ],
             [
              0.6666666666666666,
              "#ed7953"
             ],
             [
              0.7777777777777778,
              "#fb9f3a"
             ],
             [
              0.8888888888888888,
              "#fdca26"
             ],
             [
              1,
              "#f0f921"
             ]
            ],
            "type": "heatmap"
           }
          ],
          "heatmapgl": [
           {
            "colorbar": {
             "outlinewidth": 0,
             "ticks": ""
            },
            "colorscale": [
             [
              0,
              "#0d0887"
             ],
             [
              0.1111111111111111,
              "#46039f"
             ],
             [
              0.2222222222222222,
              "#7201a8"
             ],
             [
              0.3333333333333333,
              "#9c179e"
             ],
             [
              0.4444444444444444,
              "#bd3786"
             ],
             [
              0.5555555555555556,
              "#d8576b"
             ],
             [
              0.6666666666666666,
              "#ed7953"
             ],
             [
              0.7777777777777778,
              "#fb9f3a"
             ],
             [
              0.8888888888888888,
              "#fdca26"
             ],
             [
              1,
              "#f0f921"
             ]
            ],
            "type": "heatmapgl"
           }
          ],
          "histogram": [
           {
            "marker": {
             "colorbar": {
              "outlinewidth": 0,
              "ticks": ""
             }
            },
            "type": "histogram"
           }
          ],
          "histogram2d": [
           {
            "colorbar": {
             "outlinewidth": 0,
             "ticks": ""
            },
            "colorscale": [
             [
              0,
              "#0d0887"
             ],
             [
              0.1111111111111111,
              "#46039f"
             ],
             [
              0.2222222222222222,
              "#7201a8"
             ],
             [
              0.3333333333333333,
              "#9c179e"
             ],
             [
              0.4444444444444444,
              "#bd3786"
             ],
             [
              0.5555555555555556,
              "#d8576b"
             ],
             [
              0.6666666666666666,
              "#ed7953"
             ],
             [
              0.7777777777777778,
              "#fb9f3a"
             ],
             [
              0.8888888888888888,
              "#fdca26"
             ],
             [
              1,
              "#f0f921"
             ]
            ],
            "type": "histogram2d"
           }
          ],
          "histogram2dcontour": [
           {
            "colorbar": {
             "outlinewidth": 0,
             "ticks": ""
            },
            "colorscale": [
             [
              0,
              "#0d0887"
             ],
             [
              0.1111111111111111,
              "#46039f"
             ],
             [
              0.2222222222222222,
              "#7201a8"
             ],
             [
              0.3333333333333333,
              "#9c179e"
             ],
             [
              0.4444444444444444,
              "#bd3786"
             ],
             [
              0.5555555555555556,
              "#d8576b"
             ],
             [
              0.6666666666666666,
              "#ed7953"
             ],
             [
              0.7777777777777778,
              "#fb9f3a"
             ],
             [
              0.8888888888888888,
              "#fdca26"
             ],
             [
              1,
              "#f0f921"
             ]
            ],
            "type": "histogram2dcontour"
           }
          ],
          "mesh3d": [
           {
            "colorbar": {
             "outlinewidth": 0,
             "ticks": ""
            },
            "type": "mesh3d"
           }
          ],
          "parcoords": [
           {
            "line": {
             "colorbar": {
              "outlinewidth": 0,
              "ticks": ""
             }
            },
            "type": "parcoords"
           }
          ],
          "pie": [
           {
            "automargin": true,
            "type": "pie"
           }
          ],
          "scatter": [
           {
            "marker": {
             "colorbar": {
              "outlinewidth": 0,
              "ticks": ""
             }
            },
            "type": "scatter"
           }
          ],
          "scatter3d": [
           {
            "line": {
             "colorbar": {
              "outlinewidth": 0,
              "ticks": ""
             }
            },
            "marker": {
             "colorbar": {
              "outlinewidth": 0,
              "ticks": ""
             }
            },
            "type": "scatter3d"
           }
          ],
          "scattercarpet": [
           {
            "marker": {
             "colorbar": {
              "outlinewidth": 0,
              "ticks": ""
             }
            },
            "type": "scattercarpet"
           }
          ],
          "scattergeo": [
           {
            "marker": {
             "colorbar": {
              "outlinewidth": 0,
              "ticks": ""
             }
            },
            "type": "scattergeo"
           }
          ],
          "scattergl": [
           {
            "marker": {
             "colorbar": {
              "outlinewidth": 0,
              "ticks": ""
             }
            },
            "type": "scattergl"
           }
          ],
          "scattermapbox": [
           {
            "marker": {
             "colorbar": {
              "outlinewidth": 0,
              "ticks": ""
             }
            },
            "type": "scattermapbox"
           }
          ],
          "scatterpolar": [
           {
            "marker": {
             "colorbar": {
              "outlinewidth": 0,
              "ticks": ""
             }
            },
            "type": "scatterpolar"
           }
          ],
          "scatterpolargl": [
           {
            "marker": {
             "colorbar": {
              "outlinewidth": 0,
              "ticks": ""
             }
            },
            "type": "scatterpolargl"
           }
          ],
          "scatterternary": [
           {
            "marker": {
             "colorbar": {
              "outlinewidth": 0,
              "ticks": ""
             }
            },
            "type": "scatterternary"
           }
          ],
          "surface": [
           {
            "colorbar": {
             "outlinewidth": 0,
             "ticks": ""
            },
            "colorscale": [
             [
              0,
              "#0d0887"
             ],
             [
              0.1111111111111111,
              "#46039f"
             ],
             [
              0.2222222222222222,
              "#7201a8"
             ],
             [
              0.3333333333333333,
              "#9c179e"
             ],
             [
              0.4444444444444444,
              "#bd3786"
             ],
             [
              0.5555555555555556,
              "#d8576b"
             ],
             [
              0.6666666666666666,
              "#ed7953"
             ],
             [
              0.7777777777777778,
              "#fb9f3a"
             ],
             [
              0.8888888888888888,
              "#fdca26"
             ],
             [
              1,
              "#f0f921"
             ]
            ],
            "type": "surface"
           }
          ],
          "table": [
           {
            "cells": {
             "fill": {
              "color": "#EBF0F8"
             },
             "line": {
              "color": "white"
             }
            },
            "header": {
             "fill": {
              "color": "#C8D4E3"
             },
             "line": {
              "color": "white"
             }
            },
            "type": "table"
           }
          ]
         },
         "layout": {
          "annotationdefaults": {
           "arrowcolor": "#2a3f5f",
           "arrowhead": 0,
           "arrowwidth": 1
          },
          "autotypenumbers": "strict",
          "coloraxis": {
           "colorbar": {
            "outlinewidth": 0,
            "ticks": ""
           }
          },
          "colorscale": {
           "diverging": [
            [
             0,
             "#8e0152"
            ],
            [
             0.1,
             "#c51b7d"
            ],
            [
             0.2,
             "#de77ae"
            ],
            [
             0.3,
             "#f1b6da"
            ],
            [
             0.4,
             "#fde0ef"
            ],
            [
             0.5,
             "#f7f7f7"
            ],
            [
             0.6,
             "#e6f5d0"
            ],
            [
             0.7,
             "#b8e186"
            ],
            [
             0.8,
             "#7fbc41"
            ],
            [
             0.9,
             "#4d9221"
            ],
            [
             1,
             "#276419"
            ]
           ],
           "sequential": [
            [
             0,
             "#0d0887"
            ],
            [
             0.1111111111111111,
             "#46039f"
            ],
            [
             0.2222222222222222,
             "#7201a8"
            ],
            [
             0.3333333333333333,
             "#9c179e"
            ],
            [
             0.4444444444444444,
             "#bd3786"
            ],
            [
             0.5555555555555556,
             "#d8576b"
            ],
            [
             0.6666666666666666,
             "#ed7953"
            ],
            [
             0.7777777777777778,
             "#fb9f3a"
            ],
            [
             0.8888888888888888,
             "#fdca26"
            ],
            [
             1,
             "#f0f921"
            ]
           ],
           "sequentialminus": [
            [
             0,
             "#0d0887"
            ],
            [
             0.1111111111111111,
             "#46039f"
            ],
            [
             0.2222222222222222,
             "#7201a8"
            ],
            [
             0.3333333333333333,
             "#9c179e"
            ],
            [
             0.4444444444444444,
             "#bd3786"
            ],
            [
             0.5555555555555556,
             "#d8576b"
            ],
            [
             0.6666666666666666,
             "#ed7953"
            ],
            [
             0.7777777777777778,
             "#fb9f3a"
            ],
            [
             0.8888888888888888,
             "#fdca26"
            ],
            [
             1,
             "#f0f921"
            ]
           ]
          },
          "colorway": [
           "#636efa",
           "#EF553B",
           "#00cc96",
           "#ab63fa",
           "#FFA15A",
           "#19d3f3",
           "#FF6692",
           "#B6E880",
           "#FF97FF",
           "#FECB52"
          ],
          "font": {
           "color": "#2a3f5f"
          },
          "geo": {
           "bgcolor": "white",
           "lakecolor": "white",
           "landcolor": "#E5ECF6",
           "showlakes": true,
           "showland": true,
           "subunitcolor": "white"
          },
          "hoverlabel": {
           "align": "left"
          },
          "hovermode": "closest",
          "mapbox": {
           "style": "light"
          },
          "paper_bgcolor": "white",
          "plot_bgcolor": "#E5ECF6",
          "polar": {
           "angularaxis": {
            "gridcolor": "white",
            "linecolor": "white",
            "ticks": ""
           },
           "bgcolor": "#E5ECF6",
           "radialaxis": {
            "gridcolor": "white",
            "linecolor": "white",
            "ticks": ""
           }
          },
          "scene": {
           "xaxis": {
            "backgroundcolor": "#E5ECF6",
            "gridcolor": "white",
            "gridwidth": 2,
            "linecolor": "white",
            "showbackground": true,
            "ticks": "",
            "zerolinecolor": "white"
           },
           "yaxis": {
            "backgroundcolor": "#E5ECF6",
            "gridcolor": "white",
            "gridwidth": 2,
            "linecolor": "white",
            "showbackground": true,
            "ticks": "",
            "zerolinecolor": "white"
           },
           "zaxis": {
            "backgroundcolor": "#E5ECF6",
            "gridcolor": "white",
            "gridwidth": 2,
            "linecolor": "white",
            "showbackground": true,
            "ticks": "",
            "zerolinecolor": "white"
           }
          },
          "shapedefaults": {
           "line": {
            "color": "#2a3f5f"
           }
          },
          "ternary": {
           "aaxis": {
            "gridcolor": "white",
            "linecolor": "white",
            "ticks": ""
           },
           "baxis": {
            "gridcolor": "white",
            "linecolor": "white",
            "ticks": ""
           },
           "bgcolor": "#E5ECF6",
           "caxis": {
            "gridcolor": "white",
            "linecolor": "white",
            "ticks": ""
           }
          },
          "title": {
           "x": 0.05
          },
          "xaxis": {
           "automargin": true,
           "gridcolor": "white",
           "linecolor": "white",
           "ticks": "",
           "title": {
            "standoff": 15
           },
           "zerolinecolor": "white",
           "zerolinewidth": 2
          },
          "yaxis": {
           "automargin": true,
           "gridcolor": "white",
           "linecolor": "white",
           "ticks": "",
           "title": {
            "standoff": 15
           },
           "zerolinecolor": "white",
           "zerolinewidth": 2
          }
         }
        },
        "width": 1040
       }
      },
      "text/html": [
       "<div>                            <div id=\"e97104a8-f24a-4b1b-889d-03eaf8a237d4\" class=\"plotly-graph-div\" style=\"height:1040px; width:1040px;\"></div>            <script type=\"text/javascript\">                require([\"plotly\"], function(Plotly) {                    window.PLOTLYENV=window.PLOTLYENV || {};                                    if (document.getElementById(\"e97104a8-f24a-4b1b-889d-03eaf8a237d4\")) {                    Plotly.newPlot(                        \"e97104a8-f24a-4b1b-889d-03eaf8a237d4\",                        [{\"hovertemplate\": \"unique_ds=%{y}<br>date=%{x}<br>value=%{text}<extra></extra>\", \"legendgroup\": \"FiQA, MSE\", \"marker\": {\"color\": \"#636efa\", \"symbol\": \"circle\"}, \"mode\": \"markers+text\", \"name\": \"FiQA, MSE\", \"orientation\": \"v\", \"showlegend\": true, \"text\": [\"0.07\"], \"textposition\": \"top center\", \"type\": \"scatter\", \"x\": [\"2019-08-01T00:00:00\"], \"xaxis\": \"x\", \"y\": [\"FiQA, MSE\"], \"yaxis\": \"y\"}, {\"hovertemplate\": \"unique_ds=%{y}<br>date=%{x}<br>value=%{text}<extra></extra>\", \"legendgroup\": \"FiQA, R^2\", \"marker\": {\"color\": \"#EF553B\", \"symbol\": \"circle\"}, \"mode\": \"markers+text\", \"name\": \"FiQA, R^2\", \"orientation\": \"v\", \"showlegend\": true, \"text\": [\"0.55\"], \"textposition\": \"top center\", \"type\": \"scatter\", \"x\": [\"2019-08-01T00:00:00\"], \"xaxis\": \"x\", \"y\": [\"FiQA, R^2\"], \"yaxis\": \"y\"}, {\"hovertemplate\": \"unique_ds=%{y}<br>date=%{x}<br>value=%{text}<extra></extra>\", \"legendgroup\": \"SemEval 2017 Task 4-A, Average Recall\", \"marker\": {\"color\": \"#00cc96\", \"symbol\": \"circle\"}, \"mode\": \"markers+text\", \"name\": \"SemEval 2017 Task 4-A, Average Recall\", \"orientation\": \"v\", \"showlegend\": true, \"text\": [\"0.61\"], \"textposition\": \"top center\", \"type\": \"scatter\", \"x\": [\"2019-08-01T00:00:00\"], \"xaxis\": \"x\", \"y\": [\"SemEval 2017 Task 4-A, Average Recall\"], \"yaxis\": \"y\"}, {\"hovertemplate\": \"unique_ds=%{y}<br>date=%{x}<br>value=%{text}<extra></extra>\", \"legendgroup\": \"ASTD, Average Recall\", \"marker\": {\"color\": \"#ab63fa\", \"symbol\": \"circle\"}, \"mode\": \"markers+text\", \"name\": \"ASTD, Average Recall\", \"orientation\": \"v\", \"showlegend\": true, \"text\": [\"0.62\"], \"textposition\": \"top center\", \"type\": \"scatter\", \"x\": [\"2019-08-01T00:00:00\"], \"xaxis\": \"x\", \"y\": [\"ASTD, Average Recall\"], \"yaxis\": \"y\"}, {\"hovertemplate\": \"unique_ds=%{y}<br>date=%{x}<br>value=%{text}<extra></extra>\", \"legendgroup\": \"SemEval, F1-score\", \"marker\": {\"color\": \"#FFA15A\", \"symbol\": \"circle\"}, \"mode\": \"markers+text\", \"name\": \"SemEval, F1-score\", \"orientation\": \"v\", \"showlegend\": true, \"text\": [\"0.685\"], \"textposition\": \"top center\", \"type\": \"scatter\", \"x\": [\"2017-04-01T00:00:00\"], \"xaxis\": \"x\", \"y\": [\"SemEval, F1-score\"], \"yaxis\": \"y\"}, {\"hovertemplate\": \"unique_ds=%{y}<br>date=%{x}<br>value=%{text}<extra></extra>\", \"legendgroup\": \"ArSAS, Average Recall\", \"marker\": {\"color\": \"#19d3f3\", \"symbol\": \"circle\"}, \"mode\": \"markers+text\", \"name\": \"ArSAS, Average Recall\", \"orientation\": \"v\", \"showlegend\": true, \"text\": [\"0.9\"], \"textposition\": \"top center\", \"type\": \"scatter\", \"x\": [\"2019-08-01T00:00:00\"], \"xaxis\": \"x\", \"y\": [\"ArSAS, Average Recall\"], \"yaxis\": \"y\"}, {\"hovertemplate\": \"unique_ds=%{y}<br>date=%{x}<br>value=%{text}<extra></extra>\", \"legendgroup\": \"Yelp Fine-grained classification, Error\", \"marker\": {\"color\": \"#FF6692\", \"symbol\": \"circle\"}, \"mode\": \"markers+text\", \"name\": \"Yelp Fine-grained classification, Error\", \"orientation\": \"v\", \"showlegend\": true, \"text\": [\"37.95\", \"46.8\"], \"textposition\": \"top center\", \"type\": \"scatter\", \"x\": [\"2015-09-01T00:00:00\", \"2019-01-01T00:00:00\"], \"xaxis\": \"x\", \"y\": [\"Yelp Fine-grained classification, Error\", \"Yelp Fine-grained classification, Error\"], \"yaxis\": \"y\"}, {\"hovertemplate\": \"unique_ds=%{y}<br>date=%{x}<br>value=%{text}<extra></extra>\", \"legendgroup\": \"Yelp Binary classification, Error\", \"marker\": {\"color\": \"#B6E880\", \"symbol\": \"circle\"}, \"mode\": \"markers+text\", \"name\": \"Yelp Binary classification, Error\", \"orientation\": \"v\", \"showlegend\": true, \"text\": [\"4.88\"], \"textposition\": \"top center\", \"type\": \"scatter\", \"x\": [\"2015-09-01T00:00:00\"], \"xaxis\": \"x\", \"y\": [\"Yelp Binary classification, Error\"], \"yaxis\": \"y\"}, {\"hovertemplate\": \"unique_ds=%{y}<br>date=%{x}<br>value=%{text}<extra></extra>\", \"legendgroup\": \"SST-5 Fine-grained classification, Accuracy\", \"marker\": {\"color\": \"#FF97FF\", \"symbol\": \"circle\"}, \"mode\": \"markers+text\", \"name\": \"SST-5 Fine-grained classification, Accuracy\", \"orientation\": \"v\", \"showlegend\": true, \"text\": [\"45.7\", \"49.6\", \"51.0\", \"53.7\", \"54.7\", \"55.5\"], \"textposition\": \"top center\", \"type\": \"scatter\", \"x\": [\"2013-10-01T00:00:00\", \"2014-06-01T00:00:00\", \"2015-02-01T00:00:00\", \"2017-08-01T00:00:00\", \"2018-02-01T00:00:00\", \"2019-10-01T00:00:00\"], \"xaxis\": \"x\", \"y\": [\"SST-5 Fine-grained classification, Accuracy\", \"SST-5 Fine-grained classification, Accuracy\", \"SST-5 Fine-grained classification, Accuracy\", \"SST-5 Fine-grained classification, Accuracy\", \"SST-5 Fine-grained classification, Accuracy\", \"SST-5 Fine-grained classification, Accuracy\"], \"yaxis\": \"y\"}, {\"hovertemplate\": \"unique_ds=%{y}<br>date=%{x}<br>value=%{text}<extra></extra>\", \"legendgroup\": \"Amazon Review Full, Accuracy\", \"marker\": {\"color\": \"#FECB52\", \"symbol\": \"circle\"}, \"mode\": \"markers+text\", \"name\": \"Amazon Review Full, Accuracy\", \"orientation\": \"v\", \"showlegend\": true, \"text\": [\"60.2\", \"65.19\", \"65.83\"], \"textposition\": \"top center\", \"type\": \"scatter\", \"x\": [\"2016-07-01T00:00:00\", \"2017-07-01T00:00:00\", \"2019-04-01T00:00:00\"], \"xaxis\": \"x\", \"y\": [\"Amazon Review Full, Accuracy\", \"Amazon Review Full, Accuracy\", \"Amazon Review Full, Accuracy\"], \"yaxis\": \"y\"}, {\"hovertemplate\": \"unique_ds=%{y}<br>date=%{x}<br>value=%{text}<extra></extra>\", \"legendgroup\": \"Multi-Domain Sentiment Dataset, Books\", \"marker\": {\"color\": \"#636efa\", \"symbol\": \"circle\"}, \"mode\": \"markers+text\", \"name\": \"Multi-Domain Sentiment Dataset, Books\", \"orientation\": \"v\", \"showlegend\": true, \"text\": [\"71.43\", \"73.4\", \"74.86\", \"81.4\"], \"textposition\": \"top center\", \"type\": \"scatter\", \"x\": [\"2015-05-01T00:00:00\", \"2015-11-01T00:00:00\", \"2018-04-01T00:00:00\", \"2018-10-01T00:00:00\"], \"xaxis\": \"x\", \"y\": [\"Multi-Domain Sentiment Dataset, Books\", \"Multi-Domain Sentiment Dataset, Books\", \"Multi-Domain Sentiment Dataset, Books\", \"Multi-Domain Sentiment Dataset, Books\"], \"yaxis\": \"y\"}, {\"hovertemplate\": \"unique_ds=%{y}<br>date=%{x}<br>value=%{text}<extra></extra>\", \"legendgroup\": \"Twitter, Accuracy\", \"marker\": {\"color\": \"#EF553B\", \"symbol\": \"circle\"}, \"mode\": \"markers+text\", \"name\": \"Twitter, Accuracy\", \"orientation\": \"v\", \"showlegend\": true, \"text\": [\"74.71\"], \"textposition\": \"top center\", \"type\": \"scatter\", \"x\": [\"2019-02-01T00:00:00\"], \"xaxis\": \"x\", \"y\": [\"Twitter, Accuracy\"], \"yaxis\": \"y\"}, {\"hovertemplate\": \"unique_ds=%{y}<br>date=%{x}<br>value=%{text}<extra></extra>\", \"legendgroup\": \"Multi-Domain Sentiment Dataset, DVD\", \"marker\": {\"color\": \"#00cc96\", \"symbol\": \"circle\"}, \"mode\": \"markers+text\", \"name\": \"Multi-Domain Sentiment Dataset, DVD\", \"orientation\": \"v\", \"showlegend\": true, \"text\": [\"75.4\", \"76.57\", \"78.14\", \"81.0\"], \"textposition\": \"top center\", \"type\": \"scatter\", \"x\": [\"2015-05-01T00:00:00\", \"2015-11-01T00:00:00\", \"2018-04-01T00:00:00\", \"2018-10-01T00:00:00\"], \"xaxis\": \"x\", \"y\": [\"Multi-Domain Sentiment Dataset, DVD\", \"Multi-Domain Sentiment Dataset, DVD\", \"Multi-Domain Sentiment Dataset, DVD\", \"Multi-Domain Sentiment Dataset, DVD\"], \"yaxis\": \"y\"}, {\"hovertemplate\": \"unique_ds=%{y}<br>date=%{x}<br>value=%{text}<extra></extra>\", \"legendgroup\": \"Multi-Domain Sentiment Dataset, Average\", \"marker\": {\"color\": \"#ab63fa\", \"symbol\": \"circle\"}, \"mode\": \"markers+text\", \"name\": \"Multi-Domain Sentiment Dataset, Average\", \"orientation\": \"v\", \"showlegend\": true, \"text\": [\"76.26\", \"78.36\", \"78.39\", \"79.15\", \"83.3\"], \"textposition\": \"top center\", \"type\": \"scatter\", \"x\": [\"2015-05-01T00:00:00\", \"2015-11-01T00:00:00\", \"2017-02-01T00:00:00\", \"2018-04-01T00:00:00\", \"2018-10-01T00:00:00\"], \"xaxis\": \"x\", \"y\": [\"Multi-Domain Sentiment Dataset, Average\", \"Multi-Domain Sentiment Dataset, Average\", \"Multi-Domain Sentiment Dataset, Average\", \"Multi-Domain Sentiment Dataset, Average\", \"Multi-Domain Sentiment Dataset, Average\"], \"yaxis\": \"y\"}, {\"hovertemplate\": \"unique_ds=%{y}<br>date=%{x}<br>value=%{text}<extra></extra>\", \"legendgroup\": \"Multi-Domain Sentiment Dataset, Electronics\", \"marker\": {\"color\": \"#FFA15A\", \"symbol\": \"circle\"}, \"mode\": \"markers+text\", \"name\": \"Multi-Domain Sentiment Dataset, Electronics\", \"orientation\": \"v\", \"showlegend\": true, \"text\": [\"77.67\", \"80.53\", \"81.45\"], \"textposition\": \"top center\", \"type\": \"scatter\", \"x\": [\"2015-05-01T00:00:00\", \"2015-11-01T00:00:00\", \"2018-04-01T00:00:00\"], \"xaxis\": \"x\", \"y\": [\"Multi-Domain Sentiment Dataset, Electronics\", \"Multi-Domain Sentiment Dataset, Electronics\", \"Multi-Domain Sentiment Dataset, Electronics\"], \"yaxis\": \"y\"}, {\"hovertemplate\": \"unique_ds=%{y}<br>date=%{x}<br>value=%{text}<extra></extra>\", \"legendgroup\": \"MR, Accuracy\", \"marker\": {\"color\": \"#19d3f3\", \"symbol\": \"circle\"}, \"mode\": \"markers+text\", \"name\": \"MR, Accuracy\", \"orientation\": \"v\", \"showlegend\": true, \"text\": [\"78.26\", \"83.8\", \"86.8\"], \"textposition\": \"top center\", \"type\": \"scatter\", \"x\": [\"2017-02-01T00:00:00\", \"2018-02-01T00:00:00\", \"2018-05-01T00:00:00\"], \"xaxis\": \"x\", \"y\": [\"MR, Accuracy\", \"MR, Accuracy\", \"MR, Accuracy\"], \"yaxis\": \"y\"}, {\"hovertemplate\": \"unique_ds=%{y}<br>date=%{x}<br>value=%{text}<extra></extra>\", \"legendgroup\": \"Multi-Domain Sentiment Dataset, Kitchen\", \"marker\": {\"color\": \"#FF6692\", \"symbol\": \"circle\"}, \"mode\": \"markers+text\", \"name\": \"Multi-Domain Sentiment Dataset, Kitchen\", \"orientation\": \"v\", \"showlegend\": true, \"text\": [\"80.53\", \"82.93\", \"83.97\", \"85.9\"], \"textposition\": \"top center\", \"type\": \"scatter\", \"x\": [\"2015-05-01T00:00:00\", \"2015-11-01T00:00:00\", \"2017-02-01T00:00:00\", \"2018-10-01T00:00:00\"], \"xaxis\": \"x\", \"y\": [\"Multi-Domain Sentiment Dataset, Kitchen\", \"Multi-Domain Sentiment Dataset, Kitchen\", \"Multi-Domain Sentiment Dataset, Kitchen\", \"Multi-Domain Sentiment Dataset, Kitchen\"], \"yaxis\": \"y\"}, {\"hovertemplate\": \"unique_ds=%{y}<br>date=%{x}<br>value=%{text}<extra></extra>\", \"legendgroup\": \"Financial PhraseBank, F1 score\", \"marker\": {\"color\": \"#B6E880\", \"symbol\": \"circle\"}, \"mode\": \"markers+text\", \"name\": \"Financial PhraseBank, F1 score\", \"orientation\": \"v\", \"showlegend\": true, \"text\": [\"84\"], \"textposition\": \"top center\", \"type\": \"scatter\", \"x\": [\"2019-08-01T00:00:00\"], \"xaxis\": \"x\", \"y\": [\"Financial PhraseBank, F1 score\"], \"yaxis\": \"y\"}, {\"hovertemplate\": \"unique_ds=%{y}<br>date=%{x}<br>value=%{text}<extra></extra>\", \"legendgroup\": \"SST-2 Binary classification, Accuracy\", \"marker\": {\"color\": \"#FF97FF\", \"symbol\": \"circle\"}, \"mode\": \"markers+text\", \"name\": \"SST-2 Binary classification, Accuracy\", \"orientation\": \"v\", \"showlegend\": true, \"text\": [\"85.4\", \"88.1\", \"88.6\", \"89.3\", \"89.7\", \"91.8\", \"93.2\", \"95.6\", \"97.0\", \"97.1\", \"97.4\"], \"textposition\": \"top center\", \"type\": \"scatter\", \"x\": [\"2013-10-01T00:00:00\", \"2014-08-01T00:00:00\", \"2015-06-01T00:00:00\", \"2016-03-01T00:00:00\", \"2016-07-01T00:00:00\", \"2017-04-01T00:00:00\", \"2017-12-01T00:00:00\", \"2019-01-01T00:00:00\", \"2019-06-01T00:00:00\", \"2019-09-01T00:00:00\", \"2019-10-01T00:00:00\"], \"xaxis\": \"x\", \"y\": [\"SST-2 Binary classification, Accuracy\", \"SST-2 Binary classification, Accuracy\", \"SST-2 Binary classification, Accuracy\", \"SST-2 Binary classification, Accuracy\", \"SST-2 Binary classification, Accuracy\", \"SST-2 Binary classification, Accuracy\", \"SST-2 Binary classification, Accuracy\", \"SST-2 Binary classification, Accuracy\", \"SST-2 Binary classification, Accuracy\", \"SST-2 Binary classification, Accuracy\", \"SST-2 Binary classification, Accuracy\"], \"yaxis\": \"y\"}, {\"hovertemplate\": \"unique_ds=%{y}<br>date=%{x}<br>value=%{text}<extra></extra>\", \"legendgroup\": \"Financial PhraseBank, Accuracy\", \"marker\": {\"color\": \"#FECB52\", \"symbol\": \"circle\"}, \"mode\": \"markers+text\", \"name\": \"Financial PhraseBank, Accuracy\", \"orientation\": \"v\", \"showlegend\": true, \"text\": [\"86\"], \"textposition\": \"top center\", \"type\": \"scatter\", \"x\": [\"2019-08-01T00:00:00\"], \"xaxis\": \"x\", \"y\": [\"Financial PhraseBank, Accuracy\"], \"yaxis\": \"y\"}, {\"hovertemplate\": \"unique_ds=%{y}<br>date=%{x}<br>value=%{text}<extra></extra>\", \"legendgroup\": \"MPQA, Accuracy\", \"marker\": {\"color\": \"#636efa\", \"symbol\": \"circle\"}, \"mode\": \"markers+text\", \"name\": \"MPQA, Accuracy\", \"orientation\": \"v\", \"showlegend\": true, \"text\": [\"88.14\", \"88.8\", \"89.83\"], \"textposition\": \"top center\", \"type\": \"scatter\", \"x\": [\"2018-03-01T00:00:00\", \"2018-05-01T00:00:00\", \"2019-05-01T00:00:00\"], \"xaxis\": \"x\", \"y\": [\"MPQA, Accuracy\", \"MPQA, Accuracy\", \"MPQA, Accuracy\"], \"yaxis\": \"y\"}, {\"hovertemplate\": \"unique_ds=%{y}<br>date=%{x}<br>value=%{text}<extra></extra>\", \"legendgroup\": \"CR, Accuracy\", \"marker\": {\"color\": \"#EF553B\", \"symbol\": \"circle\"}, \"mode\": \"markers+text\", \"name\": \"CR, Accuracy\", \"orientation\": \"v\", \"showlegend\": true, \"text\": [\"92.2\"], \"textposition\": \"top center\", \"type\": \"scatter\", \"x\": [\"2017-12-01T00:00:00\"], \"xaxis\": \"x\", \"y\": [\"CR, Accuracy\"], \"yaxis\": \"y\"}, {\"hovertemplate\": \"unique_ds=%{y}<br>date=%{x}<br>value=%{text}<extra></extra>\", \"legendgroup\": \"IMDb, Accuracy\", \"marker\": {\"color\": \"#00cc96\", \"symbol\": \"circle\"}, \"mode\": \"markers+text\", \"name\": \"IMDb, Accuracy\", \"orientation\": \"v\", \"showlegend\": true, \"text\": [\"92.33\", \"94.1\", \"94.99\", \"95.4\", \"95.68\", \"95.8\", \"96.0\", \"97.4\"], \"textposition\": \"top center\", \"type\": \"scatter\", \"x\": [\"2014-12-01T00:00:00\", \"2016-02-01T00:00:00\", \"2017-12-01T00:00:00\", \"2018-01-01T00:00:00\", \"2019-02-01T00:00:00\", \"2019-04-01T00:00:00\", \"2019-06-01T00:00:00\", \"2019-07-01T00:00:00\"], \"xaxis\": \"x\", \"y\": [\"IMDb, Accuracy\", \"IMDb, Accuracy\", \"IMDb, Accuracy\", \"IMDb, Accuracy\", \"IMDb, Accuracy\", \"IMDb, Accuracy\", \"IMDb, Accuracy\", \"IMDb, Accuracy\"], \"yaxis\": \"y\"}, {\"hovertemplate\": \"unique_ds=%{y}<br>date=%{x}<br>value=%{text}<extra></extra>\", \"legendgroup\": \"1B Words, 1 in 10 R-at-1\", \"marker\": {\"color\": \"#ab63fa\", \"symbol\": \"circle\"}, \"mode\": \"markers+text\", \"name\": \"1B Words, 1 in 10 R-at-1\", \"orientation\": \"v\", \"showlegend\": true, \"text\": [\"93\"], \"textposition\": \"top center\", \"type\": \"scatter\", \"x\": [\"2012-06-01T00:00:00\"], \"xaxis\": \"x\", \"y\": [\"1B Words, 1 in 10 R-at-1\"], \"yaxis\": \"y\"}, {\"hovertemplate\": \"unique_ds=%{y}<br>date=%{x}<br>value=%{text}<extra></extra>\", \"legendgroup\": \"AJGT, Accuracy\", \"marker\": {\"color\": \"#FFA15A\", \"symbol\": \"circle\"}, \"mode\": \"markers+text\", \"name\": \"AJGT, Accuracy\", \"orientation\": \"v\", \"showlegend\": true, \"text\": [\"93.8\"], \"textposition\": \"top center\", \"type\": \"scatter\", \"x\": [\"2020-02-01T00:00:00\"], \"xaxis\": \"x\", \"y\": [\"AJGT, Accuracy\"], \"yaxis\": \"y\"}, {\"hovertemplate\": \"unique_ds=%{y}<br>date=%{x}<br>value=%{text}<extra></extra>\", \"legendgroup\": \"DBRD, Accuracy\", \"marker\": {\"color\": \"#19d3f3\", \"symbol\": \"circle\"}, \"mode\": \"markers+text\", \"name\": \"DBRD, Accuracy\", \"orientation\": \"v\", \"showlegend\": true, \"text\": [\"94.422\"], \"textposition\": \"top center\", \"type\": \"scatter\", \"x\": [\"2020-01-01T00:00:00\"], \"xaxis\": \"x\", \"y\": [\"DBRD, Accuracy\"], \"yaxis\": \"y\"}, {\"hovertemplate\": \"unique_ds=%{y}<br>date=%{x}<br>value=%{text}<extra></extra>\", \"legendgroup\": \"DBRD, F1\", \"marker\": {\"color\": \"#FF6692\", \"symbol\": \"circle\"}, \"mode\": \"markers+text\", \"name\": \"DBRD, F1\", \"orientation\": \"v\", \"showlegend\": true, \"text\": [\"94.422\"], \"textposition\": \"top center\", \"type\": \"scatter\", \"x\": [\"2020-01-01T00:00:00\"], \"xaxis\": \"x\", \"y\": [\"DBRD, F1\"], \"yaxis\": \"y\"}, {\"hovertemplate\": \"unique_ds=%{y}<br>date=%{x}<br>value=%{text}<extra></extra>\", \"legendgroup\": \"Amazon Review Polarity, Accuracy\", \"marker\": {\"color\": \"#B6E880\", \"symbol\": \"circle\"}, \"mode\": \"markers+text\", \"name\": \"Amazon Review Polarity, Accuracy\", \"orientation\": \"v\", \"showlegend\": true, \"text\": [\"94.6\", \"96.68\", \"97.37\"], \"textposition\": \"top center\", \"type\": \"scatter\", \"x\": [\"2016-07-01T00:00:00\", \"2017-07-01T00:00:00\", \"2019-04-01T00:00:00\"], \"xaxis\": \"x\", \"y\": [\"Amazon Review Polarity, Accuracy\", \"Amazon Review Polarity, Accuracy\", \"Amazon Review Polarity, Accuracy\"], \"yaxis\": \"y\"}, {\"hovertemplate\": \"unique_ds=%{y}<br>date=%{x}<br>value=%{text}<extra></extra>\", \"legendgroup\": \"ChnSentiCorp, F1\", \"marker\": {\"color\": \"#FF97FF\", \"symbol\": \"circle\"}, \"mode\": \"markers+text\", \"name\": \"ChnSentiCorp, F1\", \"orientation\": \"v\", \"showlegend\": true, \"text\": [\"95.8\"], \"textposition\": \"top center\", \"type\": \"scatter\", \"x\": [\"2019-06-01T00:00:00\"], \"xaxis\": \"x\", \"y\": [\"ChnSentiCorp, F1\"], \"yaxis\": \"y\"}, {\"hovertemplate\": \"unique_ds=%{y}<br>date=%{x}<br>value=%{text}<extra></extra>\", \"legendgroup\": \"ChnSentiCorp Dev, F1\", \"marker\": {\"color\": \"#FECB52\", \"symbol\": \"circle\"}, \"mode\": \"markers+text\", \"name\": \"ChnSentiCorp Dev, F1\", \"orientation\": \"v\", \"showlegend\": true, \"text\": [\"95.8\"], \"textposition\": \"top center\", \"type\": \"scatter\", \"x\": [\"2019-06-01T00:00:00\"], \"xaxis\": \"x\", \"y\": [\"ChnSentiCorp Dev, F1\"], \"yaxis\": \"y\"}, {\"hovertemplate\": \"unique_ds=%{y}<br>date=%{x}<br>value=%{text}<extra></extra>\", \"legendgroup\": \"HARD, Accuracy\", \"marker\": {\"color\": \"#636efa\", \"symbol\": \"circle\"}, \"mode\": \"markers+text\", \"name\": \"HARD, Accuracy\", \"orientation\": \"v\", \"showlegend\": true, \"text\": [\"96.1\"], \"textposition\": \"top center\", \"type\": \"scatter\", \"x\": [\"2020-02-01T00:00:00\"], \"xaxis\": \"x\", \"y\": [\"HARD, Accuracy\"], \"yaxis\": \"y\"}, {\"hovertemplate\": \"unique_ds=%{y}<br>date=%{x}<br>value=%{text}<extra></extra>\", \"legendgroup\": \"Sogou News, Accuracy\", \"marker\": {\"color\": \"#EF553B\", \"symbol\": \"circle\"}, \"mode\": \"markers+text\", \"name\": \"Sogou News, Accuracy\", \"orientation\": \"v\", \"showlegend\": true, \"text\": [\"96.8\"], \"textposition\": \"top center\", \"type\": \"scatter\", \"x\": [\"2016-07-01T00:00:00\"], \"xaxis\": \"x\", \"y\": [\"Sogou News, Accuracy\"], \"yaxis\": \"y\"}, {\"hovertemplate\": \"unique_ds=%{y}<br>date=%{x}<extra></extra>\", \"legendgroup\": \"FiQA, MSE\", \"line\": {\"color\": \"#636efa\", \"dash\": \"solid\"}, \"mode\": \"lines\", \"name\": \"FiQA, MSE\", \"orientation\": \"v\", \"showlegend\": true, \"textposition\": \"top center\", \"type\": \"scatter\", \"x\": [\"2019-08-01T00:00:00\"], \"xaxis\": \"x\", \"y\": [\"FiQA, MSE\"], \"yaxis\": \"y\"}, {\"hovertemplate\": \"unique_ds=%{y}<br>date=%{x}<extra></extra>\", \"legendgroup\": \"FiQA, R^2\", \"line\": {\"color\": \"#EF553B\", \"dash\": \"solid\"}, \"mode\": \"lines\", \"name\": \"FiQA, R^2\", \"orientation\": \"v\", \"showlegend\": true, \"textposition\": \"top center\", \"type\": \"scatter\", \"x\": [\"2019-08-01T00:00:00\"], \"xaxis\": \"x\", \"y\": [\"FiQA, R^2\"], \"yaxis\": \"y\"}, {\"hovertemplate\": \"unique_ds=%{y}<br>date=%{x}<extra></extra>\", \"legendgroup\": \"SemEval 2017 Task 4-A, Average Recall\", \"line\": {\"color\": \"#00cc96\", \"dash\": \"solid\"}, \"mode\": \"lines\", \"name\": \"SemEval 2017 Task 4-A, Average Recall\", \"orientation\": \"v\", \"showlegend\": true, \"textposition\": \"top center\", \"type\": \"scatter\", \"x\": [\"2019-08-01T00:00:00\"], \"xaxis\": \"x\", \"y\": [\"SemEval 2017 Task 4-A, Average Recall\"], \"yaxis\": \"y\"}, {\"hovertemplate\": \"unique_ds=%{y}<br>date=%{x}<extra></extra>\", \"legendgroup\": \"ASTD, Average Recall\", \"line\": {\"color\": \"#ab63fa\", \"dash\": \"solid\"}, \"mode\": \"lines\", \"name\": \"ASTD, Average Recall\", \"orientation\": \"v\", \"showlegend\": true, \"textposition\": \"top center\", \"type\": \"scatter\", \"x\": [\"2019-08-01T00:00:00\"], \"xaxis\": \"x\", \"y\": [\"ASTD, Average Recall\"], \"yaxis\": \"y\"}, {\"hovertemplate\": \"unique_ds=%{y}<br>date=%{x}<extra></extra>\", \"legendgroup\": \"SemEval, F1-score\", \"line\": {\"color\": \"#FFA15A\", \"dash\": \"solid\"}, \"mode\": \"lines\", \"name\": \"SemEval, F1-score\", \"orientation\": \"v\", \"showlegend\": true, \"textposition\": \"top center\", \"type\": \"scatter\", \"x\": [\"2017-04-01T00:00:00\"], \"xaxis\": \"x\", \"y\": [\"SemEval, F1-score\"], \"yaxis\": \"y\"}, {\"hovertemplate\": \"unique_ds=%{y}<br>date=%{x}<extra></extra>\", \"legendgroup\": \"ArSAS, Average Recall\", \"line\": {\"color\": \"#19d3f3\", \"dash\": \"solid\"}, \"mode\": \"lines\", \"name\": \"ArSAS, Average Recall\", \"orientation\": \"v\", \"showlegend\": true, \"textposition\": \"top center\", \"type\": \"scatter\", \"x\": [\"2019-08-01T00:00:00\"], \"xaxis\": \"x\", \"y\": [\"ArSAS, Average Recall\"], \"yaxis\": \"y\"}, {\"hovertemplate\": \"unique_ds=%{y}<br>date=%{x}<extra></extra>\", \"legendgroup\": \"Yelp Fine-grained classification, Error\", \"line\": {\"color\": \"#FF6692\", \"dash\": \"solid\"}, \"mode\": \"lines\", \"name\": \"Yelp Fine-grained classification, Error\", \"orientation\": \"v\", \"showlegend\": true, \"textposition\": \"top center\", \"type\": \"scatter\", \"x\": [\"2015-09-01T00:00:00\", \"2019-01-01T00:00:00\"], \"xaxis\": \"x\", \"y\": [\"Yelp Fine-grained classification, Error\", \"Yelp Fine-grained classification, Error\"], \"yaxis\": \"y\"}, {\"hovertemplate\": \"unique_ds=%{y}<br>date=%{x}<extra></extra>\", \"legendgroup\": \"Yelp Binary classification, Error\", \"line\": {\"color\": \"#B6E880\", \"dash\": \"solid\"}, \"mode\": \"lines\", \"name\": \"Yelp Binary classification, Error\", \"orientation\": \"v\", \"showlegend\": true, \"textposition\": \"top center\", \"type\": \"scatter\", \"x\": [\"2015-09-01T00:00:00\"], \"xaxis\": \"x\", \"y\": [\"Yelp Binary classification, Error\"], \"yaxis\": \"y\"}, {\"hovertemplate\": \"unique_ds=%{y}<br>date=%{x}<extra></extra>\", \"legendgroup\": \"SST-5 Fine-grained classification, Accuracy\", \"line\": {\"color\": \"#FF97FF\", \"dash\": \"solid\"}, \"mode\": \"lines\", \"name\": \"SST-5 Fine-grained classification, Accuracy\", \"orientation\": \"v\", \"showlegend\": true, \"textposition\": \"top center\", \"type\": \"scatter\", \"x\": [\"2013-10-01T00:00:00\", \"2014-06-01T00:00:00\", \"2015-02-01T00:00:00\", \"2017-08-01T00:00:00\", \"2018-02-01T00:00:00\", \"2019-10-01T00:00:00\"], \"xaxis\": \"x\", \"y\": [\"SST-5 Fine-grained classification, Accuracy\", \"SST-5 Fine-grained classification, Accuracy\", \"SST-5 Fine-grained classification, Accuracy\", \"SST-5 Fine-grained classification, Accuracy\", \"SST-5 Fine-grained classification, Accuracy\", \"SST-5 Fine-grained classification, Accuracy\"], \"yaxis\": \"y\"}, {\"hovertemplate\": \"unique_ds=%{y}<br>date=%{x}<extra></extra>\", \"legendgroup\": \"Amazon Review Full, Accuracy\", \"line\": {\"color\": \"#FECB52\", \"dash\": \"solid\"}, \"mode\": \"lines\", \"name\": \"Amazon Review Full, Accuracy\", \"orientation\": \"v\", \"showlegend\": true, \"textposition\": \"top center\", \"type\": \"scatter\", \"x\": [\"2016-07-01T00:00:00\", \"2017-07-01T00:00:00\", \"2019-04-01T00:00:00\"], \"xaxis\": \"x\", \"y\": [\"Amazon Review Full, Accuracy\", \"Amazon Review Full, Accuracy\", \"Amazon Review Full, Accuracy\"], \"yaxis\": \"y\"}, {\"hovertemplate\": \"unique_ds=%{y}<br>date=%{x}<extra></extra>\", \"legendgroup\": \"Multi-Domain Sentiment Dataset, Books\", \"line\": {\"color\": \"#636efa\", \"dash\": \"solid\"}, \"mode\": \"lines\", \"name\": \"Multi-Domain Sentiment Dataset, Books\", \"orientation\": \"v\", \"showlegend\": true, \"textposition\": \"top center\", \"type\": \"scatter\", \"x\": [\"2015-05-01T00:00:00\", \"2015-11-01T00:00:00\", \"2018-04-01T00:00:00\", \"2018-10-01T00:00:00\"], \"xaxis\": \"x\", \"y\": [\"Multi-Domain Sentiment Dataset, Books\", \"Multi-Domain Sentiment Dataset, Books\", \"Multi-Domain Sentiment Dataset, Books\", \"Multi-Domain Sentiment Dataset, Books\"], \"yaxis\": \"y\"}, {\"hovertemplate\": \"unique_ds=%{y}<br>date=%{x}<extra></extra>\", \"legendgroup\": \"Twitter, Accuracy\", \"line\": {\"color\": \"#EF553B\", \"dash\": \"solid\"}, \"mode\": \"lines\", \"name\": \"Twitter, Accuracy\", \"orientation\": \"v\", \"showlegend\": true, \"textposition\": \"top center\", \"type\": \"scatter\", \"x\": [\"2019-02-01T00:00:00\"], \"xaxis\": \"x\", \"y\": [\"Twitter, Accuracy\"], \"yaxis\": \"y\"}, {\"hovertemplate\": \"unique_ds=%{y}<br>date=%{x}<extra></extra>\", \"legendgroup\": \"Multi-Domain Sentiment Dataset, DVD\", \"line\": {\"color\": \"#00cc96\", \"dash\": \"solid\"}, \"mode\": \"lines\", \"name\": \"Multi-Domain Sentiment Dataset, DVD\", \"orientation\": \"v\", \"showlegend\": true, \"textposition\": \"top center\", \"type\": \"scatter\", \"x\": [\"2015-05-01T00:00:00\", \"2015-11-01T00:00:00\", \"2018-04-01T00:00:00\", \"2018-10-01T00:00:00\"], \"xaxis\": \"x\", \"y\": [\"Multi-Domain Sentiment Dataset, DVD\", \"Multi-Domain Sentiment Dataset, DVD\", \"Multi-Domain Sentiment Dataset, DVD\", \"Multi-Domain Sentiment Dataset, DVD\"], \"yaxis\": \"y\"}, {\"hovertemplate\": \"unique_ds=%{y}<br>date=%{x}<extra></extra>\", \"legendgroup\": \"Multi-Domain Sentiment Dataset, Average\", \"line\": {\"color\": \"#ab63fa\", \"dash\": \"solid\"}, \"mode\": \"lines\", \"name\": \"Multi-Domain Sentiment Dataset, Average\", \"orientation\": \"v\", \"showlegend\": true, \"textposition\": \"top center\", \"type\": \"scatter\", \"x\": [\"2015-05-01T00:00:00\", \"2015-11-01T00:00:00\", \"2017-02-01T00:00:00\", \"2018-04-01T00:00:00\", \"2018-10-01T00:00:00\"], \"xaxis\": \"x\", \"y\": [\"Multi-Domain Sentiment Dataset, Average\", \"Multi-Domain Sentiment Dataset, Average\", \"Multi-Domain Sentiment Dataset, Average\", \"Multi-Domain Sentiment Dataset, Average\", \"Multi-Domain Sentiment Dataset, Average\"], \"yaxis\": \"y\"}, {\"hovertemplate\": \"unique_ds=%{y}<br>date=%{x}<extra></extra>\", \"legendgroup\": \"Multi-Domain Sentiment Dataset, Electronics\", \"line\": {\"color\": \"#FFA15A\", \"dash\": \"solid\"}, \"mode\": \"lines\", \"name\": \"Multi-Domain Sentiment Dataset, Electronics\", \"orientation\": \"v\", \"showlegend\": true, \"textposition\": \"top center\", \"type\": \"scatter\", \"x\": [\"2015-05-01T00:00:00\", \"2015-11-01T00:00:00\", \"2018-04-01T00:00:00\"], \"xaxis\": \"x\", \"y\": [\"Multi-Domain Sentiment Dataset, Electronics\", \"Multi-Domain Sentiment Dataset, Electronics\", \"Multi-Domain Sentiment Dataset, Electronics\"], \"yaxis\": \"y\"}, {\"hovertemplate\": \"unique_ds=%{y}<br>date=%{x}<extra></extra>\", \"legendgroup\": \"MR, Accuracy\", \"line\": {\"color\": \"#19d3f3\", \"dash\": \"solid\"}, \"mode\": \"lines\", \"name\": \"MR, Accuracy\", \"orientation\": \"v\", \"showlegend\": true, \"textposition\": \"top center\", \"type\": \"scatter\", \"x\": [\"2017-02-01T00:00:00\", \"2018-02-01T00:00:00\", \"2018-05-01T00:00:00\"], \"xaxis\": \"x\", \"y\": [\"MR, Accuracy\", \"MR, Accuracy\", \"MR, Accuracy\"], \"yaxis\": \"y\"}, {\"hovertemplate\": \"unique_ds=%{y}<br>date=%{x}<extra></extra>\", \"legendgroup\": \"Multi-Domain Sentiment Dataset, Kitchen\", \"line\": {\"color\": \"#FF6692\", \"dash\": \"solid\"}, \"mode\": \"lines\", \"name\": \"Multi-Domain Sentiment Dataset, Kitchen\", \"orientation\": \"v\", \"showlegend\": true, \"textposition\": \"top center\", \"type\": \"scatter\", \"x\": [\"2015-05-01T00:00:00\", \"2015-11-01T00:00:00\", \"2017-02-01T00:00:00\", \"2018-10-01T00:00:00\"], \"xaxis\": \"x\", \"y\": [\"Multi-Domain Sentiment Dataset, Kitchen\", \"Multi-Domain Sentiment Dataset, Kitchen\", \"Multi-Domain Sentiment Dataset, Kitchen\", \"Multi-Domain Sentiment Dataset, Kitchen\"], \"yaxis\": \"y\"}, {\"hovertemplate\": \"unique_ds=%{y}<br>date=%{x}<extra></extra>\", \"legendgroup\": \"Financial PhraseBank, F1 score\", \"line\": {\"color\": \"#B6E880\", \"dash\": \"solid\"}, \"mode\": \"lines\", \"name\": \"Financial PhraseBank, F1 score\", \"orientation\": \"v\", \"showlegend\": true, \"textposition\": \"top center\", \"type\": \"scatter\", \"x\": [\"2019-08-01T00:00:00\"], \"xaxis\": \"x\", \"y\": [\"Financial PhraseBank, F1 score\"], \"yaxis\": \"y\"}, {\"hovertemplate\": \"unique_ds=%{y}<br>date=%{x}<extra></extra>\", \"legendgroup\": \"SST-2 Binary classification, Accuracy\", \"line\": {\"color\": \"#FF97FF\", \"dash\": \"solid\"}, \"mode\": \"lines\", \"name\": \"SST-2 Binary classification, Accuracy\", \"orientation\": \"v\", \"showlegend\": true, \"textposition\": \"top center\", \"type\": \"scatter\", \"x\": [\"2013-10-01T00:00:00\", \"2014-08-01T00:00:00\", \"2015-06-01T00:00:00\", \"2016-03-01T00:00:00\", \"2016-07-01T00:00:00\", \"2017-04-01T00:00:00\", \"2017-12-01T00:00:00\", \"2019-01-01T00:00:00\", \"2019-06-01T00:00:00\", \"2019-09-01T00:00:00\", \"2019-10-01T00:00:00\"], \"xaxis\": \"x\", \"y\": [\"SST-2 Binary classification, Accuracy\", \"SST-2 Binary classification, Accuracy\", \"SST-2 Binary classification, Accuracy\", \"SST-2 Binary classification, Accuracy\", \"SST-2 Binary classification, Accuracy\", \"SST-2 Binary classification, Accuracy\", \"SST-2 Binary classification, Accuracy\", \"SST-2 Binary classification, Accuracy\", \"SST-2 Binary classification, Accuracy\", \"SST-2 Binary classification, Accuracy\", \"SST-2 Binary classification, Accuracy\"], \"yaxis\": \"y\"}, {\"hovertemplate\": \"unique_ds=%{y}<br>date=%{x}<extra></extra>\", \"legendgroup\": \"Financial PhraseBank, Accuracy\", \"line\": {\"color\": \"#FECB52\", \"dash\": \"solid\"}, \"mode\": \"lines\", \"name\": \"Financial PhraseBank, Accuracy\", \"orientation\": \"v\", \"showlegend\": true, \"textposition\": \"top center\", \"type\": \"scatter\", \"x\": [\"2019-08-01T00:00:00\"], \"xaxis\": \"x\", \"y\": [\"Financial PhraseBank, Accuracy\"], \"yaxis\": \"y\"}, {\"hovertemplate\": \"unique_ds=%{y}<br>date=%{x}<extra></extra>\", \"legendgroup\": \"MPQA, Accuracy\", \"line\": {\"color\": \"#636efa\", \"dash\": \"solid\"}, \"mode\": \"lines\", \"name\": \"MPQA, Accuracy\", \"orientation\": \"v\", \"showlegend\": true, \"textposition\": \"top center\", \"type\": \"scatter\", \"x\": [\"2018-03-01T00:00:00\", \"2018-05-01T00:00:00\", \"2019-05-01T00:00:00\"], \"xaxis\": \"x\", \"y\": [\"MPQA, Accuracy\", \"MPQA, Accuracy\", \"MPQA, Accuracy\"], \"yaxis\": \"y\"}, {\"hovertemplate\": \"unique_ds=%{y}<br>date=%{x}<extra></extra>\", \"legendgroup\": \"CR, Accuracy\", \"line\": {\"color\": \"#EF553B\", \"dash\": \"solid\"}, \"mode\": \"lines\", \"name\": \"CR, Accuracy\", \"orientation\": \"v\", \"showlegend\": true, \"textposition\": \"top center\", \"type\": \"scatter\", \"x\": [\"2017-12-01T00:00:00\"], \"xaxis\": \"x\", \"y\": [\"CR, Accuracy\"], \"yaxis\": \"y\"}, {\"hovertemplate\": \"unique_ds=%{y}<br>date=%{x}<extra></extra>\", \"legendgroup\": \"IMDb, Accuracy\", \"line\": {\"color\": \"#00cc96\", \"dash\": \"solid\"}, \"mode\": \"lines\", \"name\": \"IMDb, Accuracy\", \"orientation\": \"v\", \"showlegend\": true, \"textposition\": \"top center\", \"type\": \"scatter\", \"x\": [\"2014-12-01T00:00:00\", \"2016-02-01T00:00:00\", \"2017-12-01T00:00:00\", \"2018-01-01T00:00:00\", \"2019-02-01T00:00:00\", \"2019-04-01T00:00:00\", \"2019-06-01T00:00:00\", \"2019-07-01T00:00:00\"], \"xaxis\": \"x\", \"y\": [\"IMDb, Accuracy\", \"IMDb, Accuracy\", \"IMDb, Accuracy\", \"IMDb, Accuracy\", \"IMDb, Accuracy\", \"IMDb, Accuracy\", \"IMDb, Accuracy\", \"IMDb, Accuracy\"], \"yaxis\": \"y\"}, {\"hovertemplate\": \"unique_ds=%{y}<br>date=%{x}<extra></extra>\", \"legendgroup\": \"1B Words, 1 in 10 R-at-1\", \"line\": {\"color\": \"#ab63fa\", \"dash\": \"solid\"}, \"mode\": \"lines\", \"name\": \"1B Words, 1 in 10 R-at-1\", \"orientation\": \"v\", \"showlegend\": true, \"textposition\": \"top center\", \"type\": \"scatter\", \"x\": [\"2012-06-01T00:00:00\"], \"xaxis\": \"x\", \"y\": [\"1B Words, 1 in 10 R-at-1\"], \"yaxis\": \"y\"}, {\"hovertemplate\": \"unique_ds=%{y}<br>date=%{x}<extra></extra>\", \"legendgroup\": \"AJGT, Accuracy\", \"line\": {\"color\": \"#FFA15A\", \"dash\": \"solid\"}, \"mode\": \"lines\", \"name\": \"AJGT, Accuracy\", \"orientation\": \"v\", \"showlegend\": true, \"textposition\": \"top center\", \"type\": \"scatter\", \"x\": [\"2020-02-01T00:00:00\"], \"xaxis\": \"x\", \"y\": [\"AJGT, Accuracy\"], \"yaxis\": \"y\"}, {\"hovertemplate\": \"unique_ds=%{y}<br>date=%{x}<extra></extra>\", \"legendgroup\": \"DBRD, Accuracy\", \"line\": {\"color\": \"#19d3f3\", \"dash\": \"solid\"}, \"mode\": \"lines\", \"name\": \"DBRD, Accuracy\", \"orientation\": \"v\", \"showlegend\": true, \"textposition\": \"top center\", \"type\": \"scatter\", \"x\": [\"2020-01-01T00:00:00\"], \"xaxis\": \"x\", \"y\": [\"DBRD, Accuracy\"], \"yaxis\": \"y\"}, {\"hovertemplate\": \"unique_ds=%{y}<br>date=%{x}<extra></extra>\", \"legendgroup\": \"DBRD, F1\", \"line\": {\"color\": \"#FF6692\", \"dash\": \"solid\"}, \"mode\": \"lines\", \"name\": \"DBRD, F1\", \"orientation\": \"v\", \"showlegend\": true, \"textposition\": \"top center\", \"type\": \"scatter\", \"x\": [\"2020-01-01T00:00:00\"], \"xaxis\": \"x\", \"y\": [\"DBRD, F1\"], \"yaxis\": \"y\"}, {\"hovertemplate\": \"unique_ds=%{y}<br>date=%{x}<extra></extra>\", \"legendgroup\": \"Amazon Review Polarity, Accuracy\", \"line\": {\"color\": \"#B6E880\", \"dash\": \"solid\"}, \"mode\": \"lines\", \"name\": \"Amazon Review Polarity, Accuracy\", \"orientation\": \"v\", \"showlegend\": true, \"textposition\": \"top center\", \"type\": \"scatter\", \"x\": [\"2016-07-01T00:00:00\", \"2017-07-01T00:00:00\", \"2019-04-01T00:00:00\"], \"xaxis\": \"x\", \"y\": [\"Amazon Review Polarity, Accuracy\", \"Amazon Review Polarity, Accuracy\", \"Amazon Review Polarity, Accuracy\"], \"yaxis\": \"y\"}, {\"hovertemplate\": \"unique_ds=%{y}<br>date=%{x}<extra></extra>\", \"legendgroup\": \"ChnSentiCorp, F1\", \"line\": {\"color\": \"#FF97FF\", \"dash\": \"solid\"}, \"mode\": \"lines\", \"name\": \"ChnSentiCorp, F1\", \"orientation\": \"v\", \"showlegend\": true, \"textposition\": \"top center\", \"type\": \"scatter\", \"x\": [\"2019-06-01T00:00:00\"], \"xaxis\": \"x\", \"y\": [\"ChnSentiCorp, F1\"], \"yaxis\": \"y\"}, {\"hovertemplate\": \"unique_ds=%{y}<br>date=%{x}<extra></extra>\", \"legendgroup\": \"ChnSentiCorp Dev, F1\", \"line\": {\"color\": \"#FECB52\", \"dash\": \"solid\"}, \"mode\": \"lines\", \"name\": \"ChnSentiCorp Dev, F1\", \"orientation\": \"v\", \"showlegend\": true, \"textposition\": \"top center\", \"type\": \"scatter\", \"x\": [\"2019-06-01T00:00:00\"], \"xaxis\": \"x\", \"y\": [\"ChnSentiCorp Dev, F1\"], \"yaxis\": \"y\"}, {\"hovertemplate\": \"unique_ds=%{y}<br>date=%{x}<extra></extra>\", \"legendgroup\": \"HARD, Accuracy\", \"line\": {\"color\": \"#636efa\", \"dash\": \"solid\"}, \"mode\": \"lines\", \"name\": \"HARD, Accuracy\", \"orientation\": \"v\", \"showlegend\": true, \"textposition\": \"top center\", \"type\": \"scatter\", \"x\": [\"2020-02-01T00:00:00\"], \"xaxis\": \"x\", \"y\": [\"HARD, Accuracy\"], \"yaxis\": \"y\"}, {\"hovertemplate\": \"unique_ds=%{y}<br>date=%{x}<extra></extra>\", \"legendgroup\": \"Sogou News, Accuracy\", \"line\": {\"color\": \"#EF553B\", \"dash\": \"solid\"}, \"mode\": \"lines\", \"name\": \"Sogou News, Accuracy\", \"orientation\": \"v\", \"showlegend\": true, \"textposition\": \"top center\", \"type\": \"scatter\", \"x\": [\"2016-07-01T00:00:00\"], \"xaxis\": \"x\", \"y\": [\"Sogou News, Accuracy\"], \"yaxis\": \"y\"}],                        {\"autosize\": true, \"height\": 1040, \"template\": {\"data\": {\"bar\": [{\"error_x\": {\"color\": \"#2a3f5f\"}, \"error_y\": {\"color\": \"#2a3f5f\"}, \"marker\": {\"line\": {\"color\": \"#E5ECF6\", \"width\": 0.5}}, \"type\": \"bar\"}], \"barpolar\": [{\"marker\": {\"line\": {\"color\": \"#E5ECF6\", \"width\": 0.5}}, \"type\": \"barpolar\"}], \"carpet\": [{\"aaxis\": {\"endlinecolor\": \"#2a3f5f\", \"gridcolor\": \"white\", \"linecolor\": \"white\", \"minorgridcolor\": \"white\", \"startlinecolor\": \"#2a3f5f\"}, \"baxis\": {\"endlinecolor\": \"#2a3f5f\", \"gridcolor\": \"white\", \"linecolor\": \"white\", \"minorgridcolor\": \"white\", \"startlinecolor\": \"#2a3f5f\"}, \"type\": \"carpet\"}], \"choropleth\": [{\"colorbar\": {\"outlinewidth\": 0, \"ticks\": \"\"}, \"type\": \"choropleth\"}], \"contour\": [{\"colorbar\": {\"outlinewidth\": 0, \"ticks\": \"\"}, \"colorscale\": [[0.0, \"#0d0887\"], [0.1111111111111111, \"#46039f\"], [0.2222222222222222, \"#7201a8\"], [0.3333333333333333, \"#9c179e\"], [0.4444444444444444, \"#bd3786\"], [0.5555555555555556, \"#d8576b\"], [0.6666666666666666, \"#ed7953\"], [0.7777777777777778, \"#fb9f3a\"], [0.8888888888888888, \"#fdca26\"], [1.0, \"#f0f921\"]], \"type\": \"contour\"}], \"contourcarpet\": [{\"colorbar\": {\"outlinewidth\": 0, \"ticks\": \"\"}, \"type\": \"contourcarpet\"}], \"heatmap\": [{\"colorbar\": {\"outlinewidth\": 0, \"ticks\": \"\"}, \"colorscale\": [[0.0, \"#0d0887\"], [0.1111111111111111, \"#46039f\"], [0.2222222222222222, \"#7201a8\"], [0.3333333333333333, \"#9c179e\"], [0.4444444444444444, \"#bd3786\"], [0.5555555555555556, \"#d8576b\"], [0.6666666666666666, \"#ed7953\"], [0.7777777777777778, \"#fb9f3a\"], [0.8888888888888888, \"#fdca26\"], [1.0, \"#f0f921\"]], \"type\": \"heatmap\"}], \"heatmapgl\": [{\"colorbar\": {\"outlinewidth\": 0, \"ticks\": \"\"}, \"colorscale\": [[0.0, \"#0d0887\"], [0.1111111111111111, \"#46039f\"], [0.2222222222222222, \"#7201a8\"], [0.3333333333333333, \"#9c179e\"], [0.4444444444444444, \"#bd3786\"], [0.5555555555555556, \"#d8576b\"], [0.6666666666666666, \"#ed7953\"], [0.7777777777777778, \"#fb9f3a\"], [0.8888888888888888, \"#fdca26\"], [1.0, \"#f0f921\"]], \"type\": \"heatmapgl\"}], \"histogram\": [{\"marker\": {\"colorbar\": {\"outlinewidth\": 0, \"ticks\": \"\"}}, \"type\": \"histogram\"}], \"histogram2d\": [{\"colorbar\": {\"outlinewidth\": 0, \"ticks\": \"\"}, \"colorscale\": [[0.0, \"#0d0887\"], [0.1111111111111111, \"#46039f\"], [0.2222222222222222, \"#7201a8\"], [0.3333333333333333, \"#9c179e\"], [0.4444444444444444, \"#bd3786\"], [0.5555555555555556, \"#d8576b\"], [0.6666666666666666, \"#ed7953\"], [0.7777777777777778, \"#fb9f3a\"], [0.8888888888888888, \"#fdca26\"], [1.0, \"#f0f921\"]], \"type\": \"histogram2d\"}], \"histogram2dcontour\": [{\"colorbar\": {\"outlinewidth\": 0, \"ticks\": \"\"}, \"colorscale\": [[0.0, \"#0d0887\"], [0.1111111111111111, \"#46039f\"], [0.2222222222222222, \"#7201a8\"], [0.3333333333333333, \"#9c179e\"], [0.4444444444444444, \"#bd3786\"], [0.5555555555555556, \"#d8576b\"], [0.6666666666666666, \"#ed7953\"], [0.7777777777777778, \"#fb9f3a\"], [0.8888888888888888, \"#fdca26\"], [1.0, \"#f0f921\"]], \"type\": \"histogram2dcontour\"}], \"mesh3d\": [{\"colorbar\": {\"outlinewidth\": 0, \"ticks\": \"\"}, \"type\": \"mesh3d\"}], \"parcoords\": [{\"line\": {\"colorbar\": {\"outlinewidth\": 0, \"ticks\": \"\"}}, \"type\": \"parcoords\"}], \"pie\": [{\"automargin\": true, \"type\": \"pie\"}], \"scatter\": [{\"marker\": {\"colorbar\": {\"outlinewidth\": 0, \"ticks\": \"\"}}, \"type\": \"scatter\"}], \"scatter3d\": [{\"line\": {\"colorbar\": {\"outlinewidth\": 0, \"ticks\": \"\"}}, \"marker\": {\"colorbar\": {\"outlinewidth\": 0, \"ticks\": \"\"}}, \"type\": \"scatter3d\"}], \"scattercarpet\": [{\"marker\": {\"colorbar\": {\"outlinewidth\": 0, \"ticks\": \"\"}}, \"type\": \"scattercarpet\"}], \"scattergeo\": [{\"marker\": {\"colorbar\": {\"outlinewidth\": 0, \"ticks\": \"\"}}, \"type\": \"scattergeo\"}], \"scattergl\": [{\"marker\": {\"colorbar\": {\"outlinewidth\": 0, \"ticks\": \"\"}}, \"type\": \"scattergl\"}], \"scattermapbox\": [{\"marker\": {\"colorbar\": {\"outlinewidth\": 0, \"ticks\": \"\"}}, \"type\": \"scattermapbox\"}], \"scatterpolar\": [{\"marker\": {\"colorbar\": {\"outlinewidth\": 0, \"ticks\": \"\"}}, \"type\": \"scatterpolar\"}], \"scatterpolargl\": [{\"marker\": {\"colorbar\": {\"outlinewidth\": 0, \"ticks\": \"\"}}, \"type\": \"scatterpolargl\"}], \"scatterternary\": [{\"marker\": {\"colorbar\": {\"outlinewidth\": 0, \"ticks\": \"\"}}, \"type\": \"scatterternary\"}], \"surface\": [{\"colorbar\": {\"outlinewidth\": 0, \"ticks\": \"\"}, \"colorscale\": [[0.0, \"#0d0887\"], [0.1111111111111111, \"#46039f\"], [0.2222222222222222, \"#7201a8\"], [0.3333333333333333, \"#9c179e\"], [0.4444444444444444, \"#bd3786\"], [0.5555555555555556, \"#d8576b\"], [0.6666666666666666, \"#ed7953\"], [0.7777777777777778, \"#fb9f3a\"], [0.8888888888888888, \"#fdca26\"], [1.0, \"#f0f921\"]], \"type\": \"surface\"}], \"table\": [{\"cells\": {\"fill\": {\"color\": \"#EBF0F8\"}, \"line\": {\"color\": \"white\"}}, \"header\": {\"fill\": {\"color\": \"#C8D4E3\"}, \"line\": {\"color\": \"white\"}}, \"type\": \"table\"}]}, \"layout\": {\"annotationdefaults\": {\"arrowcolor\": \"#2a3f5f\", \"arrowhead\": 0, \"arrowwidth\": 1}, \"autotypenumbers\": \"strict\", \"coloraxis\": {\"colorbar\": {\"outlinewidth\": 0, \"ticks\": \"\"}}, \"colorscale\": {\"diverging\": [[0, \"#8e0152\"], [0.1, \"#c51b7d\"], [0.2, \"#de77ae\"], [0.3, \"#f1b6da\"], [0.4, \"#fde0ef\"], [0.5, \"#f7f7f7\"], [0.6, \"#e6f5d0\"], [0.7, \"#b8e186\"], [0.8, \"#7fbc41\"], [0.9, \"#4d9221\"], [1, \"#276419\"]], \"sequential\": [[0.0, \"#0d0887\"], [0.1111111111111111, \"#46039f\"], [0.2222222222222222, \"#7201a8\"], [0.3333333333333333, \"#9c179e\"], [0.4444444444444444, \"#bd3786\"], [0.5555555555555556, \"#d8576b\"], [0.6666666666666666, \"#ed7953\"], [0.7777777777777778, \"#fb9f3a\"], [0.8888888888888888, \"#fdca26\"], [1.0, \"#f0f921\"]], \"sequentialminus\": [[0.0, \"#0d0887\"], [0.1111111111111111, \"#46039f\"], [0.2222222222222222, \"#7201a8\"], [0.3333333333333333, \"#9c179e\"], [0.4444444444444444, \"#bd3786\"], [0.5555555555555556, \"#d8576b\"], [0.6666666666666666, \"#ed7953\"], [0.7777777777777778, \"#fb9f3a\"], [0.8888888888888888, \"#fdca26\"], [1.0, \"#f0f921\"]]}, \"colorway\": [\"#636efa\", \"#EF553B\", \"#00cc96\", \"#ab63fa\", \"#FFA15A\", \"#19d3f3\", \"#FF6692\", \"#B6E880\", \"#FF97FF\", \"#FECB52\"], \"font\": {\"color\": \"#2a3f5f\"}, \"geo\": {\"bgcolor\": \"white\", \"lakecolor\": \"white\", \"landcolor\": \"#E5ECF6\", \"showlakes\": true, \"showland\": true, \"subunitcolor\": \"white\"}, \"hoverlabel\": {\"align\": \"left\"}, \"hovermode\": \"closest\", \"mapbox\": {\"style\": \"light\"}, \"paper_bgcolor\": \"white\", \"plot_bgcolor\": \"#E5ECF6\", \"polar\": {\"angularaxis\": {\"gridcolor\": \"white\", \"linecolor\": \"white\", \"ticks\": \"\"}, \"bgcolor\": \"#E5ECF6\", \"radialaxis\": {\"gridcolor\": \"white\", \"linecolor\": \"white\", \"ticks\": \"\"}}, \"scene\": {\"xaxis\": {\"backgroundcolor\": \"#E5ECF6\", \"gridcolor\": \"white\", \"gridwidth\": 2, \"linecolor\": \"white\", \"showbackground\": true, \"ticks\": \"\", \"zerolinecolor\": \"white\"}, \"yaxis\": {\"backgroundcolor\": \"#E5ECF6\", \"gridcolor\": \"white\", \"gridwidth\": 2, \"linecolor\": \"white\", \"showbackground\": true, \"ticks\": \"\", \"zerolinecolor\": \"white\"}, \"zaxis\": {\"backgroundcolor\": \"#E5ECF6\", \"gridcolor\": \"white\", \"gridwidth\": 2, \"linecolor\": \"white\", \"showbackground\": true, \"ticks\": \"\", \"zerolinecolor\": \"white\"}}, \"shapedefaults\": {\"line\": {\"color\": \"#2a3f5f\"}}, \"ternary\": {\"aaxis\": {\"gridcolor\": \"white\", \"linecolor\": \"white\", \"ticks\": \"\"}, \"baxis\": {\"gridcolor\": \"white\", \"linecolor\": \"white\", \"ticks\": \"\"}, \"bgcolor\": \"#E5ECF6\", \"caxis\": {\"gridcolor\": \"white\", \"linecolor\": \"white\", \"ticks\": \"\"}}, \"title\": {\"x\": 0.05}, \"xaxis\": {\"automargin\": true, \"gridcolor\": \"white\", \"linecolor\": \"white\", \"ticks\": \"\", \"title\": {\"standoff\": 15}, \"zerolinecolor\": \"white\", \"zerolinewidth\": 2}, \"yaxis\": {\"automargin\": true, \"gridcolor\": \"white\", \"linecolor\": \"white\", \"ticks\": \"\", \"title\": {\"standoff\": 15}, \"zerolinecolor\": \"white\", \"zerolinewidth\": 2}}}, \"width\": 1040},                        {\"responsive\": true}                    ).then(function(){\n",
       "                            \n",
       "var gd = document.getElementById('e97104a8-f24a-4b1b-889d-03eaf8a237d4');\n",
       "var x = new MutationObserver(function (mutations, observer) {{\n",
       "        var display = window.getComputedStyle(gd).display;\n",
       "        if (!display || display === 'none') {{\n",
       "            console.log([gd, 'removed!']);\n",
       "            Plotly.purge(gd);\n",
       "            observer.disconnect();\n",
       "        }}\n",
       "}});\n",
       "\n",
       "// Listen for the removal of the full notebook cells\n",
       "var notebookContainer = gd.closest('#notebook-container');\n",
       "if (notebookContainer) {{\n",
       "    x.observe(notebookContainer, {childList: true});\n",
       "}}\n",
       "\n",
       "// Listen for the clearing of the current output cell\n",
       "var outputEl = gd.closest('.output');\n",
       "if (outputEl) {{\n",
       "    x.observe(outputEl, {childList: true});\n",
       "}}\n",
       "\n",
       "                        })                };                });            </script>        </div>"
      ]
     },
     "metadata": {},
     "output_type": "display_data"
    }
   ],
   "source": [
    "import pandas as pd\n",
    "import plotly.express as px\n",
    "\n",
    "fig1 = px.scatter(ratio_df, x = 'date', y = 'unique_ds', color='unique_ds',  text=\"value\"\n",
    "              ) \n",
    "\n",
    "\n",
    "fig2 = px.line(ratio_df, x = 'date', y = 'unique_ds', color='unique_ds'\n",
    "              )    \n",
    "\n",
    "fig2.update_layout(showlegend=False)\n",
    "\n",
    "fig3 = go.Figure(data=fig1.data + fig2.data)\n",
    "\n",
    "fig3.update_layout(\n",
    "    autosize=True,\n",
    "    width=1040,\n",
    "    height=1040)\n",
    "\n",
    "\n",
    "fig3.update_traces(textposition='top center')\n"
   ]
  },
  {
   "cell_type": "code",
   "execution_count": null,
   "metadata": {},
   "outputs": [],
   "source": []
  }
 ],
 "metadata": {
  "kernelspec": {
   "display_name": "Python 3",
   "language": "python",
   "name": "python3"
  },
  "language_info": {
   "codemirror_mode": {
    "name": "ipython",
    "version": 3
   },
   "file_extension": ".py",
   "mimetype": "text/x-python",
   "name": "python",
   "nbconvert_exporter": "python",
   "pygments_lexer": "ipython3",
   "version": "3.9.5"
  },
  "toc": {
   "nav_menu": {},
   "number_sections": true,
   "sideBar": true,
   "skip_h1_title": false,
   "toc_cell": false,
   "toc_position": {},
   "toc_section_display": "block",
   "toc_window_display": false
  }
 },
 "nbformat": 4,
 "nbformat_minor": 2
}
