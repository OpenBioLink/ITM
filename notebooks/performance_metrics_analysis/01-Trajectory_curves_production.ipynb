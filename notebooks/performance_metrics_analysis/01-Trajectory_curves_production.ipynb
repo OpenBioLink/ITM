{
 "cells": [
  {
   "cell_type": "raw",
   "metadata": {},
   "source": [
    "## Trajectory curve \n",
    "\n",
    "This plots the following:\n",
    "a) PSC-like plot\n",
    "b) One metric and one benchmark"
   ]
  },
  {
   "cell_type": "code",
   "execution_count": 1,
   "metadata": {
    "scrolled": true
   },
   "outputs": [],
   "source": [
    "#!pip install SPARQLWrapper\n",
    "#!pip install pandas\n",
    "#!pip install numpy\n",
    "#!pip install matplotlib\n",
    "#!pip install seaborn\n",
    "#!pip install sparqlwrapper\n",
    "#!pip install plotly"
   ]
  },
  {
   "cell_type": "code",
   "execution_count": 2,
   "metadata": {},
   "outputs": [],
   "source": [
    "import os\n",
    "import json\n",
    "import pandas as pd\n",
    "import numpy as np\n",
    "import matplotlib.pyplot as plt\n",
    "from matplotlib.ticker import ScalarFormatter\n",
    "import seaborn as sns\n",
    "from SPARQLWrapper import SPARQLWrapper, N3, JSON\n",
    "from rdflib import Graph\n",
    "\n",
    "import plotly.express as px\n",
    "\n",
    "\n",
    "%matplotlib inline"
   ]
  },
  {
   "cell_type": "code",
   "execution_count": 3,
   "metadata": {},
   "outputs": [],
   "source": [
    "#endpoint = \"http://localhost:9999/blazegraph/sparql\" # SPARQL endpoint hosting ITO.owl\n",
    "\n",
    "endpoint = \"http://149.148.106.153:9999/blazegraph/sparql\"\n",
    "prefixes = \"\"\"\n",
    "PREFIX edam: <http://edamontology.org/>\n",
    "PREFIX obo:  <http://purl.obolibrary.org/obo/>\n",
    "PREFIX ito:  <https://identifiers.org/ito#>\n",
    "PREFIX rdfs: <http://www.w3.org/2000/01/rdf-schema#>\n",
    "PREFIX foaf: <http://xmlns.com/foaf/0.1/>\n",
    "\"\"\"\n",
    "\n",
    "def query(service, query, numeric_cols = []):\n",
    "    \"\"\"\n",
    "    Helper function to convert SPARQL results into a Pandas data frame.\n",
    "    \"\"\"\n",
    "    sparql = SPARQLWrapper(service)\n",
    "    sparql.setQuery(query)\n",
    "    sparql.setReturnFormat(JSON)\n",
    "    result = sparql.query()\n",
    "\n",
    "    processed_results = json.load(result.response)\n",
    "    cols = processed_results['head']['vars']\n",
    "\n",
    "    out = []\n",
    "    for row in processed_results['results']['bindings']:\n",
    "        item = []\n",
    "        for c in cols:\n",
    "            item.append(row.get(c, {}).get('value'))\n",
    "        out.append(item)\n",
    "        \n",
    "    df = pd.DataFrame(out, columns=cols)\n",
    "    for col in numeric_cols:\n",
    "        df[col] = pd.to_numeric(df[col])\n",
    "    \n",
    "    return df\n"
   ]
  },
  {
   "cell_type": "code",
   "execution_count": 22,
   "metadata": {},
   "outputs": [
    {
     "name": "stderr",
     "output_type": "stream",
     "text": [
      "<ipython-input-22-0b05700bb8e3>:84: UserWarning:\n",
      "\n",
      "Pandas doesn't allow columns to be created via a new attribute name - see https://pandas.pydata.org/pandas-docs/stable/indexing.html#attribute-access\n",
      "\n"
     ]
    }
   ],
   "source": [
    "#Query database\n",
    "\n",
    "desired_measure = \"Hits-at-10\"\n",
    "desired_benchmark= \"WN18RR\"\n",
    "\n",
    "#desired_benchmark= \"FB15k\"\n",
    "\n",
    "#desired_benchmark= \"Citeseer\"   #this benchmark has zero results for \"Hits-at-10\"\n",
    "\n",
    "#desired_benchmark= \"FB15k-237\"\n",
    "#desired_measure = \"MRR\"\n",
    "\n",
    "\n",
    "query = \"\"\"\n",
    "PREFIX edam: <http://edamontology.org/>\n",
    "PREFIX obo:  <http://purl.obolibrary.org/obo/>\n",
    "PREFIX ito:  <https://identifiers.org/ito:>\n",
    "PREFIX rdfs: <http://www.w3.org/2000/01/rdf-schema#>\n",
    "PREFIX foaf: <http://xmlns.com/foaf/0.1/>\n",
    "     \n",
    "SELECT *\n",
    "WHERE {\n",
    "    ?paper a edam:data_0971 . \n",
    "    ?paper rdfs:label ?paperTitle. \n",
    "    ?paper obo:date ?date. \n",
    "\n",
    "  \t?benchmark_process_individual \trdfs:seeAlso ?paper ;\n",
    "\t\t\t\t\t\t\t\t\trdfs:label ?model_label ;\n",
    "                                    a ?benchmark_process_class . # this will create a place holder for the rdfs:type results that contains the information about the individual\n",
    "  \t?benchmark_process_class rdfs:label ?benchmark_process_class_label .\n",
    "    \n",
    " \n",
    "    ?performance_measure rdfs:subPropertyOf* ito:performance_measure .\n",
    "    ?performance_measure rdfs:label ?metricName .\n",
    "    \n",
    "    \n",
    "  \n",
    "    ?performance_measure rdfs:label ?metricName .\n",
    "    ?benchmark_process_individual ?performance_measure ?result .\t\n",
    "  \n",
    "   \n",
    "\t#FILTER regex(?paperTitle, \"Quaternion Knowledge Graph Embeddings\" ). # this searches a specific match\n",
    "    FILTER regex(?metricName, \"^\"\"\"+ desired_measure +\"\"\"$\" ). # this searches a specific match\n",
    "    FILTER regex(?benchmark_process_class_label, \"^\"\"\"+desired_benchmark+\"\"\" - Link Prediction benchmarking$\" ). # this searches a specific match\n",
    "    #FILTER regex(?benchmark_process_class_label, \"^FB15k - Link Prediction benchmarking\" ). # this searches a specific match\n",
    "    \n",
    "    #WN18RR - Link Prediction benchmarking\n",
    "  \n",
    "  \n",
    "  \n",
    "    \n",
    "} ORDER by ?date\n",
    "\n",
    "\n",
    " \n",
    "\"\"\"\n",
    "\n",
    "#send query via API\n",
    "sparql = SPARQLWrapper(endpoint)\n",
    "sparql.setQuery(query)\n",
    "sparql.setReturnFormat(JSON)\n",
    "result = sparql.query()\n",
    "\n",
    "#process results as JSON\n",
    "processed_results = json.load(result.response)\n",
    "\n",
    "#Use accessory function to process results\n",
    "cols = processed_results['head']['vars']\n",
    "\n",
    "out = []\n",
    "for row in processed_results['results']['bindings']:\n",
    "    item = []\n",
    "    for c in cols:\n",
    "        item.append(row.get(c, {}).get('value'))\n",
    "    \n",
    "    out.append(item)\n",
    "        \n",
    "df = pd.DataFrame(out, columns=cols)\n",
    "\n",
    "#Set date column to datetime\n",
    "df['date'] = pd.to_datetime(df['date'])\n",
    "\n",
    "#Keep only the model name\n",
    "df.new = df.replace(to_replace =' model in .*$', value = '', regex = True)\n",
    "\n",
    "df.new[\"result\"] = pd.to_numeric(df.new[\"result\"]) \n",
    "\n",
    "#Create dataframe to store state of art results\n",
    "sota = pd.DataFrame(columns = df.new.columns)\n",
    "\n",
    "best_value = 0\n",
    "i=0\n",
    "\n",
    "for result in df.new[\"result\"]:        \n",
    "        if result > best_value:\n",
    "            best_value = result\n",
    "            sota_add = pd.DataFrame(df.new.iloc[i]).transpose()\n",
    "            sota = sota.append(sota_add)            \n",
    "        i = i+1    \n",
    "\n",
    "#This variable is containing the data points to plot the state of the art line        \n",
    "#sota\n",
    "\n",
    "\n"
   ]
  },
  {
   "cell_type": "code",
   "execution_count": 23,
   "metadata": {},
   "outputs": [
    {
     "name": "stdout",
     "output_type": "stream",
     "text": [
      "Results:  28\n"
     ]
    }
   ],
   "source": [
    "if len(df.index)==0 :\n",
    "    print(\"Zero\")\n",
    "else:\n",
    "    print(\"Results: \",len(df.index))     "
   ]
  },
  {
   "cell_type": "code",
   "execution_count": 24,
   "metadata": {},
   "outputs": [
    {
     "data": {
      "text/html": [
       "<div>\n",
       "<style scoped>\n",
       "    .dataframe tbody tr th:only-of-type {\n",
       "        vertical-align: middle;\n",
       "    }\n",
       "\n",
       "    .dataframe tbody tr th {\n",
       "        vertical-align: top;\n",
       "    }\n",
       "\n",
       "    .dataframe thead th {\n",
       "        text-align: right;\n",
       "    }\n",
       "</style>\n",
       "<table border=\"1\" class=\"dataframe\">\n",
       "  <thead>\n",
       "    <tr style=\"text-align: right;\">\n",
       "      <th></th>\n",
       "      <th>paper</th>\n",
       "      <th>paperTitle</th>\n",
       "      <th>date</th>\n",
       "      <th>benchmark_process_individual</th>\n",
       "      <th>model_label</th>\n",
       "      <th>benchmark_process_class</th>\n",
       "      <th>benchmark_process_class_label</th>\n",
       "      <th>performance_measure</th>\n",
       "      <th>metricName</th>\n",
       "      <th>result</th>\n",
       "    </tr>\n",
       "  </thead>\n",
       "  <tbody>\n",
       "    <tr>\n",
       "      <th>0</th>\n",
       "      <td>https://identifiers.org/ito:ITO_02749</td>\n",
       "      <td>Translating Embeddings for Modeling Multi-rela...</td>\n",
       "      <td>2013-12-01</td>\n",
       "      <td>https://identifiers.org/ito:ito_0279114</td>\n",
       "      <td>TransE model in 'Translating Embeddings for Mo...</td>\n",
       "      <td>https://identifiers.org/ito:ITO_02791</td>\n",
       "      <td>WN18RR - Link Prediction benchmarking</td>\n",
       "      <td>https://identifiers.org/ito:ITO_02605</td>\n",
       "      <td>Hits-at-10</td>\n",
       "      <td>0.5555</td>\n",
       "    </tr>\n",
       "    <tr>\n",
       "      <th>1</th>\n",
       "      <td>https://identifiers.org/ito:ITO_02638</td>\n",
       "      <td>Convolutional 2D Knowledge Graph Embeddings</td>\n",
       "      <td>2017-07-05</td>\n",
       "      <td>https://identifiers.org/ito:ito_0279123</td>\n",
       "      <td>ConvE model in 'Convolutional 2D Knowledge Gra...</td>\n",
       "      <td>https://identifiers.org/ito:ITO_02791</td>\n",
       "      <td>WN18RR - Link Prediction benchmarking</td>\n",
       "      <td>https://identifiers.org/ito:ITO_02605</td>\n",
       "      <td>Hits-at-10</td>\n",
       "      <td>0.52</td>\n",
       "    </tr>\n",
       "    <tr>\n",
       "      <th>2</th>\n",
       "      <td>https://identifiers.org/ito:ITO_02638</td>\n",
       "      <td>Convolutional 2D Knowledge Graph Embeddings</td>\n",
       "      <td>2017-07-05</td>\n",
       "      <td>https://identifiers.org/ito:ito_0279128</td>\n",
       "      <td>Inverse Model model in 'Convolutional 2D Knowl...</td>\n",
       "      <td>https://identifiers.org/ito:ITO_02791</td>\n",
       "      <td>WN18RR - Link Prediction benchmarking</td>\n",
       "      <td>https://identifiers.org/ito:ITO_02605</td>\n",
       "      <td>Hits-at-10</td>\n",
       "      <td>0.35</td>\n",
       "    </tr>\n",
       "    <tr>\n",
       "      <th>3</th>\n",
       "      <td>https://identifiers.org/ito:ITO_02664</td>\n",
       "      <td>KBGAN: Adversarial Learning for Knowledge Grap...</td>\n",
       "      <td>2017-11-11</td>\n",
       "      <td>https://identifiers.org/ito:ito_0279126</td>\n",
       "      <td>KBGAN (TransD + ComplEx) model in 'KBGAN: Adve...</td>\n",
       "      <td>https://identifiers.org/ito:ITO_02791</td>\n",
       "      <td>WN18RR - Link Prediction benchmarking</td>\n",
       "      <td>https://identifiers.org/ito:ITO_02605</td>\n",
       "      <td>Hits-at-10</td>\n",
       "      <td>0.469</td>\n",
       "    </tr>\n",
       "    <tr>\n",
       "      <th>4</th>\n",
       "      <td>https://identifiers.org/ito:ITO_02796</td>\n",
       "      <td>A Novel Embedding Model for Knowledge Base Com...</td>\n",
       "      <td>2017-12-06</td>\n",
       "      <td>https://identifiers.org/ito:ito_0279120</td>\n",
       "      <td>ConvKB model in 'A Novel Embedding Model for K...</td>\n",
       "      <td>https://identifiers.org/ito:ITO_02791</td>\n",
       "      <td>WN18RR - Link Prediction benchmarking</td>\n",
       "      <td>https://identifiers.org/ito:ITO_02605</td>\n",
       "      <td>Hits-at-10</td>\n",
       "      <td>0.525</td>\n",
       "    </tr>\n",
       "    <tr>\n",
       "      <th>5</th>\n",
       "      <td>https://identifiers.org/ito:ITO_02642</td>\n",
       "      <td>Canonical Tensor Decomposition for Knowledge B...</td>\n",
       "      <td>2018-06-19</td>\n",
       "      <td>https://identifiers.org/ito:ito_0279110</td>\n",
       "      <td>ComplEx-N3 (reciprocal) model in 'Canonical Te...</td>\n",
       "      <td>https://identifiers.org/ito:ITO_02791</td>\n",
       "      <td>WN18RR - Link Prediction benchmarking</td>\n",
       "      <td>https://identifiers.org/ito:ITO_02605</td>\n",
       "      <td>Hits-at-10</td>\n",
       "      <td>0.57</td>\n",
       "    </tr>\n",
       "    <tr>\n",
       "      <th>6</th>\n",
       "      <td>https://identifiers.org/ito:ITO_02650</td>\n",
       "      <td>Hypernetwork Knowledge Graph Embeddings</td>\n",
       "      <td>2018-08-21</td>\n",
       "      <td>https://identifiers.org/ito:ito_0279122</td>\n",
       "      <td>HypER model in 'Hypernetwork Knowledge Graph E...</td>\n",
       "      <td>https://identifiers.org/ito:ITO_02791</td>\n",
       "      <td>WN18RR - Link Prediction benchmarking</td>\n",
       "      <td>https://identifiers.org/ito:ITO_02605</td>\n",
       "      <td>Hits-at-10</td>\n",
       "      <td>0.522</td>\n",
       "    </tr>\n",
       "    <tr>\n",
       "      <th>7</th>\n",
       "      <td>https://identifiers.org/ito:ITO_02793</td>\n",
       "      <td>Predicting Semantic Relations using Global Gra...</td>\n",
       "      <td>2018-08-27</td>\n",
       "      <td>https://identifiers.org/ito:ito_027912</td>\n",
       "      <td>M3GM model in 'Predicting Semantic Relations u...</td>\n",
       "      <td>https://identifiers.org/ito:ITO_02791</td>\n",
       "      <td>WN18RR - Link Prediction benchmarking</td>\n",
       "      <td>https://identifiers.org/ito:ITO_02605</td>\n",
       "      <td>Hits-at-10</td>\n",
       "      <td>0.5902</td>\n",
       "    </tr>\n",
       "    <tr>\n",
       "      <th>8</th>\n",
       "      <td>https://identifiers.org/ito:ITO_02697</td>\n",
       "      <td>End-to-end Structure-Aware Convolutional Netwo...</td>\n",
       "      <td>2018-11-11</td>\n",
       "      <td>https://identifiers.org/ito:ito_0279116</td>\n",
       "      <td>Structure-Aware Convolutional Networks model i...</td>\n",
       "      <td>https://identifiers.org/ito:ITO_02791</td>\n",
       "      <td>WN18RR - Link Prediction benchmarking</td>\n",
       "      <td>https://identifiers.org/ito:ITO_02605</td>\n",
       "      <td>Hits-at-10</td>\n",
       "      <td>0.54</td>\n",
       "    </tr>\n",
       "    <tr>\n",
       "      <th>9</th>\n",
       "      <td>https://identifiers.org/ito:ITO_02671</td>\n",
       "      <td>NSCaching: Simple and Efficient Negative Sampl...</td>\n",
       "      <td>2018-12-16</td>\n",
       "      <td>https://identifiers.org/ito:ito_0279125</td>\n",
       "      <td>ComplEx NSCaching model in 'NSCaching: Simple ...</td>\n",
       "      <td>https://identifiers.org/ito:ITO_02791</td>\n",
       "      <td>WN18RR - Link Prediction benchmarking</td>\n",
       "      <td>https://identifiers.org/ito:ITO_02605</td>\n",
       "      <td>Hits-at-10</td>\n",
       "      <td>0.5089</td>\n",
       "    </tr>\n",
       "    <tr>\n",
       "      <th>10</th>\n",
       "      <td>https://identifiers.org/ito:ITO_02648</td>\n",
       "      <td>TuckER: Tensor Factorization for Knowledge Gra...</td>\n",
       "      <td>2019-01-28</td>\n",
       "      <td>https://identifiers.org/ito:ito_0279119</td>\n",
       "      <td>TuckER model in 'TuckER: Tensor Factorization ...</td>\n",
       "      <td>https://identifiers.org/ito:ITO_02791</td>\n",
       "      <td>WN18RR - Link Prediction benchmarking</td>\n",
       "      <td>https://identifiers.org/ito:ITO_02605</td>\n",
       "      <td>Hits-at-10</td>\n",
       "      <td>0.526</td>\n",
       "    </tr>\n",
       "    <tr>\n",
       "      <th>11</th>\n",
       "      <td>https://identifiers.org/ito:ITO_02646</td>\n",
       "      <td>RotatE: Knowledge Graph Embedding by Relationa...</td>\n",
       "      <td>2019-02-26</td>\n",
       "      <td>https://identifiers.org/ito:ito_027919</td>\n",
       "      <td>RotatE model in 'RotatE: Knowledge Graph Embed...</td>\n",
       "      <td>https://identifiers.org/ito:ITO_02791</td>\n",
       "      <td>WN18RR - Link Prediction benchmarking</td>\n",
       "      <td>https://identifiers.org/ito:ITO_02605</td>\n",
       "      <td>Hits-at-10</td>\n",
       "      <td>0.571</td>\n",
       "    </tr>\n",
       "    <tr>\n",
       "      <th>12</th>\n",
       "      <td>https://identifiers.org/ito:ITO_02646</td>\n",
       "      <td>RotatE: Knowledge Graph Embedding by Relationa...</td>\n",
       "      <td>2019-02-26</td>\n",
       "      <td>https://identifiers.org/ito:ito_0279115</td>\n",
       "      <td>pRotatE model in 'RotatE: Knowledge Graph Embe...</td>\n",
       "      <td>https://identifiers.org/ito:ITO_02791</td>\n",
       "      <td>WN18RR - Link Prediction benchmarking</td>\n",
       "      <td>https://identifiers.org/ito:ITO_02605</td>\n",
       "      <td>Hits-at-10</td>\n",
       "      <td>0.552</td>\n",
       "    </tr>\n",
       "    <tr>\n",
       "      <th>13</th>\n",
       "      <td>https://identifiers.org/ito:ITO_02658</td>\n",
       "      <td>GraphVite: A High-Performance CPU-GPU Hybrid S...</td>\n",
       "      <td>2019-03-02</td>\n",
       "      <td>https://identifiers.org/ito:ito_027913</td>\n",
       "      <td>RotatE model in 'GraphVite: A High-Performance...</td>\n",
       "      <td>https://identifiers.org/ito:ITO_02791</td>\n",
       "      <td>WN18RR - Link Prediction benchmarking</td>\n",
       "      <td>https://identifiers.org/ito:ITO_02605</td>\n",
       "      <td>Hits-at-10</td>\n",
       "      <td>0.589</td>\n",
       "    </tr>\n",
       "    <tr>\n",
       "      <th>14</th>\n",
       "      <td>https://identifiers.org/ito:ITO_02644</td>\n",
       "      <td>Quaternion Knowledge Graph Embeddings</td>\n",
       "      <td>2019-04-23</td>\n",
       "      <td>https://identifiers.org/ito:ito_027916</td>\n",
       "      <td>QuatE model in 'Quaternion Knowledge Graph Emb...</td>\n",
       "      <td>https://identifiers.org/ito:ITO_02791</td>\n",
       "      <td>WN18RR - Link Prediction benchmarking</td>\n",
       "      <td>https://identifiers.org/ito:ITO_02605</td>\n",
       "      <td>Hits-at-10</td>\n",
       "      <td>0.582</td>\n",
       "    </tr>\n",
       "    <tr>\n",
       "      <th>15</th>\n",
       "      <td>https://identifiers.org/ito:ITO_02640</td>\n",
       "      <td>AutoSF: Searching Scoring Functions for Knowle...</td>\n",
       "      <td>2019-04-26</td>\n",
       "      <td>https://identifiers.org/ito:ito_0279111</td>\n",
       "      <td>AutoKGE model in 'AutoSF: Searching Scoring Fu...</td>\n",
       "      <td>https://identifiers.org/ito:ITO_02791</td>\n",
       "      <td>WN18RR - Link Prediction benchmarking</td>\n",
       "      <td>https://identifiers.org/ito:ITO_02605</td>\n",
       "      <td>Hits-at-10</td>\n",
       "      <td>0.567</td>\n",
       "    </tr>\n",
       "    <tr>\n",
       "      <th>16</th>\n",
       "      <td>https://identifiers.org/ito:ITO_02705</td>\n",
       "      <td>Multi-relational Poincaré Graph Embeddings</td>\n",
       "      <td>2019-05-23</td>\n",
       "      <td>https://identifiers.org/ito:ito_0279112</td>\n",
       "      <td>MuRP model in 'Multi-relational Poincaré Graph...</td>\n",
       "      <td>https://identifiers.org/ito:ITO_02791</td>\n",
       "      <td>WN18RR - Link Prediction benchmarking</td>\n",
       "      <td>https://identifiers.org/ito:ITO_02605</td>\n",
       "      <td>Hits-at-10</td>\n",
       "      <td>0.566</td>\n",
       "    </tr>\n",
       "    <tr>\n",
       "      <th>17</th>\n",
       "      <td>https://identifiers.org/ito:ITO_02652</td>\n",
       "      <td>Adaptive Convolution for Multi-Relational Lear...</td>\n",
       "      <td>2019-06-01</td>\n",
       "      <td>https://identifiers.org/ito:ito_0279117</td>\n",
       "      <td>ConvR model in 'Adaptive Convolution for Multi...</td>\n",
       "      <td>https://identifiers.org/ito:ITO_02791</td>\n",
       "      <td>WN18RR - Link Prediction benchmarking</td>\n",
       "      <td>https://identifiers.org/ito:ITO_02605</td>\n",
       "      <td>Hits-at-10</td>\n",
       "      <td>0.537</td>\n",
       "    </tr>\n",
       "    <tr>\n",
       "      <th>18</th>\n",
       "      <td>https://identifiers.org/ito:ITO_02719</td>\n",
       "      <td>Relation Embedding with Dihedral Group in Know...</td>\n",
       "      <td>2019-06-03</td>\n",
       "      <td>https://identifiers.org/ito:ito_0279113</td>\n",
       "      <td>DihEdral model in 'Relation Embedding with Dih...</td>\n",
       "      <td>https://identifiers.org/ito:ITO_02791</td>\n",
       "      <td>WN18RR - Link Prediction benchmarking</td>\n",
       "      <td>https://identifiers.org/ito:ITO_02605</td>\n",
       "      <td>Hits-at-10</td>\n",
       "      <td>0.557</td>\n",
       "    </tr>\n",
       "    <tr>\n",
       "      <th>19</th>\n",
       "      <td>https://identifiers.org/ito:ITO_02689</td>\n",
       "      <td>Learning Attention-based Embeddings for Relati...</td>\n",
       "      <td>2019-06-04</td>\n",
       "      <td>https://identifiers.org/ito:ito_027918</td>\n",
       "      <td>KBAT model in 'Learning Attention-based Embedd...</td>\n",
       "      <td>https://identifiers.org/ito:ITO_02791</td>\n",
       "      <td>WN18RR - Link Prediction benchmarking</td>\n",
       "      <td>https://identifiers.org/ito:ITO_02605</td>\n",
       "      <td>Hits-at-10</td>\n",
       "      <td>0.581</td>\n",
       "    </tr>\n",
       "    <tr>\n",
       "      <th>20</th>\n",
       "      <td>https://identifiers.org/ito:ITO_02711</td>\n",
       "      <td>KG-BERT: BERT for Knowledge Graph Completion</td>\n",
       "      <td>2019-09-07</td>\n",
       "      <td>https://identifiers.org/ito:ito_0279121</td>\n",
       "      <td>KG-BERT(a) model in 'KG-BERT: BERT for Knowled...</td>\n",
       "      <td>https://identifiers.org/ito:ITO_02791</td>\n",
       "      <td>WN18RR - Link Prediction benchmarking</td>\n",
       "      <td>https://identifiers.org/ito:ITO_02605</td>\n",
       "      <td>Hits-at-10</td>\n",
       "      <td>0.524</td>\n",
       "    </tr>\n",
       "    <tr>\n",
       "      <th>21</th>\n",
       "      <td>https://identifiers.org/ito:ITO_02703</td>\n",
       "      <td>InteractE: Improving Convolution-based Knowled...</td>\n",
       "      <td>2019-11-01</td>\n",
       "      <td>https://identifiers.org/ito:ito_0279118</td>\n",
       "      <td>InteractE model in 'InteractE: Improving Convo...</td>\n",
       "      <td>https://identifiers.org/ito:ITO_02791</td>\n",
       "      <td>WN18RR - Link Prediction benchmarking</td>\n",
       "      <td>https://identifiers.org/ito:ITO_02605</td>\n",
       "      <td>Hits-at-10</td>\n",
       "      <td>0.528</td>\n",
       "    </tr>\n",
       "    <tr>\n",
       "      <th>22</th>\n",
       "      <td>https://identifiers.org/ito:ITO_02701</td>\n",
       "      <td>Composition-based Multi-Relational Graph Convo...</td>\n",
       "      <td>2019-11-08</td>\n",
       "      <td>https://identifiers.org/ito:ito_0279127</td>\n",
       "      <td>CompGCN model in 'Composition-based Multi-Rela...</td>\n",
       "      <td>https://identifiers.org/ito:ITO_02791</td>\n",
       "      <td>WN18RR - Link Prediction benchmarking</td>\n",
       "      <td>https://identifiers.org/ito:ITO_02605</td>\n",
       "      <td>Hits-at-10</td>\n",
       "      <td>0.443</td>\n",
       "    </tr>\n",
       "    <tr>\n",
       "      <th>23</th>\n",
       "      <td>https://identifiers.org/ito:ITO_02693</td>\n",
       "      <td>Orthogonal Relation Transforms with Graph Cont...</td>\n",
       "      <td>2019-11-09</td>\n",
       "      <td>https://identifiers.org/ito:ito_027915</td>\n",
       "      <td>GC-OTE model in 'Orthogonal Relation Transform...</td>\n",
       "      <td>https://identifiers.org/ito:ITO_02791</td>\n",
       "      <td>WN18RR - Link Prediction benchmarking</td>\n",
       "      <td>https://identifiers.org/ito:ITO_02605</td>\n",
       "      <td>Hits-at-10</td>\n",
       "      <td>0.583</td>\n",
       "    </tr>\n",
       "    <tr>\n",
       "      <th>24</th>\n",
       "      <td>https://identifiers.org/ito:ITO_02699</td>\n",
       "      <td>Decompressing Knowledge Graph Representations ...</td>\n",
       "      <td>2019-11-11</td>\n",
       "      <td>https://identifiers.org/ito:ito_0279124</td>\n",
       "      <td>RESCAL + Decom model in 'Decompressing Knowled...</td>\n",
       "      <td>https://identifiers.org/ito:ITO_02791</td>\n",
       "      <td>WN18RR - Link Prediction benchmarking</td>\n",
       "      <td>https://identifiers.org/ito:ITO_02605</td>\n",
       "      <td>Hits-at-10</td>\n",
       "      <td>0.515</td>\n",
       "    </tr>\n",
       "    <tr>\n",
       "      <th>25</th>\n",
       "      <td>https://identifiers.org/ito:ITO_02715</td>\n",
       "      <td>Learning Hierarchy-Aware Knowledge Graph Embed...</td>\n",
       "      <td>2019-11-21</td>\n",
       "      <td>https://identifiers.org/ito:ito_027917</td>\n",
       "      <td>HAKE model in 'Learning Hierarchy-Aware Knowle...</td>\n",
       "      <td>https://identifiers.org/ito:ITO_02791</td>\n",
       "      <td>WN18RR - Link Prediction benchmarking</td>\n",
       "      <td>https://identifiers.org/ito:ITO_02605</td>\n",
       "      <td>Hits-at-10</td>\n",
       "      <td>0.582</td>\n",
       "    </tr>\n",
       "    <tr>\n",
       "      <th>26</th>\n",
       "      <td>https://identifiers.org/ito:ITO_02687</td>\n",
       "      <td>Knowledge Graph Embedding via Graph Attenuated...</td>\n",
       "      <td>2019-12-31</td>\n",
       "      <td>https://identifiers.org/ito:ito_027911</td>\n",
       "      <td>GAATs model in 'Knowledge Graph Embedding via ...</td>\n",
       "      <td>https://identifiers.org/ito:ITO_02791</td>\n",
       "      <td>WN18RR - Link Prediction benchmarking</td>\n",
       "      <td>https://identifiers.org/ito:ITO_02605</td>\n",
       "      <td>Hits-at-10</td>\n",
       "      <td>0.604</td>\n",
       "    </tr>\n",
       "    <tr>\n",
       "      <th>27</th>\n",
       "      <td>https://identifiers.org/ito:ITO_02695</td>\n",
       "      <td>Low-Dimensional Hyperbolic Knowledge Graph Emb...</td>\n",
       "      <td>2020-05-05</td>\n",
       "      <td>https://identifiers.org/ito:ito_027914</td>\n",
       "      <td>RotH model in 'Low-Dimensional Hyperbolic Know...</td>\n",
       "      <td>https://identifiers.org/ito:ITO_02791</td>\n",
       "      <td>WN18RR - Link Prediction benchmarking</td>\n",
       "      <td>https://identifiers.org/ito:ITO_02605</td>\n",
       "      <td>Hits-at-10</td>\n",
       "      <td>0.586</td>\n",
       "    </tr>\n",
       "  </tbody>\n",
       "</table>\n",
       "</div>"
      ],
      "text/plain": [
       "                                    paper  \\\n",
       "0   https://identifiers.org/ito:ITO_02749   \n",
       "1   https://identifiers.org/ito:ITO_02638   \n",
       "2   https://identifiers.org/ito:ITO_02638   \n",
       "3   https://identifiers.org/ito:ITO_02664   \n",
       "4   https://identifiers.org/ito:ITO_02796   \n",
       "5   https://identifiers.org/ito:ITO_02642   \n",
       "6   https://identifiers.org/ito:ITO_02650   \n",
       "7   https://identifiers.org/ito:ITO_02793   \n",
       "8   https://identifiers.org/ito:ITO_02697   \n",
       "9   https://identifiers.org/ito:ITO_02671   \n",
       "10  https://identifiers.org/ito:ITO_02648   \n",
       "11  https://identifiers.org/ito:ITO_02646   \n",
       "12  https://identifiers.org/ito:ITO_02646   \n",
       "13  https://identifiers.org/ito:ITO_02658   \n",
       "14  https://identifiers.org/ito:ITO_02644   \n",
       "15  https://identifiers.org/ito:ITO_02640   \n",
       "16  https://identifiers.org/ito:ITO_02705   \n",
       "17  https://identifiers.org/ito:ITO_02652   \n",
       "18  https://identifiers.org/ito:ITO_02719   \n",
       "19  https://identifiers.org/ito:ITO_02689   \n",
       "20  https://identifiers.org/ito:ITO_02711   \n",
       "21  https://identifiers.org/ito:ITO_02703   \n",
       "22  https://identifiers.org/ito:ITO_02701   \n",
       "23  https://identifiers.org/ito:ITO_02693   \n",
       "24  https://identifiers.org/ito:ITO_02699   \n",
       "25  https://identifiers.org/ito:ITO_02715   \n",
       "26  https://identifiers.org/ito:ITO_02687   \n",
       "27  https://identifiers.org/ito:ITO_02695   \n",
       "\n",
       "                                           paperTitle       date  \\\n",
       "0   Translating Embeddings for Modeling Multi-rela... 2013-12-01   \n",
       "1         Convolutional 2D Knowledge Graph Embeddings 2017-07-05   \n",
       "2         Convolutional 2D Knowledge Graph Embeddings 2017-07-05   \n",
       "3   KBGAN: Adversarial Learning for Knowledge Grap... 2017-11-11   \n",
       "4   A Novel Embedding Model for Knowledge Base Com... 2017-12-06   \n",
       "5   Canonical Tensor Decomposition for Knowledge B... 2018-06-19   \n",
       "6             Hypernetwork Knowledge Graph Embeddings 2018-08-21   \n",
       "7   Predicting Semantic Relations using Global Gra... 2018-08-27   \n",
       "8   End-to-end Structure-Aware Convolutional Netwo... 2018-11-11   \n",
       "9   NSCaching: Simple and Efficient Negative Sampl... 2018-12-16   \n",
       "10  TuckER: Tensor Factorization for Knowledge Gra... 2019-01-28   \n",
       "11  RotatE: Knowledge Graph Embedding by Relationa... 2019-02-26   \n",
       "12  RotatE: Knowledge Graph Embedding by Relationa... 2019-02-26   \n",
       "13  GraphVite: A High-Performance CPU-GPU Hybrid S... 2019-03-02   \n",
       "14              Quaternion Knowledge Graph Embeddings 2019-04-23   \n",
       "15  AutoSF: Searching Scoring Functions for Knowle... 2019-04-26   \n",
       "16         Multi-relational Poincaré Graph Embeddings 2019-05-23   \n",
       "17  Adaptive Convolution for Multi-Relational Lear... 2019-06-01   \n",
       "18  Relation Embedding with Dihedral Group in Know... 2019-06-03   \n",
       "19  Learning Attention-based Embeddings for Relati... 2019-06-04   \n",
       "20       KG-BERT: BERT for Knowledge Graph Completion 2019-09-07   \n",
       "21  InteractE: Improving Convolution-based Knowled... 2019-11-01   \n",
       "22  Composition-based Multi-Relational Graph Convo... 2019-11-08   \n",
       "23  Orthogonal Relation Transforms with Graph Cont... 2019-11-09   \n",
       "24  Decompressing Knowledge Graph Representations ... 2019-11-11   \n",
       "25  Learning Hierarchy-Aware Knowledge Graph Embed... 2019-11-21   \n",
       "26  Knowledge Graph Embedding via Graph Attenuated... 2019-12-31   \n",
       "27  Low-Dimensional Hyperbolic Knowledge Graph Emb... 2020-05-05   \n",
       "\n",
       "               benchmark_process_individual  \\\n",
       "0   https://identifiers.org/ito:ito_0279114   \n",
       "1   https://identifiers.org/ito:ito_0279123   \n",
       "2   https://identifiers.org/ito:ito_0279128   \n",
       "3   https://identifiers.org/ito:ito_0279126   \n",
       "4   https://identifiers.org/ito:ito_0279120   \n",
       "5   https://identifiers.org/ito:ito_0279110   \n",
       "6   https://identifiers.org/ito:ito_0279122   \n",
       "7    https://identifiers.org/ito:ito_027912   \n",
       "8   https://identifiers.org/ito:ito_0279116   \n",
       "9   https://identifiers.org/ito:ito_0279125   \n",
       "10  https://identifiers.org/ito:ito_0279119   \n",
       "11   https://identifiers.org/ito:ito_027919   \n",
       "12  https://identifiers.org/ito:ito_0279115   \n",
       "13   https://identifiers.org/ito:ito_027913   \n",
       "14   https://identifiers.org/ito:ito_027916   \n",
       "15  https://identifiers.org/ito:ito_0279111   \n",
       "16  https://identifiers.org/ito:ito_0279112   \n",
       "17  https://identifiers.org/ito:ito_0279117   \n",
       "18  https://identifiers.org/ito:ito_0279113   \n",
       "19   https://identifiers.org/ito:ito_027918   \n",
       "20  https://identifiers.org/ito:ito_0279121   \n",
       "21  https://identifiers.org/ito:ito_0279118   \n",
       "22  https://identifiers.org/ito:ito_0279127   \n",
       "23   https://identifiers.org/ito:ito_027915   \n",
       "24  https://identifiers.org/ito:ito_0279124   \n",
       "25   https://identifiers.org/ito:ito_027917   \n",
       "26   https://identifiers.org/ito:ito_027911   \n",
       "27   https://identifiers.org/ito:ito_027914   \n",
       "\n",
       "                                          model_label  \\\n",
       "0   TransE model in 'Translating Embeddings for Mo...   \n",
       "1   ConvE model in 'Convolutional 2D Knowledge Gra...   \n",
       "2   Inverse Model model in 'Convolutional 2D Knowl...   \n",
       "3   KBGAN (TransD + ComplEx) model in 'KBGAN: Adve...   \n",
       "4   ConvKB model in 'A Novel Embedding Model for K...   \n",
       "5   ComplEx-N3 (reciprocal) model in 'Canonical Te...   \n",
       "6   HypER model in 'Hypernetwork Knowledge Graph E...   \n",
       "7   M3GM model in 'Predicting Semantic Relations u...   \n",
       "8   Structure-Aware Convolutional Networks model i...   \n",
       "9   ComplEx NSCaching model in 'NSCaching: Simple ...   \n",
       "10  TuckER model in 'TuckER: Tensor Factorization ...   \n",
       "11  RotatE model in 'RotatE: Knowledge Graph Embed...   \n",
       "12  pRotatE model in 'RotatE: Knowledge Graph Embe...   \n",
       "13  RotatE model in 'GraphVite: A High-Performance...   \n",
       "14  QuatE model in 'Quaternion Knowledge Graph Emb...   \n",
       "15  AutoKGE model in 'AutoSF: Searching Scoring Fu...   \n",
       "16  MuRP model in 'Multi-relational Poincaré Graph...   \n",
       "17  ConvR model in 'Adaptive Convolution for Multi...   \n",
       "18  DihEdral model in 'Relation Embedding with Dih...   \n",
       "19  KBAT model in 'Learning Attention-based Embedd...   \n",
       "20  KG-BERT(a) model in 'KG-BERT: BERT for Knowled...   \n",
       "21  InteractE model in 'InteractE: Improving Convo...   \n",
       "22  CompGCN model in 'Composition-based Multi-Rela...   \n",
       "23  GC-OTE model in 'Orthogonal Relation Transform...   \n",
       "24  RESCAL + Decom model in 'Decompressing Knowled...   \n",
       "25  HAKE model in 'Learning Hierarchy-Aware Knowle...   \n",
       "26  GAATs model in 'Knowledge Graph Embedding via ...   \n",
       "27  RotH model in 'Low-Dimensional Hyperbolic Know...   \n",
       "\n",
       "                  benchmark_process_class  \\\n",
       "0   https://identifiers.org/ito:ITO_02791   \n",
       "1   https://identifiers.org/ito:ITO_02791   \n",
       "2   https://identifiers.org/ito:ITO_02791   \n",
       "3   https://identifiers.org/ito:ITO_02791   \n",
       "4   https://identifiers.org/ito:ITO_02791   \n",
       "5   https://identifiers.org/ito:ITO_02791   \n",
       "6   https://identifiers.org/ito:ITO_02791   \n",
       "7   https://identifiers.org/ito:ITO_02791   \n",
       "8   https://identifiers.org/ito:ITO_02791   \n",
       "9   https://identifiers.org/ito:ITO_02791   \n",
       "10  https://identifiers.org/ito:ITO_02791   \n",
       "11  https://identifiers.org/ito:ITO_02791   \n",
       "12  https://identifiers.org/ito:ITO_02791   \n",
       "13  https://identifiers.org/ito:ITO_02791   \n",
       "14  https://identifiers.org/ito:ITO_02791   \n",
       "15  https://identifiers.org/ito:ITO_02791   \n",
       "16  https://identifiers.org/ito:ITO_02791   \n",
       "17  https://identifiers.org/ito:ITO_02791   \n",
       "18  https://identifiers.org/ito:ITO_02791   \n",
       "19  https://identifiers.org/ito:ITO_02791   \n",
       "20  https://identifiers.org/ito:ITO_02791   \n",
       "21  https://identifiers.org/ito:ITO_02791   \n",
       "22  https://identifiers.org/ito:ITO_02791   \n",
       "23  https://identifiers.org/ito:ITO_02791   \n",
       "24  https://identifiers.org/ito:ITO_02791   \n",
       "25  https://identifiers.org/ito:ITO_02791   \n",
       "26  https://identifiers.org/ito:ITO_02791   \n",
       "27  https://identifiers.org/ito:ITO_02791   \n",
       "\n",
       "            benchmark_process_class_label  \\\n",
       "0   WN18RR - Link Prediction benchmarking   \n",
       "1   WN18RR - Link Prediction benchmarking   \n",
       "2   WN18RR - Link Prediction benchmarking   \n",
       "3   WN18RR - Link Prediction benchmarking   \n",
       "4   WN18RR - Link Prediction benchmarking   \n",
       "5   WN18RR - Link Prediction benchmarking   \n",
       "6   WN18RR - Link Prediction benchmarking   \n",
       "7   WN18RR - Link Prediction benchmarking   \n",
       "8   WN18RR - Link Prediction benchmarking   \n",
       "9   WN18RR - Link Prediction benchmarking   \n",
       "10  WN18RR - Link Prediction benchmarking   \n",
       "11  WN18RR - Link Prediction benchmarking   \n",
       "12  WN18RR - Link Prediction benchmarking   \n",
       "13  WN18RR - Link Prediction benchmarking   \n",
       "14  WN18RR - Link Prediction benchmarking   \n",
       "15  WN18RR - Link Prediction benchmarking   \n",
       "16  WN18RR - Link Prediction benchmarking   \n",
       "17  WN18RR - Link Prediction benchmarking   \n",
       "18  WN18RR - Link Prediction benchmarking   \n",
       "19  WN18RR - Link Prediction benchmarking   \n",
       "20  WN18RR - Link Prediction benchmarking   \n",
       "21  WN18RR - Link Prediction benchmarking   \n",
       "22  WN18RR - Link Prediction benchmarking   \n",
       "23  WN18RR - Link Prediction benchmarking   \n",
       "24  WN18RR - Link Prediction benchmarking   \n",
       "25  WN18RR - Link Prediction benchmarking   \n",
       "26  WN18RR - Link Prediction benchmarking   \n",
       "27  WN18RR - Link Prediction benchmarking   \n",
       "\n",
       "                      performance_measure  metricName  result  \n",
       "0   https://identifiers.org/ito:ITO_02605  Hits-at-10  0.5555  \n",
       "1   https://identifiers.org/ito:ITO_02605  Hits-at-10    0.52  \n",
       "2   https://identifiers.org/ito:ITO_02605  Hits-at-10    0.35  \n",
       "3   https://identifiers.org/ito:ITO_02605  Hits-at-10   0.469  \n",
       "4   https://identifiers.org/ito:ITO_02605  Hits-at-10   0.525  \n",
       "5   https://identifiers.org/ito:ITO_02605  Hits-at-10    0.57  \n",
       "6   https://identifiers.org/ito:ITO_02605  Hits-at-10   0.522  \n",
       "7   https://identifiers.org/ito:ITO_02605  Hits-at-10  0.5902  \n",
       "8   https://identifiers.org/ito:ITO_02605  Hits-at-10    0.54  \n",
       "9   https://identifiers.org/ito:ITO_02605  Hits-at-10  0.5089  \n",
       "10  https://identifiers.org/ito:ITO_02605  Hits-at-10   0.526  \n",
       "11  https://identifiers.org/ito:ITO_02605  Hits-at-10   0.571  \n",
       "12  https://identifiers.org/ito:ITO_02605  Hits-at-10   0.552  \n",
       "13  https://identifiers.org/ito:ITO_02605  Hits-at-10   0.589  \n",
       "14  https://identifiers.org/ito:ITO_02605  Hits-at-10   0.582  \n",
       "15  https://identifiers.org/ito:ITO_02605  Hits-at-10   0.567  \n",
       "16  https://identifiers.org/ito:ITO_02605  Hits-at-10   0.566  \n",
       "17  https://identifiers.org/ito:ITO_02605  Hits-at-10   0.537  \n",
       "18  https://identifiers.org/ito:ITO_02605  Hits-at-10   0.557  \n",
       "19  https://identifiers.org/ito:ITO_02605  Hits-at-10   0.581  \n",
       "20  https://identifiers.org/ito:ITO_02605  Hits-at-10   0.524  \n",
       "21  https://identifiers.org/ito:ITO_02605  Hits-at-10   0.528  \n",
       "22  https://identifiers.org/ito:ITO_02605  Hits-at-10   0.443  \n",
       "23  https://identifiers.org/ito:ITO_02605  Hits-at-10   0.583  \n",
       "24  https://identifiers.org/ito:ITO_02605  Hits-at-10   0.515  \n",
       "25  https://identifiers.org/ito:ITO_02605  Hits-at-10   0.582  \n",
       "26  https://identifiers.org/ito:ITO_02605  Hits-at-10   0.604  \n",
       "27  https://identifiers.org/ito:ITO_02605  Hits-at-10   0.586  "
      ]
     },
     "execution_count": 24,
     "metadata": {},
     "output_type": "execute_result"
    }
   ],
   "source": [
    "df"
   ]
  },
  {
   "cell_type": "code",
   "execution_count": 25,
   "metadata": {},
   "outputs": [
    {
     "data": {
      "application/vnd.plotly.v1+json": {
       "config": {
        "plotlyServerURL": "https://plot.ly"
       },
       "data": [
        {
         "hovertemplate": [
          "TransE: 0.5555",
          "ConvE: 0.52",
          "Inverse Model: 0.35",
          "KBGAN (TransD + ComplEx): 0.469",
          "ConvKB: 0.525",
          "ComplEx-N3 (reciprocal): 0.57",
          "HypER: 0.522",
          "M3GM: 0.5902",
          "Structure-Aware Convolutional Networks: 0.54",
          "ComplEx NSCaching: 0.5089",
          "TuckER: 0.526",
          "RotatE: 0.571",
          "pRotatE: 0.552",
          "RotatE: 0.589",
          "QuatE: 0.582",
          "AutoKGE: 0.567",
          "MuRP: 0.566",
          "ConvR: 0.537",
          "DihEdral: 0.557",
          "KBAT: 0.581",
          "KG-BERT(a): 0.524",
          "InteractE: 0.528",
          "CompGCN: 0.443",
          "GC-OTE: 0.583",
          "RESCAL + Decom: 0.515",
          "HAKE: 0.582",
          "GAATs: 0.604",
          "RotH: 0.586"
         ],
         "mode": "markers",
         "name": "models",
         "type": "scatter",
         "x": [
          "2013-12-01T00:00:00",
          "2017-07-05T00:00:00",
          "2017-07-05T00:00:00",
          "2017-11-11T00:00:00",
          "2017-12-06T00:00:00",
          "2018-06-19T00:00:00",
          "2018-08-21T00:00:00",
          "2018-08-27T00:00:00",
          "2018-11-11T00:00:00",
          "2018-12-16T00:00:00",
          "2019-01-28T00:00:00",
          "2019-02-26T00:00:00",
          "2019-02-26T00:00:00",
          "2019-03-02T00:00:00",
          "2019-04-23T00:00:00",
          "2019-04-26T00:00:00",
          "2019-05-23T00:00:00",
          "2019-06-01T00:00:00",
          "2019-06-03T00:00:00",
          "2019-06-04T00:00:00",
          "2019-09-07T00:00:00",
          "2019-11-01T00:00:00",
          "2019-11-08T00:00:00",
          "2019-11-09T00:00:00",
          "2019-11-11T00:00:00",
          "2019-11-21T00:00:00",
          "2019-12-31T00:00:00",
          "2020-05-05T00:00:00"
         ],
         "y": [
          0.5555,
          0.52,
          0.35,
          0.469,
          0.525,
          0.57,
          0.522,
          0.5902,
          0.54,
          0.5089,
          0.526,
          0.571,
          0.552,
          0.589,
          0.582,
          0.567,
          0.566,
          0.537,
          0.557,
          0.581,
          0.524,
          0.528,
          0.443,
          0.583,
          0.515,
          0.582,
          0.604,
          0.586
         ]
        },
        {
         "hovertemplate": [
          "TransE: 0.5555",
          null,
          null,
          null,
          null,
          "ComplEx-N3 (reciprocal): 0.57",
          null,
          "M3GM: 0.5902",
          null,
          null,
          null,
          null,
          null,
          null,
          null,
          null,
          null,
          null,
          null,
          null,
          null,
          null,
          null,
          null,
          null,
          null,
          "GAATs: 0.604",
          null
         ],
         "mode": "lines",
         "name": "state of the art",
         "type": "scatter",
         "x": [
          "2013-12-01T00:00:00",
          "2018-06-19T00:00:00",
          "2018-08-27T00:00:00",
          "2019-12-31T00:00:00"
         ],
         "y": [
          0.5555,
          0.57,
          0.5902,
          0.604
         ]
        }
       ],
       "layout": {
        "font": {
         "color": "Black",
         "family": "Arial",
         "size": 12
        },
        "legend": {
         "title": {
          "text": "Legend"
         }
        },
        "template": {
         "data": {
          "bar": [
           {
            "error_x": {
             "color": "#2a3f5f"
            },
            "error_y": {
             "color": "#2a3f5f"
            },
            "marker": {
             "line": {
              "color": "#E5ECF6",
              "width": 0.5
             }
            },
            "type": "bar"
           }
          ],
          "barpolar": [
           {
            "marker": {
             "line": {
              "color": "#E5ECF6",
              "width": 0.5
             }
            },
            "type": "barpolar"
           }
          ],
          "carpet": [
           {
            "aaxis": {
             "endlinecolor": "#2a3f5f",
             "gridcolor": "white",
             "linecolor": "white",
             "minorgridcolor": "white",
             "startlinecolor": "#2a3f5f"
            },
            "baxis": {
             "endlinecolor": "#2a3f5f",
             "gridcolor": "white",
             "linecolor": "white",
             "minorgridcolor": "white",
             "startlinecolor": "#2a3f5f"
            },
            "type": "carpet"
           }
          ],
          "choropleth": [
           {
            "colorbar": {
             "outlinewidth": 0,
             "ticks": ""
            },
            "type": "choropleth"
           }
          ],
          "contour": [
           {
            "colorbar": {
             "outlinewidth": 0,
             "ticks": ""
            },
            "colorscale": [
             [
              0,
              "#0d0887"
             ],
             [
              0.1111111111111111,
              "#46039f"
             ],
             [
              0.2222222222222222,
              "#7201a8"
             ],
             [
              0.3333333333333333,
              "#9c179e"
             ],
             [
              0.4444444444444444,
              "#bd3786"
             ],
             [
              0.5555555555555556,
              "#d8576b"
             ],
             [
              0.6666666666666666,
              "#ed7953"
             ],
             [
              0.7777777777777778,
              "#fb9f3a"
             ],
             [
              0.8888888888888888,
              "#fdca26"
             ],
             [
              1,
              "#f0f921"
             ]
            ],
            "type": "contour"
           }
          ],
          "contourcarpet": [
           {
            "colorbar": {
             "outlinewidth": 0,
             "ticks": ""
            },
            "type": "contourcarpet"
           }
          ],
          "heatmap": [
           {
            "colorbar": {
             "outlinewidth": 0,
             "ticks": ""
            },
            "colorscale": [
             [
              0,
              "#0d0887"
             ],
             [
              0.1111111111111111,
              "#46039f"
             ],
             [
              0.2222222222222222,
              "#7201a8"
             ],
             [
              0.3333333333333333,
              "#9c179e"
             ],
             [
              0.4444444444444444,
              "#bd3786"
             ],
             [
              0.5555555555555556,
              "#d8576b"
             ],
             [
              0.6666666666666666,
              "#ed7953"
             ],
             [
              0.7777777777777778,
              "#fb9f3a"
             ],
             [
              0.8888888888888888,
              "#fdca26"
             ],
             [
              1,
              "#f0f921"
             ]
            ],
            "type": "heatmap"
           }
          ],
          "heatmapgl": [
           {
            "colorbar": {
             "outlinewidth": 0,
             "ticks": ""
            },
            "colorscale": [
             [
              0,
              "#0d0887"
             ],
             [
              0.1111111111111111,
              "#46039f"
             ],
             [
              0.2222222222222222,
              "#7201a8"
             ],
             [
              0.3333333333333333,
              "#9c179e"
             ],
             [
              0.4444444444444444,
              "#bd3786"
             ],
             [
              0.5555555555555556,
              "#d8576b"
             ],
             [
              0.6666666666666666,
              "#ed7953"
             ],
             [
              0.7777777777777778,
              "#fb9f3a"
             ],
             [
              0.8888888888888888,
              "#fdca26"
             ],
             [
              1,
              "#f0f921"
             ]
            ],
            "type": "heatmapgl"
           }
          ],
          "histogram": [
           {
            "marker": {
             "colorbar": {
              "outlinewidth": 0,
              "ticks": ""
             }
            },
            "type": "histogram"
           }
          ],
          "histogram2d": [
           {
            "colorbar": {
             "outlinewidth": 0,
             "ticks": ""
            },
            "colorscale": [
             [
              0,
              "#0d0887"
             ],
             [
              0.1111111111111111,
              "#46039f"
             ],
             [
              0.2222222222222222,
              "#7201a8"
             ],
             [
              0.3333333333333333,
              "#9c179e"
             ],
             [
              0.4444444444444444,
              "#bd3786"
             ],
             [
              0.5555555555555556,
              "#d8576b"
             ],
             [
              0.6666666666666666,
              "#ed7953"
             ],
             [
              0.7777777777777778,
              "#fb9f3a"
             ],
             [
              0.8888888888888888,
              "#fdca26"
             ],
             [
              1,
              "#f0f921"
             ]
            ],
            "type": "histogram2d"
           }
          ],
          "histogram2dcontour": [
           {
            "colorbar": {
             "outlinewidth": 0,
             "ticks": ""
            },
            "colorscale": [
             [
              0,
              "#0d0887"
             ],
             [
              0.1111111111111111,
              "#46039f"
             ],
             [
              0.2222222222222222,
              "#7201a8"
             ],
             [
              0.3333333333333333,
              "#9c179e"
             ],
             [
              0.4444444444444444,
              "#bd3786"
             ],
             [
              0.5555555555555556,
              "#d8576b"
             ],
             [
              0.6666666666666666,
              "#ed7953"
             ],
             [
              0.7777777777777778,
              "#fb9f3a"
             ],
             [
              0.8888888888888888,
              "#fdca26"
             ],
             [
              1,
              "#f0f921"
             ]
            ],
            "type": "histogram2dcontour"
           }
          ],
          "mesh3d": [
           {
            "colorbar": {
             "outlinewidth": 0,
             "ticks": ""
            },
            "type": "mesh3d"
           }
          ],
          "parcoords": [
           {
            "line": {
             "colorbar": {
              "outlinewidth": 0,
              "ticks": ""
             }
            },
            "type": "parcoords"
           }
          ],
          "pie": [
           {
            "automargin": true,
            "type": "pie"
           }
          ],
          "scatter": [
           {
            "marker": {
             "colorbar": {
              "outlinewidth": 0,
              "ticks": ""
             }
            },
            "type": "scatter"
           }
          ],
          "scatter3d": [
           {
            "line": {
             "colorbar": {
              "outlinewidth": 0,
              "ticks": ""
             }
            },
            "marker": {
             "colorbar": {
              "outlinewidth": 0,
              "ticks": ""
             }
            },
            "type": "scatter3d"
           }
          ],
          "scattercarpet": [
           {
            "marker": {
             "colorbar": {
              "outlinewidth": 0,
              "ticks": ""
             }
            },
            "type": "scattercarpet"
           }
          ],
          "scattergeo": [
           {
            "marker": {
             "colorbar": {
              "outlinewidth": 0,
              "ticks": ""
             }
            },
            "type": "scattergeo"
           }
          ],
          "scattergl": [
           {
            "marker": {
             "colorbar": {
              "outlinewidth": 0,
              "ticks": ""
             }
            },
            "type": "scattergl"
           }
          ],
          "scattermapbox": [
           {
            "marker": {
             "colorbar": {
              "outlinewidth": 0,
              "ticks": ""
             }
            },
            "type": "scattermapbox"
           }
          ],
          "scatterpolar": [
           {
            "marker": {
             "colorbar": {
              "outlinewidth": 0,
              "ticks": ""
             }
            },
            "type": "scatterpolar"
           }
          ],
          "scatterpolargl": [
           {
            "marker": {
             "colorbar": {
              "outlinewidth": 0,
              "ticks": ""
             }
            },
            "type": "scatterpolargl"
           }
          ],
          "scatterternary": [
           {
            "marker": {
             "colorbar": {
              "outlinewidth": 0,
              "ticks": ""
             }
            },
            "type": "scatterternary"
           }
          ],
          "surface": [
           {
            "colorbar": {
             "outlinewidth": 0,
             "ticks": ""
            },
            "colorscale": [
             [
              0,
              "#0d0887"
             ],
             [
              0.1111111111111111,
              "#46039f"
             ],
             [
              0.2222222222222222,
              "#7201a8"
             ],
             [
              0.3333333333333333,
              "#9c179e"
             ],
             [
              0.4444444444444444,
              "#bd3786"
             ],
             [
              0.5555555555555556,
              "#d8576b"
             ],
             [
              0.6666666666666666,
              "#ed7953"
             ],
             [
              0.7777777777777778,
              "#fb9f3a"
             ],
             [
              0.8888888888888888,
              "#fdca26"
             ],
             [
              1,
              "#f0f921"
             ]
            ],
            "type": "surface"
           }
          ],
          "table": [
           {
            "cells": {
             "fill": {
              "color": "#EBF0F8"
             },
             "line": {
              "color": "white"
             }
            },
            "header": {
             "fill": {
              "color": "#C8D4E3"
             },
             "line": {
              "color": "white"
             }
            },
            "type": "table"
           }
          ]
         },
         "layout": {
          "annotationdefaults": {
           "arrowcolor": "#2a3f5f",
           "arrowhead": 0,
           "arrowwidth": 1
          },
          "autotypenumbers": "strict",
          "coloraxis": {
           "colorbar": {
            "outlinewidth": 0,
            "ticks": ""
           }
          },
          "colorscale": {
           "diverging": [
            [
             0,
             "#8e0152"
            ],
            [
             0.1,
             "#c51b7d"
            ],
            [
             0.2,
             "#de77ae"
            ],
            [
             0.3,
             "#f1b6da"
            ],
            [
             0.4,
             "#fde0ef"
            ],
            [
             0.5,
             "#f7f7f7"
            ],
            [
             0.6,
             "#e6f5d0"
            ],
            [
             0.7,
             "#b8e186"
            ],
            [
             0.8,
             "#7fbc41"
            ],
            [
             0.9,
             "#4d9221"
            ],
            [
             1,
             "#276419"
            ]
           ],
           "sequential": [
            [
             0,
             "#0d0887"
            ],
            [
             0.1111111111111111,
             "#46039f"
            ],
            [
             0.2222222222222222,
             "#7201a8"
            ],
            [
             0.3333333333333333,
             "#9c179e"
            ],
            [
             0.4444444444444444,
             "#bd3786"
            ],
            [
             0.5555555555555556,
             "#d8576b"
            ],
            [
             0.6666666666666666,
             "#ed7953"
            ],
            [
             0.7777777777777778,
             "#fb9f3a"
            ],
            [
             0.8888888888888888,
             "#fdca26"
            ],
            [
             1,
             "#f0f921"
            ]
           ],
           "sequentialminus": [
            [
             0,
             "#0d0887"
            ],
            [
             0.1111111111111111,
             "#46039f"
            ],
            [
             0.2222222222222222,
             "#7201a8"
            ],
            [
             0.3333333333333333,
             "#9c179e"
            ],
            [
             0.4444444444444444,
             "#bd3786"
            ],
            [
             0.5555555555555556,
             "#d8576b"
            ],
            [
             0.6666666666666666,
             "#ed7953"
            ],
            [
             0.7777777777777778,
             "#fb9f3a"
            ],
            [
             0.8888888888888888,
             "#fdca26"
            ],
            [
             1,
             "#f0f921"
            ]
           ]
          },
          "colorway": [
           "#636efa",
           "#EF553B",
           "#00cc96",
           "#ab63fa",
           "#FFA15A",
           "#19d3f3",
           "#FF6692",
           "#B6E880",
           "#FF97FF",
           "#FECB52"
          ],
          "font": {
           "color": "#2a3f5f"
          },
          "geo": {
           "bgcolor": "white",
           "lakecolor": "white",
           "landcolor": "#E5ECF6",
           "showlakes": true,
           "showland": true,
           "subunitcolor": "white"
          },
          "hoverlabel": {
           "align": "left"
          },
          "hovermode": "closest",
          "mapbox": {
           "style": "light"
          },
          "paper_bgcolor": "white",
          "plot_bgcolor": "#E5ECF6",
          "polar": {
           "angularaxis": {
            "gridcolor": "white",
            "linecolor": "white",
            "ticks": ""
           },
           "bgcolor": "#E5ECF6",
           "radialaxis": {
            "gridcolor": "white",
            "linecolor": "white",
            "ticks": ""
           }
          },
          "scene": {
           "xaxis": {
            "backgroundcolor": "#E5ECF6",
            "gridcolor": "white",
            "gridwidth": 2,
            "linecolor": "white",
            "showbackground": true,
            "ticks": "",
            "zerolinecolor": "white"
           },
           "yaxis": {
            "backgroundcolor": "#E5ECF6",
            "gridcolor": "white",
            "gridwidth": 2,
            "linecolor": "white",
            "showbackground": true,
            "ticks": "",
            "zerolinecolor": "white"
           },
           "zaxis": {
            "backgroundcolor": "#E5ECF6",
            "gridcolor": "white",
            "gridwidth": 2,
            "linecolor": "white",
            "showbackground": true,
            "ticks": "",
            "zerolinecolor": "white"
           }
          },
          "shapedefaults": {
           "line": {
            "color": "#2a3f5f"
           }
          },
          "ternary": {
           "aaxis": {
            "gridcolor": "white",
            "linecolor": "white",
            "ticks": ""
           },
           "baxis": {
            "gridcolor": "white",
            "linecolor": "white",
            "ticks": ""
           },
           "bgcolor": "#E5ECF6",
           "caxis": {
            "gridcolor": "white",
            "linecolor": "white",
            "ticks": ""
           }
          },
          "title": {
           "x": 0.05
          },
          "xaxis": {
           "automargin": true,
           "gridcolor": "white",
           "linecolor": "white",
           "ticks": "",
           "title": {
            "standoff": 15
           },
           "zerolinecolor": "white",
           "zerolinewidth": 2
          },
          "yaxis": {
           "automargin": true,
           "gridcolor": "white",
           "linecolor": "white",
           "ticks": "",
           "title": {
            "standoff": 15
           },
           "zerolinecolor": "white",
           "zerolinewidth": 2
          }
         }
        },
        "title": {
         "text": "WN18RR - Link Prediction benchmarking"
        },
        "xaxis": {
         "title": {
          "text": "Year"
         }
        },
        "yaxis": {
         "categoryorder": "category ascending",
         "title": {
          "text": "Hits-at-10"
         }
        }
       }
      },
      "text/html": [
       "<div>                            <div id=\"df7cdea4-3b86-4927-91e6-c77536b5a042\" class=\"plotly-graph-div\" style=\"height:525px; width:100%;\"></div>            <script type=\"text/javascript\">                require([\"plotly\"], function(Plotly) {                    window.PLOTLYENV=window.PLOTLYENV || {};                                    if (document.getElementById(\"df7cdea4-3b86-4927-91e6-c77536b5a042\")) {                    Plotly.newPlot(                        \"df7cdea4-3b86-4927-91e6-c77536b5a042\",                        [{\"hovertemplate\": [\"TransE: 0.5555\", \"ConvE: 0.52\", \"Inverse Model: 0.35\", \"KBGAN (TransD + ComplEx): 0.469\", \"ConvKB: 0.525\", \"ComplEx-N3 (reciprocal): 0.57\", \"HypER: 0.522\", \"M3GM: 0.5902\", \"Structure-Aware Convolutional Networks: 0.54\", \"ComplEx NSCaching: 0.5089\", \"TuckER: 0.526\", \"RotatE: 0.571\", \"pRotatE: 0.552\", \"RotatE: 0.589\", \"QuatE: 0.582\", \"AutoKGE: 0.567\", \"MuRP: 0.566\", \"ConvR: 0.537\", \"DihEdral: 0.557\", \"KBAT: 0.581\", \"KG-BERT(a): 0.524\", \"InteractE: 0.528\", \"CompGCN: 0.443\", \"GC-OTE: 0.583\", \"RESCAL + Decom: 0.515\", \"HAKE: 0.582\", \"GAATs: 0.604\", \"RotH: 0.586\"], \"mode\": \"markers\", \"name\": \"models\", \"type\": \"scatter\", \"x\": [\"2013-12-01T00:00:00\", \"2017-07-05T00:00:00\", \"2017-07-05T00:00:00\", \"2017-11-11T00:00:00\", \"2017-12-06T00:00:00\", \"2018-06-19T00:00:00\", \"2018-08-21T00:00:00\", \"2018-08-27T00:00:00\", \"2018-11-11T00:00:00\", \"2018-12-16T00:00:00\", \"2019-01-28T00:00:00\", \"2019-02-26T00:00:00\", \"2019-02-26T00:00:00\", \"2019-03-02T00:00:00\", \"2019-04-23T00:00:00\", \"2019-04-26T00:00:00\", \"2019-05-23T00:00:00\", \"2019-06-01T00:00:00\", \"2019-06-03T00:00:00\", \"2019-06-04T00:00:00\", \"2019-09-07T00:00:00\", \"2019-11-01T00:00:00\", \"2019-11-08T00:00:00\", \"2019-11-09T00:00:00\", \"2019-11-11T00:00:00\", \"2019-11-21T00:00:00\", \"2019-12-31T00:00:00\", \"2020-05-05T00:00:00\"], \"y\": [0.5555, 0.52, 0.35, 0.469, 0.525, 0.57, 0.522, 0.5902, 0.54, 0.5089, 0.526, 0.571, 0.552, 0.589, 0.582, 0.567, 0.566, 0.537, 0.557, 0.581, 0.524, 0.528, 0.443, 0.583, 0.515, 0.582, 0.604, 0.586]}, {\"hovertemplate\": [\"TransE: 0.5555\", null, null, null, null, \"ComplEx-N3 (reciprocal): 0.57\", null, \"M3GM: 0.5902\", null, null, null, null, null, null, null, null, null, null, null, null, null, null, null, null, null, null, \"GAATs: 0.604\", null], \"mode\": \"lines\", \"name\": \"state of the art\", \"type\": \"scatter\", \"x\": [\"2013-12-01T00:00:00\", \"2018-06-19T00:00:00\", \"2018-08-27T00:00:00\", \"2019-12-31T00:00:00\"], \"y\": [0.5555, 0.57, 0.5902, 0.604]}],                        {\"font\": {\"color\": \"Black\", \"family\": \"Arial\", \"size\": 12}, \"legend\": {\"title\": {\"text\": \"Legend\"}}, \"template\": {\"data\": {\"bar\": [{\"error_x\": {\"color\": \"#2a3f5f\"}, \"error_y\": {\"color\": \"#2a3f5f\"}, \"marker\": {\"line\": {\"color\": \"#E5ECF6\", \"width\": 0.5}}, \"type\": \"bar\"}], \"barpolar\": [{\"marker\": {\"line\": {\"color\": \"#E5ECF6\", \"width\": 0.5}}, \"type\": \"barpolar\"}], \"carpet\": [{\"aaxis\": {\"endlinecolor\": \"#2a3f5f\", \"gridcolor\": \"white\", \"linecolor\": \"white\", \"minorgridcolor\": \"white\", \"startlinecolor\": \"#2a3f5f\"}, \"baxis\": {\"endlinecolor\": \"#2a3f5f\", \"gridcolor\": \"white\", \"linecolor\": \"white\", \"minorgridcolor\": \"white\", \"startlinecolor\": \"#2a3f5f\"}, \"type\": \"carpet\"}], \"choropleth\": [{\"colorbar\": {\"outlinewidth\": 0, \"ticks\": \"\"}, \"type\": \"choropleth\"}], \"contour\": [{\"colorbar\": {\"outlinewidth\": 0, \"ticks\": \"\"}, \"colorscale\": [[0.0, \"#0d0887\"], [0.1111111111111111, \"#46039f\"], [0.2222222222222222, \"#7201a8\"], [0.3333333333333333, \"#9c179e\"], [0.4444444444444444, \"#bd3786\"], [0.5555555555555556, \"#d8576b\"], [0.6666666666666666, \"#ed7953\"], [0.7777777777777778, \"#fb9f3a\"], [0.8888888888888888, \"#fdca26\"], [1.0, \"#f0f921\"]], \"type\": \"contour\"}], \"contourcarpet\": [{\"colorbar\": {\"outlinewidth\": 0, \"ticks\": \"\"}, \"type\": \"contourcarpet\"}], \"heatmap\": [{\"colorbar\": {\"outlinewidth\": 0, \"ticks\": \"\"}, \"colorscale\": [[0.0, \"#0d0887\"], [0.1111111111111111, \"#46039f\"], [0.2222222222222222, \"#7201a8\"], [0.3333333333333333, \"#9c179e\"], [0.4444444444444444, \"#bd3786\"], [0.5555555555555556, \"#d8576b\"], [0.6666666666666666, \"#ed7953\"], [0.7777777777777778, \"#fb9f3a\"], [0.8888888888888888, \"#fdca26\"], [1.0, \"#f0f921\"]], \"type\": \"heatmap\"}], \"heatmapgl\": [{\"colorbar\": {\"outlinewidth\": 0, \"ticks\": \"\"}, \"colorscale\": [[0.0, \"#0d0887\"], [0.1111111111111111, \"#46039f\"], [0.2222222222222222, \"#7201a8\"], [0.3333333333333333, \"#9c179e\"], [0.4444444444444444, \"#bd3786\"], [0.5555555555555556, \"#d8576b\"], [0.6666666666666666, \"#ed7953\"], [0.7777777777777778, \"#fb9f3a\"], [0.8888888888888888, \"#fdca26\"], [1.0, \"#f0f921\"]], \"type\": \"heatmapgl\"}], \"histogram\": [{\"marker\": {\"colorbar\": {\"outlinewidth\": 0, \"ticks\": \"\"}}, \"type\": \"histogram\"}], \"histogram2d\": [{\"colorbar\": {\"outlinewidth\": 0, \"ticks\": \"\"}, \"colorscale\": [[0.0, \"#0d0887\"], [0.1111111111111111, \"#46039f\"], [0.2222222222222222, \"#7201a8\"], [0.3333333333333333, \"#9c179e\"], [0.4444444444444444, \"#bd3786\"], [0.5555555555555556, \"#d8576b\"], [0.6666666666666666, \"#ed7953\"], [0.7777777777777778, \"#fb9f3a\"], [0.8888888888888888, \"#fdca26\"], [1.0, \"#f0f921\"]], \"type\": \"histogram2d\"}], \"histogram2dcontour\": [{\"colorbar\": {\"outlinewidth\": 0, \"ticks\": \"\"}, \"colorscale\": [[0.0, \"#0d0887\"], [0.1111111111111111, \"#46039f\"], [0.2222222222222222, \"#7201a8\"], [0.3333333333333333, \"#9c179e\"], [0.4444444444444444, \"#bd3786\"], [0.5555555555555556, \"#d8576b\"], [0.6666666666666666, \"#ed7953\"], [0.7777777777777778, \"#fb9f3a\"], [0.8888888888888888, \"#fdca26\"], [1.0, \"#f0f921\"]], \"type\": \"histogram2dcontour\"}], \"mesh3d\": [{\"colorbar\": {\"outlinewidth\": 0, \"ticks\": \"\"}, \"type\": \"mesh3d\"}], \"parcoords\": [{\"line\": {\"colorbar\": {\"outlinewidth\": 0, \"ticks\": \"\"}}, \"type\": \"parcoords\"}], \"pie\": [{\"automargin\": true, \"type\": \"pie\"}], \"scatter\": [{\"marker\": {\"colorbar\": {\"outlinewidth\": 0, \"ticks\": \"\"}}, \"type\": \"scatter\"}], \"scatter3d\": [{\"line\": {\"colorbar\": {\"outlinewidth\": 0, \"ticks\": \"\"}}, \"marker\": {\"colorbar\": {\"outlinewidth\": 0, \"ticks\": \"\"}}, \"type\": \"scatter3d\"}], \"scattercarpet\": [{\"marker\": {\"colorbar\": {\"outlinewidth\": 0, \"ticks\": \"\"}}, \"type\": \"scattercarpet\"}], \"scattergeo\": [{\"marker\": {\"colorbar\": {\"outlinewidth\": 0, \"ticks\": \"\"}}, \"type\": \"scattergeo\"}], \"scattergl\": [{\"marker\": {\"colorbar\": {\"outlinewidth\": 0, \"ticks\": \"\"}}, \"type\": \"scattergl\"}], \"scattermapbox\": [{\"marker\": {\"colorbar\": {\"outlinewidth\": 0, \"ticks\": \"\"}}, \"type\": \"scattermapbox\"}], \"scatterpolar\": [{\"marker\": {\"colorbar\": {\"outlinewidth\": 0, \"ticks\": \"\"}}, \"type\": \"scatterpolar\"}], \"scatterpolargl\": [{\"marker\": {\"colorbar\": {\"outlinewidth\": 0, \"ticks\": \"\"}}, \"type\": \"scatterpolargl\"}], \"scatterternary\": [{\"marker\": {\"colorbar\": {\"outlinewidth\": 0, \"ticks\": \"\"}}, \"type\": \"scatterternary\"}], \"surface\": [{\"colorbar\": {\"outlinewidth\": 0, \"ticks\": \"\"}, \"colorscale\": [[0.0, \"#0d0887\"], [0.1111111111111111, \"#46039f\"], [0.2222222222222222, \"#7201a8\"], [0.3333333333333333, \"#9c179e\"], [0.4444444444444444, \"#bd3786\"], [0.5555555555555556, \"#d8576b\"], [0.6666666666666666, \"#ed7953\"], [0.7777777777777778, \"#fb9f3a\"], [0.8888888888888888, \"#fdca26\"], [1.0, \"#f0f921\"]], \"type\": \"surface\"}], \"table\": [{\"cells\": {\"fill\": {\"color\": \"#EBF0F8\"}, \"line\": {\"color\": \"white\"}}, \"header\": {\"fill\": {\"color\": \"#C8D4E3\"}, \"line\": {\"color\": \"white\"}}, \"type\": \"table\"}]}, \"layout\": {\"annotationdefaults\": {\"arrowcolor\": \"#2a3f5f\", \"arrowhead\": 0, \"arrowwidth\": 1}, \"autotypenumbers\": \"strict\", \"coloraxis\": {\"colorbar\": {\"outlinewidth\": 0, \"ticks\": \"\"}}, \"colorscale\": {\"diverging\": [[0, \"#8e0152\"], [0.1, \"#c51b7d\"], [0.2, \"#de77ae\"], [0.3, \"#f1b6da\"], [0.4, \"#fde0ef\"], [0.5, \"#f7f7f7\"], [0.6, \"#e6f5d0\"], [0.7, \"#b8e186\"], [0.8, \"#7fbc41\"], [0.9, \"#4d9221\"], [1, \"#276419\"]], \"sequential\": [[0.0, \"#0d0887\"], [0.1111111111111111, \"#46039f\"], [0.2222222222222222, \"#7201a8\"], [0.3333333333333333, \"#9c179e\"], [0.4444444444444444, \"#bd3786\"], [0.5555555555555556, \"#d8576b\"], [0.6666666666666666, \"#ed7953\"], [0.7777777777777778, \"#fb9f3a\"], [0.8888888888888888, \"#fdca26\"], [1.0, \"#f0f921\"]], \"sequentialminus\": [[0.0, \"#0d0887\"], [0.1111111111111111, \"#46039f\"], [0.2222222222222222, \"#7201a8\"], [0.3333333333333333, \"#9c179e\"], [0.4444444444444444, \"#bd3786\"], [0.5555555555555556, \"#d8576b\"], [0.6666666666666666, \"#ed7953\"], [0.7777777777777778, \"#fb9f3a\"], [0.8888888888888888, \"#fdca26\"], [1.0, \"#f0f921\"]]}, \"colorway\": [\"#636efa\", \"#EF553B\", \"#00cc96\", \"#ab63fa\", \"#FFA15A\", \"#19d3f3\", \"#FF6692\", \"#B6E880\", \"#FF97FF\", \"#FECB52\"], \"font\": {\"color\": \"#2a3f5f\"}, \"geo\": {\"bgcolor\": \"white\", \"lakecolor\": \"white\", \"landcolor\": \"#E5ECF6\", \"showlakes\": true, \"showland\": true, \"subunitcolor\": \"white\"}, \"hoverlabel\": {\"align\": \"left\"}, \"hovermode\": \"closest\", \"mapbox\": {\"style\": \"light\"}, \"paper_bgcolor\": \"white\", \"plot_bgcolor\": \"#E5ECF6\", \"polar\": {\"angularaxis\": {\"gridcolor\": \"white\", \"linecolor\": \"white\", \"ticks\": \"\"}, \"bgcolor\": \"#E5ECF6\", \"radialaxis\": {\"gridcolor\": \"white\", \"linecolor\": \"white\", \"ticks\": \"\"}}, \"scene\": {\"xaxis\": {\"backgroundcolor\": \"#E5ECF6\", \"gridcolor\": \"white\", \"gridwidth\": 2, \"linecolor\": \"white\", \"showbackground\": true, \"ticks\": \"\", \"zerolinecolor\": \"white\"}, \"yaxis\": {\"backgroundcolor\": \"#E5ECF6\", \"gridcolor\": \"white\", \"gridwidth\": 2, \"linecolor\": \"white\", \"showbackground\": true, \"ticks\": \"\", \"zerolinecolor\": \"white\"}, \"zaxis\": {\"backgroundcolor\": \"#E5ECF6\", \"gridcolor\": \"white\", \"gridwidth\": 2, \"linecolor\": \"white\", \"showbackground\": true, \"ticks\": \"\", \"zerolinecolor\": \"white\"}}, \"shapedefaults\": {\"line\": {\"color\": \"#2a3f5f\"}}, \"ternary\": {\"aaxis\": {\"gridcolor\": \"white\", \"linecolor\": \"white\", \"ticks\": \"\"}, \"baxis\": {\"gridcolor\": \"white\", \"linecolor\": \"white\", \"ticks\": \"\"}, \"bgcolor\": \"#E5ECF6\", \"caxis\": {\"gridcolor\": \"white\", \"linecolor\": \"white\", \"ticks\": \"\"}}, \"title\": {\"x\": 0.05}, \"xaxis\": {\"automargin\": true, \"gridcolor\": \"white\", \"linecolor\": \"white\", \"ticks\": \"\", \"title\": {\"standoff\": 15}, \"zerolinecolor\": \"white\", \"zerolinewidth\": 2}, \"yaxis\": {\"automargin\": true, \"gridcolor\": \"white\", \"linecolor\": \"white\", \"ticks\": \"\", \"title\": {\"standoff\": 15}, \"zerolinecolor\": \"white\", \"zerolinewidth\": 2}}}, \"title\": {\"text\": \"WN18RR - Link Prediction benchmarking\"}, \"xaxis\": {\"title\": {\"text\": \"Year\"}}, \"yaxis\": {\"categoryorder\": \"category ascending\", \"title\": {\"text\": \"Hits-at-10\"}}},                        {\"responsive\": true}                    ).then(function(){\n",
       "                            \n",
       "var gd = document.getElementById('df7cdea4-3b86-4927-91e6-c77536b5a042');\n",
       "var x = new MutationObserver(function (mutations, observer) {{\n",
       "        var display = window.getComputedStyle(gd).display;\n",
       "        if (!display || display === 'none') {{\n",
       "            console.log([gd, 'removed!']);\n",
       "            Plotly.purge(gd);\n",
       "            observer.disconnect();\n",
       "        }}\n",
       "}});\n",
       "\n",
       "// Listen for the removal of the full notebook cells\n",
       "var notebookContainer = gd.closest('#notebook-container');\n",
       "if (notebookContainer) {{\n",
       "    x.observe(notebookContainer, {childList: true});\n",
       "}}\n",
       "\n",
       "// Listen for the clearing of the current output cell\n",
       "var outputEl = gd.closest('.output');\n",
       "if (outputEl) {{\n",
       "    x.observe(outputEl, {childList: true});\n",
       "}}\n",
       "\n",
       "                        })                };                });            </script>        </div>"
      ]
     },
     "metadata": {},
     "output_type": "display_data"
    }
   ],
   "source": [
    "\n",
    "#Now finally plot the graph\n",
    "#REF: https://plotly.com/python/line-charts/\n",
    "\n",
    "import plotly.graph_objects as go\n",
    "import numpy as np\n",
    "\n",
    "#this is a copy to use as hovertemplate below\n",
    "y=df.new[\"result\"].astype(str)\n",
    "\n",
    "# Create traces\n",
    "fig = go.Figure()\n",
    "\n",
    "fig.add_trace(go.Scatter(x=df.new[\"date\"], y=df.new[\"result\"], \n",
    "                         mode='markers', name='models',\n",
    "                         hovertemplate=df.new[\"model_label\"]+\": \"+ y)\n",
    "             )\n",
    "\n",
    "fig.add_trace(go.Scatter(x=sota[\"date\"], y=sota[\"result\"], \n",
    "                         mode='lines', name='state of the art',\n",
    "                         hovertemplate=sota[\"model_label\"]+\": \"+ y)\n",
    "                          \n",
    "             )\n",
    "\n",
    "\n",
    "fig.update_yaxes(categoryorder=\"category ascending\")\n",
    "\n",
    "title_str = df.new.benchmark_process_class_label.unique()[0]\n",
    "y_label = df.new.metricName.unique()[0]\n",
    "\n",
    "fig.update_layout(\n",
    "    title=title_str,\n",
    "    xaxis_title=\"Year\",\n",
    "    yaxis_title=y_label,\n",
    "    legend_title=\"Legend\",\n",
    "    font=dict(\n",
    "        family=\"Arial\",\n",
    "        size=12,\n",
    "        color=\"Black\"\n",
    "    )\n",
    ")\n",
    "\n",
    "\n",
    "fig.show()\n",
    "\n"
   ]
  },
  {
   "cell_type": "code",
   "execution_count": 8,
   "metadata": {},
   "outputs": [],
   "source": [
    "ratio_df = pd.DataFrame(columns = [\"ds_count\", \"ds\", \"date\", \"model_label\",\"metricName\",\"value\",\"gain\",\"ratio\",\"total\"])"
   ]
  },
  {
   "cell_type": "code",
   "execution_count": 9,
   "metadata": {},
   "outputs": [
    {
     "name": "stdout",
     "output_type": "stream",
     "text": [
      "Ds: WN18RR \t date: 2013-12\t model_label: TransE\t metricName:Hits-at-10\t value:0.5555\t gain : 0.5555\t ratio: 0.92\t total: 0.604\n",
      "Ds: WN18RR \t date: 2018-06\t model_label: ComplEx-N3 (reciprocal)\t metricName:Hits-at-10\t value:0.57\t gain : 0.01\t ratio: 0.02\t total: 0.604\n",
      "Ds: WN18RR \t date: 2018-08\t model_label: M3GM\t metricName:Hits-at-10\t value:0.5902\t gain : 0.02\t ratio: 0.03\t total: 0.604\n",
      "Ds: WN18RR \t date: 2019-12\t model_label: GAATs\t metricName:Hits-at-10\t value:0.604\t gain : 0.01\t ratio: 0.02\t total: 0.604\n"
     ]
    }
   ],
   "source": [
    "#This block collects the rate of the benchmarkings along the years and saves it\n",
    "#ratio_df = pd.DataFrame(columns = [\"ds_count\", \"ds\", \"date\", \"value\",\"gain\",\"ratio\",\"total\"])\n",
    "\n",
    "#len(sota[\"result\"])\n",
    "max(sota[\"result\"])\n",
    "min(sota[\"result\"])\n",
    "\n",
    "ds_count = 1\n",
    "\n",
    "i=0\n",
    "for res in sota[\"result\"]:\n",
    "    if sota.loc[sota.index[i], 'result'] <= max(sota[\"result\"]) :\n",
    "        if(i == 0):\n",
    "            gain = sota.loc[sota.index[i], 'result']\n",
    "        else :\n",
    "            gain = round(sota.loc[sota.index[i], 'result'] - sota.loc[sota.index[i-1], 'result'],2)\n",
    "            \n",
    "        total = round( gain / max(sota[\"result\"]) ,2)\n",
    "        #total = round((sota.loc[sota.index[i+1], 'result'] - sota.loc[sota.index[i], 'result'] ),2)\n",
    "        #print(sota[\"result\"][i+1] - sota[\"result\"][i])\n",
    "        #OK print(total.astype(str)+ \" : \" + max(sota[\"result\"]).astype(str) )\n",
    "        \n",
    "        #year=sota.loc[sota.index[i], 'date'].strftime('%Y-%m-%d')\n",
    "        year=sota.loc[sota.index[i], 'date'].strftime('%Y-%m')\n",
    "        model_label=sota.loc[sota.index[i], 'model_label']\n",
    "        metricName=sota.loc[sota.index[i], 'metricName']\n",
    "        value=sota.loc[sota.index[i], 'result'].astype(str)\n",
    "        \n",
    "        benchmarking=sota.loc[sota.index[i], 'benchmark_process_class_label']\n",
    "        #benchmarking = df.replace(to_replace =' model in .*$', value = '', regex = True)\n",
    "        import re\n",
    "        \n",
    "        benchmarking = re.sub(r'\\-.*',\"\",benchmarking) \n",
    "        #re.sub(r'\\.\\.\\..*',\"\",test)\n",
    "        \n",
    "        new_row = {'ds_count':ds_count, 'ds':benchmarking, 'date':year,'model_label':model_label,'metricName':metricName,'value':value, 'gain':gain.astype(str), 'ratio':total.astype(str), 'total':max(sota[\"result\"]).astype(str)}\n",
    "        ratio_df = ratio_df.append(new_row, ignore_index=True)\n",
    "        \n",
    "        print(\"Ds: \" + benchmarking +\n",
    "              \"\\t date: \" + year +\n",
    "              \"\\t model_label: \" + model_label +\n",
    "              \"\\t metricName:\" + metricName + \n",
    "              \"\\t value:\" + value + \n",
    "              \"\\t gain : \" + gain.astype(str) + \n",
    "              \"\\t ratio: \" + total.astype(str) + \n",
    "              \"\\t total: \" + max(sota[\"result\"]).astype(str) )\n",
    "        \n",
    "        \n",
    "        i = i+1\n",
    "        \n",
    "        \n",
    "    "
   ]
  },
  {
   "cell_type": "code",
   "execution_count": 10,
   "metadata": {},
   "outputs": [
    {
     "data": {
      "text/html": [
       "<div>\n",
       "<style scoped>\n",
       "    .dataframe tbody tr th:only-of-type {\n",
       "        vertical-align: middle;\n",
       "    }\n",
       "\n",
       "    .dataframe tbody tr th {\n",
       "        vertical-align: top;\n",
       "    }\n",
       "\n",
       "    .dataframe thead th {\n",
       "        text-align: right;\n",
       "    }\n",
       "</style>\n",
       "<table border=\"1\" class=\"dataframe\">\n",
       "  <thead>\n",
       "    <tr style=\"text-align: right;\">\n",
       "      <th></th>\n",
       "      <th>ds_count</th>\n",
       "      <th>ds</th>\n",
       "      <th>date</th>\n",
       "      <th>model_label</th>\n",
       "      <th>metricName</th>\n",
       "      <th>value</th>\n",
       "      <th>gain</th>\n",
       "      <th>ratio</th>\n",
       "      <th>total</th>\n",
       "    </tr>\n",
       "  </thead>\n",
       "  <tbody>\n",
       "    <tr>\n",
       "      <th>0</th>\n",
       "      <td>1</td>\n",
       "      <td>WN18RR</td>\n",
       "      <td>2013-12</td>\n",
       "      <td>TransE</td>\n",
       "      <td>Hits-at-10</td>\n",
       "      <td>0.5555</td>\n",
       "      <td>0.5555</td>\n",
       "      <td>0.92</td>\n",
       "      <td>0.604</td>\n",
       "    </tr>\n",
       "    <tr>\n",
       "      <th>1</th>\n",
       "      <td>1</td>\n",
       "      <td>WN18RR</td>\n",
       "      <td>2018-06</td>\n",
       "      <td>ComplEx-N3 (reciprocal)</td>\n",
       "      <td>Hits-at-10</td>\n",
       "      <td>0.57</td>\n",
       "      <td>0.01</td>\n",
       "      <td>0.02</td>\n",
       "      <td>0.604</td>\n",
       "    </tr>\n",
       "    <tr>\n",
       "      <th>2</th>\n",
       "      <td>1</td>\n",
       "      <td>WN18RR</td>\n",
       "      <td>2018-08</td>\n",
       "      <td>M3GM</td>\n",
       "      <td>Hits-at-10</td>\n",
       "      <td>0.5902</td>\n",
       "      <td>0.02</td>\n",
       "      <td>0.03</td>\n",
       "      <td>0.604</td>\n",
       "    </tr>\n",
       "    <tr>\n",
       "      <th>3</th>\n",
       "      <td>1</td>\n",
       "      <td>WN18RR</td>\n",
       "      <td>2019-12</td>\n",
       "      <td>GAATs</td>\n",
       "      <td>Hits-at-10</td>\n",
       "      <td>0.604</td>\n",
       "      <td>0.01</td>\n",
       "      <td>0.02</td>\n",
       "      <td>0.604</td>\n",
       "    </tr>\n",
       "  </tbody>\n",
       "</table>\n",
       "</div>"
      ],
      "text/plain": [
       "  ds_count       ds     date              model_label  metricName   value  \\\n",
       "0        1  WN18RR   2013-12                   TransE  Hits-at-10  0.5555   \n",
       "1        1  WN18RR   2018-06  ComplEx-N3 (reciprocal)  Hits-at-10    0.57   \n",
       "2        1  WN18RR   2018-08                     M3GM  Hits-at-10  0.5902   \n",
       "3        1  WN18RR   2019-12                    GAATs  Hits-at-10   0.604   \n",
       "\n",
       "     gain ratio  total  \n",
       "0  0.5555  0.92  0.604  \n",
       "1    0.01  0.02  0.604  \n",
       "2    0.02  0.03  0.604  \n",
       "3    0.01  0.02  0.604  "
      ]
     },
     "execution_count": 10,
     "metadata": {},
     "output_type": "execute_result"
    }
   ],
   "source": [
    "ratio_df"
   ]
  },
  {
   "cell_type": "code",
   "execution_count": 11,
   "metadata": {},
   "outputs": [
    {
     "data": {
      "text/html": [
       "<div>\n",
       "<style scoped>\n",
       "    .dataframe tbody tr th:only-of-type {\n",
       "        vertical-align: middle;\n",
       "    }\n",
       "\n",
       "    .dataframe tbody tr th {\n",
       "        vertical-align: top;\n",
       "    }\n",
       "\n",
       "    .dataframe thead th {\n",
       "        text-align: right;\n",
       "    }\n",
       "</style>\n",
       "<table border=\"1\" class=\"dataframe\">\n",
       "  <thead>\n",
       "    <tr style=\"text-align: right;\">\n",
       "      <th></th>\n",
       "      <th>ds_count</th>\n",
       "      <th>ds</th>\n",
       "      <th>date</th>\n",
       "      <th>model_label</th>\n",
       "      <th>metricName</th>\n",
       "      <th>value</th>\n",
       "      <th>gain</th>\n",
       "      <th>ratio</th>\n",
       "      <th>total</th>\n",
       "      <th>percent</th>\n",
       "    </tr>\n",
       "  </thead>\n",
       "  <tbody>\n",
       "    <tr>\n",
       "      <th>0</th>\n",
       "      <td>1</td>\n",
       "      <td>WN18RR</td>\n",
       "      <td>2013-12</td>\n",
       "      <td>TransE</td>\n",
       "      <td>Hits-at-10</td>\n",
       "      <td>0.5555</td>\n",
       "      <td>0.5555</td>\n",
       "      <td>0.92</td>\n",
       "      <td>0.604</td>\n",
       "      <td>92.0</td>\n",
       "    </tr>\n",
       "    <tr>\n",
       "      <th>1</th>\n",
       "      <td>1</td>\n",
       "      <td>WN18RR</td>\n",
       "      <td>2018-06</td>\n",
       "      <td>ComplEx-N3 (reciprocal)</td>\n",
       "      <td>Hits-at-10</td>\n",
       "      <td>0.57</td>\n",
       "      <td>0.01</td>\n",
       "      <td>0.02</td>\n",
       "      <td>0.604</td>\n",
       "      <td>94.0</td>\n",
       "    </tr>\n",
       "    <tr>\n",
       "      <th>2</th>\n",
       "      <td>1</td>\n",
       "      <td>WN18RR</td>\n",
       "      <td>2018-08</td>\n",
       "      <td>M3GM</td>\n",
       "      <td>Hits-at-10</td>\n",
       "      <td>0.5902</td>\n",
       "      <td>0.02</td>\n",
       "      <td>0.03</td>\n",
       "      <td>0.604</td>\n",
       "      <td>98.0</td>\n",
       "    </tr>\n",
       "    <tr>\n",
       "      <th>3</th>\n",
       "      <td>1</td>\n",
       "      <td>WN18RR</td>\n",
       "      <td>2019-12</td>\n",
       "      <td>GAATs</td>\n",
       "      <td>Hits-at-10</td>\n",
       "      <td>0.604</td>\n",
       "      <td>0.01</td>\n",
       "      <td>0.02</td>\n",
       "      <td>0.604</td>\n",
       "      <td>100.0</td>\n",
       "    </tr>\n",
       "  </tbody>\n",
       "</table>\n",
       "</div>"
      ],
      "text/plain": [
       "  ds_count       ds     date              model_label  metricName   value  \\\n",
       "0        1  WN18RR   2013-12                   TransE  Hits-at-10  0.5555   \n",
       "1        1  WN18RR   2018-06  ComplEx-N3 (reciprocal)  Hits-at-10    0.57   \n",
       "2        1  WN18RR   2018-08                     M3GM  Hits-at-10  0.5902   \n",
       "3        1  WN18RR   2019-12                    GAATs  Hits-at-10   0.604   \n",
       "\n",
       "     gain ratio  total  percent  \n",
       "0  0.5555  0.92  0.604     92.0  \n",
       "1    0.01  0.02  0.604     94.0  \n",
       "2    0.02  0.03  0.604     98.0  \n",
       "3    0.01  0.02  0.604    100.0  "
      ]
     },
     "execution_count": 11,
     "metadata": {},
     "output_type": "execute_result"
    }
   ],
   "source": [
    "ratio_df[\"percent\"] = round(ratio_df[\"value\"].astype(float)/ratio_df[\"total\"].astype(float),2)*100\n",
    "ratio_df"
   ]
  },
  {
   "cell_type": "code",
   "execution_count": 12,
   "metadata": {
    "scrolled": false
   },
   "outputs": [
    {
     "data": {
      "application/vnd.plotly.v1+json": {
       "config": {
        "plotlyServerURL": "https://plot.ly"
       },
       "data": [
        {
         "hovertemplate": [
          "<BR>Ds: WN18RR <BR>Model_label: TransE<BR>metricName: Hits-at-10<BR>value: 0.5555<BR>Max. value: 0.604<BR>% of max. value: 91.97%",
          "<BR>Ds: WN18RR <BR>Model_label: ComplEx-N3 (reciprocal)<BR>metricName: Hits-at-10<BR>value: 0.57<BR>Max. value: 0.604<BR>% of max. value: 94.371%",
          "<BR>Ds: WN18RR <BR>Model_label: M3GM<BR>metricName: Hits-at-10<BR>value: 0.5902<BR>Max. value: 0.604<BR>% of max. value: 97.715%",
          "<BR>Ds: WN18RR <BR>Model_label: GAATs<BR>metricName: Hits-at-10<BR>value: 0.604<BR>Max. value: 0.604<BR>% of max. value: 100.0%"
         ],
         "marker": {
          "color": [
           92,
           94,
           98,
           100
          ],
          "colorbar": {
           "title": {
            "text": "% of max.:<BR>Hits-at-10"
           }
          },
          "colorscale": [
           [
            0,
            "rgb(255,245,235)"
           ],
           [
            0.125,
            "rgb(254,230,206)"
           ],
           [
            0.25,
            "rgb(253,208,162)"
           ],
           [
            0.375,
            "rgb(253,174,107)"
           ],
           [
            0.5,
            "rgb(253,141,60)"
           ],
           [
            0.625,
            "rgb(241,105,19)"
           ],
           [
            0.75,
            "rgb(217,72,1)"
           ],
           [
            0.875,
            "rgb(166,54,3)"
           ],
           [
            1,
            "rgb(127,39,4)"
           ]
          ],
          "line": {
           "color": "black",
           "width": 2
          },
          "size": [
           9.2,
           9.4,
           9.8,
           10
          ]
         },
         "mode": "markers+lines",
         "name": "WN18RR ",
         "showlegend": true,
         "type": "scatter",
         "x": [
          "2013-12",
          "2018-06",
          "2018-08",
          "2019-12"
         ],
         "y": [
          "WN18RR ",
          "WN18RR ",
          "WN18RR ",
          "WN18RR "
         ]
        }
       ],
       "layout": {
        "legend": {
         "x": -0.15,
         "y": 1
        },
        "template": {
         "data": {
          "bar": [
           {
            "error_x": {
             "color": "#2a3f5f"
            },
            "error_y": {
             "color": "#2a3f5f"
            },
            "marker": {
             "line": {
              "color": "#E5ECF6",
              "width": 0.5
             }
            },
            "type": "bar"
           }
          ],
          "barpolar": [
           {
            "marker": {
             "line": {
              "color": "#E5ECF6",
              "width": 0.5
             }
            },
            "type": "barpolar"
           }
          ],
          "carpet": [
           {
            "aaxis": {
             "endlinecolor": "#2a3f5f",
             "gridcolor": "white",
             "linecolor": "white",
             "minorgridcolor": "white",
             "startlinecolor": "#2a3f5f"
            },
            "baxis": {
             "endlinecolor": "#2a3f5f",
             "gridcolor": "white",
             "linecolor": "white",
             "minorgridcolor": "white",
             "startlinecolor": "#2a3f5f"
            },
            "type": "carpet"
           }
          ],
          "choropleth": [
           {
            "colorbar": {
             "outlinewidth": 0,
             "ticks": ""
            },
            "type": "choropleth"
           }
          ],
          "contour": [
           {
            "colorbar": {
             "outlinewidth": 0,
             "ticks": ""
            },
            "colorscale": [
             [
              0,
              "#0d0887"
             ],
             [
              0.1111111111111111,
              "#46039f"
             ],
             [
              0.2222222222222222,
              "#7201a8"
             ],
             [
              0.3333333333333333,
              "#9c179e"
             ],
             [
              0.4444444444444444,
              "#bd3786"
             ],
             [
              0.5555555555555556,
              "#d8576b"
             ],
             [
              0.6666666666666666,
              "#ed7953"
             ],
             [
              0.7777777777777778,
              "#fb9f3a"
             ],
             [
              0.8888888888888888,
              "#fdca26"
             ],
             [
              1,
              "#f0f921"
             ]
            ],
            "type": "contour"
           }
          ],
          "contourcarpet": [
           {
            "colorbar": {
             "outlinewidth": 0,
             "ticks": ""
            },
            "type": "contourcarpet"
           }
          ],
          "heatmap": [
           {
            "colorbar": {
             "outlinewidth": 0,
             "ticks": ""
            },
            "colorscale": [
             [
              0,
              "#0d0887"
             ],
             [
              0.1111111111111111,
              "#46039f"
             ],
             [
              0.2222222222222222,
              "#7201a8"
             ],
             [
              0.3333333333333333,
              "#9c179e"
             ],
             [
              0.4444444444444444,
              "#bd3786"
             ],
             [
              0.5555555555555556,
              "#d8576b"
             ],
             [
              0.6666666666666666,
              "#ed7953"
             ],
             [
              0.7777777777777778,
              "#fb9f3a"
             ],
             [
              0.8888888888888888,
              "#fdca26"
             ],
             [
              1,
              "#f0f921"
             ]
            ],
            "type": "heatmap"
           }
          ],
          "heatmapgl": [
           {
            "colorbar": {
             "outlinewidth": 0,
             "ticks": ""
            },
            "colorscale": [
             [
              0,
              "#0d0887"
             ],
             [
              0.1111111111111111,
              "#46039f"
             ],
             [
              0.2222222222222222,
              "#7201a8"
             ],
             [
              0.3333333333333333,
              "#9c179e"
             ],
             [
              0.4444444444444444,
              "#bd3786"
             ],
             [
              0.5555555555555556,
              "#d8576b"
             ],
             [
              0.6666666666666666,
              "#ed7953"
             ],
             [
              0.7777777777777778,
              "#fb9f3a"
             ],
             [
              0.8888888888888888,
              "#fdca26"
             ],
             [
              1,
              "#f0f921"
             ]
            ],
            "type": "heatmapgl"
           }
          ],
          "histogram": [
           {
            "marker": {
             "colorbar": {
              "outlinewidth": 0,
              "ticks": ""
             }
            },
            "type": "histogram"
           }
          ],
          "histogram2d": [
           {
            "colorbar": {
             "outlinewidth": 0,
             "ticks": ""
            },
            "colorscale": [
             [
              0,
              "#0d0887"
             ],
             [
              0.1111111111111111,
              "#46039f"
             ],
             [
              0.2222222222222222,
              "#7201a8"
             ],
             [
              0.3333333333333333,
              "#9c179e"
             ],
             [
              0.4444444444444444,
              "#bd3786"
             ],
             [
              0.5555555555555556,
              "#d8576b"
             ],
             [
              0.6666666666666666,
              "#ed7953"
             ],
             [
              0.7777777777777778,
              "#fb9f3a"
             ],
             [
              0.8888888888888888,
              "#fdca26"
             ],
             [
              1,
              "#f0f921"
             ]
            ],
            "type": "histogram2d"
           }
          ],
          "histogram2dcontour": [
           {
            "colorbar": {
             "outlinewidth": 0,
             "ticks": ""
            },
            "colorscale": [
             [
              0,
              "#0d0887"
             ],
             [
              0.1111111111111111,
              "#46039f"
             ],
             [
              0.2222222222222222,
              "#7201a8"
             ],
             [
              0.3333333333333333,
              "#9c179e"
             ],
             [
              0.4444444444444444,
              "#bd3786"
             ],
             [
              0.5555555555555556,
              "#d8576b"
             ],
             [
              0.6666666666666666,
              "#ed7953"
             ],
             [
              0.7777777777777778,
              "#fb9f3a"
             ],
             [
              0.8888888888888888,
              "#fdca26"
             ],
             [
              1,
              "#f0f921"
             ]
            ],
            "type": "histogram2dcontour"
           }
          ],
          "mesh3d": [
           {
            "colorbar": {
             "outlinewidth": 0,
             "ticks": ""
            },
            "type": "mesh3d"
           }
          ],
          "parcoords": [
           {
            "line": {
             "colorbar": {
              "outlinewidth": 0,
              "ticks": ""
             }
            },
            "type": "parcoords"
           }
          ],
          "pie": [
           {
            "automargin": true,
            "type": "pie"
           }
          ],
          "scatter": [
           {
            "marker": {
             "colorbar": {
              "outlinewidth": 0,
              "ticks": ""
             }
            },
            "type": "scatter"
           }
          ],
          "scatter3d": [
           {
            "line": {
             "colorbar": {
              "outlinewidth": 0,
              "ticks": ""
             }
            },
            "marker": {
             "colorbar": {
              "outlinewidth": 0,
              "ticks": ""
             }
            },
            "type": "scatter3d"
           }
          ],
          "scattercarpet": [
           {
            "marker": {
             "colorbar": {
              "outlinewidth": 0,
              "ticks": ""
             }
            },
            "type": "scattercarpet"
           }
          ],
          "scattergeo": [
           {
            "marker": {
             "colorbar": {
              "outlinewidth": 0,
              "ticks": ""
             }
            },
            "type": "scattergeo"
           }
          ],
          "scattergl": [
           {
            "marker": {
             "colorbar": {
              "outlinewidth": 0,
              "ticks": ""
             }
            },
            "type": "scattergl"
           }
          ],
          "scattermapbox": [
           {
            "marker": {
             "colorbar": {
              "outlinewidth": 0,
              "ticks": ""
             }
            },
            "type": "scattermapbox"
           }
          ],
          "scatterpolar": [
           {
            "marker": {
             "colorbar": {
              "outlinewidth": 0,
              "ticks": ""
             }
            },
            "type": "scatterpolar"
           }
          ],
          "scatterpolargl": [
           {
            "marker": {
             "colorbar": {
              "outlinewidth": 0,
              "ticks": ""
             }
            },
            "type": "scatterpolargl"
           }
          ],
          "scatterternary": [
           {
            "marker": {
             "colorbar": {
              "outlinewidth": 0,
              "ticks": ""
             }
            },
            "type": "scatterternary"
           }
          ],
          "surface": [
           {
            "colorbar": {
             "outlinewidth": 0,
             "ticks": ""
            },
            "colorscale": [
             [
              0,
              "#0d0887"
             ],
             [
              0.1111111111111111,
              "#46039f"
             ],
             [
              0.2222222222222222,
              "#7201a8"
             ],
             [
              0.3333333333333333,
              "#9c179e"
             ],
             [
              0.4444444444444444,
              "#bd3786"
             ],
             [
              0.5555555555555556,
              "#d8576b"
             ],
             [
              0.6666666666666666,
              "#ed7953"
             ],
             [
              0.7777777777777778,
              "#fb9f3a"
             ],
             [
              0.8888888888888888,
              "#fdca26"
             ],
             [
              1,
              "#f0f921"
             ]
            ],
            "type": "surface"
           }
          ],
          "table": [
           {
            "cells": {
             "fill": {
              "color": "#EBF0F8"
             },
             "line": {
              "color": "white"
             }
            },
            "header": {
             "fill": {
              "color": "#C8D4E3"
             },
             "line": {
              "color": "white"
             }
            },
            "type": "table"
           }
          ]
         },
         "layout": {
          "annotationdefaults": {
           "arrowcolor": "#2a3f5f",
           "arrowhead": 0,
           "arrowwidth": 1
          },
          "autotypenumbers": "strict",
          "coloraxis": {
           "colorbar": {
            "outlinewidth": 0,
            "ticks": ""
           }
          },
          "colorscale": {
           "diverging": [
            [
             0,
             "#8e0152"
            ],
            [
             0.1,
             "#c51b7d"
            ],
            [
             0.2,
             "#de77ae"
            ],
            [
             0.3,
             "#f1b6da"
            ],
            [
             0.4,
             "#fde0ef"
            ],
            [
             0.5,
             "#f7f7f7"
            ],
            [
             0.6,
             "#e6f5d0"
            ],
            [
             0.7,
             "#b8e186"
            ],
            [
             0.8,
             "#7fbc41"
            ],
            [
             0.9,
             "#4d9221"
            ],
            [
             1,
             "#276419"
            ]
           ],
           "sequential": [
            [
             0,
             "#0d0887"
            ],
            [
             0.1111111111111111,
             "#46039f"
            ],
            [
             0.2222222222222222,
             "#7201a8"
            ],
            [
             0.3333333333333333,
             "#9c179e"
            ],
            [
             0.4444444444444444,
             "#bd3786"
            ],
            [
             0.5555555555555556,
             "#d8576b"
            ],
            [
             0.6666666666666666,
             "#ed7953"
            ],
            [
             0.7777777777777778,
             "#fb9f3a"
            ],
            [
             0.8888888888888888,
             "#fdca26"
            ],
            [
             1,
             "#f0f921"
            ]
           ],
           "sequentialminus": [
            [
             0,
             "#0d0887"
            ],
            [
             0.1111111111111111,
             "#46039f"
            ],
            [
             0.2222222222222222,
             "#7201a8"
            ],
            [
             0.3333333333333333,
             "#9c179e"
            ],
            [
             0.4444444444444444,
             "#bd3786"
            ],
            [
             0.5555555555555556,
             "#d8576b"
            ],
            [
             0.6666666666666666,
             "#ed7953"
            ],
            [
             0.7777777777777778,
             "#fb9f3a"
            ],
            [
             0.8888888888888888,
             "#fdca26"
            ],
            [
             1,
             "#f0f921"
            ]
           ]
          },
          "colorway": [
           "#636efa",
           "#EF553B",
           "#00cc96",
           "#ab63fa",
           "#FFA15A",
           "#19d3f3",
           "#FF6692",
           "#B6E880",
           "#FF97FF",
           "#FECB52"
          ],
          "font": {
           "color": "#2a3f5f"
          },
          "geo": {
           "bgcolor": "white",
           "lakecolor": "white",
           "landcolor": "#E5ECF6",
           "showlakes": true,
           "showland": true,
           "subunitcolor": "white"
          },
          "hoverlabel": {
           "align": "left"
          },
          "hovermode": "closest",
          "mapbox": {
           "style": "light"
          },
          "paper_bgcolor": "white",
          "plot_bgcolor": "#E5ECF6",
          "polar": {
           "angularaxis": {
            "gridcolor": "white",
            "linecolor": "white",
            "ticks": ""
           },
           "bgcolor": "#E5ECF6",
           "radialaxis": {
            "gridcolor": "white",
            "linecolor": "white",
            "ticks": ""
           }
          },
          "scene": {
           "xaxis": {
            "backgroundcolor": "#E5ECF6",
            "gridcolor": "white",
            "gridwidth": 2,
            "linecolor": "white",
            "showbackground": true,
            "ticks": "",
            "zerolinecolor": "white"
           },
           "yaxis": {
            "backgroundcolor": "#E5ECF6",
            "gridcolor": "white",
            "gridwidth": 2,
            "linecolor": "white",
            "showbackground": true,
            "ticks": "",
            "zerolinecolor": "white"
           },
           "zaxis": {
            "backgroundcolor": "#E5ECF6",
            "gridcolor": "white",
            "gridwidth": 2,
            "linecolor": "white",
            "showbackground": true,
            "ticks": "",
            "zerolinecolor": "white"
           }
          },
          "shapedefaults": {
           "line": {
            "color": "#2a3f5f"
           }
          },
          "ternary": {
           "aaxis": {
            "gridcolor": "white",
            "linecolor": "white",
            "ticks": ""
           },
           "baxis": {
            "gridcolor": "white",
            "linecolor": "white",
            "ticks": ""
           },
           "bgcolor": "#E5ECF6",
           "caxis": {
            "gridcolor": "white",
            "linecolor": "white",
            "ticks": ""
           }
          },
          "title": {
           "x": 0.05
          },
          "xaxis": {
           "automargin": true,
           "gridcolor": "white",
           "linecolor": "white",
           "ticks": "",
           "title": {
            "standoff": 15
           },
           "zerolinecolor": "white",
           "zerolinewidth": 2
          },
          "yaxis": {
           "automargin": true,
           "gridcolor": "white",
           "linecolor": "white",
           "ticks": "",
           "title": {
            "standoff": 15
           },
           "zerolinecolor": "white",
           "zerolinewidth": 2
          }
         }
        }
       }
      },
      "text/html": [
       "<div>                            <div id=\"ba119d06-b07b-4288-83c3-255e59406c50\" class=\"plotly-graph-div\" style=\"height:525px; width:100%;\"></div>            <script type=\"text/javascript\">                require([\"plotly\"], function(Plotly) {                    window.PLOTLYENV=window.PLOTLYENV || {};                                    if (document.getElementById(\"ba119d06-b07b-4288-83c3-255e59406c50\")) {                    Plotly.newPlot(                        \"ba119d06-b07b-4288-83c3-255e59406c50\",                        [{\"hovertemplate\": [\"<BR>Ds: WN18RR <BR>Model_label: TransE<BR>metricName: Hits-at-10<BR>value: 0.5555<BR>Max. value: 0.604<BR>% of max. value: 91.97%\", \"<BR>Ds: WN18RR <BR>Model_label: ComplEx-N3 (reciprocal)<BR>metricName: Hits-at-10<BR>value: 0.57<BR>Max. value: 0.604<BR>% of max. value: 94.371%\", \"<BR>Ds: WN18RR <BR>Model_label: M3GM<BR>metricName: Hits-at-10<BR>value: 0.5902<BR>Max. value: 0.604<BR>% of max. value: 97.715%\", \"<BR>Ds: WN18RR <BR>Model_label: GAATs<BR>metricName: Hits-at-10<BR>value: 0.604<BR>Max. value: 0.604<BR>% of max. value: 100.0%\"], \"marker\": {\"color\": [92.0, 94.0, 98.0, 100.0], \"colorbar\": {\"title\": {\"text\": \"% of max.:<BR>Hits-at-10\"}}, \"colorscale\": [[0.0, \"rgb(255,245,235)\"], [0.125, \"rgb(254,230,206)\"], [0.25, \"rgb(253,208,162)\"], [0.375, \"rgb(253,174,107)\"], [0.5, \"rgb(253,141,60)\"], [0.625, \"rgb(241,105,19)\"], [0.75, \"rgb(217,72,1)\"], [0.875, \"rgb(166,54,3)\"], [1.0, \"rgb(127,39,4)\"]], \"line\": {\"color\": \"black\", \"width\": 2}, \"size\": [9.2, 9.4, 9.8, 10.0]}, \"mode\": \"markers+lines\", \"name\": \"WN18RR \", \"showlegend\": true, \"type\": \"scatter\", \"x\": [\"2013-12\", \"2018-06\", \"2018-08\", \"2019-12\"], \"y\": [\"WN18RR \", \"WN18RR \", \"WN18RR \", \"WN18RR \"]}],                        {\"legend\": {\"x\": -0.15, \"y\": 1}, \"template\": {\"data\": {\"bar\": [{\"error_x\": {\"color\": \"#2a3f5f\"}, \"error_y\": {\"color\": \"#2a3f5f\"}, \"marker\": {\"line\": {\"color\": \"#E5ECF6\", \"width\": 0.5}}, \"type\": \"bar\"}], \"barpolar\": [{\"marker\": {\"line\": {\"color\": \"#E5ECF6\", \"width\": 0.5}}, \"type\": \"barpolar\"}], \"carpet\": [{\"aaxis\": {\"endlinecolor\": \"#2a3f5f\", \"gridcolor\": \"white\", \"linecolor\": \"white\", \"minorgridcolor\": \"white\", \"startlinecolor\": \"#2a3f5f\"}, \"baxis\": {\"endlinecolor\": \"#2a3f5f\", \"gridcolor\": \"white\", \"linecolor\": \"white\", \"minorgridcolor\": \"white\", \"startlinecolor\": \"#2a3f5f\"}, \"type\": \"carpet\"}], \"choropleth\": [{\"colorbar\": {\"outlinewidth\": 0, \"ticks\": \"\"}, \"type\": \"choropleth\"}], \"contour\": [{\"colorbar\": {\"outlinewidth\": 0, \"ticks\": \"\"}, \"colorscale\": [[0.0, \"#0d0887\"], [0.1111111111111111, \"#46039f\"], [0.2222222222222222, \"#7201a8\"], [0.3333333333333333, \"#9c179e\"], [0.4444444444444444, \"#bd3786\"], [0.5555555555555556, \"#d8576b\"], [0.6666666666666666, \"#ed7953\"], [0.7777777777777778, \"#fb9f3a\"], [0.8888888888888888, \"#fdca26\"], [1.0, \"#f0f921\"]], \"type\": \"contour\"}], \"contourcarpet\": [{\"colorbar\": {\"outlinewidth\": 0, \"ticks\": \"\"}, \"type\": \"contourcarpet\"}], \"heatmap\": [{\"colorbar\": {\"outlinewidth\": 0, \"ticks\": \"\"}, \"colorscale\": [[0.0, \"#0d0887\"], [0.1111111111111111, \"#46039f\"], [0.2222222222222222, \"#7201a8\"], [0.3333333333333333, \"#9c179e\"], [0.4444444444444444, \"#bd3786\"], [0.5555555555555556, \"#d8576b\"], [0.6666666666666666, \"#ed7953\"], [0.7777777777777778, \"#fb9f3a\"], [0.8888888888888888, \"#fdca26\"], [1.0, \"#f0f921\"]], \"type\": \"heatmap\"}], \"heatmapgl\": [{\"colorbar\": {\"outlinewidth\": 0, \"ticks\": \"\"}, \"colorscale\": [[0.0, \"#0d0887\"], [0.1111111111111111, \"#46039f\"], [0.2222222222222222, \"#7201a8\"], [0.3333333333333333, \"#9c179e\"], [0.4444444444444444, \"#bd3786\"], [0.5555555555555556, \"#d8576b\"], [0.6666666666666666, \"#ed7953\"], [0.7777777777777778, \"#fb9f3a\"], [0.8888888888888888, \"#fdca26\"], [1.0, \"#f0f921\"]], \"type\": \"heatmapgl\"}], \"histogram\": [{\"marker\": {\"colorbar\": {\"outlinewidth\": 0, \"ticks\": \"\"}}, \"type\": \"histogram\"}], \"histogram2d\": [{\"colorbar\": {\"outlinewidth\": 0, \"ticks\": \"\"}, \"colorscale\": [[0.0, \"#0d0887\"], [0.1111111111111111, \"#46039f\"], [0.2222222222222222, \"#7201a8\"], [0.3333333333333333, \"#9c179e\"], [0.4444444444444444, \"#bd3786\"], [0.5555555555555556, \"#d8576b\"], [0.6666666666666666, \"#ed7953\"], [0.7777777777777778, \"#fb9f3a\"], [0.8888888888888888, \"#fdca26\"], [1.0, \"#f0f921\"]], \"type\": \"histogram2d\"}], \"histogram2dcontour\": [{\"colorbar\": {\"outlinewidth\": 0, \"ticks\": \"\"}, \"colorscale\": [[0.0, \"#0d0887\"], [0.1111111111111111, \"#46039f\"], [0.2222222222222222, \"#7201a8\"], [0.3333333333333333, \"#9c179e\"], [0.4444444444444444, \"#bd3786\"], [0.5555555555555556, \"#d8576b\"], [0.6666666666666666, \"#ed7953\"], [0.7777777777777778, \"#fb9f3a\"], [0.8888888888888888, \"#fdca26\"], [1.0, \"#f0f921\"]], \"type\": \"histogram2dcontour\"}], \"mesh3d\": [{\"colorbar\": {\"outlinewidth\": 0, \"ticks\": \"\"}, \"type\": \"mesh3d\"}], \"parcoords\": [{\"line\": {\"colorbar\": {\"outlinewidth\": 0, \"ticks\": \"\"}}, \"type\": \"parcoords\"}], \"pie\": [{\"automargin\": true, \"type\": \"pie\"}], \"scatter\": [{\"marker\": {\"colorbar\": {\"outlinewidth\": 0, \"ticks\": \"\"}}, \"type\": \"scatter\"}], \"scatter3d\": [{\"line\": {\"colorbar\": {\"outlinewidth\": 0, \"ticks\": \"\"}}, \"marker\": {\"colorbar\": {\"outlinewidth\": 0, \"ticks\": \"\"}}, \"type\": \"scatter3d\"}], \"scattercarpet\": [{\"marker\": {\"colorbar\": {\"outlinewidth\": 0, \"ticks\": \"\"}}, \"type\": \"scattercarpet\"}], \"scattergeo\": [{\"marker\": {\"colorbar\": {\"outlinewidth\": 0, \"ticks\": \"\"}}, \"type\": \"scattergeo\"}], \"scattergl\": [{\"marker\": {\"colorbar\": {\"outlinewidth\": 0, \"ticks\": \"\"}}, \"type\": \"scattergl\"}], \"scattermapbox\": [{\"marker\": {\"colorbar\": {\"outlinewidth\": 0, \"ticks\": \"\"}}, \"type\": \"scattermapbox\"}], \"scatterpolar\": [{\"marker\": {\"colorbar\": {\"outlinewidth\": 0, \"ticks\": \"\"}}, \"type\": \"scatterpolar\"}], \"scatterpolargl\": [{\"marker\": {\"colorbar\": {\"outlinewidth\": 0, \"ticks\": \"\"}}, \"type\": \"scatterpolargl\"}], \"scatterternary\": [{\"marker\": {\"colorbar\": {\"outlinewidth\": 0, \"ticks\": \"\"}}, \"type\": \"scatterternary\"}], \"surface\": [{\"colorbar\": {\"outlinewidth\": 0, \"ticks\": \"\"}, \"colorscale\": [[0.0, \"#0d0887\"], [0.1111111111111111, \"#46039f\"], [0.2222222222222222, \"#7201a8\"], [0.3333333333333333, \"#9c179e\"], [0.4444444444444444, \"#bd3786\"], [0.5555555555555556, \"#d8576b\"], [0.6666666666666666, \"#ed7953\"], [0.7777777777777778, \"#fb9f3a\"], [0.8888888888888888, \"#fdca26\"], [1.0, \"#f0f921\"]], \"type\": \"surface\"}], \"table\": [{\"cells\": {\"fill\": {\"color\": \"#EBF0F8\"}, \"line\": {\"color\": \"white\"}}, \"header\": {\"fill\": {\"color\": \"#C8D4E3\"}, \"line\": {\"color\": \"white\"}}, \"type\": \"table\"}]}, \"layout\": {\"annotationdefaults\": {\"arrowcolor\": \"#2a3f5f\", \"arrowhead\": 0, \"arrowwidth\": 1}, \"autotypenumbers\": \"strict\", \"coloraxis\": {\"colorbar\": {\"outlinewidth\": 0, \"ticks\": \"\"}}, \"colorscale\": {\"diverging\": [[0, \"#8e0152\"], [0.1, \"#c51b7d\"], [0.2, \"#de77ae\"], [0.3, \"#f1b6da\"], [0.4, \"#fde0ef\"], [0.5, \"#f7f7f7\"], [0.6, \"#e6f5d0\"], [0.7, \"#b8e186\"], [0.8, \"#7fbc41\"], [0.9, \"#4d9221\"], [1, \"#276419\"]], \"sequential\": [[0.0, \"#0d0887\"], [0.1111111111111111, \"#46039f\"], [0.2222222222222222, \"#7201a8\"], [0.3333333333333333, \"#9c179e\"], [0.4444444444444444, \"#bd3786\"], [0.5555555555555556, \"#d8576b\"], [0.6666666666666666, \"#ed7953\"], [0.7777777777777778, \"#fb9f3a\"], [0.8888888888888888, \"#fdca26\"], [1.0, \"#f0f921\"]], \"sequentialminus\": [[0.0, \"#0d0887\"], [0.1111111111111111, \"#46039f\"], [0.2222222222222222, \"#7201a8\"], [0.3333333333333333, \"#9c179e\"], [0.4444444444444444, \"#bd3786\"], [0.5555555555555556, \"#d8576b\"], [0.6666666666666666, \"#ed7953\"], [0.7777777777777778, \"#fb9f3a\"], [0.8888888888888888, \"#fdca26\"], [1.0, \"#f0f921\"]]}, \"colorway\": [\"#636efa\", \"#EF553B\", \"#00cc96\", \"#ab63fa\", \"#FFA15A\", \"#19d3f3\", \"#FF6692\", \"#B6E880\", \"#FF97FF\", \"#FECB52\"], \"font\": {\"color\": \"#2a3f5f\"}, \"geo\": {\"bgcolor\": \"white\", \"lakecolor\": \"white\", \"landcolor\": \"#E5ECF6\", \"showlakes\": true, \"showland\": true, \"subunitcolor\": \"white\"}, \"hoverlabel\": {\"align\": \"left\"}, \"hovermode\": \"closest\", \"mapbox\": {\"style\": \"light\"}, \"paper_bgcolor\": \"white\", \"plot_bgcolor\": \"#E5ECF6\", \"polar\": {\"angularaxis\": {\"gridcolor\": \"white\", \"linecolor\": \"white\", \"ticks\": \"\"}, \"bgcolor\": \"#E5ECF6\", \"radialaxis\": {\"gridcolor\": \"white\", \"linecolor\": \"white\", \"ticks\": \"\"}}, \"scene\": {\"xaxis\": {\"backgroundcolor\": \"#E5ECF6\", \"gridcolor\": \"white\", \"gridwidth\": 2, \"linecolor\": \"white\", \"showbackground\": true, \"ticks\": \"\", \"zerolinecolor\": \"white\"}, \"yaxis\": {\"backgroundcolor\": \"#E5ECF6\", \"gridcolor\": \"white\", \"gridwidth\": 2, \"linecolor\": \"white\", \"showbackground\": true, \"ticks\": \"\", \"zerolinecolor\": \"white\"}, \"zaxis\": {\"backgroundcolor\": \"#E5ECF6\", \"gridcolor\": \"white\", \"gridwidth\": 2, \"linecolor\": \"white\", \"showbackground\": true, \"ticks\": \"\", \"zerolinecolor\": \"white\"}}, \"shapedefaults\": {\"line\": {\"color\": \"#2a3f5f\"}}, \"ternary\": {\"aaxis\": {\"gridcolor\": \"white\", \"linecolor\": \"white\", \"ticks\": \"\"}, \"baxis\": {\"gridcolor\": \"white\", \"linecolor\": \"white\", \"ticks\": \"\"}, \"bgcolor\": \"#E5ECF6\", \"caxis\": {\"gridcolor\": \"white\", \"linecolor\": \"white\", \"ticks\": \"\"}}, \"title\": {\"x\": 0.05}, \"xaxis\": {\"automargin\": true, \"gridcolor\": \"white\", \"linecolor\": \"white\", \"ticks\": \"\", \"title\": {\"standoff\": 15}, \"zerolinecolor\": \"white\", \"zerolinewidth\": 2}, \"yaxis\": {\"automargin\": true, \"gridcolor\": \"white\", \"linecolor\": \"white\", \"ticks\": \"\", \"title\": {\"standoff\": 15}, \"zerolinecolor\": \"white\", \"zerolinewidth\": 2}}}},                        {\"responsive\": true}                    ).then(function(){\n",
       "                            \n",
       "var gd = document.getElementById('ba119d06-b07b-4288-83c3-255e59406c50');\n",
       "var x = new MutationObserver(function (mutations, observer) {{\n",
       "        var display = window.getComputedStyle(gd).display;\n",
       "        if (!display || display === 'none') {{\n",
       "            console.log([gd, 'removed!']);\n",
       "            Plotly.purge(gd);\n",
       "            observer.disconnect();\n",
       "        }}\n",
       "}});\n",
       "\n",
       "// Listen for the removal of the full notebook cells\n",
       "var notebookContainer = gd.closest('#notebook-container');\n",
       "if (notebookContainer) {{\n",
       "    x.observe(notebookContainer, {childList: true});\n",
       "}}\n",
       "\n",
       "// Listen for the clearing of the current output cell\n",
       "var outputEl = gd.closest('.output');\n",
       "if (outputEl) {{\n",
       "    x.observe(outputEl, {childList: true});\n",
       "}}\n",
       "\n",
       "                        })                };                });            </script>        </div>"
      ]
     },
     "metadata": {},
     "output_type": "display_data"
    }
   ],
   "source": [
    "fig = go.Figure()\n",
    "\n",
    "\n",
    "\n",
    "# markers 1\n",
    "fig.add_trace(go.Scatter(x=ratio_df[\"date\"], \n",
    "                         y=ratio_df[\"ds\"], \n",
    "                         #yaxis = ratio_df.iloc[0][\"ds\"],\n",
    "                         name=ratio_df.iloc[0][\"ds\"],\n",
    "                         \n",
    "                         mode = 'markers + lines',\n",
    "                         marker=dict(color=ratio_df[\"percent\"].astype(\"float\"),\n",
    "                                     colorscale='oranges', \n",
    "                                     colorbar=dict(title='% of max.:<BR>'+ desired_measure)),\n",
    "                         marker_size=ratio_df[\"percent\"].astype(\"float\")/10,\n",
    "#                         hovertemplate=ratio_df[\"model_label\"]+\": \"+ ratio_df[\"gain\"],\n",
    "                         \n",
    "                         \n",
    "                         hovertemplate=\"<BR>Ds: \"+ ratio_df[\"ds\"]+\n",
    "                                              \"<BR>Model_label: \"+ ratio_df[\"model_label\"]+\n",
    "                                              \"<BR>metricName: \"+ ratio_df[\"metricName\"]+\n",
    "                                              \"<BR>value: \"+ ratio_df[\"value\"]+\n",
    "                                              \"<BR>Max. value: \"+ max(ratio_df[\"total\"])+\n",
    "                                              \"<BR>% of max. value: \"+round(((ratio_df[\"value\"].astype(\"float\")/max(ratio_df[\"total\"].astype(float)))*100),3).astype(\"string\")+\"%\", \n",
    "                         \n",
    "                         \n",
    "                         showlegend=True\n",
    "                         ),\n",
    "             )\n",
    "\n",
    "\n",
    "fig.update_layout(legend=dict(x=-.15, y=1))\n",
    "fig.update_traces(marker_line_width=2, marker_line_color=\"black\")\n",
    "fig.show()"
   ]
  },
  {
   "cell_type": "code",
   "execution_count": 13,
   "metadata": {},
   "outputs": [
    {
     "data": {
      "text/html": [
       "<div>\n",
       "<style scoped>\n",
       "    .dataframe tbody tr th:only-of-type {\n",
       "        vertical-align: middle;\n",
       "    }\n",
       "\n",
       "    .dataframe tbody tr th {\n",
       "        vertical-align: top;\n",
       "    }\n",
       "\n",
       "    .dataframe thead th {\n",
       "        text-align: right;\n",
       "    }\n",
       "</style>\n",
       "<table border=\"1\" class=\"dataframe\">\n",
       "  <thead>\n",
       "    <tr style=\"text-align: right;\">\n",
       "      <th></th>\n",
       "      <th>ds_count</th>\n",
       "      <th>ds</th>\n",
       "      <th>date</th>\n",
       "      <th>model_label</th>\n",
       "      <th>metricName</th>\n",
       "      <th>value</th>\n",
       "      <th>gain</th>\n",
       "      <th>ratio</th>\n",
       "      <th>total</th>\n",
       "      <th>percent</th>\n",
       "    </tr>\n",
       "  </thead>\n",
       "  <tbody>\n",
       "    <tr>\n",
       "      <th>0</th>\n",
       "      <td>1</td>\n",
       "      <td>WN18RR</td>\n",
       "      <td>2013-12</td>\n",
       "      <td>TransE</td>\n",
       "      <td>Hits-at-10</td>\n",
       "      <td>0.5555</td>\n",
       "      <td>0.5555</td>\n",
       "      <td>0.92</td>\n",
       "      <td>0.604</td>\n",
       "      <td>92.0</td>\n",
       "    </tr>\n",
       "    <tr>\n",
       "      <th>1</th>\n",
       "      <td>1</td>\n",
       "      <td>WN18RR</td>\n",
       "      <td>2018-06</td>\n",
       "      <td>ComplEx-N3 (reciprocal)</td>\n",
       "      <td>Hits-at-10</td>\n",
       "      <td>0.57</td>\n",
       "      <td>0.01</td>\n",
       "      <td>0.02</td>\n",
       "      <td>0.604</td>\n",
       "      <td>94.0</td>\n",
       "    </tr>\n",
       "    <tr>\n",
       "      <th>2</th>\n",
       "      <td>1</td>\n",
       "      <td>WN18RR</td>\n",
       "      <td>2018-08</td>\n",
       "      <td>M3GM</td>\n",
       "      <td>Hits-at-10</td>\n",
       "      <td>0.5902</td>\n",
       "      <td>0.02</td>\n",
       "      <td>0.03</td>\n",
       "      <td>0.604</td>\n",
       "      <td>98.0</td>\n",
       "    </tr>\n",
       "    <tr>\n",
       "      <th>3</th>\n",
       "      <td>1</td>\n",
       "      <td>WN18RR</td>\n",
       "      <td>2019-12</td>\n",
       "      <td>GAATs</td>\n",
       "      <td>Hits-at-10</td>\n",
       "      <td>0.604</td>\n",
       "      <td>0.01</td>\n",
       "      <td>0.02</td>\n",
       "      <td>0.604</td>\n",
       "      <td>100.0</td>\n",
       "    </tr>\n",
       "  </tbody>\n",
       "</table>\n",
       "</div>"
      ],
      "text/plain": [
       "  ds_count       ds     date              model_label  metricName   value  \\\n",
       "0        1  WN18RR   2013-12                   TransE  Hits-at-10  0.5555   \n",
       "1        1  WN18RR   2018-06  ComplEx-N3 (reciprocal)  Hits-at-10    0.57   \n",
       "2        1  WN18RR   2018-08                     M3GM  Hits-at-10  0.5902   \n",
       "3        1  WN18RR   2019-12                    GAATs  Hits-at-10   0.604   \n",
       "\n",
       "     gain ratio  total  percent  \n",
       "0  0.5555  0.92  0.604     92.0  \n",
       "1    0.01  0.02  0.604     94.0  \n",
       "2    0.02  0.03  0.604     98.0  \n",
       "3    0.01  0.02  0.604    100.0  "
      ]
     },
     "execution_count": 13,
     "metadata": {},
     "output_type": "execute_result"
    }
   ],
   "source": [
    "ratio_df"
   ]
  },
  {
   "cell_type": "code",
   "execution_count": null,
   "metadata": {},
   "outputs": [],
   "source": []
  },
  {
   "cell_type": "code",
   "execution_count": 14,
   "metadata": {},
   "outputs": [
    {
     "data": {
      "image/png": "[encoded data removed]",
      "text/plain": [
       "<Figure size 360x216 with 1 Axes>"
      ]
     },
     "metadata": {
      "needs_background": "light"
     },
     "output_type": "display_data"
    }
   ],
   "source": [
    "import numpy as np\n",
    "from matplotlib.collections import LineCollection\n",
    "import matplotlib.pyplot as plt\n",
    "\n",
    "y = ratio_df[\"value\"].astype(float)\n",
    "x=ratio_df.index.values\n",
    "\n",
    "lwidths=((x+1)*3)\n",
    "\n",
    "#lwidths\n",
    "\n",
    "points = np.array([x, y]).T.reshape(-1, 1, 2)\n",
    "segments = np.concatenate([points[:-1], points[1:]], axis=1)\n",
    "\n",
    "#segments\n",
    "\n",
    "lc = LineCollection(segments, linewidths=lwidths,color='blue')\n",
    "\n",
    "fig,a = plt.subplots(figsize=(5,3))\n",
    "a.add_collection(lc)\n",
    "a.set_ylim(0,1)\n",
    "a.set_xlim(-1,max(ratio_df.index.values)+1)\n",
    "a.set_xticks(x)\n",
    "a.set_xticklabels([i for i in ratio_df[\"date\"]])\n",
    "a.set_yticks(y)\n",
    "a.set_yticklabels([i for i in ratio_df[\"model_label\"]])\n",
    "a.set_ylim(min(y),max(y))\n",
    "a.tick_params(labelbottom=True, labeltop=False, labelleft=True, labelright=False)\n",
    "a.title.set_text(ratio_df[\"ds\"][0])\n",
    "\n",
    "\n",
    "\n",
    "\n",
    "#Reference:\n",
    "#https://stackoverflow.com/questions/19390895/matplotlib-plot-with-variable-line-width"
   ]
  },
  {
   "cell_type": "code",
   "execution_count": 15,
   "metadata": {},
   "outputs": [
    {
     "data": {
      "image/png": "[encoded data removed]",
      "text/plain": [
       "<Figure size 360x216 with 2 Axes>"
      ]
     },
     "metadata": {
      "needs_background": "light"
     },
     "output_type": "display_data"
    }
   ],
   "source": [
    "#Plot with ylabels on both sides\n",
    "\n",
    "# import libraries\n",
    "import numpy as np\n",
    "import matplotlib.pyplot as plt\n",
    "\n",
    "\n",
    "y = ratio_df[\"value\"].astype(float)\n",
    "x=ratio_df.index.values\n",
    "\n",
    "lwidths=((x+1)*3)\n",
    "\n",
    "#lwidths\n",
    "\n",
    "points = np.array([x, y]).T.reshape(-1, 1, 2)\n",
    "segments = np.concatenate([points[:-1], points[1:]], axis=1)\n",
    "\n",
    "#segments\n",
    "\n",
    "lc = LineCollection(segments, linewidths=lwidths,color='blue')\n",
    "\n",
    "# Creating dataset\n",
    "# Creating plot with dataset_1\n",
    "#fig, ax1 = plt.subplots()\n",
    "\n",
    "\n",
    "fig,a = plt.subplots(figsize=(5,3))\n",
    "a.add_collection(lc)\n",
    "a.set_ylim(0,1)\n",
    "a.set_xlim(-1,max(ratio_df.index.values)+1)\n",
    "a.set_xticks(x)\n",
    "a.set_xticklabels([i for i in ratio_df[\"date\"]])\n",
    "a.set_yticks(y)\n",
    "a.set_yticklabels([i for i in ratio_df[\"model_label\"]])\n",
    "a.set_ylim(min(y),max(y))\n",
    "#a.tick_params(labelbottom=True, labeltop=False, labelleft=True, labelright=False)\n",
    "a.title.set_text(ratio_df[\"ds\"][0])\n",
    "a.set_xlabel(\"year\")\n",
    "a.set_ylabel(\"model\")\n",
    "\n",
    "# Adding Twin Axes to plot using dataset_2\n",
    "a2 = a.twinx()\n",
    "a2.set_yticks(y)\n",
    "a2.set_yticklabels([i for i in ratio_df[\"percent\"]])\n",
    "a2.set_ylim(min(y),max(y))\n",
    "#a.tick_params(labelbottom=True, labeltop=False, labelleft=True, labelright=False)\n",
    "a2.title.set_text(ratio_df[\"ds\"][0])\n",
    "a2.set_ylabel(\"% of max. \"+ratio_df[\"metricName\"][0]+\" (\"+ratio_df[\"total\"][0]+\")\")\n",
    "\n",
    "\n",
    "# Adding title\n",
    "\n",
    "\n",
    "# Show plot\n",
    "plt.show()\n"
   ]
  },
  {
   "cell_type": "code",
   "execution_count": 16,
   "metadata": {},
   "outputs": [
    {
     "data": {
      "text/html": [
       "<div>\n",
       "<style scoped>\n",
       "    .dataframe tbody tr th:only-of-type {\n",
       "        vertical-align: middle;\n",
       "    }\n",
       "\n",
       "    .dataframe tbody tr th {\n",
       "        vertical-align: top;\n",
       "    }\n",
       "\n",
       "    .dataframe thead th {\n",
       "        text-align: right;\n",
       "    }\n",
       "</style>\n",
       "<table border=\"1\" class=\"dataframe\">\n",
       "  <thead>\n",
       "    <tr style=\"text-align: right;\">\n",
       "      <th></th>\n",
       "      <th>ds_count</th>\n",
       "      <th>ds</th>\n",
       "      <th>date</th>\n",
       "      <th>model_label</th>\n",
       "      <th>metricName</th>\n",
       "      <th>value</th>\n",
       "      <th>gain</th>\n",
       "      <th>ratio</th>\n",
       "      <th>total</th>\n",
       "      <th>percent</th>\n",
       "    </tr>\n",
       "  </thead>\n",
       "  <tbody>\n",
       "    <tr>\n",
       "      <th>0</th>\n",
       "      <td>1</td>\n",
       "      <td>WN18RR</td>\n",
       "      <td>2013-12</td>\n",
       "      <td>TransE</td>\n",
       "      <td>Hits-at-10</td>\n",
       "      <td>0.5555</td>\n",
       "      <td>0.5555</td>\n",
       "      <td>0.92</td>\n",
       "      <td>0.604</td>\n",
       "      <td>92.0</td>\n",
       "    </tr>\n",
       "    <tr>\n",
       "      <th>1</th>\n",
       "      <td>1</td>\n",
       "      <td>WN18RR</td>\n",
       "      <td>2018-06</td>\n",
       "      <td>ComplEx-N3 (reciprocal)</td>\n",
       "      <td>Hits-at-10</td>\n",
       "      <td>0.57</td>\n",
       "      <td>0.01</td>\n",
       "      <td>0.02</td>\n",
       "      <td>0.604</td>\n",
       "      <td>94.0</td>\n",
       "    </tr>\n",
       "    <tr>\n",
       "      <th>2</th>\n",
       "      <td>1</td>\n",
       "      <td>WN18RR</td>\n",
       "      <td>2018-08</td>\n",
       "      <td>M3GM</td>\n",
       "      <td>Hits-at-10</td>\n",
       "      <td>0.5902</td>\n",
       "      <td>0.02</td>\n",
       "      <td>0.03</td>\n",
       "      <td>0.604</td>\n",
       "      <td>98.0</td>\n",
       "    </tr>\n",
       "    <tr>\n",
       "      <th>3</th>\n",
       "      <td>1</td>\n",
       "      <td>WN18RR</td>\n",
       "      <td>2019-12</td>\n",
       "      <td>GAATs</td>\n",
       "      <td>Hits-at-10</td>\n",
       "      <td>0.604</td>\n",
       "      <td>0.01</td>\n",
       "      <td>0.02</td>\n",
       "      <td>0.604</td>\n",
       "      <td>100.0</td>\n",
       "    </tr>\n",
       "  </tbody>\n",
       "</table>\n",
       "</div>"
      ],
      "text/plain": [
       "  ds_count       ds     date              model_label  metricName   value  \\\n",
       "0        1  WN18RR   2013-12                   TransE  Hits-at-10  0.5555   \n",
       "1        1  WN18RR   2018-06  ComplEx-N3 (reciprocal)  Hits-at-10    0.57   \n",
       "2        1  WN18RR   2018-08                     M3GM  Hits-at-10  0.5902   \n",
       "3        1  WN18RR   2019-12                    GAATs  Hits-at-10   0.604   \n",
       "\n",
       "     gain ratio  total  percent  \n",
       "0  0.5555  0.92  0.604     92.0  \n",
       "1    0.01  0.02  0.604     94.0  \n",
       "2    0.02  0.03  0.604     98.0  \n",
       "3    0.01  0.02  0.604    100.0  "
      ]
     },
     "execution_count": 16,
     "metadata": {},
     "output_type": "execute_result"
    }
   ],
   "source": [
    "ratio_df"
   ]
  },
  {
   "cell_type": "code",
   "execution_count": 17,
   "metadata": {},
   "outputs": [
    {
     "name": "stderr",
     "output_type": "stream",
     "text": [
      "<ipython-input-17-48947b2b555a>:36: UserWarning:\n",
      "\n",
      "Attempting to set identical bottom == top == 1 results in singular transformations; automatically expanding.\n",
      "\n",
      "<ipython-input-17-48947b2b555a>:52: UserWarning:\n",
      "\n",
      "Attempting to set identical bottom == top == 1 results in singular transformations; automatically expanding.\n",
      "\n"
     ]
    },
    {
     "data": {
      "image/png": "[encoded data removed]",
      "text/plain": [
       "<Figure size 720x144 with 3 Axes>"
      ]
     },
     "metadata": {
      "needs_background": "light"
     },
     "output_type": "display_data"
    }
   ],
   "source": [
    "#Plot with ylabels on both sides\n",
    "\n",
    "# import libraries\n",
    "import numpy as np\n",
    "import matplotlib.pyplot as plt\n",
    "\n",
    "\n",
    "y = ratio_df[\"ds_count\"]\n",
    "x=ratio_df.index.values\n",
    "\n",
    "lwidths=((x+1)*3)\n",
    "\n",
    "#lwidths\n",
    "\n",
    "points = np.array([x, y]).T.reshape(-1, 1, 2)\n",
    "segments = np.concatenate([points[:-1], points[1:]], axis=1)\n",
    "\n",
    "#segments\n",
    "\n",
    "lc = LineCollection(segments, linewidths=lwidths,color='blue')\n",
    "\n",
    "# Creating dataset\n",
    "# Creating plot with dataset_1\n",
    "#fig, ax1 = plt.subplots()\n",
    "\n",
    "\n",
    "fig,a = plt.subplots(figsize=(10,2))\n",
    "a.add_collection(lc)\n",
    "a.set_xlim(-1,max(ratio_df.index.values)+1)\n",
    "a.set_xticks(x)\n",
    "a.set_xticklabels([i for i in ratio_df[\"date\"]])\n",
    "\n",
    "a.set_ylim(0,1)\n",
    "a.set_yticks(y)\n",
    "a.set_yticklabels(ratio_df[\"ds\"])\n",
    "a.set_ylim(min(y),max(y))\n",
    "#a.tick_params(labelbottom=True, labeltop=False, labelleft=True, labelright=False)\n",
    "a.title.set_text(ratio_df[\"ds\"][0])\n",
    "a.set_xlabel(\"year\")\n",
    "a.set_ylabel(\"Dataset\")\n",
    "\n",
    "    \n",
    "# Adding Twin Axes to plot y left\n",
    "a2 = a.twinx()\n",
    "\n",
    "a2.set_xlim(-1,max(ratio_df.index.values)+1)\n",
    "a2.set_xticks(x)\n",
    "a2.set_xticklabels([i for i in ratio_df[\"date\"]])\n",
    "\n",
    "a2.set_yticks(y)\n",
    "a2.set_yticklabels(ratio_df[\"total\"])\n",
    "a2.set_ylim(min(y),max(y))\n",
    "#a.tick_params(labelbottom=True, labeltop=False, labelleft=True, labelright=False)\n",
    "a2.set_ylabel(\"Max. \"+ratio_df[\"metricName\"][0])\n",
    "a2.tick_params(labelbottom=True, labeltop=False, labelleft=False, labelright=False)\n",
    "\n",
    "# Adding Twin Axes to plot x top\n",
    "a3 = a.twiny()\n",
    "a3.set_xlim(-1,max(ratio_df.index.values)+1)\n",
    "a3.set_xticks(x)\n",
    "a3.set_xticklabels([i for i in ratio_df[\"model_label\"]])\n",
    "a3.tick_params(labelbottom=False, labeltop=True, labelleft=False, labelright=False)\n",
    "\n",
    "\n",
    "for i, txt in enumerate(ratio_df[\"value\"]):\n",
    "    a.annotate( txt, (x[i], y[i]),\n",
    "                ha='center',\n",
    "                va='top',\n",
    "                xytext=(x[i],y[i]-0.01), #distace of the text from the point\n",
    "                fontsize=14) \n",
    "\n",
    "#use this to annotate the line\n",
    "a.scatter(x, y,  c = 'blue' ) #this adds the dots to the plot\n",
    "\n",
    "     \n",
    "# Show plot\n",
    "plt.show()\n"
   ]
  },
  {
   "cell_type": "code",
   "execution_count": 18,
   "metadata": {},
   "outputs": [
    {
     "data": {
      "text/html": [
       "<div>\n",
       "<style scoped>\n",
       "    .dataframe tbody tr th:only-of-type {\n",
       "        vertical-align: middle;\n",
       "    }\n",
       "\n",
       "    .dataframe tbody tr th {\n",
       "        vertical-align: top;\n",
       "    }\n",
       "\n",
       "    .dataframe thead th {\n",
       "        text-align: right;\n",
       "    }\n",
       "</style>\n",
       "<table border=\"1\" class=\"dataframe\">\n",
       "  <thead>\n",
       "    <tr style=\"text-align: right;\">\n",
       "      <th></th>\n",
       "      <th>ds_count</th>\n",
       "      <th>ds</th>\n",
       "      <th>date</th>\n",
       "      <th>model_label</th>\n",
       "      <th>metricName</th>\n",
       "      <th>value</th>\n",
       "      <th>gain</th>\n",
       "      <th>ratio</th>\n",
       "      <th>total</th>\n",
       "      <th>percent</th>\n",
       "    </tr>\n",
       "  </thead>\n",
       "  <tbody>\n",
       "    <tr>\n",
       "      <th>0</th>\n",
       "      <td>1</td>\n",
       "      <td>WN18RR</td>\n",
       "      <td>2013-12</td>\n",
       "      <td>TransE</td>\n",
       "      <td>Hits-at-10</td>\n",
       "      <td>0.5555</td>\n",
       "      <td>0.5555</td>\n",
       "      <td>0.92</td>\n",
       "      <td>0.604</td>\n",
       "      <td>92.0</td>\n",
       "    </tr>\n",
       "    <tr>\n",
       "      <th>1</th>\n",
       "      <td>1</td>\n",
       "      <td>WN18RR</td>\n",
       "      <td>2018-06</td>\n",
       "      <td>ComplEx-N3 (reciprocal)</td>\n",
       "      <td>Hits-at-10</td>\n",
       "      <td>0.57</td>\n",
       "      <td>0.01</td>\n",
       "      <td>0.02</td>\n",
       "      <td>0.604</td>\n",
       "      <td>94.0</td>\n",
       "    </tr>\n",
       "    <tr>\n",
       "      <th>2</th>\n",
       "      <td>1</td>\n",
       "      <td>WN18RR</td>\n",
       "      <td>2018-08</td>\n",
       "      <td>M3GM</td>\n",
       "      <td>Hits-at-10</td>\n",
       "      <td>0.5902</td>\n",
       "      <td>0.02</td>\n",
       "      <td>0.03</td>\n",
       "      <td>0.604</td>\n",
       "      <td>98.0</td>\n",
       "    </tr>\n",
       "    <tr>\n",
       "      <th>3</th>\n",
       "      <td>1</td>\n",
       "      <td>WN18RR</td>\n",
       "      <td>2019-12</td>\n",
       "      <td>GAATs</td>\n",
       "      <td>Hits-at-10</td>\n",
       "      <td>0.604</td>\n",
       "      <td>0.01</td>\n",
       "      <td>0.02</td>\n",
       "      <td>0.604</td>\n",
       "      <td>100.0</td>\n",
       "    </tr>\n",
       "  </tbody>\n",
       "</table>\n",
       "</div>"
      ],
      "text/plain": [
       "  ds_count       ds     date              model_label  metricName   value  \\\n",
       "0        1  WN18RR   2013-12                   TransE  Hits-at-10  0.5555   \n",
       "1        1  WN18RR   2018-06  ComplEx-N3 (reciprocal)  Hits-at-10    0.57   \n",
       "2        1  WN18RR   2018-08                     M3GM  Hits-at-10  0.5902   \n",
       "3        1  WN18RR   2019-12                    GAATs  Hits-at-10   0.604   \n",
       "\n",
       "     gain ratio  total  percent  \n",
       "0  0.5555  0.92  0.604     92.0  \n",
       "1    0.01  0.02  0.604     94.0  \n",
       "2    0.02  0.03  0.604     98.0  \n",
       "3    0.01  0.02  0.604    100.0  "
      ]
     },
     "execution_count": 18,
     "metadata": {},
     "output_type": "execute_result"
    }
   ],
   "source": [
    "ratio_df2 =  ratio_df.copy()\n",
    "ratio_df2[\"ds\"]=\"TEST\"\n",
    "ratio_df2[\"ds_count\"]=2\n",
    "\n",
    "ratio_df"
   ]
  },
  {
   "cell_type": "code",
   "execution_count": null,
   "metadata": {},
   "outputs": [],
   "source": []
  },
  {
   "cell_type": "code",
   "execution_count": null,
   "metadata": {},
   "outputs": [],
   "source": []
  }
 ],
 "metadata": {
  "kernelspec": {
   "display_name": "Python 3",
   "language": "python",
   "name": "python3"
  },
  "language_info": {
   "codemirror_mode": {
    "name": "ipython",
    "version": 3
   },
   "file_extension": ".py",
   "mimetype": "text/x-python",
   "name": "python",
   "nbconvert_exporter": "python",
   "pygments_lexer": "ipython3",
   "version": "3.9.5"
  },
  "toc": {
   "nav_menu": {},
   "number_sections": true,
   "sideBar": true,
   "skip_h1_title": false,
   "toc_cell": false,
   "toc_position": {},
   "toc_section_display": "block",
   "toc_window_display": false
  }
 },
 "nbformat": 4,
 "nbformat_minor": 2
}
