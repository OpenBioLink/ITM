{
 "cells": [
  {
   "cell_type": "code",
   "execution_count": 7,
   "metadata": {},
   "outputs": [],
   "source": [
    "from owlready2 import *\n",
    "import json\n",
    "\n",
    "onto = owlready2.get_ontology(\"ITO.owl\")\n",
    "onto.load()"
   ]
  },
  {
   "cell_type": "code",
   "execution_count": 57,
   "metadata": {},
   "outputs": [],
   "source": [
    "ITO = onto.get_namespace(\"https://identifiers.org/ito:\")\n",
    "EDAM = onto.get_namespace(\"http://edamontology.org/\")\n",
    "\n",
    "def class_to_dict(myclass):\n",
    "    mydict = dict()\n",
    "    #mydict['uri'] = myclass.iri\n",
    "    if myclass.label[0]:\n",
    "        mydict['name'] = myclass.label[0]\n",
    "    if myclass.hasDefinition:\n",
    "        mydict['description'] = myclass.hasDefinition[0]\n",
    "    if myclass.comment:\n",
    "        mydict['comment'] = myclass.comment[0]\n",
    "    if myclass.has_input:\n",
    "        mydict['has_input'] = myclass.has_input[0].label\n",
    "    if myclass.has_output:\n",
    "        mydict['has_output'] = myclass.has_output[0].label\n",
    "    if myclass.hasExactSynonym:\n",
    "        mydict['hasExactSynonym'] = str(myclass.hasExactSynonym)\n",
    "    if myclass.hasNarrowSynonym:\n",
    "        mydict['hasNarrowSynonym'] = str(myclass.hasNarrowSynonym)\n",
    "    if myclass.hasBroadSynonym:\n",
    "        mydict['hasBroadSynonym'] = str(myclass.hasBroadSynonym)\n",
    "    children = list()\n",
    "    for subclass in myclass.subclasses():\n",
    "        if (' benchmarking' not in subclass.label[0]):  #skip benchmarking classes\n",
    "            children.append(class_to_dict(subclass))\n",
    "    if len(children) > 0:\n",
    "        mydict['children'] = children\n",
    "    return mydict\n",
    "\n",
    "\n",
    "def property_to_dict(myclass):\n",
    "    mydict = dict()\n",
    "    #mydict['uri'] = myclass.iri\n",
    "    if myclass.label[0]:\n",
    "        mydict['name'] = myclass.label[0]\n",
    "    if myclass.hasDefinition:\n",
    "        mydict['description'] = myclass.hasDefinition[0]\n",
    "    if myclass.comment:\n",
    "        mydict['comment'] = myclass.comment[0]\n",
    "    if myclass.hasExactSynonym:\n",
    "        mydict['hasExactSynonym'] = str(myclass.hasExactSynonym)\n",
    "    if myclass.hasNarrowSynonym:\n",
    "        mydict['hasNarrowSynonym'] = str(myclass.hasNarrowSynonym)\n",
    "    if myclass.hasBroadSynonym:\n",
    "        mydict['hasBroadSynonym'] = str(myclass.hasBroadSynonym)\n",
    "    children = list()\n",
    "    for subclass in myclass.subclasses():\n",
    "        if (' benchmarking' not in subclass.label[0]):  #skip benchmarking classes\n",
    "            children.append(property_to_dict(subclass))\n",
    "    if len(children) > 0:\n",
    "        mydict['children'] = children\n",
    "    return mydict\n",
    "\n",
    "def write_json(filename, mydict):\n",
    "    with open(filename, 'w', encoding='utf-8') as f:\n",
    "        json.dump(mydict, f, indent=2)"
   ]
  },
  {
   "cell_type": "code",
   "execution_count": 58,
   "metadata": {},
   "outputs": [],
   "source": [
    "# Performance measure\n",
    "mydict = property_to_dict(ITO.performance_measure)\n",
    "write_json('performance-measure.json', mydict)"
   ]
  },
  {
   "cell_type": "code",
   "execution_count": 59,
   "metadata": {},
   "outputs": [],
   "source": [
    "# AI process\n",
    "mydict = class_to_dict(ITO.ITO_01625)\n",
    "write_json('ai-process.json', mydict)"
   ]
  },
  {
   "cell_type": "code",
   "execution_count": null,
   "metadata": {},
   "outputs": [],
   "source": []
  }
 ],
 "metadata": {
  "kernelspec": {
   "display_name": "Python 3",
   "language": "python",
   "name": "python3"
  },
  "language_info": {
   "codemirror_mode": {
    "name": "ipython",
    "version": 3
   },
   "file_extension": ".py",
   "mimetype": "text/x-python",
   "name": "python",
   "nbconvert_exporter": "python",
   "pygments_lexer": "ipython3",
   "version": "3.8.5"
  }
 },
 "nbformat": 4,
 "nbformat_minor": 4
}
