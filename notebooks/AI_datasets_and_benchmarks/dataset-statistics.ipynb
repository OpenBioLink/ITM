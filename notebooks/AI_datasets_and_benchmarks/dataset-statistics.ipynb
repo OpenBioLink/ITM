{
 "cells": [
  {
   "cell_type": "markdown",
   "metadata": {},
   "source": [
    "# Basic statistics for the data descriptor 'A living catalogue of artificial intelligence datasets and benchmarks for medical decision making'"
   ]
  },
  {
   "cell_type": "markdown",
   "metadata": {},
   "source": [
    "This notebook includes basic statistics of the dataset *'A living catalogue of artificial intelligence datasets and benchmarks for medical decision making'* (Version 0.1.1, see http://doi.org/10.5281/zenodo.4668570 for more information on the dataset.)"
   ]
  },
  {
   "cell_type": "code",
   "execution_count": 1,
   "metadata": {},
   "outputs": [],
   "source": [
    "import pandas as pd\n",
    "%matplotlib inline"
   ]
  },
  {
   "cell_type": "code",
   "execution_count": 2,
   "metadata": {},
   "outputs": [],
   "source": [
    "DATA = 'annotated-datasets.tsv'"
   ]
  },
  {
   "cell_type": "code",
   "execution_count": 3,
   "metadata": {},
   "outputs": [
    {
     "data": {
      "text/html": [
       "<div>\n",
       "<style scoped>\n",
       "    .dataframe tbody tr th:only-of-type {\n",
       "        vertical-align: middle;\n",
       "    }\n",
       "\n",
       "    .dataframe tbody tr th {\n",
       "        vertical-align: top;\n",
       "    }\n",
       "\n",
       "    .dataframe thead th {\n",
       "        text-align: right;\n",
       "    }\n",
       "</style>\n",
       "<table border=\"1\" class=\"dataframe\">\n",
       "  <thead>\n",
       "    <tr style=\"text-align: right;\">\n",
       "      <th></th>\n",
       "      <th>Name (or description if no name available)</th>\n",
       "      <th>Task</th>\n",
       "      <th>Mapped task</th>\n",
       "      <th>Id(s) of mapped task</th>\n",
       "      <th>Data basis</th>\n",
       "      <th>Has evaluation criteria?</th>\n",
       "      <th>Metrics</th>\n",
       "      <th>Data splits</th>\n",
       "      <th>Accessibility</th>\n",
       "      <th>Data license</th>\n",
       "      <th>...</th>\n",
       "      <th>Clinical relevance</th>\n",
       "      <th>Primary target group of task</th>\n",
       "      <th>Link: Source publication(s)</th>\n",
       "      <th>Link: Main reference</th>\n",
       "      <th>Link: Dataset</th>\n",
       "      <th>First time published</th>\n",
       "      <th>Language</th>\n",
       "      <th>Comment</th>\n",
       "      <th>Normalised task</th>\n",
       "      <th>Aliases\\r</th>\n",
       "    </tr>\n",
       "  </thead>\n",
       "  <tbody>\n",
       "    <tr>\n",
       "      <td>0</td>\n",
       "      <td>Heart Disease Data Set</td>\n",
       "      <td>Classification of Coronary Artery Disease</td>\n",
       "      <td>Image classification</td>\n",
       "      <td>https://identifiers.org/ito#ITO_01160</td>\n",
       "      <td>Clinical notes / EHR data</td>\n",
       "      <td>Yes</td>\n",
       "      <td>Not described</td>\n",
       "      <td>No</td>\n",
       "      <td>Public</td>\n",
       "      <td>Not stated</td>\n",
       "      <td>...</td>\n",
       "      <td>NaN</td>\n",
       "      <td>NaN</td>\n",
       "      <td>http://arxiv.org/abs/1812.02828v1</td>\n",
       "      <td>https://archive.ics.uci.edu/ml/datasets/Heart+...</td>\n",
       "      <td>NaN</td>\n",
       "      <td>NaN</td>\n",
       "      <td>English</td>\n",
       "      <td>NaN</td>\n",
       "      <td>NaN</td>\n",
       "      <td>\\r</td>\n",
       "    </tr>\n",
       "    <tr>\n",
       "      <td>1</td>\n",
       "      <td>Clinical data set: contains three corpora: pro...</td>\n",
       "      <td>Classifying documents as relevant or irrelevan...</td>\n",
       "      <td>Text Classification</td>\n",
       "      <td>https://identifiers.org/ito#ITO_01150</td>\n",
       "      <td>Biomedical scientfic literature</td>\n",
       "      <td>Yes</td>\n",
       "      <td>Certainty, Uncertainty, AUC,</td>\n",
       "      <td>No</td>\n",
       "      <td>On request</td>\n",
       "      <td>Not stated</td>\n",
       "      <td>...</td>\n",
       "      <td>Not relevant</td>\n",
       "      <td>NaN</td>\n",
       "      <td>https://pubmed.ncbi.nlm.nih.gov/24954015</td>\n",
       "      <td>NaN</td>\n",
       "      <td>NaN</td>\n",
       "      <td>NaN</td>\n",
       "      <td>English</td>\n",
       "      <td>NaN</td>\n",
       "      <td>NaN</td>\n",
       "      <td>\\r</td>\n",
       "    </tr>\n",
       "    <tr>\n",
       "      <td>2</td>\n",
       "      <td>Arizona Disease Corpus (AZDC)</td>\n",
       "      <td>Information extraction</td>\n",
       "      <td>Information Extraction</td>\n",
       "      <td>https://identifiers.org/ito#ITO_00705</td>\n",
       "      <td>Biomedical scientfic literature</td>\n",
       "      <td>Yes</td>\n",
       "      <td>Not described</td>\n",
       "      <td>Not described</td>\n",
       "      <td>Public</td>\n",
       "      <td>Not stated</td>\n",
       "      <td>...</td>\n",
       "      <td>Indirectly</td>\n",
       "      <td>NaN</td>\n",
       "      <td>https://pubmed.ncbi.nlm.nih.gov/25817970</td>\n",
       "      <td>http://diego.asu.edu/index.php?downloads=yes</td>\n",
       "      <td>NaN</td>\n",
       "      <td>2009.0</td>\n",
       "      <td>English</td>\n",
       "      <td>NaN</td>\n",
       "      <td>NaN</td>\n",
       "      <td>\\r</td>\n",
       "    </tr>\n",
       "    <tr>\n",
       "      <td>3</td>\n",
       "      <td>20 disease articles of twitter data</td>\n",
       "      <td>Not applicable</td>\n",
       "      <td>NaN</td>\n",
       "      <td>NaN</td>\n",
       "      <td>Social media data</td>\n",
       "      <td>No</td>\n",
       "      <td>Not applicable</td>\n",
       "      <td>No</td>\n",
       "      <td>Unknown</td>\n",
       "      <td>NaN</td>\n",
       "      <td>...</td>\n",
       "      <td>NaN</td>\n",
       "      <td>NaN</td>\n",
       "      <td>https://arxiv.org/abs/1711.04305</td>\n",
       "      <td>NaN</td>\n",
       "      <td>NaN</td>\n",
       "      <td>NaN</td>\n",
       "      <td>English</td>\n",
       "      <td>NaN</td>\n",
       "      <td>NaN</td>\n",
       "      <td>\\r</td>\n",
       "    </tr>\n",
       "    <tr>\n",
       "      <td>4</td>\n",
       "      <td>2011 MetaMapped Medline Baseline</td>\n",
       "      <td>Not applicable</td>\n",
       "      <td>NaN</td>\n",
       "      <td>NaN</td>\n",
       "      <td>Biomedical scientfic literature</td>\n",
       "      <td>No</td>\n",
       "      <td>Not applicable</td>\n",
       "      <td>No</td>\n",
       "      <td>Unknown</td>\n",
       "      <td>NaN</td>\n",
       "      <td>...</td>\n",
       "      <td>NaN</td>\n",
       "      <td>NaN</td>\n",
       "      <td>https://pubmed.ncbi.nlm.nih.gov/22195220</td>\n",
       "      <td>NaN</td>\n",
       "      <td>NaN</td>\n",
       "      <td>NaN</td>\n",
       "      <td>English</td>\n",
       "      <td>NaN</td>\n",
       "      <td>NaN</td>\n",
       "      <td>\\r</td>\n",
       "    </tr>\n",
       "  </tbody>\n",
       "</table>\n",
       "<p>5 rows × 23 columns</p>\n",
       "</div>"
      ],
      "text/plain": [
       "          Name (or description if no name available)  \\\n",
       "0                             Heart Disease Data Set   \n",
       "1  Clinical data set: contains three corpora: pro...   \n",
       "2                      Arizona Disease Corpus (AZDC)   \n",
       "3                20 disease articles of twitter data   \n",
       "4                   2011 MetaMapped Medline Baseline   \n",
       "\n",
       "                                                Task             Mapped task  \\\n",
       "0          Classification of Coronary Artery Disease    Image classification   \n",
       "1  Classifying documents as relevant or irrelevan...     Text Classification   \n",
       "2                             Information extraction  Information Extraction   \n",
       "3                                     Not applicable                     NaN   \n",
       "4                                     Not applicable                     NaN   \n",
       "\n",
       "                    Id(s) of mapped task                       Data basis  \\\n",
       "0  https://identifiers.org/ito#ITO_01160        Clinical notes / EHR data   \n",
       "1  https://identifiers.org/ito#ITO_01150  Biomedical scientfic literature   \n",
       "2  https://identifiers.org/ito#ITO_00705  Biomedical scientfic literature   \n",
       "3                                    NaN                Social media data   \n",
       "4                                    NaN  Biomedical scientfic literature   \n",
       "\n",
       "  Has evaluation criteria?                       Metrics    Data splits  \\\n",
       "0                      Yes                 Not described             No   \n",
       "1                      Yes  Certainty, Uncertainty, AUC,             No   \n",
       "2                      Yes                 Not described  Not described   \n",
       "3                       No                Not applicable             No   \n",
       "4                       No                Not applicable             No   \n",
       "\n",
       "  Accessibility Data license  ... Clinical relevance  \\\n",
       "0        Public   Not stated  ...                NaN   \n",
       "1    On request   Not stated  ...       Not relevant   \n",
       "2        Public   Not stated  ...         Indirectly   \n",
       "3       Unknown          NaN  ...                NaN   \n",
       "4       Unknown          NaN  ...                NaN   \n",
       "\n",
       "  Primary target group of task               Link: Source publication(s)  \\\n",
       "0                          NaN         http://arxiv.org/abs/1812.02828v1   \n",
       "1                          NaN  https://pubmed.ncbi.nlm.nih.gov/24954015   \n",
       "2                          NaN  https://pubmed.ncbi.nlm.nih.gov/25817970   \n",
       "3                          NaN          https://arxiv.org/abs/1711.04305   \n",
       "4                          NaN  https://pubmed.ncbi.nlm.nih.gov/22195220   \n",
       "\n",
       "                                Link: Main reference Link: Dataset  \\\n",
       "0  https://archive.ics.uci.edu/ml/datasets/Heart+...           NaN   \n",
       "1                                                NaN           NaN   \n",
       "2       http://diego.asu.edu/index.php?downloads=yes           NaN   \n",
       "3                                                NaN           NaN   \n",
       "4                                                NaN           NaN   \n",
       "\n",
       "  First time published Language Comment  Normalised task Aliases\\r  \n",
       "0                  NaN  English     NaN              NaN        \\r  \n",
       "1                  NaN  English     NaN              NaN        \\r  \n",
       "2               2009.0  English     NaN              NaN        \\r  \n",
       "3                  NaN  English     NaN              NaN        \\r  \n",
       "4                  NaN  English     NaN              NaN        \\r  \n",
       "\n",
       "[5 rows x 23 columns]"
      ]
     },
     "execution_count": 3,
     "metadata": {},
     "output_type": "execute_result"
    }
   ],
   "source": [
    "df = pd.read_csv(DATA, sep='\\t',  lineterminator='\\n')\n",
    "df.head()"
   ]
  },
  {
   "cell_type": "markdown",
   "metadata": {},
   "source": [
    "## Summary statistics for all identified datasets"
   ]
  },
  {
   "cell_type": "code",
   "execution_count": 4,
   "metadata": {},
   "outputs": [
    {
     "name": "stdout",
     "output_type": "stream",
     "text": [
      "471\n"
     ]
    }
   ],
   "source": [
    "number_of_identified_datasets = df.shape[0]\n",
    "print(number_of_identified_datasets)"
   ]
  },
  {
   "cell_type": "markdown",
   "metadata": {},
   "source": [
    "### How many of the identified datasets have evaluation criteria?"
   ]
  },
  {
   "cell_type": "code",
   "execution_count": 5,
   "metadata": {
    "scrolled": false
   },
   "outputs": [
    {
     "data": {
      "text/plain": [
       "<matplotlib.axes._subplots.AxesSubplot at 0x1b76d597438>"
      ]
     },
     "execution_count": 5,
     "metadata": {},
     "output_type": "execute_result"
    },
    {
     "data": {
      "image/png": "[encoded data removed]",
      "text/plain": [
       "<matplotlib.figure.Figure at 0x1b76d56c898>"
      ]
     },
     "metadata": {},
     "output_type": "display_data"
    }
   ],
   "source": [
    "evaluation_criteria = pd.get_dummies(df['Has evaluation criteria?']).sum()\n",
    "evaluation_criteria.plot.barh(width=0.3, figsize=(4,1), title='Availability of evaluation criteria')"
   ]
  },
  {
   "cell_type": "code",
   "execution_count": 6,
   "metadata": {},
   "outputs": [
    {
     "name": "stderr",
     "output_type": "stream",
     "text": [
      "C:\\Users\\kathrin\\Anaconda3\\lib\\site-packages\\ipykernel_launcher.py:3: UserWarning: Boolean Series key will be reindexed to match DataFrame index.\n",
      "  This is separate from the ipykernel package so we can avoid doing imports until\n"
     ]
    }
   ],
   "source": [
    "benchmark_df_filtered_for_criteria = df[df['Has evaluation criteria?']!='No']\n",
    "benchmark_df_filtered_for_accessibility = benchmark_df_filtered_for_criteria[benchmark_df_filtered_for_criteria['Accessibility']!='Unknown']\n",
    "benchmark_df_filtered_for_accessibility = benchmark_df_filtered_for_accessibility[benchmark_df_filtered_for_criteria['Accessibility']!='Not available']"
   ]
  },
  {
   "cell_type": "markdown",
   "metadata": {},
   "source": [
    "### Source data type"
   ]
  },
  {
   "cell_type": "code",
   "execution_count": 7,
   "metadata": {},
   "outputs": [
    {
     "data": {
      "text/plain": [
       "<matplotlib.axes._subplots.AxesSubplot at 0x1b76d893470>"
      ]
     },
     "execution_count": 7,
     "metadata": {},
     "output_type": "execute_result"
    },
    {
     "data": {
      "image/png": "[encoded data removed]",
      "text/plain": [
       "<matplotlib.figure.Figure at 0x1b76d56c940>"
      ]
     },
     "metadata": {},
     "output_type": "display_data"
    }
   ],
   "source": [
    "df['Data basis'] = df['Data basis'].str.split(';', expand=True)\n",
    "source_data = pd.get_dummies(df['Data basis']).sum()\n",
    "\n",
    "source_data = source_data.sort_values()[-10:]\n",
    "source_data.plot.barh(width=0.3, figsize=(5,3), title='Top 10 source data types')\n"
   ]
  },
  {
   "cell_type": "markdown",
   "metadata": {},
   "source": [
    "### Accessibility of datasets"
   ]
  },
  {
   "cell_type": "code",
   "execution_count": 8,
   "metadata": {},
   "outputs": [
    {
     "data": {
      "text/plain": [
       "<matplotlib.axes._subplots.AxesSubplot at 0x1b76d908e48>"
      ]
     },
     "execution_count": 8,
     "metadata": {},
     "output_type": "execute_result"
    },
    {
     "data": {
      "image/png": "[encoded data removed]",
      "text/plain": [
       "<matplotlib.figure.Figure at 0x1b76d90b4a8>"
      ]
     },
     "metadata": {},
     "output_type": "display_data"
    }
   ],
   "source": [
    "accessibility = pd.get_dummies(benchmark_df_filtered_for_criteria['Accessibility']).sum()\n",
    "accessibility.sort_values().plot.barh(width=0.3, figsize=(4,3), title='Accessibility')"
   ]
  },
  {
   "cell_type": "markdown",
   "metadata": {},
   "source": [
    "### How many of the identified datasets are relevant for clinical question-answering and information retrieval?"
   ]
  },
  {
   "cell_type": "code",
   "execution_count": 9,
   "metadata": {
    "scrolled": true
   },
   "outputs": [
    {
     "data": {
      "text/plain": [
       "<matplotlib.axes._subplots.AxesSubplot at 0x1b76dd72358>"
      ]
     },
     "execution_count": 9,
     "metadata": {},
     "output_type": "execute_result"
    },
    {
     "data": {
      "image/png": "[encoded data removed]",
      "text/plain": [
       "<matplotlib.figure.Figure at 0x1b76dd44588>"
      ]
     },
     "metadata": {},
     "output_type": "display_data"
    }
   ],
   "source": [
    "qa_ir = pd.get_dummies(benchmark_df_filtered_for_criteria['Relevant for QA/IR?']).sum()\n",
    "qa_ir.plot.barh(width=0.3, figsize=(4,2), title='Relevance for QA and IR')"
   ]
  },
  {
   "cell_type": "markdown",
   "metadata": {},
   "source": [
    "### Availability of data splits"
   ]
  },
  {
   "cell_type": "code",
   "execution_count": 10,
   "metadata": {
    "scrolled": true
   },
   "outputs": [
    {
     "data": {
      "text/plain": [
       "<matplotlib.axes._subplots.AxesSubplot at 0x1b76dd89630>"
      ]
     },
     "execution_count": 10,
     "metadata": {},
     "output_type": "execute_result"
    },
    {
     "data": {
      "image/png": "[encoded data removed]",
      "text/plain": [
       "<matplotlib.figure.Figure at 0x1b76dd9eac8>"
      ]
     },
     "metadata": {},
     "output_type": "display_data"
    }
   ],
   "source": [
    "data_splits = pd.get_dummies(benchmark_df_filtered_for_criteria['Data splits']).sum()\n",
    "data_splits.sort_values().plot.barh(width=0.3, figsize=(4,2), title='Availability of data splits')"
   ]
  },
  {
   "cell_type": "markdown",
   "metadata": {},
   "source": [
    "### Tasks"
   ]
  },
  {
   "cell_type": "code",
   "execution_count": 11,
   "metadata": {},
   "outputs": [
    {
     "data": {
      "text/plain": [
       "<matplotlib.axes._subplots.AxesSubplot at 0x1b76edd37b8>"
      ]
     },
     "execution_count": 11,
     "metadata": {},
     "output_type": "execute_result"
    },
    {
     "data": {
      "image/png": "[encoded data removed]",
      "text/plain": [
       "<matplotlib.figure.Figure at 0x1b76edb6780>"
      ]
     },
     "metadata": {},
     "output_type": "display_data"
    }
   ],
   "source": [
    "tasks = pd.get_dummies(df['Task']).sum()\n",
    "tasks.sort_values(ascending=True).tail(10).plot.barh(width=0.3, figsize=(4,3), title='Top 10 tasks')"
   ]
  },
  {
   "cell_type": "markdown",
   "metadata": {},
   "source": [
    "### Mapped tasks"
   ]
  },
  {
   "cell_type": "code",
   "execution_count": 12,
   "metadata": {
    "scrolled": true
   },
   "outputs": [
    {
     "data": {
      "text/plain": [
       "<matplotlib.axes._subplots.AxesSubplot at 0x1b76ee5e160>"
      ]
     },
     "execution_count": 12,
     "metadata": {},
     "output_type": "execute_result"
    },
    {
     "data": {
      "image/png": "[encoded data removed]",
      "text/plain": [
       "<matplotlib.figure.Figure at 0x1b76ee53da0>"
      ]
     },
     "metadata": {},
     "output_type": "display_data"
    }
   ],
   "source": [
    "mapped_tasks = df['Mapped task'].str.split(';', expand=True)\n",
    "mapped_tasks = mapped_tasks.melt().dropna()\n",
    "mapped_tasks = pd.get_dummies(mapped_tasks['value']).sum()\n",
    "mapped_tasks.sort_values(ascending=True).tail(10).plot.barh(width=0.3, figsize=(4,3), title='Top 10 task families')"
   ]
  }
 ],
 "metadata": {
  "kernelspec": {
   "display_name": "Python 3",
   "language": "python",
   "name": "python3"
  },
  "language_info": {
   "codemirror_mode": {
    "name": "ipython",
    "version": 3
   },
   "file_extension": ".py",
   "mimetype": "text/x-python",
   "name": "python",
   "nbconvert_exporter": "python",
   "pygments_lexer": "ipython3",
   "version": "3.6.3"
  }
 },
 "nbformat": 4,
 "nbformat_minor": 2
}
